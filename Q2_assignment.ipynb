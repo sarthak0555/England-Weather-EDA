{
 "cells": [
  {
   "cell_type": "code",
   "execution_count": null,
   "id": "f0cf5e29",
   "metadata": {},
   "outputs": [],
   "source": [
    "#A"
   ]
  },
  {
   "cell_type": "code",
   "execution_count": 24,
   "id": "f6a756e5",
   "metadata": {
    "ExecuteTime": {
     "end_time": "2024-06-08T12:32:05.480793Z",
     "start_time": "2024-06-08T12:32:05.474589Z"
    }
   },
   "outputs": [],
   "source": [
    "import os\n",
    "import pandas as pd"
   ]
  },
  {
   "cell_type": "code",
   "execution_count": 25,
   "id": "adc7e993",
   "metadata": {
    "ExecuteTime": {
     "end_time": "2024-06-08T12:32:05.821340Z",
     "start_time": "2024-06-08T12:32:05.815731Z"
    }
   },
   "outputs": [],
   "source": [
    "# Adjust this path based on where your data is located\n",
    "root_dir = os.path.expanduser(\"~/Downloads/Omind_data_assignment/Q2/data\")"
   ]
  },
  {
   "cell_type": "code",
   "execution_count": 26,
   "id": "6bc4632b",
   "metadata": {
    "ExecuteTime": {
     "end_time": "2024-06-08T12:32:06.136307Z",
     "start_time": "2024-06-08T12:32:06.131764Z"
    }
   },
   "outputs": [],
   "source": [
    "# Initialize variables to track the column with the highest sum\n",
    "max_sum = -float('inf')\n",
    "max_sum_column = None\n",
    "max_sum_folder = None\n",
    "max_sum_file = None"
   ]
  },
  {
   "cell_type": "code",
   "execution_count": 27,
   "id": "73ec0404",
   "metadata": {
    "ExecuteTime": {
     "end_time": "2024-06-08T12:32:11.291104Z",
     "start_time": "2024-06-08T12:32:06.834198Z"
    }
   },
   "outputs": [
    {
     "name": "stdout",
     "output_type": "stream",
     "text": [
      "Could not process file /Users/sarthakchawla/Downloads/Omind_data_assignment/Q2/data/9/100.xlsx: 'utf-8' codec can't decode bytes in position 15-16: invalid continuation byte\n",
      "Could not process file /Users/sarthakchawla/Downloads/Omind_data_assignment/Q2/data/9/2.xlsx: 'utf-8' codec can't decode byte 0x90 in position 22: invalid start byte\n",
      "Could not process file /Users/sarthakchawla/Downloads/Omind_data_assignment/Q2/data/1/4.xlsx: 'utf-8' codec can't decode byte 0x90 in position 22: invalid start byte\n",
      "Could not process file /Users/sarthakchawla/Downloads/Omind_data_assignment/Q2/data/1/14.xlsx: 'utf-8' codec can't decode byte 0x90 in position 22: invalid start byte\n",
      "Could not process file /Users/sarthakchawla/Downloads/Omind_data_assignment/Q2/data/1/8.xlsx: 'utf-8' codec can't decode byte 0x90 in position 22: invalid start byte\n",
      "Could not process file /Users/sarthakchawla/Downloads/Omind_data_assignment/Q2/data/1/3.xlsx: 'utf-8' codec can't decode byte 0x90 in position 22: invalid start byte\n",
      "Could not process file /Users/sarthakchawla/Downloads/Omind_data_assignment/Q2/data/1/2.xlsx: 'utf-8' codec can't decode byte 0xbd in position 15: invalid start byte\n",
      "Could not process file /Users/sarthakchawla/Downloads/Omind_data_assignment/Q2/data/1/1.xlsx: 'utf-8' codec can't decode byte 0xad in position 14: invalid start byte\n",
      "Could not process file /Users/sarthakchawla/Downloads/Omind_data_assignment/Q2/data/3/Store_Locations.R: Error tokenizing data. C error: Expected 1 fields in line 9, saw 2\n",
      "\n",
      "Could not process file /Users/sarthakchawla/Downloads/Omind_data_assignment/Q2/data/2/3.xlsx: 'utf-8' codec can't decode byte 0xad in position 14: invalid start byte\n",
      "Could not process file /Users/sarthakchawla/Downloads/Omind_data_assignment/Q2/data/2/2.xlsx: 'utf-8' codec can't decode byte 0xad in position 14: invalid start byte\n",
      "Could not process file /Users/sarthakchawla/Downloads/Omind_data_assignment/Q2/data/2/1.xlsx: 'utf-8' codec can't decode byte 0xad in position 14: invalid start byte\n",
      "The column with the highest sum is 'X5' in file '42.csv' of folder '3' with a sum of 8222.\n"
     ]
    }
   ],
   "source": [
    "# Check if the directory exists\n",
    "if os.path.exists(root_dir):\n",
    "    # Iterate through each folder in the root directory\n",
    "    for folder in os.listdir(root_dir):\n",
    "        folder_path = os.path.join(root_dir, folder)\n",
    "        if os.path.isdir(folder_path):\n",
    "            # Iterate through each file in the folder\n",
    "            for file_name in os.listdir(folder_path):\n",
    "                file_path = os.path.join(folder_path, file_name)\n",
    "                if os.path.isfile(file_path):\n",
    "                    try:\n",
    "                        # Read the file into a DataFrame\n",
    "                        df = pd.read_csv(file_path)\n",
    "                        \n",
    "                        # Iterate through each column in the DataFrame\n",
    "                        for column in df.columns:\n",
    "                            column_sum = df[column].sum()\n",
    "                            \n",
    "                            # Update the tracking variables if this column has the highest sum so far\n",
    "                            if column_sum > max_sum:\n",
    "                                max_sum = column_sum\n",
    "                                max_sum_column = column\n",
    "                                max_sum_folder = folder\n",
    "                                max_sum_file = file_name\n",
    "                    except Exception as e:\n",
    "                        print(f\"Could not process file {file_path}: {e}\")\n",
    "\n",
    "    # Display the result\n",
    "    result = f\"The column with the highest sum is '{max_sum_column}' in file '{max_sum_file}' of folder '{max_sum_folder}' with a sum of {max_sum}.\"\n",
    "else:\n",
    "    result = \"The specified directory does not exist.\"\n",
    "\n",
    "print(result)\n"
   ]
  },
  {
   "cell_type": "code",
   "execution_count": 28,
   "id": "48b95415",
   "metadata": {
    "ExecuteTime": {
     "end_time": "2024-06-08T12:35:55.164672Z",
     "start_time": "2024-06-08T12:35:55.160241Z"
    }
   },
   "outputs": [],
   "source": [
    "#B"
   ]
  },
  {
   "cell_type": "code",
   "execution_count": 29,
   "id": "d63527aa",
   "metadata": {
    "ExecuteTime": {
     "end_time": "2024-06-08T12:36:18.682621Z",
     "start_time": "2024-06-08T12:36:18.675278Z"
    }
   },
   "outputs": [],
   "source": [
    "# Initialize variables to track the column with the lowest median\n",
    "min_median = float('inf')\n",
    "min_median_column = None\n",
    "min_median_folder = None\n",
    "min_median_file = None\n"
   ]
  },
  {
   "cell_type": "code",
   "execution_count": 32,
   "id": "53580b01",
   "metadata": {
    "ExecuteTime": {
     "end_time": "2024-06-08T12:39:08.891967Z",
     "start_time": "2024-06-08T12:39:06.534357Z"
    }
   },
   "outputs": [
    {
     "name": "stdout",
     "output_type": "stream",
     "text": [
      "Could not process file /Users/sarthakchawla/Downloads/Omind_data_assignment/Q2/data/9/100.xlsx: 'utf-8' codec can't decode bytes in position 15-16: invalid continuation byte\n",
      "Could not process file /Users/sarthakchawla/Downloads/Omind_data_assignment/Q2/data/9/2.xlsx: 'utf-8' codec can't decode byte 0x90 in position 22: invalid start byte\n",
      "Could not process file /Users/sarthakchawla/Downloads/Omind_data_assignment/Q2/data/1/4.xlsx: 'utf-8' codec can't decode byte 0x90 in position 22: invalid start byte\n",
      "Could not process file /Users/sarthakchawla/Downloads/Omind_data_assignment/Q2/data/1/14.xlsx: 'utf-8' codec can't decode byte 0x90 in position 22: invalid start byte\n",
      "Could not process file /Users/sarthakchawla/Downloads/Omind_data_assignment/Q2/data/1/8.xlsx: 'utf-8' codec can't decode byte 0x90 in position 22: invalid start byte\n",
      "Could not process file /Users/sarthakchawla/Downloads/Omind_data_assignment/Q2/data/1/3.xlsx: 'utf-8' codec can't decode byte 0x90 in position 22: invalid start byte\n",
      "Could not process file /Users/sarthakchawla/Downloads/Omind_data_assignment/Q2/data/1/2.xlsx: 'utf-8' codec can't decode byte 0xbd in position 15: invalid start byte\n",
      "Could not process file /Users/sarthakchawla/Downloads/Omind_data_assignment/Q2/data/1/1.xlsx: 'utf-8' codec can't decode byte 0xad in position 14: invalid start byte\n",
      "Could not process file /Users/sarthakchawla/Downloads/Omind_data_assignment/Q2/data/3/Store_Locations.R: Error tokenizing data. C error: Expected 1 fields in line 9, saw 2\n",
      "\n",
      "Could not process file /Users/sarthakchawla/Downloads/Omind_data_assignment/Q2/data/2/3.xlsx: 'utf-8' codec can't decode byte 0xad in position 14: invalid start byte\n",
      "Could not process file /Users/sarthakchawla/Downloads/Omind_data_assignment/Q2/data/2/2.xlsx: 'utf-8' codec can't decode byte 0xad in position 14: invalid start byte\n",
      "Could not process file /Users/sarthakchawla/Downloads/Omind_data_assignment/Q2/data/2/1.xlsx: 'utf-8' codec can't decode byte 0xad in position 14: invalid start byte\n",
      "The column with the lowest median is 'X3' in file '18.csv' of folder '1' with a median of 102.5.\n"
     ]
    }
   ],
   "source": [
    "# Check if the directory exists\n",
    "if os.path.exists(root_dir):\n",
    "    # Iterate through each folder in the root directory\n",
    "    for folder in os.listdir(root_dir):\n",
    "        folder_path = os.path.join(root_dir, folder)\n",
    "        if os.path.isdir(folder_path):\n",
    "            # Iterate through each file in the folder\n",
    "            for file_name in os.listdir(folder_path):\n",
    "                file_path = os.path.join(folder_path, file_name)\n",
    "                if os.path.isfile(file_path):\n",
    "                    try:\n",
    "                        # Read the file into a DataFrame\n",
    "                        df = pd.read_csv(file_path)\n",
    "                        \n",
    "                        # Iterate through each column in the DataFrame\n",
    "                        for column in df.columns:\n",
    "                            column_median = df[column].median()\n",
    "                            \n",
    "                            # Update the tracking variables if this column has the lowest median so far\n",
    "                            if column_median < min_median:\n",
    "                                min_median = column_median\n",
    "                                min_median_column = column\n",
    "                                min_median_folder = folder\n",
    "                                min_median_file = file_name\n",
    "                    except Exception as e:\n",
    "                        print(f\"Could not process file {file_path}: {e}\")\n",
    "\n",
    "    # Display the result\n",
    "    result = f\"The column with the lowest median is '{min_median_column}' in file '{min_median_file}' of folder '{min_median_folder}' with a median of {min_median}.\"\n",
    "else:\n",
    "    result = \"The specified directory does not exist.\"\n",
    "\n",
    "print(result)"
   ]
  },
  {
   "cell_type": "code",
   "execution_count": 33,
   "id": "7e1857dd",
   "metadata": {
    "ExecuteTime": {
     "end_time": "2024-06-08T12:44:29.736931Z",
     "start_time": "2024-06-08T12:44:29.730621Z"
    }
   },
   "outputs": [],
   "source": [
    "#C"
   ]
  },
  {
   "cell_type": "code",
   "execution_count": 34,
   "id": "ba5169bd",
   "metadata": {
    "ExecuteTime": {
     "end_time": "2024-06-08T12:44:54.631499Z",
     "start_time": "2024-06-08T12:44:54.625405Z"
    }
   },
   "outputs": [],
   "source": [
    "# Initialize variables to track the column with the highest standard deviation\n",
    "max_std = -float('inf')\n",
    "max_std_column = None\n",
    "max_std_folder = None\n",
    "max_std_file = None"
   ]
  },
  {
   "cell_type": "code",
   "execution_count": 35,
   "id": "3f2cb273",
   "metadata": {
    "ExecuteTime": {
     "end_time": "2024-06-08T12:45:37.041176Z",
     "start_time": "2024-06-08T12:45:34.111060Z"
    }
   },
   "outputs": [
    {
     "name": "stdout",
     "output_type": "stream",
     "text": [
      "Could not process file /Users/sarthakchawla/Downloads/Omind_data_assignment/Q2/data/9/100.xlsx: 'utf-8' codec can't decode bytes in position 15-16: invalid continuation byte\n",
      "Could not process file /Users/sarthakchawla/Downloads/Omind_data_assignment/Q2/data/9/2.xlsx: 'utf-8' codec can't decode byte 0x90 in position 22: invalid start byte\n",
      "Could not process file /Users/sarthakchawla/Downloads/Omind_data_assignment/Q2/data/1/4.xlsx: 'utf-8' codec can't decode byte 0x90 in position 22: invalid start byte\n",
      "Could not process file /Users/sarthakchawla/Downloads/Omind_data_assignment/Q2/data/1/14.xlsx: 'utf-8' codec can't decode byte 0x90 in position 22: invalid start byte\n",
      "Could not process file /Users/sarthakchawla/Downloads/Omind_data_assignment/Q2/data/1/8.xlsx: 'utf-8' codec can't decode byte 0x90 in position 22: invalid start byte\n",
      "Could not process file /Users/sarthakchawla/Downloads/Omind_data_assignment/Q2/data/1/3.xlsx: 'utf-8' codec can't decode byte 0x90 in position 22: invalid start byte\n",
      "Could not process file /Users/sarthakchawla/Downloads/Omind_data_assignment/Q2/data/1/2.xlsx: 'utf-8' codec can't decode byte 0xbd in position 15: invalid start byte\n",
      "Could not process file /Users/sarthakchawla/Downloads/Omind_data_assignment/Q2/data/1/1.xlsx: 'utf-8' codec can't decode byte 0xad in position 14: invalid start byte\n",
      "Could not process file /Users/sarthakchawla/Downloads/Omind_data_assignment/Q2/data/3/Store_Locations.R: Error tokenizing data. C error: Expected 1 fields in line 9, saw 2\n",
      "\n",
      "Could not process file /Users/sarthakchawla/Downloads/Omind_data_assignment/Q2/data/2/3.xlsx: 'utf-8' codec can't decode byte 0xad in position 14: invalid start byte\n",
      "Could not process file /Users/sarthakchawla/Downloads/Omind_data_assignment/Q2/data/2/2.xlsx: 'utf-8' codec can't decode byte 0xad in position 14: invalid start byte\n",
      "Could not process file /Users/sarthakchawla/Downloads/Omind_data_assignment/Q2/data/2/1.xlsx: 'utf-8' codec can't decode byte 0xad in position 14: invalid start byte\n",
      "The column with the highest standard deviation is 'X3' in file '20.csv' of folder '10' with a standard deviation of 440.48932387112905.\n"
     ]
    }
   ],
   "source": [
    "# Check if the directory exists\n",
    "if os.path.exists(root_dir):\n",
    "    # Iterate through each folder in the root directory\n",
    "    for folder in os.listdir(root_dir):\n",
    "        folder_path = os.path.join(root_dir, folder)\n",
    "        if os.path.isdir(folder_path):\n",
    "            # Iterate through each file in the folder\n",
    "            for file_name in os.listdir(folder_path):\n",
    "                file_path = os.path.join(folder_path, file_name)\n",
    "                if os.path.isfile(file_path):\n",
    "                    try:\n",
    "                        # Read the file into a DataFrame\n",
    "                        df = pd.read_csv(file_path)\n",
    "                        \n",
    "                        # Iterate through each column in the DataFrame\n",
    "                        for column in df.columns:\n",
    "                            column_std = df[column].std()\n",
    "                            \n",
    "                            # Update the tracking variables if this column has the highest standard deviation so far\n",
    "                            if column_std > max_std:\n",
    "                                max_std = column_std\n",
    "                                max_std_column = column\n",
    "                                max_std_folder = folder\n",
    "                                max_std_file = file_name\n",
    "                    except Exception as e:\n",
    "                        print(f\"Could not process file {file_path}: {e}\")\n",
    "\n",
    "    # Display the result\n",
    "    result = f\"The column with the highest standard deviation is '{max_std_column}' in file '{max_std_file}' of folder '{max_std_folder}' with a standard deviation of {max_std}.\"\n",
    "else:\n",
    "    result = \"The specified directory does not exist.\"\n",
    "\n",
    "print(result)"
   ]
  },
  {
   "cell_type": "code",
   "execution_count": 36,
   "id": "be62126d",
   "metadata": {
    "ExecuteTime": {
     "end_time": "2024-06-08T12:47:20.729682Z",
     "start_time": "2024-06-08T12:47:20.723885Z"
    }
   },
   "outputs": [],
   "source": [
    "#D"
   ]
  },
  {
   "cell_type": "code",
   "execution_count": 37,
   "id": "b9cab1a7",
   "metadata": {
    "ExecuteTime": {
     "end_time": "2024-06-08T12:47:23.758894Z",
     "start_time": "2024-06-08T12:47:23.752344Z"
    }
   },
   "outputs": [],
   "source": [
    "# Initialize variables to track the column with the lowest maximum value\n",
    "min_max_value = float('inf')\n",
    "min_max_column = None\n",
    "min_max_folder = None\n",
    "min_max_file = None"
   ]
  },
  {
   "cell_type": "code",
   "execution_count": 38,
   "id": "da5a6a5c",
   "metadata": {
    "ExecuteTime": {
     "end_time": "2024-06-08T12:47:48.685788Z",
     "start_time": "2024-06-08T12:47:46.066317Z"
    }
   },
   "outputs": [
    {
     "name": "stdout",
     "output_type": "stream",
     "text": [
      "Could not process file /Users/sarthakchawla/Downloads/Omind_data_assignment/Q2/data/9/100.xlsx: 'utf-8' codec can't decode bytes in position 15-16: invalid continuation byte\n",
      "Could not process file /Users/sarthakchawla/Downloads/Omind_data_assignment/Q2/data/9/2.xlsx: 'utf-8' codec can't decode byte 0x90 in position 22: invalid start byte\n",
      "Could not process file /Users/sarthakchawla/Downloads/Omind_data_assignment/Q2/data/1/4.xlsx: 'utf-8' codec can't decode byte 0x90 in position 22: invalid start byte\n",
      "Could not process file /Users/sarthakchawla/Downloads/Omind_data_assignment/Q2/data/1/14.xlsx: 'utf-8' codec can't decode byte 0x90 in position 22: invalid start byte\n",
      "Could not process file /Users/sarthakchawla/Downloads/Omind_data_assignment/Q2/data/1/8.xlsx: 'utf-8' codec can't decode byte 0x90 in position 22: invalid start byte\n",
      "Could not process file /Users/sarthakchawla/Downloads/Omind_data_assignment/Q2/data/1/3.xlsx: 'utf-8' codec can't decode byte 0x90 in position 22: invalid start byte\n",
      "Could not process file /Users/sarthakchawla/Downloads/Omind_data_assignment/Q2/data/1/2.xlsx: 'utf-8' codec can't decode byte 0xbd in position 15: invalid start byte\n",
      "Could not process file /Users/sarthakchawla/Downloads/Omind_data_assignment/Q2/data/1/1.xlsx: 'utf-8' codec can't decode byte 0xad in position 14: invalid start byte\n",
      "Could not process file /Users/sarthakchawla/Downloads/Omind_data_assignment/Q2/data/3/Store_Locations.R: Error tokenizing data. C error: Expected 1 fields in line 9, saw 2\n",
      "\n",
      "Could not process file /Users/sarthakchawla/Downloads/Omind_data_assignment/Q2/data/2/3.xlsx: 'utf-8' codec can't decode byte 0xad in position 14: invalid start byte\n",
      "Could not process file /Users/sarthakchawla/Downloads/Omind_data_assignment/Q2/data/2/2.xlsx: 'utf-8' codec can't decode byte 0xad in position 14: invalid start byte\n",
      "Could not process file /Users/sarthakchawla/Downloads/Omind_data_assignment/Q2/data/2/1.xlsx: 'utf-8' codec can't decode byte 0xad in position 14: invalid start byte\n",
      "The column with the lowest maximum value is 'X1' in file '92.csv' of folder '3' with a maximum value of 419.\n"
     ]
    }
   ],
   "source": [
    "# Check if the directory exists\n",
    "if os.path.exists(root_dir):\n",
    "    # Iterate through each folder in the root directory\n",
    "    for folder in os.listdir(root_dir):\n",
    "        folder_path = os.path.join(root_dir, folder)\n",
    "        if os.path.isdir(folder_path):\n",
    "            # Iterate through each file in the folder\n",
    "            for file_name in os.listdir(folder_path):\n",
    "                file_path = os.path.join(folder_path, file_name)\n",
    "                if os.path.isfile(file_path):\n",
    "                    try:\n",
    "                        # Read the file into a DataFrame\n",
    "                        df = pd.read_csv(file_path)\n",
    "                        \n",
    "                        # Iterate through each column in the DataFrame\n",
    "                        for column in df.columns:\n",
    "                            column_max = df[column].max()\n",
    "                            \n",
    "                            # Update the tracking variables if this column has the lowest maximum value so far\n",
    "                            if column_max < min_max_value:\n",
    "                                min_max_value = column_max\n",
    "                                min_max_column = column\n",
    "                                min_max_folder = folder\n",
    "                                min_max_file = file_name\n",
    "                    except Exception as e:\n",
    "                        print(f\"Could not process file {file_path}: {e}\")\n",
    "\n",
    "    # Display the result\n",
    "    result = f\"The column with the lowest maximum value is '{min_max_column}' in file '{min_max_file}' of folder '{min_max_folder}' with a maximum value of {min_max_value}.\"\n",
    "else:\n",
    "    result = \"The specified directory does not exist.\"\n",
    "\n",
    "print(result)"
   ]
  },
  {
   "cell_type": "code",
   "execution_count": null,
   "id": "ec5f5570",
   "metadata": {},
   "outputs": [],
   "source": []
  }
 ],
 "metadata": {
  "kernelspec": {
   "display_name": "Python 3 (ipykernel)",
   "language": "python",
   "name": "python3"
  },
  "language_info": {
   "codemirror_mode": {
    "name": "ipython",
    "version": 3
   },
   "file_extension": ".py",
   "mimetype": "text/x-python",
   "name": "python",
   "nbconvert_exporter": "python",
   "pygments_lexer": "ipython3",
   "version": "3.9.12"
  },
  "toc": {
   "base_numbering": 1,
   "nav_menu": {},
   "number_sections": true,
   "sideBar": true,
   "skip_h1_title": false,
   "title_cell": "Table of Contents",
   "title_sidebar": "Contents",
   "toc_cell": false,
   "toc_position": {},
   "toc_section_display": true,
   "toc_window_display": false
  },
  "varInspector": {
   "cols": {
    "lenName": 16,
    "lenType": 16,
    "lenVar": 40
   },
   "kernels_config": {
    "python": {
     "delete_cmd_postfix": "",
     "delete_cmd_prefix": "del ",
     "library": "var_list.py",
     "varRefreshCmd": "print(var_dic_list())"
    },
    "r": {
     "delete_cmd_postfix": ") ",
     "delete_cmd_prefix": "rm(",
     "library": "var_list.r",
     "varRefreshCmd": "cat(var_dic_list()) "
    }
   },
   "types_to_exclude": [
    "module",
    "function",
    "builtin_function_or_method",
    "instance",
    "_Feature"
   ],
   "window_display": false
  }
 },
 "nbformat": 4,
 "nbformat_minor": 5
}
