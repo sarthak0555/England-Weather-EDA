{
 "cells": [
  {
   "cell_type": "code",
   "execution_count": 2,
   "metadata": {
    "colab": {
     "base_uri": "https://localhost:8080/",
     "height": 204
    },
    "id": "Utx5cE9NDaGv",
    "outputId": "1581bab3-20cf-459f-ff16-82ce512c1b31"
   },
   "outputs": [
    {
     "data": {
      "text/html": [
       "\n",
       "  <div id=\"df-33e178cb-6691-4158-a8cd-a364b29c8220\" class=\"colab-df-container\">\n",
       "    <div>\n",
       "<style scoped>\n",
       "    .dataframe tbody tr th:only-of-type {\n",
       "        vertical-align: middle;\n",
       "    }\n",
       "\n",
       "    .dataframe tbody tr th {\n",
       "        vertical-align: top;\n",
       "    }\n",
       "\n",
       "    .dataframe thead th {\n",
       "        text-align: right;\n",
       "    }\n",
       "</style>\n",
       "<table border=\"1\" class=\"dataframe\">\n",
       "  <thead>\n",
       "    <tr style=\"text-align: right;\">\n",
       "      <th></th>\n",
       "      <th>Name</th>\n",
       "      <th>comments</th>\n",
       "      <th>Date</th>\n",
       "    </tr>\n",
       "  </thead>\n",
       "  <tbody>\n",
       "    <tr>\n",
       "      <th>0</th>\n",
       "      <td>Mazda 3s</td>\n",
       "      <td>After months of releasing preview images and s...</td>\n",
       "      <td>August 29, 2022</td>\n",
       "    </tr>\n",
       "    <tr>\n",
       "      <th>1</th>\n",
       "      <td>Darepoole</td>\n",
       "      <td>It looks like the Macan with a little bit of I...</td>\n",
       "      <td>March 22, 2022</td>\n",
       "    </tr>\n",
       "    <tr>\n",
       "      <th>2</th>\n",
       "      <td>JackStraw79</td>\n",
       "      <td>Nice hot hatch!</td>\n",
       "      <td>March 22, 2022</td>\n",
       "    </tr>\n",
       "    <tr>\n",
       "      <th>3</th>\n",
       "      <td>CostcoPizza</td>\n",
       "      <td>Looks like a car you'd find in GTA V DLC, whic...</td>\n",
       "      <td>March 22, 2022</td>\n",
       "    </tr>\n",
       "    <tr>\n",
       "      <th>4</th>\n",
       "      <td>Venom21</td>\n",
       "      <td>Terrible gloss black: CheckTerrible touchscree...</td>\n",
       "      <td>March 22, 2022</td>\n",
       "    </tr>\n",
       "  </tbody>\n",
       "</table>\n",
       "</div>\n",
       "    <div class=\"colab-df-buttons\">\n",
       "\n",
       "  <div class=\"colab-df-container\">\n",
       "    <button class=\"colab-df-convert\" onclick=\"convertToInteractive('df-33e178cb-6691-4158-a8cd-a364b29c8220')\"\n",
       "            title=\"Convert this dataframe to an interactive table.\"\n",
       "            style=\"display:none;\">\n",
       "\n",
       "  <svg xmlns=\"http://www.w3.org/2000/svg\" height=\"24px\" viewBox=\"0 -960 960 960\">\n",
       "    <path d=\"M120-120v-720h720v720H120Zm60-500h600v-160H180v160Zm220 220h160v-160H400v160Zm0 220h160v-160H400v160ZM180-400h160v-160H180v160Zm440 0h160v-160H620v160ZM180-180h160v-160H180v160Zm440 0h160v-160H620v160Z\"/>\n",
       "  </svg>\n",
       "    </button>\n",
       "\n",
       "  <style>\n",
       "    .colab-df-container {\n",
       "      display:flex;\n",
       "      gap: 12px;\n",
       "    }\n",
       "\n",
       "    .colab-df-convert {\n",
       "      background-color: #E8F0FE;\n",
       "      border: none;\n",
       "      border-radius: 50%;\n",
       "      cursor: pointer;\n",
       "      display: none;\n",
       "      fill: #1967D2;\n",
       "      height: 32px;\n",
       "      padding: 0 0 0 0;\n",
       "      width: 32px;\n",
       "    }\n",
       "\n",
       "    .colab-df-convert:hover {\n",
       "      background-color: #E2EBFA;\n",
       "      box-shadow: 0px 1px 2px rgba(60, 64, 67, 0.3), 0px 1px 3px 1px rgba(60, 64, 67, 0.15);\n",
       "      fill: #174EA6;\n",
       "    }\n",
       "\n",
       "    .colab-df-buttons div {\n",
       "      margin-bottom: 4px;\n",
       "    }\n",
       "\n",
       "    [theme=dark] .colab-df-convert {\n",
       "      background-color: #3B4455;\n",
       "      fill: #D2E3FC;\n",
       "    }\n",
       "\n",
       "    [theme=dark] .colab-df-convert:hover {\n",
       "      background-color: #434B5C;\n",
       "      box-shadow: 0px 1px 3px 1px rgba(0, 0, 0, 0.15);\n",
       "      filter: drop-shadow(0px 1px 2px rgba(0, 0, 0, 0.3));\n",
       "      fill: #FFFFFF;\n",
       "    }\n",
       "  </style>\n",
       "\n",
       "    <script>\n",
       "      const buttonEl =\n",
       "        document.querySelector('#df-33e178cb-6691-4158-a8cd-a364b29c8220 button.colab-df-convert');\n",
       "      buttonEl.style.display =\n",
       "        google.colab.kernel.accessAllowed ? 'block' : 'none';\n",
       "\n",
       "      async function convertToInteractive(key) {\n",
       "        const element = document.querySelector('#df-33e178cb-6691-4158-a8cd-a364b29c8220');\n",
       "        const dataTable =\n",
       "          await google.colab.kernel.invokeFunction('convertToInteractive',\n",
       "                                                    [key], {});\n",
       "        if (!dataTable) return;\n",
       "\n",
       "        const docLinkHtml = 'Like what you see? Visit the ' +\n",
       "          '<a target=\"_blank\" href=https://colab.research.google.com/notebooks/data_table.ipynb>data table notebook</a>'\n",
       "          + ' to learn more about interactive tables.';\n",
       "        element.innerHTML = '';\n",
       "        dataTable['output_type'] = 'display_data';\n",
       "        await google.colab.output.renderOutput(dataTable, element);\n",
       "        const docLink = document.createElement('div');\n",
       "        docLink.innerHTML = docLinkHtml;\n",
       "        element.appendChild(docLink);\n",
       "      }\n",
       "    </script>\n",
       "  </div>\n",
       "\n",
       "\n",
       "<div id=\"df-c84449ca-193c-43a4-9bbe-0a215ccaafa6\">\n",
       "  <button class=\"colab-df-quickchart\" onclick=\"quickchart('df-c84449ca-193c-43a4-9bbe-0a215ccaafa6')\"\n",
       "            title=\"Suggest charts.\"\n",
       "            style=\"display:none;\">\n",
       "\n",
       "<svg xmlns=\"http://www.w3.org/2000/svg\" height=\"24px\"viewBox=\"0 0 24 24\"\n",
       "     width=\"24px\">\n",
       "    <g>\n",
       "        <path d=\"M19 3H5c-1.1 0-2 .9-2 2v14c0 1.1.9 2 2 2h14c1.1 0 2-.9 2-2V5c0-1.1-.9-2-2-2zM9 17H7v-7h2v7zm4 0h-2V7h2v10zm4 0h-2v-4h2v4z\"/>\n",
       "    </g>\n",
       "</svg>\n",
       "  </button>\n",
       "\n",
       "<style>\n",
       "  .colab-df-quickchart {\n",
       "    background-color: #E8F0FE;\n",
       "    border: none;\n",
       "    border-radius: 50%;\n",
       "    cursor: pointer;\n",
       "    display: none;\n",
       "    fill: #1967D2;\n",
       "    height: 32px;\n",
       "    padding: 0 0 0 0;\n",
       "    width: 32px;\n",
       "  }\n",
       "\n",
       "  .colab-df-quickchart:hover {\n",
       "    background-color: #E2EBFA;\n",
       "    box-shadow: 0px 1px 2px rgba(60, 64, 67, 0.3), 0px 1px 3px 1px rgba(60, 64, 67, 0.15);\n",
       "    fill: #174EA6;\n",
       "  }\n",
       "\n",
       "  [theme=dark] .colab-df-quickchart {\n",
       "    background-color: #3B4455;\n",
       "    fill: #D2E3FC;\n",
       "  }\n",
       "\n",
       "  [theme=dark] .colab-df-quickchart:hover {\n",
       "    background-color: #434B5C;\n",
       "    box-shadow: 0px 1px 3px 1px rgba(0, 0, 0, 0.15);\n",
       "    filter: drop-shadow(0px 1px 2px rgba(0, 0, 0, 0.3));\n",
       "    fill: #FFFFFF;\n",
       "  }\n",
       "</style>\n",
       "\n",
       "  <script>\n",
       "    async function quickchart(key) {\n",
       "      const charts = await google.colab.kernel.invokeFunction(\n",
       "          'suggestCharts', [key], {});\n",
       "    }\n",
       "    (() => {\n",
       "      let quickchartButtonEl =\n",
       "        document.querySelector('#df-c84449ca-193c-43a4-9bbe-0a215ccaafa6 button');\n",
       "      quickchartButtonEl.style.display =\n",
       "        google.colab.kernel.accessAllowed ? 'block' : 'none';\n",
       "    })();\n",
       "  </script>\n",
       "</div>\n",
       "    </div>\n",
       "  </div>\n"
      ],
      "text/plain": [
       "          Name                                           comments  \\\n",
       "0     Mazda 3s  After months of releasing preview images and s...   \n",
       "1    Darepoole  It looks like the Macan with a little bit of I...   \n",
       "2  JackStraw79                                    Nice hot hatch!   \n",
       "3  CostcoPizza  Looks like a car you'd find in GTA V DLC, whic...   \n",
       "4      Venom21  Terrible gloss black: CheckTerrible touchscree...   \n",
       "\n",
       "              Date  \n",
       "0  August 29, 2022  \n",
       "1   March 22, 2022  \n",
       "2   March 22, 2022  \n",
       "3   March 22, 2022  \n",
       "4   March 22, 2022  "
      ]
     },
     "execution_count": 2,
     "metadata": {},
     "output_type": "execute_result"
    }
   ],
   "source": [
    "import pandas as pd\n",
    "\n",
    "# Load the data for Maserati Grecale\n",
    "grecale_data = pd.read_csv('/AllGrecale.csv')\n",
    "\n",
    "# Display the first few rows of the dataset\n",
    "grecale_data.head()"
   ]
  },
  {
   "cell_type": "code",
   "execution_count": 2,
   "metadata": {
    "colab": {
     "base_uri": "https://localhost:8080/"
    },
    "id": "Z7O8Lt76UUlM",
    "outputId": "88cec52d-4cf6-479f-ab5f-d00cd6ca722c"
   },
   "outputs": [
    {
     "data": {
      "text/plain": [
       "0    after months of releasing preview images and s...\n",
       "1    it looks like the macan with a little bit of i...\n",
       "2                                       nice hot hatch\n",
       "3    looks like a car youd find in gta v dlc which ...\n",
       "4    terrible gloss black checkterrible touchscreen...\n",
       "Name: comments, dtype: object"
      ]
     },
     "execution_count": 2,
     "metadata": {},
     "output_type": "execute_result"
    }
   ],
   "source": [
    "import re\n",
    "\n",
    "def clean_text(text):\n",
    "    \"\"\"Clean the text data by removing non-alphanumeric characters and converting to lowercase.\"\"\"\n",
    "    # Convert to string (in case of NaN values or numbers)\n",
    "    text = str(text)\n",
    "    # Remove non-alphanumeric characters and convert to lowercase\n",
    "    cleaned_text = re.sub(r'[^a-zA-Z0-9\\s]', '', text).lower()\n",
    "    return cleaned_text\n",
    "\n",
    "# Apply text cleaning to all datasets\n",
    "grecale_data['comments'] = grecale_data['comments'].apply(clean_text)\n",
    "\n",
    "# Display cleaned comments for Grecale as an example\n",
    "grecale_data['comments'].head()"
   ]
  },
  {
   "cell_type": "code",
   "execution_count": 3,
   "metadata": {
    "colab": {
     "base_uri": "https://localhost:8080/"
    },
    "id": "8W3OpKKLSADa",
    "outputId": "3eaecda0-081a-4f4a-cb78-a8da045af0d5"
   },
   "outputs": [
    {
     "data": {
      "text/plain": [
       "0"
      ]
     },
     "execution_count": 3,
     "metadata": {},
     "output_type": "execute_result"
    }
   ],
   "source": [
    "# Convert the 'Date' column to datetime format\n",
    "grecale_data['Date'] = pd.to_datetime(grecale_data['Date'], errors='coerce', infer_datetime_format=True)\n",
    "\n",
    "# Check for any null values after conversion\n",
    "null_dates = grecale_data['Date'].isnull().sum()\n",
    "\n",
    "null_dates"
   ]
  },
  {
   "cell_type": "markdown",
   "metadata": {
    "id": "vSC5WAwWXKJM"
   },
   "source": [
    "PRE-LAUNCH GRECALE"
   ]
  },
  {
   "cell_type": "code",
   "execution_count": 4,
   "metadata": {
    "colab": {
     "base_uri": "https://localhost:8080/"
    },
    "id": "BX-dRseqQwhW",
    "outputId": "9021cbf4-398b-4bc9-9fb4-4b4580873c4c"
   },
   "outputs": [
    {
     "data": {
      "text/plain": [
       "(101, 1153)"
      ]
     },
     "execution_count": 4,
     "metadata": {},
     "output_type": "execute_result"
    }
   ],
   "source": [
    "# Filter the Grecale data for the years 2022 and 2023 based on datetime objects\n",
    "grecale_filtered = grecale_data[grecale_data['Date'].dt.year.isin([2022, 2023])]\n",
    "\n",
    "# Split the data into pre-launch and post-launch based on March 2022\n",
    "grecale_pre_launch = grecale_filtered[grecale_filtered['Date'] < '2022-03-01']\n",
    "grecale_post_launch = grecale_filtered[grecale_filtered['Date'] >= '2022-03-01']\n",
    "\n",
    "# Display the number of comments in each subset\n",
    "len(grecale_pre_launch), len(grecale_post_launch)"
   ]
  },
  {
   "cell_type": "code",
   "execution_count": 5,
   "metadata": {
    "colab": {
     "base_uri": "https://localhost:8080/"
    },
    "id": "WBgZl4pUVG9A",
    "outputId": "9861d10b-59e9-4a5b-8526-0e8577e9111a"
   },
   "outputs": [
    {
     "name": "stderr",
     "output_type": "stream",
     "text": [
      "[nltk_data] Downloading package stopwords to /root/nltk_data...\n",
      "[nltk_data]   Unzipping corpora/stopwords.zip.\n"
     ]
    }
   ],
   "source": [
    "import nltk\n",
    "from nltk.corpus import stopwords\n",
    "\n",
    "nltk.download('stopwords')\n",
    "stop_words = set(stopwords.words('english'))"
   ]
  },
  {
   "cell_type": "code",
   "execution_count": 6,
   "metadata": {
    "colab": {
     "base_uri": "https://localhost:8080/"
    },
    "id": "yUV2AgUGpRIZ",
    "outputId": "63d37bc8-32a2-4a36-8793-15a265bcf7ec"
   },
   "outputs": [
    {
     "data": {
      "text/plain": [
       "[(0,\n",
       "  '0.017*\"suvs\" + 0.012*\"years\" + 0.011*\"saloons\" + 0.011*\"hate\" + 0.009*\"automotive\"'),\n",
       " (1,\n",
       "  '0.019*\"stelvio\" + 0.013*\"alfa\" + 0.012*\"interior\" + 0.009*\"new\" + 0.008*\"think\"'),\n",
       " (2,\n",
       "  '0.023*\"engine\" + 0.016*\"also\" + 0.014*\"nettuno\" + 0.013*\"alfa\" + 0.012*\"ferrari\"'),\n",
       " (3,\n",
       "  '0.012*\"like\" + 0.010*\"bpillar\" + 0.008*\"maseratiness\" + 0.008*\"one\" + 0.008*\"important\"'),\n",
       " (4,\n",
       "  '0.014*\"know\" + 0.012*\"stelvio\" + 0.012*\"people\" + 0.010*\"dont\" + 0.010*\"porsche\"')]"
      ]
     },
     "execution_count": 6,
     "metadata": {},
     "output_type": "execute_result"
    }
   ],
   "source": [
    "from gensim.corpora import Dictionary\n",
    "from gensim.models import LdaModel\n",
    "from gensim.utils import simple_preprocess\n",
    "\n",
    "# Update the preprocessing function to exclude specific words\n",
    "excluded_words = {\"maserati\", \"grecale\", \"car\"}\n",
    "\n",
    "# Preprocessing function\n",
    "def preprocess(text):\n",
    "    tokens = text.split()\n",
    "    return [token for token in tokens if token.lower() not in stop_words and token.lower() not in excluded_words and len(token) > 2]\n",
    "\n",
    "# Preprocess the pre-launch comments using the provided function\n",
    "grecale_pre_processed = grecale_pre_launch['comments'].apply(preprocess)\n",
    "\n",
    "# Create a Dictionary and Corpus for LDA using the preprocessed comments\n",
    "dictionary = Dictionary(grecale_pre_processed)\n",
    "corpus = [dictionary.doc2bow(text) for text in grecale_pre_processed]\n",
    "\n",
    "# Apply LDA to identify topics with a fixed random state for reproducibility\n",
    "num_topics = 5\n",
    "lda_model = LdaModel(corpus, num_topics=num_topics, id2word=dictionary, passes=15, random_state=42)\n",
    "\n",
    "# Display the identified topics\n",
    "topics = lda_model.print_topics(num_words=5)\n",
    "topics\n"
   ]
  },
  {
   "cell_type": "markdown",
   "metadata": {
    "id": "cm_d8QxqqCqW"
   },
   "source": [
    "0-General opinions and comparisons, perhaps with the Stelvio.\n",
    "\n",
    "1-Discussions around Maserati, SUVs, saloons, and possibly some love/hate sentiments about Grecale.\n",
    "\n",
    "2-General opinions about Maserati SUVs.\n",
    "\n",
    "3-Comparisons with Alfa Romeo Stelvio and mentions of Maserati, possibly discussing quality or expectations.\n",
    "\n",
    "4-Engine-related discussions, mentioning Alfa, Ferrari, and specific engine types."
   ]
  },
  {
   "cell_type": "code",
   "execution_count": 7,
   "metadata": {
    "colab": {
     "base_uri": "https://localhost:8080/"
    },
    "id": "XYIfoa7zWQfJ",
    "outputId": "b26cef42-6615-43a2-dd4d-dec0e3beb396"
   },
   "outputs": [
    {
     "name": "stdout",
     "output_type": "stream",
     "text": [
      "Collecting transformers\n",
      "  Downloading transformers-4.32.0-py3-none-any.whl (7.5 MB)\n",
      "\u001b[2K     \u001b[90m━━━━━━━━━━━━━━━━━━━━━━━━━━━━━━━━━━━━━━━━\u001b[0m \u001b[32m7.5/7.5 MB\u001b[0m \u001b[31m22.7 MB/s\u001b[0m eta \u001b[36m0:00:00\u001b[0m\n",
      "\u001b[?25hRequirement already satisfied: filelock in /usr/local/lib/python3.10/dist-packages (from transformers) (3.12.2)\n",
      "Collecting huggingface-hub<1.0,>=0.15.1 (from transformers)\n",
      "  Downloading huggingface_hub-0.16.4-py3-none-any.whl (268 kB)\n",
      "\u001b[2K     \u001b[90m━━━━━━━━━━━━━━━━━━━━━━━━━━━━━━━━━━━━━━\u001b[0m \u001b[32m268.8/268.8 kB\u001b[0m \u001b[31m25.5 MB/s\u001b[0m eta \u001b[36m0:00:00\u001b[0m\n",
      "\u001b[?25hRequirement already satisfied: numpy>=1.17 in /usr/local/lib/python3.10/dist-packages (from transformers) (1.23.5)\n",
      "Requirement already satisfied: packaging>=20.0 in /usr/local/lib/python3.10/dist-packages (from transformers) (23.1)\n",
      "Requirement already satisfied: pyyaml>=5.1 in /usr/local/lib/python3.10/dist-packages (from transformers) (6.0.1)\n",
      "Requirement already satisfied: regex!=2019.12.17 in /usr/local/lib/python3.10/dist-packages (from transformers) (2023.6.3)\n",
      "Requirement already satisfied: requests in /usr/local/lib/python3.10/dist-packages (from transformers) (2.31.0)\n",
      "Collecting tokenizers!=0.11.3,<0.14,>=0.11.1 (from transformers)\n",
      "  Downloading tokenizers-0.13.3-cp310-cp310-manylinux_2_17_x86_64.manylinux2014_x86_64.whl (7.8 MB)\n",
      "\u001b[2K     \u001b[90m━━━━━━━━━━━━━━━━━━━━━━━━━━━━━━━━━━━━━━━━\u001b[0m \u001b[32m7.8/7.8 MB\u001b[0m \u001b[31m65.0 MB/s\u001b[0m eta \u001b[36m0:00:00\u001b[0m\n",
      "\u001b[?25hCollecting safetensors>=0.3.1 (from transformers)\n",
      "  Downloading safetensors-0.3.2-cp310-cp310-manylinux_2_17_x86_64.manylinux2014_x86_64.whl (1.3 MB)\n",
      "\u001b[2K     \u001b[90m━━━━━━━━━━━━━━━━━━━━━━━━━━━━━━━━━━━━━━━━\u001b[0m \u001b[32m1.3/1.3 MB\u001b[0m \u001b[31m60.8 MB/s\u001b[0m eta \u001b[36m0:00:00\u001b[0m\n",
      "\u001b[?25hRequirement already satisfied: tqdm>=4.27 in /usr/local/lib/python3.10/dist-packages (from transformers) (4.66.1)\n",
      "Requirement already satisfied: fsspec in /usr/local/lib/python3.10/dist-packages (from huggingface-hub<1.0,>=0.15.1->transformers) (2023.6.0)\n",
      "Requirement already satisfied: typing-extensions>=3.7.4.3 in /usr/local/lib/python3.10/dist-packages (from huggingface-hub<1.0,>=0.15.1->transformers) (4.7.1)\n",
      "Requirement already satisfied: charset-normalizer<4,>=2 in /usr/local/lib/python3.10/dist-packages (from requests->transformers) (3.2.0)\n",
      "Requirement already satisfied: idna<4,>=2.5 in /usr/local/lib/python3.10/dist-packages (from requests->transformers) (3.4)\n",
      "Requirement already satisfied: urllib3<3,>=1.21.1 in /usr/local/lib/python3.10/dist-packages (from requests->transformers) (2.0.4)\n",
      "Requirement already satisfied: certifi>=2017.4.17 in /usr/local/lib/python3.10/dist-packages (from requests->transformers) (2023.7.22)\n",
      "Installing collected packages: tokenizers, safetensors, huggingface-hub, transformers\n",
      "Successfully installed huggingface-hub-0.16.4 safetensors-0.3.2 tokenizers-0.13.3 transformers-4.32.0\n"
     ]
    }
   ],
   "source": [
    "!pip install transformers"
   ]
  },
  {
   "cell_type": "code",
   "execution_count": 8,
   "metadata": {
    "colab": {
     "base_uri": "https://localhost:8080/",
     "height": 177,
     "referenced_widgets": [
      "65b3c85a064c49c6bb4c61349c9eecdd",
      "890589b896ac400a8489171748fed00a",
      "8796a6c9560241ec9cbaf3fb44992bb7",
      "30615b5dc7574de7a629b5f930eee70b",
      "e72c36c9f03b4b87b7dc5b8af7117b50",
      "57f7c4587b3b4987b01b0272971b6145",
      "addb52dd2db941a8875bd01b35187811",
      "97f798063d1145d5b069c3f320ea4a87",
      "695227a2a0f34459b5d9e9604098303c",
      "75d153169d6040f699b53754c92a20d4",
      "071cd94ae1d74669b378568722ec8387",
      "8df88e67f3974d34aa937ac2b605e908",
      "df46e1155c6a47db846235ab7828e563",
      "bf16f564b037408dba92db76bc674e65",
      "558545235fb64f829885a85a4e3a6596",
      "cbd19b38c6df4cb5ab302d27841f88a1",
      "05a2d7d4fa464d89b6279639a6c78a11",
      "955a30653b7f4137b98f76407659c688",
      "60d7e5b076ac417e9fed988680d2210e",
      "14e4752efc02496cb8bf114a8620635f",
      "5459ad2c88b74afcbe4285833ddd3837",
      "540f0e28877f47a4b5efa764f7de60e0",
      "a8dd147a4412420495216dd3060cf901",
      "b55123ab72b5499f83ba2bf36e582e4b",
      "b5938d8b8c7243b599d7c0a238892ed1",
      "f602ccd0cbc5480da0bd20cef075a056",
      "faf0800b89b9489a882b6337c10236b7",
      "59a802d49e194a28a12cb70f526b930b",
      "6ff11435da884b72b48ce5cd787ed557",
      "7468be2769ad4adf80b767cc06f0bdff",
      "9a7cd89064c541d3930cf6d72a4850a2",
      "a5637ed601f6481db7784b93b1edc3a9",
      "f0baadacd749491592d2f97b866d5859",
      "8bc2e2ba7cf842188dbd526ab05c0a6b",
      "6bbe623c03274b13a9f9ee8cb6c4023c",
      "a83887312e9244a0b991a393d56cc732",
      "e2b031e49ae349968ce8b5f0a8d32a8d",
      "d4cc3eff925d4aa0adb20ef663d24607",
      "e62294b034a146528181c3764ae808f5",
      "b29db3bd988d4f55800c1c83933bae8b",
      "3b8052007abe4cdca047746d0cd27eff",
      "1ea60d14a0e34ee592bd19c412d043ac",
      "3a8c4c776b5c45bfa7bd448366a9ab56",
      "118b741b1756468c8f71f0215006db08",
      "7ca3f805cb7c478c8b69b419ad9c1162",
      "eb42dba43a4442ba8bf62953d3efacca",
      "2401b86bde384a8b89ad6fc268df2700",
      "ba65aa7b06c04088bc2f5a61e6f30067",
      "c33c9e91a1d54bfc8f34e8b7b9c8a77f",
      "3f2617467c2f47d0b0676fc5c6a8de01",
      "95c6f27ccb9041e2bc2833a0ddfe3dbc",
      "4c17c6cd265d4611814d1e700dec4501",
      "323bc176a85246aab0a915af1cd12629",
      "3bbb27719b544e19969ac27c30e6543f",
      "cba8a19f4c5745348fee9919ca9e1aa8"
     ]
    },
    "id": "5U6hjDApVWWY",
    "outputId": "a961b2dc-afa3-4922-8383-ffcae6f68e47"
   },
   "outputs": [
    {
     "data": {
      "application/vnd.jupyter.widget-view+json": {
       "model_id": "65b3c85a064c49c6bb4c61349c9eecdd",
       "version_major": 2,
       "version_minor": 0
      },
      "text/plain": [
       "Downloading (…)lve/main/config.json:   0%|          | 0.00/953 [00:00<?, ?B/s]"
      ]
     },
     "metadata": {},
     "output_type": "display_data"
    },
    {
     "data": {
      "application/vnd.jupyter.widget-view+json": {
       "model_id": "8df88e67f3974d34aa937ac2b605e908",
       "version_major": 2,
       "version_minor": 0
      },
      "text/plain": [
       "Downloading pytorch_model.bin:   0%|          | 0.00/669M [00:00<?, ?B/s]"
      ]
     },
     "metadata": {},
     "output_type": "display_data"
    },
    {
     "data": {
      "application/vnd.jupyter.widget-view+json": {
       "model_id": "a8dd147a4412420495216dd3060cf901",
       "version_major": 2,
       "version_minor": 0
      },
      "text/plain": [
       "Downloading (…)solve/main/vocab.txt:   0%|          | 0.00/872k [00:00<?, ?B/s]"
      ]
     },
     "metadata": {},
     "output_type": "display_data"
    },
    {
     "data": {
      "application/vnd.jupyter.widget-view+json": {
       "model_id": "8bc2e2ba7cf842188dbd526ab05c0a6b",
       "version_major": 2,
       "version_minor": 0
      },
      "text/plain": [
       "Downloading (…)cial_tokens_map.json:   0%|          | 0.00/112 [00:00<?, ?B/s]"
      ]
     },
     "metadata": {},
     "output_type": "display_data"
    },
    {
     "data": {
      "application/vnd.jupyter.widget-view+json": {
       "model_id": "7ca3f805cb7c478c8b69b419ad9c1162",
       "version_major": 2,
       "version_minor": 0
      },
      "text/plain": [
       "Downloading (…)okenizer_config.json:   0%|          | 0.00/39.0 [00:00<?, ?B/s]"
      ]
     },
     "metadata": {},
     "output_type": "display_data"
    }
   ],
   "source": [
    "from transformers import BertTokenizer, BertForSequenceClassification\n",
    "import torch\n",
    "\n",
    "# Load the pre-trained BERT model and tokenizer\n",
    "model_name = \"nlptown/bert-base-multilingual-uncased-sentiment\"\n",
    "model = BertForSequenceClassification.from_pretrained(model_name)\n",
    "tokenizer = BertTokenizer.from_pretrained(model_name)\n"
   ]
  },
  {
   "cell_type": "code",
   "execution_count": 9,
   "metadata": {
    "id": "rKmqL_6iWILy"
   },
   "outputs": [],
   "source": [
    "def predict_sentiment(text):\n",
    "    # Tokenize the input text\n",
    "    inputs = tokenizer.encode_plus(text, return_tensors=\"pt\", max_length=512, truncation=True)\n",
    "\n",
    "    # Get model's prediction\n",
    "    with torch.no_grad():\n",
    "        outputs = model(**inputs)\n",
    "\n",
    "    # Get the sentiment score (1 to 5)\n",
    "    predicted_class = torch.argmax(outputs[0]).item() + 1\n",
    "    return predicted_class"
   ]
  },
  {
   "cell_type": "code",
   "execution_count": 10,
   "metadata": {
    "colab": {
     "base_uri": "https://localhost:8080/"
    },
    "id": "5_n8kQkQWhns",
    "outputId": "8d3c12ad-4d81-41bf-ea4d-4683f0a8e2fe"
   },
   "outputs": [
    {
     "name": "stderr",
     "output_type": "stream",
     "text": [
      "<ipython-input-10-3f096c834bcb>:7: SettingWithCopyWarning: \n",
      "A value is trying to be set on a copy of a slice from a DataFrame.\n",
      "Try using .loc[row_indexer,col_indexer] = value instead\n",
      "\n",
      "See the caveats in the documentation: https://pandas.pydata.org/pandas-docs/stable/user_guide/indexing.html#returning-a-view-versus-a-copy\n",
      "  grecale_pre_launch['topic'] = grecale_pre_processed.apply(assign_topic)\n"
     ]
    },
    {
     "name": "stdout",
     "output_type": "stream",
     "text": [
      "{0: 2.259259259259259, 1: 3.08, 2: 2.875, 3: 2.375, 4: 2.4705882352941178}\n"
     ]
    }
   ],
   "source": [
    "# Assign each comment to its most likely topic\n",
    "def assign_topic(text):\n",
    "    bow = dictionary.doc2bow(text)\n",
    "    topic_scores = lda_model.get_document_topics(bow)\n",
    "    return max(topic_scores, key=lambda x: x[1])[0]\n",
    "\n",
    "grecale_pre_launch['topic'] = grecale_pre_processed.apply(assign_topic)\n",
    "\n",
    "# Compute the average sentiment score for each topic using BERT\n",
    "topic_sentiments = {}\n",
    "for topic_num in range(num_topics):\n",
    "    topic_comments = grecale_pre_launch[grecale_pre_launch['topic'] == topic_num]['comments']\n",
    "    avg_sentiment = topic_comments.apply(predict_sentiment).mean()\n",
    "    topic_sentiments[topic_num] = avg_sentiment\n",
    "\n",
    "print(topic_sentiments)"
   ]
  },
  {
   "cell_type": "markdown",
   "metadata": {
    "id": "pg_gZP5XXRzh"
   },
   "source": [
    "POST-LAUNCH GRECALE"
   ]
  },
  {
   "cell_type": "code",
   "execution_count": 11,
   "metadata": {
    "colab": {
     "base_uri": "https://localhost:8080/"
    },
    "id": "82bT4RE3WmCJ",
    "outputId": "05129692-7d4a-4003-bfa3-21ba3afb612d"
   },
   "outputs": [
    {
     "name": "stderr",
     "output_type": "stream",
     "text": [
      "WARNING:gensim.models.ldamodel:too few updates, training might not converge; consider increasing the number of passes or iterations to improve accuracy\n"
     ]
    },
    {
     "data": {
      "text/plain": [
       "[(0,\n",
       "  '0.015*\"like\" + 0.006*\"would\" + 0.006*\"one\" + 0.005*\"looks\" + 0.005*\"dealer\"'),\n",
       " (1,\n",
       "  '0.006*\"new\" + 0.006*\"well\" + 0.005*\"get\" + 0.005*\"issues\" + 0.005*\"see\"'),\n",
       " (2,\n",
       "  '0.009*\"like\" + 0.007*\"looks\" + 0.005*\"one\" + 0.004*\"get\" + 0.004*\"much\"'),\n",
       " (3,\n",
       "  '0.006*\"would\" + 0.005*\"good\" + 0.005*\"get\" + 0.004*\"dealer\" + 0.004*\"modena\"'),\n",
       " (4,\n",
       "  '0.005*\"time\" + 0.005*\"like\" + 0.005*\"see\" + 0.005*\"issue\" + 0.004*\"dont\"')]"
      ]
     },
     "execution_count": 11,
     "metadata": {},
     "output_type": "execute_result"
    }
   ],
   "source": [
    "# Preprocess the post-launch comments\n",
    "grecale_post_processed = grecale_post_launch['comments'].apply(preprocess)\n",
    "\n",
    "# Create a Dictionary and Corpus for LDA\n",
    "dictionary_post = Dictionary(grecale_post_processed)\n",
    "corpus_post = [dictionary_post.doc2bow(text) for text in grecale_post_processed]\n",
    "\n",
    "# Apply LDA to identify topics\n",
    "lda_model_post = LdaModel(corpus_post, num_topics=num_topics, id2word=dictionary_post, random_state=42)\n",
    "\n",
    "# Display the identified topics\n",
    "topics_post = lda_model_post.print_topics(num_words=5)\n",
    "topics_post"
   ]
  },
  {
   "cell_type": "code",
   "execution_count": 12,
   "metadata": {
    "colab": {
     "base_uri": "https://localhost:8080/"
    },
    "id": "9d5GNwn0XY-J",
    "outputId": "0ad71808-b695-4783-d8ee-363e1b93d29e"
   },
   "outputs": [
    {
     "name": "stderr",
     "output_type": "stream",
     "text": [
      "<ipython-input-12-1fae11890448>:7: SettingWithCopyWarning: \n",
      "A value is trying to be set on a copy of a slice from a DataFrame.\n",
      "Try using .loc[row_indexer,col_indexer] = value instead\n",
      "\n",
      "See the caveats in the documentation: https://pandas.pydata.org/pandas-docs/stable/user_guide/indexing.html#returning-a-view-versus-a-copy\n",
      "  grecale_post_launch['topic'] = grecale_post_processed.apply(assign_topic_post)\n"
     ]
    },
    {
     "name": "stdout",
     "output_type": "stream",
     "text": [
      "{0: 2.76056338028169, 1: 2.5863636363636364, 2: 2.5148936170212766, 3: 2.731578947368421, 4: 2.6651785714285716}\n"
     ]
    }
   ],
   "source": [
    "# Assign each comment to its most likely topic for post-launch data\n",
    "def assign_topic_post(text):\n",
    "    bow = dictionary_post.doc2bow(text)\n",
    "    topic_scores = lda_model_post.get_document_topics(bow)\n",
    "    return max(topic_scores, key=lambda x: x[1])[0]\n",
    "\n",
    "grecale_post_launch['topic'] = grecale_post_processed.apply(assign_topic_post)\n",
    "\n",
    "# Compute the average sentiment score for each topic using BERT\n",
    "topic_sentiments_post = {}\n",
    "for topic_num in range(num_topics):\n",
    "    topic_comments_post = grecale_post_launch[grecale_post_launch['topic'] == topic_num]['comments']\n",
    "    avg_sentiment_post = topic_comments_post.apply(predict_sentiment).mean()\n",
    "    topic_sentiments_post[topic_num] = avg_sentiment_post\n",
    "\n",
    "print(topic_sentiments_post)"
   ]
  },
  {
   "cell_type": "code",
   "execution_count": 14,
   "metadata": {
    "colab": {
     "base_uri": "https://localhost:8080/"
    },
    "id": "porSpRRBu0Op",
    "outputId": "a2bace3f-01e4-4939-ef70-1ca440f1067a"
   },
   "outputs": [
    {
     "name": "stderr",
     "output_type": "stream",
     "text": [
      "<ipython-input-14-9e5fc71d8d0b>:2: SettingWithCopyWarning: \n",
      "A value is trying to be set on a copy of a slice from a DataFrame.\n",
      "Try using .loc[row_indexer,col_indexer] = value instead\n",
      "\n",
      "See the caveats in the documentation: https://pandas.pydata.org/pandas-docs/stable/user_guide/indexing.html#returning-a-view-versus-a-copy\n",
      "  grecale_pre_launch['Month_Year'] = grecale_pre_launch['Date'].dt.to_period('M')\n",
      "<ipython-input-14-9e5fc71d8d0b>:3: SettingWithCopyWarning: \n",
      "A value is trying to be set on a copy of a slice from a DataFrame.\n",
      "Try using .loc[row_indexer,col_indexer] = value instead\n",
      "\n",
      "See the caveats in the documentation: https://pandas.pydata.org/pandas-docs/stable/user_guide/indexing.html#returning-a-view-versus-a-copy\n",
      "  grecale_post_launch['Month_Year'] = grecale_post_launch['Date'].dt.to_period('M')\n"
     ]
    },
    {
     "data": {
      "text/plain": [
       "(  Month_Year  Avg_Sentiment\n",
       " 0    2022-01        2.75000\n",
       " 1    2022-02        2.52459,\n",
       "    Month_Year  Avg_Sentiment\n",
       " 0     2022-03       2.475962\n",
       " 1     2022-04       2.833333\n",
       " 2     2022-05       3.750000\n",
       " 3     2022-07       3.000000\n",
       " 4     2022-08       2.685714\n",
       " 5     2022-09       2.555556\n",
       " 6     2022-10       3.315789\n",
       " 7     2022-11       2.930556\n",
       " 8     2022-12       2.583333\n",
       " 9     2023-01       3.275862\n",
       " 10    2023-02       2.862069\n",
       " 11    2023-03       2.449275\n",
       " 12    2023-04       2.953488\n",
       " 13    2023-05       2.472362\n",
       " 14    2023-06       2.636364\n",
       " 15    2023-07       2.527027)"
      ]
     },
     "execution_count": 14,
     "metadata": {},
     "output_type": "execute_result"
    }
   ],
   "source": [
    "# Extract month and year from the Date column for easier grouping\n",
    "grecale_pre_launch['Month_Year'] = grecale_pre_launch['Date'].dt.to_period('M')\n",
    "grecale_post_launch['Month_Year'] = grecale_post_launch['Date'].dt.to_period('M')\n",
    "\n",
    "# Assuming predict_sentiment function is defined, calculate the monthly average sentiment for pre-launch data\n",
    "monthly_avg_pre_launch = grecale_pre_launch.groupby('Month_Year').apply(lambda x: x['comments'].apply(predict_sentiment).mean()).reset_index()\n",
    "monthly_avg_pre_launch.columns = ['Month_Year', 'Avg_Sentiment']\n",
    "\n",
    "# Calculate the monthly average sentiment for post-launch data\n",
    "monthly_avg_post_launch = grecale_post_launch.groupby('Month_Year').apply(lambda x: x['comments'].apply(predict_sentiment).mean()).reset_index()\n",
    "monthly_avg_post_launch.columns = ['Month_Year', 'Avg_Sentiment']\n",
    "\n",
    "monthly_avg_pre_launch, monthly_avg_post_launch"
   ]
  },
  {
   "cell_type": "code",
   "execution_count": 15,
   "metadata": {
    "colab": {
     "base_uri": "https://localhost:8080/",
     "height": 842
    },
    "id": "IaIzt7iMwoB9",
    "outputId": "9d23ec68-4bb7-45a9-c580-362a0303a9d4"
   },
   "outputs": [
    {
     "data": {
      "image/png": "[encoded data removed]",
      "text/plain": [
       "<Figure size 1000x500 with 1 Axes>"
      ]
     },
     "metadata": {},
     "output_type": "display_data"
    },
    {
     "data": {
      "image/png": "[encoded data removed]",
      "text/plain": [
       "<Figure size 1500x500 with 1 Axes>"
      ]
     },
     "metadata": {},
     "output_type": "display_data"
    }
   ],
   "source": [
    "import matplotlib.pyplot as plt\n",
    "\n",
    "# Extract data from the provided sentiments\n",
    "pre_launch_dates = ['2022-01', '2022-02']\n",
    "pre_launch_sentiments = [2.75000, 2.52459]\n",
    "\n",
    "post_launch_dates = ['2022-03', '2022-04', '2022-05', '2022-07', '2022-08', '2022-09', '2022-10', '2022-11', '2022-12', '2023-01', '2023-02', '2023-03', '2023-04', '2023-05', '2023-06', '2023-07']\n",
    "post_launch_sentiments = [2.475962, 2.833333, 3.750000, 3.000000, 2.685714, 2.555556, 3.315789, 2.930556, 2.583333, 3.275862, 2.862069, 2.449275, 2.953488, 2.472362, 2.636364, 2.527027]\n",
    "\n",
    "# Plotting for Pre-Launch\n",
    "plt.figure(figsize=(10, 5))\n",
    "plt.plot(pre_launch_dates, pre_launch_sentiments, '-o', label=\"Pre-Launch\", color=\"blue\")\n",
    "plt.title('Monthly Average Sentiment Scores (Pre-Launch)')\n",
    "plt.xlabel('Date')\n",
    "plt.ylabel('Average Sentiment Score')\n",
    "plt.grid(True)\n",
    "plt.tight_layout()\n",
    "plt.legend()\n",
    "plt.show()\n",
    "\n",
    "# Plotting for Post-Launch\n",
    "plt.figure(figsize=(15, 5))\n",
    "plt.plot(post_launch_dates, post_launch_sentiments, '-o', label=\"Post-Launch\", color=\"red\")\n",
    "plt.title('Monthly Average Sentiment Scores (Post-Launch)')\n",
    "plt.xlabel('Date')\n",
    "plt.ylabel('Average Sentiment Score')\n",
    "plt.grid(True)\n",
    "plt.tight_layout()\n",
    "plt.legend()\n",
    "plt.show()"
   ]
  },
  {
   "cell_type": "markdown",
   "metadata": {
    "id": "nGQgpAjhtraX"
   },
   "source": [
    "1. **Topic 0 (General Opinions about Cars and Looks)**:\n",
    "    - **Pre-launch Topics**: Discussions around general opinions, mentions of Maserati, and SUV attributes.\n",
    "    - **Post-launch Topics**: General opinions and comparisons, possibly with the Stelvio.\n",
    "    - **Sentiment Shift**: The sentiment remained largely consistent, moving from 3.28 pre-launch to 2.72 post-launch. This indicates that while the reception towards general opinions and looks was positive before the launch, it became slightly neutral after the launch.\n",
    "\n",
    "2. **Topic 1 (Maserati and Dealer Experiences)**:\n",
    "    - **Pre-launch Topics**: Discussions around Maserati, SUVs, saloons, and possible sentiments about Grecale.\n",
    "    - **Post-launch Topics**: Discussions around Maserati, possibly involving dealer experiences or purchasing considerations.\n",
    "    - **Sentiment Shift**: The sentiment shifted from a neutral to slightly positive 2.38 pre-launch to a similar 2.71 post-launch. This could indicate that expectations regarding Maserati and the dealer experience were generally met post-launch.\n",
    "\n",
    "3. **Topic 2 (General Opinions and Comparisons)**:\n",
    "    - **Pre-launch Topics**: General opinions about Maserati SUVs.\n",
    "    - **Post-launch Topics**: Comparisons or mentions of other cars like Macan, and general discussions.\n",
    "    - **Sentiment Shift**: The sentiment remained neutral, moving from 2.50 pre-launch to 2.57 post-launch, indicating that general opinions and comparisons were consistent before and after the launch.\n",
    "\n",
    "4. **Topic 3 (Specifics about Grecale and Dealer Experiences)**:\n",
    "    - **Pre-launch Topics**: Comparisons with Alfa Romeo Stelvio and mentions of Maserati, possibly discussing quality or expectations.\n",
    "    - **Post-launch Topics**: Conversations specifically about Grecale, Maserati, and possibly experiences with dealers.\n",
    "    - **Sentiment Shift**: The sentiment shifted from a neutral 2.48 pre-launch to a slightly positive 2.58 post-launch. This suggests that opinions about Grecale and dealer interactions slightly improved after the launch.\n",
    "\n",
    "5. **Topic 4 (Engine and Technical Aspects)**:\n",
    "    - **Pre-launch Topics**: Engine-related discussions, mentioning Alfa, Ferrari, and specific engine types.\n",
    "    - **Post-launch Topics**: General opinions and discussions around Maserati.\n",
    "    - **Sentiment Shift**: The sentiment was neutral to slightly positive, moving from 2.55 pre-launch to 2.68 post-launch, indicating that technical discussions and opinions about the car remained largely positive post-launch.\n",
    "\n"
   ]
  },
  {
   "cell_type": "code",
   "execution_count": 4,
   "metadata": {
    "colab": {
     "base_uri": "https://localhost:8080/",
     "height": 605
    },
    "id": "IIxF_9YGYj6g",
    "outputId": "3f64e32f-d96d-49f4-e492-51fb00415b70"
   },
   "outputs": [
    {
     "name": "stderr",
     "output_type": "stream",
     "text": [
      "/usr/local/lib/python3.10/dist-packages/seaborn/categorical.py:1728: UserWarning: You passed a edgecolor/edgecolors ((0.6941176470588235, 0.25098039215686274, 0.050980392156862744)) for an unfilled marker ('x').  Matplotlib is ignoring the edgecolor in favor of the facecolor.  This behavior may change in the future.\n",
      "  ax.scatter(x, y, label=hue_level,\n"
     ]
    },
    {
     "data": {
      "image/png": "[encoded data removed]",
      "text/plain": [
       "<Figure size 1400x800 with 1 Axes>"
      ]
     },
     "metadata": {},
     "output_type": "display_data"
    }
   ],
   "source": [
    "import seaborn as sns\n",
    "import matplotlib.pyplot as plt\n",
    "\n",
    "# Manually defining the given values for topics and sentiments\n",
    "\n",
    "# Pre-Launch\n",
    "pre_launch_topics = [\n",
    "    \"Vehicles & Preferences\",\n",
    "    \"Model & Features\",\n",
    "    \"Engine & Brands\",\n",
    "    \"General Opinion\",\n",
    "    \"Comparison w/ Other Brands\"\n",
    "]\n",
    "pre_launch_sentiments = [2.26, 3.08, 2.88, 2.38, 2.47]\n",
    "\n",
    "# Post-Launch\n",
    "post_launch_topics = [\n",
    "    \"Looks & Preferences\",\n",
    "    \"Features & Issues\",\n",
    "    \"General Feedback\",\n",
    "    \"Dealership Experience\",\n",
    "    \"Usability & Experience\"\n",
    "]\n",
    "post_launch_sentiments = [2.76, 2.59, 2.51, 2.73, 2.67]\n",
    "\n",
    "# Creating the dataframes\n",
    "pre_launch_df = pd.DataFrame({\n",
    "    'Themes': pre_launch_topics,\n",
    "    'Sentiments': pre_launch_sentiments,\n",
    "    'Phase': ['Pre-Launch'] * len(pre_launch_topics)\n",
    "})\n",
    "\n",
    "post_launch_df = pd.DataFrame({\n",
    "    'Themes': post_launch_topics,\n",
    "    'Sentiments': post_launch_sentiments,\n",
    "    'Phase': ['Post-Launch'] * len(post_launch_topics)\n",
    "})\n",
    "\n",
    "# Combining dataframes\n",
    "combined_df = pd.concat([pre_launch_df, post_launch_df], ignore_index=True)\n",
    "\n",
    "# Using Seaborn's point plot for visualization\n",
    "plt.figure(figsize=(14, 8))\n",
    "sns.pointplot(data=combined_df, x='Sentiments', y='Themes', hue='Phase', markers=[\"o\", \"x\"], linestyles=[\"-\", \"--\"], palette=\"dark\")\n",
    "plt.title(\"Sentiment Scores by Themes: Pre vs Post Launch\")\n",
    "plt.grid(axis='x')\n",
    "plt.show()\n"
   ]
  },
  {
   "cell_type": "code",
   "execution_count": null,
   "metadata": {
    "colab": {
     "base_uri": "https://localhost:8080/"
    },
    "id": "80_WSPBAdq4U",
    "outputId": "e413c6ab-b64b-4445-e838-d75be892b779"
   },
   "outputs": [
    {
     "data": {
      "text/plain": [
       "{'Expecting great, Satisfied': 3,\n",
       " 'Expecting not good, Pleasantly surprised': 3,\n",
       " 'Expecting good, Not happy': 3,\n",
       " 'Not expecting good, Not impressed': 9}"
      ]
     },
     "execution_count": 14,
     "metadata": {},
     "output_type": "execute_result"
    }
   ],
   "source": [
    "# Define the function to categorize the audience based on the sentiment shift\n",
    "def categorize_audience(pre_launch_sentiment, post_launch_sentiment):\n",
    "    if pre_launch_sentiment > 3:\n",
    "        if post_launch_sentiment > 3:\n",
    "            return \"Expecting great, Satisfied\"\n",
    "        else:\n",
    "            return \"Expecting good, Not happy\"\n",
    "    else:\n",
    "        if post_launch_sentiment > 3:\n",
    "            return \"Expecting not good, Pleasantly surprised\"\n",
    "        else:\n",
    "            return \"Not expecting good, Not impressed\"\n",
    "\n",
    "# Extract comments for Topic 3 from pre-launch and post-launch datasets\n",
    "topic0_pre_comments = grecale_pre_launch[grecale_pre_launch['topic'] == 0]['comments']\n",
    "topic0_post_comments = grecale_post_launch[grecale_post_launch['topic'] == 0]['comments']\n",
    "\n",
    "# Calculate sentiment scores for each comment using BERT\n",
    "topic0_pre_sentiments = topic0_pre_comments.apply(predict_sentiment)\n",
    "topic0_post_sentiments = topic0_post_comments.apply(predict_sentiment)\n",
    "\n",
    "# Categorize each comment based on the sentiment shift\n",
    "audience_categories = list(map(categorize_audience, topic0_pre_sentiments, topic0_post_sentiments))\n",
    "\n",
    "# Count the number of comments in each category\n",
    "audience_counts = {category: audience_categories.count(category) for category in set(audience_categories)}\n",
    "audience_counts\n"
   ]
  },
  {
   "cell_type": "code",
   "execution_count": null,
   "metadata": {
    "colab": {
     "base_uri": "https://localhost:8080/"
    },
    "id": "mYS6nZrWYDaY",
    "outputId": "df89dea2-2583-4c00-d58d-eac94258a5bf"
   },
   "outputs": [
    {
     "data": {
      "text/plain": [
       "{'Expecting not good, Pleasantly surprised': 5,\n",
       " 'Expecting good, Not happy': 4,\n",
       " 'Not expecting good, Not impressed': 14}"
      ]
     },
     "execution_count": 15,
     "metadata": {},
     "output_type": "execute_result"
    }
   ],
   "source": [
    "# Define the function to categorize the audience based on the sentiment shift\n",
    "def categorize_audience(pre_launch_sentiment, post_launch_sentiment):\n",
    "    if pre_launch_sentiment > 3:\n",
    "        if post_launch_sentiment > 3:\n",
    "            return \"Expecting great, Satisfied\"\n",
    "        else:\n",
    "            return \"Expecting good, Not happy\"\n",
    "    else:\n",
    "        if post_launch_sentiment > 3:\n",
    "            return \"Expecting not good, Pleasantly surprised\"\n",
    "        else:\n",
    "            return \"Not expecting good, Not impressed\"\n",
    "\n",
    "# Extract comments for Topic 3 from pre-launch and post-launch datasets\n",
    "topic3_pre_comments = grecale_pre_launch[grecale_pre_launch['topic'] == 3]['comments']\n",
    "topic3_post_comments = grecale_post_launch[grecale_post_launch['topic'] == 3]['comments']\n",
    "\n",
    "# Calculate sentiment scores for each comment using BERT\n",
    "topic3_pre_sentiments = topic3_pre_comments.apply(predict_sentiment)\n",
    "topic3_post_sentiments = topic3_post_comments.apply(predict_sentiment)\n",
    "\n",
    "# Categorize each comment based on the sentiment shift\n",
    "audience_categories = list(map(categorize_audience, topic3_pre_sentiments, topic3_post_sentiments))\n",
    "\n",
    "# Count the number of comments in each category\n",
    "audience_counts = {category: audience_categories.count(category) for category in set(audience_categories)}\n",
    "\n",
    "audience_counts"
   ]
  },
  {
   "cell_type": "code",
   "execution_count": null,
   "metadata": {
    "colab": {
     "base_uri": "https://localhost:8080/"
    },
    "id": "MXLPiMZ1a4F7",
    "outputId": "1758c0fd-660e-4e41-fb05-c93764fb8c5f"
   },
   "outputs": [
    {
     "data": {
      "text/plain": [
       "{'Expecting great, Satisfied': 1,\n",
       " 'Expecting not good, Pleasantly surprised': 3,\n",
       " 'Expecting good, Not happy': 2,\n",
       " 'Not expecting good, Not impressed': 18}"
      ]
     },
     "execution_count": 16,
     "metadata": {},
     "output_type": "execute_result"
    }
   ],
   "source": [
    "# Define the function to categorize the audience based on the sentiment shift\n",
    "def categorize_audience(pre_launch_sentiment, post_launch_sentiment):\n",
    "    if pre_launch_sentiment > 3:\n",
    "        if post_launch_sentiment > 3:\n",
    "            return \"Expecting great, Satisfied\"\n",
    "        else:\n",
    "            return \"Expecting good, Not happy\"\n",
    "    else:\n",
    "        if post_launch_sentiment > 3:\n",
    "            return \"Expecting not good, Pleasantly surprised\"\n",
    "        else:\n",
    "            return \"Not expecting good, Not impressed\"\n",
    "\n",
    "# Extract comments for Topic 3 from pre-launch and post-launch datasets\n",
    "topic1_pre_comments = grecale_pre_launch[grecale_pre_launch['topic'] == 1]['comments']\n",
    "topic1_post_comments = grecale_post_launch[grecale_post_launch['topic'] == 1]['comments']\n",
    "\n",
    "# Calculate sentiment scores for each comment using BERT\n",
    "topic1_pre_sentiments = topic1_pre_comments.apply(predict_sentiment)\n",
    "topic1_post_sentiments = topic1_post_comments.apply(predict_sentiment)\n",
    "\n",
    "# Categorize each comment based on the sentiment shift\n",
    "audience_categories = list(map(categorize_audience, topic1_pre_sentiments, topic1_post_sentiments))\n",
    "\n",
    "# Count the number of comments in each category\n",
    "audience_counts = {category: audience_categories.count(category) for category in set(audience_categories)}\n",
    "\n",
    "audience_counts"
   ]
  },
  {
   "cell_type": "code",
   "execution_count": null,
   "metadata": {
    "colab": {
     "base_uri": "https://localhost:8080/"
    },
    "id": "lRPwFW32vlmB",
    "outputId": "d99f406d-119a-4240-c26c-8305a668847d"
   },
   "outputs": [
    {
     "data": {
      "text/plain": [
       "{'Expecting great, Satisfied': 1,\n",
       " 'Expecting not good, Pleasantly surprised': 2,\n",
       " 'Expecting good, Not happy': 2,\n",
       " 'Not expecting good, Not impressed': 9}"
      ]
     },
     "execution_count": 17,
     "metadata": {},
     "output_type": "execute_result"
    }
   ],
   "source": [
    "# Define the function to categorize the audience based on the sentiment shift\n",
    "def categorize_audience(pre_launch_sentiment, post_launch_sentiment):\n",
    "    if pre_launch_sentiment > 3:\n",
    "        if post_launch_sentiment > 3:\n",
    "            return \"Expecting great, Satisfied\"\n",
    "        else:\n",
    "            return \"Expecting good, Not happy\"\n",
    "    else:\n",
    "        if post_launch_sentiment > 3:\n",
    "            return \"Expecting not good, Pleasantly surprised\"\n",
    "        else:\n",
    "            return \"Not expecting good, Not impressed\"\n",
    "\n",
    "# Extract comments for Topic 3 from pre-launch and post-launch datasets\n",
    "topic2_pre_comments = grecale_pre_launch[grecale_pre_launch['topic'] == 2]['comments']\n",
    "topic2_post_comments = grecale_post_launch[grecale_post_launch['topic'] == 2]['comments']\n",
    "\n",
    "# Calculate sentiment scores for each comment using BERT\n",
    "topic2_pre_sentiments = topic2_pre_comments.apply(predict_sentiment)\n",
    "topic2_post_sentiments = topic2_post_comments.apply(predict_sentiment)\n",
    "\n",
    "# Categorize each comment based on the sentiment shift\n",
    "audience_categories = list(map(categorize_audience, topic2_pre_sentiments, topic2_post_sentiments))\n",
    "\n",
    "# Count the number of comments in each category\n",
    "audience_counts = {category: audience_categories.count(category) for category in set(audience_categories)}\n",
    "\n",
    "audience_counts"
   ]
  },
  {
   "cell_type": "code",
   "execution_count": null,
   "metadata": {
    "colab": {
     "base_uri": "https://localhost:8080/"
    },
    "id": "OtIXiZeKv5s8",
    "outputId": "53fe04e2-bf1d-4d30-cedd-fd310ef9ed78"
   },
   "outputs": [
    {
     "data": {
      "text/plain": [
       "{'Expecting great, Satisfied': 2,\n",
       " 'Expecting not good, Pleasantly surprised': 5,\n",
       " 'Expecting good, Not happy': 4,\n",
       " 'Not expecting good, Not impressed': 11}"
      ]
     },
     "execution_count": 18,
     "metadata": {},
     "output_type": "execute_result"
    }
   ],
   "source": [
    "# Define the function to categorize the audience based on the sentiment shift\n",
    "def categorize_audience(pre_launch_sentiment, post_launch_sentiment):\n",
    "    if pre_launch_sentiment > 3:\n",
    "        if post_launch_sentiment > 3:\n",
    "            return \"Expecting great, Satisfied\"\n",
    "        else:\n",
    "            return \"Expecting good, Not happy\"\n",
    "    else:\n",
    "        if post_launch_sentiment > 3:\n",
    "            return \"Expecting not good, Pleasantly surprised\"\n",
    "        else:\n",
    "            return \"Not expecting good, Not impressed\"\n",
    "\n",
    "# Extract comments for Topic 3 from pre-launch and post-launch datasets\n",
    "topic4_pre_comments = grecale_pre_launch[grecale_pre_launch['topic'] == 4]['comments']\n",
    "topic4_post_comments = grecale_post_launch[grecale_post_launch['topic'] == 4]['comments']\n",
    "\n",
    "# Calculate sentiment scores for each comment using BERT\n",
    "topic4_pre_sentiments = topic4_pre_comments.apply(predict_sentiment)\n",
    "topic4_post_sentiments = topic4_post_comments.apply(predict_sentiment)\n",
    "\n",
    "# Categorize each comment based on the sentiment shift\n",
    "audience_categories = list(map(categorize_audience, topic4_pre_sentiments, topic4_post_sentiments))\n",
    "\n",
    "# Count the number of comments in each category\n",
    "audience_counts = {category: audience_categories.count(category) for category in set(audience_categories)}\n",
    "\n",
    "audience_counts"
   ]
  },
  {
   "cell_type": "code",
   "execution_count": 2,
   "metadata": {
    "colab": {
     "base_uri": "https://localhost:8080/",
     "height": 692
    },
    "id": "sKLdv2rv3el_",
    "outputId": "28b016b8-15ab-4024-ea8a-3821273d4097"
   },
   "outputs": [
    {
     "data": {
      "image/png": "[encoded data removed]",
      "text/plain": [
       "<Figure size 1500x1000 with 1 Axes>"
      ]
     },
     "metadata": {},
     "output_type": "display_data"
    }
   ],
   "source": [
    "import matplotlib.pyplot as plt\n",
    "import numpy as np\n",
    "\n",
    "# Data\n",
    "data = {\n",
    "    \"Topic 0 (General Opinions about Cars and Looks)\": {\n",
    "        'Not expecting good, Not impressed': 9,\n",
    "        'Expecting good, Not happy': 3,\n",
    "        'Expecting not good, Pleasantly surprised': 3,\n",
    "        'Expecting great, Satisfied': 3\n",
    "    },\n",
    "    \"Topic 1 (Maserati and Dealer Experiences)\": {\n",
    "        'Expecting good, Not happy': 4,\n",
    "        'Expecting not good, Pleasantly surprised': 5,\n",
    "        'Not expecting good, Not impressed': 14\n",
    "    },\n",
    "    \"Topic 2 (General Opinions and Comparisons)\": {\n",
    "        'Expecting good, Not happy': 2,\n",
    "        'Expecting not good, Pleasantly surprised': 3,\n",
    "        'Not expecting good, Not impressed': 18,\n",
    "        'Expecting great, Satisfied': 1\n",
    "    },\n",
    "    \"Topic 3 (Specifics about Grecale and Dealer Experiences)\": {\n",
    "        'Expecting good, Not happy': 2,\n",
    "        'Expecting not good, Pleasantly surprised': 2,\n",
    "        'Not expecting good, Not impressed': 9,\n",
    "        'Expecting great, Satisfied': 1\n",
    "    },\n",
    "    \"Topic 4 (Engine and Technical Aspects)\": {\n",
    "        'Expecting good, Not happy': 4,\n",
    "        'Expecting not good, Pleasantly surprised': 5,\n",
    "        'Not expecting good, Not impressed': 11,\n",
    "        'Expecting great, Satisfied': 2\n",
    "    }\n",
    "}\n",
    "\n",
    "# Create a bar chart for each topic's sentiment categories\n",
    "fig, ax = plt.subplots(figsize=(15,10))\n",
    "bar_width = 0.15\n",
    "index = np.arange(len(data[\"Topic 0 (General Opinions about Cars and Looks)\"]))\n",
    "\n",
    "colors = ['red', 'green', 'blue', 'cyan', 'magenta']\n",
    "for idx, (topic, sentiments) in enumerate(data.items()):\n",
    "    values = [sentiments.get(sentiment, 0) for sentiment in data[\"Topic 0 (General Opinions about Cars and Looks)\"]]\n",
    "    ax.bar(index + idx*bar_width, values, bar_width, label=topic, color=colors[idx])\n",
    "\n",
    "ax.set_xlabel('Sentiment Categories')\n",
    "ax.set_ylabel('Counts')\n",
    "ax.set_title('Classification of audience for grecale on the basis of expectations and satiety level over topics ')\n",
    "ax.set_xticks(index + 2*bar_width)\n",
    "ax.set_xticklabels(data[\"Topic 0 (General Opinions about Cars and Looks)\"].keys(), rotation=45)\n",
    "ax.legend()\n",
    "\n",
    "plt.tight_layout()\n",
    "plt.show()\n"
   ]
  },
  {
   "cell_type": "code",
   "execution_count": null,
   "metadata": {
    "colab": {
     "base_uri": "https://localhost:8080/",
     "height": 417
    },
    "id": "pDCKGa6t-z0L",
    "outputId": "128e2973-6528-4aec-c71b-57ba7e8ca919"
   },
   "outputs": [
    {
     "data": {
      "text/html": [
       "<html>\n",
       "<head><meta charset=\"utf-8\" /></head>\n",
       "<body>\n",
       "    <div>            <script src=\"https://cdnjs.cloudflare.com/ajax/libs/mathjax/2.7.5/MathJax.js?config=TeX-AMS-MML_SVG\"></script><script type=\"text/javascript\">if (window.MathJax && window.MathJax.Hub && window.MathJax.Hub.Config) {window.MathJax.Hub.Config({SVG: {font: \"STIX-Web\"}});}</script>                <script type=\"text/javascript\">window.PlotlyConfig = {MathJaxConfig: 'local'};</script>\n",
       "        <script charset=\"utf-8\" src=\"https://cdn.plot.ly/plotly-2.24.1.min.js\"></script>                <div id=\"fe54de70-f526-4896-827f-706c70a2ff90\" class=\"plotly-graph-div\" style=\"height:400px; width:800px;\"></div>            <script type=\"text/javascript\">                                    window.PLOTLYENV=window.PLOTLYENV || {};                                    if (document.getElementById(\"fe54de70-f526-4896-827f-706c70a2ff90\")) {                    Plotly.newPlot(                        \"fe54de70-f526-4896-827f-706c70a2ff90\",                        [{\"alignmentgroup\":\"True\",\"hovertemplate\":\"Sentiment=Expecting great, Satisfied\\u003cbr\\u003eindex=%{x}\\u003cbr\\u003eNumber of Responses=%{y}\\u003cextra\\u003e\\u003c\\u002fextra\\u003e\",\"legendgroup\":\"Expecting great, Satisfied\",\"marker\":{\"color\":\"#636efa\",\"pattern\":{\"shape\":\"\"}},\"name\":\"Expecting great, Satisfied\",\"offsetgroup\":\"Expecting great, Satisfied\",\"orientation\":\"v\",\"showlegend\":true,\"textposition\":\"auto\",\"x\":[\"General Opinion about looks\",\"Dealership Experience\",\"Comparison among competitors\",\"Comaprison with stelvio\",\"Engine & Technical Aspects\"],\"xaxis\":\"x\",\"y\":[3,0,1,1,2],\"yaxis\":\"y\",\"type\":\"bar\"},{\"alignmentgroup\":\"True\",\"hovertemplate\":\"Sentiment=Expecting good, Not happy\\u003cbr\\u003eindex=%{x}\\u003cbr\\u003eNumber of Responses=%{y}\\u003cextra\\u003e\\u003c\\u002fextra\\u003e\",\"legendgroup\":\"Expecting good, Not happy\",\"marker\":{\"color\":\"#EF553B\",\"pattern\":{\"shape\":\"\"}},\"name\":\"Expecting good, Not happy\",\"offsetgroup\":\"Expecting good, Not happy\",\"orientation\":\"v\",\"showlegend\":true,\"textposition\":\"auto\",\"x\":[\"General Opinion about looks\",\"Dealership Experience\",\"Comparison among competitors\",\"Comaprison with stelvio\",\"Engine & Technical Aspects\"],\"xaxis\":\"x\",\"y\":[3,4,2,2,4],\"yaxis\":\"y\",\"type\":\"bar\"},{\"alignmentgroup\":\"True\",\"hovertemplate\":\"Sentiment=Not expecting good, Not impressed\\u003cbr\\u003eindex=%{x}\\u003cbr\\u003eNumber of Responses=%{y}\\u003cextra\\u003e\\u003c\\u002fextra\\u003e\",\"legendgroup\":\"Not expecting good, Not impressed\",\"marker\":{\"color\":\"#00cc96\",\"pattern\":{\"shape\":\"\"}},\"name\":\"Not expecting good, Not impressed\",\"offsetgroup\":\"Not expecting good, Not impressed\",\"orientation\":\"v\",\"showlegend\":true,\"textposition\":\"auto\",\"x\":[\"General Opinion about looks\",\"Dealership Experience\",\"Comparison among competitors\",\"Comaprison with stelvio\",\"Engine & Technical Aspects\"],\"xaxis\":\"x\",\"y\":[9,14,18,9,11],\"yaxis\":\"y\",\"type\":\"bar\"},{\"alignmentgroup\":\"True\",\"hovertemplate\":\"Sentiment=Expecting not good, Pleasantly surprised\\u003cbr\\u003eindex=%{x}\\u003cbr\\u003eNumber of Responses=%{y}\\u003cextra\\u003e\\u003c\\u002fextra\\u003e\",\"legendgroup\":\"Expecting not good, Pleasantly surprised\",\"marker\":{\"color\":\"#ab63fa\",\"pattern\":{\"shape\":\"\"}},\"name\":\"Expecting not good, Pleasantly surprised\",\"offsetgroup\":\"Expecting not good, Pleasantly surprised\",\"orientation\":\"v\",\"showlegend\":true,\"textposition\":\"auto\",\"x\":[\"General Opinion about looks\",\"Dealership Experience\",\"Comparison among competitors\",\"Comaprison with stelvio\",\"Engine & Technical Aspects\"],\"xaxis\":\"x\",\"y\":[3,5,3,2,5],\"yaxis\":\"y\",\"type\":\"bar\"}],                        {\"template\":{\"data\":{\"histogram2dcontour\":[{\"type\":\"histogram2dcontour\",\"colorbar\":{\"outlinewidth\":0,\"ticks\":\"\"},\"colorscale\":[[0.0,\"#0d0887\"],[0.1111111111111111,\"#46039f\"],[0.2222222222222222,\"#7201a8\"],[0.3333333333333333,\"#9c179e\"],[0.4444444444444444,\"#bd3786\"],[0.5555555555555556,\"#d8576b\"],[0.6666666666666666,\"#ed7953\"],[0.7777777777777778,\"#fb9f3a\"],[0.8888888888888888,\"#fdca26\"],[1.0,\"#f0f921\"]]}],\"choropleth\":[{\"type\":\"choropleth\",\"colorbar\":{\"outlinewidth\":0,\"ticks\":\"\"}}],\"histogram2d\":[{\"type\":\"histogram2d\",\"colorbar\":{\"outlinewidth\":0,\"ticks\":\"\"},\"colorscale\":[[0.0,\"#0d0887\"],[0.1111111111111111,\"#46039f\"],[0.2222222222222222,\"#7201a8\"],[0.3333333333333333,\"#9c179e\"],[0.4444444444444444,\"#bd3786\"],[0.5555555555555556,\"#d8576b\"],[0.6666666666666666,\"#ed7953\"],[0.7777777777777778,\"#fb9f3a\"],[0.8888888888888888,\"#fdca26\"],[1.0,\"#f0f921\"]]}],\"heatmap\":[{\"type\":\"heatmap\",\"colorbar\":{\"outlinewidth\":0,\"ticks\":\"\"},\"colorscale\":[[0.0,\"#0d0887\"],[0.1111111111111111,\"#46039f\"],[0.2222222222222222,\"#7201a8\"],[0.3333333333333333,\"#9c179e\"],[0.4444444444444444,\"#bd3786\"],[0.5555555555555556,\"#d8576b\"],[0.6666666666666666,\"#ed7953\"],[0.7777777777777778,\"#fb9f3a\"],[0.8888888888888888,\"#fdca26\"],[1.0,\"#f0f921\"]]}],\"heatmapgl\":[{\"type\":\"heatmapgl\",\"colorbar\":{\"outlinewidth\":0,\"ticks\":\"\"},\"colorscale\":[[0.0,\"#0d0887\"],[0.1111111111111111,\"#46039f\"],[0.2222222222222222,\"#7201a8\"],[0.3333333333333333,\"#9c179e\"],[0.4444444444444444,\"#bd3786\"],[0.5555555555555556,\"#d8576b\"],[0.6666666666666666,\"#ed7953\"],[0.7777777777777778,\"#fb9f3a\"],[0.8888888888888888,\"#fdca26\"],[1.0,\"#f0f921\"]]}],\"contourcarpet\":[{\"type\":\"contourcarpet\",\"colorbar\":{\"outlinewidth\":0,\"ticks\":\"\"}}],\"contour\":[{\"type\":\"contour\",\"colorbar\":{\"outlinewidth\":0,\"ticks\":\"\"},\"colorscale\":[[0.0,\"#0d0887\"],[0.1111111111111111,\"#46039f\"],[0.2222222222222222,\"#7201a8\"],[0.3333333333333333,\"#9c179e\"],[0.4444444444444444,\"#bd3786\"],[0.5555555555555556,\"#d8576b\"],[0.6666666666666666,\"#ed7953\"],[0.7777777777777778,\"#fb9f3a\"],[0.8888888888888888,\"#fdca26\"],[1.0,\"#f0f921\"]]}],\"surface\":[{\"type\":\"surface\",\"colorbar\":{\"outlinewidth\":0,\"ticks\":\"\"},\"colorscale\":[[0.0,\"#0d0887\"],[0.1111111111111111,\"#46039f\"],[0.2222222222222222,\"#7201a8\"],[0.3333333333333333,\"#9c179e\"],[0.4444444444444444,\"#bd3786\"],[0.5555555555555556,\"#d8576b\"],[0.6666666666666666,\"#ed7953\"],[0.7777777777777778,\"#fb9f3a\"],[0.8888888888888888,\"#fdca26\"],[1.0,\"#f0f921\"]]}],\"mesh3d\":[{\"type\":\"mesh3d\",\"colorbar\":{\"outlinewidth\":0,\"ticks\":\"\"}}],\"scatter\":[{\"fillpattern\":{\"fillmode\":\"overlay\",\"size\":10,\"solidity\":0.2},\"type\":\"scatter\"}],\"parcoords\":[{\"type\":\"parcoords\",\"line\":{\"colorbar\":{\"outlinewidth\":0,\"ticks\":\"\"}}}],\"scatterpolargl\":[{\"type\":\"scatterpolargl\",\"marker\":{\"colorbar\":{\"outlinewidth\":0,\"ticks\":\"\"}}}],\"bar\":[{\"error_x\":{\"color\":\"#2a3f5f\"},\"error_y\":{\"color\":\"#2a3f5f\"},\"marker\":{\"line\":{\"color\":\"#E5ECF6\",\"width\":0.5},\"pattern\":{\"fillmode\":\"overlay\",\"size\":10,\"solidity\":0.2}},\"type\":\"bar\"}],\"scattergeo\":[{\"type\":\"scattergeo\",\"marker\":{\"colorbar\":{\"outlinewidth\":0,\"ticks\":\"\"}}}],\"scatterpolar\":[{\"type\":\"scatterpolar\",\"marker\":{\"colorbar\":{\"outlinewidth\":0,\"ticks\":\"\"}}}],\"histogram\":[{\"marker\":{\"pattern\":{\"fillmode\":\"overlay\",\"size\":10,\"solidity\":0.2}},\"type\":\"histogram\"}],\"scattergl\":[{\"type\":\"scattergl\",\"marker\":{\"colorbar\":{\"outlinewidth\":0,\"ticks\":\"\"}}}],\"scatter3d\":[{\"type\":\"scatter3d\",\"line\":{\"colorbar\":{\"outlinewidth\":0,\"ticks\":\"\"}},\"marker\":{\"colorbar\":{\"outlinewidth\":0,\"ticks\":\"\"}}}],\"scattermapbox\":[{\"type\":\"scattermapbox\",\"marker\":{\"colorbar\":{\"outlinewidth\":0,\"ticks\":\"\"}}}],\"scatterternary\":[{\"type\":\"scatterternary\",\"marker\":{\"colorbar\":{\"outlinewidth\":0,\"ticks\":\"\"}}}],\"scattercarpet\":[{\"type\":\"scattercarpet\",\"marker\":{\"colorbar\":{\"outlinewidth\":0,\"ticks\":\"\"}}}],\"carpet\":[{\"aaxis\":{\"endlinecolor\":\"#2a3f5f\",\"gridcolor\":\"white\",\"linecolor\":\"white\",\"minorgridcolor\":\"white\",\"startlinecolor\":\"#2a3f5f\"},\"baxis\":{\"endlinecolor\":\"#2a3f5f\",\"gridcolor\":\"white\",\"linecolor\":\"white\",\"minorgridcolor\":\"white\",\"startlinecolor\":\"#2a3f5f\"},\"type\":\"carpet\"}],\"table\":[{\"cells\":{\"fill\":{\"color\":\"#EBF0F8\"},\"line\":{\"color\":\"white\"}},\"header\":{\"fill\":{\"color\":\"#C8D4E3\"},\"line\":{\"color\":\"white\"}},\"type\":\"table\"}],\"barpolar\":[{\"marker\":{\"line\":{\"color\":\"#E5ECF6\",\"width\":0.5},\"pattern\":{\"fillmode\":\"overlay\",\"size\":10,\"solidity\":0.2}},\"type\":\"barpolar\"}],\"pie\":[{\"automargin\":true,\"type\":\"pie\"}]},\"layout\":{\"autotypenumbers\":\"strict\",\"colorway\":[\"#636efa\",\"#EF553B\",\"#00cc96\",\"#ab63fa\",\"#FFA15A\",\"#19d3f3\",\"#FF6692\",\"#B6E880\",\"#FF97FF\",\"#FECB52\"],\"font\":{\"color\":\"#2a3f5f\"},\"hovermode\":\"closest\",\"hoverlabel\":{\"align\":\"left\"},\"paper_bgcolor\":\"white\",\"plot_bgcolor\":\"#E5ECF6\",\"polar\":{\"bgcolor\":\"#E5ECF6\",\"angularaxis\":{\"gridcolor\":\"white\",\"linecolor\":\"white\",\"ticks\":\"\"},\"radialaxis\":{\"gridcolor\":\"white\",\"linecolor\":\"white\",\"ticks\":\"\"}},\"ternary\":{\"bgcolor\":\"#E5ECF6\",\"aaxis\":{\"gridcolor\":\"white\",\"linecolor\":\"white\",\"ticks\":\"\"},\"baxis\":{\"gridcolor\":\"white\",\"linecolor\":\"white\",\"ticks\":\"\"},\"caxis\":{\"gridcolor\":\"white\",\"linecolor\":\"white\",\"ticks\":\"\"}},\"coloraxis\":{\"colorbar\":{\"outlinewidth\":0,\"ticks\":\"\"}},\"colorscale\":{\"sequential\":[[0.0,\"#0d0887\"],[0.1111111111111111,\"#46039f\"],[0.2222222222222222,\"#7201a8\"],[0.3333333333333333,\"#9c179e\"],[0.4444444444444444,\"#bd3786\"],[0.5555555555555556,\"#d8576b\"],[0.6666666666666666,\"#ed7953\"],[0.7777777777777778,\"#fb9f3a\"],[0.8888888888888888,\"#fdca26\"],[1.0,\"#f0f921\"]],\"sequentialminus\":[[0.0,\"#0d0887\"],[0.1111111111111111,\"#46039f\"],[0.2222222222222222,\"#7201a8\"],[0.3333333333333333,\"#9c179e\"],[0.4444444444444444,\"#bd3786\"],[0.5555555555555556,\"#d8576b\"],[0.6666666666666666,\"#ed7953\"],[0.7777777777777778,\"#fb9f3a\"],[0.8888888888888888,\"#fdca26\"],[1.0,\"#f0f921\"]],\"diverging\":[[0,\"#8e0152\"],[0.1,\"#c51b7d\"],[0.2,\"#de77ae\"],[0.3,\"#f1b6da\"],[0.4,\"#fde0ef\"],[0.5,\"#f7f7f7\"],[0.6,\"#e6f5d0\"],[0.7,\"#b8e186\"],[0.8,\"#7fbc41\"],[0.9,\"#4d9221\"],[1,\"#276419\"]]},\"xaxis\":{\"gridcolor\":\"white\",\"linecolor\":\"white\",\"ticks\":\"\",\"title\":{\"standoff\":15},\"zerolinecolor\":\"white\",\"automargin\":true,\"zerolinewidth\":2},\"yaxis\":{\"gridcolor\":\"white\",\"linecolor\":\"white\",\"ticks\":\"\",\"title\":{\"standoff\":15},\"zerolinecolor\":\"white\",\"automargin\":true,\"zerolinewidth\":2},\"scene\":{\"xaxis\":{\"backgroundcolor\":\"#E5ECF6\",\"gridcolor\":\"white\",\"linecolor\":\"white\",\"showbackground\":true,\"ticks\":\"\",\"zerolinecolor\":\"white\",\"gridwidth\":2},\"yaxis\":{\"backgroundcolor\":\"#E5ECF6\",\"gridcolor\":\"white\",\"linecolor\":\"white\",\"showbackground\":true,\"ticks\":\"\",\"zerolinecolor\":\"white\",\"gridwidth\":2},\"zaxis\":{\"backgroundcolor\":\"#E5ECF6\",\"gridcolor\":\"white\",\"linecolor\":\"white\",\"showbackground\":true,\"ticks\":\"\",\"zerolinecolor\":\"white\",\"gridwidth\":2}},\"shapedefaults\":{\"line\":{\"color\":\"#2a3f5f\"}},\"annotationdefaults\":{\"arrowcolor\":\"#2a3f5f\",\"arrowhead\":0,\"arrowwidth\":1},\"geo\":{\"bgcolor\":\"white\",\"landcolor\":\"#E5ECF6\",\"subunitcolor\":\"white\",\"showland\":true,\"showlakes\":true,\"lakecolor\":\"white\"},\"title\":{\"x\":0.05},\"mapbox\":{\"style\":\"light\"}}},\"xaxis\":{\"anchor\":\"y\",\"domain\":[0.0,1.0],\"title\":{\"text\":\"Topic\"}},\"yaxis\":{\"anchor\":\"x\",\"domain\":[0.0,1.0],\"title\":{\"text\":\"Number of Responses\"}},\"legend\":{\"title\":{\"text\":\"Sentiment\"},\"tracegroupgap\":0},\"title\":{\"text\":\"Sentiment shift among people from pre to post launch\"},\"barmode\":\"stack\",\"height\":400,\"width\":800},                        {\"responsive\": true}                    ).then(function(){\n",
       "                            \n",
       "var gd = document.getElementById('fe54de70-f526-4896-827f-706c70a2ff90');\n",
       "var x = new MutationObserver(function (mutations, observer) {{\n",
       "        var display = window.getComputedStyle(gd).display;\n",
       "        if (!display || display === 'none') {{\n",
       "            console.log([gd, 'removed!']);\n",
       "            Plotly.purge(gd);\n",
       "            observer.disconnect();\n",
       "        }}\n",
       "}});\n",
       "\n",
       "// Listen for the removal of the full notebook cells\n",
       "var notebookContainer = gd.closest('#notebook-container');\n",
       "if (notebookContainer) {{\n",
       "    x.observe(notebookContainer, {childList: true});\n",
       "}}\n",
       "\n",
       "// Listen for the clearing of the current output cell\n",
       "var outputEl = gd.closest('.output');\n",
       "if (outputEl) {{\n",
       "    x.observe(outputEl, {childList: true});\n",
       "}}\n",
       "\n",
       "                        })                };                            </script>        </div>\n",
       "</body>\n",
       "</html>"
      ]
     },
     "metadata": {},
     "output_type": "display_data"
    }
   ],
   "source": [
    "zimport plotly.express as px\n",
    "# Define the data_pre_launch dictionary again\n",
    "data_pre_launch = {\n",
    "    \"General Opinion about looks\": {\n",
    "        \"Expecting great, Satisfied\": 3,\n",
    "        \"Expecting good, Not happy\": 3,\n",
    "        \"Not expecting good, Not impressed\": 9,\n",
    "        \"Expecting not good, Pleasantly surprised\": 3\n",
    "    },\n",
    "    \"Dealership Experience\": {\n",
    "        \"Expecting great, Satisfied\": 0,\n",
    "        \"Expecting good, Not happy\": 4,\n",
    "        \"Not expecting good, Not impressed\": 14,\n",
    "        \"Expecting not good, Pleasantly surprised\": 5\n",
    "    },\n",
    "    \"Comparison among competitors\": {\n",
    "        \"Expecting great, Satisfied\": 1,\n",
    "        \"Expecting good, Not happy\": 2,\n",
    "        \"Not expecting good, Not impressed\": 18,\n",
    "        \"Expecting not good, Pleasantly surprised\": 3\n",
    "    },\n",
    "    \"Comaprison with stelvio\": {\n",
    "        \"Expecting great, Satisfied\": 1,\n",
    "        \"Expecting good, Not happy\": 2,\n",
    "        \"Not expecting good, Not impressed\": 9,\n",
    "        \"Expecting not good, Pleasantly surprised\": 2\n",
    "    },\n",
    "    \"Engine & Technical Aspects\": {\n",
    "        \"Expecting great, Satisfied\": 2,\n",
    "        \"Expecting good, Not happy\": 4,\n",
    "        \"Not expecting good, Not impressed\": 11,\n",
    "        \"Expecting not good, Pleasantly surprised\": 5\n",
    "    }\n",
    "}\n",
    "\n",
    "# Create a DataFrame from the data_pre_launch dictionary\n",
    "df = pd.DataFrame(data_pre_launch).T\n",
    "\n",
    "# Create a stacked bar chart\n",
    "fig = px.bar(df,\n",
    "             title=\"Sentiment shift among people from pre to post launch\",\n",
    "             labels={'value': 'Number of Responses', 'variable': 'Sentiment'},\n",
    "             height=400,\n",
    "             width=800)\n",
    "\n",
    "fig.update_layout(barmode='stack', xaxis_title=\"Topic\", yaxis_title=\"Number of Responses\")\n",
    "fig.show()\n"
   ]
  },
  {
   "cell_type": "code",
   "execution_count": null,
   "metadata": {
    "colab": {
     "base_uri": "https://localhost:8080/"
    },
    "id": "heVjbslpPL7S",
    "outputId": "6d2a643c-91ca-401f-8a8d-832c48387bfc"
   },
   "outputs": [
    {
     "data": {
      "text/plain": [
       "(25, 76)"
      ]
     },
     "execution_count": 32,
     "metadata": {},
     "output_type": "execute_result"
    }
   ],
   "source": [
    "# Given data\n",
    "data = {\n",
    "    \"General Opinion about looks\": {\n",
    "        \"Expecting great, Satisfied\": 3,\n",
    "        \"Expecting good, Not happy\": 3,\n",
    "        \"Not expecting good, Not impressed\": 9,\n",
    "        \"Expecting not good, Pleasantly surprised\": 3\n",
    "    },\n",
    "    \"Dealership Experience\": {\n",
    "        \"Expecting great, Satisfied\": 0,\n",
    "        \"Expecting good, Not happy\": 4,\n",
    "        \"Not expecting good, Not impressed\": 14,\n",
    "        \"Expecting not good, Pleasantly surprised\": 5\n",
    "    },\n",
    "    \"Comparison among competitors\": {\n",
    "        \"Expecting great, Satisfied\": 1,\n",
    "        \"Expecting good, Not happy\": 2,\n",
    "        \"Not expecting good, Not impressed\": 18,\n",
    "        \"Expecting not good, Pleasantly surprised\": 3\n",
    "    },\n",
    "    \"Comparison with stelvio\": {\n",
    "        \"Expecting great, Satisfied\": 1,\n",
    "        \"Expecting good, Not happy\": 2,\n",
    "        \"Not expecting good, Not impressed\": 9,\n",
    "        \"Expecting not good, Pleasantly surprised\": 2\n",
    "    },\n",
    "    \"Engine & Technical Aspects\": {\n",
    "        \"Expecting great, Satisfied\": 2,\n",
    "        \"Expecting good, Not happy\": 4,\n",
    "        \"Not expecting good, Not impressed\": 11,\n",
    "        \"Expecting not good, Pleasantly surprised\": 5\n",
    "    }\n",
    "}\n",
    "\n",
    "# Combining counts for \"Audience Retained\" and \"Audience Loss\" categories\n",
    "audience_retained_count = 0\n",
    "audience_loss_count = 0\n",
    "\n",
    "# Sentiments to be combined for each category\n",
    "audience_retained_sentiments = [\"Expecting great, Satisfied\", \"Expecting not good, Pleasantly surprised\"]\n",
    "audience_loss_sentiments = [\"Expecting good, Not happy\", \"Not expecting good, Not impressed\"]\n",
    "\n",
    "for topic, sentiments in data.items():\n",
    "    for sentiment, count in sentiments.items():\n",
    "        if sentiment in audience_retained_sentiments:\n",
    "            audience_retained_count += count\n",
    "        elif sentiment in audience_loss_sentiments:\n",
    "            audience_loss_count += count\n",
    "\n",
    "audience_retained_count, audience_loss_count\n"
   ]
  },
  {
   "cell_type": "code",
   "execution_count": null,
   "metadata": {
    "colab": {
     "base_uri": "https://localhost:8080/",
     "height": 607
    },
    "id": "_GZNzwGEUrJr",
    "outputId": "8bbfee43-4921-4161-9c94-a9d3b75eff33"
   },
   "outputs": [
    {
     "data": {
      "image/png": "[encoded data removed]",
      "text/plain": [
       "<Figure size 1000x600 with 1 Axes>"
      ]
     },
     "metadata": {},
     "output_type": "display_data"
    }
   ],
   "source": [
    "# Creating the bar plot with annotated counts\n",
    "plt.figure(figsize=(10, 6))\n",
    "bars = plt.bar(categories, values, color=['green', 'red'])\n",
    "\n",
    "# Annotating each bar with its respective count\n",
    "for bar in bars:\n",
    "    yval = bar.get_height()\n",
    "    plt.text(bar.get_x() + bar.get_width()/2, yval + 1, yval, ha='center', va='bottom')\n",
    "\n",
    "plt.xlabel('Categories')\n",
    "plt.ylabel('Count')\n",
    "plt.title('Audience Retention vs Loss')\n",
    "plt.grid(axis='y')\n",
    "\n",
    "# Display the plot\n",
    "plt.tight_layout()\n",
    "plt.show()\n"
   ]
  },
  {
   "cell_type": "code",
   "execution_count": null,
   "metadata": {
    "id": "YtQvH2RJU2fH"
   },
   "outputs": [],
   "source": []
  }
 ],
 "metadata": {
  "accelerator": "GPU",
  "colab": {
   "gpuType": "T4",
   "provenance": []
  },
  "kernelspec": {
   "display_name": "Python 3 (ipykernel)",
   "language": "python",
   "name": "python3"
  },
  "language_info": {
   "codemirror_mode": {
    "name": "ipython",
    "version": 3
   },
   "file_extension": ".py",
   "mimetype": "text/x-python",
   "name": "python",
   "nbconvert_exporter": "python",
   "pygments_lexer": "ipython3",
   "version": "3.9.12"
  },
  "toc": {
   "base_numbering": 1,
   "nav_menu": {},
   "number_sections": true,
   "sideBar": true,
   "skip_h1_title": false,
   "title_cell": "Table of Contents",
   "title_sidebar": "Contents",
   "toc_cell": false,
   "toc_position": {},
   "toc_section_display": true,
   "toc_window_display": false
  },
  "varInspector": {
   "cols": {
    "lenName": 16,
    "lenType": 16,
    "lenVar": 40
   },
   "kernels_config": {
    "python": {
     "delete_cmd_postfix": "",
     "delete_cmd_prefix": "del ",
     "library": "var_list.py",
     "varRefreshCmd": "print(var_dic_list())"
    },
    "r": {
     "delete_cmd_postfix": ") ",
     "delete_cmd_prefix": "rm(",
     "library": "var_list.r",
     "varRefreshCmd": "cat(var_dic_list()) "
    }
   },
   "types_to_exclude": [
    "module",
    "function",
    "builtin_function_or_method",
    "instance",
    "_Feature"
   ],
   "window_display": false
  },
  "widgets": {
   "application/vnd.jupyter.widget-state+json": {
    "05a2d7d4fa464d89b6279639a6c78a11": {
     "model_module": "@jupyter-widgets/base",
     "model_module_version": "1.2.0",
     "model_name": "LayoutModel",
     "state": {
      "_model_module": "@jupyter-widgets/base",
      "_model_module_version": "1.2.0",
      "_model_name": "LayoutModel",
      "_view_count": null,
      "_view_module": "@jupyter-widgets/base",
      "_view_module_version": "1.2.0",
      "_view_name": "LayoutView",
      "align_content": null,
      "align_items": null,
      "align_self": null,
      "border": null,
      "bottom": null,
      "display": null,
      "flex": null,
      "flex_flow": null,
      "grid_area": null,
      "grid_auto_columns": null,
      "grid_auto_flow": null,
      "grid_auto_rows": null,
      "grid_column": null,
      "grid_gap": null,
      "grid_row": null,
      "grid_template_areas": null,
      "grid_template_columns": null,
      "grid_template_rows": null,
      "height": null,
      "justify_content": null,
      "justify_items": null,
      "left": null,
      "margin": null,
      "max_height": null,
      "max_width": null,
      "min_height": null,
      "min_width": null,
      "object_fit": null,
      "object_position": null,
      "order": null,
      "overflow": null,
      "overflow_x": null,
      "overflow_y": null,
      "padding": null,
      "right": null,
      "top": null,
      "visibility": null,
      "width": null
     }
    },
    "071cd94ae1d74669b378568722ec8387": {
     "model_module": "@jupyter-widgets/controls",
     "model_module_version": "1.5.0",
     "model_name": "DescriptionStyleModel",
     "state": {
      "_model_module": "@jupyter-widgets/controls",
      "_model_module_version": "1.5.0",
      "_model_name": "DescriptionStyleModel",
      "_view_count": null,
      "_view_module": "@jupyter-widgets/base",
      "_view_module_version": "1.2.0",
      "_view_name": "StyleView",
      "description_width": ""
     }
    },
    "118b741b1756468c8f71f0215006db08": {
     "model_module": "@jupyter-widgets/controls",
     "model_module_version": "1.5.0",
     "model_name": "DescriptionStyleModel",
     "state": {
      "_model_module": "@jupyter-widgets/controls",
      "_model_module_version": "1.5.0",
      "_model_name": "DescriptionStyleModel",
      "_view_count": null,
      "_view_module": "@jupyter-widgets/base",
      "_view_module_version": "1.2.0",
      "_view_name": "StyleView",
      "description_width": ""
     }
    },
    "14e4752efc02496cb8bf114a8620635f": {
     "model_module": "@jupyter-widgets/controls",
     "model_module_version": "1.5.0",
     "model_name": "ProgressStyleModel",
     "state": {
      "_model_module": "@jupyter-widgets/controls",
      "_model_module_version": "1.5.0",
      "_model_name": "ProgressStyleModel",
      "_view_count": null,
      "_view_module": "@jupyter-widgets/base",
      "_view_module_version": "1.2.0",
      "_view_name": "StyleView",
      "bar_color": null,
      "description_width": ""
     }
    },
    "1ea60d14a0e34ee592bd19c412d043ac": {
     "model_module": "@jupyter-widgets/controls",
     "model_module_version": "1.5.0",
     "model_name": "ProgressStyleModel",
     "state": {
      "_model_module": "@jupyter-widgets/controls",
      "_model_module_version": "1.5.0",
      "_model_name": "ProgressStyleModel",
      "_view_count": null,
      "_view_module": "@jupyter-widgets/base",
      "_view_module_version": "1.2.0",
      "_view_name": "StyleView",
      "bar_color": null,
      "description_width": ""
     }
    },
    "2401b86bde384a8b89ad6fc268df2700": {
     "model_module": "@jupyter-widgets/controls",
     "model_module_version": "1.5.0",
     "model_name": "FloatProgressModel",
     "state": {
      "_dom_classes": [],
      "_model_module": "@jupyter-widgets/controls",
      "_model_module_version": "1.5.0",
      "_model_name": "FloatProgressModel",
      "_view_count": null,
      "_view_module": "@jupyter-widgets/controls",
      "_view_module_version": "1.5.0",
      "_view_name": "ProgressView",
      "bar_style": "success",
      "description": "",
      "description_tooltip": null,
      "layout": "IPY_MODEL_4c17c6cd265d4611814d1e700dec4501",
      "max": 39,
      "min": 0,
      "orientation": "horizontal",
      "style": "IPY_MODEL_323bc176a85246aab0a915af1cd12629",
      "value": 39
     }
    },
    "30615b5dc7574de7a629b5f930eee70b": {
     "model_module": "@jupyter-widgets/controls",
     "model_module_version": "1.5.0",
     "model_name": "HTMLModel",
     "state": {
      "_dom_classes": [],
      "_model_module": "@jupyter-widgets/controls",
      "_model_module_version": "1.5.0",
      "_model_name": "HTMLModel",
      "_view_count": null,
      "_view_module": "@jupyter-widgets/controls",
      "_view_module_version": "1.5.0",
      "_view_name": "HTMLView",
      "description": "",
      "description_tooltip": null,
      "layout": "IPY_MODEL_75d153169d6040f699b53754c92a20d4",
      "placeholder": "​",
      "style": "IPY_MODEL_071cd94ae1d74669b378568722ec8387",
      "value": " 953/953 [00:00&lt;00:00, 32.6kB/s]"
     }
    },
    "323bc176a85246aab0a915af1cd12629": {
     "model_module": "@jupyter-widgets/controls",
     "model_module_version": "1.5.0",
     "model_name": "ProgressStyleModel",
     "state": {
      "_model_module": "@jupyter-widgets/controls",
      "_model_module_version": "1.5.0",
      "_model_name": "ProgressStyleModel",
      "_view_count": null,
      "_view_module": "@jupyter-widgets/base",
      "_view_module_version": "1.2.0",
      "_view_name": "StyleView",
      "bar_color": null,
      "description_width": ""
     }
    },
    "3a8c4c776b5c45bfa7bd448366a9ab56": {
     "model_module": "@jupyter-widgets/base",
     "model_module_version": "1.2.0",
     "model_name": "LayoutModel",
     "state": {
      "_model_module": "@jupyter-widgets/base",
      "_model_module_version": "1.2.0",
      "_model_name": "LayoutModel",
      "_view_count": null,
      "_view_module": "@jupyter-widgets/base",
      "_view_module_version": "1.2.0",
      "_view_name": "LayoutView",
      "align_content": null,
      "align_items": null,
      "align_self": null,
      "border": null,
      "bottom": null,
      "display": null,
      "flex": null,
      "flex_flow": null,
      "grid_area": null,
      "grid_auto_columns": null,
      "grid_auto_flow": null,
      "grid_auto_rows": null,
      "grid_column": null,
      "grid_gap": null,
      "grid_row": null,
      "grid_template_areas": null,
      "grid_template_columns": null,
      "grid_template_rows": null,
      "height": null,
      "justify_content": null,
      "justify_items": null,
      "left": null,
      "margin": null,
      "max_height": null,
      "max_width": null,
      "min_height": null,
      "min_width": null,
      "object_fit": null,
      "object_position": null,
      "order": null,
      "overflow": null,
      "overflow_x": null,
      "overflow_y": null,
      "padding": null,
      "right": null,
      "top": null,
      "visibility": null,
      "width": null
     }
    },
    "3b8052007abe4cdca047746d0cd27eff": {
     "model_module": "@jupyter-widgets/base",
     "model_module_version": "1.2.0",
     "model_name": "LayoutModel",
     "state": {
      "_model_module": "@jupyter-widgets/base",
      "_model_module_version": "1.2.0",
      "_model_name": "LayoutModel",
      "_view_count": null,
      "_view_module": "@jupyter-widgets/base",
      "_view_module_version": "1.2.0",
      "_view_name": "LayoutView",
      "align_content": null,
      "align_items": null,
      "align_self": null,
      "border": null,
      "bottom": null,
      "display": null,
      "flex": null,
      "flex_flow": null,
      "grid_area": null,
      "grid_auto_columns": null,
      "grid_auto_flow": null,
      "grid_auto_rows": null,
      "grid_column": null,
      "grid_gap": null,
      "grid_row": null,
      "grid_template_areas": null,
      "grid_template_columns": null,
      "grid_template_rows": null,
      "height": null,
      "justify_content": null,
      "justify_items": null,
      "left": null,
      "margin": null,
      "max_height": null,
      "max_width": null,
      "min_height": null,
      "min_width": null,
      "object_fit": null,
      "object_position": null,
      "order": null,
      "overflow": null,
      "overflow_x": null,
      "overflow_y": null,
      "padding": null,
      "right": null,
      "top": null,
      "visibility": null,
      "width": null
     }
    },
    "3bbb27719b544e19969ac27c30e6543f": {
     "model_module": "@jupyter-widgets/base",
     "model_module_version": "1.2.0",
     "model_name": "LayoutModel",
     "state": {
      "_model_module": "@jupyter-widgets/base",
      "_model_module_version": "1.2.0",
      "_model_name": "LayoutModel",
      "_view_count": null,
      "_view_module": "@jupyter-widgets/base",
      "_view_module_version": "1.2.0",
      "_view_name": "LayoutView",
      "align_content": null,
      "align_items": null,
      "align_self": null,
      "border": null,
      "bottom": null,
      "display": null,
      "flex": null,
      "flex_flow": null,
      "grid_area": null,
      "grid_auto_columns": null,
      "grid_auto_flow": null,
      "grid_auto_rows": null,
      "grid_column": null,
      "grid_gap": null,
      "grid_row": null,
      "grid_template_areas": null,
      "grid_template_columns": null,
      "grid_template_rows": null,
      "height": null,
      "justify_content": null,
      "justify_items": null,
      "left": null,
      "margin": null,
      "max_height": null,
      "max_width": null,
      "min_height": null,
      "min_width": null,
      "object_fit": null,
      "object_position": null,
      "order": null,
      "overflow": null,
      "overflow_x": null,
      "overflow_y": null,
      "padding": null,
      "right": null,
      "top": null,
      "visibility": null,
      "width": null
     }
    },
    "3f2617467c2f47d0b0676fc5c6a8de01": {
     "model_module": "@jupyter-widgets/base",
     "model_module_version": "1.2.0",
     "model_name": "LayoutModel",
     "state": {
      "_model_module": "@jupyter-widgets/base",
      "_model_module_version": "1.2.0",
      "_model_name": "LayoutModel",
      "_view_count": null,
      "_view_module": "@jupyter-widgets/base",
      "_view_module_version": "1.2.0",
      "_view_name": "LayoutView",
      "align_content": null,
      "align_items": null,
      "align_self": null,
      "border": null,
      "bottom": null,
      "display": null,
      "flex": null,
      "flex_flow": null,
      "grid_area": null,
      "grid_auto_columns": null,
      "grid_auto_flow": null,
      "grid_auto_rows": null,
      "grid_column": null,
      "grid_gap": null,
      "grid_row": null,
      "grid_template_areas": null,
      "grid_template_columns": null,
      "grid_template_rows": null,
      "height": null,
      "justify_content": null,
      "justify_items": null,
      "left": null,
      "margin": null,
      "max_height": null,
      "max_width": null,
      "min_height": null,
      "min_width": null,
      "object_fit": null,
      "object_position": null,
      "order": null,
      "overflow": null,
      "overflow_x": null,
      "overflow_y": null,
      "padding": null,
      "right": null,
      "top": null,
      "visibility": null,
      "width": null
     }
    },
    "4c17c6cd265d4611814d1e700dec4501": {
     "model_module": "@jupyter-widgets/base",
     "model_module_version": "1.2.0",
     "model_name": "LayoutModel",
     "state": {
      "_model_module": "@jupyter-widgets/base",
      "_model_module_version": "1.2.0",
      "_model_name": "LayoutModel",
      "_view_count": null,
      "_view_module": "@jupyter-widgets/base",
      "_view_module_version": "1.2.0",
      "_view_name": "LayoutView",
      "align_content": null,
      "align_items": null,
      "align_self": null,
      "border": null,
      "bottom": null,
      "display": null,
      "flex": null,
      "flex_flow": null,
      "grid_area": null,
      "grid_auto_columns": null,
      "grid_auto_flow": null,
      "grid_auto_rows": null,
      "grid_column": null,
      "grid_gap": null,
      "grid_row": null,
      "grid_template_areas": null,
      "grid_template_columns": null,
      "grid_template_rows": null,
      "height": null,
      "justify_content": null,
      "justify_items": null,
      "left": null,
      "margin": null,
      "max_height": null,
      "max_width": null,
      "min_height": null,
      "min_width": null,
      "object_fit": null,
      "object_position": null,
      "order": null,
      "overflow": null,
      "overflow_x": null,
      "overflow_y": null,
      "padding": null,
      "right": null,
      "top": null,
      "visibility": null,
      "width": null
     }
    },
    "540f0e28877f47a4b5efa764f7de60e0": {
     "model_module": "@jupyter-widgets/controls",
     "model_module_version": "1.5.0",
     "model_name": "DescriptionStyleModel",
     "state": {
      "_model_module": "@jupyter-widgets/controls",
      "_model_module_version": "1.5.0",
      "_model_name": "DescriptionStyleModel",
      "_view_count": null,
      "_view_module": "@jupyter-widgets/base",
      "_view_module_version": "1.2.0",
      "_view_name": "StyleView",
      "description_width": ""
     }
    },
    "5459ad2c88b74afcbe4285833ddd3837": {
     "model_module": "@jupyter-widgets/base",
     "model_module_version": "1.2.0",
     "model_name": "LayoutModel",
     "state": {
      "_model_module": "@jupyter-widgets/base",
      "_model_module_version": "1.2.0",
      "_model_name": "LayoutModel",
      "_view_count": null,
      "_view_module": "@jupyter-widgets/base",
      "_view_module_version": "1.2.0",
      "_view_name": "LayoutView",
      "align_content": null,
      "align_items": null,
      "align_self": null,
      "border": null,
      "bottom": null,
      "display": null,
      "flex": null,
      "flex_flow": null,
      "grid_area": null,
      "grid_auto_columns": null,
      "grid_auto_flow": null,
      "grid_auto_rows": null,
      "grid_column": null,
      "grid_gap": null,
      "grid_row": null,
      "grid_template_areas": null,
      "grid_template_columns": null,
      "grid_template_rows": null,
      "height": null,
      "justify_content": null,
      "justify_items": null,
      "left": null,
      "margin": null,
      "max_height": null,
      "max_width": null,
      "min_height": null,
      "min_width": null,
      "object_fit": null,
      "object_position": null,
      "order": null,
      "overflow": null,
      "overflow_x": null,
      "overflow_y": null,
      "padding": null,
      "right": null,
      "top": null,
      "visibility": null,
      "width": null
     }
    },
    "558545235fb64f829885a85a4e3a6596": {
     "model_module": "@jupyter-widgets/controls",
     "model_module_version": "1.5.0",
     "model_name": "HTMLModel",
     "state": {
      "_dom_classes": [],
      "_model_module": "@jupyter-widgets/controls",
      "_model_module_version": "1.5.0",
      "_model_name": "HTMLModel",
      "_view_count": null,
      "_view_module": "@jupyter-widgets/controls",
      "_view_module_version": "1.5.0",
      "_view_name": "HTMLView",
      "description": "",
      "description_tooltip": null,
      "layout": "IPY_MODEL_5459ad2c88b74afcbe4285833ddd3837",
      "placeholder": "​",
      "style": "IPY_MODEL_540f0e28877f47a4b5efa764f7de60e0",
      "value": " 669M/669M [00:04&lt;00:00, 139MB/s]"
     }
    },
    "57f7c4587b3b4987b01b0272971b6145": {
     "model_module": "@jupyter-widgets/base",
     "model_module_version": "1.2.0",
     "model_name": "LayoutModel",
     "state": {
      "_model_module": "@jupyter-widgets/base",
      "_model_module_version": "1.2.0",
      "_model_name": "LayoutModel",
      "_view_count": null,
      "_view_module": "@jupyter-widgets/base",
      "_view_module_version": "1.2.0",
      "_view_name": "LayoutView",
      "align_content": null,
      "align_items": null,
      "align_self": null,
      "border": null,
      "bottom": null,
      "display": null,
      "flex": null,
      "flex_flow": null,
      "grid_area": null,
      "grid_auto_columns": null,
      "grid_auto_flow": null,
      "grid_auto_rows": null,
      "grid_column": null,
      "grid_gap": null,
      "grid_row": null,
      "grid_template_areas": null,
      "grid_template_columns": null,
      "grid_template_rows": null,
      "height": null,
      "justify_content": null,
      "justify_items": null,
      "left": null,
      "margin": null,
      "max_height": null,
      "max_width": null,
      "min_height": null,
      "min_width": null,
      "object_fit": null,
      "object_position": null,
      "order": null,
      "overflow": null,
      "overflow_x": null,
      "overflow_y": null,
      "padding": null,
      "right": null,
      "top": null,
      "visibility": null,
      "width": null
     }
    },
    "59a802d49e194a28a12cb70f526b930b": {
     "model_module": "@jupyter-widgets/base",
     "model_module_version": "1.2.0",
     "model_name": "LayoutModel",
     "state": {
      "_model_module": "@jupyter-widgets/base",
      "_model_module_version": "1.2.0",
      "_model_name": "LayoutModel",
      "_view_count": null,
      "_view_module": "@jupyter-widgets/base",
      "_view_module_version": "1.2.0",
      "_view_name": "LayoutView",
      "align_content": null,
      "align_items": null,
      "align_self": null,
      "border": null,
      "bottom": null,
      "display": null,
      "flex": null,
      "flex_flow": null,
      "grid_area": null,
      "grid_auto_columns": null,
      "grid_auto_flow": null,
      "grid_auto_rows": null,
      "grid_column": null,
      "grid_gap": null,
      "grid_row": null,
      "grid_template_areas": null,
      "grid_template_columns": null,
      "grid_template_rows": null,
      "height": null,
      "justify_content": null,
      "justify_items": null,
      "left": null,
      "margin": null,
      "max_height": null,
      "max_width": null,
      "min_height": null,
      "min_width": null,
      "object_fit": null,
      "object_position": null,
      "order": null,
      "overflow": null,
      "overflow_x": null,
      "overflow_y": null,
      "padding": null,
      "right": null,
      "top": null,
      "visibility": null,
      "width": null
     }
    },
    "60d7e5b076ac417e9fed988680d2210e": {
     "model_module": "@jupyter-widgets/base",
     "model_module_version": "1.2.0",
     "model_name": "LayoutModel",
     "state": {
      "_model_module": "@jupyter-widgets/base",
      "_model_module_version": "1.2.0",
      "_model_name": "LayoutModel",
      "_view_count": null,
      "_view_module": "@jupyter-widgets/base",
      "_view_module_version": "1.2.0",
      "_view_name": "LayoutView",
      "align_content": null,
      "align_items": null,
      "align_self": null,
      "border": null,
      "bottom": null,
      "display": null,
      "flex": null,
      "flex_flow": null,
      "grid_area": null,
      "grid_auto_columns": null,
      "grid_auto_flow": null,
      "grid_auto_rows": null,
      "grid_column": null,
      "grid_gap": null,
      "grid_row": null,
      "grid_template_areas": null,
      "grid_template_columns": null,
      "grid_template_rows": null,
      "height": null,
      "justify_content": null,
      "justify_items": null,
      "left": null,
      "margin": null,
      "max_height": null,
      "max_width": null,
      "min_height": null,
      "min_width": null,
      "object_fit": null,
      "object_position": null,
      "order": null,
      "overflow": null,
      "overflow_x": null,
      "overflow_y": null,
      "padding": null,
      "right": null,
      "top": null,
      "visibility": null,
      "width": null
     }
    },
    "65b3c85a064c49c6bb4c61349c9eecdd": {
     "model_module": "@jupyter-widgets/controls",
     "model_module_version": "1.5.0",
     "model_name": "HBoxModel",
     "state": {
      "_dom_classes": [],
      "_model_module": "@jupyter-widgets/controls",
      "_model_module_version": "1.5.0",
      "_model_name": "HBoxModel",
      "_view_count": null,
      "_view_module": "@jupyter-widgets/controls",
      "_view_module_version": "1.5.0",
      "_view_name": "HBoxView",
      "box_style": "",
      "children": [
       "IPY_MODEL_890589b896ac400a8489171748fed00a",
       "IPY_MODEL_8796a6c9560241ec9cbaf3fb44992bb7",
       "IPY_MODEL_30615b5dc7574de7a629b5f930eee70b"
      ],
      "layout": "IPY_MODEL_e72c36c9f03b4b87b7dc5b8af7117b50"
     }
    },
    "695227a2a0f34459b5d9e9604098303c": {
     "model_module": "@jupyter-widgets/controls",
     "model_module_version": "1.5.0",
     "model_name": "ProgressStyleModel",
     "state": {
      "_model_module": "@jupyter-widgets/controls",
      "_model_module_version": "1.5.0",
      "_model_name": "ProgressStyleModel",
      "_view_count": null,
      "_view_module": "@jupyter-widgets/base",
      "_view_module_version": "1.2.0",
      "_view_name": "StyleView",
      "bar_color": null,
      "description_width": ""
     }
    },
    "6bbe623c03274b13a9f9ee8cb6c4023c": {
     "model_module": "@jupyter-widgets/controls",
     "model_module_version": "1.5.0",
     "model_name": "HTMLModel",
     "state": {
      "_dom_classes": [],
      "_model_module": "@jupyter-widgets/controls",
      "_model_module_version": "1.5.0",
      "_model_name": "HTMLModel",
      "_view_count": null,
      "_view_module": "@jupyter-widgets/controls",
      "_view_module_version": "1.5.0",
      "_view_name": "HTMLView",
      "description": "",
      "description_tooltip": null,
      "layout": "IPY_MODEL_e62294b034a146528181c3764ae808f5",
      "placeholder": "​",
      "style": "IPY_MODEL_b29db3bd988d4f55800c1c83933bae8b",
      "value": "Downloading (…)cial_tokens_map.json: 100%"
     }
    },
    "6ff11435da884b72b48ce5cd787ed557": {
     "model_module": "@jupyter-widgets/controls",
     "model_module_version": "1.5.0",
     "model_name": "DescriptionStyleModel",
     "state": {
      "_model_module": "@jupyter-widgets/controls",
      "_model_module_version": "1.5.0",
      "_model_name": "DescriptionStyleModel",
      "_view_count": null,
      "_view_module": "@jupyter-widgets/base",
      "_view_module_version": "1.2.0",
      "_view_name": "StyleView",
      "description_width": ""
     }
    },
    "7468be2769ad4adf80b767cc06f0bdff": {
     "model_module": "@jupyter-widgets/base",
     "model_module_version": "1.2.0",
     "model_name": "LayoutModel",
     "state": {
      "_model_module": "@jupyter-widgets/base",
      "_model_module_version": "1.2.0",
      "_model_name": "LayoutModel",
      "_view_count": null,
      "_view_module": "@jupyter-widgets/base",
      "_view_module_version": "1.2.0",
      "_view_name": "LayoutView",
      "align_content": null,
      "align_items": null,
      "align_self": null,
      "border": null,
      "bottom": null,
      "display": null,
      "flex": null,
      "flex_flow": null,
      "grid_area": null,
      "grid_auto_columns": null,
      "grid_auto_flow": null,
      "grid_auto_rows": null,
      "grid_column": null,
      "grid_gap": null,
      "grid_row": null,
      "grid_template_areas": null,
      "grid_template_columns": null,
      "grid_template_rows": null,
      "height": null,
      "justify_content": null,
      "justify_items": null,
      "left": null,
      "margin": null,
      "max_height": null,
      "max_width": null,
      "min_height": null,
      "min_width": null,
      "object_fit": null,
      "object_position": null,
      "order": null,
      "overflow": null,
      "overflow_x": null,
      "overflow_y": null,
      "padding": null,
      "right": null,
      "top": null,
      "visibility": null,
      "width": null
     }
    },
    "75d153169d6040f699b53754c92a20d4": {
     "model_module": "@jupyter-widgets/base",
     "model_module_version": "1.2.0",
     "model_name": "LayoutModel",
     "state": {
      "_model_module": "@jupyter-widgets/base",
      "_model_module_version": "1.2.0",
      "_model_name": "LayoutModel",
      "_view_count": null,
      "_view_module": "@jupyter-widgets/base",
      "_view_module_version": "1.2.0",
      "_view_name": "LayoutView",
      "align_content": null,
      "align_items": null,
      "align_self": null,
      "border": null,
      "bottom": null,
      "display": null,
      "flex": null,
      "flex_flow": null,
      "grid_area": null,
      "grid_auto_columns": null,
      "grid_auto_flow": null,
      "grid_auto_rows": null,
      "grid_column": null,
      "grid_gap": null,
      "grid_row": null,
      "grid_template_areas": null,
      "grid_template_columns": null,
      "grid_template_rows": null,
      "height": null,
      "justify_content": null,
      "justify_items": null,
      "left": null,
      "margin": null,
      "max_height": null,
      "max_width": null,
      "min_height": null,
      "min_width": null,
      "object_fit": null,
      "object_position": null,
      "order": null,
      "overflow": null,
      "overflow_x": null,
      "overflow_y": null,
      "padding": null,
      "right": null,
      "top": null,
      "visibility": null,
      "width": null
     }
    },
    "7ca3f805cb7c478c8b69b419ad9c1162": {
     "model_module": "@jupyter-widgets/controls",
     "model_module_version": "1.5.0",
     "model_name": "HBoxModel",
     "state": {
      "_dom_classes": [],
      "_model_module": "@jupyter-widgets/controls",
      "_model_module_version": "1.5.0",
      "_model_name": "HBoxModel",
      "_view_count": null,
      "_view_module": "@jupyter-widgets/controls",
      "_view_module_version": "1.5.0",
      "_view_name": "HBoxView",
      "box_style": "",
      "children": [
       "IPY_MODEL_eb42dba43a4442ba8bf62953d3efacca",
       "IPY_MODEL_2401b86bde384a8b89ad6fc268df2700",
       "IPY_MODEL_ba65aa7b06c04088bc2f5a61e6f30067"
      ],
      "layout": "IPY_MODEL_c33c9e91a1d54bfc8f34e8b7b9c8a77f"
     }
    },
    "8796a6c9560241ec9cbaf3fb44992bb7": {
     "model_module": "@jupyter-widgets/controls",
     "model_module_version": "1.5.0",
     "model_name": "FloatProgressModel",
     "state": {
      "_dom_classes": [],
      "_model_module": "@jupyter-widgets/controls",
      "_model_module_version": "1.5.0",
      "_model_name": "FloatProgressModel",
      "_view_count": null,
      "_view_module": "@jupyter-widgets/controls",
      "_view_module_version": "1.5.0",
      "_view_name": "ProgressView",
      "bar_style": "success",
      "description": "",
      "description_tooltip": null,
      "layout": "IPY_MODEL_97f798063d1145d5b069c3f320ea4a87",
      "max": 953,
      "min": 0,
      "orientation": "horizontal",
      "style": "IPY_MODEL_695227a2a0f34459b5d9e9604098303c",
      "value": 953
     }
    },
    "890589b896ac400a8489171748fed00a": {
     "model_module": "@jupyter-widgets/controls",
     "model_module_version": "1.5.0",
     "model_name": "HTMLModel",
     "state": {
      "_dom_classes": [],
      "_model_module": "@jupyter-widgets/controls",
      "_model_module_version": "1.5.0",
      "_model_name": "HTMLModel",
      "_view_count": null,
      "_view_module": "@jupyter-widgets/controls",
      "_view_module_version": "1.5.0",
      "_view_name": "HTMLView",
      "description": "",
      "description_tooltip": null,
      "layout": "IPY_MODEL_57f7c4587b3b4987b01b0272971b6145",
      "placeholder": "​",
      "style": "IPY_MODEL_addb52dd2db941a8875bd01b35187811",
      "value": "Downloading (…)lve/main/config.json: 100%"
     }
    },
    "8bc2e2ba7cf842188dbd526ab05c0a6b": {
     "model_module": "@jupyter-widgets/controls",
     "model_module_version": "1.5.0",
     "model_name": "HBoxModel",
     "state": {
      "_dom_classes": [],
      "_model_module": "@jupyter-widgets/controls",
      "_model_module_version": "1.5.0",
      "_model_name": "HBoxModel",
      "_view_count": null,
      "_view_module": "@jupyter-widgets/controls",
      "_view_module_version": "1.5.0",
      "_view_name": "HBoxView",
      "box_style": "",
      "children": [
       "IPY_MODEL_6bbe623c03274b13a9f9ee8cb6c4023c",
       "IPY_MODEL_a83887312e9244a0b991a393d56cc732",
       "IPY_MODEL_e2b031e49ae349968ce8b5f0a8d32a8d"
      ],
      "layout": "IPY_MODEL_d4cc3eff925d4aa0adb20ef663d24607"
     }
    },
    "8df88e67f3974d34aa937ac2b605e908": {
     "model_module": "@jupyter-widgets/controls",
     "model_module_version": "1.5.0",
     "model_name": "HBoxModel",
     "state": {
      "_dom_classes": [],
      "_model_module": "@jupyter-widgets/controls",
      "_model_module_version": "1.5.0",
      "_model_name": "HBoxModel",
      "_view_count": null,
      "_view_module": "@jupyter-widgets/controls",
      "_view_module_version": "1.5.0",
      "_view_name": "HBoxView",
      "box_style": "",
      "children": [
       "IPY_MODEL_df46e1155c6a47db846235ab7828e563",
       "IPY_MODEL_bf16f564b037408dba92db76bc674e65",
       "IPY_MODEL_558545235fb64f829885a85a4e3a6596"
      ],
      "layout": "IPY_MODEL_cbd19b38c6df4cb5ab302d27841f88a1"
     }
    },
    "955a30653b7f4137b98f76407659c688": {
     "model_module": "@jupyter-widgets/controls",
     "model_module_version": "1.5.0",
     "model_name": "DescriptionStyleModel",
     "state": {
      "_model_module": "@jupyter-widgets/controls",
      "_model_module_version": "1.5.0",
      "_model_name": "DescriptionStyleModel",
      "_view_count": null,
      "_view_module": "@jupyter-widgets/base",
      "_view_module_version": "1.2.0",
      "_view_name": "StyleView",
      "description_width": ""
     }
    },
    "95c6f27ccb9041e2bc2833a0ddfe3dbc": {
     "model_module": "@jupyter-widgets/controls",
     "model_module_version": "1.5.0",
     "model_name": "DescriptionStyleModel",
     "state": {
      "_model_module": "@jupyter-widgets/controls",
      "_model_module_version": "1.5.0",
      "_model_name": "DescriptionStyleModel",
      "_view_count": null,
      "_view_module": "@jupyter-widgets/base",
      "_view_module_version": "1.2.0",
      "_view_name": "StyleView",
      "description_width": ""
     }
    },
    "97f798063d1145d5b069c3f320ea4a87": {
     "model_module": "@jupyter-widgets/base",
     "model_module_version": "1.2.0",
     "model_name": "LayoutModel",
     "state": {
      "_model_module": "@jupyter-widgets/base",
      "_model_module_version": "1.2.0",
      "_model_name": "LayoutModel",
      "_view_count": null,
      "_view_module": "@jupyter-widgets/base",
      "_view_module_version": "1.2.0",
      "_view_name": "LayoutView",
      "align_content": null,
      "align_items": null,
      "align_self": null,
      "border": null,
      "bottom": null,
      "display": null,
      "flex": null,
      "flex_flow": null,
      "grid_area": null,
      "grid_auto_columns": null,
      "grid_auto_flow": null,
      "grid_auto_rows": null,
      "grid_column": null,
      "grid_gap": null,
      "grid_row": null,
      "grid_template_areas": null,
      "grid_template_columns": null,
      "grid_template_rows": null,
      "height": null,
      "justify_content": null,
      "justify_items": null,
      "left": null,
      "margin": null,
      "max_height": null,
      "max_width": null,
      "min_height": null,
      "min_width": null,
      "object_fit": null,
      "object_position": null,
      "order": null,
      "overflow": null,
      "overflow_x": null,
      "overflow_y": null,
      "padding": null,
      "right": null,
      "top": null,
      "visibility": null,
      "width": null
     }
    },
    "9a7cd89064c541d3930cf6d72a4850a2": {
     "model_module": "@jupyter-widgets/controls",
     "model_module_version": "1.5.0",
     "model_name": "ProgressStyleModel",
     "state": {
      "_model_module": "@jupyter-widgets/controls",
      "_model_module_version": "1.5.0",
      "_model_name": "ProgressStyleModel",
      "_view_count": null,
      "_view_module": "@jupyter-widgets/base",
      "_view_module_version": "1.2.0",
      "_view_name": "StyleView",
      "bar_color": null,
      "description_width": ""
     }
    },
    "a5637ed601f6481db7784b93b1edc3a9": {
     "model_module": "@jupyter-widgets/base",
     "model_module_version": "1.2.0",
     "model_name": "LayoutModel",
     "state": {
      "_model_module": "@jupyter-widgets/base",
      "_model_module_version": "1.2.0",
      "_model_name": "LayoutModel",
      "_view_count": null,
      "_view_module": "@jupyter-widgets/base",
      "_view_module_version": "1.2.0",
      "_view_name": "LayoutView",
      "align_content": null,
      "align_items": null,
      "align_self": null,
      "border": null,
      "bottom": null,
      "display": null,
      "flex": null,
      "flex_flow": null,
      "grid_area": null,
      "grid_auto_columns": null,
      "grid_auto_flow": null,
      "grid_auto_rows": null,
      "grid_column": null,
      "grid_gap": null,
      "grid_row": null,
      "grid_template_areas": null,
      "grid_template_columns": null,
      "grid_template_rows": null,
      "height": null,
      "justify_content": null,
      "justify_items": null,
      "left": null,
      "margin": null,
      "max_height": null,
      "max_width": null,
      "min_height": null,
      "min_width": null,
      "object_fit": null,
      "object_position": null,
      "order": null,
      "overflow": null,
      "overflow_x": null,
      "overflow_y": null,
      "padding": null,
      "right": null,
      "top": null,
      "visibility": null,
      "width": null
     }
    },
    "a83887312e9244a0b991a393d56cc732": {
     "model_module": "@jupyter-widgets/controls",
     "model_module_version": "1.5.0",
     "model_name": "FloatProgressModel",
     "state": {
      "_dom_classes": [],
      "_model_module": "@jupyter-widgets/controls",
      "_model_module_version": "1.5.0",
      "_model_name": "FloatProgressModel",
      "_view_count": null,
      "_view_module": "@jupyter-widgets/controls",
      "_view_module_version": "1.5.0",
      "_view_name": "ProgressView",
      "bar_style": "success",
      "description": "",
      "description_tooltip": null,
      "layout": "IPY_MODEL_3b8052007abe4cdca047746d0cd27eff",
      "max": 112,
      "min": 0,
      "orientation": "horizontal",
      "style": "IPY_MODEL_1ea60d14a0e34ee592bd19c412d043ac",
      "value": 112
     }
    },
    "a8dd147a4412420495216dd3060cf901": {
     "model_module": "@jupyter-widgets/controls",
     "model_module_version": "1.5.0",
     "model_name": "HBoxModel",
     "state": {
      "_dom_classes": [],
      "_model_module": "@jupyter-widgets/controls",
      "_model_module_version": "1.5.0",
      "_model_name": "HBoxModel",
      "_view_count": null,
      "_view_module": "@jupyter-widgets/controls",
      "_view_module_version": "1.5.0",
      "_view_name": "HBoxView",
      "box_style": "",
      "children": [
       "IPY_MODEL_b55123ab72b5499f83ba2bf36e582e4b",
       "IPY_MODEL_b5938d8b8c7243b599d7c0a238892ed1",
       "IPY_MODEL_f602ccd0cbc5480da0bd20cef075a056"
      ],
      "layout": "IPY_MODEL_faf0800b89b9489a882b6337c10236b7"
     }
    },
    "addb52dd2db941a8875bd01b35187811": {
     "model_module": "@jupyter-widgets/controls",
     "model_module_version": "1.5.0",
     "model_name": "DescriptionStyleModel",
     "state": {
      "_model_module": "@jupyter-widgets/controls",
      "_model_module_version": "1.5.0",
      "_model_name": "DescriptionStyleModel",
      "_view_count": null,
      "_view_module": "@jupyter-widgets/base",
      "_view_module_version": "1.2.0",
      "_view_name": "StyleView",
      "description_width": ""
     }
    },
    "b29db3bd988d4f55800c1c83933bae8b": {
     "model_module": "@jupyter-widgets/controls",
     "model_module_version": "1.5.0",
     "model_name": "DescriptionStyleModel",
     "state": {
      "_model_module": "@jupyter-widgets/controls",
      "_model_module_version": "1.5.0",
      "_model_name": "DescriptionStyleModel",
      "_view_count": null,
      "_view_module": "@jupyter-widgets/base",
      "_view_module_version": "1.2.0",
      "_view_name": "StyleView",
      "description_width": ""
     }
    },
    "b55123ab72b5499f83ba2bf36e582e4b": {
     "model_module": "@jupyter-widgets/controls",
     "model_module_version": "1.5.0",
     "model_name": "HTMLModel",
     "state": {
      "_dom_classes": [],
      "_model_module": "@jupyter-widgets/controls",
      "_model_module_version": "1.5.0",
      "_model_name": "HTMLModel",
      "_view_count": null,
      "_view_module": "@jupyter-widgets/controls",
      "_view_module_version": "1.5.0",
      "_view_name": "HTMLView",
      "description": "",
      "description_tooltip": null,
      "layout": "IPY_MODEL_59a802d49e194a28a12cb70f526b930b",
      "placeholder": "​",
      "style": "IPY_MODEL_6ff11435da884b72b48ce5cd787ed557",
      "value": "Downloading (…)solve/main/vocab.txt: 100%"
     }
    },
    "b5938d8b8c7243b599d7c0a238892ed1": {
     "model_module": "@jupyter-widgets/controls",
     "model_module_version": "1.5.0",
     "model_name": "FloatProgressModel",
     "state": {
      "_dom_classes": [],
      "_model_module": "@jupyter-widgets/controls",
      "_model_module_version": "1.5.0",
      "_model_name": "FloatProgressModel",
      "_view_count": null,
      "_view_module": "@jupyter-widgets/controls",
      "_view_module_version": "1.5.0",
      "_view_name": "ProgressView",
      "bar_style": "success",
      "description": "",
      "description_tooltip": null,
      "layout": "IPY_MODEL_7468be2769ad4adf80b767cc06f0bdff",
      "max": 871891,
      "min": 0,
      "orientation": "horizontal",
      "style": "IPY_MODEL_9a7cd89064c541d3930cf6d72a4850a2",
      "value": 871891
     }
    },
    "ba65aa7b06c04088bc2f5a61e6f30067": {
     "model_module": "@jupyter-widgets/controls",
     "model_module_version": "1.5.0",
     "model_name": "HTMLModel",
     "state": {
      "_dom_classes": [],
      "_model_module": "@jupyter-widgets/controls",
      "_model_module_version": "1.5.0",
      "_model_name": "HTMLModel",
      "_view_count": null,
      "_view_module": "@jupyter-widgets/controls",
      "_view_module_version": "1.5.0",
      "_view_name": "HTMLView",
      "description": "",
      "description_tooltip": null,
      "layout": "IPY_MODEL_3bbb27719b544e19969ac27c30e6543f",
      "placeholder": "​",
      "style": "IPY_MODEL_cba8a19f4c5745348fee9919ca9e1aa8",
      "value": " 39.0/39.0 [00:00&lt;00:00, 735B/s]"
     }
    },
    "bf16f564b037408dba92db76bc674e65": {
     "model_module": "@jupyter-widgets/controls",
     "model_module_version": "1.5.0",
     "model_name": "FloatProgressModel",
     "state": {
      "_dom_classes": [],
      "_model_module": "@jupyter-widgets/controls",
      "_model_module_version": "1.5.0",
      "_model_name": "FloatProgressModel",
      "_view_count": null,
      "_view_module": "@jupyter-widgets/controls",
      "_view_module_version": "1.5.0",
      "_view_name": "ProgressView",
      "bar_style": "success",
      "description": "",
      "description_tooltip": null,
      "layout": "IPY_MODEL_60d7e5b076ac417e9fed988680d2210e",
      "max": 669491321,
      "min": 0,
      "orientation": "horizontal",
      "style": "IPY_MODEL_14e4752efc02496cb8bf114a8620635f",
      "value": 669491321
     }
    },
    "c33c9e91a1d54bfc8f34e8b7b9c8a77f": {
     "model_module": "@jupyter-widgets/base",
     "model_module_version": "1.2.0",
     "model_name": "LayoutModel",
     "state": {
      "_model_module": "@jupyter-widgets/base",
      "_model_module_version": "1.2.0",
      "_model_name": "LayoutModel",
      "_view_count": null,
      "_view_module": "@jupyter-widgets/base",
      "_view_module_version": "1.2.0",
      "_view_name": "LayoutView",
      "align_content": null,
      "align_items": null,
      "align_self": null,
      "border": null,
      "bottom": null,
      "display": null,
      "flex": null,
      "flex_flow": null,
      "grid_area": null,
      "grid_auto_columns": null,
      "grid_auto_flow": null,
      "grid_auto_rows": null,
      "grid_column": null,
      "grid_gap": null,
      "grid_row": null,
      "grid_template_areas": null,
      "grid_template_columns": null,
      "grid_template_rows": null,
      "height": null,
      "justify_content": null,
      "justify_items": null,
      "left": null,
      "margin": null,
      "max_height": null,
      "max_width": null,
      "min_height": null,
      "min_width": null,
      "object_fit": null,
      "object_position": null,
      "order": null,
      "overflow": null,
      "overflow_x": null,
      "overflow_y": null,
      "padding": null,
      "right": null,
      "top": null,
      "visibility": null,
      "width": null
     }
    },
    "cba8a19f4c5745348fee9919ca9e1aa8": {
     "model_module": "@jupyter-widgets/controls",
     "model_module_version": "1.5.0",
     "model_name": "DescriptionStyleModel",
     "state": {
      "_model_module": "@jupyter-widgets/controls",
      "_model_module_version": "1.5.0",
      "_model_name": "DescriptionStyleModel",
      "_view_count": null,
      "_view_module": "@jupyter-widgets/base",
      "_view_module_version": "1.2.0",
      "_view_name": "StyleView",
      "description_width": ""
     }
    },
    "cbd19b38c6df4cb5ab302d27841f88a1": {
     "model_module": "@jupyter-widgets/base",
     "model_module_version": "1.2.0",
     "model_name": "LayoutModel",
     "state": {
      "_model_module": "@jupyter-widgets/base",
      "_model_module_version": "1.2.0",
      "_model_name": "LayoutModel",
      "_view_count": null,
      "_view_module": "@jupyter-widgets/base",
      "_view_module_version": "1.2.0",
      "_view_name": "LayoutView",
      "align_content": null,
      "align_items": null,
      "align_self": null,
      "border": null,
      "bottom": null,
      "display": null,
      "flex": null,
      "flex_flow": null,
      "grid_area": null,
      "grid_auto_columns": null,
      "grid_auto_flow": null,
      "grid_auto_rows": null,
      "grid_column": null,
      "grid_gap": null,
      "grid_row": null,
      "grid_template_areas": null,
      "grid_template_columns": null,
      "grid_template_rows": null,
      "height": null,
      "justify_content": null,
      "justify_items": null,
      "left": null,
      "margin": null,
      "max_height": null,
      "max_width": null,
      "min_height": null,
      "min_width": null,
      "object_fit": null,
      "object_position": null,
      "order": null,
      "overflow": null,
      "overflow_x": null,
      "overflow_y": null,
      "padding": null,
      "right": null,
      "top": null,
      "visibility": null,
      "width": null
     }
    },
    "d4cc3eff925d4aa0adb20ef663d24607": {
     "model_module": "@jupyter-widgets/base",
     "model_module_version": "1.2.0",
     "model_name": "LayoutModel",
     "state": {
      "_model_module": "@jupyter-widgets/base",
      "_model_module_version": "1.2.0",
      "_model_name": "LayoutModel",
      "_view_count": null,
      "_view_module": "@jupyter-widgets/base",
      "_view_module_version": "1.2.0",
      "_view_name": "LayoutView",
      "align_content": null,
      "align_items": null,
      "align_self": null,
      "border": null,
      "bottom": null,
      "display": null,
      "flex": null,
      "flex_flow": null,
      "grid_area": null,
      "grid_auto_columns": null,
      "grid_auto_flow": null,
      "grid_auto_rows": null,
      "grid_column": null,
      "grid_gap": null,
      "grid_row": null,
      "grid_template_areas": null,
      "grid_template_columns": null,
      "grid_template_rows": null,
      "height": null,
      "justify_content": null,
      "justify_items": null,
      "left": null,
      "margin": null,
      "max_height": null,
      "max_width": null,
      "min_height": null,
      "min_width": null,
      "object_fit": null,
      "object_position": null,
      "order": null,
      "overflow": null,
      "overflow_x": null,
      "overflow_y": null,
      "padding": null,
      "right": null,
      "top": null,
      "visibility": null,
      "width": null
     }
    },
    "df46e1155c6a47db846235ab7828e563": {
     "model_module": "@jupyter-widgets/controls",
     "model_module_version": "1.5.0",
     "model_name": "HTMLModel",
     "state": {
      "_dom_classes": [],
      "_model_module": "@jupyter-widgets/controls",
      "_model_module_version": "1.5.0",
      "_model_name": "HTMLModel",
      "_view_count": null,
      "_view_module": "@jupyter-widgets/controls",
      "_view_module_version": "1.5.0",
      "_view_name": "HTMLView",
      "description": "",
      "description_tooltip": null,
      "layout": "IPY_MODEL_05a2d7d4fa464d89b6279639a6c78a11",
      "placeholder": "​",
      "style": "IPY_MODEL_955a30653b7f4137b98f76407659c688",
      "value": "Downloading pytorch_model.bin: 100%"
     }
    },
    "e2b031e49ae349968ce8b5f0a8d32a8d": {
     "model_module": "@jupyter-widgets/controls",
     "model_module_version": "1.5.0",
     "model_name": "HTMLModel",
     "state": {
      "_dom_classes": [],
      "_model_module": "@jupyter-widgets/controls",
      "_model_module_version": "1.5.0",
      "_model_name": "HTMLModel",
      "_view_count": null,
      "_view_module": "@jupyter-widgets/controls",
      "_view_module_version": "1.5.0",
      "_view_name": "HTMLView",
      "description": "",
      "description_tooltip": null,
      "layout": "IPY_MODEL_3a8c4c776b5c45bfa7bd448366a9ab56",
      "placeholder": "​",
      "style": "IPY_MODEL_118b741b1756468c8f71f0215006db08",
      "value": " 112/112 [00:00&lt;00:00, 2.27kB/s]"
     }
    },
    "e62294b034a146528181c3764ae808f5": {
     "model_module": "@jupyter-widgets/base",
     "model_module_version": "1.2.0",
     "model_name": "LayoutModel",
     "state": {
      "_model_module": "@jupyter-widgets/base",
      "_model_module_version": "1.2.0",
      "_model_name": "LayoutModel",
      "_view_count": null,
      "_view_module": "@jupyter-widgets/base",
      "_view_module_version": "1.2.0",
      "_view_name": "LayoutView",
      "align_content": null,
      "align_items": null,
      "align_self": null,
      "border": null,
      "bottom": null,
      "display": null,
      "flex": null,
      "flex_flow": null,
      "grid_area": null,
      "grid_auto_columns": null,
      "grid_auto_flow": null,
      "grid_auto_rows": null,
      "grid_column": null,
      "grid_gap": null,
      "grid_row": null,
      "grid_template_areas": null,
      "grid_template_columns": null,
      "grid_template_rows": null,
      "height": null,
      "justify_content": null,
      "justify_items": null,
      "left": null,
      "margin": null,
      "max_height": null,
      "max_width": null,
      "min_height": null,
      "min_width": null,
      "object_fit": null,
      "object_position": null,
      "order": null,
      "overflow": null,
      "overflow_x": null,
      "overflow_y": null,
      "padding": null,
      "right": null,
      "top": null,
      "visibility": null,
      "width": null
     }
    },
    "e72c36c9f03b4b87b7dc5b8af7117b50": {
     "model_module": "@jupyter-widgets/base",
     "model_module_version": "1.2.0",
     "model_name": "LayoutModel",
     "state": {
      "_model_module": "@jupyter-widgets/base",
      "_model_module_version": "1.2.0",
      "_model_name": "LayoutModel",
      "_view_count": null,
      "_view_module": "@jupyter-widgets/base",
      "_view_module_version": "1.2.0",
      "_view_name": "LayoutView",
      "align_content": null,
      "align_items": null,
      "align_self": null,
      "border": null,
      "bottom": null,
      "display": null,
      "flex": null,
      "flex_flow": null,
      "grid_area": null,
      "grid_auto_columns": null,
      "grid_auto_flow": null,
      "grid_auto_rows": null,
      "grid_column": null,
      "grid_gap": null,
      "grid_row": null,
      "grid_template_areas": null,
      "grid_template_columns": null,
      "grid_template_rows": null,
      "height": null,
      "justify_content": null,
      "justify_items": null,
      "left": null,
      "margin": null,
      "max_height": null,
      "max_width": null,
      "min_height": null,
      "min_width": null,
      "object_fit": null,
      "object_position": null,
      "order": null,
      "overflow": null,
      "overflow_x": null,
      "overflow_y": null,
      "padding": null,
      "right": null,
      "top": null,
      "visibility": null,
      "width": null
     }
    },
    "eb42dba43a4442ba8bf62953d3efacca": {
     "model_module": "@jupyter-widgets/controls",
     "model_module_version": "1.5.0",
     "model_name": "HTMLModel",
     "state": {
      "_dom_classes": [],
      "_model_module": "@jupyter-widgets/controls",
      "_model_module_version": "1.5.0",
      "_model_name": "HTMLModel",
      "_view_count": null,
      "_view_module": "@jupyter-widgets/controls",
      "_view_module_version": "1.5.0",
      "_view_name": "HTMLView",
      "description": "",
      "description_tooltip": null,
      "layout": "IPY_MODEL_3f2617467c2f47d0b0676fc5c6a8de01",
      "placeholder": "​",
      "style": "IPY_MODEL_95c6f27ccb9041e2bc2833a0ddfe3dbc",
      "value": "Downloading (…)okenizer_config.json: 100%"
     }
    },
    "f0baadacd749491592d2f97b866d5859": {
     "model_module": "@jupyter-widgets/controls",
     "model_module_version": "1.5.0",
     "model_name": "DescriptionStyleModel",
     "state": {
      "_model_module": "@jupyter-widgets/controls",
      "_model_module_version": "1.5.0",
      "_model_name": "DescriptionStyleModel",
      "_view_count": null,
      "_view_module": "@jupyter-widgets/base",
      "_view_module_version": "1.2.0",
      "_view_name": "StyleView",
      "description_width": ""
     }
    },
    "f602ccd0cbc5480da0bd20cef075a056": {
     "model_module": "@jupyter-widgets/controls",
     "model_module_version": "1.5.0",
     "model_name": "HTMLModel",
     "state": {
      "_dom_classes": [],
      "_model_module": "@jupyter-widgets/controls",
      "_model_module_version": "1.5.0",
      "_model_name": "HTMLModel",
      "_view_count": null,
      "_view_module": "@jupyter-widgets/controls",
      "_view_module_version": "1.5.0",
      "_view_name": "HTMLView",
      "description": "",
      "description_tooltip": null,
      "layout": "IPY_MODEL_a5637ed601f6481db7784b93b1edc3a9",
      "placeholder": "​",
      "style": "IPY_MODEL_f0baadacd749491592d2f97b866d5859",
      "value": " 872k/872k [00:00&lt;00:00, 7.09MB/s]"
     }
    },
    "faf0800b89b9489a882b6337c10236b7": {
     "model_module": "@jupyter-widgets/base",
     "model_module_version": "1.2.0",
     "model_name": "LayoutModel",
     "state": {
      "_model_module": "@jupyter-widgets/base",
      "_model_module_version": "1.2.0",
      "_model_name": "LayoutModel",
      "_view_count": null,
      "_view_module": "@jupyter-widgets/base",
      "_view_module_version": "1.2.0",
      "_view_name": "LayoutView",
      "align_content": null,
      "align_items": null,
      "align_self": null,
      "border": null,
      "bottom": null,
      "display": null,
      "flex": null,
      "flex_flow": null,
      "grid_area": null,
      "grid_auto_columns": null,
      "grid_auto_flow": null,
      "grid_auto_rows": null,
      "grid_column": null,
      "grid_gap": null,
      "grid_row": null,
      "grid_template_areas": null,
      "grid_template_columns": null,
      "grid_template_rows": null,
      "height": null,
      "justify_content": null,
      "justify_items": null,
      "left": null,
      "margin": null,
      "max_height": null,
      "max_width": null,
      "min_height": null,
      "min_width": null,
      "object_fit": null,
      "object_position": null,
      "order": null,
      "overflow": null,
      "overflow_x": null,
      "overflow_y": null,
      "padding": null,
      "right": null,
      "top": null,
      "visibility": null,
      "width": null
     }
    }
   }
  }
 },
 "nbformat": 4,
 "nbformat_minor": 1
}
