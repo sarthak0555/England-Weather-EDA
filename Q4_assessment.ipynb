{
 "cells": [
  {
   "cell_type": "markdown",
   "id": "ba7a1938",
   "metadata": {
    "ExecuteTime": {
     "end_time": "2024-06-09T07:37:33.059080Z",
     "start_time": "2024-06-09T07:37:33.028131Z"
    }
   },
   "source": [
    "I have updated the cities.xlsx files with longitude and latitude decimals of each city to make the section answerable. I have renamed the file to cities_updated.xlsx file."
   ]
  },
  {
   "cell_type": "code",
   "execution_count": 11,
   "id": "5ba3718e",
   "metadata": {
    "ExecuteTime": {
     "end_time": "2024-06-09T07:38:17.679866Z",
     "start_time": "2024-06-09T07:38:17.670557Z"
    }
   },
   "outputs": [],
   "source": [
    "#A"
   ]
  },
  {
   "cell_type": "code",
   "execution_count": 12,
   "id": "f4030825",
   "metadata": {
    "ExecuteTime": {
     "end_time": "2024-06-09T07:38:18.627405Z",
     "start_time": "2024-06-09T07:38:18.620918Z"
    }
   },
   "outputs": [],
   "source": [
    "import pandas as pd\n",
    "from geopy.distance import geodesic"
   ]
  },
  {
   "cell_type": "code",
   "execution_count": 15,
   "id": "33d9fd3e",
   "metadata": {
    "ExecuteTime": {
     "end_time": "2024-06-09T07:38:59.595551Z",
     "start_time": "2024-06-09T07:38:59.539829Z"
    }
   },
   "outputs": [],
   "source": [
    "# Load the cities data\n",
    "cities_df = pd.read_excel('/Users/sarthakchawla/Downloads/cities_updated.xlsx')"
   ]
  },
  {
   "cell_type": "code",
   "execution_count": 16,
   "id": "1ec678ed",
   "metadata": {
    "ExecuteTime": {
     "end_time": "2024-06-09T07:39:03.946670Z",
     "start_time": "2024-06-09T07:39:03.918615Z"
    }
   },
   "outputs": [
    {
     "data": {
      "text/html": [
       "<div>\n",
       "<style scoped>\n",
       "    .dataframe tbody tr th:only-of-type {\n",
       "        vertical-align: middle;\n",
       "    }\n",
       "\n",
       "    .dataframe tbody tr th {\n",
       "        vertical-align: top;\n",
       "    }\n",
       "\n",
       "    .dataframe thead th {\n",
       "        text-align: right;\n",
       "    }\n",
       "</style>\n",
       "<table border=\"1\" class=\"dataframe\">\n",
       "  <thead>\n",
       "    <tr style=\"text-align: right;\">\n",
       "      <th></th>\n",
       "      <th>City</th>\n",
       "      <th>Country</th>\n",
       "      <th>Population</th>\n",
       "      <th>lat</th>\n",
       "      <th>lon</th>\n",
       "    </tr>\n",
       "  </thead>\n",
       "  <tbody>\n",
       "    <tr>\n",
       "      <th>0</th>\n",
       "      <td>London</td>\n",
       "      <td>UK</td>\n",
       "      <td>7489022</td>\n",
       "      <td>51.509865</td>\n",
       "      <td>-0.118092</td>\n",
       "    </tr>\n",
       "    <tr>\n",
       "      <th>1</th>\n",
       "      <td>Birmingham</td>\n",
       "      <td>UK</td>\n",
       "      <td>986969</td>\n",
       "      <td>52.489471</td>\n",
       "      <td>-1.898575</td>\n",
       "    </tr>\n",
       "    <tr>\n",
       "      <th>2</th>\n",
       "      <td>Glasgow</td>\n",
       "      <td>UK</td>\n",
       "      <td>607192</td>\n",
       "      <td>55.860916</td>\n",
       "      <td>-4.251433</td>\n",
       "    </tr>\n",
       "    <tr>\n",
       "      <th>3</th>\n",
       "      <td>Liverpool</td>\n",
       "      <td>UK</td>\n",
       "      <td>468584</td>\n",
       "      <td>53.400002</td>\n",
       "      <td>-2.983333</td>\n",
       "    </tr>\n",
       "    <tr>\n",
       "      <th>4</th>\n",
       "      <td>Leeds</td>\n",
       "      <td>UK</td>\n",
       "      <td>457875</td>\n",
       "      <td>53.801277</td>\n",
       "      <td>-1.548567</td>\n",
       "    </tr>\n",
       "    <tr>\n",
       "      <th>...</th>\n",
       "      <td>...</td>\n",
       "      <td>...</td>\n",
       "      <td>...</td>\n",
       "      <td>...</td>\n",
       "      <td>...</td>\n",
       "    </tr>\n",
       "    <tr>\n",
       "      <th>95</th>\n",
       "      <td>High Wycombe</td>\n",
       "      <td>UK</td>\n",
       "      <td>81117</td>\n",
       "      <td>51.6291</td>\n",
       "      <td>-0.7493</td>\n",
       "    </tr>\n",
       "    <tr>\n",
       "      <th>96</th>\n",
       "      <td>Wigan</td>\n",
       "      <td>UK</td>\n",
       "      <td>80597</td>\n",
       "      <td>53.545067</td>\n",
       "      <td>-2.632507</td>\n",
       "    </tr>\n",
       "    <tr>\n",
       "      <th>97</th>\n",
       "      <td>Stockton-on-Tees</td>\n",
       "      <td>UK</td>\n",
       "      <td>79849</td>\n",
       "      <td>54.5685</td>\n",
       "      <td>-1.3187</td>\n",
       "    </tr>\n",
       "    <tr>\n",
       "      <th>98</th>\n",
       "      <td>Wakefield</td>\n",
       "      <td>UK</td>\n",
       "      <td>79453</td>\n",
       "      <td>53.68</td>\n",
       "      <td>-1.49</td>\n",
       "    </tr>\n",
       "    <tr>\n",
       "      <th>99</th>\n",
       "      <td>Lisburn</td>\n",
       "      <td>UK</td>\n",
       "      <td>79246</td>\n",
       "      <td>54.509720</td>\n",
       "      <td>-6.037400</td>\n",
       "    </tr>\n",
       "  </tbody>\n",
       "</table>\n",
       "<p>100 rows × 5 columns</p>\n",
       "</div>"
      ],
      "text/plain": [
       "                City Country  Population         lat         lon\n",
       "0             London      UK     7489022   51.509865   -0.118092\n",
       "1         Birmingham      UK      986969   52.489471   -1.898575\n",
       "2            Glasgow      UK      607192   55.860916   -4.251433\n",
       "3          Liverpool      UK      468584   53.400002   -2.983333\n",
       "4              Leeds      UK      457875   53.801277   -1.548567\n",
       "..               ...     ...         ...         ...         ...\n",
       "95      High Wycombe      UK       81117     51.6291     -0.7493\n",
       "96             Wigan      UK       80597   53.545067   -2.632507\n",
       "97  Stockton-on-Tees      UK       79849     54.5685     -1.3187\n",
       "98         Wakefield      UK       79453       53.68       -1.49\n",
       "99           Lisburn      UK       79246   54.509720   -6.037400\n",
       "\n",
       "[100 rows x 5 columns]"
      ]
     },
     "execution_count": 16,
     "metadata": {},
     "output_type": "execute_result"
    }
   ],
   "source": [
    "cities_df"
   ]
  },
  {
   "cell_type": "code",
   "execution_count": 17,
   "id": "82b6c925",
   "metadata": {
    "ExecuteTime": {
     "end_time": "2024-06-09T07:39:32.774224Z",
     "start_time": "2024-06-09T07:39:32.735673Z"
    }
   },
   "outputs": [],
   "source": [
    "# Get the coordinates for London and Glasgow\n",
    "london_coords = cities_df[cities_df['City'] == 'London'][['lat', 'lon']].values[0]\n",
    "glasgow_coords = cities_df[cities_df['City'] == 'Glasgow'][['lat', 'lon']].values[0]"
   ]
  },
  {
   "cell_type": "code",
   "execution_count": 18,
   "id": "ffa3cab6",
   "metadata": {
    "ExecuteTime": {
     "end_time": "2024-06-09T07:40:08.323711Z",
     "start_time": "2024-06-09T07:40:08.313316Z"
    }
   },
   "outputs": [
    {
     "name": "stdout",
     "output_type": "stream",
     "text": [
      "555.7292444435049\n"
     ]
    }
   ],
   "source": [
    "# Calculate the distance between London and Glasgow\n",
    "distance = geodesic(london_coords, glasgow_coords).kilometers\n",
    "print(distance)"
   ]
  },
  {
   "cell_type": "code",
   "execution_count": 19,
   "id": "0867371c",
   "metadata": {
    "ExecuteTime": {
     "end_time": "2024-06-09T07:41:49.950176Z",
     "start_time": "2024-06-09T07:41:49.944254Z"
    }
   },
   "outputs": [],
   "source": [
    "#B"
   ]
  },
  {
   "cell_type": "code",
   "execution_count": 20,
   "id": "1cd7a41e",
   "metadata": {
    "ExecuteTime": {
     "end_time": "2024-06-09T07:42:26.008621Z",
     "start_time": "2024-06-09T07:42:25.998278Z"
    }
   },
   "outputs": [],
   "source": [
    "# Filter out cities with a population greater than 200,000\n",
    "filtered_cities_df = cities_df[cities_df['Population'] > 200000]"
   ]
  },
  {
   "cell_type": "code",
   "execution_count": 21,
   "id": "c3902ddd",
   "metadata": {
    "ExecuteTime": {
     "end_time": "2024-06-09T07:42:36.868793Z",
     "start_time": "2024-06-09T07:42:36.852221Z"
    }
   },
   "outputs": [
    {
     "data": {
      "text/html": [
       "<div>\n",
       "<style scoped>\n",
       "    .dataframe tbody tr th:only-of-type {\n",
       "        vertical-align: middle;\n",
       "    }\n",
       "\n",
       "    .dataframe tbody tr th {\n",
       "        vertical-align: top;\n",
       "    }\n",
       "\n",
       "    .dataframe thead th {\n",
       "        text-align: right;\n",
       "    }\n",
       "</style>\n",
       "<table border=\"1\" class=\"dataframe\">\n",
       "  <thead>\n",
       "    <tr style=\"text-align: right;\">\n",
       "      <th></th>\n",
       "      <th>City</th>\n",
       "      <th>Country</th>\n",
       "      <th>Population</th>\n",
       "      <th>lat</th>\n",
       "      <th>lon</th>\n",
       "    </tr>\n",
       "  </thead>\n",
       "  <tbody>\n",
       "    <tr>\n",
       "      <th>0</th>\n",
       "      <td>London</td>\n",
       "      <td>UK</td>\n",
       "      <td>7489022</td>\n",
       "      <td>51.509865</td>\n",
       "      <td>-0.118092</td>\n",
       "    </tr>\n",
       "    <tr>\n",
       "      <th>1</th>\n",
       "      <td>Birmingham</td>\n",
       "      <td>UK</td>\n",
       "      <td>986969</td>\n",
       "      <td>52.489471</td>\n",
       "      <td>-1.898575</td>\n",
       "    </tr>\n",
       "    <tr>\n",
       "      <th>2</th>\n",
       "      <td>Glasgow</td>\n",
       "      <td>UK</td>\n",
       "      <td>607192</td>\n",
       "      <td>55.860916</td>\n",
       "      <td>-4.251433</td>\n",
       "    </tr>\n",
       "    <tr>\n",
       "      <th>3</th>\n",
       "      <td>Liverpool</td>\n",
       "      <td>UK</td>\n",
       "      <td>468584</td>\n",
       "      <td>53.400002</td>\n",
       "      <td>-2.983333</td>\n",
       "    </tr>\n",
       "    <tr>\n",
       "      <th>4</th>\n",
       "      <td>Leeds</td>\n",
       "      <td>UK</td>\n",
       "      <td>457875</td>\n",
       "      <td>53.801277</td>\n",
       "      <td>-1.548567</td>\n",
       "    </tr>\n",
       "    <tr>\n",
       "      <th>5</th>\n",
       "      <td>Sheffield</td>\n",
       "      <td>UK</td>\n",
       "      <td>448596</td>\n",
       "      <td>53.383331</td>\n",
       "      <td>-1.466667</td>\n",
       "    </tr>\n",
       "    <tr>\n",
       "      <th>6</th>\n",
       "      <td>Edinburgh</td>\n",
       "      <td>UK</td>\n",
       "      <td>438501</td>\n",
       "      <td>55.9576</td>\n",
       "      <td>-3.20429</td>\n",
       "    </tr>\n",
       "    <tr>\n",
       "      <th>7</th>\n",
       "      <td>Bristol</td>\n",
       "      <td>UK</td>\n",
       "      <td>432967</td>\n",
       "      <td>51.454514</td>\n",
       "      <td>-2.58791</td>\n",
       "    </tr>\n",
       "    <tr>\n",
       "      <th>8</th>\n",
       "      <td>Manchester</td>\n",
       "      <td>UK</td>\n",
       "      <td>395514</td>\n",
       "      <td>53.483959</td>\n",
       "      <td>-2.244644</td>\n",
       "    </tr>\n",
       "    <tr>\n",
       "      <th>9</th>\n",
       "      <td>Leicester</td>\n",
       "      <td>UK</td>\n",
       "      <td>341201</td>\n",
       "      <td>52.633331</td>\n",
       "      <td>-1.133333</td>\n",
       "    </tr>\n",
       "    <tr>\n",
       "      <th>10</th>\n",
       "      <td>Coventry</td>\n",
       "      <td>UK</td>\n",
       "      <td>309323</td>\n",
       "      <td>52.408054</td>\n",
       "      <td>-1.510556</td>\n",
       "    </tr>\n",
       "    <tr>\n",
       "      <th>11</th>\n",
       "      <td>Cardiff</td>\n",
       "      <td>UK</td>\n",
       "      <td>304777</td>\n",
       "      <td>51.481583</td>\n",
       "      <td>-3.17909</td>\n",
       "    </tr>\n",
       "    <tr>\n",
       "      <th>12</th>\n",
       "      <td>Kingston upon Hull</td>\n",
       "      <td>UK</td>\n",
       "      <td>302225</td>\n",
       "      <td>53.76775</td>\n",
       "      <td>-0.335827</td>\n",
       "    </tr>\n",
       "    <tr>\n",
       "      <th>13</th>\n",
       "      <td>Bradford</td>\n",
       "      <td>UK</td>\n",
       "      <td>300478</td>\n",
       "      <td>53.799999</td>\n",
       "      <td>-1.75</td>\n",
       "    </tr>\n",
       "    <tr>\n",
       "      <th>14</th>\n",
       "      <td>Belfast</td>\n",
       "      <td>UK</td>\n",
       "      <td>274678</td>\n",
       "      <td>54.5973</td>\n",
       "      <td>-5.9301</td>\n",
       "    </tr>\n",
       "    <tr>\n",
       "      <th>15</th>\n",
       "      <td>Stoke-on-Trent</td>\n",
       "      <td>UK</td>\n",
       "      <td>260452</td>\n",
       "      <td>53.0033</td>\n",
       "      <td>-2.1827</td>\n",
       "    </tr>\n",
       "    <tr>\n",
       "      <th>16</th>\n",
       "      <td>Wolverhampton</td>\n",
       "      <td>UK</td>\n",
       "      <td>252874</td>\n",
       "      <td>52.5868</td>\n",
       "      <td>-2.1257</td>\n",
       "    </tr>\n",
       "    <tr>\n",
       "      <th>17</th>\n",
       "      <td>Southampton</td>\n",
       "      <td>UK</td>\n",
       "      <td>249189</td>\n",
       "      <td>50.9105</td>\n",
       "      <td>-1.4049</td>\n",
       "    </tr>\n",
       "    <tr>\n",
       "      <th>18</th>\n",
       "      <td>Plymouth</td>\n",
       "      <td>UK</td>\n",
       "      <td>247923</td>\n",
       "      <td>50.376289</td>\n",
       "      <td>-4.143841</td>\n",
       "    </tr>\n",
       "    <tr>\n",
       "      <th>19</th>\n",
       "      <td>Reading</td>\n",
       "      <td>UK</td>\n",
       "      <td>246814</td>\n",
       "      <td>51.509865</td>\n",
       "      <td>-0.118092</td>\n",
       "    </tr>\n",
       "    <tr>\n",
       "      <th>20</th>\n",
       "      <td>Nottingham</td>\n",
       "      <td>UK</td>\n",
       "      <td>245615</td>\n",
       "      <td>52.950001</td>\n",
       "      <td>-1.15</td>\n",
       "    </tr>\n",
       "    <tr>\n",
       "      <th>21</th>\n",
       "      <td>Derby</td>\n",
       "      <td>UK</td>\n",
       "      <td>236245</td>\n",
       "      <td>52.916668</td>\n",
       "      <td>-1.466667</td>\n",
       "    </tr>\n",
       "  </tbody>\n",
       "</table>\n",
       "</div>"
      ],
      "text/plain": [
       "                  City Country  Population        lat         lon\n",
       "0               London      UK     7489022  51.509865   -0.118092\n",
       "1           Birmingham      UK      986969  52.489471   -1.898575\n",
       "2              Glasgow      UK      607192  55.860916   -4.251433\n",
       "3            Liverpool      UK      468584  53.400002   -2.983333\n",
       "4                Leeds      UK      457875  53.801277   -1.548567\n",
       "5            Sheffield      UK      448596  53.383331   -1.466667\n",
       "6            Edinburgh      UK      438501    55.9576   -3.20429 \n",
       "7              Bristol      UK      432967  51.454514    -2.58791\n",
       "8           Manchester      UK      395514  53.483959   -2.244644\n",
       "9            Leicester      UK      341201  52.633331   -1.133333\n",
       "10            Coventry      UK      309323  52.408054   -1.510556\n",
       "11             Cardiff      UK      304777  51.481583    -3.17909\n",
       "12  Kingston upon Hull      UK      302225   53.76775   -0.335827\n",
       "13            Bradford      UK      300478  53.799999       -1.75\n",
       "14             Belfast      UK      274678    54.5973     -5.9301\n",
       "15      Stoke-on-Trent      UK      260452    53.0033     -2.1827\n",
       "16       Wolverhampton      UK      252874    52.5868     -2.1257\n",
       "17         Southampton      UK      249189    50.9105     -1.4049\n",
       "18            Plymouth      UK      247923  50.376289   -4.143841\n",
       "19             Reading      UK      246814  51.509865   -0.118092\n",
       "20          Nottingham      UK      245615  52.950001       -1.15\n",
       "21               Derby      UK      236245  52.916668   -1.466667"
      ]
     },
     "execution_count": 21,
     "metadata": {},
     "output_type": "execute_result"
    }
   ],
   "source": [
    "filtered_cities_df"
   ]
  },
  {
   "cell_type": "code",
   "execution_count": 22,
   "id": "1b391df8",
   "metadata": {
    "ExecuteTime": {
     "end_time": "2024-06-09T07:43:12.393570Z",
     "start_time": "2024-06-09T07:43:12.383773Z"
    }
   },
   "outputs": [],
   "source": [
    "# Get the coordinates for Exeter\n",
    "exeter_coords = cities_df[cities_df['City'] == 'Exeter'][['lat', 'lon']].values[0]"
   ]
  },
  {
   "cell_type": "code",
   "execution_count": 23,
   "id": "474a855f",
   "metadata": {
    "ExecuteTime": {
     "end_time": "2024-06-09T07:43:28.573540Z",
     "start_time": "2024-06-09T07:43:28.114479Z"
    }
   },
   "outputs": [
    {
     "name": "stderr",
     "output_type": "stream",
     "text": [
      "/var/folders/20/rw_9jf3s7f75z2kj0w4cq0r80000gn/T/ipykernel_1840/3273400023.py:2: SettingWithCopyWarning: \n",
      "A value is trying to be set on a copy of a slice from a DataFrame.\n",
      "Try using .loc[row_indexer,col_indexer] = value instead\n",
      "\n",
      "See the caveats in the documentation: https://pandas.pydata.org/pandas-docs/stable/user_guide/indexing.html#returning-a-view-versus-a-copy\n",
      "  filtered_cities_df['Distance'] = filtered_cities_df.apply(\n"
     ]
    }
   ],
   "source": [
    "# Calculate distances from Exeter to other cities with population greater than 200,000\n",
    "filtered_cities_df['Distance'] = filtered_cities_df.apply(\n",
    "    lambda row: geodesic(exeter_coords, (row['lat'], row['lon'])).kilometers, axis=1)"
   ]
  },
  {
   "cell_type": "code",
   "execution_count": 24,
   "id": "010adf5c",
   "metadata": {
    "ExecuteTime": {
     "end_time": "2024-06-09T07:43:59.586494Z",
     "start_time": "2024-06-09T07:43:59.570738Z"
    }
   },
   "outputs": [],
   "source": [
    "# Sort by distance and get the 10th closest city\n",
    "sorted_cities_df = filtered_cities_df.sort_values(by='Distance').reset_index()\n",
    "tenth_closest_city = sorted_cities_df.iloc[9]  # 10th closest city (index 9)"
   ]
  },
  {
   "cell_type": "code",
   "execution_count": 25,
   "id": "4e2fa8c5",
   "metadata": {
    "ExecuteTime": {
     "end_time": "2024-06-09T07:44:22.101365Z",
     "start_time": "2024-06-09T07:44:22.091337Z"
    }
   },
   "outputs": [
    {
     "name": "stdout",
     "output_type": "stream",
     "text": [
      "City          Leicester\n",
      "Country              UK\n",
      "Population       341201\n",
      "Distance      270.22266\n",
      "Name: 9, dtype: object\n"
     ]
    }
   ],
   "source": [
    "print(tenth_closest_city[['City', 'Country', 'Population', 'Distance']])"
   ]
  },
  {
   "cell_type": "code",
   "execution_count": 26,
   "id": "82034732",
   "metadata": {
    "ExecuteTime": {
     "end_time": "2024-06-09T07:46:12.006596Z",
     "start_time": "2024-06-09T07:46:12.000024Z"
    }
   },
   "outputs": [],
   "source": [
    "#C"
   ]
  },
  {
   "cell_type": "code",
   "execution_count": 31,
   "id": "f2a34cc9",
   "metadata": {
    "ExecuteTime": {
     "end_time": "2024-06-09T07:48:15.223160Z",
     "start_time": "2024-06-09T07:48:15.214036Z"
    }
   },
   "outputs": [],
   "source": [
    "# Filter out cities with a population less than 100,000\n",
    "small_cities_df = cities_df[cities_df['Population'] < 100000]"
   ]
  },
  {
   "cell_type": "code",
   "execution_count": 32,
   "id": "e1cd6237",
   "metadata": {
    "ExecuteTime": {
     "end_time": "2024-06-09T07:48:15.655486Z",
     "start_time": "2024-06-09T07:48:15.638726Z"
    }
   },
   "outputs": [
    {
     "data": {
      "text/html": [
       "<div>\n",
       "<style scoped>\n",
       "    .dataframe tbody tr th:only-of-type {\n",
       "        vertical-align: middle;\n",
       "    }\n",
       "\n",
       "    .dataframe tbody tr th {\n",
       "        vertical-align: top;\n",
       "    }\n",
       "\n",
       "    .dataframe thead th {\n",
       "        text-align: right;\n",
       "    }\n",
       "</style>\n",
       "<table border=\"1\" class=\"dataframe\">\n",
       "  <thead>\n",
       "    <tr style=\"text-align: right;\">\n",
       "      <th></th>\n",
       "      <th>City</th>\n",
       "      <th>Country</th>\n",
       "      <th>Population</th>\n",
       "      <th>lat</th>\n",
       "      <th>lon</th>\n",
       "    </tr>\n",
       "  </thead>\n",
       "  <tbody>\n",
       "    <tr>\n",
       "      <th>70</th>\n",
       "      <td>Worthing</td>\n",
       "      <td>UK</td>\n",
       "      <td>99551</td>\n",
       "      <td>50.825024</td>\n",
       "      <td>-0.383835</td>\n",
       "    </tr>\n",
       "    <tr>\n",
       "      <th>71</th>\n",
       "      <td>Rochdale</td>\n",
       "      <td>UK</td>\n",
       "      <td>97918</td>\n",
       "      <td>53.6097136</td>\n",
       "      <td>-2.1561</td>\n",
       "    </tr>\n",
       "    <tr>\n",
       "      <th>72</th>\n",
       "      <td>Basingstoke</td>\n",
       "      <td>UK</td>\n",
       "      <td>97916</td>\n",
       "      <td>51.2625</td>\n",
       "      <td>-1.0871</td>\n",
       "    </tr>\n",
       "    <tr>\n",
       "      <th>73</th>\n",
       "      <td>Solihull</td>\n",
       "      <td>UK</td>\n",
       "      <td>96559</td>\n",
       "      <td>52.412811</td>\n",
       "      <td>-1.778197</td>\n",
       "    </tr>\n",
       "    <tr>\n",
       "      <th>74</th>\n",
       "      <td>Harlow</td>\n",
       "      <td>UK</td>\n",
       "      <td>95949</td>\n",
       "      <td>51.772938</td>\n",
       "      <td>0.10231</td>\n",
       "    </tr>\n",
       "    <tr>\n",
       "      <th>75</th>\n",
       "      <td>Bath</td>\n",
       "      <td>UK</td>\n",
       "      <td>93963</td>\n",
       "      <td>51.380001</td>\n",
       "      <td>-2.36</td>\n",
       "    </tr>\n",
       "    <tr>\n",
       "      <th>76</th>\n",
       "      <td>Southport</td>\n",
       "      <td>UK</td>\n",
       "      <td>93367</td>\n",
       "      <td>53.666667</td>\n",
       "      <td>-3</td>\n",
       "    </tr>\n",
       "    <tr>\n",
       "      <th>77</th>\n",
       "      <td>Maidstone</td>\n",
       "      <td>UK</td>\n",
       "      <td>91094</td>\n",
       "      <td>51.272644</td>\n",
       "      <td>0.52527</td>\n",
       "    </tr>\n",
       "    <tr>\n",
       "      <th>78</th>\n",
       "      <td>Lincoln</td>\n",
       "      <td>UK</td>\n",
       "      <td>90008</td>\n",
       "      <td>53.234444</td>\n",
       "      <td>-0.538611</td>\n",
       "    </tr>\n",
       "    <tr>\n",
       "      <th>79</th>\n",
       "      <td>Hastings</td>\n",
       "      <td>UK</td>\n",
       "      <td>89856</td>\n",
       "      <td>50.854259</td>\n",
       "      <td>0.573453</td>\n",
       "    </tr>\n",
       "    <tr>\n",
       "      <th>80</th>\n",
       "      <td>Londonderry</td>\n",
       "      <td>UK</td>\n",
       "      <td>88120</td>\n",
       "      <td>55.006763</td>\n",
       "      <td>-7.318268</td>\n",
       "    </tr>\n",
       "    <tr>\n",
       "      <th>81</th>\n",
       "      <td>Grimsby</td>\n",
       "      <td>UK</td>\n",
       "      <td>87786</td>\n",
       "      <td>53.56539</td>\n",
       "      <td>-0.07553</td>\n",
       "    </tr>\n",
       "    <tr>\n",
       "      <th>82</th>\n",
       "      <td>Bedford</td>\n",
       "      <td>UK</td>\n",
       "      <td>87703</td>\n",
       "      <td>52.136436</td>\n",
       "      <td>-0.460739</td>\n",
       "    </tr>\n",
       "    <tr>\n",
       "      <th>83</th>\n",
       "      <td>Harrogate</td>\n",
       "      <td>UK</td>\n",
       "      <td>87429</td>\n",
       "      <td>53.992119</td>\n",
       "      <td>-1.541812</td>\n",
       "    </tr>\n",
       "    <tr>\n",
       "      <th>84</th>\n",
       "      <td>Darlington</td>\n",
       "      <td>UK</td>\n",
       "      <td>87399</td>\n",
       "      <td>54.533333</td>\n",
       "      <td>-1.566667</td>\n",
       "    </tr>\n",
       "    <tr>\n",
       "      <th>85</th>\n",
       "      <td>Hartlepool</td>\n",
       "      <td>UK</td>\n",
       "      <td>86799</td>\n",
       "      <td>54.691746</td>\n",
       "      <td>-1.212926</td>\n",
       "    </tr>\n",
       "    <tr>\n",
       "      <th>86</th>\n",
       "      <td>Hemel Hempstead</td>\n",
       "      <td>UK</td>\n",
       "      <td>86211</td>\n",
       "      <td>51.75368</td>\n",
       "      <td>-0.44975</td>\n",
       "    </tr>\n",
       "    <tr>\n",
       "      <th>87</th>\n",
       "      <td>Stevenage</td>\n",
       "      <td>UK</td>\n",
       "      <td>85407</td>\n",
       "      <td>51.90507</td>\n",
       "      <td>-0.200202</td>\n",
       "    </tr>\n",
       "    <tr>\n",
       "      <th>88</th>\n",
       "      <td>Saint Albans</td>\n",
       "      <td>UK</td>\n",
       "      <td>85022</td>\n",
       "      <td>51.755001</td>\n",
       "      <td>-0.336000</td>\n",
       "    </tr>\n",
       "    <tr>\n",
       "      <th>89</th>\n",
       "      <td>Weston-super-Mare</td>\n",
       "      <td>UK</td>\n",
       "      <td>84101</td>\n",
       "      <td>51.345833</td>\n",
       "      <td>-2.967778</td>\n",
       "    </tr>\n",
       "    <tr>\n",
       "      <th>90</th>\n",
       "      <td>South Shields</td>\n",
       "      <td>UK</td>\n",
       "      <td>83783</td>\n",
       "      <td>54.9778</td>\n",
       "      <td>-1.4317</td>\n",
       "    </tr>\n",
       "    <tr>\n",
       "      <th>91</th>\n",
       "      <td>Halifax</td>\n",
       "      <td>UK</td>\n",
       "      <td>82271</td>\n",
       "      <td>53.733924</td>\n",
       "      <td>-1.823389</td>\n",
       "    </tr>\n",
       "    <tr>\n",
       "      <th>92</th>\n",
       "      <td>Chester</td>\n",
       "      <td>UK</td>\n",
       "      <td>81538</td>\n",
       "      <td>53.189999</td>\n",
       "      <td>-2.890000</td>\n",
       "    </tr>\n",
       "    <tr>\n",
       "      <th>93</th>\n",
       "      <td>Warrington</td>\n",
       "      <td>UK</td>\n",
       "      <td>81293</td>\n",
       "      <td>53.383333</td>\n",
       "      <td>-2.6</td>\n",
       "    </tr>\n",
       "    <tr>\n",
       "      <th>94</th>\n",
       "      <td>Birkenhead</td>\n",
       "      <td>UK</td>\n",
       "      <td>81230</td>\n",
       "      <td>53.4</td>\n",
       "      <td>-3.033333</td>\n",
       "    </tr>\n",
       "    <tr>\n",
       "      <th>95</th>\n",
       "      <td>High Wycombe</td>\n",
       "      <td>UK</td>\n",
       "      <td>81117</td>\n",
       "      <td>51.6291</td>\n",
       "      <td>-0.7493</td>\n",
       "    </tr>\n",
       "    <tr>\n",
       "      <th>96</th>\n",
       "      <td>Wigan</td>\n",
       "      <td>UK</td>\n",
       "      <td>80597</td>\n",
       "      <td>53.545067</td>\n",
       "      <td>-2.632507</td>\n",
       "    </tr>\n",
       "    <tr>\n",
       "      <th>97</th>\n",
       "      <td>Stockton-on-Tees</td>\n",
       "      <td>UK</td>\n",
       "      <td>79849</td>\n",
       "      <td>54.5685</td>\n",
       "      <td>-1.3187</td>\n",
       "    </tr>\n",
       "    <tr>\n",
       "      <th>98</th>\n",
       "      <td>Wakefield</td>\n",
       "      <td>UK</td>\n",
       "      <td>79453</td>\n",
       "      <td>53.68</td>\n",
       "      <td>-1.49</td>\n",
       "    </tr>\n",
       "    <tr>\n",
       "      <th>99</th>\n",
       "      <td>Lisburn</td>\n",
       "      <td>UK</td>\n",
       "      <td>79246</td>\n",
       "      <td>54.509720</td>\n",
       "      <td>-6.037400</td>\n",
       "    </tr>\n",
       "  </tbody>\n",
       "</table>\n",
       "</div>"
      ],
      "text/plain": [
       "                 City Country  Population          lat         lon\n",
       "70           Worthing      UK       99551    50.825024   -0.383835\n",
       "71           Rochdale      UK       97918   53.6097136     -2.1561\n",
       "72        Basingstoke      UK       97916      51.2625     -1.0871\n",
       "73           Solihull      UK       96559    52.412811   -1.778197\n",
       "74             Harlow      UK       95949    51.772938     0.10231\n",
       "75               Bath      UK       93963    51.380001       -2.36\n",
       "76          Southport      UK       93367    53.666667          -3\n",
       "77          Maidstone      UK       91094    51.272644     0.52527\n",
       "78            Lincoln      UK       90008    53.234444   -0.538611\n",
       "79           Hastings      UK       89856    50.854259    0.573453\n",
       "80        Londonderry      UK       88120    55.006763   -7.318268\n",
       "81            Grimsby      UK       87786     53.56539    -0.07553\n",
       "82            Bedford      UK       87703    52.136436   -0.460739\n",
       "83          Harrogate      UK       87429    53.992119   -1.541812\n",
       "84         Darlington      UK       87399    54.533333   -1.566667\n",
       "85         Hartlepool      UK       86799    54.691746   -1.212926\n",
       "86    Hemel Hempstead      UK       86211     51.75368    -0.44975\n",
       "87          Stevenage      UK       85407     51.90507   -0.200202\n",
       "88       Saint Albans      UK       85022    51.755001   -0.336000\n",
       "89  Weston-super-Mare      UK       84101    51.345833   -2.967778\n",
       "90      South Shields      UK       83783      54.9778     -1.4317\n",
       "91            Halifax      UK       82271    53.733924   -1.823389\n",
       "92            Chester      UK       81538    53.189999   -2.890000\n",
       "93         Warrington      UK       81293    53.383333       -2.6 \n",
       "94         Birkenhead      UK       81230         53.4   -3.033333\n",
       "95       High Wycombe      UK       81117      51.6291     -0.7493\n",
       "96              Wigan      UK       80597    53.545067   -2.632507\n",
       "97   Stockton-on-Tees      UK       79849      54.5685     -1.3187\n",
       "98          Wakefield      UK       79453        53.68       -1.49\n",
       "99            Lisburn      UK       79246    54.509720   -6.037400"
      ]
     },
     "execution_count": 32,
     "metadata": {},
     "output_type": "execute_result"
    }
   ],
   "source": [
    "small_cities_df"
   ]
  },
  {
   "cell_type": "code",
   "execution_count": 33,
   "id": "5e30cf35",
   "metadata": {
    "ExecuteTime": {
     "end_time": "2024-06-09T07:48:39.642553Z",
     "start_time": "2024-06-09T07:48:39.612197Z"
    }
   },
   "outputs": [
    {
     "name": "stderr",
     "output_type": "stream",
     "text": [
      "/var/folders/20/rw_9jf3s7f75z2kj0w4cq0r80000gn/T/ipykernel_1840/1924207532.py:2: SettingWithCopyWarning: \n",
      "A value is trying to be set on a copy of a slice from a DataFrame.\n",
      "Try using .loc[row_indexer,col_indexer] = value instead\n",
      "\n",
      "See the caveats in the documentation: https://pandas.pydata.org/pandas-docs/stable/user_guide/indexing.html#returning-a-view-versus-a-copy\n",
      "  small_cities_df['lat'] = pd.to_numeric(small_cities_df['lat'], errors='coerce')\n"
     ]
    }
   ],
   "source": [
    "# Ensure latitude column is treated as numeric\n",
    "small_cities_df['lat'] = pd.to_numeric(small_cities_df['lat'], errors='coerce')"
   ]
  },
  {
   "cell_type": "code",
   "execution_count": 34,
   "id": "622c2a61",
   "metadata": {
    "ExecuteTime": {
     "end_time": "2024-06-09T07:48:44.423142Z",
     "start_time": "2024-06-09T07:48:44.415322Z"
    }
   },
   "outputs": [],
   "source": [
    "# Find the city furthest north (highest latitude)\n",
    "furthest_north_city = small_cities_df.loc[small_cities_df['lat'].idxmax()]"
   ]
  },
  {
   "cell_type": "code",
   "execution_count": 35,
   "id": "c2eaad73",
   "metadata": {
    "ExecuteTime": {
     "end_time": "2024-06-09T07:48:46.576539Z",
     "start_time": "2024-06-09T07:48:46.568194Z"
    }
   },
   "outputs": [
    {
     "name": "stdout",
     "output_type": "stream",
     "text": [
      "City          Londonderry\n",
      "Country                UK\n",
      "Population          88120\n",
      "lat             55.006763\n",
      "Name: 80, dtype: object\n"
     ]
    }
   ],
   "source": [
    "print(furthest_north_city[['City', 'Country', 'Population', 'lat']])"
   ]
  },
  {
   "cell_type": "code",
   "execution_count": 36,
   "id": "d39a00ff",
   "metadata": {
    "ExecuteTime": {
     "end_time": "2024-06-09T07:50:30.655690Z",
     "start_time": "2024-06-09T07:50:30.641787Z"
    }
   },
   "outputs": [],
   "source": [
    "#D"
   ]
  },
  {
   "cell_type": "code",
   "execution_count": 37,
   "id": "ffa5519c",
   "metadata": {
    "ExecuteTime": {
     "end_time": "2024-06-09T07:50:35.566482Z",
     "start_time": "2024-06-09T07:50:35.559140Z"
    }
   },
   "outputs": [],
   "source": [
    "# Ensure longitude column is treated as numeric\n",
    "cities_df['lon'] = pd.to_numeric(cities_df['lon'], errors='coerce')"
   ]
  },
  {
   "cell_type": "code",
   "execution_count": 38,
   "id": "2757cefe",
   "metadata": {
    "ExecuteTime": {
     "end_time": "2024-06-09T07:51:01.394418Z",
     "start_time": "2024-06-09T07:51:01.381447Z"
    }
   },
   "outputs": [],
   "source": [
    "# Find the 10 cities that are furthest west (lowest longitude)\n",
    "furthest_west_cities_df = cities_df.nsmallest(10, 'lon')"
   ]
  },
  {
   "cell_type": "code",
   "execution_count": 40,
   "id": "c9f3121e",
   "metadata": {
    "ExecuteTime": {
     "end_time": "2024-06-09T07:51:39.338267Z",
     "start_time": "2024-06-09T07:51:39.322921Z"
    }
   },
   "outputs": [
    {
     "data": {
      "text/html": [
       "<div>\n",
       "<style scoped>\n",
       "    .dataframe tbody tr th:only-of-type {\n",
       "        vertical-align: middle;\n",
       "    }\n",
       "\n",
       "    .dataframe tbody tr th {\n",
       "        vertical-align: top;\n",
       "    }\n",
       "\n",
       "    .dataframe thead th {\n",
       "        text-align: right;\n",
       "    }\n",
       "</style>\n",
       "<table border=\"1\" class=\"dataframe\">\n",
       "  <thead>\n",
       "    <tr style=\"text-align: right;\">\n",
       "      <th></th>\n",
       "      <th>City</th>\n",
       "      <th>Country</th>\n",
       "      <th>Population</th>\n",
       "      <th>lat</th>\n",
       "      <th>lon</th>\n",
       "    </tr>\n",
       "  </thead>\n",
       "  <tbody>\n",
       "    <tr>\n",
       "      <th>80</th>\n",
       "      <td>Londonderry</td>\n",
       "      <td>UK</td>\n",
       "      <td>88120</td>\n",
       "      <td>55.006763</td>\n",
       "      <td>-7.318268</td>\n",
       "    </tr>\n",
       "    <tr>\n",
       "      <th>14</th>\n",
       "      <td>Belfast</td>\n",
       "      <td>UK</td>\n",
       "      <td>274678</td>\n",
       "      <td>54.5973</td>\n",
       "      <td>-5.930100</td>\n",
       "    </tr>\n",
       "    <tr>\n",
       "      <th>2</th>\n",
       "      <td>Glasgow</td>\n",
       "      <td>UK</td>\n",
       "      <td>607192</td>\n",
       "      <td>55.860916</td>\n",
       "      <td>-4.251433</td>\n",
       "    </tr>\n",
       "    <tr>\n",
       "      <th>18</th>\n",
       "      <td>Plymouth</td>\n",
       "      <td>UK</td>\n",
       "      <td>247923</td>\n",
       "      <td>50.376289</td>\n",
       "      <td>-4.143841</td>\n",
       "    </tr>\n",
       "    <tr>\n",
       "      <th>11</th>\n",
       "      <td>Cardiff</td>\n",
       "      <td>UK</td>\n",
       "      <td>304777</td>\n",
       "      <td>51.481583</td>\n",
       "      <td>-3.179090</td>\n",
       "    </tr>\n",
       "    <tr>\n",
       "      <th>42</th>\n",
       "      <td>Blackpool</td>\n",
       "      <td>UK</td>\n",
       "      <td>143154</td>\n",
       "      <td>53.815884</td>\n",
       "      <td>-3.055291</td>\n",
       "    </tr>\n",
       "    <tr>\n",
       "      <th>94</th>\n",
       "      <td>Birkenhead</td>\n",
       "      <td>UK</td>\n",
       "      <td>81230</td>\n",
       "      <td>53.4</td>\n",
       "      <td>-3.033333</td>\n",
       "    </tr>\n",
       "    <tr>\n",
       "      <th>76</th>\n",
       "      <td>Southport</td>\n",
       "      <td>UK</td>\n",
       "      <td>93367</td>\n",
       "      <td>53.666667</td>\n",
       "      <td>-3.000000</td>\n",
       "    </tr>\n",
       "    <tr>\n",
       "      <th>3</th>\n",
       "      <td>Liverpool</td>\n",
       "      <td>UK</td>\n",
       "      <td>468584</td>\n",
       "      <td>53.400002</td>\n",
       "      <td>-2.983333</td>\n",
       "    </tr>\n",
       "    <tr>\n",
       "      <th>38</th>\n",
       "      <td>Dundee</td>\n",
       "      <td>UK</td>\n",
       "      <td>151236</td>\n",
       "      <td>56.462002</td>\n",
       "      <td>-2.970700</td>\n",
       "    </tr>\n",
       "  </tbody>\n",
       "</table>\n",
       "</div>"
      ],
      "text/plain": [
       "           City Country  Population         lat       lon\n",
       "80  Londonderry      UK       88120   55.006763 -7.318268\n",
       "14      Belfast      UK      274678     54.5973 -5.930100\n",
       "2       Glasgow      UK      607192   55.860916 -4.251433\n",
       "18     Plymouth      UK      247923   50.376289 -4.143841\n",
       "11      Cardiff      UK      304777   51.481583 -3.179090\n",
       "42    Blackpool      UK      143154   53.815884 -3.055291\n",
       "94   Birkenhead      UK       81230        53.4 -3.033333\n",
       "76    Southport      UK       93367   53.666667 -3.000000\n",
       "3     Liverpool      UK      468584   53.400002 -2.983333\n",
       "38       Dundee      UK      151236   56.462002 -2.970700"
      ]
     },
     "execution_count": 40,
     "metadata": {},
     "output_type": "execute_result"
    }
   ],
   "source": [
    "furthest_west_cities_df"
   ]
  },
  {
   "cell_type": "code",
   "execution_count": 41,
   "id": "e619121c",
   "metadata": {
    "ExecuteTime": {
     "end_time": "2024-06-09T07:52:13.379095Z",
     "start_time": "2024-06-09T07:52:13.371072Z"
    }
   },
   "outputs": [],
   "source": [
    "# Find the city with the highest population among the furthest west cities\n",
    "highest_population_city = furthest_west_cities_df.loc[furthest_west_cities_df['Population'].idxmax()]"
   ]
  },
  {
   "cell_type": "code",
   "execution_count": 43,
   "id": "4fed2395",
   "metadata": {
    "ExecuteTime": {
     "end_time": "2024-06-09T07:52:59.953737Z",
     "start_time": "2024-06-09T07:52:59.944633Z"
    }
   },
   "outputs": [
    {
     "name": "stdout",
     "output_type": "stream",
     "text": [
      "City           Glasgow\n",
      "Country             UK\n",
      "Population      607192\n",
      "lon          -4.251433\n",
      "Name: 2, dtype: object\n"
     ]
    }
   ],
   "source": [
    "print(highest_population_city[['City', 'Country', 'Population', 'lon']])"
   ]
  }
 ],
 "metadata": {
  "kernelspec": {
   "display_name": "Python 3 (ipykernel)",
   "language": "python",
   "name": "python3"
  },
  "language_info": {
   "codemirror_mode": {
    "name": "ipython",
    "version": 3
   },
   "file_extension": ".py",
   "mimetype": "text/x-python",
   "name": "python",
   "nbconvert_exporter": "python",
   "pygments_lexer": "ipython3",
   "version": "3.9.12"
  },
  "toc": {
   "base_numbering": 1,
   "nav_menu": {},
   "number_sections": true,
   "sideBar": true,
   "skip_h1_title": false,
   "title_cell": "Table of Contents",
   "title_sidebar": "Contents",
   "toc_cell": false,
   "toc_position": {},
   "toc_section_display": true,
   "toc_window_display": false
  },
  "varInspector": {
   "cols": {
    "lenName": 16,
    "lenType": 16,
    "lenVar": 40
   },
   "kernels_config": {
    "python": {
     "delete_cmd_postfix": "",
     "delete_cmd_prefix": "del ",
     "library": "var_list.py",
     "varRefreshCmd": "print(var_dic_list())"
    },
    "r": {
     "delete_cmd_postfix": ") ",
     "delete_cmd_prefix": "rm(",
     "library": "var_list.r",
     "varRefreshCmd": "cat(var_dic_list()) "
    }
   },
   "types_to_exclude": [
    "module",
    "function",
    "builtin_function_or_method",
    "instance",
    "_Feature"
   ],
   "window_display": false
  }
 },
 "nbformat": 4,
 "nbformat_minor": 5
}
