{
 "cells": [
  {
   "cell_type": "code",
   "execution_count": 12,
   "id": "6d4c9363",
   "metadata": {
    "ExecuteTime": {
     "end_time": "2023-03-23T01:09:11.625830Z",
     "start_time": "2023-03-23T01:09:11.529622Z"
    }
   },
   "outputs": [],
   "source": [
    "import numpy as np\n",
    "import matplotlib.pyplot as plt\n",
    "import pandas as pd\n",
    "import csv\n",
    "from sklearn.model_selection import train_test_split, cross_val_score,KFold\n",
    "from sklearn.neighbors import KNeighborsClassifier\n",
    "from sklearn.discriminant_analysis import LinearDiscriminantAnalysis\n",
    "from sklearn.metrics import roc_auc_score"
   ]
  },
  {
   "cell_type": "code",
   "execution_count": 13,
   "id": "1ea0d106",
   "metadata": {
    "ExecuteTime": {
     "end_time": "2023-03-23T01:09:12.140035Z",
     "start_time": "2023-03-23T01:09:12.102449Z"
    }
   },
   "outputs": [],
   "source": [
    "# Read the data from the text file\n",
    "with open('/Users/sarthakchawla/Downloads/newthyroid-2.txt') as file:\n",
    "    raw_data = file.readlines()"
   ]
  },
  {
   "cell_type": "code",
   "execution_count": 14,
   "id": "5881b235",
   "metadata": {
    "ExecuteTime": {
     "end_time": "2023-03-23T01:09:12.791980Z",
     "start_time": "2023-03-23T01:09:12.764337Z"
    }
   },
   "outputs": [],
   "source": [
    "# Create a new list to store the formatted data\n",
    "formatted_data = []\n",
    "\n",
    "# Loop through the data and split it into columns\n",
    "for line in raw_data:\n",
    "    columns = line.split(',')\n",
    "    formatted_data.append([columns[0], columns[1], columns[2], columns[3], columns[4], columns[5].strip()])\n",
    "\n",
    "# Write the formatted data to a CSV file\n",
    "with open('thyroid.csv', 'w', newline='') as file:\n",
    "    writer = csv.writer(file)\n",
    "    writer.writerow(['class', 'F1', 'F2', 'F3', 'F4', 'F5'])\n",
    "    writer.writerows(formatted_data)\n"
   ]
  },
  {
   "cell_type": "code",
   "execution_count": 15,
   "id": "b2aec7eb",
   "metadata": {
    "ExecuteTime": {
     "end_time": "2023-03-23T01:09:13.564961Z",
     "start_time": "2023-03-23T01:09:13.462878Z"
    }
   },
   "outputs": [],
   "source": [
    "# Load the new csv file\n",
    "df= pd.read_csv('thyroid.csv')"
   ]
  },
  {
   "cell_type": "code",
   "execution_count": 16,
   "id": "f1391e80",
   "metadata": {
    "ExecuteTime": {
     "end_time": "2023-03-23T01:09:14.091912Z",
     "start_time": "2023-03-23T01:09:14.051293Z"
    }
   },
   "outputs": [],
   "source": [
    "# Remove the irrelevant rows\n",
    "df = df.drop([0,1,2,3,4,5])"
   ]
  },
  {
   "cell_type": "code",
   "execution_count": 17,
   "id": "55f7cf4e",
   "metadata": {
    "ExecuteTime": {
     "end_time": "2023-03-23T01:09:14.699560Z",
     "start_time": "2023-03-23T01:09:14.669705Z"
    }
   },
   "outputs": [],
   "source": [
    "# Write the modified DataFrame back to a CSV file\n",
    "df.to_csv('modified_csv_file.csv', index=False)"
   ]
  },
  {
   "cell_type": "code",
   "execution_count": 18,
   "id": "7cda2634",
   "metadata": {
    "ExecuteTime": {
     "end_time": "2023-03-23T01:09:15.463685Z",
     "start_time": "2023-03-23T01:09:15.440535Z"
    }
   },
   "outputs": [],
   "source": [
    "# Read the final modified csv\n",
    "data= pd.read_csv('modified_csv_file.csv')"
   ]
  },
  {
   "cell_type": "code",
   "execution_count": 19,
   "id": "0cc08098",
   "metadata": {
    "ExecuteTime": {
     "end_time": "2023-03-23T01:09:16.149138Z",
     "start_time": "2023-03-23T01:09:16.064036Z"
    }
   },
   "outputs": [
    {
     "data": {
      "text/html": [
       "<div>\n",
       "<style scoped>\n",
       "    .dataframe tbody tr th:only-of-type {\n",
       "        vertical-align: middle;\n",
       "    }\n",
       "\n",
       "    .dataframe tbody tr th {\n",
       "        vertical-align: top;\n",
       "    }\n",
       "\n",
       "    .dataframe thead th {\n",
       "        text-align: right;\n",
       "    }\n",
       "</style>\n",
       "<table border=\"1\" class=\"dataframe\">\n",
       "  <thead>\n",
       "    <tr style=\"text-align: right;\">\n",
       "      <th></th>\n",
       "      <th>class</th>\n",
       "      <th>F1</th>\n",
       "      <th>F2</th>\n",
       "      <th>F3</th>\n",
       "      <th>F4</th>\n",
       "      <th>F5</th>\n",
       "    </tr>\n",
       "  </thead>\n",
       "  <tbody>\n",
       "    <tr>\n",
       "      <th>0</th>\n",
       "      <td>n</td>\n",
       "      <td>105</td>\n",
       "      <td>6.1</td>\n",
       "      <td>2.1</td>\n",
       "      <td>1.4</td>\n",
       "      <td>7.0</td>\n",
       "    </tr>\n",
       "    <tr>\n",
       "      <th>1</th>\n",
       "      <td>n</td>\n",
       "      <td>110</td>\n",
       "      <td>10.4</td>\n",
       "      <td>1.6</td>\n",
       "      <td>1.6</td>\n",
       "      <td>2.7</td>\n",
       "    </tr>\n",
       "    <tr>\n",
       "      <th>2</th>\n",
       "      <td>n</td>\n",
       "      <td>114</td>\n",
       "      <td>9.9</td>\n",
       "      <td>2.4</td>\n",
       "      <td>1.5</td>\n",
       "      <td>5.7</td>\n",
       "    </tr>\n",
       "    <tr>\n",
       "      <th>3</th>\n",
       "      <td>n</td>\n",
       "      <td>106</td>\n",
       "      <td>9.4</td>\n",
       "      <td>2.2</td>\n",
       "      <td>1.5</td>\n",
       "      <td>0.0</td>\n",
       "    </tr>\n",
       "    <tr>\n",
       "      <th>4</th>\n",
       "      <td>n</td>\n",
       "      <td>107</td>\n",
       "      <td>13.0</td>\n",
       "      <td>1.1</td>\n",
       "      <td>0.9</td>\n",
       "      <td>3.1</td>\n",
       "    </tr>\n",
       "    <tr>\n",
       "      <th>...</th>\n",
       "      <td>...</td>\n",
       "      <td>...</td>\n",
       "      <td>...</td>\n",
       "      <td>...</td>\n",
       "      <td>...</td>\n",
       "      <td>...</td>\n",
       "    </tr>\n",
       "    <tr>\n",
       "      <th>175</th>\n",
       "      <td>h</td>\n",
       "      <td>88</td>\n",
       "      <td>16.5</td>\n",
       "      <td>4.9</td>\n",
       "      <td>0.8</td>\n",
       "      <td>0.1</td>\n",
       "    </tr>\n",
       "    <tr>\n",
       "      <th>176</th>\n",
       "      <td>h</td>\n",
       "      <td>97</td>\n",
       "      <td>15.1</td>\n",
       "      <td>1.8</td>\n",
       "      <td>1.2</td>\n",
       "      <td>-0.2</td>\n",
       "    </tr>\n",
       "    <tr>\n",
       "      <th>177</th>\n",
       "      <td>h</td>\n",
       "      <td>106</td>\n",
       "      <td>13.4</td>\n",
       "      <td>3.0</td>\n",
       "      <td>1.1</td>\n",
       "      <td>0.0</td>\n",
       "    </tr>\n",
       "    <tr>\n",
       "      <th>178</th>\n",
       "      <td>h</td>\n",
       "      <td>79</td>\n",
       "      <td>19.0</td>\n",
       "      <td>5.5</td>\n",
       "      <td>0.9</td>\n",
       "      <td>0.3</td>\n",
       "    </tr>\n",
       "    <tr>\n",
       "      <th>179</th>\n",
       "      <td>h</td>\n",
       "      <td>92</td>\n",
       "      <td>11.1</td>\n",
       "      <td>2.0</td>\n",
       "      <td>0.7</td>\n",
       "      <td>-0.2</td>\n",
       "    </tr>\n",
       "  </tbody>\n",
       "</table>\n",
       "<p>180 rows × 6 columns</p>\n",
       "</div>"
      ],
      "text/plain": [
       "    class   F1    F2   F3   F4   F5\n",
       "0       n  105   6.1  2.1  1.4  7.0\n",
       "1       n  110  10.4  1.6  1.6  2.7\n",
       "2       n  114   9.9  2.4  1.5  5.7\n",
       "3       n  106   9.4  2.2  1.5  0.0\n",
       "4       n  107  13.0  1.1  0.9  3.1\n",
       "..    ...  ...   ...  ...  ...  ...\n",
       "175     h   88  16.5  4.9  0.8  0.1\n",
       "176     h   97  15.1  1.8  1.2 -0.2\n",
       "177     h  106  13.4  3.0  1.1  0.0\n",
       "178     h   79  19.0  5.5  0.9  0.3\n",
       "179     h   92  11.1  2.0  0.7 -0.2\n",
       "\n",
       "[180 rows x 6 columns]"
      ]
     },
     "execution_count": 19,
     "metadata": {},
     "output_type": "execute_result"
    }
   ],
   "source": [
    "data"
   ]
  },
  {
   "cell_type": "code",
   "execution_count": 20,
   "id": "365d83e6",
   "metadata": {
    "ExecuteTime": {
     "end_time": "2023-03-23T01:09:26.637916Z",
     "start_time": "2023-03-23T01:09:17.740619Z"
    }
   },
   "outputs": [
    {
     "name": "stdout",
     "output_type": "stream",
     "text": [
      "Best k for fold 1 is 3\n",
      "Test AUC for kNN in fold 1 is 1.000\n",
      "Test AUC for LDA in fold 1 is 1.000\n",
      "Best k for fold 2 is 3\n",
      "Test AUC for kNN in fold 2 is 1.000\n",
      "Test AUC for LDA in fold 2 is 1.000\n",
      "Best k for fold 3 is 3\n",
      "Test AUC for kNN in fold 3 is 0.991\n",
      "Test AUC for LDA in fold 3 is 1.000\n",
      "Best k for fold 4 is 7\n",
      "Test AUC for kNN in fold 4 is 0.938\n",
      "Test AUC for LDA in fold 4 is 0.998\n",
      "Best k for fold 5 is 5\n",
      "Test AUC for kNN in fold 5 is 0.998\n",
      "Test AUC for LDA in fold 5 is 1.000\n",
      "Best k for fold 6 is 3\n",
      "Test AUC for kNN in fold 6 is 0.994\n",
      "Test AUC for LDA in fold 6 is 0.988\n",
      "Best k for fold 7 is 3\n",
      "Test AUC for kNN in fold 7 is 1.000\n",
      "Test AUC for LDA in fold 7 is 1.000\n",
      "Best k for fold 8 is 5\n",
      "Test AUC for kNN in fold 8 is 1.000\n",
      "Test AUC for LDA in fold 8 is 0.990\n",
      "Best k for fold 9 is 3\n",
      "Test AUC for kNN in fold 9 is 1.000\n",
      "Test AUC for LDA in fold 9 is 1.000\n",
      "Best k for fold 10 is 3\n",
      "Test AUC for kNN in fold 10 is 0.982\n",
      "Test AUC for LDA in fold 10 is 1.000\n"
     ]
    }
   ],
   "source": [
    "# Separate the features and target variable\n",
    "X = data.drop('class', axis=1)\n",
    "Y = data['class']\n",
    "\n",
    "knn_auc_scores = []\n",
    "lda_auc_scores = []\n",
    "\n",
    "# Repeat the random split 10 times\n",
    "for p in range(10):\n",
    "    # Split the data into training and test sets\n",
    "    X_train, X_test, Y_train, Y_test = train_test_split(X, Y, test_size=0.3, random_state=p)\n",
    "    \n",
    "    # Define the range of k values \n",
    "    k_range = range(3, 16, 2)\n",
    "    \n",
    "    # Generate lists to store the cross-validation and AUC scores\n",
    "    cv_scores = []\n",
    "    auc_scores = []\n",
    "    \n",
    "    # Loop over the k values and compute the cross-validation and AUC scores\n",
    "    for k in k_range:\n",
    "        knn = KNeighborsClassifier(n_neighbors=k)\n",
    "        scores = cross_val_score(knn, X_train, Y_train, cv=5, scoring='accuracy')\n",
    "        cv_scores.append(scores.mean())\n",
    "        knn.fit(X_train, Y_train)\n",
    "        Y_pred = knn.predict_proba(X_test)[:, 1]\n",
    "        auc_scores.append(roc_auc_score(Y_test, Y_pred))\n",
    "    \n",
    "    # Choose the k with the highest AUC score\n",
    "    best_k = k_range[auc_scores.index(max(auc_scores))]\n",
    "    print('Best k for fold {} is {}'.format(p+1, best_k))\n",
    "    \n",
    "    # Train kNN with the best k value and compute the AUC score on the test set\n",
    "    knn = KNeighborsClassifier(n_neighbors=best_k)\n",
    "    knn.fit(X_train, Y_train)\n",
    "    Y_pred = knn.predict_proba(X_test)[:, 1]\n",
    "    auc_score = roc_auc_score(Y_test, Y_pred)\n",
    "    knn_auc_scores.append(auc_score)\n",
    "    print('Test AUC for kNN in fold {} is {:.3f}'.format(p+1, auc_score))\n",
    "    \n",
    "    # Apply LDA and compute the AUC score on the test set\n",
    "    lda = LinearDiscriminantAnalysis()\n",
    "    lda.fit(X_train, Y_train)\n",
    "    Y_pred = lda.predict_proba(X_test)[:, 1]\n",
    "    auc_score = roc_auc_score(Y_test, Y_pred)\n",
    "    lda_auc_scores.append(auc_score)\n",
    "    print('Test AUC for LDA in fold {} is {:.3f}'.format(p+1, auc_score))\n",
    "    \n"
   ]
  },
  {
   "cell_type": "code",
   "execution_count": 22,
   "id": "0d1199fc",
   "metadata": {
    "ExecuteTime": {
     "end_time": "2023-03-23T02:40:01.004354Z",
     "start_time": "2023-03-23T02:40:00.818370Z"
    }
   },
   "outputs": [
    {
     "data": {
      "image/png": "[encoded data removed]",
      "text/plain": [
       "<Figure size 720x360 with 1 Axes>"
      ]
     },
     "metadata": {
      "needs_background": "light"
     },
     "output_type": "display_data"
    }
   ],
   "source": [
    "# State the AUC values for kNN and LDA classifiers\n",
    "knn_auc = [1.000, 1.000, 0.991, 0.938, 0.998, 0.994, 1.000, 1.000, 1.000, 0.982]\n",
    "lda_auc = [1.000, 1.000, 1.000, 0.998, 1.000, 0.988, 1.000, 0.990, 1.000, 1.000]\n",
    "\n",
    "# Combine AUC values for both classifiers\n",
    "auc_data = [knn_auc, lda_auc]\n",
    "\n",
    "# Create a boxplot\n",
    "fig, ax = plt.subplots(figsize=(10,5))\n",
    "ax.boxplot(auc_data)\n",
    "\n",
    "# Set x-axis tick labels and title\n",
    "ax.set_xticklabels(['kNN', 'LDA'])\n",
    "ax.set_title('Comparison of AUC values for kNN and LDA classifiers')\n",
    "\n",
    "# Set y-axis limits and labels\n",
    "ax.set_ylim([0.90, 1.0])\n",
    "ax.set_ylabel('AUC')\n",
    "\n",
    "# Show plot\n",
    "plt.show()\n"
   ]
  },
  {
   "cell_type": "markdown",
   "id": "c9eb99ac",
   "metadata": {
    "ExecuteTime": {
     "end_time": "2023-03-23T01:18:38.838381Z",
     "start_time": "2023-03-23T01:18:38.816451Z"
    }
   },
   "source": [
    "#Looking at the two boxplots, we can see that both kNN and LDA classifiers have high AUC values, indicating good performance in classification tasks. The median AUC value for kNN is slightly lower than that of LDA, but the difference is not significant. The interquartile range (IQR) for kNN is smaller than that of LDA, indicating less variability in the AUC values across the folds. However, there are a few outliers in the kNN boxplot, indicating that the performance of the kNN classifier varies across the different folds.\n",
    "\n",
    "Overall, both classifiers have similar performance, but LDA seems to have slightly more consistent performance across the different folds."
   ]
  },
  {
   "cell_type": "code",
   "execution_count": null,
   "id": "16d01581",
   "metadata": {},
   "outputs": [],
   "source": []
  }
 ],
 "metadata": {
  "kernelspec": {
   "display_name": "Python 3 (ipykernel)",
   "language": "python",
   "name": "python3"
  },
  "language_info": {
   "codemirror_mode": {
    "name": "ipython",
    "version": 3
   },
   "file_extension": ".py",
   "mimetype": "text/x-python",
   "name": "python",
   "nbconvert_exporter": "python",
   "pygments_lexer": "ipython3",
   "version": "3.9.12"
  },
  "toc": {
   "base_numbering": 1,
   "nav_menu": {},
   "number_sections": true,
   "sideBar": true,
   "skip_h1_title": false,
   "title_cell": "Table of Contents",
   "title_sidebar": "Contents",
   "toc_cell": false,
   "toc_position": {},
   "toc_section_display": true,
   "toc_window_display": false
  },
  "varInspector": {
   "cols": {
    "lenName": 16,
    "lenType": 16,
    "lenVar": 40
   },
   "kernels_config": {
    "python": {
     "delete_cmd_postfix": "",
     "delete_cmd_prefix": "del ",
     "library": "var_list.py",
     "varRefreshCmd": "print(var_dic_list())"
    },
    "r": {
     "delete_cmd_postfix": ") ",
     "delete_cmd_prefix": "rm(",
     "library": "var_list.r",
     "varRefreshCmd": "cat(var_dic_list()) "
    }
   },
   "types_to_exclude": [
    "module",
    "function",
    "builtin_function_or_method",
    "instance",
    "_Feature"
   ],
   "window_display": false
  }
 },
 "nbformat": 4,
 "nbformat_minor": 5
}
