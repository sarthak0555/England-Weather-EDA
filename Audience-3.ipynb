{
 "cells": [
  {
   "cell_type": "code",
   "execution_count": 1,
   "metadata": {
    "colab": {
     "base_uri": "https://localhost:8080/",
     "height": 204
    },
    "id": "Utx5cE9NDaGv",
    "outputId": "c4c21d1c-b6d8-44cc-904f-a4674dc5249a"
   },
   "outputs": [
    {
     "data": {
      "text/html": [
       "\n",
       "  <div id=\"df-7d99f157-f5ab-473e-bb13-900731f43301\" class=\"colab-df-container\">\n",
       "    <div>\n",
       "<style scoped>\n",
       "    .dataframe tbody tr th:only-of-type {\n",
       "        vertical-align: middle;\n",
       "    }\n",
       "\n",
       "    .dataframe tbody tr th {\n",
       "        vertical-align: top;\n",
       "    }\n",
       "\n",
       "    .dataframe thead th {\n",
       "        text-align: right;\n",
       "    }\n",
       "</style>\n",
       "<table border=\"1\" class=\"dataframe\">\n",
       "  <thead>\n",
       "    <tr style=\"text-align: right;\">\n",
       "      <th></th>\n",
       "      <th>Name</th>\n",
       "      <th>comments</th>\n",
       "      <th>Date</th>\n",
       "    </tr>\n",
       "  </thead>\n",
       "  <tbody>\n",
       "    <tr>\n",
       "      <th>0</th>\n",
       "      <td>Mazda 3s</td>\n",
       "      <td>After months of releasing preview images and s...</td>\n",
       "      <td>August 29, 2022</td>\n",
       "    </tr>\n",
       "    <tr>\n",
       "      <th>1</th>\n",
       "      <td>Darepoole</td>\n",
       "      <td>It looks like the Macan with a little bit of I...</td>\n",
       "      <td>March 22, 2022</td>\n",
       "    </tr>\n",
       "    <tr>\n",
       "      <th>2</th>\n",
       "      <td>JackStraw79</td>\n",
       "      <td>Nice hot hatch!</td>\n",
       "      <td>March 22, 2022</td>\n",
       "    </tr>\n",
       "    <tr>\n",
       "      <th>3</th>\n",
       "      <td>CostcoPizza</td>\n",
       "      <td>Looks like a car you'd find in GTA V DLC, whic...</td>\n",
       "      <td>March 22, 2022</td>\n",
       "    </tr>\n",
       "    <tr>\n",
       "      <th>4</th>\n",
       "      <td>Venom21</td>\n",
       "      <td>Terrible gloss black: CheckTerrible touchscree...</td>\n",
       "      <td>March 22, 2022</td>\n",
       "    </tr>\n",
       "  </tbody>\n",
       "</table>\n",
       "</div>\n",
       "    <div class=\"colab-df-buttons\">\n",
       "\n",
       "  <div class=\"colab-df-container\">\n",
       "    <button class=\"colab-df-convert\" onclick=\"convertToInteractive('df-7d99f157-f5ab-473e-bb13-900731f43301')\"\n",
       "            title=\"Convert this dataframe to an interactive table.\"\n",
       "            style=\"display:none;\">\n",
       "\n",
       "  <svg xmlns=\"http://www.w3.org/2000/svg\" height=\"24px\" viewBox=\"0 -960 960 960\">\n",
       "    <path d=\"M120-120v-720h720v720H120Zm60-500h600v-160H180v160Zm220 220h160v-160H400v160Zm0 220h160v-160H400v160ZM180-400h160v-160H180v160Zm440 0h160v-160H620v160ZM180-180h160v-160H180v160Zm440 0h160v-160H620v160Z\"/>\n",
       "  </svg>\n",
       "    </button>\n",
       "\n",
       "  <style>\n",
       "    .colab-df-container {\n",
       "      display:flex;\n",
       "      gap: 12px;\n",
       "    }\n",
       "\n",
       "    .colab-df-convert {\n",
       "      background-color: #E8F0FE;\n",
       "      border: none;\n",
       "      border-radius: 50%;\n",
       "      cursor: pointer;\n",
       "      display: none;\n",
       "      fill: #1967D2;\n",
       "      height: 32px;\n",
       "      padding: 0 0 0 0;\n",
       "      width: 32px;\n",
       "    }\n",
       "\n",
       "    .colab-df-convert:hover {\n",
       "      background-color: #E2EBFA;\n",
       "      box-shadow: 0px 1px 2px rgba(60, 64, 67, 0.3), 0px 1px 3px 1px rgba(60, 64, 67, 0.15);\n",
       "      fill: #174EA6;\n",
       "    }\n",
       "\n",
       "    .colab-df-buttons div {\n",
       "      margin-bottom: 4px;\n",
       "    }\n",
       "\n",
       "    [theme=dark] .colab-df-convert {\n",
       "      background-color: #3B4455;\n",
       "      fill: #D2E3FC;\n",
       "    }\n",
       "\n",
       "    [theme=dark] .colab-df-convert:hover {\n",
       "      background-color: #434B5C;\n",
       "      box-shadow: 0px 1px 3px 1px rgba(0, 0, 0, 0.15);\n",
       "      filter: drop-shadow(0px 1px 2px rgba(0, 0, 0, 0.3));\n",
       "      fill: #FFFFFF;\n",
       "    }\n",
       "  </style>\n",
       "\n",
       "    <script>\n",
       "      const buttonEl =\n",
       "        document.querySelector('#df-7d99f157-f5ab-473e-bb13-900731f43301 button.colab-df-convert');\n",
       "      buttonEl.style.display =\n",
       "        google.colab.kernel.accessAllowed ? 'block' : 'none';\n",
       "\n",
       "      async function convertToInteractive(key) {\n",
       "        const element = document.querySelector('#df-7d99f157-f5ab-473e-bb13-900731f43301');\n",
       "        const dataTable =\n",
       "          await google.colab.kernel.invokeFunction('convertToInteractive',\n",
       "                                                    [key], {});\n",
       "        if (!dataTable) return;\n",
       "\n",
       "        const docLinkHtml = 'Like what you see? Visit the ' +\n",
       "          '<a target=\"_blank\" href=https://colab.research.google.com/notebooks/data_table.ipynb>data table notebook</a>'\n",
       "          + ' to learn more about interactive tables.';\n",
       "        element.innerHTML = '';\n",
       "        dataTable['output_type'] = 'display_data';\n",
       "        await google.colab.output.renderOutput(dataTable, element);\n",
       "        const docLink = document.createElement('div');\n",
       "        docLink.innerHTML = docLinkHtml;\n",
       "        element.appendChild(docLink);\n",
       "      }\n",
       "    </script>\n",
       "  </div>\n",
       "\n",
       "\n",
       "<div id=\"df-ef9db18e-9dd1-4f79-a093-d5c9d610d9c6\">\n",
       "  <button class=\"colab-df-quickchart\" onclick=\"quickchart('df-ef9db18e-9dd1-4f79-a093-d5c9d610d9c6')\"\n",
       "            title=\"Suggest charts.\"\n",
       "            style=\"display:none;\">\n",
       "\n",
       "<svg xmlns=\"http://www.w3.org/2000/svg\" height=\"24px\"viewBox=\"0 0 24 24\"\n",
       "     width=\"24px\">\n",
       "    <g>\n",
       "        <path d=\"M19 3H5c-1.1 0-2 .9-2 2v14c0 1.1.9 2 2 2h14c1.1 0 2-.9 2-2V5c0-1.1-.9-2-2-2zM9 17H7v-7h2v7zm4 0h-2V7h2v10zm4 0h-2v-4h2v4z\"/>\n",
       "    </g>\n",
       "</svg>\n",
       "  </button>\n",
       "\n",
       "<style>\n",
       "  .colab-df-quickchart {\n",
       "    background-color: #E8F0FE;\n",
       "    border: none;\n",
       "    border-radius: 50%;\n",
       "    cursor: pointer;\n",
       "    display: none;\n",
       "    fill: #1967D2;\n",
       "    height: 32px;\n",
       "    padding: 0 0 0 0;\n",
       "    width: 32px;\n",
       "  }\n",
       "\n",
       "  .colab-df-quickchart:hover {\n",
       "    background-color: #E2EBFA;\n",
       "    box-shadow: 0px 1px 2px rgba(60, 64, 67, 0.3), 0px 1px 3px 1px rgba(60, 64, 67, 0.15);\n",
       "    fill: #174EA6;\n",
       "  }\n",
       "\n",
       "  [theme=dark] .colab-df-quickchart {\n",
       "    background-color: #3B4455;\n",
       "    fill: #D2E3FC;\n",
       "  }\n",
       "\n",
       "  [theme=dark] .colab-df-quickchart:hover {\n",
       "    background-color: #434B5C;\n",
       "    box-shadow: 0px 1px 3px 1px rgba(0, 0, 0, 0.15);\n",
       "    filter: drop-shadow(0px 1px 2px rgba(0, 0, 0, 0.3));\n",
       "    fill: #FFFFFF;\n",
       "  }\n",
       "</style>\n",
       "\n",
       "  <script>\n",
       "    async function quickchart(key) {\n",
       "      const charts = await google.colab.kernel.invokeFunction(\n",
       "          'suggestCharts', [key], {});\n",
       "    }\n",
       "    (() => {\n",
       "      let quickchartButtonEl =\n",
       "        document.querySelector('#df-ef9db18e-9dd1-4f79-a093-d5c9d610d9c6 button');\n",
       "      quickchartButtonEl.style.display =\n",
       "        google.colab.kernel.accessAllowed ? 'block' : 'none';\n",
       "    })();\n",
       "  </script>\n",
       "</div>\n",
       "    </div>\n",
       "  </div>\n"
      ],
      "text/plain": [
       "          Name                                           comments  \\\n",
       "0     Mazda 3s  After months of releasing preview images and s...   \n",
       "1    Darepoole  It looks like the Macan with a little bit of I...   \n",
       "2  JackStraw79                                    Nice hot hatch!   \n",
       "3  CostcoPizza  Looks like a car you'd find in GTA V DLC, whic...   \n",
       "4      Venom21  Terrible gloss black: CheckTerrible touchscree...   \n",
       "\n",
       "              Date  \n",
       "0  August 29, 2022  \n",
       "1   March 22, 2022  \n",
       "2   March 22, 2022  \n",
       "3   March 22, 2022  \n",
       "4   March 22, 2022  "
      ]
     },
     "execution_count": 1,
     "metadata": {},
     "output_type": "execute_result"
    }
   ],
   "source": [
    "import pandas as pd\n",
    "\n",
    "# Load the data for Maserati Grecale\n",
    "grecale_data = pd.read_csv('/AllGrecale.csv')\n",
    "\n",
    "# Display the first few rows of the dataset\n",
    "grecale_data.head()"
   ]
  },
  {
   "cell_type": "code",
   "execution_count": 2,
   "metadata": {
    "colab": {
     "base_uri": "https://localhost:8080/"
    },
    "id": "Z7O8Lt76UUlM",
    "outputId": "35e0dc8c-544c-4f3d-bbd0-3d5a51a2adca"
   },
   "outputs": [
    {
     "data": {
      "text/plain": [
       "0    after months of releasing preview images and s...\n",
       "1    it looks like the macan with a little bit of i...\n",
       "2                                       nice hot hatch\n",
       "3    looks like a car youd find in gta v dlc which ...\n",
       "4    terrible gloss black checkterrible touchscreen...\n",
       "Name: comments, dtype: object"
      ]
     },
     "execution_count": 2,
     "metadata": {},
     "output_type": "execute_result"
    }
   ],
   "source": [
    "import re\n",
    "\n",
    "def clean_text(text):\n",
    "    \"\"\"Clean the text data by removing non-alphanumeric characters and converting to lowercase.\"\"\"\n",
    "    # Convert to string (in case of NaN values or numbers)\n",
    "    text = str(text)\n",
    "    # Remove non-alphanumeric characters and convert to lowercase\n",
    "    cleaned_text = re.sub(r'[^a-zA-Z0-9\\s]', '', text).lower()\n",
    "    return cleaned_text\n",
    "\n",
    "# Apply text cleaning to all datasets\n",
    "grecale_data['comments'] = grecale_data['comments'].apply(clean_text)\n",
    "\n",
    "# Display cleaned comments for Grecale as an example\n",
    "grecale_data['comments'].head()"
   ]
  },
  {
   "cell_type": "code",
   "execution_count": 3,
   "metadata": {
    "colab": {
     "base_uri": "https://localhost:8080/"
    },
    "id": "8W3OpKKLSADa",
    "outputId": "8b8a98d2-6083-4a46-a7be-8884f2c698cf"
   },
   "outputs": [
    {
     "data": {
      "text/plain": [
       "0"
      ]
     },
     "execution_count": 3,
     "metadata": {},
     "output_type": "execute_result"
    }
   ],
   "source": [
    "# Convert the 'Date' column to datetime format\n",
    "grecale_data['Date'] = pd.to_datetime(grecale_data['Date'], errors='coerce', infer_datetime_format=True)\n",
    "\n",
    "# Check for any null values after conversion\n",
    "null_dates = grecale_data['Date'].isnull().sum()\n",
    "\n",
    "null_dates"
   ]
  },
  {
   "cell_type": "markdown",
   "metadata": {
    "id": "vSC5WAwWXKJM"
   },
   "source": [
    "PRE-LAUNCH GRECALE"
   ]
  },
  {
   "cell_type": "code",
   "execution_count": 4,
   "metadata": {
    "colab": {
     "base_uri": "https://localhost:8080/"
    },
    "id": "BX-dRseqQwhW",
    "outputId": "2950f82d-16cc-4366-e99d-5ba2763ab7ad"
   },
   "outputs": [
    {
     "data": {
      "text/plain": [
       "(101, 1153)"
      ]
     },
     "execution_count": 4,
     "metadata": {},
     "output_type": "execute_result"
    }
   ],
   "source": [
    "# Filter the Grecale data for the years 2022 and 2023 based on datetime objects\n",
    "grecale_filtered = grecale_data[grecale_data['Date'].dt.year.isin([2022, 2023])]\n",
    "\n",
    "# Split the data into pre-launch and post-launch based on March 2022\n",
    "grecale_pre_launch = grecale_filtered[grecale_filtered['Date'] < '2022-03-01']\n",
    "grecale_post_launch = grecale_filtered[grecale_filtered['Date'] >= '2022-03-01']\n",
    "\n",
    "# Display the number of comments in each subset\n",
    "len(grecale_pre_launch), len(grecale_post_launch)"
   ]
  },
  {
   "cell_type": "code",
   "execution_count": 7,
   "metadata": {
    "colab": {
     "base_uri": "https://localhost:8080/"
    },
    "id": "WBgZl4pUVG9A",
    "outputId": "6e4951fc-a962-44cb-c3f6-40f0afb0dce2"
   },
   "outputs": [
    {
     "name": "stderr",
     "output_type": "stream",
     "text": [
      "[nltk_data] Downloading package stopwords to /root/nltk_data...\n",
      "[nltk_data]   Package stopwords is already up-to-date!\n"
     ]
    }
   ],
   "source": [
    "import nltk\n",
    "from nltk.corpus import stopwords\n",
    "\n",
    "nltk.download('stopwords')\n",
    "stop_words = set(stopwords.words('english'))"
   ]
  },
  {
   "cell_type": "code",
   "execution_count": 9,
   "metadata": {
    "colab": {
     "base_uri": "https://localhost:8080/"
    },
    "id": "yUV2AgUGpRIZ",
    "outputId": "b27d0957-e0fe-4e22-8ea5-107ccac290b4"
   },
   "outputs": [
    {
     "data": {
      "text/plain": [
       "[(0,\n",
       "  '0.017*\"suvs\" + 0.012*\"years\" + 0.011*\"saloons\" + 0.011*\"hate\" + 0.009*\"automotive\"'),\n",
       " (1,\n",
       "  '0.019*\"stelvio\" + 0.013*\"alfa\" + 0.012*\"interior\" + 0.009*\"new\" + 0.008*\"think\"'),\n",
       " (2,\n",
       "  '0.023*\"engine\" + 0.016*\"also\" + 0.014*\"nettuno\" + 0.013*\"alfa\" + 0.012*\"ferrari\"'),\n",
       " (3,\n",
       "  '0.012*\"like\" + 0.010*\"bpillar\" + 0.008*\"maseratiness\" + 0.008*\"one\" + 0.008*\"important\"'),\n",
       " (4,\n",
       "  '0.014*\"know\" + 0.012*\"stelvio\" + 0.012*\"people\" + 0.010*\"dont\" + 0.010*\"porsche\"')]"
      ]
     },
     "execution_count": 9,
     "metadata": {},
     "output_type": "execute_result"
    }
   ],
   "source": [
    "from gensim.corpora import Dictionary\n",
    "from gensim.models import LdaModel\n",
    "from gensim.utils import simple_preprocess\n",
    "\n",
    "# Update the preprocessing function to exclude specific words\n",
    "excluded_words = {\"maserati\", \"grecale\", \"car\"}\n",
    "\n",
    "# Preprocessing function\n",
    "def preprocess(text):\n",
    "    tokens = text.split()\n",
    "    return [token for token in tokens if token.lower() not in stop_words and token.lower() not in excluded_words and len(token) > 2]\n",
    "\n",
    "# Preprocess the pre-launch comments using the provided function\n",
    "grecale_pre_processed = grecale_pre_launch['comments'].apply(preprocess)\n",
    "\n",
    "# Create a Dictionary and Corpus for LDA using the preprocessed comments\n",
    "dictionary = Dictionary(grecale_pre_processed)\n",
    "corpus = [dictionary.doc2bow(text) for text in grecale_pre_processed]\n",
    "\n",
    "# Apply LDA to identify topics with a fixed random state for reproducibility\n",
    "num_topics = 5\n",
    "lda_model = LdaModel(corpus, num_topics=num_topics, id2word=dictionary, passes=15, random_state=42)\n",
    "\n",
    "# Display the identified topics\n",
    "topics = lda_model.print_topics(num_words=5)\n",
    "topics\n"
   ]
  },
  {
   "cell_type": "markdown",
   "metadata": {
    "id": "cm_d8QxqqCqW"
   },
   "source": [
    "0-General opinions and comparisons, perhaps with the Stelvio.\n",
    "\n",
    "1-Discussions around Maserati, SUVs, saloons, and possibly some love/hate sentiments about Grecale.\n",
    "\n",
    "2-General opinions about Maserati SUVs.\n",
    "\n",
    "3-Comparisons with Alfa Romeo Stelvio and mentions of Maserati, possibly discussing quality or expectations.\n",
    "\n",
    "4-Engine-related discussions, mentioning Alfa, Ferrari, and specific engine types."
   ]
  },
  {
   "cell_type": "code",
   "execution_count": 10,
   "metadata": {
    "colab": {
     "base_uri": "https://localhost:8080/"
    },
    "id": "XYIfoa7zWQfJ",
    "outputId": "bc69331c-2813-4517-ed4e-8d444949ef7b"
   },
   "outputs": [
    {
     "name": "stdout",
     "output_type": "stream",
     "text": [
      "Collecting transformers\n",
      "  Downloading transformers-4.31.0-py3-none-any.whl (7.4 MB)\n",
      "\u001b[2K     \u001b[90m━━━━━━━━━━━━━━━━━━━━━━━━━━━━━━━━━━━━━━━━\u001b[0m \u001b[32m7.4/7.4 MB\u001b[0m \u001b[31m20.5 MB/s\u001b[0m eta \u001b[36m0:00:00\u001b[0m\n",
      "\u001b[?25hRequirement already satisfied: filelock in /usr/local/lib/python3.10/dist-packages (from transformers) (3.12.2)\n",
      "Collecting huggingface-hub<1.0,>=0.14.1 (from transformers)\n",
      "  Downloading huggingface_hub-0.16.4-py3-none-any.whl (268 kB)\n",
      "\u001b[2K     \u001b[90m━━━━━━━━━━━━━━━━━━━━━━━━━━━━━━━━━━━━━━\u001b[0m \u001b[32m268.8/268.8 kB\u001b[0m \u001b[31m30.7 MB/s\u001b[0m eta \u001b[36m0:00:00\u001b[0m\n",
      "\u001b[?25hRequirement already satisfied: numpy>=1.17 in /usr/local/lib/python3.10/dist-packages (from transformers) (1.23.5)\n",
      "Requirement already satisfied: packaging>=20.0 in /usr/local/lib/python3.10/dist-packages (from transformers) (23.1)\n",
      "Requirement already satisfied: pyyaml>=5.1 in /usr/local/lib/python3.10/dist-packages (from transformers) (6.0.1)\n",
      "Requirement already satisfied: regex!=2019.12.17 in /usr/local/lib/python3.10/dist-packages (from transformers) (2023.6.3)\n",
      "Requirement already satisfied: requests in /usr/local/lib/python3.10/dist-packages (from transformers) (2.31.0)\n",
      "Collecting tokenizers!=0.11.3,<0.14,>=0.11.1 (from transformers)\n",
      "  Downloading tokenizers-0.13.3-cp310-cp310-manylinux_2_17_x86_64.manylinux2014_x86_64.whl (7.8 MB)\n",
      "\u001b[2K     \u001b[90m━━━━━━━━━━━━━━━━━━━━━━━━━━━━━━━━━━━━━━━━\u001b[0m \u001b[32m7.8/7.8 MB\u001b[0m \u001b[31m64.8 MB/s\u001b[0m eta \u001b[36m0:00:00\u001b[0m\n",
      "\u001b[?25hCollecting safetensors>=0.3.1 (from transformers)\n",
      "  Downloading safetensors-0.3.2-cp310-cp310-manylinux_2_17_x86_64.manylinux2014_x86_64.whl (1.3 MB)\n",
      "\u001b[2K     \u001b[90m━━━━━━━━━━━━━━━━━━━━━━━━━━━━━━━━━━━━━━━━\u001b[0m \u001b[32m1.3/1.3 MB\u001b[0m \u001b[31m64.4 MB/s\u001b[0m eta \u001b[36m0:00:00\u001b[0m\n",
      "\u001b[?25hRequirement already satisfied: tqdm>=4.27 in /usr/local/lib/python3.10/dist-packages (from transformers) (4.66.1)\n",
      "Requirement already satisfied: fsspec in /usr/local/lib/python3.10/dist-packages (from huggingface-hub<1.0,>=0.14.1->transformers) (2023.6.0)\n",
      "Requirement already satisfied: typing-extensions>=3.7.4.3 in /usr/local/lib/python3.10/dist-packages (from huggingface-hub<1.0,>=0.14.1->transformers) (4.7.1)\n",
      "Requirement already satisfied: charset-normalizer<4,>=2 in /usr/local/lib/python3.10/dist-packages (from requests->transformers) (3.2.0)\n",
      "Requirement already satisfied: idna<4,>=2.5 in /usr/local/lib/python3.10/dist-packages (from requests->transformers) (3.4)\n",
      "Requirement already satisfied: urllib3<3,>=1.21.1 in /usr/local/lib/python3.10/dist-packages (from requests->transformers) (2.0.4)\n",
      "Requirement already satisfied: certifi>=2017.4.17 in /usr/local/lib/python3.10/dist-packages (from requests->transformers) (2023.7.22)\n",
      "Installing collected packages: tokenizers, safetensors, huggingface-hub, transformers\n",
      "Successfully installed huggingface-hub-0.16.4 safetensors-0.3.2 tokenizers-0.13.3 transformers-4.31.0\n"
     ]
    }
   ],
   "source": [
    "!pip install transformers"
   ]
  },
  {
   "cell_type": "code",
   "execution_count": 11,
   "metadata": {
    "colab": {
     "base_uri": "https://localhost:8080/",
     "height": 177,
     "referenced_widgets": [
      "2e91ada6c845475e9d30e6fbdef58106",
      "607a8e46cd6b46e3b5c0e24b360c314c",
      "f48c5490aaf24c0a96461735fc0588e1",
      "695301ff966c490790f658f378845acb",
      "7f7d78511cfc4f868491664fa6604d50",
      "b2a5a5ec743e4c2fa70eebb52aed3994",
      "ccb8f73cb32940e493ab6c4d51102f88",
      "4efc3a6dd3014256a29cd1947ccd2d00",
      "c048029fe2fa48e990eefb8e47880181",
      "1b1ce6360335478b906b8ebd83611ba8",
      "f2b4d1df99d841b2a44bea62f4a47bd8",
      "49eb42ee25514d2faecf0d9f355097b0",
      "2645f22a61a74e7993223cc6480130d0",
      "7f0899e1cceb4b8a9282471f6d31851d",
      "63b7ec1f18764f66be839a50f3f195e4",
      "823dd48a74fe4241853ec3080390eb22",
      "a91575fbfb7446f8a8e01e962b94d396",
      "a017356cdfb047b4ae25293534b5b871",
      "3fa6db19a7d44c7bb332c5157fb3afca",
      "f4db737055ad49de99e42fea44ed5eba",
      "d420f0c3cce44a24b803144032623a2b",
      "356af10791124cbaa11daae254ce69d1",
      "21f3ee75a6de472b8aca8b9e5e795adb",
      "d8e32fefd3b940018a20e3b6ad4ac445",
      "b79d6e96b7c8402b81ffddaa11e463bd",
      "392ef27030bc44eca505bfaf87dabf96",
      "95f356e976b3489ea9e5493c23fffd3c",
      "e65f397dbf154085a04082782c4aba90",
      "797edcc87dac40b7a45caa42267bc9ef",
      "19b2e08b4e584c53b9cea4ab94e0dc8e",
      "6a14eb4c63074be2811895bf758cdb6a",
      "7e8570130fd24812bf18f4f13e2922ae",
      "673a1b78f877422a87826d7caa7dd918",
      "be59ca6069384ffa977e79ff8bc58296",
      "b91e834b2ca44ebbbe4dce6c4a571012",
      "8cb50e7512204cbe9995571953dbb170",
      "d999a065d6554838a4760d07b2c9aef7",
      "d49f39694ff546bf9b0b76913746df23",
      "810e26d402904179b3720d3cfcbe4392",
      "fc8d465c726244ed9b5f2abbe6106e11",
      "fcbfe84c39fc415b862cd4b541276272",
      "7eaca659bf114bf2a5cf4984d6b93e41",
      "8e73d827528442f29ea10777058cf2f3",
      "6a08ef5145954b6bbf0d262ae8bd1692",
      "069d6e76c6714165b6ca8b99242b8e04",
      "57e73ef0d02d4b589d5e4917e9e3f4a3",
      "790f17b65ea74b81b9ac459e110a1fb8",
      "a12ed92860244637a81d710efabdfd43",
      "6bff49a06fdf474da0812e9e50358704",
      "3eeb5613f8c24af9b6b1997133c9113f",
      "825f2028276b42a5a07702466a132e64",
      "119800472b9d4349b46cffb80cb93f17",
      "2e4e3047387d42cab4af72f4916af83d",
      "bdec6e3746bb415e84882e1a1882ee5a",
      "4afff8bef0f64bcbbd69271b5b7f2004"
     ]
    },
    "id": "5U6hjDApVWWY",
    "outputId": "053e54f5-3460-4802-ab58-c9ce04fe38e1"
   },
   "outputs": [
    {
     "data": {
      "application/vnd.jupyter.widget-view+json": {
       "model_id": "2e91ada6c845475e9d30e6fbdef58106",
       "version_major": 2,
       "version_minor": 0
      },
      "text/plain": [
       "Downloading (…)lve/main/config.json:   0%|          | 0.00/953 [00:00<?, ?B/s]"
      ]
     },
     "metadata": {},
     "output_type": "display_data"
    },
    {
     "data": {
      "application/vnd.jupyter.widget-view+json": {
       "model_id": "49eb42ee25514d2faecf0d9f355097b0",
       "version_major": 2,
       "version_minor": 0
      },
      "text/plain": [
       "Downloading pytorch_model.bin:   0%|          | 0.00/669M [00:00<?, ?B/s]"
      ]
     },
     "metadata": {},
     "output_type": "display_data"
    },
    {
     "data": {
      "application/vnd.jupyter.widget-view+json": {
       "model_id": "21f3ee75a6de472b8aca8b9e5e795adb",
       "version_major": 2,
       "version_minor": 0
      },
      "text/plain": [
       "Downloading (…)solve/main/vocab.txt:   0%|          | 0.00/872k [00:00<?, ?B/s]"
      ]
     },
     "metadata": {},
     "output_type": "display_data"
    },
    {
     "data": {
      "application/vnd.jupyter.widget-view+json": {
       "model_id": "be59ca6069384ffa977e79ff8bc58296",
       "version_major": 2,
       "version_minor": 0
      },
      "text/plain": [
       "Downloading (…)cial_tokens_map.json:   0%|          | 0.00/112 [00:00<?, ?B/s]"
      ]
     },
     "metadata": {},
     "output_type": "display_data"
    },
    {
     "data": {
      "application/vnd.jupyter.widget-view+json": {
       "model_id": "069d6e76c6714165b6ca8b99242b8e04",
       "version_major": 2,
       "version_minor": 0
      },
      "text/plain": [
       "Downloading (…)okenizer_config.json:   0%|          | 0.00/39.0 [00:00<?, ?B/s]"
      ]
     },
     "metadata": {},
     "output_type": "display_data"
    }
   ],
   "source": [
    "from transformers import BertTokenizer, BertForSequenceClassification\n",
    "import torch\n",
    "\n",
    "# Load the pre-trained BERT model and tokenizer\n",
    "model_name = \"nlptown/bert-base-multilingual-uncased-sentiment\"\n",
    "model = BertForSequenceClassification.from_pretrained(model_name)\n",
    "tokenizer = BertTokenizer.from_pretrained(model_name)\n"
   ]
  },
  {
   "cell_type": "code",
   "execution_count": 12,
   "metadata": {
    "id": "rKmqL_6iWILy"
   },
   "outputs": [],
   "source": [
    "def predict_sentiment(text):\n",
    "    # Tokenize the input text\n",
    "    inputs = tokenizer.encode_plus(text, return_tensors=\"pt\", max_length=512, truncation=True)\n",
    "\n",
    "    # Get model's prediction\n",
    "    with torch.no_grad():\n",
    "        outputs = model(**inputs)\n",
    "\n",
    "    # Get the sentiment score (1 to 5)\n",
    "    predicted_class = torch.argmax(outputs[0]).item() + 1\n",
    "    return predicted_class"
   ]
  },
  {
   "cell_type": "code",
   "execution_count": 13,
   "metadata": {
    "colab": {
     "base_uri": "https://localhost:8080/"
    },
    "id": "5_n8kQkQWhns",
    "outputId": "4b8f168f-190e-46d9-9698-09813e1c4161"
   },
   "outputs": [
    {
     "name": "stderr",
     "output_type": "stream",
     "text": [
      "<ipython-input-13-3f096c834bcb>:7: SettingWithCopyWarning: \n",
      "A value is trying to be set on a copy of a slice from a DataFrame.\n",
      "Try using .loc[row_indexer,col_indexer] = value instead\n",
      "\n",
      "See the caveats in the documentation: https://pandas.pydata.org/pandas-docs/stable/user_guide/indexing.html#returning-a-view-versus-a-copy\n",
      "  grecale_pre_launch['topic'] = grecale_pre_processed.apply(assign_topic)\n"
     ]
    },
    {
     "name": "stdout",
     "output_type": "stream",
     "text": [
      "{0: 2.259259259259259, 1: 3.08, 2: 2.875, 3: 2.375, 4: 2.4705882352941178}\n"
     ]
    }
   ],
   "source": [
    "# Assign each comment to its most likely topic\n",
    "def assign_topic(text):\n",
    "    bow = dictionary.doc2bow(text)\n",
    "    topic_scores = lda_model.get_document_topics(bow)\n",
    "    return max(topic_scores, key=lambda x: x[1])[0]\n",
    "\n",
    "grecale_pre_launch['topic'] = grecale_pre_processed.apply(assign_topic)\n",
    "\n",
    "# Compute the average sentiment score for each topic using BERT\n",
    "topic_sentiments = {}\n",
    "for topic_num in range(num_topics):\n",
    "    topic_comments = grecale_pre_launch[grecale_pre_launch['topic'] == topic_num]['comments']\n",
    "    avg_sentiment = topic_comments.apply(predict_sentiment).mean()\n",
    "    topic_sentiments[topic_num] = avg_sentiment\n",
    "\n",
    "print(topic_sentiments)"
   ]
  },
  {
   "cell_type": "markdown",
   "metadata": {
    "id": "pg_gZP5XXRzh"
   },
   "source": [
    "POST-LAUNCH GRECALE"
   ]
  },
  {
   "cell_type": "code",
   "execution_count": 31,
   "metadata": {
    "colab": {
     "base_uri": "https://localhost:8080/"
    },
    "id": "82bT4RE3WmCJ",
    "outputId": "6f9588da-ccfb-49a2-82ff-827164f70334"
   },
   "outputs": [
    {
     "name": "stderr",
     "output_type": "stream",
     "text": [
      "WARNING:gensim.models.ldamodel:too few updates, training might not converge; consider increasing the number of passes or iterations to improve accuracy\n"
     ]
    },
    {
     "data": {
      "text/plain": [
       "[(0,\n",
       "  '0.015*\"like\" + 0.006*\"would\" + 0.006*\"one\" + 0.005*\"looks\" + 0.005*\"dealer\"'),\n",
       " (1,\n",
       "  '0.006*\"new\" + 0.006*\"well\" + 0.005*\"get\" + 0.005*\"issues\" + 0.005*\"see\"'),\n",
       " (2,\n",
       "  '0.009*\"like\" + 0.007*\"looks\" + 0.005*\"one\" + 0.004*\"get\" + 0.004*\"much\"'),\n",
       " (3,\n",
       "  '0.006*\"would\" + 0.005*\"good\" + 0.005*\"get\" + 0.004*\"dealer\" + 0.004*\"modena\"'),\n",
       " (4,\n",
       "  '0.005*\"time\" + 0.005*\"like\" + 0.005*\"see\" + 0.005*\"issue\" + 0.004*\"dont\"')]"
      ]
     },
     "execution_count": 31,
     "metadata": {},
     "output_type": "execute_result"
    }
   ],
   "source": [
    "# Preprocess the post-launch comments\n",
    "grecale_post_processed = grecale_post_launch['comments'].apply(preprocess)\n",
    "\n",
    "# Create a Dictionary and Corpus for LDA\n",
    "dictionary_post = Dictionary(grecale_post_processed)\n",
    "corpus_post = [dictionary_post.doc2bow(text) for text in grecale_post_processed]\n",
    "\n",
    "# Apply LDA to identify topics\n",
    "lda_model_post = LdaModel(corpus_post, num_topics=num_topics, id2word=dictionary_post, random_state=42)\n",
    "\n",
    "# Display the identified topics\n",
    "topics_post = lda_model_post.print_topics(num_words=5)\n",
    "topics_post"
   ]
  },
  {
   "cell_type": "code",
   "execution_count": 15,
   "metadata": {
    "colab": {
     "base_uri": "https://localhost:8080/"
    },
    "id": "9d5GNwn0XY-J",
    "outputId": "691949b2-9f12-4622-8c38-be63f57416ca"
   },
   "outputs": [
    {
     "name": "stderr",
     "output_type": "stream",
     "text": [
      "<ipython-input-15-1fae11890448>:7: SettingWithCopyWarning: \n",
      "A value is trying to be set on a copy of a slice from a DataFrame.\n",
      "Try using .loc[row_indexer,col_indexer] = value instead\n",
      "\n",
      "See the caveats in the documentation: https://pandas.pydata.org/pandas-docs/stable/user_guide/indexing.html#returning-a-view-versus-a-copy\n",
      "  grecale_post_launch['topic'] = grecale_post_processed.apply(assign_topic_post)\n"
     ]
    },
    {
     "name": "stdout",
     "output_type": "stream",
     "text": [
      "{0: 2.76056338028169, 1: 2.5863636363636364, 2: 2.5148936170212766, 3: 2.731578947368421, 4: 2.6651785714285716}\n"
     ]
    }
   ],
   "source": [
    "# Assign each comment to its most likely topic for post-launch data\n",
    "def assign_topic_post(text):\n",
    "    bow = dictionary_post.doc2bow(text)\n",
    "    topic_scores = lda_model_post.get_document_topics(bow)\n",
    "    return max(topic_scores, key=lambda x: x[1])[0]\n",
    "\n",
    "grecale_post_launch['topic'] = grecale_post_processed.apply(assign_topic_post)\n",
    "\n",
    "# Compute the average sentiment score for each topic using BERT\n",
    "topic_sentiments_post = {}\n",
    "for topic_num in range(num_topics):\n",
    "    topic_comments_post = grecale_post_launch[grecale_post_launch['topic'] == topic_num]['comments']\n",
    "    avg_sentiment_post = topic_comments_post.apply(predict_sentiment).mean()\n",
    "    topic_sentiments_post[topic_num] = avg_sentiment_post\n",
    "\n",
    "print(topic_sentiments_post)"
   ]
  },
  {
   "cell_type": "code",
   "execution_count": null,
   "metadata": {
    "id": "fX4W_yEBY7nW"
   },
   "outputs": [],
   "source": []
  },
  {
   "cell_type": "markdown",
   "metadata": {
    "id": "nGQgpAjhtraX"
   },
   "source": [
    "1. **Topic 0 (General Opinions about Cars and Looks)**:\n",
    "    - **Pre-launch Topics**: Discussions around general opinions, mentions of Maserati, and SUV attributes.\n",
    "    - **Post-launch Topics**: General opinions and comparisons, possibly with the Stelvio.\n",
    "    - **Sentiment Shift**: The sentiment remained largely consistent, moving from 3.28 pre-launch to 2.72 post-launch. This indicates that while the reception towards general opinions and looks was positive before the launch, it became slightly neutral after the launch.\n",
    "\n",
    "2. **Topic 1 (Maserati and Dealer Experiences)**:\n",
    "    - **Pre-launch Topics**: Discussions around Maserati, SUVs, saloons, and possible sentiments about Grecale.\n",
    "    - **Post-launch Topics**: Discussions around Maserati, possibly involving dealer experiences or purchasing considerations.\n",
    "    - **Sentiment Shift**: The sentiment shifted from a neutral to slightly positive 2.38 pre-launch to a similar 2.71 post-launch. This could indicate that expectations regarding Maserati and the dealer experience were generally met post-launch.\n",
    "\n",
    "3. **Topic 2 (General Opinions and Comparisons)**:\n",
    "    - **Pre-launch Topics**: General opinions about Maserati SUVs.\n",
    "    - **Post-launch Topics**: Comparisons or mentions of other cars like Macan, and general discussions.\n",
    "    - **Sentiment Shift**: The sentiment remained neutral, moving from 2.50 pre-launch to 2.57 post-launch, indicating that general opinions and comparisons were consistent before and after the launch.\n",
    "\n",
    "4. **Topic 3 (Specifics about Grecale and Dealer Experiences)**:\n",
    "    - **Pre-launch Topics**: Comparisons with Alfa Romeo Stelvio and mentions of Maserati, possibly discussing quality or expectations.\n",
    "    - **Post-launch Topics**: Conversations specifically about Grecale, Maserati, and possibly experiences with dealers.\n",
    "    - **Sentiment Shift**: The sentiment shifted from a neutral 2.48 pre-launch to a slightly positive 2.58 post-launch. This suggests that opinions about Grecale and dealer interactions slightly improved after the launch.\n",
    "\n",
    "5. **Topic 4 (Engine and Technical Aspects)**:\n",
    "    - **Pre-launch Topics**: Engine-related discussions, mentioning Alfa, Ferrari, and specific engine types.\n",
    "    - **Post-launch Topics**: General opinions and discussions around Maserati.\n",
    "    - **Sentiment Shift**: The sentiment was neutral to slightly positive, moving from 2.55 pre-launch to 2.68 post-launch, indicating that technical discussions and opinions about the car remained largely positive post-launch.\n",
    "\n"
   ]
  },
  {
   "cell_type": "code",
   "execution_count": 29,
   "metadata": {
    "colab": {
     "base_uri": "https://localhost:8080/",
     "height": 605
    },
    "id": "IIxF_9YGYj6g",
    "outputId": "97fa8c0c-b818-47eb-94e3-bec4185707f8"
   },
   "outputs": [
    {
     "name": "stderr",
     "output_type": "stream",
     "text": [
      "/usr/local/lib/python3.10/dist-packages/seaborn/categorical.py:1728: UserWarning: You passed a edgecolor/edgecolors ((0.6941176470588235, 0.25098039215686274, 0.050980392156862744)) for an unfilled marker ('x').  Matplotlib is ignoring the edgecolor in favor of the facecolor.  This behavior may change in the future.\n",
      "  ax.scatter(x, y, label=hue_level,\n"
     ]
    },
    {
     "data": {
      "image/png": "[encoded data removed]",
      "text/plain": [
       "<Figure size 1400x800 with 1 Axes>"
      ]
     },
     "metadata": {},
     "output_type": "display_data"
    }
   ],
   "source": [
    "import seaborn as sns\n",
    "import matplotlib.pyplot as plt\n",
    "\n",
    "# Manually defining the given values for topics and sentiments\n",
    "\n",
    "# Pre-Launch\n",
    "pre_launch_topics = [\n",
    "    \"Vehicles & Preferences\",\n",
    "    \"Model & Features\",\n",
    "    \"Engine & Brands\",\n",
    "    \"General Opinion\",\n",
    "    \"Comparison w/ Other Brands\"\n",
    "]\n",
    "pre_launch_sentiments = [2.26, 3.08, 2.88, 2.38, 2.47]\n",
    "\n",
    "# Post-Launch\n",
    "post_launch_topics = [\n",
    "    \"Looks & Preferences\",\n",
    "    \"Features & Issues\",\n",
    "    \"General Feedback\",\n",
    "    \"Dealership Experience\",\n",
    "    \"Usability & Experience\"\n",
    "]\n",
    "post_launch_sentiments = [2.76, 2.59, 2.51, 2.73, 2.67]\n",
    "\n",
    "# Creating the dataframes\n",
    "pre_launch_df = pd.DataFrame({\n",
    "    'Topics': pre_launch_topics,\n",
    "    'Sentiments': pre_launch_sentiments,\n",
    "    'Phase': ['Pre-Launch'] * len(pre_launch_topics)\n",
    "})\n",
    "\n",
    "post_launch_df = pd.DataFrame({\n",
    "    'Topics': post_launch_topics,\n",
    "    'Sentiments': post_launch_sentiments,\n",
    "    'Phase': ['Post-Launch'] * len(post_launch_topics)\n",
    "})\n",
    "\n",
    "# Combining dataframes\n",
    "combined_df = pd.concat([pre_launch_df, post_launch_df], ignore_index=True)\n",
    "\n",
    "# Using Seaborn's point plot for visualization\n",
    "plt.figure(figsize=(14, 8))\n",
    "sns.pointplot(data=combined_df, x='Sentiments', y='Topics', hue='Phase', markers=[\"o\", \"x\"], linestyles=[\"-\", \"--\"], palette=\"dark\")\n",
    "plt.title(\"Sentiment Scores by Topics: Pre vs Post Launch\")\n",
    "plt.grid(axis='x')\n",
    "plt.show()\n"
   ]
  },
  {
   "cell_type": "code",
   "execution_count": 14,
   "metadata": {
    "colab": {
     "base_uri": "https://localhost:8080/"
    },
    "id": "80_WSPBAdq4U",
    "outputId": "e413c6ab-b64b-4445-e838-d75be892b779"
   },
   "outputs": [
    {
     "data": {
      "text/plain": [
       "{'Expecting great, Satisfied': 3,\n",
       " 'Expecting not good, Pleasantly surprised': 3,\n",
       " 'Expecting good, Not happy': 3,\n",
       " 'Not expecting good, Not impressed': 9}"
      ]
     },
     "execution_count": 14,
     "metadata": {},
     "output_type": "execute_result"
    }
   ],
   "source": [
    "# Define the function to categorize the audience based on the sentiment shift\n",
    "def categorize_audience(pre_launch_sentiment, post_launch_sentiment):\n",
    "    if pre_launch_sentiment > 3:\n",
    "        if post_launch_sentiment > 3:\n",
    "            return \"Expecting great, Satisfied\"\n",
    "        else:\n",
    "            return \"Expecting good, Not happy\"\n",
    "    else:\n",
    "        if post_launch_sentiment > 3:\n",
    "            return \"Expecting not good, Pleasantly surprised\"\n",
    "        else:\n",
    "            return \"Not expecting good, Not impressed\"\n",
    "\n",
    "# Extract comments for Topic 3 from pre-launch and post-launch datasets\n",
    "topic0_pre_comments = grecale_pre_launch[grecale_pre_launch['topic'] == 0]['comments']\n",
    "topic0_post_comments = grecale_post_launch[grecale_post_launch['topic'] == 0]['comments']\n",
    "\n",
    "# Calculate sentiment scores for each comment using BERT\n",
    "topic0_pre_sentiments = topic0_pre_comments.apply(predict_sentiment)\n",
    "topic0_post_sentiments = topic0_post_comments.apply(predict_sentiment)\n",
    "\n",
    "# Categorize each comment based on the sentiment shift\n",
    "audience_categories = list(map(categorize_audience, topic0_pre_sentiments, topic0_post_sentiments))\n",
    "\n",
    "# Count the number of comments in each category\n",
    "audience_counts = {category: audience_categories.count(category) for category in set(audience_categories)}\n",
    "audience_counts\n"
   ]
  },
  {
   "cell_type": "code",
   "execution_count": 15,
   "metadata": {
    "colab": {
     "base_uri": "https://localhost:8080/"
    },
    "id": "mYS6nZrWYDaY",
    "outputId": "df89dea2-2583-4c00-d58d-eac94258a5bf"
   },
   "outputs": [
    {
     "data": {
      "text/plain": [
       "{'Expecting not good, Pleasantly surprised': 5,\n",
       " 'Expecting good, Not happy': 4,\n",
       " 'Not expecting good, Not impressed': 14}"
      ]
     },
     "execution_count": 15,
     "metadata": {},
     "output_type": "execute_result"
    }
   ],
   "source": [
    "# Define the function to categorize the audience based on the sentiment shift\n",
    "def categorize_audience(pre_launch_sentiment, post_launch_sentiment):\n",
    "    if pre_launch_sentiment > 3:\n",
    "        if post_launch_sentiment > 3:\n",
    "            return \"Expecting great, Satisfied\"\n",
    "        else:\n",
    "            return \"Expecting good, Not happy\"\n",
    "    else:\n",
    "        if post_launch_sentiment > 3:\n",
    "            return \"Expecting not good, Pleasantly surprised\"\n",
    "        else:\n",
    "            return \"Not expecting good, Not impressed\"\n",
    "\n",
    "# Extract comments for Topic 3 from pre-launch and post-launch datasets\n",
    "topic3_pre_comments = grecale_pre_launch[grecale_pre_launch['topic'] == 3]['comments']\n",
    "topic3_post_comments = grecale_post_launch[grecale_post_launch['topic'] == 3]['comments']\n",
    "\n",
    "# Calculate sentiment scores for each comment using BERT\n",
    "topic3_pre_sentiments = topic3_pre_comments.apply(predict_sentiment)\n",
    "topic3_post_sentiments = topic3_post_comments.apply(predict_sentiment)\n",
    "\n",
    "# Categorize each comment based on the sentiment shift\n",
    "audience_categories = list(map(categorize_audience, topic3_pre_sentiments, topic3_post_sentiments))\n",
    "\n",
    "# Count the number of comments in each category\n",
    "audience_counts = {category: audience_categories.count(category) for category in set(audience_categories)}\n",
    "\n",
    "audience_counts"
   ]
  },
  {
   "cell_type": "code",
   "execution_count": 16,
   "metadata": {
    "colab": {
     "base_uri": "https://localhost:8080/"
    },
    "id": "MXLPiMZ1a4F7",
    "outputId": "1758c0fd-660e-4e41-fb05-c93764fb8c5f"
   },
   "outputs": [
    {
     "data": {
      "text/plain": [
       "{'Expecting great, Satisfied': 1,\n",
       " 'Expecting not good, Pleasantly surprised': 3,\n",
       " 'Expecting good, Not happy': 2,\n",
       " 'Not expecting good, Not impressed': 18}"
      ]
     },
     "execution_count": 16,
     "metadata": {},
     "output_type": "execute_result"
    }
   ],
   "source": [
    "# Define the function to categorize the audience based on the sentiment shift\n",
    "def categorize_audience(pre_launch_sentiment, post_launch_sentiment):\n",
    "    if pre_launch_sentiment > 3:\n",
    "        if post_launch_sentiment > 3:\n",
    "            return \"Expecting great, Satisfied\"\n",
    "        else:\n",
    "            return \"Expecting good, Not happy\"\n",
    "    else:\n",
    "        if post_launch_sentiment > 3:\n",
    "            return \"Expecting not good, Pleasantly surprised\"\n",
    "        else:\n",
    "            return \"Not expecting good, Not impressed\"\n",
    "\n",
    "# Extract comments for Topic 3 from pre-launch and post-launch datasets\n",
    "topic1_pre_comments = grecale_pre_launch[grecale_pre_launch['topic'] == 1]['comments']\n",
    "topic1_post_comments = grecale_post_launch[grecale_post_launch['topic'] == 1]['comments']\n",
    "\n",
    "# Calculate sentiment scores for each comment using BERT\n",
    "topic1_pre_sentiments = topic1_pre_comments.apply(predict_sentiment)\n",
    "topic1_post_sentiments = topic1_post_comments.apply(predict_sentiment)\n",
    "\n",
    "# Categorize each comment based on the sentiment shift\n",
    "audience_categories = list(map(categorize_audience, topic1_pre_sentiments, topic1_post_sentiments))\n",
    "\n",
    "# Count the number of comments in each category\n",
    "audience_counts = {category: audience_categories.count(category) for category in set(audience_categories)}\n",
    "\n",
    "audience_counts"
   ]
  },
  {
   "cell_type": "code",
   "execution_count": 17,
   "metadata": {
    "colab": {
     "base_uri": "https://localhost:8080/"
    },
    "id": "lRPwFW32vlmB",
    "outputId": "d99f406d-119a-4240-c26c-8305a668847d"
   },
   "outputs": [
    {
     "data": {
      "text/plain": [
       "{'Expecting great, Satisfied': 1,\n",
       " 'Expecting not good, Pleasantly surprised': 2,\n",
       " 'Expecting good, Not happy': 2,\n",
       " 'Not expecting good, Not impressed': 9}"
      ]
     },
     "execution_count": 17,
     "metadata": {},
     "output_type": "execute_result"
    }
   ],
   "source": [
    "# Define the function to categorize the audience based on the sentiment shift\n",
    "def categorize_audience(pre_launch_sentiment, post_launch_sentiment):\n",
    "    if pre_launch_sentiment > 3:\n",
    "        if post_launch_sentiment > 3:\n",
    "            return \"Expecting great, Satisfied\"\n",
    "        else:\n",
    "            return \"Expecting good, Not happy\"\n",
    "    else:\n",
    "        if post_launch_sentiment > 3:\n",
    "            return \"Expecting not good, Pleasantly surprised\"\n",
    "        else:\n",
    "            return \"Not expecting good, Not impressed\"\n",
    "\n",
    "# Extract comments for Topic 3 from pre-launch and post-launch datasets\n",
    "topic2_pre_comments = grecale_pre_launch[grecale_pre_launch['topic'] == 2]['comments']\n",
    "topic2_post_comments = grecale_post_launch[grecale_post_launch['topic'] == 2]['comments']\n",
    "\n",
    "# Calculate sentiment scores for each comment using BERT\n",
    "topic2_pre_sentiments = topic2_pre_comments.apply(predict_sentiment)\n",
    "topic2_post_sentiments = topic2_post_comments.apply(predict_sentiment)\n",
    "\n",
    "# Categorize each comment based on the sentiment shift\n",
    "audience_categories = list(map(categorize_audience, topic2_pre_sentiments, topic2_post_sentiments))\n",
    "\n",
    "# Count the number of comments in each category\n",
    "audience_counts = {category: audience_categories.count(category) for category in set(audience_categories)}\n",
    "\n",
    "audience_counts"
   ]
  },
  {
   "cell_type": "code",
   "execution_count": 18,
   "metadata": {
    "colab": {
     "base_uri": "https://localhost:8080/"
    },
    "id": "OtIXiZeKv5s8",
    "outputId": "53fe04e2-bf1d-4d30-cedd-fd310ef9ed78"
   },
   "outputs": [
    {
     "data": {
      "text/plain": [
       "{'Expecting great, Satisfied': 2,\n",
       " 'Expecting not good, Pleasantly surprised': 5,\n",
       " 'Expecting good, Not happy': 4,\n",
       " 'Not expecting good, Not impressed': 11}"
      ]
     },
     "execution_count": 18,
     "metadata": {},
     "output_type": "execute_result"
    }
   ],
   "source": [
    "# Define the function to categorize the audience based on the sentiment shift\n",
    "def categorize_audience(pre_launch_sentiment, post_launch_sentiment):\n",
    "    if pre_launch_sentiment > 3:\n",
    "        if post_launch_sentiment > 3:\n",
    "            return \"Expecting great, Satisfied\"\n",
    "        else:\n",
    "            return \"Expecting good, Not happy\"\n",
    "    else:\n",
    "        if post_launch_sentiment > 3:\n",
    "            return \"Expecting not good, Pleasantly surprised\"\n",
    "        else:\n",
    "            return \"Not expecting good, Not impressed\"\n",
    "\n",
    "# Extract comments for Topic 3 from pre-launch and post-launch datasets\n",
    "topic4_pre_comments = grecale_pre_launch[grecale_pre_launch['topic'] == 4]['comments']\n",
    "topic4_post_comments = grecale_post_launch[grecale_post_launch['topic'] == 4]['comments']\n",
    "\n",
    "# Calculate sentiment scores for each comment using BERT\n",
    "topic4_pre_sentiments = topic4_pre_comments.apply(predict_sentiment)\n",
    "topic4_post_sentiments = topic4_post_comments.apply(predict_sentiment)\n",
    "\n",
    "# Categorize each comment based on the sentiment shift\n",
    "audience_categories = list(map(categorize_audience, topic4_pre_sentiments, topic4_post_sentiments))\n",
    "\n",
    "# Count the number of comments in each category\n",
    "audience_counts = {category: audience_categories.count(category) for category in set(audience_categories)}\n",
    "\n",
    "audience_counts"
   ]
  },
  {
   "cell_type": "code",
   "execution_count": 19,
   "metadata": {
    "colab": {
     "base_uri": "https://localhost:8080/",
     "height": 692
    },
    "id": "sKLdv2rv3el_",
    "outputId": "5ba77e91-f23d-4b92-e17a-18abc93b8462"
   },
   "outputs": [
    {
     "data": {
      "image/png": "[encoded data removed]",
      "text/plain": [
       "<Figure size 1500x1000 with 1 Axes>"
      ]
     },
     "metadata": {},
     "output_type": "display_data"
    }
   ],
   "source": [
    "import matplotlib.pyplot as plt\n",
    "import numpy as np\n",
    "\n",
    "# Data\n",
    "data = {\n",
    "    \"Topic 0 (General Opinions about Cars and Looks)\": {\n",
    "        'Not expecting good, Not impressed': 9,\n",
    "        'Expecting good, Not happy': 3,\n",
    "        'Expecting not good, Pleasantly surprised': 3,\n",
    "        'Expecting great, Satisfied': 3\n",
    "    },\n",
    "    \"Topic 1 (Maserati and Dealer Experiences)\": {\n",
    "        'Expecting good, Not happy': 4,\n",
    "        'Expecting not good, Pleasantly surprised': 5,\n",
    "        'Not expecting good, Not impressed': 14\n",
    "    },\n",
    "    \"Topic 2 (General Opinions and Comparisons)\": {\n",
    "        'Expecting good, Not happy': 2,\n",
    "        'Expecting not good, Pleasantly surprised': 3,\n",
    "        'Not expecting good, Not impressed': 18,\n",
    "        'Expecting great, Satisfied': 1\n",
    "    },\n",
    "    \"Topic 3 (Specifics about Grecale and Dealer Experiences)\": {\n",
    "        'Expecting good, Not happy': 2,\n",
    "        'Expecting not good, Pleasantly surprised': 2,\n",
    "        'Not expecting good, Not impressed': 9,\n",
    "        'Expecting great, Satisfied': 1\n",
    "    },\n",
    "    \"Topic 4 (Engine and Technical Aspects)\": {\n",
    "        'Expecting good, Not happy': 4,\n",
    "        'Expecting not good, Pleasantly surprised': 5,\n",
    "        'Not expecting good, Not impressed': 11,\n",
    "        'Expecting great, Satisfied': 2\n",
    "    }\n",
    "}\n",
    "\n",
    "# Create a bar chart for each topic's sentiment categories\n",
    "fig, ax = plt.subplots(figsize=(15,10))\n",
    "bar_width = 0.15\n",
    "index = np.arange(len(data[\"Topic 0 (General Opinions about Cars and Looks)\"]))\n",
    "\n",
    "colors = ['red', 'green', 'blue', 'cyan', 'magenta']\n",
    "for idx, (topic, sentiments) in enumerate(data.items()):\n",
    "    values = [sentiments.get(sentiment, 0) for sentiment in data[\"Topic 0 (General Opinions about Cars and Looks)\"]]\n",
    "    ax.bar(index + idx*bar_width, values, bar_width, label=topic, color=colors[idx])\n",
    "\n",
    "ax.set_xlabel('Sentiment Categories')\n",
    "ax.set_ylabel('Counts')\n",
    "ax.set_title('Counts of Sentiment Categories by Topic')\n",
    "ax.set_xticks(index + 2*bar_width)\n",
    "ax.set_xticklabels(data[\"Topic 0 (General Opinions about Cars and Looks)\"].keys(), rotation=45)\n",
    "ax.legend()\n",
    "\n",
    "plt.tight_layout()\n",
    "plt.show()\n"
   ]
  },
  {
   "cell_type": "code",
   "execution_count": 31,
   "metadata": {
    "colab": {
     "base_uri": "https://localhost:8080/",
     "height": 417
    },
    "id": "pDCKGa6t-z0L",
    "outputId": "128e2973-6528-4aec-c71b-57ba7e8ca919"
   },
   "outputs": [
    {
     "data": {
      "text/html": [
       "<html>\n",
       "<head><meta charset=\"utf-8\" /></head>\n",
       "<body>\n",
       "    <div>            <script src=\"https://cdnjs.cloudflare.com/ajax/libs/mathjax/2.7.5/MathJax.js?config=TeX-AMS-MML_SVG\"></script><script type=\"text/javascript\">if (window.MathJax && window.MathJax.Hub && window.MathJax.Hub.Config) {window.MathJax.Hub.Config({SVG: {font: \"STIX-Web\"}});}</script>                <script type=\"text/javascript\">window.PlotlyConfig = {MathJaxConfig: 'local'};</script>\n",
       "        <script charset=\"utf-8\" src=\"https://cdn.plot.ly/plotly-2.24.1.min.js\"></script>                <div id=\"fe54de70-f526-4896-827f-706c70a2ff90\" class=\"plotly-graph-div\" style=\"height:400px; width:800px;\"></div>            <script type=\"text/javascript\">                                    window.PLOTLYENV=window.PLOTLYENV || {};                                    if (document.getElementById(\"fe54de70-f526-4896-827f-706c70a2ff90\")) {                    Plotly.newPlot(                        \"fe54de70-f526-4896-827f-706c70a2ff90\",                        [{\"alignmentgroup\":\"True\",\"hovertemplate\":\"Sentiment=Expecting great, Satisfied\\u003cbr\\u003eindex=%{x}\\u003cbr\\u003eNumber of Responses=%{y}\\u003cextra\\u003e\\u003c\\u002fextra\\u003e\",\"legendgroup\":\"Expecting great, Satisfied\",\"marker\":{\"color\":\"#636efa\",\"pattern\":{\"shape\":\"\"}},\"name\":\"Expecting great, Satisfied\",\"offsetgroup\":\"Expecting great, Satisfied\",\"orientation\":\"v\",\"showlegend\":true,\"textposition\":\"auto\",\"x\":[\"General Opinion about looks\",\"Dealership Experience\",\"Comparison among competitors\",\"Comaprison with stelvio\",\"Engine & Technical Aspects\"],\"xaxis\":\"x\",\"y\":[3,0,1,1,2],\"yaxis\":\"y\",\"type\":\"bar\"},{\"alignmentgroup\":\"True\",\"hovertemplate\":\"Sentiment=Expecting good, Not happy\\u003cbr\\u003eindex=%{x}\\u003cbr\\u003eNumber of Responses=%{y}\\u003cextra\\u003e\\u003c\\u002fextra\\u003e\",\"legendgroup\":\"Expecting good, Not happy\",\"marker\":{\"color\":\"#EF553B\",\"pattern\":{\"shape\":\"\"}},\"name\":\"Expecting good, Not happy\",\"offsetgroup\":\"Expecting good, Not happy\",\"orientation\":\"v\",\"showlegend\":true,\"textposition\":\"auto\",\"x\":[\"General Opinion about looks\",\"Dealership Experience\",\"Comparison among competitors\",\"Comaprison with stelvio\",\"Engine & Technical Aspects\"],\"xaxis\":\"x\",\"y\":[3,4,2,2,4],\"yaxis\":\"y\",\"type\":\"bar\"},{\"alignmentgroup\":\"True\",\"hovertemplate\":\"Sentiment=Not expecting good, Not impressed\\u003cbr\\u003eindex=%{x}\\u003cbr\\u003eNumber of Responses=%{y}\\u003cextra\\u003e\\u003c\\u002fextra\\u003e\",\"legendgroup\":\"Not expecting good, Not impressed\",\"marker\":{\"color\":\"#00cc96\",\"pattern\":{\"shape\":\"\"}},\"name\":\"Not expecting good, Not impressed\",\"offsetgroup\":\"Not expecting good, Not impressed\",\"orientation\":\"v\",\"showlegend\":true,\"textposition\":\"auto\",\"x\":[\"General Opinion about looks\",\"Dealership Experience\",\"Comparison among competitors\",\"Comaprison with stelvio\",\"Engine & Technical Aspects\"],\"xaxis\":\"x\",\"y\":[9,14,18,9,11],\"yaxis\":\"y\",\"type\":\"bar\"},{\"alignmentgroup\":\"True\",\"hovertemplate\":\"Sentiment=Expecting not good, Pleasantly surprised\\u003cbr\\u003eindex=%{x}\\u003cbr\\u003eNumber of Responses=%{y}\\u003cextra\\u003e\\u003c\\u002fextra\\u003e\",\"legendgroup\":\"Expecting not good, Pleasantly surprised\",\"marker\":{\"color\":\"#ab63fa\",\"pattern\":{\"shape\":\"\"}},\"name\":\"Expecting not good, Pleasantly surprised\",\"offsetgroup\":\"Expecting not good, Pleasantly surprised\",\"orientation\":\"v\",\"showlegend\":true,\"textposition\":\"auto\",\"x\":[\"General Opinion about looks\",\"Dealership Experience\",\"Comparison among competitors\",\"Comaprison with stelvio\",\"Engine & Technical Aspects\"],\"xaxis\":\"x\",\"y\":[3,5,3,2,5],\"yaxis\":\"y\",\"type\":\"bar\"}],                        {\"template\":{\"data\":{\"histogram2dcontour\":[{\"type\":\"histogram2dcontour\",\"colorbar\":{\"outlinewidth\":0,\"ticks\":\"\"},\"colorscale\":[[0.0,\"#0d0887\"],[0.1111111111111111,\"#46039f\"],[0.2222222222222222,\"#7201a8\"],[0.3333333333333333,\"#9c179e\"],[0.4444444444444444,\"#bd3786\"],[0.5555555555555556,\"#d8576b\"],[0.6666666666666666,\"#ed7953\"],[0.7777777777777778,\"#fb9f3a\"],[0.8888888888888888,\"#fdca26\"],[1.0,\"#f0f921\"]]}],\"choropleth\":[{\"type\":\"choropleth\",\"colorbar\":{\"outlinewidth\":0,\"ticks\":\"\"}}],\"histogram2d\":[{\"type\":\"histogram2d\",\"colorbar\":{\"outlinewidth\":0,\"ticks\":\"\"},\"colorscale\":[[0.0,\"#0d0887\"],[0.1111111111111111,\"#46039f\"],[0.2222222222222222,\"#7201a8\"],[0.3333333333333333,\"#9c179e\"],[0.4444444444444444,\"#bd3786\"],[0.5555555555555556,\"#d8576b\"],[0.6666666666666666,\"#ed7953\"],[0.7777777777777778,\"#fb9f3a\"],[0.8888888888888888,\"#fdca26\"],[1.0,\"#f0f921\"]]}],\"heatmap\":[{\"type\":\"heatmap\",\"colorbar\":{\"outlinewidth\":0,\"ticks\":\"\"},\"colorscale\":[[0.0,\"#0d0887\"],[0.1111111111111111,\"#46039f\"],[0.2222222222222222,\"#7201a8\"],[0.3333333333333333,\"#9c179e\"],[0.4444444444444444,\"#bd3786\"],[0.5555555555555556,\"#d8576b\"],[0.6666666666666666,\"#ed7953\"],[0.7777777777777778,\"#fb9f3a\"],[0.8888888888888888,\"#fdca26\"],[1.0,\"#f0f921\"]]}],\"heatmapgl\":[{\"type\":\"heatmapgl\",\"colorbar\":{\"outlinewidth\":0,\"ticks\":\"\"},\"colorscale\":[[0.0,\"#0d0887\"],[0.1111111111111111,\"#46039f\"],[0.2222222222222222,\"#7201a8\"],[0.3333333333333333,\"#9c179e\"],[0.4444444444444444,\"#bd3786\"],[0.5555555555555556,\"#d8576b\"],[0.6666666666666666,\"#ed7953\"],[0.7777777777777778,\"#fb9f3a\"],[0.8888888888888888,\"#fdca26\"],[1.0,\"#f0f921\"]]}],\"contourcarpet\":[{\"type\":\"contourcarpet\",\"colorbar\":{\"outlinewidth\":0,\"ticks\":\"\"}}],\"contour\":[{\"type\":\"contour\",\"colorbar\":{\"outlinewidth\":0,\"ticks\":\"\"},\"colorscale\":[[0.0,\"#0d0887\"],[0.1111111111111111,\"#46039f\"],[0.2222222222222222,\"#7201a8\"],[0.3333333333333333,\"#9c179e\"],[0.4444444444444444,\"#bd3786\"],[0.5555555555555556,\"#d8576b\"],[0.6666666666666666,\"#ed7953\"],[0.7777777777777778,\"#fb9f3a\"],[0.8888888888888888,\"#fdca26\"],[1.0,\"#f0f921\"]]}],\"surface\":[{\"type\":\"surface\",\"colorbar\":{\"outlinewidth\":0,\"ticks\":\"\"},\"colorscale\":[[0.0,\"#0d0887\"],[0.1111111111111111,\"#46039f\"],[0.2222222222222222,\"#7201a8\"],[0.3333333333333333,\"#9c179e\"],[0.4444444444444444,\"#bd3786\"],[0.5555555555555556,\"#d8576b\"],[0.6666666666666666,\"#ed7953\"],[0.7777777777777778,\"#fb9f3a\"],[0.8888888888888888,\"#fdca26\"],[1.0,\"#f0f921\"]]}],\"mesh3d\":[{\"type\":\"mesh3d\",\"colorbar\":{\"outlinewidth\":0,\"ticks\":\"\"}}],\"scatter\":[{\"fillpattern\":{\"fillmode\":\"overlay\",\"size\":10,\"solidity\":0.2},\"type\":\"scatter\"}],\"parcoords\":[{\"type\":\"parcoords\",\"line\":{\"colorbar\":{\"outlinewidth\":0,\"ticks\":\"\"}}}],\"scatterpolargl\":[{\"type\":\"scatterpolargl\",\"marker\":{\"colorbar\":{\"outlinewidth\":0,\"ticks\":\"\"}}}],\"bar\":[{\"error_x\":{\"color\":\"#2a3f5f\"},\"error_y\":{\"color\":\"#2a3f5f\"},\"marker\":{\"line\":{\"color\":\"#E5ECF6\",\"width\":0.5},\"pattern\":{\"fillmode\":\"overlay\",\"size\":10,\"solidity\":0.2}},\"type\":\"bar\"}],\"scattergeo\":[{\"type\":\"scattergeo\",\"marker\":{\"colorbar\":{\"outlinewidth\":0,\"ticks\":\"\"}}}],\"scatterpolar\":[{\"type\":\"scatterpolar\",\"marker\":{\"colorbar\":{\"outlinewidth\":0,\"ticks\":\"\"}}}],\"histogram\":[{\"marker\":{\"pattern\":{\"fillmode\":\"overlay\",\"size\":10,\"solidity\":0.2}},\"type\":\"histogram\"}],\"scattergl\":[{\"type\":\"scattergl\",\"marker\":{\"colorbar\":{\"outlinewidth\":0,\"ticks\":\"\"}}}],\"scatter3d\":[{\"type\":\"scatter3d\",\"line\":{\"colorbar\":{\"outlinewidth\":0,\"ticks\":\"\"}},\"marker\":{\"colorbar\":{\"outlinewidth\":0,\"ticks\":\"\"}}}],\"scattermapbox\":[{\"type\":\"scattermapbox\",\"marker\":{\"colorbar\":{\"outlinewidth\":0,\"ticks\":\"\"}}}],\"scatterternary\":[{\"type\":\"scatterternary\",\"marker\":{\"colorbar\":{\"outlinewidth\":0,\"ticks\":\"\"}}}],\"scattercarpet\":[{\"type\":\"scattercarpet\",\"marker\":{\"colorbar\":{\"outlinewidth\":0,\"ticks\":\"\"}}}],\"carpet\":[{\"aaxis\":{\"endlinecolor\":\"#2a3f5f\",\"gridcolor\":\"white\",\"linecolor\":\"white\",\"minorgridcolor\":\"white\",\"startlinecolor\":\"#2a3f5f\"},\"baxis\":{\"endlinecolor\":\"#2a3f5f\",\"gridcolor\":\"white\",\"linecolor\":\"white\",\"minorgridcolor\":\"white\",\"startlinecolor\":\"#2a3f5f\"},\"type\":\"carpet\"}],\"table\":[{\"cells\":{\"fill\":{\"color\":\"#EBF0F8\"},\"line\":{\"color\":\"white\"}},\"header\":{\"fill\":{\"color\":\"#C8D4E3\"},\"line\":{\"color\":\"white\"}},\"type\":\"table\"}],\"barpolar\":[{\"marker\":{\"line\":{\"color\":\"#E5ECF6\",\"width\":0.5},\"pattern\":{\"fillmode\":\"overlay\",\"size\":10,\"solidity\":0.2}},\"type\":\"barpolar\"}],\"pie\":[{\"automargin\":true,\"type\":\"pie\"}]},\"layout\":{\"autotypenumbers\":\"strict\",\"colorway\":[\"#636efa\",\"#EF553B\",\"#00cc96\",\"#ab63fa\",\"#FFA15A\",\"#19d3f3\",\"#FF6692\",\"#B6E880\",\"#FF97FF\",\"#FECB52\"],\"font\":{\"color\":\"#2a3f5f\"},\"hovermode\":\"closest\",\"hoverlabel\":{\"align\":\"left\"},\"paper_bgcolor\":\"white\",\"plot_bgcolor\":\"#E5ECF6\",\"polar\":{\"bgcolor\":\"#E5ECF6\",\"angularaxis\":{\"gridcolor\":\"white\",\"linecolor\":\"white\",\"ticks\":\"\"},\"radialaxis\":{\"gridcolor\":\"white\",\"linecolor\":\"white\",\"ticks\":\"\"}},\"ternary\":{\"bgcolor\":\"#E5ECF6\",\"aaxis\":{\"gridcolor\":\"white\",\"linecolor\":\"white\",\"ticks\":\"\"},\"baxis\":{\"gridcolor\":\"white\",\"linecolor\":\"white\",\"ticks\":\"\"},\"caxis\":{\"gridcolor\":\"white\",\"linecolor\":\"white\",\"ticks\":\"\"}},\"coloraxis\":{\"colorbar\":{\"outlinewidth\":0,\"ticks\":\"\"}},\"colorscale\":{\"sequential\":[[0.0,\"#0d0887\"],[0.1111111111111111,\"#46039f\"],[0.2222222222222222,\"#7201a8\"],[0.3333333333333333,\"#9c179e\"],[0.4444444444444444,\"#bd3786\"],[0.5555555555555556,\"#d8576b\"],[0.6666666666666666,\"#ed7953\"],[0.7777777777777778,\"#fb9f3a\"],[0.8888888888888888,\"#fdca26\"],[1.0,\"#f0f921\"]],\"sequentialminus\":[[0.0,\"#0d0887\"],[0.1111111111111111,\"#46039f\"],[0.2222222222222222,\"#7201a8\"],[0.3333333333333333,\"#9c179e\"],[0.4444444444444444,\"#bd3786\"],[0.5555555555555556,\"#d8576b\"],[0.6666666666666666,\"#ed7953\"],[0.7777777777777778,\"#fb9f3a\"],[0.8888888888888888,\"#fdca26\"],[1.0,\"#f0f921\"]],\"diverging\":[[0,\"#8e0152\"],[0.1,\"#c51b7d\"],[0.2,\"#de77ae\"],[0.3,\"#f1b6da\"],[0.4,\"#fde0ef\"],[0.5,\"#f7f7f7\"],[0.6,\"#e6f5d0\"],[0.7,\"#b8e186\"],[0.8,\"#7fbc41\"],[0.9,\"#4d9221\"],[1,\"#276419\"]]},\"xaxis\":{\"gridcolor\":\"white\",\"linecolor\":\"white\",\"ticks\":\"\",\"title\":{\"standoff\":15},\"zerolinecolor\":\"white\",\"automargin\":true,\"zerolinewidth\":2},\"yaxis\":{\"gridcolor\":\"white\",\"linecolor\":\"white\",\"ticks\":\"\",\"title\":{\"standoff\":15},\"zerolinecolor\":\"white\",\"automargin\":true,\"zerolinewidth\":2},\"scene\":{\"xaxis\":{\"backgroundcolor\":\"#E5ECF6\",\"gridcolor\":\"white\",\"linecolor\":\"white\",\"showbackground\":true,\"ticks\":\"\",\"zerolinecolor\":\"white\",\"gridwidth\":2},\"yaxis\":{\"backgroundcolor\":\"#E5ECF6\",\"gridcolor\":\"white\",\"linecolor\":\"white\",\"showbackground\":true,\"ticks\":\"\",\"zerolinecolor\":\"white\",\"gridwidth\":2},\"zaxis\":{\"backgroundcolor\":\"#E5ECF6\",\"gridcolor\":\"white\",\"linecolor\":\"white\",\"showbackground\":true,\"ticks\":\"\",\"zerolinecolor\":\"white\",\"gridwidth\":2}},\"shapedefaults\":{\"line\":{\"color\":\"#2a3f5f\"}},\"annotationdefaults\":{\"arrowcolor\":\"#2a3f5f\",\"arrowhead\":0,\"arrowwidth\":1},\"geo\":{\"bgcolor\":\"white\",\"landcolor\":\"#E5ECF6\",\"subunitcolor\":\"white\",\"showland\":true,\"showlakes\":true,\"lakecolor\":\"white\"},\"title\":{\"x\":0.05},\"mapbox\":{\"style\":\"light\"}}},\"xaxis\":{\"anchor\":\"y\",\"domain\":[0.0,1.0],\"title\":{\"text\":\"Topic\"}},\"yaxis\":{\"anchor\":\"x\",\"domain\":[0.0,1.0],\"title\":{\"text\":\"Number of Responses\"}},\"legend\":{\"title\":{\"text\":\"Sentiment\"},\"tracegroupgap\":0},\"title\":{\"text\":\"Sentiment shift among people from pre to post launch\"},\"barmode\":\"stack\",\"height\":400,\"width\":800},                        {\"responsive\": true}                    ).then(function(){\n",
       "                            \n",
       "var gd = document.getElementById('fe54de70-f526-4896-827f-706c70a2ff90');\n",
       "var x = new MutationObserver(function (mutations, observer) {{\n",
       "        var display = window.getComputedStyle(gd).display;\n",
       "        if (!display || display === 'none') {{\n",
       "            console.log([gd, 'removed!']);\n",
       "            Plotly.purge(gd);\n",
       "            observer.disconnect();\n",
       "        }}\n",
       "}});\n",
       "\n",
       "// Listen for the removal of the full notebook cells\n",
       "var notebookContainer = gd.closest('#notebook-container');\n",
       "if (notebookContainer) {{\n",
       "    x.observe(notebookContainer, {childList: true});\n",
       "}}\n",
       "\n",
       "// Listen for the clearing of the current output cell\n",
       "var outputEl = gd.closest('.output');\n",
       "if (outputEl) {{\n",
       "    x.observe(outputEl, {childList: true});\n",
       "}}\n",
       "\n",
       "                        })                };                            </script>        </div>\n",
       "</body>\n",
       "</html>"
      ]
     },
     "metadata": {},
     "output_type": "display_data"
    }
   ],
   "source": [
    "import plotly.express as px\n",
    "# Define the data_pre_launch dictionary again\n",
    "data_pre_launch = {\n",
    "    \"General Opinion about looks\": {\n",
    "        \"Expecting great, Satisfied\": 3,\n",
    "        \"Expecting good, Not happy\": 3,\n",
    "        \"Not expecting good, Not impressed\": 9,\n",
    "        \"Expecting not good, Pleasantly surprised\": 3\n",
    "    },\n",
    "    \"Dealership Experience\": {\n",
    "        \"Expecting great, Satisfied\": 0,\n",
    "        \"Expecting good, Not happy\": 4,\n",
    "        \"Not expecting good, Not impressed\": 14,\n",
    "        \"Expecting not good, Pleasantly surprised\": 5\n",
    "    },\n",
    "    \"Comparison among competitors\": {\n",
    "        \"Expecting great, Satisfied\": 1,\n",
    "        \"Expecting good, Not happy\": 2,\n",
    "        \"Not expecting good, Not impressed\": 18,\n",
    "        \"Expecting not good, Pleasantly surprised\": 3\n",
    "    },\n",
    "    \"Comaprison with stelvio\": {\n",
    "        \"Expecting great, Satisfied\": 1,\n",
    "        \"Expecting good, Not happy\": 2,\n",
    "        \"Not expecting good, Not impressed\": 9,\n",
    "        \"Expecting not good, Pleasantly surprised\": 2\n",
    "    },\n",
    "    \"Engine & Technical Aspects\": {\n",
    "        \"Expecting great, Satisfied\": 2,\n",
    "        \"Expecting good, Not happy\": 4,\n",
    "        \"Not expecting good, Not impressed\": 11,\n",
    "        \"Expecting not good, Pleasantly surprised\": 5\n",
    "    }\n",
    "}\n",
    "\n",
    "# Create a DataFrame from the data_pre_launch dictionary\n",
    "df = pd.DataFrame(data_pre_launch).T\n",
    "\n",
    "# Create a stacked bar chart\n",
    "fig = px.bar(df,\n",
    "             title=\"Sentiment shift among people from pre to post launch\",\n",
    "             labels={'value': 'Number of Responses', 'variable': 'Sentiment'},\n",
    "             height=400,\n",
    "             width=800)\n",
    "\n",
    "fig.update_layout(barmode='stack', xaxis_title=\"Topic\", yaxis_title=\"Number of Responses\")\n",
    "fig.show()\n"
   ]
  },
  {
   "cell_type": "code",
   "execution_count": 32,
   "metadata": {
    "colab": {
     "base_uri": "https://localhost:8080/"
    },
    "id": "heVjbslpPL7S",
    "outputId": "6d2a643c-91ca-401f-8a8d-832c48387bfc"
   },
   "outputs": [
    {
     "data": {
      "text/plain": [
       "(25, 76)"
      ]
     },
     "execution_count": 32,
     "metadata": {},
     "output_type": "execute_result"
    }
   ],
   "source": [
    "# Given data\n",
    "data = {\n",
    "    \"General Opinion about looks\": {\n",
    "        \"Expecting great, Satisfied\": 3,\n",
    "        \"Expecting good, Not happy\": 3,\n",
    "        \"Not expecting good, Not impressed\": 9,\n",
    "        \"Expecting not good, Pleasantly surprised\": 3\n",
    "    },\n",
    "    \"Dealership Experience\": {\n",
    "        \"Expecting great, Satisfied\": 0,\n",
    "        \"Expecting good, Not happy\": 4,\n",
    "        \"Not expecting good, Not impressed\": 14,\n",
    "        \"Expecting not good, Pleasantly surprised\": 5\n",
    "    },\n",
    "    \"Comparison among competitors\": {\n",
    "        \"Expecting great, Satisfied\": 1,\n",
    "        \"Expecting good, Not happy\": 2,\n",
    "        \"Not expecting good, Not impressed\": 18,\n",
    "        \"Expecting not good, Pleasantly surprised\": 3\n",
    "    },\n",
    "    \"Comparison with stelvio\": {\n",
    "        \"Expecting great, Satisfied\": 1,\n",
    "        \"Expecting good, Not happy\": 2,\n",
    "        \"Not expecting good, Not impressed\": 9,\n",
    "        \"Expecting not good, Pleasantly surprised\": 2\n",
    "    },\n",
    "    \"Engine & Technical Aspects\": {\n",
    "        \"Expecting great, Satisfied\": 2,\n",
    "        \"Expecting good, Not happy\": 4,\n",
    "        \"Not expecting good, Not impressed\": 11,\n",
    "        \"Expecting not good, Pleasantly surprised\": 5\n",
    "    }\n",
    "}\n",
    "\n",
    "# Combining counts for \"Audience Retained\" and \"Audience Loss\" categories\n",
    "audience_retained_count = 0\n",
    "audience_loss_count = 0\n",
    "\n",
    "# Sentiments to be combined for each category\n",
    "audience_retained_sentiments = [\"Expecting great, Satisfied\", \"Expecting not good, Pleasantly surprised\"]\n",
    "audience_loss_sentiments = [\"Expecting good, Not happy\", \"Not expecting good, Not impressed\"]\n",
    "\n",
    "for topic, sentiments in data.items():\n",
    "    for sentiment, count in sentiments.items():\n",
    "        if sentiment in audience_retained_sentiments:\n",
    "            audience_retained_count += count\n",
    "        elif sentiment in audience_loss_sentiments:\n",
    "            audience_loss_count += count\n",
    "\n",
    "audience_retained_count, audience_loss_count\n"
   ]
  },
  {
   "cell_type": "code",
   "execution_count": 34,
   "metadata": {
    "colab": {
     "base_uri": "https://localhost:8080/",
     "height": 607
    },
    "id": "_GZNzwGEUrJr",
    "outputId": "8bbfee43-4921-4161-9c94-a9d3b75eff33"
   },
   "outputs": [
    {
     "data": {
      "image/png": "[encoded data removed]",
      "text/plain": [
       "<Figure size 1000x600 with 1 Axes>"
      ]
     },
     "metadata": {},
     "output_type": "display_data"
    }
   ],
   "source": [
    "# Creating the bar plot with annotated counts\n",
    "plt.figure(figsize=(10, 6))\n",
    "bars = plt.bar(categories, values, color=['green', 'red'])\n",
    "\n",
    "# Annotating each bar with its respective count\n",
    "for bar in bars:\n",
    "    yval = bar.get_height()\n",
    "    plt.text(bar.get_x() + bar.get_width()/2, yval + 1, yval, ha='center', va='bottom')\n",
    "\n",
    "plt.xlabel('Categories')\n",
    "plt.ylabel('Count')\n",
    "plt.title('Audience Retention vs Loss')\n",
    "plt.grid(axis='y')\n",
    "\n",
    "# Display the plot\n",
    "plt.tight_layout()\n",
    "plt.show()\n"
   ]
  },
  {
   "cell_type": "code",
   "execution_count": null,
   "metadata": {
    "id": "YtQvH2RJU2fH"
   },
   "outputs": [],
   "source": []
  }
 ],
 "metadata": {
  "colab": {
   "provenance": []
  },
  "kernelspec": {
   "display_name": "Python 3 (ipykernel)",
   "language": "python",
   "name": "python3"
  },
  "language_info": {
   "codemirror_mode": {
    "name": "ipython",
    "version": 3
   },
   "file_extension": ".py",
   "mimetype": "text/x-python",
   "name": "python",
   "nbconvert_exporter": "python",
   "pygments_lexer": "ipython3",
   "version": "3.9.12"
  },
  "toc": {
   "base_numbering": 1,
   "nav_menu": {},
   "number_sections": true,
   "sideBar": true,
   "skip_h1_title": false,
   "title_cell": "Table of Contents",
   "title_sidebar": "Contents",
   "toc_cell": false,
   "toc_position": {},
   "toc_section_display": true,
   "toc_window_display": false
  },
  "varInspector": {
   "cols": {
    "lenName": 16,
    "lenType": 16,
    "lenVar": 40
   },
   "kernels_config": {
    "python": {
     "delete_cmd_postfix": "",
     "delete_cmd_prefix": "del ",
     "library": "var_list.py",
     "varRefreshCmd": "print(var_dic_list())"
    },
    "r": {
     "delete_cmd_postfix": ") ",
     "delete_cmd_prefix": "rm(",
     "library": "var_list.r",
     "varRefreshCmd": "cat(var_dic_list()) "
    }
   },
   "types_to_exclude": [
    "module",
    "function",
    "builtin_function_or_method",
    "instance",
    "_Feature"
   ],
   "window_display": false
  },
  "widgets": {
   "application/vnd.jupyter.widget-state+json": {
    "069d6e76c6714165b6ca8b99242b8e04": {
     "model_module": "@jupyter-widgets/controls",
     "model_module_version": "1.5.0",
     "model_name": "HBoxModel",
     "state": {
      "_dom_classes": [],
      "_model_module": "@jupyter-widgets/controls",
      "_model_module_version": "1.5.0",
      "_model_name": "HBoxModel",
      "_view_count": null,
      "_view_module": "@jupyter-widgets/controls",
      "_view_module_version": "1.5.0",
      "_view_name": "HBoxView",
      "box_style": "",
      "children": [
       "IPY_MODEL_57e73ef0d02d4b589d5e4917e9e3f4a3",
       "IPY_MODEL_790f17b65ea74b81b9ac459e110a1fb8",
       "IPY_MODEL_a12ed92860244637a81d710efabdfd43"
      ],
      "layout": "IPY_MODEL_6bff49a06fdf474da0812e9e50358704"
     }
    },
    "119800472b9d4349b46cffb80cb93f17": {
     "model_module": "@jupyter-widgets/base",
     "model_module_version": "1.2.0",
     "model_name": "LayoutModel",
     "state": {
      "_model_module": "@jupyter-widgets/base",
      "_model_module_version": "1.2.0",
      "_model_name": "LayoutModel",
      "_view_count": null,
      "_view_module": "@jupyter-widgets/base",
      "_view_module_version": "1.2.0",
      "_view_name": "LayoutView",
      "align_content": null,
      "align_items": null,
      "align_self": null,
      "border": null,
      "bottom": null,
      "display": null,
      "flex": null,
      "flex_flow": null,
      "grid_area": null,
      "grid_auto_columns": null,
      "grid_auto_flow": null,
      "grid_auto_rows": null,
      "grid_column": null,
      "grid_gap": null,
      "grid_row": null,
      "grid_template_areas": null,
      "grid_template_columns": null,
      "grid_template_rows": null,
      "height": null,
      "justify_content": null,
      "justify_items": null,
      "left": null,
      "margin": null,
      "max_height": null,
      "max_width": null,
      "min_height": null,
      "min_width": null,
      "object_fit": null,
      "object_position": null,
      "order": null,
      "overflow": null,
      "overflow_x": null,
      "overflow_y": null,
      "padding": null,
      "right": null,
      "top": null,
      "visibility": null,
      "width": null
     }
    },
    "19b2e08b4e584c53b9cea4ab94e0dc8e": {
     "model_module": "@jupyter-widgets/base",
     "model_module_version": "1.2.0",
     "model_name": "LayoutModel",
     "state": {
      "_model_module": "@jupyter-widgets/base",
      "_model_module_version": "1.2.0",
      "_model_name": "LayoutModel",
      "_view_count": null,
      "_view_module": "@jupyter-widgets/base",
      "_view_module_version": "1.2.0",
      "_view_name": "LayoutView",
      "align_content": null,
      "align_items": null,
      "align_self": null,
      "border": null,
      "bottom": null,
      "display": null,
      "flex": null,
      "flex_flow": null,
      "grid_area": null,
      "grid_auto_columns": null,
      "grid_auto_flow": null,
      "grid_auto_rows": null,
      "grid_column": null,
      "grid_gap": null,
      "grid_row": null,
      "grid_template_areas": null,
      "grid_template_columns": null,
      "grid_template_rows": null,
      "height": null,
      "justify_content": null,
      "justify_items": null,
      "left": null,
      "margin": null,
      "max_height": null,
      "max_width": null,
      "min_height": null,
      "min_width": null,
      "object_fit": null,
      "object_position": null,
      "order": null,
      "overflow": null,
      "overflow_x": null,
      "overflow_y": null,
      "padding": null,
      "right": null,
      "top": null,
      "visibility": null,
      "width": null
     }
    },
    "1b1ce6360335478b906b8ebd83611ba8": {
     "model_module": "@jupyter-widgets/base",
     "model_module_version": "1.2.0",
     "model_name": "LayoutModel",
     "state": {
      "_model_module": "@jupyter-widgets/base",
      "_model_module_version": "1.2.0",
      "_model_name": "LayoutModel",
      "_view_count": null,
      "_view_module": "@jupyter-widgets/base",
      "_view_module_version": "1.2.0",
      "_view_name": "LayoutView",
      "align_content": null,
      "align_items": null,
      "align_self": null,
      "border": null,
      "bottom": null,
      "display": null,
      "flex": null,
      "flex_flow": null,
      "grid_area": null,
      "grid_auto_columns": null,
      "grid_auto_flow": null,
      "grid_auto_rows": null,
      "grid_column": null,
      "grid_gap": null,
      "grid_row": null,
      "grid_template_areas": null,
      "grid_template_columns": null,
      "grid_template_rows": null,
      "height": null,
      "justify_content": null,
      "justify_items": null,
      "left": null,
      "margin": null,
      "max_height": null,
      "max_width": null,
      "min_height": null,
      "min_width": null,
      "object_fit": null,
      "object_position": null,
      "order": null,
      "overflow": null,
      "overflow_x": null,
      "overflow_y": null,
      "padding": null,
      "right": null,
      "top": null,
      "visibility": null,
      "width": null
     }
    },
    "21f3ee75a6de472b8aca8b9e5e795adb": {
     "model_module": "@jupyter-widgets/controls",
     "model_module_version": "1.5.0",
     "model_name": "HBoxModel",
     "state": {
      "_dom_classes": [],
      "_model_module": "@jupyter-widgets/controls",
      "_model_module_version": "1.5.0",
      "_model_name": "HBoxModel",
      "_view_count": null,
      "_view_module": "@jupyter-widgets/controls",
      "_view_module_version": "1.5.0",
      "_view_name": "HBoxView",
      "box_style": "",
      "children": [
       "IPY_MODEL_d8e32fefd3b940018a20e3b6ad4ac445",
       "IPY_MODEL_b79d6e96b7c8402b81ffddaa11e463bd",
       "IPY_MODEL_392ef27030bc44eca505bfaf87dabf96"
      ],
      "layout": "IPY_MODEL_95f356e976b3489ea9e5493c23fffd3c"
     }
    },
    "2645f22a61a74e7993223cc6480130d0": {
     "model_module": "@jupyter-widgets/controls",
     "model_module_version": "1.5.0",
     "model_name": "HTMLModel",
     "state": {
      "_dom_classes": [],
      "_model_module": "@jupyter-widgets/controls",
      "_model_module_version": "1.5.0",
      "_model_name": "HTMLModel",
      "_view_count": null,
      "_view_module": "@jupyter-widgets/controls",
      "_view_module_version": "1.5.0",
      "_view_name": "HTMLView",
      "description": "",
      "description_tooltip": null,
      "layout": "IPY_MODEL_a91575fbfb7446f8a8e01e962b94d396",
      "placeholder": "​",
      "style": "IPY_MODEL_a017356cdfb047b4ae25293534b5b871",
      "value": "Downloading pytorch_model.bin: 100%"
     }
    },
    "2e4e3047387d42cab4af72f4916af83d": {
     "model_module": "@jupyter-widgets/controls",
     "model_module_version": "1.5.0",
     "model_name": "ProgressStyleModel",
     "state": {
      "_model_module": "@jupyter-widgets/controls",
      "_model_module_version": "1.5.0",
      "_model_name": "ProgressStyleModel",
      "_view_count": null,
      "_view_module": "@jupyter-widgets/base",
      "_view_module_version": "1.2.0",
      "_view_name": "StyleView",
      "bar_color": null,
      "description_width": ""
     }
    },
    "2e91ada6c845475e9d30e6fbdef58106": {
     "model_module": "@jupyter-widgets/controls",
     "model_module_version": "1.5.0",
     "model_name": "HBoxModel",
     "state": {
      "_dom_classes": [],
      "_model_module": "@jupyter-widgets/controls",
      "_model_module_version": "1.5.0",
      "_model_name": "HBoxModel",
      "_view_count": null,
      "_view_module": "@jupyter-widgets/controls",
      "_view_module_version": "1.5.0",
      "_view_name": "HBoxView",
      "box_style": "",
      "children": [
       "IPY_MODEL_607a8e46cd6b46e3b5c0e24b360c314c",
       "IPY_MODEL_f48c5490aaf24c0a96461735fc0588e1",
       "IPY_MODEL_695301ff966c490790f658f378845acb"
      ],
      "layout": "IPY_MODEL_7f7d78511cfc4f868491664fa6604d50"
     }
    },
    "356af10791124cbaa11daae254ce69d1": {
     "model_module": "@jupyter-widgets/controls",
     "model_module_version": "1.5.0",
     "model_name": "DescriptionStyleModel",
     "state": {
      "_model_module": "@jupyter-widgets/controls",
      "_model_module_version": "1.5.0",
      "_model_name": "DescriptionStyleModel",
      "_view_count": null,
      "_view_module": "@jupyter-widgets/base",
      "_view_module_version": "1.2.0",
      "_view_name": "StyleView",
      "description_width": ""
     }
    },
    "392ef27030bc44eca505bfaf87dabf96": {
     "model_module": "@jupyter-widgets/controls",
     "model_module_version": "1.5.0",
     "model_name": "HTMLModel",
     "state": {
      "_dom_classes": [],
      "_model_module": "@jupyter-widgets/controls",
      "_model_module_version": "1.5.0",
      "_model_name": "HTMLModel",
      "_view_count": null,
      "_view_module": "@jupyter-widgets/controls",
      "_view_module_version": "1.5.0",
      "_view_name": "HTMLView",
      "description": "",
      "description_tooltip": null,
      "layout": "IPY_MODEL_7e8570130fd24812bf18f4f13e2922ae",
      "placeholder": "​",
      "style": "IPY_MODEL_673a1b78f877422a87826d7caa7dd918",
      "value": " 872k/872k [00:00&lt;00:00, 6.64MB/s]"
     }
    },
    "3eeb5613f8c24af9b6b1997133c9113f": {
     "model_module": "@jupyter-widgets/base",
     "model_module_version": "1.2.0",
     "model_name": "LayoutModel",
     "state": {
      "_model_module": "@jupyter-widgets/base",
      "_model_module_version": "1.2.0",
      "_model_name": "LayoutModel",
      "_view_count": null,
      "_view_module": "@jupyter-widgets/base",
      "_view_module_version": "1.2.0",
      "_view_name": "LayoutView",
      "align_content": null,
      "align_items": null,
      "align_self": null,
      "border": null,
      "bottom": null,
      "display": null,
      "flex": null,
      "flex_flow": null,
      "grid_area": null,
      "grid_auto_columns": null,
      "grid_auto_flow": null,
      "grid_auto_rows": null,
      "grid_column": null,
      "grid_gap": null,
      "grid_row": null,
      "grid_template_areas": null,
      "grid_template_columns": null,
      "grid_template_rows": null,
      "height": null,
      "justify_content": null,
      "justify_items": null,
      "left": null,
      "margin": null,
      "max_height": null,
      "max_width": null,
      "min_height": null,
      "min_width": null,
      "object_fit": null,
      "object_position": null,
      "order": null,
      "overflow": null,
      "overflow_x": null,
      "overflow_y": null,
      "padding": null,
      "right": null,
      "top": null,
      "visibility": null,
      "width": null
     }
    },
    "3fa6db19a7d44c7bb332c5157fb3afca": {
     "model_module": "@jupyter-widgets/base",
     "model_module_version": "1.2.0",
     "model_name": "LayoutModel",
     "state": {
      "_model_module": "@jupyter-widgets/base",
      "_model_module_version": "1.2.0",
      "_model_name": "LayoutModel",
      "_view_count": null,
      "_view_module": "@jupyter-widgets/base",
      "_view_module_version": "1.2.0",
      "_view_name": "LayoutView",
      "align_content": null,
      "align_items": null,
      "align_self": null,
      "border": null,
      "bottom": null,
      "display": null,
      "flex": null,
      "flex_flow": null,
      "grid_area": null,
      "grid_auto_columns": null,
      "grid_auto_flow": null,
      "grid_auto_rows": null,
      "grid_column": null,
      "grid_gap": null,
      "grid_row": null,
      "grid_template_areas": null,
      "grid_template_columns": null,
      "grid_template_rows": null,
      "height": null,
      "justify_content": null,
      "justify_items": null,
      "left": null,
      "margin": null,
      "max_height": null,
      "max_width": null,
      "min_height": null,
      "min_width": null,
      "object_fit": null,
      "object_position": null,
      "order": null,
      "overflow": null,
      "overflow_x": null,
      "overflow_y": null,
      "padding": null,
      "right": null,
      "top": null,
      "visibility": null,
      "width": null
     }
    },
    "49eb42ee25514d2faecf0d9f355097b0": {
     "model_module": "@jupyter-widgets/controls",
     "model_module_version": "1.5.0",
     "model_name": "HBoxModel",
     "state": {
      "_dom_classes": [],
      "_model_module": "@jupyter-widgets/controls",
      "_model_module_version": "1.5.0",
      "_model_name": "HBoxModel",
      "_view_count": null,
      "_view_module": "@jupyter-widgets/controls",
      "_view_module_version": "1.5.0",
      "_view_name": "HBoxView",
      "box_style": "",
      "children": [
       "IPY_MODEL_2645f22a61a74e7993223cc6480130d0",
       "IPY_MODEL_7f0899e1cceb4b8a9282471f6d31851d",
       "IPY_MODEL_63b7ec1f18764f66be839a50f3f195e4"
      ],
      "layout": "IPY_MODEL_823dd48a74fe4241853ec3080390eb22"
     }
    },
    "4afff8bef0f64bcbbd69271b5b7f2004": {
     "model_module": "@jupyter-widgets/controls",
     "model_module_version": "1.5.0",
     "model_name": "DescriptionStyleModel",
     "state": {
      "_model_module": "@jupyter-widgets/controls",
      "_model_module_version": "1.5.0",
      "_model_name": "DescriptionStyleModel",
      "_view_count": null,
      "_view_module": "@jupyter-widgets/base",
      "_view_module_version": "1.2.0",
      "_view_name": "StyleView",
      "description_width": ""
     }
    },
    "4efc3a6dd3014256a29cd1947ccd2d00": {
     "model_module": "@jupyter-widgets/base",
     "model_module_version": "1.2.0",
     "model_name": "LayoutModel",
     "state": {
      "_model_module": "@jupyter-widgets/base",
      "_model_module_version": "1.2.0",
      "_model_name": "LayoutModel",
      "_view_count": null,
      "_view_module": "@jupyter-widgets/base",
      "_view_module_version": "1.2.0",
      "_view_name": "LayoutView",
      "align_content": null,
      "align_items": null,
      "align_self": null,
      "border": null,
      "bottom": null,
      "display": null,
      "flex": null,
      "flex_flow": null,
      "grid_area": null,
      "grid_auto_columns": null,
      "grid_auto_flow": null,
      "grid_auto_rows": null,
      "grid_column": null,
      "grid_gap": null,
      "grid_row": null,
      "grid_template_areas": null,
      "grid_template_columns": null,
      "grid_template_rows": null,
      "height": null,
      "justify_content": null,
      "justify_items": null,
      "left": null,
      "margin": null,
      "max_height": null,
      "max_width": null,
      "min_height": null,
      "min_width": null,
      "object_fit": null,
      "object_position": null,
      "order": null,
      "overflow": null,
      "overflow_x": null,
      "overflow_y": null,
      "padding": null,
      "right": null,
      "top": null,
      "visibility": null,
      "width": null
     }
    },
    "57e73ef0d02d4b589d5e4917e9e3f4a3": {
     "model_module": "@jupyter-widgets/controls",
     "model_module_version": "1.5.0",
     "model_name": "HTMLModel",
     "state": {
      "_dom_classes": [],
      "_model_module": "@jupyter-widgets/controls",
      "_model_module_version": "1.5.0",
      "_model_name": "HTMLModel",
      "_view_count": null,
      "_view_module": "@jupyter-widgets/controls",
      "_view_module_version": "1.5.0",
      "_view_name": "HTMLView",
      "description": "",
      "description_tooltip": null,
      "layout": "IPY_MODEL_3eeb5613f8c24af9b6b1997133c9113f",
      "placeholder": "​",
      "style": "IPY_MODEL_825f2028276b42a5a07702466a132e64",
      "value": "Downloading (…)okenizer_config.json: 100%"
     }
    },
    "607a8e46cd6b46e3b5c0e24b360c314c": {
     "model_module": "@jupyter-widgets/controls",
     "model_module_version": "1.5.0",
     "model_name": "HTMLModel",
     "state": {
      "_dom_classes": [],
      "_model_module": "@jupyter-widgets/controls",
      "_model_module_version": "1.5.0",
      "_model_name": "HTMLModel",
      "_view_count": null,
      "_view_module": "@jupyter-widgets/controls",
      "_view_module_version": "1.5.0",
      "_view_name": "HTMLView",
      "description": "",
      "description_tooltip": null,
      "layout": "IPY_MODEL_b2a5a5ec743e4c2fa70eebb52aed3994",
      "placeholder": "​",
      "style": "IPY_MODEL_ccb8f73cb32940e493ab6c4d51102f88",
      "value": "Downloading (…)lve/main/config.json: 100%"
     }
    },
    "63b7ec1f18764f66be839a50f3f195e4": {
     "model_module": "@jupyter-widgets/controls",
     "model_module_version": "1.5.0",
     "model_name": "HTMLModel",
     "state": {
      "_dom_classes": [],
      "_model_module": "@jupyter-widgets/controls",
      "_model_module_version": "1.5.0",
      "_model_name": "HTMLModel",
      "_view_count": null,
      "_view_module": "@jupyter-widgets/controls",
      "_view_module_version": "1.5.0",
      "_view_name": "HTMLView",
      "description": "",
      "description_tooltip": null,
      "layout": "IPY_MODEL_d420f0c3cce44a24b803144032623a2b",
      "placeholder": "​",
      "style": "IPY_MODEL_356af10791124cbaa11daae254ce69d1",
      "value": " 669M/669M [00:06&lt;00:00, 109MB/s]"
     }
    },
    "673a1b78f877422a87826d7caa7dd918": {
     "model_module": "@jupyter-widgets/controls",
     "model_module_version": "1.5.0",
     "model_name": "DescriptionStyleModel",
     "state": {
      "_model_module": "@jupyter-widgets/controls",
      "_model_module_version": "1.5.0",
      "_model_name": "DescriptionStyleModel",
      "_view_count": null,
      "_view_module": "@jupyter-widgets/base",
      "_view_module_version": "1.2.0",
      "_view_name": "StyleView",
      "description_width": ""
     }
    },
    "695301ff966c490790f658f378845acb": {
     "model_module": "@jupyter-widgets/controls",
     "model_module_version": "1.5.0",
     "model_name": "HTMLModel",
     "state": {
      "_dom_classes": [],
      "_model_module": "@jupyter-widgets/controls",
      "_model_module_version": "1.5.0",
      "_model_name": "HTMLModel",
      "_view_count": null,
      "_view_module": "@jupyter-widgets/controls",
      "_view_module_version": "1.5.0",
      "_view_name": "HTMLView",
      "description": "",
      "description_tooltip": null,
      "layout": "IPY_MODEL_1b1ce6360335478b906b8ebd83611ba8",
      "placeholder": "​",
      "style": "IPY_MODEL_f2b4d1df99d841b2a44bea62f4a47bd8",
      "value": " 953/953 [00:00&lt;00:00, 19.7kB/s]"
     }
    },
    "6a08ef5145954b6bbf0d262ae8bd1692": {
     "model_module": "@jupyter-widgets/controls",
     "model_module_version": "1.5.0",
     "model_name": "DescriptionStyleModel",
     "state": {
      "_model_module": "@jupyter-widgets/controls",
      "_model_module_version": "1.5.0",
      "_model_name": "DescriptionStyleModel",
      "_view_count": null,
      "_view_module": "@jupyter-widgets/base",
      "_view_module_version": "1.2.0",
      "_view_name": "StyleView",
      "description_width": ""
     }
    },
    "6a14eb4c63074be2811895bf758cdb6a": {
     "model_module": "@jupyter-widgets/controls",
     "model_module_version": "1.5.0",
     "model_name": "ProgressStyleModel",
     "state": {
      "_model_module": "@jupyter-widgets/controls",
      "_model_module_version": "1.5.0",
      "_model_name": "ProgressStyleModel",
      "_view_count": null,
      "_view_module": "@jupyter-widgets/base",
      "_view_module_version": "1.2.0",
      "_view_name": "StyleView",
      "bar_color": null,
      "description_width": ""
     }
    },
    "6bff49a06fdf474da0812e9e50358704": {
     "model_module": "@jupyter-widgets/base",
     "model_module_version": "1.2.0",
     "model_name": "LayoutModel",
     "state": {
      "_model_module": "@jupyter-widgets/base",
      "_model_module_version": "1.2.0",
      "_model_name": "LayoutModel",
      "_view_count": null,
      "_view_module": "@jupyter-widgets/base",
      "_view_module_version": "1.2.0",
      "_view_name": "LayoutView",
      "align_content": null,
      "align_items": null,
      "align_self": null,
      "border": null,
      "bottom": null,
      "display": null,
      "flex": null,
      "flex_flow": null,
      "grid_area": null,
      "grid_auto_columns": null,
      "grid_auto_flow": null,
      "grid_auto_rows": null,
      "grid_column": null,
      "grid_gap": null,
      "grid_row": null,
      "grid_template_areas": null,
      "grid_template_columns": null,
      "grid_template_rows": null,
      "height": null,
      "justify_content": null,
      "justify_items": null,
      "left": null,
      "margin": null,
      "max_height": null,
      "max_width": null,
      "min_height": null,
      "min_width": null,
      "object_fit": null,
      "object_position": null,
      "order": null,
      "overflow": null,
      "overflow_x": null,
      "overflow_y": null,
      "padding": null,
      "right": null,
      "top": null,
      "visibility": null,
      "width": null
     }
    },
    "790f17b65ea74b81b9ac459e110a1fb8": {
     "model_module": "@jupyter-widgets/controls",
     "model_module_version": "1.5.0",
     "model_name": "FloatProgressModel",
     "state": {
      "_dom_classes": [],
      "_model_module": "@jupyter-widgets/controls",
      "_model_module_version": "1.5.0",
      "_model_name": "FloatProgressModel",
      "_view_count": null,
      "_view_module": "@jupyter-widgets/controls",
      "_view_module_version": "1.5.0",
      "_view_name": "ProgressView",
      "bar_style": "success",
      "description": "",
      "description_tooltip": null,
      "layout": "IPY_MODEL_119800472b9d4349b46cffb80cb93f17",
      "max": 39,
      "min": 0,
      "orientation": "horizontal",
      "style": "IPY_MODEL_2e4e3047387d42cab4af72f4916af83d",
      "value": 39
     }
    },
    "797edcc87dac40b7a45caa42267bc9ef": {
     "model_module": "@jupyter-widgets/controls",
     "model_module_version": "1.5.0",
     "model_name": "DescriptionStyleModel",
     "state": {
      "_model_module": "@jupyter-widgets/controls",
      "_model_module_version": "1.5.0",
      "_model_name": "DescriptionStyleModel",
      "_view_count": null,
      "_view_module": "@jupyter-widgets/base",
      "_view_module_version": "1.2.0",
      "_view_name": "StyleView",
      "description_width": ""
     }
    },
    "7e8570130fd24812bf18f4f13e2922ae": {
     "model_module": "@jupyter-widgets/base",
     "model_module_version": "1.2.0",
     "model_name": "LayoutModel",
     "state": {
      "_model_module": "@jupyter-widgets/base",
      "_model_module_version": "1.2.0",
      "_model_name": "LayoutModel",
      "_view_count": null,
      "_view_module": "@jupyter-widgets/base",
      "_view_module_version": "1.2.0",
      "_view_name": "LayoutView",
      "align_content": null,
      "align_items": null,
      "align_self": null,
      "border": null,
      "bottom": null,
      "display": null,
      "flex": null,
      "flex_flow": null,
      "grid_area": null,
      "grid_auto_columns": null,
      "grid_auto_flow": null,
      "grid_auto_rows": null,
      "grid_column": null,
      "grid_gap": null,
      "grid_row": null,
      "grid_template_areas": null,
      "grid_template_columns": null,
      "grid_template_rows": null,
      "height": null,
      "justify_content": null,
      "justify_items": null,
      "left": null,
      "margin": null,
      "max_height": null,
      "max_width": null,
      "min_height": null,
      "min_width": null,
      "object_fit": null,
      "object_position": null,
      "order": null,
      "overflow": null,
      "overflow_x": null,
      "overflow_y": null,
      "padding": null,
      "right": null,
      "top": null,
      "visibility": null,
      "width": null
     }
    },
    "7eaca659bf114bf2a5cf4984d6b93e41": {
     "model_module": "@jupyter-widgets/controls",
     "model_module_version": "1.5.0",
     "model_name": "ProgressStyleModel",
     "state": {
      "_model_module": "@jupyter-widgets/controls",
      "_model_module_version": "1.5.0",
      "_model_name": "ProgressStyleModel",
      "_view_count": null,
      "_view_module": "@jupyter-widgets/base",
      "_view_module_version": "1.2.0",
      "_view_name": "StyleView",
      "bar_color": null,
      "description_width": ""
     }
    },
    "7f0899e1cceb4b8a9282471f6d31851d": {
     "model_module": "@jupyter-widgets/controls",
     "model_module_version": "1.5.0",
     "model_name": "FloatProgressModel",
     "state": {
      "_dom_classes": [],
      "_model_module": "@jupyter-widgets/controls",
      "_model_module_version": "1.5.0",
      "_model_name": "FloatProgressModel",
      "_view_count": null,
      "_view_module": "@jupyter-widgets/controls",
      "_view_module_version": "1.5.0",
      "_view_name": "ProgressView",
      "bar_style": "success",
      "description": "",
      "description_tooltip": null,
      "layout": "IPY_MODEL_3fa6db19a7d44c7bb332c5157fb3afca",
      "max": 669491321,
      "min": 0,
      "orientation": "horizontal",
      "style": "IPY_MODEL_f4db737055ad49de99e42fea44ed5eba",
      "value": 669491321
     }
    },
    "7f7d78511cfc4f868491664fa6604d50": {
     "model_module": "@jupyter-widgets/base",
     "model_module_version": "1.2.0",
     "model_name": "LayoutModel",
     "state": {
      "_model_module": "@jupyter-widgets/base",
      "_model_module_version": "1.2.0",
      "_model_name": "LayoutModel",
      "_view_count": null,
      "_view_module": "@jupyter-widgets/base",
      "_view_module_version": "1.2.0",
      "_view_name": "LayoutView",
      "align_content": null,
      "align_items": null,
      "align_self": null,
      "border": null,
      "bottom": null,
      "display": null,
      "flex": null,
      "flex_flow": null,
      "grid_area": null,
      "grid_auto_columns": null,
      "grid_auto_flow": null,
      "grid_auto_rows": null,
      "grid_column": null,
      "grid_gap": null,
      "grid_row": null,
      "grid_template_areas": null,
      "grid_template_columns": null,
      "grid_template_rows": null,
      "height": null,
      "justify_content": null,
      "justify_items": null,
      "left": null,
      "margin": null,
      "max_height": null,
      "max_width": null,
      "min_height": null,
      "min_width": null,
      "object_fit": null,
      "object_position": null,
      "order": null,
      "overflow": null,
      "overflow_x": null,
      "overflow_y": null,
      "padding": null,
      "right": null,
      "top": null,
      "visibility": null,
      "width": null
     }
    },
    "810e26d402904179b3720d3cfcbe4392": {
     "model_module": "@jupyter-widgets/base",
     "model_module_version": "1.2.0",
     "model_name": "LayoutModel",
     "state": {
      "_model_module": "@jupyter-widgets/base",
      "_model_module_version": "1.2.0",
      "_model_name": "LayoutModel",
      "_view_count": null,
      "_view_module": "@jupyter-widgets/base",
      "_view_module_version": "1.2.0",
      "_view_name": "LayoutView",
      "align_content": null,
      "align_items": null,
      "align_self": null,
      "border": null,
      "bottom": null,
      "display": null,
      "flex": null,
      "flex_flow": null,
      "grid_area": null,
      "grid_auto_columns": null,
      "grid_auto_flow": null,
      "grid_auto_rows": null,
      "grid_column": null,
      "grid_gap": null,
      "grid_row": null,
      "grid_template_areas": null,
      "grid_template_columns": null,
      "grid_template_rows": null,
      "height": null,
      "justify_content": null,
      "justify_items": null,
      "left": null,
      "margin": null,
      "max_height": null,
      "max_width": null,
      "min_height": null,
      "min_width": null,
      "object_fit": null,
      "object_position": null,
      "order": null,
      "overflow": null,
      "overflow_x": null,
      "overflow_y": null,
      "padding": null,
      "right": null,
      "top": null,
      "visibility": null,
      "width": null
     }
    },
    "823dd48a74fe4241853ec3080390eb22": {
     "model_module": "@jupyter-widgets/base",
     "model_module_version": "1.2.0",
     "model_name": "LayoutModel",
     "state": {
      "_model_module": "@jupyter-widgets/base",
      "_model_module_version": "1.2.0",
      "_model_name": "LayoutModel",
      "_view_count": null,
      "_view_module": "@jupyter-widgets/base",
      "_view_module_version": "1.2.0",
      "_view_name": "LayoutView",
      "align_content": null,
      "align_items": null,
      "align_self": null,
      "border": null,
      "bottom": null,
      "display": null,
      "flex": null,
      "flex_flow": null,
      "grid_area": null,
      "grid_auto_columns": null,
      "grid_auto_flow": null,
      "grid_auto_rows": null,
      "grid_column": null,
      "grid_gap": null,
      "grid_row": null,
      "grid_template_areas": null,
      "grid_template_columns": null,
      "grid_template_rows": null,
      "height": null,
      "justify_content": null,
      "justify_items": null,
      "left": null,
      "margin": null,
      "max_height": null,
      "max_width": null,
      "min_height": null,
      "min_width": null,
      "object_fit": null,
      "object_position": null,
      "order": null,
      "overflow": null,
      "overflow_x": null,
      "overflow_y": null,
      "padding": null,
      "right": null,
      "top": null,
      "visibility": null,
      "width": null
     }
    },
    "825f2028276b42a5a07702466a132e64": {
     "model_module": "@jupyter-widgets/controls",
     "model_module_version": "1.5.0",
     "model_name": "DescriptionStyleModel",
     "state": {
      "_model_module": "@jupyter-widgets/controls",
      "_model_module_version": "1.5.0",
      "_model_name": "DescriptionStyleModel",
      "_view_count": null,
      "_view_module": "@jupyter-widgets/base",
      "_view_module_version": "1.2.0",
      "_view_name": "StyleView",
      "description_width": ""
     }
    },
    "8cb50e7512204cbe9995571953dbb170": {
     "model_module": "@jupyter-widgets/controls",
     "model_module_version": "1.5.0",
     "model_name": "FloatProgressModel",
     "state": {
      "_dom_classes": [],
      "_model_module": "@jupyter-widgets/controls",
      "_model_module_version": "1.5.0",
      "_model_name": "FloatProgressModel",
      "_view_count": null,
      "_view_module": "@jupyter-widgets/controls",
      "_view_module_version": "1.5.0",
      "_view_name": "ProgressView",
      "bar_style": "success",
      "description": "",
      "description_tooltip": null,
      "layout": "IPY_MODEL_fcbfe84c39fc415b862cd4b541276272",
      "max": 112,
      "min": 0,
      "orientation": "horizontal",
      "style": "IPY_MODEL_7eaca659bf114bf2a5cf4984d6b93e41",
      "value": 112
     }
    },
    "8e73d827528442f29ea10777058cf2f3": {
     "model_module": "@jupyter-widgets/base",
     "model_module_version": "1.2.0",
     "model_name": "LayoutModel",
     "state": {
      "_model_module": "@jupyter-widgets/base",
      "_model_module_version": "1.2.0",
      "_model_name": "LayoutModel",
      "_view_count": null,
      "_view_module": "@jupyter-widgets/base",
      "_view_module_version": "1.2.0",
      "_view_name": "LayoutView",
      "align_content": null,
      "align_items": null,
      "align_self": null,
      "border": null,
      "bottom": null,
      "display": null,
      "flex": null,
      "flex_flow": null,
      "grid_area": null,
      "grid_auto_columns": null,
      "grid_auto_flow": null,
      "grid_auto_rows": null,
      "grid_column": null,
      "grid_gap": null,
      "grid_row": null,
      "grid_template_areas": null,
      "grid_template_columns": null,
      "grid_template_rows": null,
      "height": null,
      "justify_content": null,
      "justify_items": null,
      "left": null,
      "margin": null,
      "max_height": null,
      "max_width": null,
      "min_height": null,
      "min_width": null,
      "object_fit": null,
      "object_position": null,
      "order": null,
      "overflow": null,
      "overflow_x": null,
      "overflow_y": null,
      "padding": null,
      "right": null,
      "top": null,
      "visibility": null,
      "width": null
     }
    },
    "95f356e976b3489ea9e5493c23fffd3c": {
     "model_module": "@jupyter-widgets/base",
     "model_module_version": "1.2.0",
     "model_name": "LayoutModel",
     "state": {
      "_model_module": "@jupyter-widgets/base",
      "_model_module_version": "1.2.0",
      "_model_name": "LayoutModel",
      "_view_count": null,
      "_view_module": "@jupyter-widgets/base",
      "_view_module_version": "1.2.0",
      "_view_name": "LayoutView",
      "align_content": null,
      "align_items": null,
      "align_self": null,
      "border": null,
      "bottom": null,
      "display": null,
      "flex": null,
      "flex_flow": null,
      "grid_area": null,
      "grid_auto_columns": null,
      "grid_auto_flow": null,
      "grid_auto_rows": null,
      "grid_column": null,
      "grid_gap": null,
      "grid_row": null,
      "grid_template_areas": null,
      "grid_template_columns": null,
      "grid_template_rows": null,
      "height": null,
      "justify_content": null,
      "justify_items": null,
      "left": null,
      "margin": null,
      "max_height": null,
      "max_width": null,
      "min_height": null,
      "min_width": null,
      "object_fit": null,
      "object_position": null,
      "order": null,
      "overflow": null,
      "overflow_x": null,
      "overflow_y": null,
      "padding": null,
      "right": null,
      "top": null,
      "visibility": null,
      "width": null
     }
    },
    "a017356cdfb047b4ae25293534b5b871": {
     "model_module": "@jupyter-widgets/controls",
     "model_module_version": "1.5.0",
     "model_name": "DescriptionStyleModel",
     "state": {
      "_model_module": "@jupyter-widgets/controls",
      "_model_module_version": "1.5.0",
      "_model_name": "DescriptionStyleModel",
      "_view_count": null,
      "_view_module": "@jupyter-widgets/base",
      "_view_module_version": "1.2.0",
      "_view_name": "StyleView",
      "description_width": ""
     }
    },
    "a12ed92860244637a81d710efabdfd43": {
     "model_module": "@jupyter-widgets/controls",
     "model_module_version": "1.5.0",
     "model_name": "HTMLModel",
     "state": {
      "_dom_classes": [],
      "_model_module": "@jupyter-widgets/controls",
      "_model_module_version": "1.5.0",
      "_model_name": "HTMLModel",
      "_view_count": null,
      "_view_module": "@jupyter-widgets/controls",
      "_view_module_version": "1.5.0",
      "_view_name": "HTMLView",
      "description": "",
      "description_tooltip": null,
      "layout": "IPY_MODEL_bdec6e3746bb415e84882e1a1882ee5a",
      "placeholder": "​",
      "style": "IPY_MODEL_4afff8bef0f64bcbbd69271b5b7f2004",
      "value": " 39.0/39.0 [00:00&lt;00:00, 564B/s]"
     }
    },
    "a91575fbfb7446f8a8e01e962b94d396": {
     "model_module": "@jupyter-widgets/base",
     "model_module_version": "1.2.0",
     "model_name": "LayoutModel",
     "state": {
      "_model_module": "@jupyter-widgets/base",
      "_model_module_version": "1.2.0",
      "_model_name": "LayoutModel",
      "_view_count": null,
      "_view_module": "@jupyter-widgets/base",
      "_view_module_version": "1.2.0",
      "_view_name": "LayoutView",
      "align_content": null,
      "align_items": null,
      "align_self": null,
      "border": null,
      "bottom": null,
      "display": null,
      "flex": null,
      "flex_flow": null,
      "grid_area": null,
      "grid_auto_columns": null,
      "grid_auto_flow": null,
      "grid_auto_rows": null,
      "grid_column": null,
      "grid_gap": null,
      "grid_row": null,
      "grid_template_areas": null,
      "grid_template_columns": null,
      "grid_template_rows": null,
      "height": null,
      "justify_content": null,
      "justify_items": null,
      "left": null,
      "margin": null,
      "max_height": null,
      "max_width": null,
      "min_height": null,
      "min_width": null,
      "object_fit": null,
      "object_position": null,
      "order": null,
      "overflow": null,
      "overflow_x": null,
      "overflow_y": null,
      "padding": null,
      "right": null,
      "top": null,
      "visibility": null,
      "width": null
     }
    },
    "b2a5a5ec743e4c2fa70eebb52aed3994": {
     "model_module": "@jupyter-widgets/base",
     "model_module_version": "1.2.0",
     "model_name": "LayoutModel",
     "state": {
      "_model_module": "@jupyter-widgets/base",
      "_model_module_version": "1.2.0",
      "_model_name": "LayoutModel",
      "_view_count": null,
      "_view_module": "@jupyter-widgets/base",
      "_view_module_version": "1.2.0",
      "_view_name": "LayoutView",
      "align_content": null,
      "align_items": null,
      "align_self": null,
      "border": null,
      "bottom": null,
      "display": null,
      "flex": null,
      "flex_flow": null,
      "grid_area": null,
      "grid_auto_columns": null,
      "grid_auto_flow": null,
      "grid_auto_rows": null,
      "grid_column": null,
      "grid_gap": null,
      "grid_row": null,
      "grid_template_areas": null,
      "grid_template_columns": null,
      "grid_template_rows": null,
      "height": null,
      "justify_content": null,
      "justify_items": null,
      "left": null,
      "margin": null,
      "max_height": null,
      "max_width": null,
      "min_height": null,
      "min_width": null,
      "object_fit": null,
      "object_position": null,
      "order": null,
      "overflow": null,
      "overflow_x": null,
      "overflow_y": null,
      "padding": null,
      "right": null,
      "top": null,
      "visibility": null,
      "width": null
     }
    },
    "b79d6e96b7c8402b81ffddaa11e463bd": {
     "model_module": "@jupyter-widgets/controls",
     "model_module_version": "1.5.0",
     "model_name": "FloatProgressModel",
     "state": {
      "_dom_classes": [],
      "_model_module": "@jupyter-widgets/controls",
      "_model_module_version": "1.5.0",
      "_model_name": "FloatProgressModel",
      "_view_count": null,
      "_view_module": "@jupyter-widgets/controls",
      "_view_module_version": "1.5.0",
      "_view_name": "ProgressView",
      "bar_style": "success",
      "description": "",
      "description_tooltip": null,
      "layout": "IPY_MODEL_19b2e08b4e584c53b9cea4ab94e0dc8e",
      "max": 871891,
      "min": 0,
      "orientation": "horizontal",
      "style": "IPY_MODEL_6a14eb4c63074be2811895bf758cdb6a",
      "value": 871891
     }
    },
    "b91e834b2ca44ebbbe4dce6c4a571012": {
     "model_module": "@jupyter-widgets/controls",
     "model_module_version": "1.5.0",
     "model_name": "HTMLModel",
     "state": {
      "_dom_classes": [],
      "_model_module": "@jupyter-widgets/controls",
      "_model_module_version": "1.5.0",
      "_model_name": "HTMLModel",
      "_view_count": null,
      "_view_module": "@jupyter-widgets/controls",
      "_view_module_version": "1.5.0",
      "_view_name": "HTMLView",
      "description": "",
      "description_tooltip": null,
      "layout": "IPY_MODEL_810e26d402904179b3720d3cfcbe4392",
      "placeholder": "​",
      "style": "IPY_MODEL_fc8d465c726244ed9b5f2abbe6106e11",
      "value": "Downloading (…)cial_tokens_map.json: 100%"
     }
    },
    "bdec6e3746bb415e84882e1a1882ee5a": {
     "model_module": "@jupyter-widgets/base",
     "model_module_version": "1.2.0",
     "model_name": "LayoutModel",
     "state": {
      "_model_module": "@jupyter-widgets/base",
      "_model_module_version": "1.2.0",
      "_model_name": "LayoutModel",
      "_view_count": null,
      "_view_module": "@jupyter-widgets/base",
      "_view_module_version": "1.2.0",
      "_view_name": "LayoutView",
      "align_content": null,
      "align_items": null,
      "align_self": null,
      "border": null,
      "bottom": null,
      "display": null,
      "flex": null,
      "flex_flow": null,
      "grid_area": null,
      "grid_auto_columns": null,
      "grid_auto_flow": null,
      "grid_auto_rows": null,
      "grid_column": null,
      "grid_gap": null,
      "grid_row": null,
      "grid_template_areas": null,
      "grid_template_columns": null,
      "grid_template_rows": null,
      "height": null,
      "justify_content": null,
      "justify_items": null,
      "left": null,
      "margin": null,
      "max_height": null,
      "max_width": null,
      "min_height": null,
      "min_width": null,
      "object_fit": null,
      "object_position": null,
      "order": null,
      "overflow": null,
      "overflow_x": null,
      "overflow_y": null,
      "padding": null,
      "right": null,
      "top": null,
      "visibility": null,
      "width": null
     }
    },
    "be59ca6069384ffa977e79ff8bc58296": {
     "model_module": "@jupyter-widgets/controls",
     "model_module_version": "1.5.0",
     "model_name": "HBoxModel",
     "state": {
      "_dom_classes": [],
      "_model_module": "@jupyter-widgets/controls",
      "_model_module_version": "1.5.0",
      "_model_name": "HBoxModel",
      "_view_count": null,
      "_view_module": "@jupyter-widgets/controls",
      "_view_module_version": "1.5.0",
      "_view_name": "HBoxView",
      "box_style": "",
      "children": [
       "IPY_MODEL_b91e834b2ca44ebbbe4dce6c4a571012",
       "IPY_MODEL_8cb50e7512204cbe9995571953dbb170",
       "IPY_MODEL_d999a065d6554838a4760d07b2c9aef7"
      ],
      "layout": "IPY_MODEL_d49f39694ff546bf9b0b76913746df23"
     }
    },
    "c048029fe2fa48e990eefb8e47880181": {
     "model_module": "@jupyter-widgets/controls",
     "model_module_version": "1.5.0",
     "model_name": "ProgressStyleModel",
     "state": {
      "_model_module": "@jupyter-widgets/controls",
      "_model_module_version": "1.5.0",
      "_model_name": "ProgressStyleModel",
      "_view_count": null,
      "_view_module": "@jupyter-widgets/base",
      "_view_module_version": "1.2.0",
      "_view_name": "StyleView",
      "bar_color": null,
      "description_width": ""
     }
    },
    "ccb8f73cb32940e493ab6c4d51102f88": {
     "model_module": "@jupyter-widgets/controls",
     "model_module_version": "1.5.0",
     "model_name": "DescriptionStyleModel",
     "state": {
      "_model_module": "@jupyter-widgets/controls",
      "_model_module_version": "1.5.0",
      "_model_name": "DescriptionStyleModel",
      "_view_count": null,
      "_view_module": "@jupyter-widgets/base",
      "_view_module_version": "1.2.0",
      "_view_name": "StyleView",
      "description_width": ""
     }
    },
    "d420f0c3cce44a24b803144032623a2b": {
     "model_module": "@jupyter-widgets/base",
     "model_module_version": "1.2.0",
     "model_name": "LayoutModel",
     "state": {
      "_model_module": "@jupyter-widgets/base",
      "_model_module_version": "1.2.0",
      "_model_name": "LayoutModel",
      "_view_count": null,
      "_view_module": "@jupyter-widgets/base",
      "_view_module_version": "1.2.0",
      "_view_name": "LayoutView",
      "align_content": null,
      "align_items": null,
      "align_self": null,
      "border": null,
      "bottom": null,
      "display": null,
      "flex": null,
      "flex_flow": null,
      "grid_area": null,
      "grid_auto_columns": null,
      "grid_auto_flow": null,
      "grid_auto_rows": null,
      "grid_column": null,
      "grid_gap": null,
      "grid_row": null,
      "grid_template_areas": null,
      "grid_template_columns": null,
      "grid_template_rows": null,
      "height": null,
      "justify_content": null,
      "justify_items": null,
      "left": null,
      "margin": null,
      "max_height": null,
      "max_width": null,
      "min_height": null,
      "min_width": null,
      "object_fit": null,
      "object_position": null,
      "order": null,
      "overflow": null,
      "overflow_x": null,
      "overflow_y": null,
      "padding": null,
      "right": null,
      "top": null,
      "visibility": null,
      "width": null
     }
    },
    "d49f39694ff546bf9b0b76913746df23": {
     "model_module": "@jupyter-widgets/base",
     "model_module_version": "1.2.0",
     "model_name": "LayoutModel",
     "state": {
      "_model_module": "@jupyter-widgets/base",
      "_model_module_version": "1.2.0",
      "_model_name": "LayoutModel",
      "_view_count": null,
      "_view_module": "@jupyter-widgets/base",
      "_view_module_version": "1.2.0",
      "_view_name": "LayoutView",
      "align_content": null,
      "align_items": null,
      "align_self": null,
      "border": null,
      "bottom": null,
      "display": null,
      "flex": null,
      "flex_flow": null,
      "grid_area": null,
      "grid_auto_columns": null,
      "grid_auto_flow": null,
      "grid_auto_rows": null,
      "grid_column": null,
      "grid_gap": null,
      "grid_row": null,
      "grid_template_areas": null,
      "grid_template_columns": null,
      "grid_template_rows": null,
      "height": null,
      "justify_content": null,
      "justify_items": null,
      "left": null,
      "margin": null,
      "max_height": null,
      "max_width": null,
      "min_height": null,
      "min_width": null,
      "object_fit": null,
      "object_position": null,
      "order": null,
      "overflow": null,
      "overflow_x": null,
      "overflow_y": null,
      "padding": null,
      "right": null,
      "top": null,
      "visibility": null,
      "width": null
     }
    },
    "d8e32fefd3b940018a20e3b6ad4ac445": {
     "model_module": "@jupyter-widgets/controls",
     "model_module_version": "1.5.0",
     "model_name": "HTMLModel",
     "state": {
      "_dom_classes": [],
      "_model_module": "@jupyter-widgets/controls",
      "_model_module_version": "1.5.0",
      "_model_name": "HTMLModel",
      "_view_count": null,
      "_view_module": "@jupyter-widgets/controls",
      "_view_module_version": "1.5.0",
      "_view_name": "HTMLView",
      "description": "",
      "description_tooltip": null,
      "layout": "IPY_MODEL_e65f397dbf154085a04082782c4aba90",
      "placeholder": "​",
      "style": "IPY_MODEL_797edcc87dac40b7a45caa42267bc9ef",
      "value": "Downloading (…)solve/main/vocab.txt: 100%"
     }
    },
    "d999a065d6554838a4760d07b2c9aef7": {
     "model_module": "@jupyter-widgets/controls",
     "model_module_version": "1.5.0",
     "model_name": "HTMLModel",
     "state": {
      "_dom_classes": [],
      "_model_module": "@jupyter-widgets/controls",
      "_model_module_version": "1.5.0",
      "_model_name": "HTMLModel",
      "_view_count": null,
      "_view_module": "@jupyter-widgets/controls",
      "_view_module_version": "1.5.0",
      "_view_name": "HTMLView",
      "description": "",
      "description_tooltip": null,
      "layout": "IPY_MODEL_8e73d827528442f29ea10777058cf2f3",
      "placeholder": "​",
      "style": "IPY_MODEL_6a08ef5145954b6bbf0d262ae8bd1692",
      "value": " 112/112 [00:00&lt;00:00, 2.06kB/s]"
     }
    },
    "e65f397dbf154085a04082782c4aba90": {
     "model_module": "@jupyter-widgets/base",
     "model_module_version": "1.2.0",
     "model_name": "LayoutModel",
     "state": {
      "_model_module": "@jupyter-widgets/base",
      "_model_module_version": "1.2.0",
      "_model_name": "LayoutModel",
      "_view_count": null,
      "_view_module": "@jupyter-widgets/base",
      "_view_module_version": "1.2.0",
      "_view_name": "LayoutView",
      "align_content": null,
      "align_items": null,
      "align_self": null,
      "border": null,
      "bottom": null,
      "display": null,
      "flex": null,
      "flex_flow": null,
      "grid_area": null,
      "grid_auto_columns": null,
      "grid_auto_flow": null,
      "grid_auto_rows": null,
      "grid_column": null,
      "grid_gap": null,
      "grid_row": null,
      "grid_template_areas": null,
      "grid_template_columns": null,
      "grid_template_rows": null,
      "height": null,
      "justify_content": null,
      "justify_items": null,
      "left": null,
      "margin": null,
      "max_height": null,
      "max_width": null,
      "min_height": null,
      "min_width": null,
      "object_fit": null,
      "object_position": null,
      "order": null,
      "overflow": null,
      "overflow_x": null,
      "overflow_y": null,
      "padding": null,
      "right": null,
      "top": null,
      "visibility": null,
      "width": null
     }
    },
    "f2b4d1df99d841b2a44bea62f4a47bd8": {
     "model_module": "@jupyter-widgets/controls",
     "model_module_version": "1.5.0",
     "model_name": "DescriptionStyleModel",
     "state": {
      "_model_module": "@jupyter-widgets/controls",
      "_model_module_version": "1.5.0",
      "_model_name": "DescriptionStyleModel",
      "_view_count": null,
      "_view_module": "@jupyter-widgets/base",
      "_view_module_version": "1.2.0",
      "_view_name": "StyleView",
      "description_width": ""
     }
    },
    "f48c5490aaf24c0a96461735fc0588e1": {
     "model_module": "@jupyter-widgets/controls",
     "model_module_version": "1.5.0",
     "model_name": "FloatProgressModel",
     "state": {
      "_dom_classes": [],
      "_model_module": "@jupyter-widgets/controls",
      "_model_module_version": "1.5.0",
      "_model_name": "FloatProgressModel",
      "_view_count": null,
      "_view_module": "@jupyter-widgets/controls",
      "_view_module_version": "1.5.0",
      "_view_name": "ProgressView",
      "bar_style": "success",
      "description": "",
      "description_tooltip": null,
      "layout": "IPY_MODEL_4efc3a6dd3014256a29cd1947ccd2d00",
      "max": 953,
      "min": 0,
      "orientation": "horizontal",
      "style": "IPY_MODEL_c048029fe2fa48e990eefb8e47880181",
      "value": 953
     }
    },
    "f4db737055ad49de99e42fea44ed5eba": {
     "model_module": "@jupyter-widgets/controls",
     "model_module_version": "1.5.0",
     "model_name": "ProgressStyleModel",
     "state": {
      "_model_module": "@jupyter-widgets/controls",
      "_model_module_version": "1.5.0",
      "_model_name": "ProgressStyleModel",
      "_view_count": null,
      "_view_module": "@jupyter-widgets/base",
      "_view_module_version": "1.2.0",
      "_view_name": "StyleView",
      "bar_color": null,
      "description_width": ""
     }
    },
    "fc8d465c726244ed9b5f2abbe6106e11": {
     "model_module": "@jupyter-widgets/controls",
     "model_module_version": "1.5.0",
     "model_name": "DescriptionStyleModel",
     "state": {
      "_model_module": "@jupyter-widgets/controls",
      "_model_module_version": "1.5.0",
      "_model_name": "DescriptionStyleModel",
      "_view_count": null,
      "_view_module": "@jupyter-widgets/base",
      "_view_module_version": "1.2.0",
      "_view_name": "StyleView",
      "description_width": ""
     }
    },
    "fcbfe84c39fc415b862cd4b541276272": {
     "model_module": "@jupyter-widgets/base",
     "model_module_version": "1.2.0",
     "model_name": "LayoutModel",
     "state": {
      "_model_module": "@jupyter-widgets/base",
      "_model_module_version": "1.2.0",
      "_model_name": "LayoutModel",
      "_view_count": null,
      "_view_module": "@jupyter-widgets/base",
      "_view_module_version": "1.2.0",
      "_view_name": "LayoutView",
      "align_content": null,
      "align_items": null,
      "align_self": null,
      "border": null,
      "bottom": null,
      "display": null,
      "flex": null,
      "flex_flow": null,
      "grid_area": null,
      "grid_auto_columns": null,
      "grid_auto_flow": null,
      "grid_auto_rows": null,
      "grid_column": null,
      "grid_gap": null,
      "grid_row": null,
      "grid_template_areas": null,
      "grid_template_columns": null,
      "grid_template_rows": null,
      "height": null,
      "justify_content": null,
      "justify_items": null,
      "left": null,
      "margin": null,
      "max_height": null,
      "max_width": null,
      "min_height": null,
      "min_width": null,
      "object_fit": null,
      "object_position": null,
      "order": null,
      "overflow": null,
      "overflow_x": null,
      "overflow_y": null,
      "padding": null,
      "right": null,
      "top": null,
      "visibility": null,
      "width": null
     }
    }
   }
  }
 },
 "nbformat": 4,
 "nbformat_minor": 1
}
