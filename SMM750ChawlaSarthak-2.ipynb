{
 "cells": [
  {
   "cell_type": "markdown",
   "id": "cb5d50db",
   "metadata": {},
   "source": [
    "# Import Libraries"
   ]
  },
  {
   "cell_type": "code",
   "execution_count": 31,
   "id": "51caa043",
   "metadata": {
    "ExecuteTime": {
     "end_time": "2023-04-20T20:01:30.742850Z",
     "start_time": "2023-04-20T20:01:30.732515Z"
    }
   },
   "outputs": [],
   "source": [
    "# importing the libraries\n",
    "import os\n",
    "import pandas as pd\n",
    "from selenium import webdriver\n",
    "         \n",
    "chrome_options = webdriver.ChromeOptions()\n",
    "\n",
    "# saving the downloadable files, on the web page, in the working directory\n",
    "prefs = {\"download.default_directory\" : os.getcwd()}\n",
    "chrome_options.add_experimental_option(\"prefs\",prefs)\n",
    "\n",
    "#chrome_options.add_argument('--headless')\n",
    "chrome_options.add_argument('--no-sandbox')\n",
    "chrome_options.add_argument('--disable-dev-shm-usage')\n",
    "user_agent = \"Mozilla/5.0 (Windows NT 10.0; Win64; x64) AppleWebKit/537.36 (KHTML, like Gecko) Chrome/105.0.0.0 Safari/537.36\"\n",
    "chrome_options.add_argument(f'user-agent={user_agent}')"
   ]
  },
  {
   "cell_type": "code",
   "execution_count": 32,
   "id": "e979c220",
   "metadata": {
    "ExecuteTime": {
     "end_time": "2023-04-20T20:01:31.483298Z",
     "start_time": "2023-04-20T20:01:31.467547Z"
    }
   },
   "outputs": [],
   "source": [
    "from selenium.webdriver.common.by import By\n",
    "from selenium.common.exceptions import NoSuchElementException\n",
    "from selenium.webdriver.support.ui import WebDriverWait\n",
    "from selenium.webdriver.support import expected_conditions as EC\n",
    "from selenium.common.exceptions import NoSuchElementException\n",
    "from selenium.webdriver.chrome.service import Service\n",
    "from webdriver_manager.chrome import ChromeDriverManager"
   ]
  },
  {
   "cell_type": "code",
   "execution_count": 33,
   "id": "f85ac512",
   "metadata": {
    "ExecuteTime": {
     "end_time": "2023-04-20T20:01:32.168159Z",
     "start_time": "2023-04-20T20:01:32.143588Z"
    }
   },
   "outputs": [],
   "source": [
    "import time\n",
    "import sys\n",
    "import numpy as np\n",
    "# Set the seed value\n",
    "np.random.seed(42)\n",
    "from glob import glob\n",
    "import requests\n",
    "\n",
    "import re\n",
    "from itertools import chain\n",
    "\n",
    "from bs4 import BeautifulSoup\n",
    "from bs4 import BeautifulSoup as bs\n",
    "\n",
    "from sklearn.decomposition import PCA\n",
    "from sklearn.cluster import KMeans\n",
    "\n",
    "import matplotlib.pyplot as plt\n",
    "%matplotlib inline\n",
    "import seaborn as sns\n",
    "import warnings\n",
    "warnings.filterwarnings(\"ignore\")"
   ]
  },
  {
   "cell_type": "code",
   "execution_count": 34,
   "id": "0bd9f316",
   "metadata": {
    "ExecuteTime": {
     "end_time": "2023-04-20T20:01:35.853346Z",
     "start_time": "2023-04-20T20:01:32.794813Z"
    }
   },
   "outputs": [],
   "source": [
    "# download the chrome driver\n",
    "driver = webdriver.Chrome(service=Service(ChromeDriverManager().install()), options=chrome_options)"
   ]
  },
  {
   "cell_type": "code",
   "execution_count": 35,
   "id": "2d89b3ba",
   "metadata": {
    "ExecuteTime": {
     "end_time": "2023-04-20T20:01:53.745072Z",
     "start_time": "2023-04-20T20:01:48.603822Z"
    }
   },
   "outputs": [],
   "source": [
    "# open the link to scrap\n",
    "driver.get(\"https://onlydatajobs.com/\")\n",
    "wait = WebDriverWait(driver, 10)\n",
    "\n",
    "# get the html page source\n",
    "html = driver.page_source\n",
    "soup = bs(html, 'html.parser')"
   ]
  },
  {
   "cell_type": "code",
   "execution_count": 36,
   "id": "bee76a04",
   "metadata": {
    "ExecuteTime": {
     "end_time": "2023-04-20T20:01:56.824657Z",
     "start_time": "2023-04-20T20:01:56.816867Z"
    }
   },
   "outputs": [],
   "source": [
    "jobs_category_links = soup.findAll('div',attrs={'class':'browse-custom__content-item active'})"
   ]
  },
  {
   "cell_type": "code",
   "execution_count": 37,
   "id": "60719a3c",
   "metadata": {
    "ExecuteTime": {
     "end_time": "2023-04-20T20:02:01.330029Z",
     "start_time": "2023-04-20T20:02:01.324798Z"
    }
   },
   "outputs": [],
   "source": [
    "refined_job_links = []\n",
    "\n",
    "for h2 in jobs_category_links:\n",
    "    # find 'a' tags to get the link\n",
    "    links = h2.findAll('a')\n",
    "    for a in links:\n",
    "        # append every search link\n",
    "        card_links = a['href']\n",
    "        refined_job_links.append(card_links)"
   ]
  },
  {
   "cell_type": "code",
   "execution_count": 38,
   "id": "bdc1c073",
   "metadata": {
    "ExecuteTime": {
     "end_time": "2023-04-20T20:02:02.027482Z",
     "start_time": "2023-04-20T20:02:02.021195Z"
    }
   },
   "outputs": [],
   "source": [
    "for url in refined_job_links:\n",
    "    if 'business-analyst' in url and 'technical' not in url:\n",
    "        business_analysis_link = url"
   ]
  },
  {
   "cell_type": "code",
   "execution_count": 39,
   "id": "dabc757b",
   "metadata": {
    "ExecuteTime": {
     "end_time": "2023-04-20T20:02:04.303967Z",
     "start_time": "2023-04-20T20:02:02.657171Z"
    }
   },
   "outputs": [],
   "source": [
    "# open the link to scrap\n",
    "driver.get(business_analysis_link)\n",
    "wait = WebDriverWait(driver, 10)\n",
    "\n",
    "# get the html page source\n",
    "html = driver.page_source\n",
    "soup = bs(html, 'html.parser')"
   ]
  },
  {
   "cell_type": "code",
   "execution_count": 40,
   "id": "4ea7c6ce",
   "metadata": {
    "ExecuteTime": {
     "end_time": "2023-04-20T20:02:07.982922Z",
     "start_time": "2023-04-20T20:02:04.687989Z"
    }
   },
   "outputs": [],
   "source": [
    "# Wait for the popup to appear\n",
    "popup = WebDriverWait(driver, 10).until(EC.presence_of_element_located((By.ID, \"cookiesAlertMsg\")))\n",
    "\n",
    "# Click the \"I agree and accept cookies\" button\n",
    "button = popup.find_element(By.ID, \"cookies_alert_btn\")\n",
    "button.click()\n",
    "time.sleep(3)"
   ]
  },
  {
   "cell_type": "code",
   "execution_count": 41,
   "id": "37de7f4f",
   "metadata": {
    "ExecuteTime": {
     "end_time": "2023-04-20T20:02:25.713889Z",
     "start_time": "2023-04-20T20:02:08.177786Z"
    }
   },
   "outputs": [],
   "source": [
    "# Click the check box for Greater London\n",
    "\n",
    "try:\n",
    "    label = driver.find_element(By.XPATH, \"//label[@for='checkbox-8-0']\")\n",
    "    # Click the label to select the checkbox\n",
    "    label.click()\n",
    "except:\n",
    "    time.sleep(15)\n",
    "    label = driver.find_element(By.XPATH, \"//label[@for='checkbox-8-0']\")\n",
    "    label.click()"
   ]
  },
  {
   "cell_type": "code",
   "execution_count": 42,
   "id": "4eebeffe",
   "metadata": {
    "ExecuteTime": {
     "end_time": "2023-04-20T20:02:26.117419Z",
     "start_time": "2023-04-20T20:02:25.947267Z"
    }
   },
   "outputs": [],
   "source": [
    "# get the html page source\n",
    "html = driver.page_source\n",
    "soup = bs(html, 'html.parser')"
   ]
  },
  {
   "cell_type": "code",
   "execution_count": 43,
   "id": "f38b59a4",
   "metadata": {
    "ExecuteTime": {
     "end_time": "2023-04-20T20:03:34.878664Z",
     "start_time": "2023-04-20T20:02:26.280206Z"
    }
   },
   "outputs": [],
   "source": [
    "# get the links for all the cards for business analyst job in Greater London\n",
    "\n",
    "search_results = soup.findAll('div',attrs={'class':'s-res'})\n",
    "# to store the links\n",
    "card_links = []\n",
    "i = 0\n",
    "\n",
    "while True:\n",
    "    # iterate over all the div elements\n",
    "    for div in search_results:\n",
    "        # find 'a' tags to get the link\n",
    "        links = div.findAll('a')\n",
    "        # iterate over the links to append them into the links\n",
    "        for a in links:\n",
    "            # using href as link is stored in href.\n",
    "            card_links.append('https://onlydatajobs.com' + a['href'])\n",
    "            \n",
    "    i = i + 1\n",
    "    if i > 33:\n",
    "        break\n",
    "    \n",
    "    try:\n",
    "        # Wait for the NEXT button to become clickable\n",
    "        next_button = 'https://onlydatajobs.com' + soup.findAll('a',attrs={'class':'nextButton'})[0]['href']\n",
    "    except:\n",
    "        break\n",
    "\n",
    "    driver.get(next_button)\n",
    "    wait = WebDriverWait(driver, 10)\n",
    "\n",
    "    # get the html page source\n",
    "    html = driver.page_source\n",
    "    soup = bs(html, 'html.parser')\n",
    "    time.sleep(1)\n",
    "    search_results = soup.findAll('div',attrs={'class':'s-res'})"
   ]
  },
  {
   "cell_type": "code",
   "execution_count": 44,
   "id": "29e788d7",
   "metadata": {
    "ExecuteTime": {
     "end_time": "2023-04-20T20:04:08.546829Z",
     "start_time": "2023-04-20T20:04:08.541125Z"
    }
   },
   "outputs": [],
   "source": [
    "# remove the duplicate urls\n",
    "card_links = list(set(card_links))"
   ]
  },
  {
   "cell_type": "code",
   "execution_count": 45,
   "id": "01ebe70a",
   "metadata": {
    "ExecuteTime": {
     "end_time": "2023-04-20T20:04:09.352641Z",
     "start_time": "2023-04-20T20:04:09.346591Z"
    }
   },
   "outputs": [],
   "source": [
    "# Create bigrams for the skills that contain two words\n",
    "def get_bigrams(sentence):\n",
    "    words = sentence.split()\n",
    "    bigrams = []\n",
    "    for i in range(len(words)-1):\n",
    "        bigram = ','.join((words[i] + \" \" + words[i+1]))\n",
    "        bigrams.append(bigram)\n",
    "    return bigrams"
   ]
  },
  {
   "cell_type": "code",
   "execution_count": 46,
   "id": "dac15963",
   "metadata": {
    "ExecuteTime": {
     "end_time": "2023-04-20T20:04:10.738407Z",
     "start_time": "2023-04-20T20:04:10.726921Z"
    }
   },
   "outputs": [],
   "source": [
    "# This will filter the skills from the job description.\n",
    "def job_skills(business_analyst_keywords):\n",
    "    job_description = str(soup.find('td', class_='job_desc_td'))\n",
    "    job_description_soup = BeautifulSoup(job_description, 'html.parser')\n",
    "    all_text = str(job_description_soup.get_text())\n",
    "    all_text = all_text.lower()\n",
    "    \n",
    "    # Convert job description to lower case and split into words\n",
    "    all_text = all_text.lower().split()\n",
    "    \n",
    "    \n",
    "    #print(all_text)\n",
    "    \n",
    "    bigrams = []\n",
    "    for i in range(len(all_text) - 1):\n",
    "        bigrams.append([all_text[i] + \" \" + all_text[i+1]])\n",
    "        \n",
    "    bigrams = list(np.array(bigrams).ravel())\n",
    "    # Initialize a list to store the skills related to Business Analyst\n",
    "    business_analyst_skills = []\n",
    "\n",
    "    # Loop through each word in the job description and check if it matches any of the keywords related to Business Analyst\n",
    "    for word in all_text:\n",
    "        for keyword in business_analyst_keywords:\n",
    "            # Use regular expression to check if the keyword matches the word in the job description\n",
    "            if re.match(keyword, word):\n",
    "                business_analyst_skills.append(keyword)\n",
    "                \n",
    "    # Loop through each word in the job description and check if it matches any of the keywords related to Business Analyst\n",
    "    for word in bigrams:\n",
    "        for keyword in business_analyst_keywords:\n",
    "            # Use regular expression to check if the keyword matches the word in the job description\n",
    "            if re.match(keyword, word):\n",
    "                business_analyst_skills.append(keyword)\n",
    "    \n",
    "    business_analyst_skills = list(pd.DataFrame(business_analyst_skills).value_counts().index)\n",
    "    business_analyst_skills = [i[0] for i in business_analyst_skills][::-1]\n",
    "    # Print the list of skills related to Business Analyst\n",
    "    return business_analyst_skills"
   ]
  },
  {
   "cell_type": "code",
   "execution_count": 47,
   "id": "f7ac3783",
   "metadata": {
    "ExecuteTime": {
     "end_time": "2023-04-20T20:04:13.024555Z",
     "start_time": "2023-04-20T20:04:13.007580Z"
    }
   },
   "outputs": [
    {
     "name": "stdout",
     "output_type": "stream",
     "text": [
      "[]\n"
     ]
    }
   ],
   "source": [
    "# Define a list of keywords related to Business Analyst.\n",
    "# These should be in small letters.\n",
    "\n",
    "business_analyst_keywords = ['risk management', 'data analysis', 'problem solving', 'requirements gathering', \\\n",
    "                            'problem-solving', 'business acumen', 'project management', \\\n",
    "                             'data visualization', 'market research', \\\n",
    "                             'financial analysis', 'forecasting', 'strategic planning', 'risk management', \\\n",
    "                              'sales', 'marketing', 'brand management', \\\n",
    "                             'product management', 'team leadership', 'negotiation', 'contract management', \\\n",
    "                             'vendor management', 'supply chain management', 'logistics', 'operations management', \\\n",
    "                             'quality control', 'lean manufacturing', 'six sigma', 'e-commerce', \\\n",
    "                             'web development', 'digital marketing', 'social media marketing', 'search engine optimization', \\\n",
    "                             'content marketing', 'email marketing', 'customer retention', 'lead generation', \\\n",
    "                             'pricing strategy', 'inventory management', 'budgeting', 'financial modeling', \\\n",
    "                             'cash flow management', 'tax planning', 'mergers and acquisitions', 'business intelligence', \\\n",
    "                             'competitive analysis', 'intellectual property', 'patent law', 'agile methodologies',\\\n",
    "                             'business-driven', 'agile development', 'agile process', 'risk identification', \\\n",
    "                             'stakeholder management', 'agile scrum', 'agile methodology', \\\n",
    "                             'design thinking', 'agile/lean', 'agile/lean scrum', 'product backlog', 'backlog refinement',\\\n",
    "                            'retrospective', 'sprint review', 'risk identification','stakeholder management', 'actuarial analysis',\\\n",
    "                            'financial modeling', 'qualitative analysis', 'quantitative', 'reinsurance contracts', 'annuity insurance'\\\n",
    "                            'process optimization', 'business strategy', 'data management', 'financial modelling',\\\n",
    "                            'accounting', 'excel', 'business continuity', 'risk assessment', 'business development', 'sap',\\\n",
    "                            'java', 'interpersonal skills', 'change management', 'it principles', 'process analyst', 'statistics',\n",
    "                            'statistical', 'probability theory']\n",
    "\n",
    "# 'customer experience'\n",
    "#business_analyst_keywords = skills_keywords\n",
    "required_skills = job_skills(business_analyst_keywords)\n",
    "print(required_skills)"
   ]
  },
  {
   "cell_type": "code",
   "execution_count": 48,
   "id": "29d8b7ce",
   "metadata": {
    "ExecuteTime": {
     "end_time": "2023-04-20T20:14:53.461656Z",
     "start_time": "2023-04-20T20:04:14.028065Z"
    }
   },
   "outputs": [],
   "source": [
    "# Open every job page, using card links, and retrieve information\n",
    "\n",
    "job_names = list()\n",
    "company_names = list()\n",
    "job_levels = list()\n",
    "salaries = list()\n",
    "cities = list()\n",
    "skills_for_job = list()\n",
    "industries = list()\n",
    "\n",
    "counter = 0\n",
    "for i in card_links:\n",
    "    \n",
    "    if counter > 335:\n",
    "        break\n",
    "    driver.get(i)\n",
    "    wait = WebDriverWait(driver, 10)\n",
    "\n",
    "    # get the html page source\n",
    "    html = driver.page_source\n",
    "    soup = bs(html, 'html.parser')\n",
    "    time.sleep(1)\n",
    "    \n",
    "    job_title = soup.find('h1',attrs={'class':'page-title'}).text\n",
    "    job_names.append(job_title)\n",
    "    \n",
    "    employer_tag = soup.find('td', {'class': 'f vac_item_employer'})\n",
    "    link_tag = employer_tag.find_next_sibling('td').find('a')\n",
    "    company_name = link_tag.text.strip()\n",
    "    company_names.append(company_name)\n",
    "    \n",
    "    job_type = soup.find('td', class_='vac_item_job_type').find_next_sibling('td').text.strip()\n",
    "    job_levels.append(job_type)\n",
    "    \n",
    "    salary = soup.find('td', class_='vac_item_salary_text').find_next_sibling('td').text.strip()\n",
    "    salaries.append(salary)\n",
    "    \n",
    "    city = soup.find('td', class_='vac_item_city').find_next_sibling('td').text.strip()\n",
    "    cities.append(city)\n",
    "    \n",
    "    required_skills = job_skills(business_analyst_keywords)\n",
    "    skills_for_job.append(required_skills[0])\n",
    "    \n",
    "    try:\n",
    "        industry = soup.find('td', class_='vac_item_industry').find_next_sibling('td').text.strip()\n",
    "    except:\n",
    "        industry = None\n",
    "    industries.append(industry)\n",
    "    \n",
    "    counter = counter + 1"
   ]
  },
  {
   "cell_type": "code",
   "execution_count": 49,
   "id": "643a0c18",
   "metadata": {
    "ExecuteTime": {
     "end_time": "2023-04-20T20:14:55.839820Z",
     "start_time": "2023-04-20T20:14:55.833558Z"
    }
   },
   "outputs": [],
   "source": [
    "df_dict = {'title': job_names, 'company': company_names, \\\n",
    "           'job_level': job_levels, 'salary': salaries, 'city': cities, 'skills': skills_for_job, 'industry': industries}"
   ]
  },
  {
   "cell_type": "code",
   "execution_count": 50,
   "id": "e83409a0",
   "metadata": {
    "ExecuteTime": {
     "end_time": "2023-04-20T20:14:56.562898Z",
     "start_time": "2023-04-20T20:14:56.550914Z"
    }
   },
   "outputs": [],
   "source": [
    "df = pd.DataFrame(df_dict).drop_duplicates()\n",
    "\n",
    "# Save the dataset. BA_GL, Business Analyst in Greater London\n",
    "# pd.DataFrame(df_dict).to_csv('BA_GL.csv', index = False)"
   ]
  },
  {
   "cell_type": "code",
   "execution_count": 51,
   "id": "0057a3d7",
   "metadata": {
    "ExecuteTime": {
     "end_time": "2023-04-20T20:14:57.324667Z",
     "start_time": "2023-04-20T20:14:57.317548Z"
    }
   },
   "outputs": [
    {
     "name": "stdout",
     "output_type": "stream",
     "text": [
      "Shape of the dataframe (315, 7)\n"
     ]
    }
   ],
   "source": [
    "print(f'Shape of the dataframe {df.shape}')"
   ]
  },
  {
   "cell_type": "markdown",
   "id": "27aedd81",
   "metadata": {},
   "source": [
    "# Data Analysis"
   ]
  },
  {
   "cell_type": "code",
   "execution_count": 52,
   "id": "c6156284",
   "metadata": {
    "ExecuteTime": {
     "end_time": "2023-04-20T20:15:00.915608Z",
     "start_time": "2023-04-20T20:15:00.908280Z"
    }
   },
   "outputs": [],
   "source": [
    "# df = pd.read_csv('BA_GL.csv')"
   ]
  },
  {
   "cell_type": "code",
   "execution_count": 53,
   "id": "e4803f34",
   "metadata": {
    "ExecuteTime": {
     "end_time": "2023-04-20T20:15:01.970184Z",
     "start_time": "2023-04-20T20:15:01.950116Z"
    }
   },
   "outputs": [
    {
     "data": {
      "text/plain": [
       "title         0\n",
       "company       0\n",
       "job_level     0\n",
       "salary        0\n",
       "city          0\n",
       "skills        0\n",
       "industry     45\n",
       "dtype: int64"
      ]
     },
     "execution_count": 53,
     "metadata": {},
     "output_type": "execute_result"
    }
   ],
   "source": [
    "df.isnull().sum()"
   ]
  },
  {
   "cell_type": "code",
   "execution_count": 54,
   "id": "4b5b6f1c",
   "metadata": {
    "ExecuteTime": {
     "end_time": "2023-04-20T20:15:03.839574Z",
     "start_time": "2023-04-20T20:15:03.829124Z"
    },
    "scrolled": true
   },
   "outputs": [
    {
     "name": "stdout",
     "output_type": "stream",
     "text": [
      "['accounting' 'agile development' 'agile methodologies'\n",
      " 'agile methodology' 'agile process' 'agile scrum' 'backlog refinement'\n",
      " 'budgeting' 'business acumen' 'business continuity'\n",
      " 'business development' 'business intelligence' 'business strategy'\n",
      " 'change management' 'contract management' 'data analysis'\n",
      " 'data management' 'data visualization' 'design thinking' 'excel'\n",
      " 'financial analysis' 'financial modelling' 'forecasting'\n",
      " 'intellectual property' 'interpersonal skills' 'it principles'\n",
      " 'market research' 'marketing' 'negotiation' 'operations management'\n",
      " 'problem solving' 'problem-solving' 'process analyst' 'product backlog'\n",
      " 'product management' 'project management' 'qualitative analysis'\n",
      " 'quality control' 'quantitative' 'reinsurance contracts'\n",
      " 'requirements gathering' 'retrospective' 'risk assessment'\n",
      " 'risk identification' 'risk management' 'sales' 'sap' 'six sigma'\n",
      " 'sprint review' 'stakeholder management' 'statistical' 'statistics'\n",
      " 'strategic planning' 'team leadership' 'vendor management'\n",
      " 'web development']\n"
     ]
    }
   ],
   "source": [
    "# All the unique skills present in the dataset\n",
    "print(np.unique(df['skills'].values))"
   ]
  },
  {
   "cell_type": "code",
   "execution_count": 55,
   "id": "f0670e1f",
   "metadata": {
    "ExecuteTime": {
     "end_time": "2023-04-20T20:15:04.670928Z",
     "start_time": "2023-04-20T20:15:04.652528Z"
    }
   },
   "outputs": [],
   "source": [
    "agile_skills = ['agile methodology', 'agile process', 'agile development', 'agile scrum']\n",
    "\n",
    "for i in agile_skills:\n",
    "    df['skills'].replace(i, 'agile methodologies', inplace = True)\n",
    "    \n",
    "agile_skills = ['excel']\n",
    "\n",
    "for i in agile_skills:\n",
    "    df['skills'].replace(i, 'data analysis', inplace = True)\n",
    "    \n",
    "agile_skills = ['risk_identification']\n",
    "\n",
    "for i in agile_skills:\n",
    "    df['skills'].replace(i, 'risk management ', inplace = True)"
   ]
  },
  {
   "cell_type": "code",
   "execution_count": 56,
   "id": "5d9d5688",
   "metadata": {
    "ExecuteTime": {
     "end_time": "2023-04-20T20:15:05.429623Z",
     "start_time": "2023-04-20T20:15:05.420486Z"
    }
   },
   "outputs": [
    {
     "name": "stdout",
     "output_type": "stream",
     "text": [
      "['AXS' 'Accor Hotel Group' 'Acxiom' 'Arabesque' 'Bank Lombard Odier & Co'\n",
      " 'Berkley' 'Blenheim Chalcot' 'Brown Brothers Harriman & Co' 'CMS'\n",
      " 'Carbonplace' 'Civil Aviation Authority' 'Commoditas' 'Coople'\n",
      " 'Creative Artists Agency' 'Crystal Cruises' 'Enabling Functions'\n",
      " 'Equantiis' 'Equus Software' 'Farsight Consulting'\n",
      " 'Financial Ombudsman Service' 'Gorilla' 'Greyspark' 'H&M Group'\n",
      " 'Hugo & Cat' 'Landytech' 'Lombard International' 'Newham'\n",
      " 'Notting Hill Genesis' \"Parkinson's\" 'Salary Finance' 'Satago'\n",
      " 'Segantii Capital Management' 'SellerPlex' 'Societe Generale'\n",
      " 'Square Enix' 'TMP Worldwide Advertising & Communications'\n",
      " 'The NPD Group' 'Tickmill' 'Tower Research Capital' 'Turo'\n",
      " 'Vanderlande Industries B.V' 'Vista Global' 'WEX']\n"
     ]
    }
   ],
   "source": [
    "# Companies for which the industry value is None\n",
    "print(np.unique(df[df.isnull().any(axis=1)]['company'].values))"
   ]
  },
  {
   "cell_type": "code",
   "execution_count": 57,
   "id": "555454af",
   "metadata": {
    "ExecuteTime": {
     "end_time": "2023-04-20T20:15:06.433762Z",
     "start_time": "2023-04-20T20:15:06.357067Z"
    }
   },
   "outputs": [],
   "source": [
    "# Companies and their corresponding industries. These are for the missing values.\n",
    "industry_dict = {\n",
    "    'Creative Artists Agency': 'Entertainment',\n",
    "    'Lombard International': 'Insurance',\n",
    "    'Greyspark': 'Consultancy',\n",
    "    'Hugo & Cat': 'Advertising/Marketing',\n",
    "    'Vanderlande Industries B.V': 'Engineering & Manufacturing',\n",
    "    'Salary Finance': 'Financial Services',\n",
    "    'Crystal Cruises': 'Hospitality',\n",
    "    'H&M Group': 'Retail',\n",
    "    'Tickmill': 'Financial Services',\n",
    "    'Equantiis': 'Consultancy',\n",
    "    'Enabling Functions': 'Consultancy',\n",
    "    'Square Enix': 'Gaming',\n",
    "    'Acxiom': 'Technology',\n",
    "    'Turo': 'Transportation',\n",
    "    'Notting Hill Genesis': 'Real Estate',\n",
    "    'Segantii Capital Management': 'Investment',\n",
    "    \"Parkinson's\": 'Healthcare',\n",
    "    'Bank Lombard Odier & Co': 'Banking',\n",
    "    'Landytech': 'Technology',\n",
    "    'Carbonplace': 'Environmental',\n",
    "    'WEX': 'Payment',\n",
    "    'Equus Software': 'Technology',\n",
    "    'Financial Ombudsman Service': 'Financial Services',\n",
    "    'Brown Brothers Harriman & Co': 'Banking',\n",
    "    'Commoditas': 'Commodities',\n",
    "    'Tower Research Capital': 'Investment',\n",
    "    'Satago': 'Financial Services',\n",
    "    'Berkley': 'Insurance',\n",
    "    'SellerPlex': 'E-commerce',\n",
    "    'Blenheim Chalcot': 'Venture Capital',\n",
    "    'The NPD Group': 'Market Research',\n",
    "    'Civil Aviation Authority': 'Travel & Aviation',\n",
    "    'AXS': 'Ticketing',\n",
    "    'TMP Worldwide Advertising & Communications': 'Advertising/Marketing',\n",
    "    'Gorilla': 'Digital',\n",
    "    'Farsight Consulting': 'Consultancy',\n",
    "    'Coople': 'Staffing',\n",
    "    'Accor Hotel Group': 'Hospitality',\n",
    "    'Vista Global': 'Travel & Aviation',\n",
    "    'CMS': 'Legal',\n",
    "    'Newham': 'Government & Public Sector'\n",
    "}\n",
    "\n",
    "for key, value in industry_dict.items():\n",
    "    df.loc[df['company'] == key, 'industry'] = df.loc[df['company'] == key, 'industry'].fillna(value)"
   ]
  },
  {
   "cell_type": "code",
   "execution_count": 58,
   "id": "80604546",
   "metadata": {
    "ExecuteTime": {
     "end_time": "2023-04-20T20:15:07.762876Z",
     "start_time": "2023-04-20T20:15:07.754017Z"
    }
   },
   "outputs": [
    {
     "name": "stdout",
     "output_type": "stream",
     "text": [
      "['Arabesque' 'Societe Generale']\n"
     ]
    }
   ],
   "source": [
    "print(np.unique(df[df.isnull().any(axis=1)]['company'].values))"
   ]
  },
  {
   "cell_type": "code",
   "execution_count": 59,
   "id": "9c017084",
   "metadata": {
    "ExecuteTime": {
     "end_time": "2023-04-20T20:15:08.895465Z",
     "start_time": "2023-04-20T20:15:08.883018Z"
    }
   },
   "outputs": [],
   "source": [
    "df.loc[df['job_level'] == 'Permanent', 'job_level'] = 'Mid-Senior to Senior'"
   ]
  },
  {
   "cell_type": "code",
   "execution_count": 60,
   "id": "2189545e",
   "metadata": {
    "ExecuteTime": {
     "end_time": "2023-04-20T20:15:10.129072Z",
     "start_time": "2023-04-20T20:15:10.087298Z"
    }
   },
   "outputs": [],
   "source": [
    "# Save the refined dataset\n",
    "df.to_csv('df_refined.csv', index = False)"
   ]
  },
  {
   "cell_type": "code",
   "execution_count": 61,
   "id": "b1d0301b",
   "metadata": {
    "ExecuteTime": {
     "end_time": "2023-04-20T20:15:11.680118Z",
     "start_time": "2023-04-20T20:15:11.648290Z"
    }
   },
   "outputs": [
    {
     "data": {
      "text/html": [
       "<div>\n",
       "<style scoped>\n",
       "    .dataframe tbody tr th:only-of-type {\n",
       "        vertical-align: middle;\n",
       "    }\n",
       "\n",
       "    .dataframe tbody tr th {\n",
       "        vertical-align: top;\n",
       "    }\n",
       "\n",
       "    .dataframe thead th {\n",
       "        text-align: right;\n",
       "    }\n",
       "</style>\n",
       "<table border=\"1\" class=\"dataframe\">\n",
       "  <thead>\n",
       "    <tr style=\"text-align: right;\">\n",
       "      <th></th>\n",
       "      <th>title</th>\n",
       "      <th>company</th>\n",
       "      <th>job_level</th>\n",
       "      <th>salary</th>\n",
       "      <th>city</th>\n",
       "      <th>skills</th>\n",
       "      <th>industry</th>\n",
       "    </tr>\n",
       "  </thead>\n",
       "  <tbody>\n",
       "    <tr>\n",
       "      <th>0</th>\n",
       "      <td>Business Analyst/Tech BA (London) job  in London</td>\n",
       "      <td>Greyspark</td>\n",
       "      <td>Mid-Senior to Senior</td>\n",
       "      <td>Competitive</td>\n",
       "      <td>London</td>\n",
       "      <td>requirements gathering</td>\n",
       "      <td>Consultancy</td>\n",
       "    </tr>\n",
       "    <tr>\n",
       "      <th>1</th>\n",
       "      <td>Data Intake Business Analyst job  in London</td>\n",
       "      <td>SIX Group</td>\n",
       "      <td>Mid-Senior to Senior</td>\n",
       "      <td>Competitive</td>\n",
       "      <td>London</td>\n",
       "      <td>project management</td>\n",
       "      <td>Financial Services</td>\n",
       "    </tr>\n",
       "    <tr>\n",
       "      <th>2</th>\n",
       "      <td>Role: Commercial Finance Analyst - Internation...</td>\n",
       "      <td>Wayman Finance</td>\n",
       "      <td>Mid-Senior to Senior</td>\n",
       "      <td>Competitive</td>\n",
       "      <td>London</td>\n",
       "      <td>accounting</td>\n",
       "      <td>Financial Services</td>\n",
       "    </tr>\n",
       "    <tr>\n",
       "      <th>3</th>\n",
       "      <td>Business Analyst job  in London</td>\n",
       "      <td>Expleo</td>\n",
       "      <td>Mid-Senior to Senior</td>\n",
       "      <td>Competitive</td>\n",
       "      <td>London</td>\n",
       "      <td>data analysis</td>\n",
       "      <td>Consultancy</td>\n",
       "    </tr>\n",
       "    <tr>\n",
       "      <th>4</th>\n",
       "      <td>Business Analyst - T&amp;IO Solutions job  in London</td>\n",
       "      <td>M&amp;G</td>\n",
       "      <td>Mid-Senior to Senior</td>\n",
       "      <td>Competitive</td>\n",
       "      <td>London</td>\n",
       "      <td>product management</td>\n",
       "      <td>Financial Services</td>\n",
       "    </tr>\n",
       "  </tbody>\n",
       "</table>\n",
       "</div>"
      ],
      "text/plain": [
       "                                               title         company  \\\n",
       "0   Business Analyst/Tech BA (London) job  in London       Greyspark   \n",
       "1        Data Intake Business Analyst job  in London       SIX Group   \n",
       "2  Role: Commercial Finance Analyst - Internation...  Wayman Finance   \n",
       "3                    Business Analyst job  in London          Expleo   \n",
       "4   Business Analyst - T&IO Solutions job  in London             M&G   \n",
       "\n",
       "              job_level       salary    city                  skills  \\\n",
       "0  Mid-Senior to Senior  Competitive  London  requirements gathering   \n",
       "1  Mid-Senior to Senior  Competitive  London      project management   \n",
       "2  Mid-Senior to Senior  Competitive  London              accounting   \n",
       "3  Mid-Senior to Senior  Competitive  London           data analysis   \n",
       "4  Mid-Senior to Senior  Competitive  London      product management   \n",
       "\n",
       "             industry  \n",
       "0         Consultancy  \n",
       "1  Financial Services  \n",
       "2  Financial Services  \n",
       "3         Consultancy  \n",
       "4  Financial Services  "
      ]
     },
     "execution_count": 61,
     "metadata": {},
     "output_type": "execute_result"
    }
   ],
   "source": [
    "# read the dataframe\n",
    "df = pd.read_csv('df_refined.csv')\n",
    "df.head()"
   ]
  },
  {
   "cell_type": "markdown",
   "id": "b55c6b06",
   "metadata": {},
   "source": [
    "## Based on the data you have collected, and using Python, identify the most commonly required skill from your data set"
   ]
  },
  {
   "cell_type": "code",
   "execution_count": 62,
   "id": "3b134eb7",
   "metadata": {
    "ExecuteTime": {
     "end_time": "2023-04-20T20:15:14.284732Z",
     "start_time": "2023-04-20T20:15:14.271649Z"
    }
   },
   "outputs": [],
   "source": [
    "top_skills = df[['skills']].value_counts()[:10]\n",
    "top_skills_names = top_skills.index\n",
    "top_skills_names = [i[0] for i in top_skills_names]\n",
    "top_skills_values = top_skills.values\n",
    "top_skills = pd.DataFrame({'skills': top_skills_names, 'counts': top_skills_values})"
   ]
  },
  {
   "cell_type": "code",
   "execution_count": 63,
   "id": "d0c1c43f",
   "metadata": {
    "ExecuteTime": {
     "end_time": "2023-04-20T20:15:15.483716Z",
     "start_time": "2023-04-20T20:15:15.079738Z"
    }
   },
   "outputs": [
    {
     "data": {
      "image/png": "[encoded data removed]",
      "text/plain": [
       "<Figure size 576x432 with 1 Axes>"
      ]
     },
     "metadata": {
      "needs_background": "light"
     },
     "output_type": "display_data"
    }
   ],
   "source": [
    "# Create the bar plot\n",
    "ax = top_skills.plot(kind='barh', x='skills', y='counts', color='blue', figsize=(8,6))\n",
    "ax.set_xlabel('Counts')\n",
    "ax.set_ylabel('Skills')\n",
    "ax.set_title('Skill Counts')\n",
    "plt.show()"
   ]
  },
  {
   "cell_type": "markdown",
   "id": "bb8fd2c6",
   "metadata": {},
   "source": [
    "**The most required skill is Data Analysis**"
   ]
  },
  {
   "cell_type": "code",
   "execution_count": 64,
   "id": "651f9eda",
   "metadata": {
    "ExecuteTime": {
     "end_time": "2023-04-20T20:15:17.087535Z",
     "start_time": "2023-04-20T20:15:17.075572Z"
    }
   },
   "outputs": [
    {
     "data": {
      "text/plain": [
       "Financial Services             111\n",
       "Consultancy                     39\n",
       "Technology                      35\n",
       "Insurance                       26\n",
       "Media                           11\n",
       "Energy                          10\n",
       "Retail                          10\n",
       "Advertising/Marketing            8\n",
       "Fintech                          7\n",
       "Engineering & Manufacturing      7\n",
       "Name: industry, dtype: int64"
      ]
     },
     "execution_count": 64,
     "metadata": {},
     "output_type": "execute_result"
    }
   ],
   "source": [
    "df['industry'].value_counts()[:10]"
   ]
  },
  {
   "cell_type": "markdown",
   "id": "0e162c05",
   "metadata": {},
   "source": [
    "## Conduct a principal component analysis of the job postings, using the data you have collected."
   ]
  },
  {
   "cell_type": "code",
   "execution_count": 65,
   "id": "21bbbb89",
   "metadata": {
    "ExecuteTime": {
     "end_time": "2023-04-20T20:15:19.196100Z",
     "start_time": "2023-04-20T20:15:19.141210Z"
    }
   },
   "outputs": [],
   "source": [
    "# Create a matrix of the skills data. We will use skills data for PCA\n",
    "# and the component scores and the industry data while performing kmeans\n",
    "skills_matrix = df['skills'].str.get_dummies(sep=', ')\n",
    "industry_matrix = df['industry'].str.get_dummies(sep=', ')\n",
    "\n",
    "# Perform PCA on the skills matrix\n",
    "num_components = 40\n",
    "pca = PCA(n_components=num_components, random_state = 42)\n",
    "pca.fit(skills_matrix)\n",
    "\n",
    "####################################################################\n",
    "# component scores\n",
    "####################################################################\n",
    "component_scores = pca.transform(skills_matrix)"
   ]
  },
  {
   "cell_type": "markdown",
   "id": "802d4f35",
   "metadata": {},
   "source": [
    "### a. how many components to select — here you should justify your choice based on statistical and interpretation arguments, and"
   ]
  },
  {
   "cell_type": "code",
   "execution_count": 78,
   "id": "052979e7",
   "metadata": {
    "ExecuteTime": {
     "end_time": "2023-04-20T20:47:33.640382Z",
     "start_time": "2023-04-20T20:47:32.961323Z"
    }
   },
   "outputs": [
    {
     "data": {
      "image/png": "[encoded data removed]",
      "text/plain": [
       "<Figure size 1080x432 with 1 Axes>"
      ]
     },
     "metadata": {},
     "output_type": "display_data"
    }
   ],
   "source": [
    "# Extract the eigenvalues and eigenvectors\n",
    "eigenvalues = pca.explained_variance_\n",
    "eigenvectors = pca.components_\n",
    "\n",
    "# Define the plot size and style\n",
    "plt.figure(figsize=(15,6))\n",
    "plt.style.use('ggplot')\n",
    "\n",
    "# Create the Shree plot\n",
    "sns.lineplot(pca.explained_variance_, color='blue', linewidth=1, marker='o')\n",
    "\n",
    "# Add axis labels and a title\n",
    "plt.xlabel('Number of Components')\n",
    "plt.ylabel('Cumulative Explained Variance')\n",
    "plt.title('Scree Plot for PCA')\n",
    "\n",
    "# Show the plot\n",
    "plt.show()"
   ]
  },
  {
   "cell_type": "markdown",
   "id": "c23a42e5",
   "metadata": {},
   "source": [
    "**We have used Scree plot to determine the number of components. After analysing Scree plot, we will use 5 as the number of components because the curve starts to level off from that point.**"
   ]
  },
  {
   "cell_type": "code",
   "execution_count": 67,
   "id": "db6ac09c",
   "metadata": {
    "ExecuteTime": {
     "end_time": "2023-04-20T20:15:46.100277Z",
     "start_time": "2023-04-20T20:15:46.083197Z"
    }
   },
   "outputs": [],
   "source": [
    "# Perform PCA after scree plot\n",
    "num_components = 5\n",
    "pca = PCA(n_components=num_components, random_state = 42)\n",
    "pca.fit(skills_matrix)\n",
    "\n",
    "####################################################################\n",
    "# component scores\n",
    "####################################################################\n",
    "component_scores = pca.transform(skills_matrix)"
   ]
  },
  {
   "cell_type": "code",
   "execution_count": 68,
   "id": "d55d54bd",
   "metadata": {
    "ExecuteTime": {
     "end_time": "2023-04-20T20:15:47.078782Z",
     "start_time": "2023-04-20T20:15:47.049604Z"
    }
   },
   "outputs": [
    {
     "data": {
      "text/html": [
       "<div>\n",
       "<style scoped>\n",
       "    .dataframe tbody tr th:only-of-type {\n",
       "        vertical-align: middle;\n",
       "    }\n",
       "\n",
       "    .dataframe tbody tr th {\n",
       "        vertical-align: top;\n",
       "    }\n",
       "\n",
       "    .dataframe thead th {\n",
       "        text-align: right;\n",
       "    }\n",
       "</style>\n",
       "<table border=\"1\" class=\"dataframe\">\n",
       "  <thead>\n",
       "    <tr style=\"text-align: right;\">\n",
       "      <th></th>\n",
       "      <th>Component 1</th>\n",
       "      <th>Component 2</th>\n",
       "      <th>Component 3</th>\n",
       "      <th>Component 4</th>\n",
       "      <th>Component 5</th>\n",
       "      <th>Advertising/Marketing</th>\n",
       "      <th>Banking</th>\n",
       "      <th>Charity &amp; Not For Profit</th>\n",
       "      <th>Commodities</th>\n",
       "      <th>Consultancy</th>\n",
       "      <th>...</th>\n",
       "      <th>Property &amp; Construction</th>\n",
       "      <th>Real Estate</th>\n",
       "      <th>Retail</th>\n",
       "      <th>Security &amp; Defence</th>\n",
       "      <th>Staffing</th>\n",
       "      <th>Technology</th>\n",
       "      <th>Ticketing</th>\n",
       "      <th>Transportation</th>\n",
       "      <th>Travel &amp; Aviation</th>\n",
       "      <th>Venture Capital</th>\n",
       "    </tr>\n",
       "  </thead>\n",
       "  <tbody>\n",
       "    <tr>\n",
       "      <th>0</th>\n",
       "      <td>-0.182125</td>\n",
       "      <td>-0.436589</td>\n",
       "      <td>-0.698714</td>\n",
       "      <td>-0.385071</td>\n",
       "      <td>0.115253</td>\n",
       "      <td>0</td>\n",
       "      <td>0</td>\n",
       "      <td>0</td>\n",
       "      <td>0</td>\n",
       "      <td>1</td>\n",
       "      <td>...</td>\n",
       "      <td>0</td>\n",
       "      <td>0</td>\n",
       "      <td>0</td>\n",
       "      <td>0</td>\n",
       "      <td>0</td>\n",
       "      <td>0</td>\n",
       "      <td>0</td>\n",
       "      <td>0</td>\n",
       "      <td>0</td>\n",
       "      <td>0</td>\n",
       "    </tr>\n",
       "    <tr>\n",
       "      <th>1</th>\n",
       "      <td>-0.404697</td>\n",
       "      <td>0.793007</td>\n",
       "      <td>-0.063935</td>\n",
       "      <td>-0.200381</td>\n",
       "      <td>0.078419</td>\n",
       "      <td>0</td>\n",
       "      <td>0</td>\n",
       "      <td>0</td>\n",
       "      <td>0</td>\n",
       "      <td>0</td>\n",
       "      <td>...</td>\n",
       "      <td>0</td>\n",
       "      <td>0</td>\n",
       "      <td>0</td>\n",
       "      <td>0</td>\n",
       "      <td>0</td>\n",
       "      <td>0</td>\n",
       "      <td>0</td>\n",
       "      <td>0</td>\n",
       "      <td>0</td>\n",
       "      <td>0</td>\n",
       "    </tr>\n",
       "    <tr>\n",
       "      <th>2</th>\n",
       "      <td>-0.048568</td>\n",
       "      <td>-0.049880</td>\n",
       "      <td>0.014364</td>\n",
       "      <td>0.106713</td>\n",
       "      <td>-0.085462</td>\n",
       "      <td>0</td>\n",
       "      <td>0</td>\n",
       "      <td>0</td>\n",
       "      <td>0</td>\n",
       "      <td>0</td>\n",
       "      <td>...</td>\n",
       "      <td>0</td>\n",
       "      <td>0</td>\n",
       "      <td>0</td>\n",
       "      <td>0</td>\n",
       "      <td>0</td>\n",
       "      <td>0</td>\n",
       "      <td>0</td>\n",
       "      <td>0</td>\n",
       "      <td>0</td>\n",
       "      <td>0</td>\n",
       "    </tr>\n",
       "    <tr>\n",
       "      <th>3</th>\n",
       "      <td>0.867507</td>\n",
       "      <td>0.181066</td>\n",
       "      <td>-0.030588</td>\n",
       "      <td>-0.127182</td>\n",
       "      <td>0.056681</td>\n",
       "      <td>0</td>\n",
       "      <td>0</td>\n",
       "      <td>0</td>\n",
       "      <td>0</td>\n",
       "      <td>1</td>\n",
       "      <td>...</td>\n",
       "      <td>0</td>\n",
       "      <td>0</td>\n",
       "      <td>0</td>\n",
       "      <td>0</td>\n",
       "      <td>0</td>\n",
       "      <td>0</td>\n",
       "      <td>0</td>\n",
       "      <td>0</td>\n",
       "      <td>0</td>\n",
       "      <td>0</td>\n",
       "    </tr>\n",
       "    <tr>\n",
       "      <th>4</th>\n",
       "      <td>-0.068728</td>\n",
       "      <td>-0.077250</td>\n",
       "      <td>0.024273</td>\n",
       "      <td>0.218161</td>\n",
       "      <td>-0.281685</td>\n",
       "      <td>0</td>\n",
       "      <td>0</td>\n",
       "      <td>0</td>\n",
       "      <td>0</td>\n",
       "      <td>0</td>\n",
       "      <td>...</td>\n",
       "      <td>0</td>\n",
       "      <td>0</td>\n",
       "      <td>0</td>\n",
       "      <td>0</td>\n",
       "      <td>0</td>\n",
       "      <td>0</td>\n",
       "      <td>0</td>\n",
       "      <td>0</td>\n",
       "      <td>0</td>\n",
       "      <td>0</td>\n",
       "    </tr>\n",
       "  </tbody>\n",
       "</table>\n",
       "<p>5 rows × 41 columns</p>\n",
       "</div>"
      ],
      "text/plain": [
       "   Component 1  Component 2  Component 3  Component 4  Component 5  \\\n",
       "0    -0.182125    -0.436589    -0.698714    -0.385071     0.115253   \n",
       "1    -0.404697     0.793007    -0.063935    -0.200381     0.078419   \n",
       "2    -0.048568    -0.049880     0.014364     0.106713    -0.085462   \n",
       "3     0.867507     0.181066    -0.030588    -0.127182     0.056681   \n",
       "4    -0.068728    -0.077250     0.024273     0.218161    -0.281685   \n",
       "\n",
       "   Advertising/Marketing  Banking  Charity & Not For Profit  Commodities  \\\n",
       "0                      0        0                         0            0   \n",
       "1                      0        0                         0            0   \n",
       "2                      0        0                         0            0   \n",
       "3                      0        0                         0            0   \n",
       "4                      0        0                         0            0   \n",
       "\n",
       "   Consultancy  ...  Property & Construction  Real Estate  Retail  \\\n",
       "0            1  ...                        0            0       0   \n",
       "1            0  ...                        0            0       0   \n",
       "2            0  ...                        0            0       0   \n",
       "3            1  ...                        0            0       0   \n",
       "4            0  ...                        0            0       0   \n",
       "\n",
       "   Security & Defence  Staffing  Technology  Ticketing  Transportation  \\\n",
       "0                   0         0           0          0               0   \n",
       "1                   0         0           0          0               0   \n",
       "2                   0         0           0          0               0   \n",
       "3                   0         0           0          0               0   \n",
       "4                   0         0           0          0               0   \n",
       "\n",
       "   Travel & Aviation  Venture Capital  \n",
       "0                  0                0  \n",
       "1                  0                0  \n",
       "2                  0                0  \n",
       "3                  0                0  \n",
       "4                  0                0  \n",
       "\n",
       "[5 rows x 41 columns]"
      ]
     },
     "execution_count": 68,
     "metadata": {},
     "output_type": "execute_result"
    }
   ],
   "source": [
    "component_names = [f'Component {i}' for i in range(1, num_components + 1)]\n",
    "component_df = pd.DataFrame(component_scores, columns=component_names)\n",
    "\n",
    "# combining component scores and industry data\n",
    "component_df = pd.concat([component_df, industry_matrix], axis = 1)\n",
    "component_df.head()"
   ]
  },
  {
   "cell_type": "markdown",
   "id": "025201c0",
   "metadata": {},
   "source": [
    "## b. How to interpret the selected components?"
   ]
  },
  {
   "cell_type": "code",
   "execution_count": 69,
   "id": "49541925",
   "metadata": {
    "ExecuteTime": {
     "end_time": "2023-04-20T20:15:49.902340Z",
     "start_time": "2023-04-20T20:15:49.883752Z"
    },
    "scrolled": true
   },
   "outputs": [
    {
     "name": "stdout",
     "output_type": "stream",
     "text": [
      "Loadings for PC1:\n",
      "[-0.0051002  -0.02823665 -0.00117192 -0.00117192 -0.00240879 -0.00117192\n",
      " -0.0051002  -0.00117192 -0.0051002  -0.01999199 -0.00117192  0.91097501\n",
      " -0.00240879 -0.0051002  -0.00240879 -0.00117192 -0.00240879 -0.00240879\n",
      " -0.00117192 -0.04805408 -0.00117192 -0.00371614 -0.0065679  -0.00240879\n",
      " -0.00117192 -0.12060904 -0.00978655 -0.00371614 -0.0065679  -0.02526028\n",
      " -0.36122932 -0.00117192 -0.00117192 -0.0051002  -0.00117192 -0.13865665\n",
      " -0.00117192 -0.02252115 -0.00117192 -0.00812708 -0.00812708 -0.00117192\n",
      " -0.0051002  -0.00240879 -0.02526028 -0.00240879 -0.00240879 -0.00117192\n",
      " -0.00117192 -0.00117192 -0.00117192]\n",
      "\n",
      "Variable contributions to PC1:\n",
      "[0.00279931 0.01549804 0.00064322 0.00064322 0.00132209 0.00064322\n",
      " 0.00279931 0.00064322 0.00279931 0.01097285 0.00064322 0.5\n",
      " 0.00132209 0.00279931 0.00132209 0.00064322 0.00132209 0.00132209\n",
      " 0.00064322 0.02637508 0.00064322 0.00203965 0.00360488 0.00132209\n",
      " 0.00064322 0.06619778 0.00537147 0.00203965 0.00360488 0.01386442\n",
      " 0.19826522 0.00064322 0.00064322 0.00279931 0.00064322 0.07610343\n",
      " 0.00064322 0.01236101 0.00064322 0.00446065 0.00446065 0.00064322\n",
      " 0.00279931 0.00132209 0.01386442 0.00132209 0.00132209 0.00064322\n",
      " 0.00064322 0.00064322 0.00064322]\n",
      "--------------------------------------------------------------------------------\n",
      "Loadings for PC2:\n",
      "[-0.00619156 -0.03804601 -0.00139917 -0.00139917 -0.00289093 -0.00139917\n",
      " -0.00619156 -0.00139917 -0.00619156 -0.025922   -0.00139917  0.22475511\n",
      " -0.00289093 -0.00619156 -0.00289093 -0.00139917 -0.00289093 -0.00289093\n",
      " -0.00139917 -0.07147623 -0.00139917 -0.00448477 -0.00802373 -0.00289093\n",
      " -0.00139917 -0.28955718 -0.01212387 -0.00448477 -0.00802373 -0.03356117\n",
      "  0.83669553 -0.00139917 -0.00139917 -0.00619156 -0.00139917 -0.39289992\n",
      " -0.00139917 -0.02954291 -0.00139917 -0.00999562 -0.00999562 -0.00139917\n",
      " -0.00619156 -0.00289093 -0.03356117 -0.00289093 -0.00289093 -0.00139917\n",
      " -0.00139917 -0.00139917 -0.00139917]\n",
      "\n",
      "Variable contributions to PC2:\n",
      "[0.00279931 0.01549804 0.00064322 0.00064322 0.00132209 0.00064322\n",
      " 0.00279931 0.00064322 0.00279931 0.01097285 0.00064322 0.5\n",
      " 0.00132209 0.00279931 0.00132209 0.00064322 0.00132209 0.00132209\n",
      " 0.00064322 0.02637508 0.00064322 0.00203965 0.00360488 0.00132209\n",
      " 0.00064322 0.06619778 0.00537147 0.00203965 0.00360488 0.01386442\n",
      " 0.19826522 0.00064322 0.00064322 0.00279931 0.00064322 0.07610343\n",
      " 0.00064322 0.01236101 0.00064322 0.00446065 0.00446065 0.00064322\n",
      " 0.00279931 0.00132209 0.01386442 0.00132209 0.00132209 0.00064322\n",
      " 0.00064322 0.00064322 0.00064322]\n",
      "--------------------------------------------------------------------------------\n",
      "Loadings for PC3:\n",
      "[ 2.01630810e-03  1.37237421e-02  4.49079597e-04  4.49079597e-04\n",
      "  9.32056604e-04  4.49079597e-04  2.01630810e-03  4.49079597e-04\n",
      "  2.01630810e-03  8.98237687e-03  4.49079597e-04 -4.29363534e-02\n",
      "  9.32056604e-04  2.01630810e-03  9.32056604e-04  4.49079597e-04\n",
      "  9.32056604e-04  9.32056604e-04  4.49079597e-04  2.90666080e-02\n",
      "  4.49079597e-04  1.45291951e-03  2.62765201e-03  9.32056604e-04\n",
      "  4.49079597e-04  6.96512644e-01  4.02097604e-03  1.45291951e-03\n",
      "  2.62765201e-03  1.19252390e-02 -7.62835369e-02  4.49079597e-04\n",
      "  4.49079597e-04  2.01630810e-03  4.49079597e-04 -7.11062496e-01\n",
      "  4.49079597e-04  1.03588548e-02  4.49079597e-04  3.29334631e-03\n",
      "  3.29334631e-03  4.49079597e-04  2.01630810e-03  9.32056604e-04\n",
      "  1.19252390e-02  9.32056604e-04  9.32056604e-04  4.49079597e-04\n",
      "  4.49079597e-04  4.49079597e-04  4.49079597e-04]\n",
      "\n",
      "Variable contributions to PC3:\n",
      "[0.00279931 0.01549804 0.00064322 0.00064322 0.00132209 0.00064322\n",
      " 0.00279931 0.00064322 0.00279931 0.01097285 0.00064322 0.5\n",
      " 0.00132209 0.00279931 0.00132209 0.00064322 0.00132209 0.00132209\n",
      " 0.00064322 0.02637508 0.00064322 0.00203965 0.00360488 0.00132209\n",
      " 0.00064322 0.06619778 0.00537147 0.00203965 0.00360488 0.01386442\n",
      " 0.19826522 0.00064322 0.00064322 0.00279931 0.00064322 0.07610343\n",
      " 0.00064322 0.01236101 0.00064322 0.00446065 0.00446065 0.00064322\n",
      " 0.00279931 0.00132209 0.01386442 0.00132209 0.00132209 0.00064322\n",
      " 0.00064322 0.00064322 0.00064322]\n",
      "--------------------------------------------------------------------------------\n",
      "Loadings for PC4:\n",
      "[ 0.01810605  0.15499475  0.00392499  0.00392499  0.00821382  0.00392499\n",
      "  0.01810605  0.00392499  0.01810605  0.0918592   0.00392499 -0.21578912\n",
      "  0.00821382  0.01810605  0.00821382  0.00392499  0.00821382  0.00821382\n",
      "  0.00392499  0.49567832  0.00392499  0.01291954  0.02385099  0.00821382\n",
      "  0.00392499 -0.56070411  0.03742046  0.01291954  0.02385099  0.12955379\n",
      " -0.28898864  0.00392499  0.00392499  0.01810605  0.00392499 -0.47367852\n",
      "  0.00392499  0.10892428  0.00392499  0.03024968  0.03024968  0.00392499\n",
      "  0.01810605  0.00821382  0.12955379  0.00821382  0.00821382  0.00392499\n",
      "  0.00392499  0.00392499  0.00392499]\n",
      "\n",
      "Variable contributions to PC4:\n",
      "[0.00279931 0.01549804 0.00064322 0.00064322 0.00132209 0.00064322\n",
      " 0.00279931 0.00064322 0.00279931 0.01097285 0.00064322 0.5\n",
      " 0.00132209 0.00279931 0.00132209 0.00064322 0.00132209 0.00132209\n",
      " 0.00064322 0.02637508 0.00064322 0.00203965 0.00360488 0.00132209\n",
      " 0.00064322 0.06619778 0.00537147 0.00203965 0.00360488 0.01386442\n",
      " 0.19826522 0.00064322 0.00064322 0.00279931 0.00064322 0.07610343\n",
      " 0.00064322 0.01236101 0.00064322 0.00446065 0.00446065 0.00064322\n",
      " 0.00279931 0.00132209 0.01386442 0.00132209 0.00132209 0.00064322\n",
      " 0.00064322 0.00064322 0.00064322]\n",
      "--------------------------------------------------------------------------------\n",
      "Loadings for PC5:\n",
      "[-0.01862384 -0.29879778 -0.00385114 -0.00385114 -0.00817322 -0.00385114\n",
      " -0.01862384 -0.00385114 -0.01862384 -0.12620168 -0.00385114  0.12351849\n",
      " -0.00817322 -0.01862384 -0.00817322 -0.00385114 -0.00817322 -0.00817322\n",
      " -0.00385114  0.81278715 -0.00385114 -0.01305824 -0.02502291 -0.00817322\n",
      " -0.00385114  0.19404117 -0.04120222 -0.01305824 -0.02502291 -0.21484667\n",
      "  0.14525649 -0.00385114 -0.00385114 -0.01862384 -0.00385114  0.18209121\n",
      " -0.00385114 -0.16224786 -0.00385114 -0.03245781 -0.03245781 -0.00385114\n",
      " -0.01862384 -0.00817322 -0.21484667 -0.00817322 -0.00817322 -0.00385114\n",
      " -0.00385114 -0.00385114 -0.00385114]\n",
      "\n",
      "Variable contributions to PC5:\n",
      "[0.00279931 0.01549804 0.00064322 0.00064322 0.00132209 0.00064322\n",
      " 0.00279931 0.00064322 0.00279931 0.01097285 0.00064322 0.5\n",
      " 0.00132209 0.00279931 0.00132209 0.00064322 0.00132209 0.00132209\n",
      " 0.00064322 0.02637508 0.00064322 0.00203965 0.00360488 0.00132209\n",
      " 0.00064322 0.06619778 0.00537147 0.00203965 0.00360488 0.01386442\n",
      " 0.19826522 0.00064322 0.00064322 0.00279931 0.00064322 0.07610343\n",
      " 0.00064322 0.01236101 0.00064322 0.00446065 0.00446065 0.00064322\n",
      " 0.00279931 0.00132209 0.01386442 0.00132209 0.00132209 0.00064322\n",
      " 0.00064322 0.00064322 0.00064322]\n",
      "--------------------------------------------------------------------------------\n"
     ]
    }
   ],
   "source": [
    "# Get the loadings for each principal component\n",
    "loadings = pca.components_\n",
    "\n",
    "for i in range(0, num_components):\n",
    "    # Print the loadings for the first principal component\n",
    "    print(f\"Loadings for PC{i + 1}:\")\n",
    "    print(loadings[i])\n",
    "\n",
    "    # Get the contribution of each variable to the first principal component\n",
    "    pc1_loadings = abs(loadings[0])\n",
    "    pc1_loadings = pc1_loadings / np.sum(pc1_loadings)\n",
    "    print('')\n",
    "    # Print the variable contributions to the first principal component\n",
    "    print(f\"Variable contributions to PC{i + 1}:\")\n",
    "    print(pc1_loadings)\n",
    "    print('-' * 80)"
   ]
  },
  {
   "cell_type": "markdown",
   "id": "02ee4082",
   "metadata": {
    "ExecuteTime": {
     "end_time": "2023-04-20T20:18:53.862742Z",
     "start_time": "2023-04-20T20:18:53.844801Z"
    }
   },
   "source": [
    "**Loadings refer to the correlation between each variable and the principal component, indicating the strength and direction of their relationship. Positive loadings indicate that the variable is positively correlated with the principal component, while negative loadings indicate a negative correlation.**\n",
    "\n",
    "**Looking at the given values, we can see that for both PC1 and PC2, the variables with the highest loadings are the 11th variable (with a loading of 0.9109) and the 30th variable (with a loading of 0.8366). These variables are the strongest contributors to these components. The variable contributions for both components are the same and are equal to 0.5, indicating that all variables contribute equally to these components.**\n",
    "\n",
    "**Looking at the loadings for PC3 and PC4, it seems that PC3 is most influenced by variables 10, 29, and 35, while PC4 is most influenced by variables 10, 29, and 34. However, many of the variables have non-zero loadings for both PC3 and PC4, which suggests that they share some level of influence over these components.**\n",
    "\n",
    "**The variable contributions to PC3 and PC4 are identical, indicating that the same variables are driving both components to a similar extent. Specifically, variables 10, 29, and 35 have the highest contributions to PC3, while variables 10, 29, and 34 have the highest contributions to PC4. This reinforces the notion that these variables are particularly important for both components.**\n",
    "\n",
    "**The variable contributions for both PC3 and PC4 are very small for most of the variables, indicating that they don't contribute much to these components.**\n",
    "\n",
    "**PC5 has a proportionally smaller amount of variance explained compared to the first four principal components. The loadings for PC5 show that several variables have small but negative coefficients, while some have positive coefficients.**\n",
    "\n",
    "**The variable contributions to PC5 indicate that variable 11 (with a contribution of 0.5) has the highest influence on this component, while variable 19 has the second-highest contribution of 0.0263. The remaining variables have relatively small contributions.**"
   ]
  },
  {
   "cell_type": "markdown",
   "id": "d62f7f02",
   "metadata": {
    "ExecuteTime": {
     "end_time": "2023-04-20T20:20:50.328602Z",
     "start_time": "2023-04-20T20:20:50.323878Z"
    }
   },
   "source": [
    "## Performing Elbow method"
   ]
  },
  {
   "cell_type": "code",
   "execution_count": 73,
   "id": "f85051c9",
   "metadata": {
    "ExecuteTime": {
     "end_time": "2023-04-20T20:31:18.592042Z",
     "start_time": "2023-04-20T20:31:17.525480Z"
    }
   },
   "outputs": [
    {
     "data": {
      "image/png": "[encoded data removed]",
      "text/plain": [
       "<Figure size 720x360 with 1 Axes>"
      ]
     },
     "metadata": {},
     "output_type": "display_data"
    }
   ],
   "source": [
    "# Determine how many clusters to select\n",
    "inertias = []\n",
    "for k in range(1, 10):\n",
    "    kmeans = KMeans(n_clusters=k, random_state=42, init = 'k-means++')\n",
    "    kmeans.fit(component_df)\n",
    "    inertias.append(kmeans.inertia_)\n",
    "plt.figure(figsize = (10, 5))\n",
    "plt.plot(range(1, 10), inertias)\n",
    "plt.xlabel('Number of clusters')\n",
    "\n",
    "plt.ylabel('WCSS')\n",
    "plt.show()"
   ]
  },
  {
   "cell_type": "markdown",
   "id": "c9eba125",
   "metadata": {},
   "source": [
    "## How many clusters should be picked — here you should justify your choice based on statistical and interpretation arguments."
   ]
  },
  {
   "cell_type": "markdown",
   "id": "8f5f76a2",
   "metadata": {},
   "source": [
    "**After analyzing the WCSS plot, we have identified the elbow point at 2 where the WCSS curve starts to level off. Therefore, we have decided to choose 2 clusters as the optimal number of clusters for our analysis.**"
   ]
  },
  {
   "cell_type": "markdown",
   "id": "d6bd2154",
   "metadata": {},
   "source": [
    "## Perform K-means clustering on the component scores and other data from the original dataset\n",
    "\n",
    "## Also create a profile of your clusters, using heat maps and/or snake plots."
   ]
  },
  {
   "cell_type": "markdown",
   "id": "07e9f499",
   "metadata": {},
   "source": [
    "### Test case 1"
   ]
  },
  {
   "cell_type": "code",
   "execution_count": 74,
   "id": "faafad77",
   "metadata": {
    "ExecuteTime": {
     "end_time": "2023-04-20T20:31:22.098382Z",
     "start_time": "2023-04-20T20:31:22.005208Z"
    }
   },
   "outputs": [],
   "source": [
    "# Perform K-means clustering on the component scores and other data from the original dataset\n",
    "kmeans = KMeans(n_clusters=2, random_state=42, init = 'k-means++')\n",
    "cluster_labels = kmeans.fit_predict(component_df)\n",
    "\n",
    "component_df['cluster'] = cluster_labels"
   ]
  },
  {
   "cell_type": "code",
   "execution_count": 75,
   "id": "08574790",
   "metadata": {
    "ExecuteTime": {
     "end_time": "2023-04-20T20:31:23.874836Z",
     "start_time": "2023-04-20T20:31:22.988540Z"
    }
   },
   "outputs": [
    {
     "data": {
      "image/png": "[encoded data removed]",
      "text/plain": [
       "<Figure size 1368x576 with 2 Axes>"
      ]
     },
     "metadata": {},
     "output_type": "display_data"
    }
   ],
   "source": [
    "# Create a profile of the clusters\n",
    "\n",
    "cluster_means = component_df.groupby('cluster').mean()\n",
    "fig, ax = plt.subplots(figsize=(19, 8))\n",
    "sns.heatmap(cluster_means, cmap='coolwarm', center=0, annot=True, ax=ax, annot_kws={\"rotation\": 90})\n",
    "plt.yticks(rotation=0)\n",
    "plt.title('Cluster profiles')\n",
    "plt.show()"
   ]
  },
  {
   "cell_type": "markdown",
   "id": "4b20732f",
   "metadata": {},
   "source": [
    "## Test Case 2"
   ]
  },
  {
   "cell_type": "code",
   "execution_count": 76,
   "id": "98dba40e",
   "metadata": {
    "ExecuteTime": {
     "end_time": "2023-04-20T20:31:25.319805Z",
     "start_time": "2023-04-20T20:31:25.206099Z"
    }
   },
   "outputs": [],
   "source": [
    "# Perform K-means clustering on the component scores and other data from the original dataset\n",
    "kmeans = KMeans(n_clusters=6, init = 'k-means++', random_state=42)\n",
    "cluster_labels = kmeans.fit_predict(component_df)\n",
    "\n",
    "component_df['cluster'] = cluster_labels"
   ]
  },
  {
   "cell_type": "code",
   "execution_count": 77,
   "id": "5c1692f1",
   "metadata": {
    "ExecuteTime": {
     "end_time": "2023-04-20T20:31:27.549257Z",
     "start_time": "2023-04-20T20:31:26.177776Z"
    }
   },
   "outputs": [
    {
     "data": {
      "image/png": "[encoded data removed]",
      "text/plain": [
       "<Figure size 1368x576 with 2 Axes>"
      ]
     },
     "metadata": {},
     "output_type": "display_data"
    }
   ],
   "source": [
    "# Create a profile of the clusters\n",
    "\n",
    "cluster_means = component_df.groupby('cluster').mean()\n",
    "fig, ax = plt.subplots(figsize=(19, 8))\n",
    "sns.heatmap(cluster_means, cmap='coolwarm', center=0, annot=True, ax=ax, annot_kws={\"rotation\": 90})\n",
    "plt.yticks(rotation=0)\n",
    "plt.title('Cluster profiles')\n",
    "plt.show()"
   ]
  },
  {
   "cell_type": "markdown",
   "id": "ba8c00d3",
   "metadata": {},
   "source": [
    "## Describe the key features of job postings in each cluster"
   ]
  },
  {
   "cell_type": "markdown",
   "id": "85a4e652",
   "metadata": {},
   "source": [
    "In test case one, we have used 2 as the number of clusters according to the Elbow plot, but we can cleary see that most of the clusters have no or very less value for most of the industries and the components. Cluster 1 has high value for Financial Services.\n",
    "\n",
    "For second test case, we have selected a random the number for number of clusters, that is 6 in our case, to see the result. Here the result is slightly improved for the components. Cluster 0 has high value for Technology, Cluster 1 and cluster 5 have high values for Financial services. Cluster 2 has high value for Insurence, and Cluster 3 has high value for Consultancy."
   ]
  },
  {
   "cell_type": "code",
   "execution_count": null,
   "id": "dba749a4",
   "metadata": {},
   "outputs": [],
   "source": []
  }
 ],
 "metadata": {
  "kernelspec": {
   "display_name": "Python 3 (ipykernel)",
   "language": "python",
   "name": "python3"
  },
  "language_info": {
   "codemirror_mode": {
    "name": "ipython",
    "version": 3
   },
   "file_extension": ".py",
   "mimetype": "text/x-python",
   "name": "python",
   "nbconvert_exporter": "python",
   "pygments_lexer": "ipython3",
   "version": "3.9.12"
  },
  "toc": {
   "base_numbering": 1,
   "nav_menu": {},
   "number_sections": true,
   "sideBar": true,
   "skip_h1_title": false,
   "title_cell": "Table of Contents",
   "title_sidebar": "Contents",
   "toc_cell": false,
   "toc_position": {},
   "toc_section_display": true,
   "toc_window_display": false
  },
  "varInspector": {
   "cols": {
    "lenName": 16,
    "lenType": 16,
    "lenVar": 40
   },
   "kernels_config": {
    "python": {
     "delete_cmd_postfix": "",
     "delete_cmd_prefix": "del ",
     "library": "var_list.py",
     "varRefreshCmd": "print(var_dic_list())"
    },
    "r": {
     "delete_cmd_postfix": ") ",
     "delete_cmd_prefix": "rm(",
     "library": "var_list.r",
     "varRefreshCmd": "cat(var_dic_list()) "
    }
   },
   "types_to_exclude": [
    "module",
    "function",
    "builtin_function_or_method",
    "instance",
    "_Feature"
   ],
   "window_display": false
  }
 },
 "nbformat": 4,
 "nbformat_minor": 5
}
