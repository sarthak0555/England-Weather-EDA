{
 "cells": [
  {
   "cell_type": "markdown",
   "metadata": {
    "papermill": {
     "duration": 0.048474,
     "end_time": "2022-10-16T07:47:26.420010",
     "exception": false,
     "start_time": "2022-10-16T07:47:26.371536",
     "status": "completed"
    },
    "tags": []
   },
   "source": [
    "## Attrition:- ***company losing its customer base***\n",
    "\n",
    "**Attrition is a process in which the workforce dwindles at a company, following a period in which a number of people retire or resign, and are not replaced.**\n",
    "- A reduction in staff due to attrition is often called a hiring freeze and is seen as a less disruptive way to trim the workforce and reduce payroll than layoffs\n",
    "- In this NoteBook our Aim will be to analyze the datasets completely wrt each and feature and find the reasin behind Attrition of Employees.\n",
    "- And what the top factors which lead to employee attrition?"
   ]
  },
  {
   "cell_type": "markdown",
   "metadata": {
    "papermill": {
     "duration": 0.047707,
     "end_time": "2022-10-16T07:47:26.516805",
     "exception": false,
     "start_time": "2022-10-16T07:47:26.469098",
     "status": "completed"
    },
    "tags": []
   },
   "source": [
    "### Description about the data\n",
    "Education 1 'Below College' 2 'College' 3 'Bachelor' 4 'Master' 5 'Doctor'\n",
    "\n",
    "EnvironmentSatisfaction 1 'Low' 2 'Medium' 3 'High' 4 'Very High'\n",
    "\n",
    "JobInvolvement 1 'Low' 2 'Medium' 3 'High' 4 'Very High'\n",
    "\n",
    "JobSatisfaction 1 'Low' 2 'Medium' 3 'High' 4 'Very High'\n",
    "\n",
    "PerformanceRating 1 'Low' 2 'Good' 3 'Excellent' 4 'Outstanding'\n",
    "\n",
    "RelationshipSatisfaction 1 'Low' 2 'Medium' 3 'High' 4 'Very High'\n",
    "\n",
    "WorkLifeBalance 1 'Bad' 2 'Good' 3 'Better' 4 'Best'"
   ]
  },
  {
   "cell_type": "markdown",
   "metadata": {
    "papermill": {
     "duration": 0.047771,
     "end_time": "2022-10-16T07:47:26.611795",
     "exception": false,
     "start_time": "2022-10-16T07:47:26.564024",
     "status": "completed"
    },
    "tags": []
   },
   "source": [
    "\n",
    "### *Additinal Description Which will help to understand the features*\n",
    "\n",
    "**Hourly Rate:**  An hourly employee is paid a wage for each hour worked, unlike a salaried employee.\n",
    "\n",
    "**EmployeeNumber:** An Employee Number is a unique number that has been assigned to each current and former State employee and elected official in the Position and Personnel DataBase (PPDB).\n",
    "\n",
    "**JobLevel:** Job levels, also known as job grades and classifications, set the responsibility level and expectations of roles at your organization. They may be further defined by impact, seniority, knowledge, skills, or job title, and are often associated with a pay band. The way you structure your job levels should be dictated by the needs of your unique organization and teams.\n",
    "\n",
    "**StockOptionLevel:** Employee stock options, also known as ESOs, are stock options in the company’s stock granted by an employer to certain employees. Typically they are granted to those in management or officer-level positions.\n",
    "Stock options give the employee the right to buy a certain amount of stock at a specific price, during a specific period of time. Options typically have expiration dates as well, by which the options must have been exercised, otherwise they will become worthless."
   ]
  },
  {
   "cell_type": "code",
   "execution_count": 1,
   "metadata": {
    "ExecuteTime": {
     "end_time": "2022-12-16T02:06:23.708933Z",
     "start_time": "2022-12-16T02:06:18.282815Z"
    },
    "_cell_guid": "79c7e3d0-c299-4dcb-8224-4455121ee9b0",
    "_uuid": "d629ff2d2480ee46fbb7e2d37f6b5fab8052498a",
    "execution": {
     "iopub.execute_input": "2022-10-16T07:47:26.831660Z",
     "iopub.status.busy": "2022-10-16T07:47:26.831093Z",
     "iopub.status.idle": "2022-10-16T07:47:28.802865Z",
     "shell.execute_reply": "2022-10-16T07:47:28.803302Z"
    },
    "papermill": {
     "duration": 2.02727,
     "end_time": "2022-10-16T07:47:28.803440",
     "exception": false,
     "start_time": "2022-10-16T07:47:26.776170",
     "status": "completed"
    },
    "tags": []
   },
   "outputs": [],
   "source": [
    "#load libraries\n",
    "import numpy as np # linear algebra\n",
    "import pandas as pd \n",
    "import matplotlib.pyplot as plt\n",
    "import seaborn as sns\n",
    "\n",
    "import plotly as py\n",
    "import plotly.express as px\n",
    "import plotly.graph_objects as go\n",
    "from plotly.offline import download_plotlyjs, init_notebook_mode, plot, iplot\n",
    "\n",
    "import warnings\n",
    "warnings.filterwarnings(\"ignore\")"
   ]
  },
  {
   "cell_type": "code",
   "execution_count": 2,
   "metadata": {
    "ExecuteTime": {
     "end_time": "2022-12-16T02:06:26.797456Z",
     "start_time": "2022-12-16T02:06:25.717349Z"
    },
    "execution": {
     "iopub.execute_input": "2022-10-16T07:47:28.913927Z",
     "iopub.status.busy": "2022-10-16T07:47:28.913443Z",
     "iopub.status.idle": "2022-10-16T07:47:30.448241Z",
     "shell.execute_reply": "2022-10-16T07:47:30.447668Z"
    },
    "papermill": {
     "duration": 1.591369,
     "end_time": "2022-10-16T07:47:30.448341",
     "exception": false,
     "start_time": "2022-10-16T07:47:28.856972",
     "status": "completed"
    },
    "tags": []
   },
   "outputs": [
    {
     "data": {
      "text/html": [
       "        <script type=\"text/javascript\">\n",
       "        window.PlotlyConfig = {MathJaxConfig: 'local'};\n",
       "        if (window.MathJax) {MathJax.Hub.Config({SVG: {font: \"STIX-Web\"}});}\n",
       "        if (typeof require !== 'undefined') {\n",
       "        require.undef(\"plotly\");\n",
       "        requirejs.config({\n",
       "            paths: {\n",
       "                'plotly': ['https://cdn.plot.ly/plotly-2.9.0.min']\n",
       "            }\n",
       "        });\n",
       "        require(['plotly'], function(Plotly) {\n",
       "            window._Plotly = Plotly;\n",
       "        });\n",
       "        }\n",
       "        </script>\n",
       "        "
      ]
     },
     "metadata": {},
     "output_type": "display_data"
    }
   ],
   "source": [
    "import cufflinks as cf\n",
    "cf.go_offline()\n",
    "cf.set_config_file(offline = False, world_readable = True)"
   ]
  },
  {
   "cell_type": "code",
   "execution_count": 3,
   "metadata": {
    "ExecuteTime": {
     "end_time": "2022-12-16T02:06:29.394077Z",
     "start_time": "2022-12-16T02:06:29.388265Z"
    },
    "execution": {
     "iopub.execute_input": "2022-10-16T07:47:30.550637Z",
     "iopub.status.busy": "2022-10-16T07:47:30.550115Z",
     "iopub.status.idle": "2022-10-16T07:47:30.552233Z",
     "shell.execute_reply": "2022-10-16T07:47:30.552588Z"
    },
    "papermill": {
     "duration": 0.055392,
     "end_time": "2022-10-16T07:47:30.552715",
     "exception": false,
     "start_time": "2022-10-16T07:47:30.497323",
     "status": "completed"
    },
    "tags": []
   },
   "outputs": [],
   "source": [
    "pd.set_option('display.max_columns',None)"
   ]
  },
  {
   "cell_type": "code",
   "execution_count": 4,
   "metadata": {
    "ExecuteTime": {
     "end_time": "2022-12-16T02:07:03.718415Z",
     "start_time": "2022-12-16T02:07:03.695877Z"
    },
    "execution": {
     "iopub.execute_input": "2022-10-16T07:47:30.655407Z",
     "iopub.status.busy": "2022-10-16T07:47:30.654863Z",
     "iopub.status.idle": "2022-10-16T07:47:30.686230Z",
     "shell.execute_reply": "2022-10-16T07:47:30.685701Z"
    },
    "papermill": {
     "duration": 0.085724,
     "end_time": "2022-10-16T07:47:30.686333",
     "exception": false,
     "start_time": "2022-10-16T07:47:30.600609",
     "status": "completed"
    },
    "tags": []
   },
   "outputs": [],
   "source": [
    "data = pd.read_csv('/Users/sarthakchawla/Downloads/employee_attrition_previous_closure.csv')\n",
    "#copy the data to another df\n",
    "empdf = data.copy()"
   ]
  },
  {
   "cell_type": "code",
   "execution_count": 5,
   "metadata": {
    "ExecuteTime": {
     "end_time": "2022-12-16T02:07:12.875940Z",
     "start_time": "2022-12-16T02:07:12.864823Z"
    },
    "execution": {
     "iopub.execute_input": "2022-10-16T07:47:30.794961Z",
     "iopub.status.busy": "2022-10-16T07:47:30.794142Z",
     "iopub.status.idle": "2022-10-16T07:47:30.801313Z",
     "shell.execute_reply": "2022-10-16T07:47:30.801720Z"
    },
    "papermill": {
     "duration": 0.064317,
     "end_time": "2022-10-16T07:47:30.801865",
     "exception": false,
     "start_time": "2022-10-16T07:47:30.737548",
     "status": "completed"
    },
    "tags": []
   },
   "outputs": [
    {
     "data": {
      "text/plain": [
       "(1029, 35)"
      ]
     },
     "execution_count": 5,
     "metadata": {},
     "output_type": "execute_result"
    }
   ],
   "source": [
    "#look over shape of data\n",
    "empdf.shape"
   ]
  },
  {
   "cell_type": "code",
   "execution_count": 6,
   "metadata": {
    "ExecuteTime": {
     "end_time": "2022-12-16T02:07:13.688008Z",
     "start_time": "2022-12-16T02:07:13.655750Z"
    },
    "execution": {
     "iopub.execute_input": "2022-10-16T07:47:30.925597Z",
     "iopub.status.busy": "2022-10-16T07:47:30.924818Z",
     "iopub.status.idle": "2022-10-16T07:47:30.955354Z",
     "shell.execute_reply": "2022-10-16T07:47:30.954219Z"
    },
    "papermill": {
     "duration": 0.099949,
     "end_time": "2022-10-16T07:47:30.955488",
     "exception": false,
     "start_time": "2022-10-16T07:47:30.855539",
     "status": "completed"
    },
    "tags": []
   },
   "outputs": [
    {
     "data": {
      "text/html": [
       "<div>\n",
       "<style scoped>\n",
       "    .dataframe tbody tr th:only-of-type {\n",
       "        vertical-align: middle;\n",
       "    }\n",
       "\n",
       "    .dataframe tbody tr th {\n",
       "        vertical-align: top;\n",
       "    }\n",
       "\n",
       "    .dataframe thead th {\n",
       "        text-align: right;\n",
       "    }\n",
       "</style>\n",
       "<table border=\"1\" class=\"dataframe\">\n",
       "  <thead>\n",
       "    <tr style=\"text-align: right;\">\n",
       "      <th></th>\n",
       "      <th>Age</th>\n",
       "      <th>Attrition</th>\n",
       "      <th>BusinessTravel</th>\n",
       "      <th>DailyRate</th>\n",
       "      <th>Department</th>\n",
       "      <th>DistanceFromHome</th>\n",
       "      <th>Education</th>\n",
       "      <th>EducationField</th>\n",
       "      <th>EmployeeCount</th>\n",
       "      <th>EmployeeNumber</th>\n",
       "      <th>EnvironmentSatisfaction</th>\n",
       "      <th>Gender</th>\n",
       "      <th>HourlyRate</th>\n",
       "      <th>JobInvolvement</th>\n",
       "      <th>JobLevel</th>\n",
       "      <th>JobRole</th>\n",
       "      <th>JobSatisfaction</th>\n",
       "      <th>MaritalStatus</th>\n",
       "      <th>MonthlyIncome</th>\n",
       "      <th>MonthlyRate</th>\n",
       "      <th>NumCompaniesWorked</th>\n",
       "      <th>Over18</th>\n",
       "      <th>OverTime</th>\n",
       "      <th>PercentSalaryHike</th>\n",
       "      <th>PerformanceRating</th>\n",
       "      <th>RelationshipSatisfaction</th>\n",
       "      <th>StandardHours</th>\n",
       "      <th>StockOptionLevel</th>\n",
       "      <th>TotalWorkingYears</th>\n",
       "      <th>TrainingTimesLastYear</th>\n",
       "      <th>WorkLifeBalance</th>\n",
       "      <th>YearsAtCompany</th>\n",
       "      <th>YearsInCurrentRole</th>\n",
       "      <th>YearsSinceLastPromotion</th>\n",
       "      <th>YearsWithCurrManager</th>\n",
       "    </tr>\n",
       "  </thead>\n",
       "  <tbody>\n",
       "    <tr>\n",
       "      <th>0</th>\n",
       "      <td>50.0</td>\n",
       "      <td>No</td>\n",
       "      <td>Travel_Rarely</td>\n",
       "      <td>1126.0</td>\n",
       "      <td>Research &amp; Development</td>\n",
       "      <td>1.0</td>\n",
       "      <td>2</td>\n",
       "      <td>Medical</td>\n",
       "      <td>1</td>\n",
       "      <td>997</td>\n",
       "      <td>4</td>\n",
       "      <td>Male</td>\n",
       "      <td>66</td>\n",
       "      <td>3</td>\n",
       "      <td>4</td>\n",
       "      <td>Research Director</td>\n",
       "      <td>4</td>\n",
       "      <td>Divorced</td>\n",
       "      <td>17399</td>\n",
       "      <td>6615</td>\n",
       "      <td>9</td>\n",
       "      <td>Y</td>\n",
       "      <td>No</td>\n",
       "      <td>22</td>\n",
       "      <td>4</td>\n",
       "      <td>3</td>\n",
       "      <td>80</td>\n",
       "      <td>1</td>\n",
       "      <td>32</td>\n",
       "      <td>1</td>\n",
       "      <td>2</td>\n",
       "      <td>5</td>\n",
       "      <td>4</td>\n",
       "      <td>1</td>\n",
       "      <td>3</td>\n",
       "    </tr>\n",
       "    <tr>\n",
       "      <th>1</th>\n",
       "      <td>36.0</td>\n",
       "      <td>No</td>\n",
       "      <td>Travel_Rarely</td>\n",
       "      <td>216.0</td>\n",
       "      <td>Research &amp; Development</td>\n",
       "      <td>6.0</td>\n",
       "      <td>2</td>\n",
       "      <td>Medical</td>\n",
       "      <td>1</td>\n",
       "      <td>178</td>\n",
       "      <td>2</td>\n",
       "      <td>Male</td>\n",
       "      <td>84</td>\n",
       "      <td>3</td>\n",
       "      <td>2</td>\n",
       "      <td>Manufacturing Director</td>\n",
       "      <td>2</td>\n",
       "      <td>Divorced</td>\n",
       "      <td>4941</td>\n",
       "      <td>2819</td>\n",
       "      <td>6</td>\n",
       "      <td>Y</td>\n",
       "      <td>No</td>\n",
       "      <td>20</td>\n",
       "      <td>4</td>\n",
       "      <td>4</td>\n",
       "      <td>80</td>\n",
       "      <td>2</td>\n",
       "      <td>7</td>\n",
       "      <td>0</td>\n",
       "      <td>3</td>\n",
       "      <td>3</td>\n",
       "      <td>2</td>\n",
       "      <td>0</td>\n",
       "      <td>1</td>\n",
       "    </tr>\n",
       "    <tr>\n",
       "      <th>2</th>\n",
       "      <td>21.0</td>\n",
       "      <td>Yes</td>\n",
       "      <td>Travel_Rarely</td>\n",
       "      <td>337.0</td>\n",
       "      <td>Sales</td>\n",
       "      <td>7.0</td>\n",
       "      <td>1</td>\n",
       "      <td>Marketing</td>\n",
       "      <td>1</td>\n",
       "      <td>1780</td>\n",
       "      <td>2</td>\n",
       "      <td>Male</td>\n",
       "      <td>31</td>\n",
       "      <td>3</td>\n",
       "      <td>1</td>\n",
       "      <td>Sales Representative</td>\n",
       "      <td>2</td>\n",
       "      <td>Single</td>\n",
       "      <td>2679</td>\n",
       "      <td>4567</td>\n",
       "      <td>1</td>\n",
       "      <td>Y</td>\n",
       "      <td>No</td>\n",
       "      <td>13</td>\n",
       "      <td>3</td>\n",
       "      <td>2</td>\n",
       "      <td>80</td>\n",
       "      <td>0</td>\n",
       "      <td>1</td>\n",
       "      <td>3</td>\n",
       "      <td>3</td>\n",
       "      <td>1</td>\n",
       "      <td>0</td>\n",
       "      <td>1</td>\n",
       "      <td>0</td>\n",
       "    </tr>\n",
       "    <tr>\n",
       "      <th>3</th>\n",
       "      <td>50.0</td>\n",
       "      <td>No</td>\n",
       "      <td>Travel_Frequently</td>\n",
       "      <td>1246.0</td>\n",
       "      <td>Human Resources</td>\n",
       "      <td>NaN</td>\n",
       "      <td>3</td>\n",
       "      <td>Medical</td>\n",
       "      <td>1</td>\n",
       "      <td>644</td>\n",
       "      <td>1</td>\n",
       "      <td>Male</td>\n",
       "      <td>99</td>\n",
       "      <td>3</td>\n",
       "      <td>5</td>\n",
       "      <td>Manager</td>\n",
       "      <td>2</td>\n",
       "      <td>Married</td>\n",
       "      <td>18200</td>\n",
       "      <td>7999</td>\n",
       "      <td>1</td>\n",
       "      <td>Y</td>\n",
       "      <td>No</td>\n",
       "      <td>11</td>\n",
       "      <td>3</td>\n",
       "      <td>3</td>\n",
       "      <td>80</td>\n",
       "      <td>1</td>\n",
       "      <td>32</td>\n",
       "      <td>2</td>\n",
       "      <td>3</td>\n",
       "      <td>32</td>\n",
       "      <td>5</td>\n",
       "      <td>10</td>\n",
       "      <td>7</td>\n",
       "    </tr>\n",
       "    <tr>\n",
       "      <th>4</th>\n",
       "      <td>52.0</td>\n",
       "      <td>No</td>\n",
       "      <td>Travel_Rarely</td>\n",
       "      <td>994.0</td>\n",
       "      <td>Research &amp; Development</td>\n",
       "      <td>7.0</td>\n",
       "      <td>4</td>\n",
       "      <td>Life Sciences</td>\n",
       "      <td>1</td>\n",
       "      <td>1118</td>\n",
       "      <td>2</td>\n",
       "      <td>Male</td>\n",
       "      <td>87</td>\n",
       "      <td>3</td>\n",
       "      <td>3</td>\n",
       "      <td>Healthcare Representative</td>\n",
       "      <td>2</td>\n",
       "      <td>Single</td>\n",
       "      <td>10445</td>\n",
       "      <td>15322</td>\n",
       "      <td>7</td>\n",
       "      <td>Y</td>\n",
       "      <td>No</td>\n",
       "      <td>19</td>\n",
       "      <td>3</td>\n",
       "      <td>4</td>\n",
       "      <td>80</td>\n",
       "      <td>0</td>\n",
       "      <td>18</td>\n",
       "      <td>4</td>\n",
       "      <td>3</td>\n",
       "      <td>8</td>\n",
       "      <td>6</td>\n",
       "      <td>4</td>\n",
       "      <td>0</td>\n",
       "    </tr>\n",
       "  </tbody>\n",
       "</table>\n",
       "</div>"
      ],
      "text/plain": [
       "    Age Attrition     BusinessTravel  DailyRate              Department  \\\n",
       "0  50.0        No      Travel_Rarely     1126.0  Research & Development   \n",
       "1  36.0        No      Travel_Rarely      216.0  Research & Development   \n",
       "2  21.0       Yes      Travel_Rarely      337.0                   Sales   \n",
       "3  50.0        No  Travel_Frequently     1246.0         Human Resources   \n",
       "4  52.0        No      Travel_Rarely      994.0  Research & Development   \n",
       "\n",
       "   DistanceFromHome  Education EducationField  EmployeeCount  EmployeeNumber  \\\n",
       "0               1.0          2        Medical              1             997   \n",
       "1               6.0          2        Medical              1             178   \n",
       "2               7.0          1      Marketing              1            1780   \n",
       "3               NaN          3        Medical              1             644   \n",
       "4               7.0          4  Life Sciences              1            1118   \n",
       "\n",
       "   EnvironmentSatisfaction Gender  HourlyRate  JobInvolvement  JobLevel  \\\n",
       "0                        4   Male          66               3         4   \n",
       "1                        2   Male          84               3         2   \n",
       "2                        2   Male          31               3         1   \n",
       "3                        1   Male          99               3         5   \n",
       "4                        2   Male          87               3         3   \n",
       "\n",
       "                     JobRole  JobSatisfaction MaritalStatus  MonthlyIncome  \\\n",
       "0          Research Director                4      Divorced          17399   \n",
       "1     Manufacturing Director                2      Divorced           4941   \n",
       "2       Sales Representative                2        Single           2679   \n",
       "3                    Manager                2       Married          18200   \n",
       "4  Healthcare Representative                2        Single          10445   \n",
       "\n",
       "   MonthlyRate  NumCompaniesWorked Over18 OverTime  PercentSalaryHike  \\\n",
       "0         6615                   9      Y       No                 22   \n",
       "1         2819                   6      Y       No                 20   \n",
       "2         4567                   1      Y       No                 13   \n",
       "3         7999                   1      Y       No                 11   \n",
       "4        15322                   7      Y       No                 19   \n",
       "\n",
       "   PerformanceRating  RelationshipSatisfaction  StandardHours  \\\n",
       "0                  4                         3             80   \n",
       "1                  4                         4             80   \n",
       "2                  3                         2             80   \n",
       "3                  3                         3             80   \n",
       "4                  3                         4             80   \n",
       "\n",
       "   StockOptionLevel  TotalWorkingYears  TrainingTimesLastYear  \\\n",
       "0                 1                 32                      1   \n",
       "1                 2                  7                      0   \n",
       "2                 0                  1                      3   \n",
       "3                 1                 32                      2   \n",
       "4                 0                 18                      4   \n",
       "\n",
       "   WorkLifeBalance  YearsAtCompany  YearsInCurrentRole  \\\n",
       "0                2               5                   4   \n",
       "1                3               3                   2   \n",
       "2                3               1                   0   \n",
       "3                3              32                   5   \n",
       "4                3               8                   6   \n",
       "\n",
       "   YearsSinceLastPromotion  YearsWithCurrManager  \n",
       "0                        1                     3  \n",
       "1                        0                     1  \n",
       "2                        1                     0  \n",
       "3                       10                     7  \n",
       "4                        4                     0  "
      ]
     },
     "execution_count": 6,
     "metadata": {},
     "output_type": "execute_result"
    }
   ],
   "source": [
    "#look at sample of data\n",
    "empdf.head()"
   ]
  },
  {
   "cell_type": "code",
   "execution_count": 7,
   "metadata": {
    "ExecuteTime": {
     "end_time": "2022-12-16T02:07:16.848968Z",
     "start_time": "2022-12-16T02:07:16.838745Z"
    },
    "execution": {
     "iopub.execute_input": "2022-10-16T07:47:31.065123Z",
     "iopub.status.busy": "2022-10-16T07:47:31.064527Z",
     "iopub.status.idle": "2022-10-16T07:47:31.073402Z",
     "shell.execute_reply": "2022-10-16T07:47:31.073799Z"
    },
    "papermill": {
     "duration": 0.066712,
     "end_time": "2022-10-16T07:47:31.073958",
     "exception": false,
     "start_time": "2022-10-16T07:47:31.007246",
     "status": "completed"
    },
    "tags": []
   },
   "outputs": [
    {
     "data": {
      "text/plain": [
       "int64      23\n",
       "object      9\n",
       "float64     3\n",
       "dtype: int64"
      ]
     },
     "execution_count": 7,
     "metadata": {},
     "output_type": "execute_result"
    }
   ],
   "source": [
    "#let's see what data types how many features we are having\n",
    "empdf.dtypes.value_counts()"
   ]
  },
  {
   "cell_type": "code",
   "execution_count": 8,
   "metadata": {
    "ExecuteTime": {
     "end_time": "2022-12-16T02:07:18.230068Z",
     "start_time": "2022-12-16T02:07:18.220639Z"
    },
    "execution": {
     "iopub.execute_input": "2022-10-16T07:47:31.184525Z",
     "iopub.status.busy": "2022-10-16T07:47:31.184009Z",
     "iopub.status.idle": "2022-10-16T07:47:31.190399Z",
     "shell.execute_reply": "2022-10-16T07:47:31.189835Z"
    },
    "papermill": {
     "duration": 0.064153,
     "end_time": "2022-10-16T07:47:31.190508",
     "exception": false,
     "start_time": "2022-10-16T07:47:31.126355",
     "status": "completed"
    },
    "tags": []
   },
   "outputs": [
    {
     "data": {
      "text/plain": [
       "No     853\n",
       "Yes    176\n",
       "Name: Attrition, dtype: int64"
      ]
     },
     "execution_count": 8,
     "metadata": {},
     "output_type": "execute_result"
    }
   ],
   "source": [
    "empdf['Attrition'].value_counts()"
   ]
  },
  {
   "cell_type": "code",
   "execution_count": 9,
   "metadata": {
    "ExecuteTime": {
     "end_time": "2022-12-16T02:07:19.659713Z",
     "start_time": "2022-12-16T02:07:19.655660Z"
    },
    "execution": {
     "iopub.execute_input": "2022-10-16T07:47:31.308221Z",
     "iopub.status.busy": "2022-10-16T07:47:31.307552Z",
     "iopub.status.idle": "2022-10-16T07:47:31.312413Z",
     "shell.execute_reply": "2022-10-16T07:47:31.311784Z"
    },
    "papermill": {
     "duration": 0.066733,
     "end_time": "2022-10-16T07:47:31.312541",
     "exception": false,
     "start_time": "2022-10-16T07:47:31.245808",
     "status": "completed"
    },
    "tags": []
   },
   "outputs": [],
   "source": [
    "#fig = go.Figure(figsize=(4,5))\n",
    "#trace = go.Pie(labels=empdf['Attrition'], values=empdf['Attrition'].value_counts())\n",
    "#iplot([trace])"
   ]
  },
  {
   "cell_type": "code",
   "execution_count": 10,
   "metadata": {
    "ExecuteTime": {
     "end_time": "2022-12-16T02:07:21.554028Z",
     "start_time": "2022-12-16T02:07:21.502224Z"
    },
    "execution": {
     "iopub.execute_input": "2022-10-16T07:47:31.429145Z",
     "iopub.status.busy": "2022-10-16T07:47:31.428428Z",
     "iopub.status.idle": "2022-10-16T07:47:31.483034Z",
     "shell.execute_reply": "2022-10-16T07:47:31.482461Z"
    },
    "papermill": {
     "duration": 0.114732,
     "end_time": "2022-10-16T07:47:31.483132",
     "exception": false,
     "start_time": "2022-10-16T07:47:31.368400",
     "status": "completed"
    },
    "tags": []
   },
   "outputs": [
    {
     "data": {
      "application/vnd.plotly.v1+json": {
       "config": {
        "plotlyServerURL": "https://plot.ly"
       },
       "data": [
        {
         "labels": [
          "No",
          "No",
          "Yes",
          "No",
          "No",
          "Yes",
          "No",
          "No",
          "Yes",
          "No",
          "No",
          "No",
          "No",
          "No",
          "Yes",
          "Yes",
          "No",
          "No",
          "No",
          "No",
          "No",
          "No",
          "No",
          "No",
          "No",
          "No",
          "No",
          "No",
          "No",
          "Yes",
          "No",
          "No",
          "Yes",
          "Yes",
          "No",
          "No",
          "No",
          "No",
          "Yes",
          "No",
          "No",
          "No",
          "No",
          "No",
          "No",
          "Yes",
          "No",
          "No",
          "No",
          "No",
          "No",
          "No",
          "No",
          "No",
          "No",
          "No",
          "No",
          "No",
          "No",
          "No",
          "No",
          "No",
          "Yes",
          "No",
          "No",
          "No",
          "No",
          "No",
          "Yes",
          "No",
          "No",
          "No",
          "No",
          "No",
          "No",
          "No",
          "No",
          "Yes",
          "No",
          "No",
          "No",
          "No",
          "No",
          "Yes",
          "No",
          "No",
          "No",
          "No",
          "No",
          "No",
          "No",
          "No",
          "No",
          "No",
          "No",
          "No",
          "No",
          "No",
          "No",
          "Yes",
          "No",
          "No",
          "No",
          "No",
          "No",
          "Yes",
          "No",
          "No",
          "No",
          "No",
          "Yes",
          "No",
          "No",
          "No",
          "No",
          "No",
          "No",
          "No",
          "No",
          "No",
          "No",
          "No",
          "No",
          "No",
          "No",
          "No",
          "No",
          "No",
          "No",
          "No",
          "No",
          "Yes",
          "No",
          "No",
          "No",
          "Yes",
          "No",
          "No",
          "No",
          "No",
          "Yes",
          "No",
          "No",
          "No",
          "No",
          "No",
          "No",
          "No",
          "No",
          "No",
          "No",
          "No",
          "No",
          "Yes",
          "No",
          "No",
          "No",
          "No",
          "No",
          "No",
          "Yes",
          "No",
          "No",
          "Yes",
          "No",
          "No",
          "No",
          "No",
          "No",
          "No",
          "Yes",
          "No",
          "No",
          "No",
          "No",
          "No",
          "No",
          "No",
          "Yes",
          "No",
          "No",
          "No",
          "No",
          "No",
          "No",
          "Yes",
          "No",
          "No",
          "Yes",
          "No",
          "No",
          "No",
          "No",
          "No",
          "No",
          "Yes",
          "No",
          "No",
          "No",
          "No",
          "No",
          "No",
          "No",
          "No",
          "Yes",
          "No",
          "No",
          "No",
          "No",
          "No",
          "No",
          "No",
          "No",
          "No",
          "No",
          "No",
          "No",
          "No",
          "Yes",
          "No",
          "No",
          "No",
          "No",
          "No",
          "Yes",
          "No",
          "No",
          "No",
          "Yes",
          "No",
          "No",
          "No",
          "No",
          "No",
          "No",
          "Yes",
          "No",
          "No",
          "No",
          "No",
          "No",
          "No",
          "No",
          "Yes",
          "No",
          "No",
          "Yes",
          "No",
          "Yes",
          "No",
          "No",
          "No",
          "Yes",
          "Yes",
          "No",
          "No",
          "No",
          "No",
          "No",
          "No",
          "No",
          "No",
          "No",
          "Yes",
          "Yes",
          "No",
          "No",
          "No",
          "No",
          "No",
          "No",
          "No",
          "No",
          "No",
          "No",
          "Yes",
          "No",
          "No",
          "Yes",
          "No",
          "No",
          "No",
          "Yes",
          "No",
          "No",
          "No",
          "No",
          "No",
          "No",
          "No",
          "No",
          "No",
          "No",
          "No",
          "Yes",
          "No",
          "No",
          "No",
          "Yes",
          "No",
          "No",
          "No",
          "No",
          "Yes",
          "No",
          "Yes",
          "No",
          "No",
          "No",
          "No",
          "No",
          "Yes",
          "No",
          "No",
          "No",
          "No",
          "Yes",
          "No",
          "No",
          "No",
          "No",
          "No",
          "No",
          "No",
          "No",
          "No",
          "No",
          "No",
          "No",
          "No",
          "No",
          "No",
          "No",
          "No",
          "No",
          "No",
          "No",
          "No",
          "No",
          "No",
          "Yes",
          "No",
          "No",
          "No",
          "No",
          "No",
          "No",
          "No",
          "No",
          "No",
          "No",
          "Yes",
          "No",
          "No",
          "No",
          "Yes",
          "No",
          "No",
          "Yes",
          "No",
          "No",
          "Yes",
          "No",
          "Yes",
          "No",
          "No",
          "No",
          "No",
          "Yes",
          "No",
          "No",
          "No",
          "No",
          "Yes",
          "No",
          "Yes",
          "No",
          "No",
          "No",
          "No",
          "No",
          "No",
          "No",
          "No",
          "No",
          "Yes",
          "No",
          "No",
          "Yes",
          "No",
          "No",
          "No",
          "No",
          "Yes",
          "No",
          "No",
          "No",
          "Yes",
          "No",
          "No",
          "No",
          "No",
          "No",
          "No",
          "No",
          "No",
          "No",
          "No",
          "No",
          "No",
          "No",
          "No",
          "No",
          "No",
          "No",
          "No",
          "No",
          "No",
          "Yes",
          "No",
          "No",
          "No",
          "Yes",
          "No",
          "Yes",
          "No",
          "No",
          "Yes",
          "No",
          "No",
          "Yes",
          "Yes",
          "Yes",
          "No",
          "No",
          "No",
          "Yes",
          "No",
          "Yes",
          "No",
          "No",
          "No",
          "No",
          "No",
          "No",
          "No",
          "Yes",
          "No",
          "Yes",
          "No",
          "No",
          "No",
          "Yes",
          "No",
          "No",
          "No",
          "No",
          "No",
          "No",
          "No",
          "Yes",
          "No",
          "No",
          "Yes",
          "No",
          "No",
          "No",
          "No",
          "Yes",
          "No",
          "Yes",
          "No",
          "No",
          "No",
          "No",
          "No",
          "No",
          "No",
          "No",
          "No",
          "No",
          "No",
          "No",
          "No",
          "No",
          "Yes",
          "Yes",
          "Yes",
          "Yes",
          "No",
          "Yes",
          "No",
          "No",
          "No",
          "No",
          "No",
          "No",
          "No",
          "No",
          "No",
          "Yes",
          "No",
          "Yes",
          "No",
          "No",
          "No",
          "No",
          "Yes",
          "Yes",
          "No",
          "No",
          "No",
          "No",
          "No",
          "Yes",
          "No",
          "No",
          "No",
          "No",
          "No",
          "No",
          "No",
          "No",
          "Yes",
          "No",
          "No",
          "No",
          "No",
          "No",
          "No",
          "No",
          "No",
          "No",
          "No",
          "No",
          "No",
          "No",
          "Yes",
          "No",
          "No",
          "No",
          "Yes",
          "No",
          "No",
          "Yes",
          "No",
          "No",
          "No",
          "Yes",
          "Yes",
          "Yes",
          "No",
          "No",
          "Yes",
          "No",
          "No",
          "No",
          "Yes",
          "No",
          "Yes",
          "No",
          "No",
          "No",
          "No",
          "No",
          "No",
          "No",
          "No",
          "No",
          "No",
          "No",
          "No",
          "No",
          "No",
          "Yes",
          "No",
          "No",
          "No",
          "No",
          "No",
          "No",
          "No",
          "No",
          "No",
          "No",
          "No",
          "No",
          "Yes",
          "No",
          "Yes",
          "No",
          "No",
          "No",
          "No",
          "No",
          "No",
          "No",
          "Yes",
          "No",
          "Yes",
          "No",
          "No",
          "No",
          "No",
          "No",
          "No",
          "No",
          "Yes",
          "No",
          "No",
          "No",
          "Yes",
          "Yes",
          "No",
          "No",
          "No",
          "No",
          "Yes",
          "No",
          "No",
          "No",
          "Yes",
          "Yes",
          "No",
          "No",
          "No",
          "No",
          "No",
          "No",
          "No",
          "No",
          "No",
          "No",
          "Yes",
          "No",
          "No",
          "No",
          "No",
          "No",
          "Yes",
          "No",
          "No",
          "No",
          "No",
          "No",
          "No",
          "No",
          "No",
          "No",
          "No",
          "Yes",
          "No",
          "No",
          "No",
          "No",
          "No",
          "No",
          "No",
          "No",
          "No",
          "No",
          "No",
          "No",
          "No",
          "No",
          "No",
          "No",
          "No",
          "No",
          "Yes",
          "No",
          "Yes",
          "No",
          "Yes",
          "No",
          "No",
          "No",
          "No",
          "No",
          "Yes",
          "No",
          "No",
          "No",
          "No",
          "No",
          "No",
          "No",
          "No",
          "No",
          "No",
          "No",
          "No",
          "No",
          "No",
          "No",
          "No",
          "No",
          "No",
          "No",
          "No",
          "No",
          "No",
          "No",
          "No",
          "No",
          "No",
          "No",
          "No",
          "No",
          "No",
          "No",
          "No",
          "No",
          "Yes",
          "No",
          "Yes",
          "No",
          "No",
          "No",
          "No",
          "No",
          "No",
          "No",
          "No",
          "No",
          "No",
          "No",
          "No",
          "No",
          "No",
          "No",
          "No",
          "No",
          "No",
          "No",
          "No",
          "No",
          "Yes",
          "No",
          "No",
          "No",
          "No",
          "No",
          "Yes",
          "No",
          "Yes",
          "No",
          "No",
          "Yes",
          "No",
          "Yes",
          "No",
          "Yes",
          "No",
          "No",
          "No",
          "No",
          "No",
          "No",
          "No",
          "No",
          "No",
          "Yes",
          "No",
          "No",
          "Yes",
          "No",
          "No",
          "No",
          "Yes",
          "No",
          "No",
          "No",
          "No",
          "No",
          "No",
          "No",
          "No",
          "No",
          "No",
          "No",
          "No",
          "No",
          "No",
          "No",
          "No",
          "No",
          "No",
          "No",
          "Yes",
          "No",
          "No",
          "No",
          "No",
          "No",
          "No",
          "No",
          "No",
          "No",
          "No",
          "No",
          "No",
          "No",
          "No",
          "No",
          "No",
          "Yes",
          "No",
          "No",
          "Yes",
          "No",
          "No",
          "No",
          "No",
          "No",
          "Yes",
          "No",
          "No",
          "No",
          "Yes",
          "No",
          "No",
          "Yes",
          "No",
          "No",
          "No",
          "Yes",
          "Yes",
          "No",
          "Yes",
          "No",
          "No",
          "No",
          "No",
          "Yes",
          "No",
          "Yes",
          "No",
          "No",
          "No",
          "No",
          "No",
          "No",
          "No",
          "No",
          "No",
          "No",
          "Yes",
          "Yes",
          "No",
          "Yes",
          "No",
          "Yes",
          "No",
          "Yes",
          "No",
          "Yes",
          "No",
          "Yes",
          "No",
          "No",
          "No",
          "No",
          "No",
          "No",
          "No",
          "No",
          "No",
          "Yes",
          "Yes",
          "No",
          "No",
          "No",
          "No",
          "No",
          "No",
          "No",
          "No",
          "Yes",
          "No",
          "Yes",
          "No",
          "No",
          "No",
          "No",
          "No",
          "No",
          "No",
          "No",
          "No",
          "No",
          "No",
          "No",
          "No",
          "No",
          "No",
          "No",
          "No",
          "No",
          "No",
          "No",
          "No",
          "No",
          "Yes",
          "Yes",
          "No",
          "No",
          "No",
          "No",
          "No",
          "Yes",
          "No",
          "Yes",
          "No",
          "No",
          "No",
          "No",
          "No",
          "No",
          "Yes",
          "Yes",
          "No",
          "No",
          "No",
          "Yes",
          "No",
          "No",
          "No",
          "No",
          "No",
          "No",
          "Yes",
          "No",
          "No",
          "No",
          "No",
          "No",
          "No",
          "Yes",
          "Yes",
          "No",
          "No",
          "No",
          "No",
          "No",
          "Yes",
          "No",
          "No",
          "No",
          "No",
          "No",
          "No",
          "No",
          "No",
          "No",
          "No",
          "No",
          "No",
          "No",
          "Yes",
          "No",
          "No",
          "Yes",
          "Yes",
          "No",
          "No",
          "No",
          "Yes",
          "No",
          "No",
          "No",
          "No",
          "Yes",
          "Yes",
          "No",
          "No",
          "No",
          "No",
          "No",
          "Yes",
          "No",
          "No",
          "No",
          "No",
          "No",
          "Yes",
          "No",
          "Yes",
          "No",
          "No",
          "No",
          "No",
          "Yes",
          "No",
          "No",
          "No",
          "No",
          "No",
          "No",
          "No",
          "Yes",
          "No",
          "No",
          "No",
          "No",
          "No",
          "No",
          "Yes",
          "No",
          "No",
          "No",
          "No",
          "Yes",
          "No",
          "Yes",
          "No",
          "Yes",
          "No",
          "No",
          "No",
          "No",
          "No",
          "No",
          "No",
          "No",
          "No",
          "Yes",
          "No",
          "No"
         ],
         "type": "pie",
         "values": [
          853,
          176
         ]
        }
       ],
       "layout": {
        "autosize": false,
        "height": 350,
        "template": {
         "data": {
          "bar": [
           {
            "error_x": {
             "color": "#2a3f5f"
            },
            "error_y": {
             "color": "#2a3f5f"
            },
            "marker": {
             "line": {
              "color": "#E5ECF6",
              "width": 0.5
             },
             "pattern": {
              "fillmode": "overlay",
              "size": 10,
              "solidity": 0.2
             }
            },
            "type": "bar"
           }
          ],
          "barpolar": [
           {
            "marker": {
             "line": {
              "color": "#E5ECF6",
              "width": 0.5
             },
             "pattern": {
              "fillmode": "overlay",
              "size": 10,
              "solidity": 0.2
             }
            },
            "type": "barpolar"
           }
          ],
          "carpet": [
           {
            "aaxis": {
             "endlinecolor": "#2a3f5f",
             "gridcolor": "white",
             "linecolor": "white",
             "minorgridcolor": "white",
             "startlinecolor": "#2a3f5f"
            },
            "baxis": {
             "endlinecolor": "#2a3f5f",
             "gridcolor": "white",
             "linecolor": "white",
             "minorgridcolor": "white",
             "startlinecolor": "#2a3f5f"
            },
            "type": "carpet"
           }
          ],
          "choropleth": [
           {
            "colorbar": {
             "outlinewidth": 0,
             "ticks": ""
            },
            "type": "choropleth"
           }
          ],
          "contour": [
           {
            "colorbar": {
             "outlinewidth": 0,
             "ticks": ""
            },
            "colorscale": [
             [
              0,
              "#0d0887"
             ],
             [
              0.1111111111111111,
              "#46039f"
             ],
             [
              0.2222222222222222,
              "#7201a8"
             ],
             [
              0.3333333333333333,
              "#9c179e"
             ],
             [
              0.4444444444444444,
              "#bd3786"
             ],
             [
              0.5555555555555556,
              "#d8576b"
             ],
             [
              0.6666666666666666,
              "#ed7953"
             ],
             [
              0.7777777777777778,
              "#fb9f3a"
             ],
             [
              0.8888888888888888,
              "#fdca26"
             ],
             [
              1,
              "#f0f921"
             ]
            ],
            "type": "contour"
           }
          ],
          "contourcarpet": [
           {
            "colorbar": {
             "outlinewidth": 0,
             "ticks": ""
            },
            "type": "contourcarpet"
           }
          ],
          "heatmap": [
           {
            "colorbar": {
             "outlinewidth": 0,
             "ticks": ""
            },
            "colorscale": [
             [
              0,
              "#0d0887"
             ],
             [
              0.1111111111111111,
              "#46039f"
             ],
             [
              0.2222222222222222,
              "#7201a8"
             ],
             [
              0.3333333333333333,
              "#9c179e"
             ],
             [
              0.4444444444444444,
              "#bd3786"
             ],
             [
              0.5555555555555556,
              "#d8576b"
             ],
             [
              0.6666666666666666,
              "#ed7953"
             ],
             [
              0.7777777777777778,
              "#fb9f3a"
             ],
             [
              0.8888888888888888,
              "#fdca26"
             ],
             [
              1,
              "#f0f921"
             ]
            ],
            "type": "heatmap"
           }
          ],
          "heatmapgl": [
           {
            "colorbar": {
             "outlinewidth": 0,
             "ticks": ""
            },
            "colorscale": [
             [
              0,
              "#0d0887"
             ],
             [
              0.1111111111111111,
              "#46039f"
             ],
             [
              0.2222222222222222,
              "#7201a8"
             ],
             [
              0.3333333333333333,
              "#9c179e"
             ],
             [
              0.4444444444444444,
              "#bd3786"
             ],
             [
              0.5555555555555556,
              "#d8576b"
             ],
             [
              0.6666666666666666,
              "#ed7953"
             ],
             [
              0.7777777777777778,
              "#fb9f3a"
             ],
             [
              0.8888888888888888,
              "#fdca26"
             ],
             [
              1,
              "#f0f921"
             ]
            ],
            "type": "heatmapgl"
           }
          ],
          "histogram": [
           {
            "marker": {
             "pattern": {
              "fillmode": "overlay",
              "size": 10,
              "solidity": 0.2
             }
            },
            "type": "histogram"
           }
          ],
          "histogram2d": [
           {
            "colorbar": {
             "outlinewidth": 0,
             "ticks": ""
            },
            "colorscale": [
             [
              0,
              "#0d0887"
             ],
             [
              0.1111111111111111,
              "#46039f"
             ],
             [
              0.2222222222222222,
              "#7201a8"
             ],
             [
              0.3333333333333333,
              "#9c179e"
             ],
             [
              0.4444444444444444,
              "#bd3786"
             ],
             [
              0.5555555555555556,
              "#d8576b"
             ],
             [
              0.6666666666666666,
              "#ed7953"
             ],
             [
              0.7777777777777778,
              "#fb9f3a"
             ],
             [
              0.8888888888888888,
              "#fdca26"
             ],
             [
              1,
              "#f0f921"
             ]
            ],
            "type": "histogram2d"
           }
          ],
          "histogram2dcontour": [
           {
            "colorbar": {
             "outlinewidth": 0,
             "ticks": ""
            },
            "colorscale": [
             [
              0,
              "#0d0887"
             ],
             [
              0.1111111111111111,
              "#46039f"
             ],
             [
              0.2222222222222222,
              "#7201a8"
             ],
             [
              0.3333333333333333,
              "#9c179e"
             ],
             [
              0.4444444444444444,
              "#bd3786"
             ],
             [
              0.5555555555555556,
              "#d8576b"
             ],
             [
              0.6666666666666666,
              "#ed7953"
             ],
             [
              0.7777777777777778,
              "#fb9f3a"
             ],
             [
              0.8888888888888888,
              "#fdca26"
             ],
             [
              1,
              "#f0f921"
             ]
            ],
            "type": "histogram2dcontour"
           }
          ],
          "mesh3d": [
           {
            "colorbar": {
             "outlinewidth": 0,
             "ticks": ""
            },
            "type": "mesh3d"
           }
          ],
          "parcoords": [
           {
            "line": {
             "colorbar": {
              "outlinewidth": 0,
              "ticks": ""
             }
            },
            "type": "parcoords"
           }
          ],
          "pie": [
           {
            "automargin": true,
            "type": "pie"
           }
          ],
          "scatter": [
           {
            "marker": {
             "colorbar": {
              "outlinewidth": 0,
              "ticks": ""
             }
            },
            "type": "scatter"
           }
          ],
          "scatter3d": [
           {
            "line": {
             "colorbar": {
              "outlinewidth": 0,
              "ticks": ""
             }
            },
            "marker": {
             "colorbar": {
              "outlinewidth": 0,
              "ticks": ""
             }
            },
            "type": "scatter3d"
           }
          ],
          "scattercarpet": [
           {
            "marker": {
             "colorbar": {
              "outlinewidth": 0,
              "ticks": ""
             }
            },
            "type": "scattercarpet"
           }
          ],
          "scattergeo": [
           {
            "marker": {
             "colorbar": {
              "outlinewidth": 0,
              "ticks": ""
             }
            },
            "type": "scattergeo"
           }
          ],
          "scattergl": [
           {
            "marker": {
             "colorbar": {
              "outlinewidth": 0,
              "ticks": ""
             }
            },
            "type": "scattergl"
           }
          ],
          "scattermapbox": [
           {
            "marker": {
             "colorbar": {
              "outlinewidth": 0,
              "ticks": ""
             }
            },
            "type": "scattermapbox"
           }
          ],
          "scatterpolar": [
           {
            "marker": {
             "colorbar": {
              "outlinewidth": 0,
              "ticks": ""
             }
            },
            "type": "scatterpolar"
           }
          ],
          "scatterpolargl": [
           {
            "marker": {
             "colorbar": {
              "outlinewidth": 0,
              "ticks": ""
             }
            },
            "type": "scatterpolargl"
           }
          ],
          "scatterternary": [
           {
            "marker": {
             "colorbar": {
              "outlinewidth": 0,
              "ticks": ""
             }
            },
            "type": "scatterternary"
           }
          ],
          "surface": [
           {
            "colorbar": {
             "outlinewidth": 0,
             "ticks": ""
            },
            "colorscale": [
             [
              0,
              "#0d0887"
             ],
             [
              0.1111111111111111,
              "#46039f"
             ],
             [
              0.2222222222222222,
              "#7201a8"
             ],
             [
              0.3333333333333333,
              "#9c179e"
             ],
             [
              0.4444444444444444,
              "#bd3786"
             ],
             [
              0.5555555555555556,
              "#d8576b"
             ],
             [
              0.6666666666666666,
              "#ed7953"
             ],
             [
              0.7777777777777778,
              "#fb9f3a"
             ],
             [
              0.8888888888888888,
              "#fdca26"
             ],
             [
              1,
              "#f0f921"
             ]
            ],
            "type": "surface"
           }
          ],
          "table": [
           {
            "cells": {
             "fill": {
              "color": "#EBF0F8"
             },
             "line": {
              "color": "white"
             }
            },
            "header": {
             "fill": {
              "color": "#C8D4E3"
             },
             "line": {
              "color": "white"
             }
            },
            "type": "table"
           }
          ]
         },
         "layout": {
          "annotationdefaults": {
           "arrowcolor": "#2a3f5f",
           "arrowhead": 0,
           "arrowwidth": 1
          },
          "autotypenumbers": "strict",
          "coloraxis": {
           "colorbar": {
            "outlinewidth": 0,
            "ticks": ""
           }
          },
          "colorscale": {
           "diverging": [
            [
             0,
             "#8e0152"
            ],
            [
             0.1,
             "#c51b7d"
            ],
            [
             0.2,
             "#de77ae"
            ],
            [
             0.3,
             "#f1b6da"
            ],
            [
             0.4,
             "#fde0ef"
            ],
            [
             0.5,
             "#f7f7f7"
            ],
            [
             0.6,
             "#e6f5d0"
            ],
            [
             0.7,
             "#b8e186"
            ],
            [
             0.8,
             "#7fbc41"
            ],
            [
             0.9,
             "#4d9221"
            ],
            [
             1,
             "#276419"
            ]
           ],
           "sequential": [
            [
             0,
             "#0d0887"
            ],
            [
             0.1111111111111111,
             "#46039f"
            ],
            [
             0.2222222222222222,
             "#7201a8"
            ],
            [
             0.3333333333333333,
             "#9c179e"
            ],
            [
             0.4444444444444444,
             "#bd3786"
            ],
            [
             0.5555555555555556,
             "#d8576b"
            ],
            [
             0.6666666666666666,
             "#ed7953"
            ],
            [
             0.7777777777777778,
             "#fb9f3a"
            ],
            [
             0.8888888888888888,
             "#fdca26"
            ],
            [
             1,
             "#f0f921"
            ]
           ],
           "sequentialminus": [
            [
             0,
             "#0d0887"
            ],
            [
             0.1111111111111111,
             "#46039f"
            ],
            [
             0.2222222222222222,
             "#7201a8"
            ],
            [
             0.3333333333333333,
             "#9c179e"
            ],
            [
             0.4444444444444444,
             "#bd3786"
            ],
            [
             0.5555555555555556,
             "#d8576b"
            ],
            [
             0.6666666666666666,
             "#ed7953"
            ],
            [
             0.7777777777777778,
             "#fb9f3a"
            ],
            [
             0.8888888888888888,
             "#fdca26"
            ],
            [
             1,
             "#f0f921"
            ]
           ]
          },
          "colorway": [
           "#636efa",
           "#EF553B",
           "#00cc96",
           "#ab63fa",
           "#FFA15A",
           "#19d3f3",
           "#FF6692",
           "#B6E880",
           "#FF97FF",
           "#FECB52"
          ],
          "font": {
           "color": "#2a3f5f"
          },
          "geo": {
           "bgcolor": "white",
           "lakecolor": "white",
           "landcolor": "#E5ECF6",
           "showlakes": true,
           "showland": true,
           "subunitcolor": "white"
          },
          "hoverlabel": {
           "align": "left"
          },
          "hovermode": "closest",
          "mapbox": {
           "style": "light"
          },
          "paper_bgcolor": "white",
          "plot_bgcolor": "#E5ECF6",
          "polar": {
           "angularaxis": {
            "gridcolor": "white",
            "linecolor": "white",
            "ticks": ""
           },
           "bgcolor": "#E5ECF6",
           "radialaxis": {
            "gridcolor": "white",
            "linecolor": "white",
            "ticks": ""
           }
          },
          "scene": {
           "xaxis": {
            "backgroundcolor": "#E5ECF6",
            "gridcolor": "white",
            "gridwidth": 2,
            "linecolor": "white",
            "showbackground": true,
            "ticks": "",
            "zerolinecolor": "white"
           },
           "yaxis": {
            "backgroundcolor": "#E5ECF6",
            "gridcolor": "white",
            "gridwidth": 2,
            "linecolor": "white",
            "showbackground": true,
            "ticks": "",
            "zerolinecolor": "white"
           },
           "zaxis": {
            "backgroundcolor": "#E5ECF6",
            "gridcolor": "white",
            "gridwidth": 2,
            "linecolor": "white",
            "showbackground": true,
            "ticks": "",
            "zerolinecolor": "white"
           }
          },
          "shapedefaults": {
           "line": {
            "color": "#2a3f5f"
           }
          },
          "ternary": {
           "aaxis": {
            "gridcolor": "white",
            "linecolor": "white",
            "ticks": ""
           },
           "baxis": {
            "gridcolor": "white",
            "linecolor": "white",
            "ticks": ""
           },
           "bgcolor": "#E5ECF6",
           "caxis": {
            "gridcolor": "white",
            "linecolor": "white",
            "ticks": ""
           }
          },
          "title": {
           "x": 0.05
          },
          "xaxis": {
           "automargin": true,
           "gridcolor": "white",
           "linecolor": "white",
           "ticks": "",
           "title": {
            "standoff": 15
           },
           "zerolinecolor": "white",
           "zerolinewidth": 2
          },
          "yaxis": {
           "automargin": true,
           "gridcolor": "white",
           "linecolor": "white",
           "ticks": "",
           "title": {
            "standoff": 15
           },
           "zerolinecolor": "white",
           "zerolinewidth": 2
          }
         }
        },
        "width": 400
       }
      },
      "text/html": [
       "<div>                            <div id=\"6bbf9de8-0bf1-4314-96df-8b1aa54921f2\" class=\"plotly-graph-div\" style=\"height:350px; width:400px;\"></div>            <script type=\"text/javascript\">                require([\"plotly\"], function(Plotly) {                    window.PLOTLYENV=window.PLOTLYENV || {};                                    if (document.getElementById(\"6bbf9de8-0bf1-4314-96df-8b1aa54921f2\")) {                    Plotly.newPlot(                        \"6bbf9de8-0bf1-4314-96df-8b1aa54921f2\",                        [{\"labels\":[\"No\",\"No\",\"Yes\",\"No\",\"No\",\"Yes\",\"No\",\"No\",\"Yes\",\"No\",\"No\",\"No\",\"No\",\"No\",\"Yes\",\"Yes\",\"No\",\"No\",\"No\",\"No\",\"No\",\"No\",\"No\",\"No\",\"No\",\"No\",\"No\",\"No\",\"No\",\"Yes\",\"No\",\"No\",\"Yes\",\"Yes\",\"No\",\"No\",\"No\",\"No\",\"Yes\",\"No\",\"No\",\"No\",\"No\",\"No\",\"No\",\"Yes\",\"No\",\"No\",\"No\",\"No\",\"No\",\"No\",\"No\",\"No\",\"No\",\"No\",\"No\",\"No\",\"No\",\"No\",\"No\",\"No\",\"Yes\",\"No\",\"No\",\"No\",\"No\",\"No\",\"Yes\",\"No\",\"No\",\"No\",\"No\",\"No\",\"No\",\"No\",\"No\",\"Yes\",\"No\",\"No\",\"No\",\"No\",\"No\",\"Yes\",\"No\",\"No\",\"No\",\"No\",\"No\",\"No\",\"No\",\"No\",\"No\",\"No\",\"No\",\"No\",\"No\",\"No\",\"No\",\"Yes\",\"No\",\"No\",\"No\",\"No\",\"No\",\"Yes\",\"No\",\"No\",\"No\",\"No\",\"Yes\",\"No\",\"No\",\"No\",\"No\",\"No\",\"No\",\"No\",\"No\",\"No\",\"No\",\"No\",\"No\",\"No\",\"No\",\"No\",\"No\",\"No\",\"No\",\"No\",\"No\",\"Yes\",\"No\",\"No\",\"No\",\"Yes\",\"No\",\"No\",\"No\",\"No\",\"Yes\",\"No\",\"No\",\"No\",\"No\",\"No\",\"No\",\"No\",\"No\",\"No\",\"No\",\"No\",\"No\",\"Yes\",\"No\",\"No\",\"No\",\"No\",\"No\",\"No\",\"Yes\",\"No\",\"No\",\"Yes\",\"No\",\"No\",\"No\",\"No\",\"No\",\"No\",\"Yes\",\"No\",\"No\",\"No\",\"No\",\"No\",\"No\",\"No\",\"Yes\",\"No\",\"No\",\"No\",\"No\",\"No\",\"No\",\"Yes\",\"No\",\"No\",\"Yes\",\"No\",\"No\",\"No\",\"No\",\"No\",\"No\",\"Yes\",\"No\",\"No\",\"No\",\"No\",\"No\",\"No\",\"No\",\"No\",\"Yes\",\"No\",\"No\",\"No\",\"No\",\"No\",\"No\",\"No\",\"No\",\"No\",\"No\",\"No\",\"No\",\"No\",\"Yes\",\"No\",\"No\",\"No\",\"No\",\"No\",\"Yes\",\"No\",\"No\",\"No\",\"Yes\",\"No\",\"No\",\"No\",\"No\",\"No\",\"No\",\"Yes\",\"No\",\"No\",\"No\",\"No\",\"No\",\"No\",\"No\",\"Yes\",\"No\",\"No\",\"Yes\",\"No\",\"Yes\",\"No\",\"No\",\"No\",\"Yes\",\"Yes\",\"No\",\"No\",\"No\",\"No\",\"No\",\"No\",\"No\",\"No\",\"No\",\"Yes\",\"Yes\",\"No\",\"No\",\"No\",\"No\",\"No\",\"No\",\"No\",\"No\",\"No\",\"No\",\"Yes\",\"No\",\"No\",\"Yes\",\"No\",\"No\",\"No\",\"Yes\",\"No\",\"No\",\"No\",\"No\",\"No\",\"No\",\"No\",\"No\",\"No\",\"No\",\"No\",\"Yes\",\"No\",\"No\",\"No\",\"Yes\",\"No\",\"No\",\"No\",\"No\",\"Yes\",\"No\",\"Yes\",\"No\",\"No\",\"No\",\"No\",\"No\",\"Yes\",\"No\",\"No\",\"No\",\"No\",\"Yes\",\"No\",\"No\",\"No\",\"No\",\"No\",\"No\",\"No\",\"No\",\"No\",\"No\",\"No\",\"No\",\"No\",\"No\",\"No\",\"No\",\"No\",\"No\",\"No\",\"No\",\"No\",\"No\",\"No\",\"Yes\",\"No\",\"No\",\"No\",\"No\",\"No\",\"No\",\"No\",\"No\",\"No\",\"No\",\"Yes\",\"No\",\"No\",\"No\",\"Yes\",\"No\",\"No\",\"Yes\",\"No\",\"No\",\"Yes\",\"No\",\"Yes\",\"No\",\"No\",\"No\",\"No\",\"Yes\",\"No\",\"No\",\"No\",\"No\",\"Yes\",\"No\",\"Yes\",\"No\",\"No\",\"No\",\"No\",\"No\",\"No\",\"No\",\"No\",\"No\",\"Yes\",\"No\",\"No\",\"Yes\",\"No\",\"No\",\"No\",\"No\",\"Yes\",\"No\",\"No\",\"No\",\"Yes\",\"No\",\"No\",\"No\",\"No\",\"No\",\"No\",\"No\",\"No\",\"No\",\"No\",\"No\",\"No\",\"No\",\"No\",\"No\",\"No\",\"No\",\"No\",\"No\",\"No\",\"Yes\",\"No\",\"No\",\"No\",\"Yes\",\"No\",\"Yes\",\"No\",\"No\",\"Yes\",\"No\",\"No\",\"Yes\",\"Yes\",\"Yes\",\"No\",\"No\",\"No\",\"Yes\",\"No\",\"Yes\",\"No\",\"No\",\"No\",\"No\",\"No\",\"No\",\"No\",\"Yes\",\"No\",\"Yes\",\"No\",\"No\",\"No\",\"Yes\",\"No\",\"No\",\"No\",\"No\",\"No\",\"No\",\"No\",\"Yes\",\"No\",\"No\",\"Yes\",\"No\",\"No\",\"No\",\"No\",\"Yes\",\"No\",\"Yes\",\"No\",\"No\",\"No\",\"No\",\"No\",\"No\",\"No\",\"No\",\"No\",\"No\",\"No\",\"No\",\"No\",\"No\",\"Yes\",\"Yes\",\"Yes\",\"Yes\",\"No\",\"Yes\",\"No\",\"No\",\"No\",\"No\",\"No\",\"No\",\"No\",\"No\",\"No\",\"Yes\",\"No\",\"Yes\",\"No\",\"No\",\"No\",\"No\",\"Yes\",\"Yes\",\"No\",\"No\",\"No\",\"No\",\"No\",\"Yes\",\"No\",\"No\",\"No\",\"No\",\"No\",\"No\",\"No\",\"No\",\"Yes\",\"No\",\"No\",\"No\",\"No\",\"No\",\"No\",\"No\",\"No\",\"No\",\"No\",\"No\",\"No\",\"No\",\"Yes\",\"No\",\"No\",\"No\",\"Yes\",\"No\",\"No\",\"Yes\",\"No\",\"No\",\"No\",\"Yes\",\"Yes\",\"Yes\",\"No\",\"No\",\"Yes\",\"No\",\"No\",\"No\",\"Yes\",\"No\",\"Yes\",\"No\",\"No\",\"No\",\"No\",\"No\",\"No\",\"No\",\"No\",\"No\",\"No\",\"No\",\"No\",\"No\",\"No\",\"Yes\",\"No\",\"No\",\"No\",\"No\",\"No\",\"No\",\"No\",\"No\",\"No\",\"No\",\"No\",\"No\",\"Yes\",\"No\",\"Yes\",\"No\",\"No\",\"No\",\"No\",\"No\",\"No\",\"No\",\"Yes\",\"No\",\"Yes\",\"No\",\"No\",\"No\",\"No\",\"No\",\"No\",\"No\",\"Yes\",\"No\",\"No\",\"No\",\"Yes\",\"Yes\",\"No\",\"No\",\"No\",\"No\",\"Yes\",\"No\",\"No\",\"No\",\"Yes\",\"Yes\",\"No\",\"No\",\"No\",\"No\",\"No\",\"No\",\"No\",\"No\",\"No\",\"No\",\"Yes\",\"No\",\"No\",\"No\",\"No\",\"No\",\"Yes\",\"No\",\"No\",\"No\",\"No\",\"No\",\"No\",\"No\",\"No\",\"No\",\"No\",\"Yes\",\"No\",\"No\",\"No\",\"No\",\"No\",\"No\",\"No\",\"No\",\"No\",\"No\",\"No\",\"No\",\"No\",\"No\",\"No\",\"No\",\"No\",\"No\",\"Yes\",\"No\",\"Yes\",\"No\",\"Yes\",\"No\",\"No\",\"No\",\"No\",\"No\",\"Yes\",\"No\",\"No\",\"No\",\"No\",\"No\",\"No\",\"No\",\"No\",\"No\",\"No\",\"No\",\"No\",\"No\",\"No\",\"No\",\"No\",\"No\",\"No\",\"No\",\"No\",\"No\",\"No\",\"No\",\"No\",\"No\",\"No\",\"No\",\"No\",\"No\",\"No\",\"No\",\"No\",\"No\",\"Yes\",\"No\",\"Yes\",\"No\",\"No\",\"No\",\"No\",\"No\",\"No\",\"No\",\"No\",\"No\",\"No\",\"No\",\"No\",\"No\",\"No\",\"No\",\"No\",\"No\",\"No\",\"No\",\"No\",\"No\",\"Yes\",\"No\",\"No\",\"No\",\"No\",\"No\",\"Yes\",\"No\",\"Yes\",\"No\",\"No\",\"Yes\",\"No\",\"Yes\",\"No\",\"Yes\",\"No\",\"No\",\"No\",\"No\",\"No\",\"No\",\"No\",\"No\",\"No\",\"Yes\",\"No\",\"No\",\"Yes\",\"No\",\"No\",\"No\",\"Yes\",\"No\",\"No\",\"No\",\"No\",\"No\",\"No\",\"No\",\"No\",\"No\",\"No\",\"No\",\"No\",\"No\",\"No\",\"No\",\"No\",\"No\",\"No\",\"No\",\"Yes\",\"No\",\"No\",\"No\",\"No\",\"No\",\"No\",\"No\",\"No\",\"No\",\"No\",\"No\",\"No\",\"No\",\"No\",\"No\",\"No\",\"Yes\",\"No\",\"No\",\"Yes\",\"No\",\"No\",\"No\",\"No\",\"No\",\"Yes\",\"No\",\"No\",\"No\",\"Yes\",\"No\",\"No\",\"Yes\",\"No\",\"No\",\"No\",\"Yes\",\"Yes\",\"No\",\"Yes\",\"No\",\"No\",\"No\",\"No\",\"Yes\",\"No\",\"Yes\",\"No\",\"No\",\"No\",\"No\",\"No\",\"No\",\"No\",\"No\",\"No\",\"No\",\"Yes\",\"Yes\",\"No\",\"Yes\",\"No\",\"Yes\",\"No\",\"Yes\",\"No\",\"Yes\",\"No\",\"Yes\",\"No\",\"No\",\"No\",\"No\",\"No\",\"No\",\"No\",\"No\",\"No\",\"Yes\",\"Yes\",\"No\",\"No\",\"No\",\"No\",\"No\",\"No\",\"No\",\"No\",\"Yes\",\"No\",\"Yes\",\"No\",\"No\",\"No\",\"No\",\"No\",\"No\",\"No\",\"No\",\"No\",\"No\",\"No\",\"No\",\"No\",\"No\",\"No\",\"No\",\"No\",\"No\",\"No\",\"No\",\"No\",\"No\",\"Yes\",\"Yes\",\"No\",\"No\",\"No\",\"No\",\"No\",\"Yes\",\"No\",\"Yes\",\"No\",\"No\",\"No\",\"No\",\"No\",\"No\",\"Yes\",\"Yes\",\"No\",\"No\",\"No\",\"Yes\",\"No\",\"No\",\"No\",\"No\",\"No\",\"No\",\"Yes\",\"No\",\"No\",\"No\",\"No\",\"No\",\"No\",\"Yes\",\"Yes\",\"No\",\"No\",\"No\",\"No\",\"No\",\"Yes\",\"No\",\"No\",\"No\",\"No\",\"No\",\"No\",\"No\",\"No\",\"No\",\"No\",\"No\",\"No\",\"No\",\"Yes\",\"No\",\"No\",\"Yes\",\"Yes\",\"No\",\"No\",\"No\",\"Yes\",\"No\",\"No\",\"No\",\"No\",\"Yes\",\"Yes\",\"No\",\"No\",\"No\",\"No\",\"No\",\"Yes\",\"No\",\"No\",\"No\",\"No\",\"No\",\"Yes\",\"No\",\"Yes\",\"No\",\"No\",\"No\",\"No\",\"Yes\",\"No\",\"No\",\"No\",\"No\",\"No\",\"No\",\"No\",\"Yes\",\"No\",\"No\",\"No\",\"No\",\"No\",\"No\",\"Yes\",\"No\",\"No\",\"No\",\"No\",\"Yes\",\"No\",\"Yes\",\"No\",\"Yes\",\"No\",\"No\",\"No\",\"No\",\"No\",\"No\",\"No\",\"No\",\"No\",\"Yes\",\"No\",\"No\"],\"values\":[853,176],\"type\":\"pie\"}],                        {\"template\":{\"data\":{\"bar\":[{\"error_x\":{\"color\":\"#2a3f5f\"},\"error_y\":{\"color\":\"#2a3f5f\"},\"marker\":{\"line\":{\"color\":\"#E5ECF6\",\"width\":0.5},\"pattern\":{\"fillmode\":\"overlay\",\"size\":10,\"solidity\":0.2}},\"type\":\"bar\"}],\"barpolar\":[{\"marker\":{\"line\":{\"color\":\"#E5ECF6\",\"width\":0.5},\"pattern\":{\"fillmode\":\"overlay\",\"size\":10,\"solidity\":0.2}},\"type\":\"barpolar\"}],\"carpet\":[{\"aaxis\":{\"endlinecolor\":\"#2a3f5f\",\"gridcolor\":\"white\",\"linecolor\":\"white\",\"minorgridcolor\":\"white\",\"startlinecolor\":\"#2a3f5f\"},\"baxis\":{\"endlinecolor\":\"#2a3f5f\",\"gridcolor\":\"white\",\"linecolor\":\"white\",\"minorgridcolor\":\"white\",\"startlinecolor\":\"#2a3f5f\"},\"type\":\"carpet\"}],\"choropleth\":[{\"colorbar\":{\"outlinewidth\":0,\"ticks\":\"\"},\"type\":\"choropleth\"}],\"contour\":[{\"colorbar\":{\"outlinewidth\":0,\"ticks\":\"\"},\"colorscale\":[[0.0,\"#0d0887\"],[0.1111111111111111,\"#46039f\"],[0.2222222222222222,\"#7201a8\"],[0.3333333333333333,\"#9c179e\"],[0.4444444444444444,\"#bd3786\"],[0.5555555555555556,\"#d8576b\"],[0.6666666666666666,\"#ed7953\"],[0.7777777777777778,\"#fb9f3a\"],[0.8888888888888888,\"#fdca26\"],[1.0,\"#f0f921\"]],\"type\":\"contour\"}],\"contourcarpet\":[{\"colorbar\":{\"outlinewidth\":0,\"ticks\":\"\"},\"type\":\"contourcarpet\"}],\"heatmap\":[{\"colorbar\":{\"outlinewidth\":0,\"ticks\":\"\"},\"colorscale\":[[0.0,\"#0d0887\"],[0.1111111111111111,\"#46039f\"],[0.2222222222222222,\"#7201a8\"],[0.3333333333333333,\"#9c179e\"],[0.4444444444444444,\"#bd3786\"],[0.5555555555555556,\"#d8576b\"],[0.6666666666666666,\"#ed7953\"],[0.7777777777777778,\"#fb9f3a\"],[0.8888888888888888,\"#fdca26\"],[1.0,\"#f0f921\"]],\"type\":\"heatmap\"}],\"heatmapgl\":[{\"colorbar\":{\"outlinewidth\":0,\"ticks\":\"\"},\"colorscale\":[[0.0,\"#0d0887\"],[0.1111111111111111,\"#46039f\"],[0.2222222222222222,\"#7201a8\"],[0.3333333333333333,\"#9c179e\"],[0.4444444444444444,\"#bd3786\"],[0.5555555555555556,\"#d8576b\"],[0.6666666666666666,\"#ed7953\"],[0.7777777777777778,\"#fb9f3a\"],[0.8888888888888888,\"#fdca26\"],[1.0,\"#f0f921\"]],\"type\":\"heatmapgl\"}],\"histogram\":[{\"marker\":{\"pattern\":{\"fillmode\":\"overlay\",\"size\":10,\"solidity\":0.2}},\"type\":\"histogram\"}],\"histogram2d\":[{\"colorbar\":{\"outlinewidth\":0,\"ticks\":\"\"},\"colorscale\":[[0.0,\"#0d0887\"],[0.1111111111111111,\"#46039f\"],[0.2222222222222222,\"#7201a8\"],[0.3333333333333333,\"#9c179e\"],[0.4444444444444444,\"#bd3786\"],[0.5555555555555556,\"#d8576b\"],[0.6666666666666666,\"#ed7953\"],[0.7777777777777778,\"#fb9f3a\"],[0.8888888888888888,\"#fdca26\"],[1.0,\"#f0f921\"]],\"type\":\"histogram2d\"}],\"histogram2dcontour\":[{\"colorbar\":{\"outlinewidth\":0,\"ticks\":\"\"},\"colorscale\":[[0.0,\"#0d0887\"],[0.1111111111111111,\"#46039f\"],[0.2222222222222222,\"#7201a8\"],[0.3333333333333333,\"#9c179e\"],[0.4444444444444444,\"#bd3786\"],[0.5555555555555556,\"#d8576b\"],[0.6666666666666666,\"#ed7953\"],[0.7777777777777778,\"#fb9f3a\"],[0.8888888888888888,\"#fdca26\"],[1.0,\"#f0f921\"]],\"type\":\"histogram2dcontour\"}],\"mesh3d\":[{\"colorbar\":{\"outlinewidth\":0,\"ticks\":\"\"},\"type\":\"mesh3d\"}],\"parcoords\":[{\"line\":{\"colorbar\":{\"outlinewidth\":0,\"ticks\":\"\"}},\"type\":\"parcoords\"}],\"pie\":[{\"automargin\":true,\"type\":\"pie\"}],\"scatter\":[{\"marker\":{\"colorbar\":{\"outlinewidth\":0,\"ticks\":\"\"}},\"type\":\"scatter\"}],\"scatter3d\":[{\"line\":{\"colorbar\":{\"outlinewidth\":0,\"ticks\":\"\"}},\"marker\":{\"colorbar\":{\"outlinewidth\":0,\"ticks\":\"\"}},\"type\":\"scatter3d\"}],\"scattercarpet\":[{\"marker\":{\"colorbar\":{\"outlinewidth\":0,\"ticks\":\"\"}},\"type\":\"scattercarpet\"}],\"scattergeo\":[{\"marker\":{\"colorbar\":{\"outlinewidth\":0,\"ticks\":\"\"}},\"type\":\"scattergeo\"}],\"scattergl\":[{\"marker\":{\"colorbar\":{\"outlinewidth\":0,\"ticks\":\"\"}},\"type\":\"scattergl\"}],\"scattermapbox\":[{\"marker\":{\"colorbar\":{\"outlinewidth\":0,\"ticks\":\"\"}},\"type\":\"scattermapbox\"}],\"scatterpolar\":[{\"marker\":{\"colorbar\":{\"outlinewidth\":0,\"ticks\":\"\"}},\"type\":\"scatterpolar\"}],\"scatterpolargl\":[{\"marker\":{\"colorbar\":{\"outlinewidth\":0,\"ticks\":\"\"}},\"type\":\"scatterpolargl\"}],\"scatterternary\":[{\"marker\":{\"colorbar\":{\"outlinewidth\":0,\"ticks\":\"\"}},\"type\":\"scatterternary\"}],\"surface\":[{\"colorbar\":{\"outlinewidth\":0,\"ticks\":\"\"},\"colorscale\":[[0.0,\"#0d0887\"],[0.1111111111111111,\"#46039f\"],[0.2222222222222222,\"#7201a8\"],[0.3333333333333333,\"#9c179e\"],[0.4444444444444444,\"#bd3786\"],[0.5555555555555556,\"#d8576b\"],[0.6666666666666666,\"#ed7953\"],[0.7777777777777778,\"#fb9f3a\"],[0.8888888888888888,\"#fdca26\"],[1.0,\"#f0f921\"]],\"type\":\"surface\"}],\"table\":[{\"cells\":{\"fill\":{\"color\":\"#EBF0F8\"},\"line\":{\"color\":\"white\"}},\"header\":{\"fill\":{\"color\":\"#C8D4E3\"},\"line\":{\"color\":\"white\"}},\"type\":\"table\"}]},\"layout\":{\"annotationdefaults\":{\"arrowcolor\":\"#2a3f5f\",\"arrowhead\":0,\"arrowwidth\":1},\"autotypenumbers\":\"strict\",\"coloraxis\":{\"colorbar\":{\"outlinewidth\":0,\"ticks\":\"\"}},\"colorscale\":{\"diverging\":[[0,\"#8e0152\"],[0.1,\"#c51b7d\"],[0.2,\"#de77ae\"],[0.3,\"#f1b6da\"],[0.4,\"#fde0ef\"],[0.5,\"#f7f7f7\"],[0.6,\"#e6f5d0\"],[0.7,\"#b8e186\"],[0.8,\"#7fbc41\"],[0.9,\"#4d9221\"],[1,\"#276419\"]],\"sequential\":[[0.0,\"#0d0887\"],[0.1111111111111111,\"#46039f\"],[0.2222222222222222,\"#7201a8\"],[0.3333333333333333,\"#9c179e\"],[0.4444444444444444,\"#bd3786\"],[0.5555555555555556,\"#d8576b\"],[0.6666666666666666,\"#ed7953\"],[0.7777777777777778,\"#fb9f3a\"],[0.8888888888888888,\"#fdca26\"],[1.0,\"#f0f921\"]],\"sequentialminus\":[[0.0,\"#0d0887\"],[0.1111111111111111,\"#46039f\"],[0.2222222222222222,\"#7201a8\"],[0.3333333333333333,\"#9c179e\"],[0.4444444444444444,\"#bd3786\"],[0.5555555555555556,\"#d8576b\"],[0.6666666666666666,\"#ed7953\"],[0.7777777777777778,\"#fb9f3a\"],[0.8888888888888888,\"#fdca26\"],[1.0,\"#f0f921\"]]},\"colorway\":[\"#636efa\",\"#EF553B\",\"#00cc96\",\"#ab63fa\",\"#FFA15A\",\"#19d3f3\",\"#FF6692\",\"#B6E880\",\"#FF97FF\",\"#FECB52\"],\"font\":{\"color\":\"#2a3f5f\"},\"geo\":{\"bgcolor\":\"white\",\"lakecolor\":\"white\",\"landcolor\":\"#E5ECF6\",\"showlakes\":true,\"showland\":true,\"subunitcolor\":\"white\"},\"hoverlabel\":{\"align\":\"left\"},\"hovermode\":\"closest\",\"mapbox\":{\"style\":\"light\"},\"paper_bgcolor\":\"white\",\"plot_bgcolor\":\"#E5ECF6\",\"polar\":{\"angularaxis\":{\"gridcolor\":\"white\",\"linecolor\":\"white\",\"ticks\":\"\"},\"bgcolor\":\"#E5ECF6\",\"radialaxis\":{\"gridcolor\":\"white\",\"linecolor\":\"white\",\"ticks\":\"\"}},\"scene\":{\"xaxis\":{\"backgroundcolor\":\"#E5ECF6\",\"gridcolor\":\"white\",\"gridwidth\":2,\"linecolor\":\"white\",\"showbackground\":true,\"ticks\":\"\",\"zerolinecolor\":\"white\"},\"yaxis\":{\"backgroundcolor\":\"#E5ECF6\",\"gridcolor\":\"white\",\"gridwidth\":2,\"linecolor\":\"white\",\"showbackground\":true,\"ticks\":\"\",\"zerolinecolor\":\"white\"},\"zaxis\":{\"backgroundcolor\":\"#E5ECF6\",\"gridcolor\":\"white\",\"gridwidth\":2,\"linecolor\":\"white\",\"showbackground\":true,\"ticks\":\"\",\"zerolinecolor\":\"white\"}},\"shapedefaults\":{\"line\":{\"color\":\"#2a3f5f\"}},\"ternary\":{\"aaxis\":{\"gridcolor\":\"white\",\"linecolor\":\"white\",\"ticks\":\"\"},\"baxis\":{\"gridcolor\":\"white\",\"linecolor\":\"white\",\"ticks\":\"\"},\"bgcolor\":\"#E5ECF6\",\"caxis\":{\"gridcolor\":\"white\",\"linecolor\":\"white\",\"ticks\":\"\"}},\"title\":{\"x\":0.05},\"xaxis\":{\"automargin\":true,\"gridcolor\":\"white\",\"linecolor\":\"white\",\"ticks\":\"\",\"title\":{\"standoff\":15},\"zerolinecolor\":\"white\",\"zerolinewidth\":2},\"yaxis\":{\"automargin\":true,\"gridcolor\":\"white\",\"linecolor\":\"white\",\"ticks\":\"\",\"title\":{\"standoff\":15},\"zerolinecolor\":\"white\",\"zerolinewidth\":2}}},\"autosize\":false,\"width\":400,\"height\":350},                        {\"responsive\": true}                    ).then(function(){\n",
       "                            \n",
       "var gd = document.getElementById('6bbf9de8-0bf1-4314-96df-8b1aa54921f2');\n",
       "var x = new MutationObserver(function (mutations, observer) {{\n",
       "        var display = window.getComputedStyle(gd).display;\n",
       "        if (!display || display === 'none') {{\n",
       "            console.log([gd, 'removed!']);\n",
       "            Plotly.purge(gd);\n",
       "            observer.disconnect();\n",
       "        }}\n",
       "}});\n",
       "\n",
       "// Listen for the removal of the full notebook cells\n",
       "var notebookContainer = gd.closest('#notebook-container');\n",
       "if (notebookContainer) {{\n",
       "    x.observe(notebookContainer, {childList: true});\n",
       "}}\n",
       "\n",
       "// Listen for the clearing of the current output cell\n",
       "var outputEl = gd.closest('.output');\n",
       "if (outputEl) {{\n",
       "    x.observe(outputEl, {childList: true});\n",
       "}}\n",
       "\n",
       "                        })                };                });            </script>        </div>"
      ]
     },
     "metadata": {},
     "output_type": "display_data"
    }
   ],
   "source": [
    "# pie chart for attrition\n",
    "fig = go.Figure()\n",
    "fig.add_trace(go.Pie(labels=empdf['Attrition'], values=empdf['Attrition'].value_counts()))\n",
    "fig.update_layout(autosize=False, width=400, height=350)\n",
    "fig.show()"
   ]
  },
  {
   "cell_type": "code",
   "execution_count": 11,
   "metadata": {
    "ExecuteTime": {
     "end_time": "2022-12-16T02:07:23.840574Z",
     "start_time": "2022-12-16T02:07:23.828538Z"
    },
    "execution": {
     "iopub.execute_input": "2022-10-16T07:47:31.611524Z",
     "iopub.status.busy": "2022-10-16T07:47:31.610557Z",
     "iopub.status.idle": "2022-10-16T07:47:31.618728Z",
     "shell.execute_reply": "2022-10-16T07:47:31.618164Z"
    },
    "papermill": {
     "duration": 0.075527,
     "end_time": "2022-10-16T07:47:31.618830",
     "exception": false,
     "start_time": "2022-10-16T07:47:31.543303",
     "status": "completed"
    },
    "tags": []
   },
   "outputs": [
    {
     "data": {
      "text/plain": [
       "268"
      ]
     },
     "execution_count": 11,
     "metadata": {},
     "output_type": "execute_result"
    }
   ],
   "source": [
    "# let's see the total Missing values in dataset\n",
    "empdf.isnull().sum().sum()"
   ]
  },
  {
   "cell_type": "markdown",
   "metadata": {
    "papermill": {
     "duration": 0.059148,
     "end_time": "2022-10-16T07:47:31.739940",
     "exception": false,
     "start_time": "2022-10-16T07:47:31.680792",
     "status": "completed"
    },
    "tags": []
   },
   "source": [
    "**Observations**\n",
    "* we only have int and string data types features. there is no feature with float. 26 features are numerical and 9 features are categorical\n",
    "* Attrition in out target value which has no missing value. But, the quantity of data of emp having Attrition is less compared to employees whoch do not have Attrition. \n",
    "- It's very good that we are having a complete dataset, there is no any missing values in dataset."
   ]
  },
  {
   "cell_type": "code",
   "execution_count": 12,
   "metadata": {
    "ExecuteTime": {
     "end_time": "2022-12-16T02:07:28.689567Z",
     "start_time": "2022-12-16T02:07:27.940627Z"
    },
    "execution": {
     "iopub.execute_input": "2022-10-16T07:47:31.862706Z",
     "iopub.status.busy": "2022-10-16T07:47:31.861946Z",
     "iopub.status.idle": "2022-10-16T07:47:32.392026Z",
     "shell.execute_reply": "2022-10-16T07:47:32.391344Z"
    },
    "papermill": {
     "duration": 0.592536,
     "end_time": "2022-10-16T07:47:32.392124",
     "exception": false,
     "start_time": "2022-10-16T07:47:31.799588",
     "status": "completed"
    },
    "tags": []
   },
   "outputs": [
    {
     "data": {
      "image/png": "[encoded data removed]",
      "text/plain": [
       "<Figure size 936x648 with 2 Axes>"
      ]
     },
     "metadata": {
      "needs_background": "light"
     },
     "output_type": "display_data"
    }
   ],
   "source": [
    "plt.figure(figsize=(13,9))\n",
    "sns.heatmap(empdf.corr(),vmax=0.8,linewidth=0.1,cmap='coolwarm')\n",
    "plt.show()"
   ]
  },
  {
   "cell_type": "markdown",
   "metadata": {
    "papermill": {
     "duration": 0.060998,
     "end_time": "2022-10-16T07:47:32.514291",
     "exception": false,
     "start_time": "2022-10-16T07:47:32.453293",
     "status": "completed"
    },
    "tags": []
   },
   "source": [
    "* JobLevel seems to be important feature, we will see that in further analysis.\n",
    "* TotalWorkingYears have positive relationship with JobLevel, and MonthlyIncome.\n",
    "* little bit of positive relationship can be seen between YearsAtCompany with YearsInCurrentRole, and YearsWithCurrentManager."
   ]
  },
  {
   "cell_type": "markdown",
   "metadata": {
    "papermill": {
     "duration": 0.058381,
     "end_time": "2022-10-16T07:47:32.632551",
     "exception": false,
     "start_time": "2022-10-16T07:47:32.574170",
     "status": "completed"
    },
    "tags": []
   },
   "source": [
    "# EDA\n",
    "\n",
    "### Univariate and Bivariate Analysis\n",
    "**Categorical Features**"
   ]
  },
  {
   "cell_type": "code",
   "execution_count": 13,
   "metadata": {
    "ExecuteTime": {
     "end_time": "2022-12-16T02:07:31.745678Z",
     "start_time": "2022-12-16T02:07:31.733886Z"
    },
    "execution": {
     "iopub.execute_input": "2022-10-16T07:47:32.764088Z",
     "iopub.status.busy": "2022-10-16T07:47:32.763332Z",
     "iopub.status.idle": "2022-10-16T07:47:32.767609Z",
     "shell.execute_reply": "2022-10-16T07:47:32.768035Z"
    },
    "papermill": {
     "duration": 0.074861,
     "end_time": "2022-10-16T07:47:32.768155",
     "exception": false,
     "start_time": "2022-10-16T07:47:32.693294",
     "status": "completed"
    },
    "tags": []
   },
   "outputs": [
    {
     "name": "stdout",
     "output_type": "stream",
     "text": [
      "total categorical_features 9\n"
     ]
    }
   ],
   "source": [
    "categorical_features = empdf.select_dtypes(include=[np.object]).columns\n",
    "print(\"total categorical_features\",len(categorical_features))"
   ]
  },
  {
   "cell_type": "code",
   "execution_count": 14,
   "metadata": {
    "ExecuteTime": {
     "end_time": "2022-12-16T02:07:33.512832Z",
     "start_time": "2022-12-16T02:07:33.481017Z"
    },
    "execution": {
     "iopub.execute_input": "2022-10-16T07:47:32.892486Z",
     "iopub.status.busy": "2022-10-16T07:47:32.892004Z",
     "iopub.status.idle": "2022-10-16T07:47:32.904804Z",
     "shell.execute_reply": "2022-10-16T07:47:32.905287Z"
    },
    "papermill": {
     "duration": 0.076289,
     "end_time": "2022-10-16T07:47:32.905407",
     "exception": false,
     "start_time": "2022-10-16T07:47:32.829118",
     "status": "completed"
    },
    "tags": []
   },
   "outputs": [
    {
     "data": {
      "text/html": [
       "<div>\n",
       "<style scoped>\n",
       "    .dataframe tbody tr th:only-of-type {\n",
       "        vertical-align: middle;\n",
       "    }\n",
       "\n",
       "    .dataframe tbody tr th {\n",
       "        vertical-align: top;\n",
       "    }\n",
       "\n",
       "    .dataframe thead th {\n",
       "        text-align: right;\n",
       "    }\n",
       "</style>\n",
       "<table border=\"1\" class=\"dataframe\">\n",
       "  <thead>\n",
       "    <tr style=\"text-align: right;\">\n",
       "      <th></th>\n",
       "      <th>Attrition</th>\n",
       "      <th>BusinessTravel</th>\n",
       "      <th>Department</th>\n",
       "      <th>EducationField</th>\n",
       "      <th>Gender</th>\n",
       "      <th>JobRole</th>\n",
       "      <th>MaritalStatus</th>\n",
       "      <th>Over18</th>\n",
       "      <th>OverTime</th>\n",
       "    </tr>\n",
       "  </thead>\n",
       "  <tbody>\n",
       "    <tr>\n",
       "      <th>0</th>\n",
       "      <td>No</td>\n",
       "      <td>Travel_Rarely</td>\n",
       "      <td>Research &amp; Development</td>\n",
       "      <td>Medical</td>\n",
       "      <td>Male</td>\n",
       "      <td>Research Director</td>\n",
       "      <td>Divorced</td>\n",
       "      <td>Y</td>\n",
       "      <td>No</td>\n",
       "    </tr>\n",
       "    <tr>\n",
       "      <th>1</th>\n",
       "      <td>No</td>\n",
       "      <td>Travel_Rarely</td>\n",
       "      <td>Research &amp; Development</td>\n",
       "      <td>Medical</td>\n",
       "      <td>Male</td>\n",
       "      <td>Manufacturing Director</td>\n",
       "      <td>Divorced</td>\n",
       "      <td>Y</td>\n",
       "      <td>No</td>\n",
       "    </tr>\n",
       "    <tr>\n",
       "      <th>2</th>\n",
       "      <td>Yes</td>\n",
       "      <td>Travel_Rarely</td>\n",
       "      <td>Sales</td>\n",
       "      <td>Marketing</td>\n",
       "      <td>Male</td>\n",
       "      <td>Sales Representative</td>\n",
       "      <td>Single</td>\n",
       "      <td>Y</td>\n",
       "      <td>No</td>\n",
       "    </tr>\n",
       "    <tr>\n",
       "      <th>3</th>\n",
       "      <td>No</td>\n",
       "      <td>Travel_Frequently</td>\n",
       "      <td>Human Resources</td>\n",
       "      <td>Medical</td>\n",
       "      <td>Male</td>\n",
       "      <td>Manager</td>\n",
       "      <td>Married</td>\n",
       "      <td>Y</td>\n",
       "      <td>No</td>\n",
       "    </tr>\n",
       "    <tr>\n",
       "      <th>4</th>\n",
       "      <td>No</td>\n",
       "      <td>Travel_Rarely</td>\n",
       "      <td>Research &amp; Development</td>\n",
       "      <td>Life Sciences</td>\n",
       "      <td>Male</td>\n",
       "      <td>Healthcare Representative</td>\n",
       "      <td>Single</td>\n",
       "      <td>Y</td>\n",
       "      <td>No</td>\n",
       "    </tr>\n",
       "  </tbody>\n",
       "</table>\n",
       "</div>"
      ],
      "text/plain": [
       "  Attrition     BusinessTravel              Department EducationField Gender  \\\n",
       "0        No      Travel_Rarely  Research & Development        Medical   Male   \n",
       "1        No      Travel_Rarely  Research & Development        Medical   Male   \n",
       "2       Yes      Travel_Rarely                   Sales      Marketing   Male   \n",
       "3        No  Travel_Frequently         Human Resources        Medical   Male   \n",
       "4        No      Travel_Rarely  Research & Development  Life Sciences   Male   \n",
       "\n",
       "                     JobRole MaritalStatus Over18 OverTime  \n",
       "0          Research Director      Divorced      Y       No  \n",
       "1     Manufacturing Director      Divorced      Y       No  \n",
       "2       Sales Representative        Single      Y       No  \n",
       "3                    Manager       Married      Y       No  \n",
       "4  Healthcare Representative        Single      Y       No  "
      ]
     },
     "execution_count": 14,
     "metadata": {},
     "output_type": "execute_result"
    }
   ],
   "source": [
    "empdf[categorical_features].head()"
   ]
  },
  {
   "cell_type": "code",
   "execution_count": 15,
   "metadata": {
    "ExecuteTime": {
     "end_time": "2022-12-16T02:07:35.364622Z",
     "start_time": "2022-12-16T02:07:35.354897Z"
    },
    "execution": {
     "iopub.execute_input": "2022-10-16T07:47:33.030779Z",
     "iopub.status.busy": "2022-10-16T07:47:33.030250Z",
     "iopub.status.idle": "2022-10-16T07:47:33.036455Z",
     "shell.execute_reply": "2022-10-16T07:47:33.036852Z"
    },
    "papermill": {
     "duration": 0.070032,
     "end_time": "2022-10-16T07:47:33.037089",
     "exception": false,
     "start_time": "2022-10-16T07:47:32.967057",
     "status": "completed"
    },
    "tags": []
   },
   "outputs": [
    {
     "data": {
      "text/plain": [
       "Travel_Rarely        723\n",
       "Travel_Frequently    199\n",
       "Non-Travel           102\n",
       "Name: BusinessTravel, dtype: int64"
      ]
     },
     "execution_count": 15,
     "metadata": {},
     "output_type": "execute_result"
    }
   ],
   "source": [
    "# Business Travel\n",
    "empdf['BusinessTravel'].value_counts()"
   ]
  },
  {
   "cell_type": "code",
   "execution_count": 16,
   "metadata": {
    "ExecuteTime": {
     "end_time": "2022-12-16T02:07:36.567656Z",
     "start_time": "2022-12-16T02:07:36.315487Z"
    },
    "execution": {
     "iopub.execute_input": "2022-10-16T07:47:33.164526Z",
     "iopub.status.busy": "2022-10-16T07:47:33.164045Z",
     "iopub.status.idle": "2022-10-16T07:47:33.299371Z",
     "shell.execute_reply": "2022-10-16T07:47:33.299815Z"
    },
    "papermill": {
     "duration": 0.20063,
     "end_time": "2022-10-16T07:47:33.299975",
     "exception": false,
     "start_time": "2022-10-16T07:47:33.099345",
     "status": "completed"
    },
    "tags": []
   },
   "outputs": [
    {
     "data": {
      "image/png": "[encoded data removed]",
      "text/plain": [
       "<Figure size 576x360 with 1 Axes>"
      ]
     },
     "metadata": {
      "needs_background": "light"
     },
     "output_type": "display_data"
    }
   ],
   "source": [
    "plt.figure(figsize=(8,5))\n",
    "sns.countplot(x='BusinessTravel',hue='Attrition', data=empdf, palette='plasma')\n",
    "plt.title(\"Attrition wrt BusinessTravel\")\n",
    "plt.show()"
   ]
  },
  {
   "cell_type": "code",
   "execution_count": 17,
   "metadata": {
    "ExecuteTime": {
     "end_time": "2022-12-16T02:07:40.095221Z",
     "start_time": "2022-12-16T02:07:37.735662Z"
    },
    "execution": {
     "iopub.execute_input": "2022-10-16T07:47:33.429756Z",
     "iopub.status.busy": "2022-10-16T07:47:33.429230Z",
     "iopub.status.idle": "2022-10-16T07:47:34.651405Z",
     "shell.execute_reply": "2022-10-16T07:47:34.651843Z"
    },
    "papermill": {
     "duration": 1.289525,
     "end_time": "2022-10-16T07:47:34.651978",
     "exception": false,
     "start_time": "2022-10-16T07:47:33.362453",
     "status": "completed"
    },
    "tags": []
   },
   "outputs": [
    {
     "data": {
      "application/vnd.plotly.v1+json": {
       "config": {
        "plotlyServerURL": "https://plot.ly"
       },
       "data": [
        {
         "alignmentgroup": "True",
         "bingroup": "x",
         "hovertemplate": "Attrition=No<br>BusinessTravel=%{x}<br>count=%{y}<extra></extra>",
         "legendgroup": "No",
         "marker": {
          "color": "#636efa",
          "pattern": {
           "shape": ""
          }
         },
         "name": "No",
         "offsetgroup": "No",
         "orientation": "v",
         "showlegend": true,
         "type": "histogram",
         "x": [
          "Travel_Rarely",
          "Travel_Rarely",
          "Travel_Frequently",
          "Travel_Rarely",
          "Travel_Rarely",
          "Travel_Rarely",
          "Non-Travel",
          "Travel_Rarely",
          "Travel_Frequently",
          "Travel_Rarely",
          "Travel_Frequently",
          "Travel_Rarely",
          "Travel_Rarely",
          "Travel_Rarely",
          "Travel_Rarely",
          "Travel_Rarely",
          "Travel_Rarely",
          "Non-Travel",
          "Travel_Rarely",
          "Travel_Rarely",
          "Travel_Rarely",
          "Travel_Rarely",
          "Travel_Rarely",
          "Travel_Rarely",
          "Travel_Rarely",
          "Travel_Rarely",
          "Travel_Rarely",
          "Travel_Rarely",
          "Travel_Rarely",
          "Travel_Rarely",
          "Travel_Rarely",
          "Travel_Rarely",
          "Travel_Rarely",
          "Travel_Frequently",
          "Travel_Rarely",
          "Travel_Rarely",
          "Travel_Rarely",
          "Travel_Frequently",
          "Travel_Rarely",
          "Travel_Rarely",
          "Non-Travel",
          "Travel_Rarely",
          "Travel_Rarely",
          "Travel_Rarely",
          "Travel_Rarely",
          "Travel_Frequently",
          "Travel_Rarely",
          "Travel_Rarely",
          "Travel_Rarely",
          "Non-Travel",
          "Travel_Rarely",
          "Travel_Frequently",
          "Travel_Rarely",
          "Travel_Rarely",
          "Travel_Rarely",
          "Travel_Rarely",
          "Travel_Frequently",
          "Travel_Rarely",
          "Travel_Frequently",
          "Travel_Rarely",
          "Travel_Rarely",
          "Travel_Rarely",
          "Travel_Rarely",
          "Travel_Rarely",
          "Travel_Rarely",
          "Travel_Rarely",
          "Travel_Frequently",
          "Travel_Rarely",
          "Travel_Rarely",
          "Travel_Rarely",
          "Travel_Rarely",
          "Travel_Rarely",
          "Travel_Frequently",
          "Non-Travel",
          "Travel_Rarely",
          "Travel_Rarely",
          "Travel_Rarely",
          "Travel_Rarely",
          "Travel_Frequently",
          "Travel_Frequently",
          "Travel_Frequently",
          "Travel_Rarely",
          "Travel_Frequently",
          "Travel_Rarely",
          "Travel_Rarely",
          "Travel_Frequently",
          "Non-Travel",
          "Travel_Rarely",
          "Travel_Rarely",
          "Travel_Rarely",
          "Travel_Rarely",
          "Non-Travel",
          "Travel_Rarely",
          "Travel_Rarely",
          "Non-Travel",
          "Travel_Rarely",
          "Travel_Frequently",
          "Travel_Frequently",
          "Travel_Rarely",
          "Travel_Frequently",
          "Non-Travel",
          "Travel_Rarely",
          "Travel_Rarely",
          "Travel_Rarely",
          "Travel_Rarely",
          "Travel_Rarely",
          "Travel_Rarely",
          "Travel_Frequently",
          "Non-Travel",
          "Non-Travel",
          "Travel_Rarely",
          "Travel_Frequently",
          "Travel_Rarely",
          "Travel_Rarely",
          "Travel_Frequently",
          "Travel_Rarely",
          "Travel_Rarely",
          "Travel_Frequently",
          "Travel_Rarely",
          "Travel_Rarely",
          "Travel_Rarely",
          "Travel_Rarely",
          "Travel_Rarely",
          "Travel_Rarely",
          "Travel_Frequently",
          "Travel_Rarely",
          "Travel_Rarely",
          "Non-Travel",
          "Travel_Rarely",
          "Travel_Frequently",
          "Travel_Rarely",
          "Travel_Rarely",
          "Travel_Rarely",
          "Travel_Rarely",
          "Travel_Frequently",
          "Travel_Rarely",
          "Travel_Frequently",
          "Travel_Rarely",
          "Travel_Rarely",
          "Travel_Rarely",
          "Travel_Frequently",
          "Travel_Rarely",
          "Travel_Rarely",
          "Non-Travel",
          "Travel_Frequently",
          "Travel_Rarely",
          "Travel_Rarely",
          null,
          "Travel_Rarely",
          "Travel_Rarely",
          "Travel_Rarely",
          "Travel_Rarely",
          "Travel_Rarely",
          "Non-Travel",
          "Travel_Rarely",
          "Travel_Rarely",
          "Travel_Rarely",
          "Travel_Frequently",
          "Non-Travel",
          "Travel_Rarely",
          "Travel_Rarely",
          "Travel_Frequently",
          "Travel_Frequently",
          "Travel_Rarely",
          "Travel_Rarely",
          "Travel_Rarely",
          "Travel_Rarely",
          "Non-Travel",
          "Travel_Frequently",
          "Travel_Rarely",
          "Travel_Frequently",
          "Travel_Rarely",
          "Travel_Rarely",
          "Travel_Frequently",
          "Travel_Rarely",
          "Travel_Rarely",
          "Travel_Rarely",
          "Travel_Rarely",
          "Travel_Frequently",
          "Non-Travel",
          "Travel_Frequently",
          "Non-Travel",
          "Travel_Rarely",
          "Travel_Frequently",
          "Travel_Rarely",
          "Travel_Frequently",
          "Travel_Rarely",
          "Travel_Rarely",
          "Travel_Rarely",
          "Travel_Rarely",
          "Travel_Rarely",
          "Travel_Rarely",
          "Travel_Rarely",
          "Travel_Rarely",
          "Travel_Frequently",
          "Travel_Rarely",
          "Travel_Frequently",
          "Travel_Rarely",
          "Travel_Frequently",
          "Travel_Rarely",
          "Travel_Rarely",
          "Non-Travel",
          "Travel_Rarely",
          "Travel_Rarely",
          "Non-Travel",
          "Travel_Rarely",
          "Travel_Frequently",
          "Travel_Frequently",
          "Travel_Rarely",
          "Travel_Rarely",
          "Travel_Frequently",
          "Travel_Frequently",
          "Travel_Rarely",
          "Travel_Frequently",
          "Travel_Rarely",
          "Travel_Rarely",
          "Travel_Rarely",
          null,
          "Travel_Rarely",
          "Travel_Rarely",
          "Non-Travel",
          "Travel_Rarely",
          null,
          "Non-Travel",
          "Non-Travel",
          "Travel_Rarely",
          "Travel_Rarely",
          "Travel_Rarely",
          "Non-Travel",
          "Travel_Rarely",
          "Travel_Rarely",
          "Non-Travel",
          "Travel_Rarely",
          "Travel_Rarely",
          "Travel_Rarely",
          "Travel_Rarely",
          "Non-Travel",
          "Travel_Rarely",
          "Travel_Rarely",
          "Travel_Rarely",
          "Travel_Rarely",
          "Travel_Rarely",
          "Travel_Rarely",
          "Travel_Rarely",
          "Non-Travel",
          "Non-Travel",
          "Travel_Frequently",
          "Travel_Frequently",
          "Travel_Rarely",
          "Travel_Frequently",
          "Travel_Rarely",
          "Travel_Rarely",
          "Travel_Rarely",
          "Travel_Rarely",
          "Travel_Rarely",
          "Travel_Rarely",
          "Travel_Rarely",
          "Travel_Frequently",
          "Travel_Rarely",
          "Travel_Rarely",
          "Travel_Rarely",
          "Travel_Rarely",
          "Travel_Frequently",
          "Travel_Rarely",
          "Travel_Rarely",
          "Travel_Rarely",
          "Non-Travel",
          "Travel_Rarely",
          "Travel_Rarely",
          "Travel_Rarely",
          "Travel_Frequently",
          "Travel_Frequently",
          "Travel_Rarely",
          "Travel_Rarely",
          "Travel_Rarely",
          "Travel_Rarely",
          "Non-Travel",
          "Travel_Rarely",
          "Travel_Rarely",
          "Travel_Rarely",
          "Travel_Rarely",
          "Travel_Rarely",
          "Travel_Rarely",
          "Travel_Rarely",
          null,
          "Travel_Rarely",
          "Travel_Rarely",
          "Travel_Rarely",
          "Travel_Rarely",
          "Travel_Rarely",
          null,
          "Non-Travel",
          "Travel_Rarely",
          "Travel_Frequently",
          "Non-Travel",
          "Travel_Rarely",
          "Travel_Rarely",
          "Travel_Rarely",
          "Travel_Frequently",
          "Travel_Rarely",
          "Non-Travel",
          "Travel_Frequently",
          "Travel_Rarely",
          "Travel_Rarely",
          "Travel_Frequently",
          "Travel_Frequently",
          "Travel_Rarely",
          "Travel_Rarely",
          "Travel_Rarely",
          "Travel_Rarely",
          "Travel_Frequently",
          "Travel_Rarely",
          "Travel_Rarely",
          "Travel_Rarely",
          "Travel_Rarely",
          "Travel_Rarely",
          "Travel_Rarely",
          "Non-Travel",
          "Travel_Rarely",
          "Travel_Rarely",
          "Travel_Rarely",
          "Travel_Rarely",
          "Travel_Frequently",
          "Travel_Rarely",
          "Travel_Rarely",
          "Travel_Frequently",
          "Travel_Rarely",
          "Travel_Frequently",
          "Travel_Rarely",
          "Travel_Rarely",
          "Travel_Rarely",
          "Travel_Rarely",
          "Travel_Rarely",
          "Travel_Rarely",
          "Travel_Rarely",
          "Travel_Frequently",
          "Travel_Frequently",
          "Travel_Frequently",
          "Travel_Rarely",
          "Travel_Frequently",
          "Travel_Rarely",
          "Travel_Rarely",
          "Travel_Rarely",
          "Travel_Rarely",
          "Travel_Rarely",
          "Travel_Rarely",
          "Travel_Rarely",
          "Travel_Rarely",
          "Travel_Rarely",
          "Travel_Rarely",
          "Non-Travel",
          "Travel_Frequently",
          "Travel_Rarely",
          "Travel_Rarely",
          "Travel_Rarely",
          "Travel_Rarely",
          "Travel_Rarely",
          "Travel_Frequently",
          "Travel_Rarely",
          "Travel_Rarely",
          "Non-Travel",
          "Travel_Rarely",
          "Travel_Rarely",
          "Non-Travel",
          "Travel_Frequently",
          "Travel_Rarely",
          "Travel_Rarely",
          "Travel_Rarely",
          "Travel_Rarely",
          "Travel_Frequently",
          "Non-Travel",
          "Travel_Rarely",
          "Travel_Rarely",
          "Travel_Frequently",
          "Non-Travel",
          "Travel_Frequently",
          "Non-Travel",
          "Travel_Frequently",
          "Travel_Rarely",
          "Travel_Frequently",
          "Travel_Rarely",
          "Travel_Rarely",
          "Travel_Rarely",
          "Travel_Rarely",
          "Travel_Rarely",
          "Travel_Rarely",
          "Travel_Rarely",
          "Travel_Rarely",
          "Non-Travel",
          "Travel_Rarely",
          "Travel_Rarely",
          "Non-Travel",
          "Travel_Frequently",
          "Travel_Rarely",
          "Travel_Rarely",
          "Non-Travel",
          "Non-Travel",
          "Travel_Rarely",
          "Travel_Rarely",
          "Non-Travel",
          "Travel_Rarely",
          "Travel_Frequently",
          "Travel_Rarely",
          "Travel_Rarely",
          "Travel_Rarely",
          "Travel_Rarely",
          "Travel_Rarely",
          "Travel_Rarely",
          "Travel_Rarely",
          "Travel_Frequently",
          "Travel_Rarely",
          "Travel_Rarely",
          "Travel_Rarely",
          "Travel_Rarely",
          "Travel_Rarely",
          "Travel_Rarely",
          "Travel_Rarely",
          "Non-Travel",
          "Travel_Rarely",
          "Travel_Rarely",
          "Travel_Rarely",
          "Travel_Frequently",
          "Travel_Rarely",
          "Travel_Rarely",
          "Travel_Frequently",
          "Travel_Rarely",
          "Travel_Frequently",
          "Travel_Rarely",
          "Non-Travel",
          "Non-Travel",
          "Travel_Rarely",
          "Travel_Rarely",
          "Travel_Rarely",
          "Travel_Rarely",
          "Travel_Rarely",
          "Travel_Rarely",
          "Non-Travel",
          "Travel_Rarely",
          "Travel_Rarely",
          "Travel_Frequently",
          "Travel_Rarely",
          "Travel_Rarely",
          "Travel_Rarely",
          "Non-Travel",
          "Travel_Rarely",
          "Travel_Rarely",
          "Travel_Rarely",
          "Travel_Rarely",
          "Travel_Frequently",
          "Travel_Rarely",
          "Travel_Rarely",
          "Travel_Frequently",
          "Non-Travel",
          "Travel_Frequently",
          "Non-Travel",
          "Travel_Rarely",
          "Travel_Rarely",
          "Travel_Rarely",
          "Non-Travel",
          "Travel_Rarely",
          "Non-Travel",
          "Travel_Rarely",
          "Travel_Rarely",
          "Travel_Rarely",
          "Travel_Rarely",
          "Travel_Rarely",
          "Travel_Rarely",
          "Non-Travel",
          "Travel_Rarely",
          "Travel_Frequently",
          "Travel_Rarely",
          "Travel_Rarely",
          "Non-Travel",
          "Travel_Rarely",
          "Travel_Rarely",
          "Travel_Rarely",
          "Travel_Rarely",
          "Travel_Rarely",
          "Travel_Rarely",
          "Travel_Rarely",
          "Travel_Rarely",
          "Travel_Rarely",
          "Travel_Rarely",
          "Travel_Rarely",
          "Travel_Frequently",
          "Travel_Rarely",
          "Travel_Rarely",
          "Non-Travel",
          "Travel_Frequently",
          "Non-Travel",
          "Travel_Frequently",
          "Travel_Rarely",
          "Travel_Rarely",
          "Travel_Rarely",
          "Travel_Frequently",
          "Travel_Rarely",
          "Travel_Rarely",
          "Travel_Rarely",
          "Travel_Frequently",
          "Travel_Rarely",
          "Travel_Frequently",
          "Travel_Rarely",
          "Travel_Rarely",
          "Travel_Rarely",
          "Non-Travel",
          "Travel_Frequently",
          "Travel_Rarely",
          "Travel_Rarely",
          "Travel_Frequently",
          "Travel_Rarely",
          "Travel_Rarely",
          "Travel_Rarely",
          "Travel_Rarely",
          "Travel_Rarely",
          "Travel_Frequently",
          "Travel_Rarely",
          "Travel_Rarely",
          "Travel_Frequently",
          "Travel_Rarely",
          "Non-Travel",
          "Travel_Rarely",
          "Travel_Rarely",
          "Travel_Rarely",
          "Travel_Rarely",
          "Travel_Rarely",
          "Non-Travel",
          "Travel_Rarely",
          "Travel_Rarely",
          "Travel_Rarely",
          "Travel_Rarely",
          "Travel_Rarely",
          "Travel_Rarely",
          "Travel_Frequently",
          "Travel_Rarely",
          "Travel_Rarely",
          "Travel_Rarely",
          "Travel_Rarely",
          "Travel_Rarely",
          "Travel_Frequently",
          "Travel_Rarely",
          "Travel_Rarely",
          "Travel_Rarely",
          "Travel_Rarely",
          "Travel_Rarely",
          "Travel_Frequently",
          "Travel_Frequently",
          "Non-Travel",
          "Non-Travel",
          "Travel_Rarely",
          "Travel_Rarely",
          "Travel_Rarely",
          "Travel_Rarely",
          "Travel_Rarely",
          "Travel_Rarely",
          "Travel_Rarely",
          "Travel_Rarely",
          "Travel_Rarely",
          "Travel_Frequently",
          "Travel_Frequently",
          "Travel_Rarely",
          "Travel_Rarely",
          "Travel_Frequently",
          "Travel_Rarely",
          "Travel_Rarely",
          "Travel_Rarely",
          "Travel_Frequently",
          "Travel_Rarely",
          "Travel_Rarely",
          "Travel_Frequently",
          "Travel_Rarely",
          "Non-Travel",
          "Travel_Rarely",
          "Travel_Rarely",
          "Travel_Rarely",
          "Travel_Rarely",
          "Travel_Rarely",
          "Travel_Rarely",
          "Travel_Rarely",
          "Travel_Frequently",
          "Travel_Frequently",
          "Travel_Rarely",
          "Travel_Frequently",
          "Travel_Frequently",
          "Travel_Rarely",
          "Travel_Frequently",
          "Travel_Frequently",
          "Travel_Rarely",
          "Travel_Rarely",
          "Travel_Rarely",
          "Travel_Frequently",
          "Travel_Frequently",
          "Travel_Rarely",
          "Travel_Rarely",
          "Travel_Frequently",
          "Non-Travel",
          "Travel_Rarely",
          "Non-Travel",
          "Travel_Rarely",
          "Travel_Frequently",
          "Travel_Rarely",
          "Travel_Rarely",
          "Non-Travel",
          "Non-Travel",
          "Travel_Frequently",
          "Travel_Frequently",
          "Travel_Rarely",
          "Travel_Rarely",
          "Travel_Rarely",
          "Travel_Rarely",
          "Travel_Rarely",
          "Travel_Rarely",
          "Travel_Rarely",
          "Travel_Rarely",
          "Travel_Rarely",
          "Travel_Rarely",
          "Travel_Rarely",
          "Travel_Frequently",
          "Travel_Rarely",
          "Travel_Rarely",
          "Travel_Rarely",
          "Travel_Rarely",
          "Travel_Rarely",
          "Non-Travel",
          "Travel_Rarely",
          "Travel_Rarely",
          "Travel_Rarely",
          "Travel_Rarely",
          "Travel_Rarely",
          "Travel_Rarely",
          "Non-Travel",
          "Travel_Rarely",
          "Travel_Rarely",
          "Travel_Frequently",
          "Travel_Rarely",
          "Travel_Rarely",
          "Travel_Rarely",
          "Travel_Rarely",
          "Travel_Rarely",
          "Travel_Rarely",
          "Travel_Rarely",
          "Travel_Rarely",
          "Travel_Frequently",
          "Travel_Rarely",
          "Travel_Rarely",
          "Travel_Rarely",
          "Travel_Frequently",
          "Travel_Rarely",
          "Travel_Rarely",
          "Travel_Rarely",
          "Non-Travel",
          "Travel_Rarely",
          "Non-Travel",
          "Non-Travel",
          "Travel_Rarely",
          "Travel_Rarely",
          "Travel_Rarely",
          "Travel_Frequently",
          "Travel_Rarely",
          "Travel_Rarely",
          "Travel_Frequently",
          "Travel_Rarely",
          "Travel_Frequently",
          "Travel_Rarely",
          "Travel_Rarely",
          "Travel_Rarely",
          "Travel_Rarely",
          "Travel_Frequently",
          "Travel_Rarely",
          "Travel_Frequently",
          "Travel_Rarely",
          "Travel_Rarely",
          "Travel_Rarely",
          "Travel_Frequently",
          "Travel_Rarely",
          "Non-Travel",
          "Travel_Rarely",
          "Non-Travel",
          "Travel_Rarely",
          "Travel_Rarely",
          "Travel_Rarely",
          "Travel_Rarely",
          "Travel_Rarely",
          "Non-Travel",
          "Travel_Rarely",
          "Travel_Rarely",
          "Travel_Rarely",
          "Travel_Rarely",
          "Travel_Rarely",
          "Travel_Rarely",
          "Non-Travel",
          "Non-Travel",
          "Travel_Rarely",
          "Travel_Rarely",
          "Travel_Frequently",
          "Travel_Rarely",
          "Travel_Frequently",
          "Travel_Rarely",
          "Travel_Rarely",
          "Non-Travel",
          "Travel_Rarely",
          "Travel_Rarely",
          "Travel_Rarely",
          "Travel_Rarely",
          "Travel_Frequently",
          "Travel_Frequently",
          "Non-Travel",
          "Travel_Rarely",
          "Travel_Rarely",
          "Non-Travel",
          "Travel_Frequently",
          "Travel_Frequently",
          "Travel_Rarely",
          "Travel_Rarely",
          "Travel_Frequently",
          "Travel_Rarely",
          "Non-Travel",
          "Travel_Frequently",
          "Travel_Frequently",
          "Travel_Rarely",
          "Travel_Rarely",
          "Travel_Rarely",
          "Travel_Rarely",
          "Travel_Rarely",
          "Travel_Rarely",
          "Travel_Rarely",
          "Travel_Rarely",
          "Travel_Rarely",
          "Travel_Rarely",
          "Travel_Rarely",
          "Travel_Rarely",
          "Travel_Rarely",
          "Travel_Rarely",
          "Travel_Rarely",
          "Travel_Rarely",
          "Travel_Rarely",
          "Travel_Rarely",
          "Travel_Rarely",
          "Travel_Rarely",
          "Travel_Rarely",
          "Travel_Rarely",
          "Travel_Rarely",
          "Travel_Rarely",
          "Travel_Rarely",
          "Travel_Rarely",
          "Travel_Frequently",
          "Travel_Rarely",
          "Travel_Rarely",
          "Travel_Rarely",
          "Travel_Rarely",
          "Travel_Rarely",
          "Travel_Rarely",
          "Travel_Rarely",
          "Travel_Rarely",
          "Travel_Frequently",
          "Travel_Rarely",
          "Non-Travel",
          "Travel_Rarely",
          "Travel_Rarely",
          "Travel_Rarely",
          "Travel_Frequently",
          "Travel_Frequently",
          "Travel_Rarely",
          "Travel_Frequently",
          "Travel_Rarely",
          "Travel_Rarely",
          "Travel_Rarely",
          "Travel_Rarely",
          "Travel_Rarely",
          "Travel_Rarely",
          "Travel_Frequently",
          "Travel_Rarely",
          "Travel_Rarely",
          "Travel_Rarely",
          "Travel_Rarely",
          "Travel_Rarely",
          "Travel_Rarely",
          "Travel_Rarely",
          "Travel_Rarely",
          "Travel_Rarely",
          "Travel_Rarely",
          "Travel_Rarely",
          "Travel_Frequently",
          "Non-Travel",
          "Travel_Rarely",
          "Travel_Rarely",
          "Travel_Frequently",
          "Travel_Rarely",
          "Travel_Rarely",
          "Travel_Rarely",
          "Travel_Rarely",
          "Travel_Rarely",
          "Travel_Rarely",
          "Non-Travel",
          "Non-Travel",
          "Travel_Rarely",
          "Travel_Frequently",
          "Travel_Rarely",
          "Travel_Rarely",
          "Travel_Rarely",
          "Travel_Rarely",
          "Travel_Rarely",
          "Travel_Rarely",
          "Travel_Rarely",
          "Travel_Rarely",
          "Travel_Rarely",
          "Travel_Rarely",
          "Travel_Rarely",
          "Travel_Rarely",
          "Non-Travel",
          "Travel_Rarely",
          "Travel_Frequently",
          "Travel_Rarely",
          "Travel_Rarely",
          "Travel_Rarely",
          "Travel_Rarely",
          "Non-Travel",
          "Travel_Rarely",
          "Travel_Rarely",
          "Non-Travel",
          "Travel_Rarely",
          "Travel_Rarely",
          "Non-Travel",
          "Travel_Rarely",
          "Travel_Rarely",
          "Travel_Rarely",
          "Travel_Rarely",
          "Travel_Rarely",
          "Travel_Rarely",
          "Travel_Rarely",
          "Travel_Rarely",
          "Travel_Rarely",
          "Non-Travel",
          "Travel_Rarely",
          "Travel_Rarely",
          "Travel_Rarely",
          "Travel_Frequently",
          "Non-Travel",
          "Non-Travel",
          "Travel_Rarely",
          "Travel_Frequently",
          "Travel_Frequently",
          "Travel_Rarely",
          "Travel_Rarely",
          "Travel_Frequently",
          "Travel_Rarely",
          "Travel_Rarely",
          "Non-Travel",
          "Travel_Rarely",
          "Travel_Rarely",
          "Travel_Rarely",
          "Travel_Rarely",
          "Travel_Rarely",
          "Travel_Rarely"
         ],
         "xaxis": "x",
         "yaxis": "y"
        },
        {
         "alignmentgroup": "True",
         "bingroup": "x",
         "hovertemplate": "Attrition=Yes<br>BusinessTravel=%{x}<br>count=%{y}<extra></extra>",
         "legendgroup": "Yes",
         "marker": {
          "color": "#EF553B",
          "pattern": {
           "shape": ""
          }
         },
         "name": "Yes",
         "offsetgroup": "Yes",
         "orientation": "v",
         "showlegend": true,
         "type": "histogram",
         "x": [
          "Travel_Rarely",
          "Travel_Rarely",
          "Travel_Rarely",
          "Travel_Rarely",
          "Travel_Rarely",
          "Travel_Frequently",
          "Travel_Frequently",
          "Travel_Rarely",
          "Travel_Rarely",
          "Travel_Frequently",
          "Travel_Rarely",
          "Travel_Rarely",
          "Travel_Rarely",
          "Travel_Frequently",
          "Travel_Frequently",
          "Travel_Rarely",
          "Travel_Rarely",
          "Travel_Rarely",
          "Travel_Frequently",
          "Travel_Rarely",
          "Travel_Frequently",
          "Travel_Rarely",
          "Travel_Frequently",
          "Travel_Frequently",
          "Travel_Rarely",
          "Travel_Rarely",
          "Travel_Frequently",
          "Travel_Rarely",
          "Travel_Rarely",
          "Travel_Rarely",
          "Travel_Frequently",
          "Non-Travel",
          "Travel_Rarely",
          "Travel_Rarely",
          "Travel_Rarely",
          "Travel_Rarely",
          "Travel_Frequently",
          "Travel_Rarely",
          "Travel_Rarely",
          "Travel_Frequently",
          "Travel_Frequently",
          "Travel_Rarely",
          "Travel_Rarely",
          "Travel_Rarely",
          "Travel_Rarely",
          "Travel_Rarely",
          "Travel_Rarely",
          "Travel_Frequently",
          "Travel_Rarely",
          "Travel_Frequently",
          "Travel_Frequently",
          "Travel_Rarely",
          "Travel_Rarely",
          "Travel_Rarely",
          "Travel_Rarely",
          "Travel_Frequently",
          "Travel_Rarely",
          "Travel_Frequently",
          "Travel_Rarely",
          "Travel_Rarely",
          "Travel_Frequently",
          "Travel_Frequently",
          "Travel_Frequently",
          "Travel_Rarely",
          "Non-Travel",
          "Travel_Rarely",
          "Travel_Rarely",
          "Non-Travel",
          "Travel_Rarely",
          "Travel_Rarely",
          "Travel_Rarely",
          "Travel_Rarely",
          "Travel_Rarely",
          "Travel_Rarely",
          "Travel_Rarely",
          "Travel_Rarely",
          "Travel_Rarely",
          "Travel_Rarely",
          "Travel_Rarely",
          "Travel_Rarely",
          "Travel_Frequently",
          "Travel_Rarely",
          "Travel_Rarely",
          "Travel_Rarely",
          "Travel_Rarely",
          "Travel_Rarely",
          "Travel_Rarely",
          "Travel_Frequently",
          "Travel_Rarely",
          "Travel_Rarely",
          "Travel_Rarely",
          "Travel_Frequently",
          "Travel_Rarely",
          "Non-Travel",
          "Travel_Rarely",
          "Travel_Rarely",
          "Travel_Frequently",
          "Travel_Rarely",
          "Travel_Frequently",
          "Travel_Rarely",
          "Travel_Frequently",
          "Travel_Rarely",
          "Travel_Rarely",
          "Travel_Rarely",
          "Travel_Frequently",
          "Travel_Rarely",
          "Travel_Frequently",
          "Travel_Rarely",
          "Travel_Frequently",
          "Travel_Rarely",
          "Travel_Frequently",
          "Travel_Rarely",
          "Travel_Frequently",
          "Travel_Rarely",
          "Travel_Rarely",
          "Travel_Rarely",
          "Travel_Rarely",
          "Travel_Frequently",
          "Travel_Rarely",
          "Travel_Rarely",
          "Travel_Frequently",
          "Travel_Rarely",
          "Travel_Rarely",
          "Non-Travel",
          "Travel_Frequently",
          "Travel_Frequently",
          "Travel_Rarely",
          "Travel_Frequently",
          "Travel_Rarely",
          "Travel_Rarely",
          "Travel_Rarely",
          "Travel_Rarely",
          "Travel_Frequently",
          "Travel_Rarely",
          "Travel_Rarely",
          "Travel_Rarely",
          "Travel_Frequently",
          "Travel_Frequently",
          "Travel_Rarely",
          "Travel_Rarely",
          "Travel_Rarely",
          "Travel_Rarely",
          "Travel_Rarely",
          "Travel_Rarely",
          "Non-Travel",
          "Travel_Rarely",
          "Travel_Frequently",
          "Travel_Rarely",
          "Non-Travel",
          "Travel_Rarely",
          "Travel_Rarely",
          "Travel_Frequently",
          "Travel_Rarely",
          "Non-Travel",
          "Travel_Rarely",
          "Travel_Rarely",
          "Travel_Rarely",
          "Travel_Frequently",
          "Travel_Rarely",
          "Travel_Rarely",
          "Travel_Rarely",
          "Travel_Rarely",
          "Travel_Rarely",
          "Travel_Rarely",
          "Travel_Rarely",
          "Travel_Frequently",
          "Travel_Rarely",
          "Travel_Frequently",
          "Travel_Rarely",
          "Travel_Rarely",
          "Travel_Rarely",
          "Travel_Frequently",
          "Travel_Frequently",
          "Travel_Rarely",
          "Travel_Rarely",
          "Travel_Frequently"
         ],
         "xaxis": "x",
         "yaxis": "y"
        }
       ],
       "layout": {
        "barmode": "group",
        "height": 390,
        "legend": {
         "title": {
          "text": "Attrition"
         },
         "tracegroupgap": 0
        },
        "margin": {
         "t": 60
        },
        "template": {
         "data": {
          "bar": [
           {
            "error_x": {
             "color": "#2a3f5f"
            },
            "error_y": {
             "color": "#2a3f5f"
            },
            "marker": {
             "line": {
              "color": "#E5ECF6",
              "width": 0.5
             },
             "pattern": {
              "fillmode": "overlay",
              "size": 10,
              "solidity": 0.2
             }
            },
            "type": "bar"
           }
          ],
          "barpolar": [
           {
            "marker": {
             "line": {
              "color": "#E5ECF6",
              "width": 0.5
             },
             "pattern": {
              "fillmode": "overlay",
              "size": 10,
              "solidity": 0.2
             }
            },
            "type": "barpolar"
           }
          ],
          "carpet": [
           {
            "aaxis": {
             "endlinecolor": "#2a3f5f",
             "gridcolor": "white",
             "linecolor": "white",
             "minorgridcolor": "white",
             "startlinecolor": "#2a3f5f"
            },
            "baxis": {
             "endlinecolor": "#2a3f5f",
             "gridcolor": "white",
             "linecolor": "white",
             "minorgridcolor": "white",
             "startlinecolor": "#2a3f5f"
            },
            "type": "carpet"
           }
          ],
          "choropleth": [
           {
            "colorbar": {
             "outlinewidth": 0,
             "ticks": ""
            },
            "type": "choropleth"
           }
          ],
          "contour": [
           {
            "colorbar": {
             "outlinewidth": 0,
             "ticks": ""
            },
            "colorscale": [
             [
              0,
              "#0d0887"
             ],
             [
              0.1111111111111111,
              "#46039f"
             ],
             [
              0.2222222222222222,
              "#7201a8"
             ],
             [
              0.3333333333333333,
              "#9c179e"
             ],
             [
              0.4444444444444444,
              "#bd3786"
             ],
             [
              0.5555555555555556,
              "#d8576b"
             ],
             [
              0.6666666666666666,
              "#ed7953"
             ],
             [
              0.7777777777777778,
              "#fb9f3a"
             ],
             [
              0.8888888888888888,
              "#fdca26"
             ],
             [
              1,
              "#f0f921"
             ]
            ],
            "type": "contour"
           }
          ],
          "contourcarpet": [
           {
            "colorbar": {
             "outlinewidth": 0,
             "ticks": ""
            },
            "type": "contourcarpet"
           }
          ],
          "heatmap": [
           {
            "colorbar": {
             "outlinewidth": 0,
             "ticks": ""
            },
            "colorscale": [
             [
              0,
              "#0d0887"
             ],
             [
              0.1111111111111111,
              "#46039f"
             ],
             [
              0.2222222222222222,
              "#7201a8"
             ],
             [
              0.3333333333333333,
              "#9c179e"
             ],
             [
              0.4444444444444444,
              "#bd3786"
             ],
             [
              0.5555555555555556,
              "#d8576b"
             ],
             [
              0.6666666666666666,
              "#ed7953"
             ],
             [
              0.7777777777777778,
              "#fb9f3a"
             ],
             [
              0.8888888888888888,
              "#fdca26"
             ],
             [
              1,
              "#f0f921"
             ]
            ],
            "type": "heatmap"
           }
          ],
          "heatmapgl": [
           {
            "colorbar": {
             "outlinewidth": 0,
             "ticks": ""
            },
            "colorscale": [
             [
              0,
              "#0d0887"
             ],
             [
              0.1111111111111111,
              "#46039f"
             ],
             [
              0.2222222222222222,
              "#7201a8"
             ],
             [
              0.3333333333333333,
              "#9c179e"
             ],
             [
              0.4444444444444444,
              "#bd3786"
             ],
             [
              0.5555555555555556,
              "#d8576b"
             ],
             [
              0.6666666666666666,
              "#ed7953"
             ],
             [
              0.7777777777777778,
              "#fb9f3a"
             ],
             [
              0.8888888888888888,
              "#fdca26"
             ],
             [
              1,
              "#f0f921"
             ]
            ],
            "type": "heatmapgl"
           }
          ],
          "histogram": [
           {
            "marker": {
             "pattern": {
              "fillmode": "overlay",
              "size": 10,
              "solidity": 0.2
             }
            },
            "type": "histogram"
           }
          ],
          "histogram2d": [
           {
            "colorbar": {
             "outlinewidth": 0,
             "ticks": ""
            },
            "colorscale": [
             [
              0,
              "#0d0887"
             ],
             [
              0.1111111111111111,
              "#46039f"
             ],
             [
              0.2222222222222222,
              "#7201a8"
             ],
             [
              0.3333333333333333,
              "#9c179e"
             ],
             [
              0.4444444444444444,
              "#bd3786"
             ],
             [
              0.5555555555555556,
              "#d8576b"
             ],
             [
              0.6666666666666666,
              "#ed7953"
             ],
             [
              0.7777777777777778,
              "#fb9f3a"
             ],
             [
              0.8888888888888888,
              "#fdca26"
             ],
             [
              1,
              "#f0f921"
             ]
            ],
            "type": "histogram2d"
           }
          ],
          "histogram2dcontour": [
           {
            "colorbar": {
             "outlinewidth": 0,
             "ticks": ""
            },
            "colorscale": [
             [
              0,
              "#0d0887"
             ],
             [
              0.1111111111111111,
              "#46039f"
             ],
             [
              0.2222222222222222,
              "#7201a8"
             ],
             [
              0.3333333333333333,
              "#9c179e"
             ],
             [
              0.4444444444444444,
              "#bd3786"
             ],
             [
              0.5555555555555556,
              "#d8576b"
             ],
             [
              0.6666666666666666,
              "#ed7953"
             ],
             [
              0.7777777777777778,
              "#fb9f3a"
             ],
             [
              0.8888888888888888,
              "#fdca26"
             ],
             [
              1,
              "#f0f921"
             ]
            ],
            "type": "histogram2dcontour"
           }
          ],
          "mesh3d": [
           {
            "colorbar": {
             "outlinewidth": 0,
             "ticks": ""
            },
            "type": "mesh3d"
           }
          ],
          "parcoords": [
           {
            "line": {
             "colorbar": {
              "outlinewidth": 0,
              "ticks": ""
             }
            },
            "type": "parcoords"
           }
          ],
          "pie": [
           {
            "automargin": true,
            "type": "pie"
           }
          ],
          "scatter": [
           {
            "marker": {
             "colorbar": {
              "outlinewidth": 0,
              "ticks": ""
             }
            },
            "type": "scatter"
           }
          ],
          "scatter3d": [
           {
            "line": {
             "colorbar": {
              "outlinewidth": 0,
              "ticks": ""
             }
            },
            "marker": {
             "colorbar": {
              "outlinewidth": 0,
              "ticks": ""
             }
            },
            "type": "scatter3d"
           }
          ],
          "scattercarpet": [
           {
            "marker": {
             "colorbar": {
              "outlinewidth": 0,
              "ticks": ""
             }
            },
            "type": "scattercarpet"
           }
          ],
          "scattergeo": [
           {
            "marker": {
             "colorbar": {
              "outlinewidth": 0,
              "ticks": ""
             }
            },
            "type": "scattergeo"
           }
          ],
          "scattergl": [
           {
            "marker": {
             "colorbar": {
              "outlinewidth": 0,
              "ticks": ""
             }
            },
            "type": "scattergl"
           }
          ],
          "scattermapbox": [
           {
            "marker": {
             "colorbar": {
              "outlinewidth": 0,
              "ticks": ""
             }
            },
            "type": "scattermapbox"
           }
          ],
          "scatterpolar": [
           {
            "marker": {
             "colorbar": {
              "outlinewidth": 0,
              "ticks": ""
             }
            },
            "type": "scatterpolar"
           }
          ],
          "scatterpolargl": [
           {
            "marker": {
             "colorbar": {
              "outlinewidth": 0,
              "ticks": ""
             }
            },
            "type": "scatterpolargl"
           }
          ],
          "scatterternary": [
           {
            "marker": {
             "colorbar": {
              "outlinewidth": 0,
              "ticks": ""
             }
            },
            "type": "scatterternary"
           }
          ],
          "surface": [
           {
            "colorbar": {
             "outlinewidth": 0,
             "ticks": ""
            },
            "colorscale": [
             [
              0,
              "#0d0887"
             ],
             [
              0.1111111111111111,
              "#46039f"
             ],
             [
              0.2222222222222222,
              "#7201a8"
             ],
             [
              0.3333333333333333,
              "#9c179e"
             ],
             [
              0.4444444444444444,
              "#bd3786"
             ],
             [
              0.5555555555555556,
              "#d8576b"
             ],
             [
              0.6666666666666666,
              "#ed7953"
             ],
             [
              0.7777777777777778,
              "#fb9f3a"
             ],
             [
              0.8888888888888888,
              "#fdca26"
             ],
             [
              1,
              "#f0f921"
             ]
            ],
            "type": "surface"
           }
          ],
          "table": [
           {
            "cells": {
             "fill": {
              "color": "#EBF0F8"
             },
             "line": {
              "color": "white"
             }
            },
            "header": {
             "fill": {
              "color": "#C8D4E3"
             },
             "line": {
              "color": "white"
             }
            },
            "type": "table"
           }
          ]
         },
         "layout": {
          "annotationdefaults": {
           "arrowcolor": "#2a3f5f",
           "arrowhead": 0,
           "arrowwidth": 1
          },
          "autotypenumbers": "strict",
          "coloraxis": {
           "colorbar": {
            "outlinewidth": 0,
            "ticks": ""
           }
          },
          "colorscale": {
           "diverging": [
            [
             0,
             "#8e0152"
            ],
            [
             0.1,
             "#c51b7d"
            ],
            [
             0.2,
             "#de77ae"
            ],
            [
             0.3,
             "#f1b6da"
            ],
            [
             0.4,
             "#fde0ef"
            ],
            [
             0.5,
             "#f7f7f7"
            ],
            [
             0.6,
             "#e6f5d0"
            ],
            [
             0.7,
             "#b8e186"
            ],
            [
             0.8,
             "#7fbc41"
            ],
            [
             0.9,
             "#4d9221"
            ],
            [
             1,
             "#276419"
            ]
           ],
           "sequential": [
            [
             0,
             "#0d0887"
            ],
            [
             0.1111111111111111,
             "#46039f"
            ],
            [
             0.2222222222222222,
             "#7201a8"
            ],
            [
             0.3333333333333333,
             "#9c179e"
            ],
            [
             0.4444444444444444,
             "#bd3786"
            ],
            [
             0.5555555555555556,
             "#d8576b"
            ],
            [
             0.6666666666666666,
             "#ed7953"
            ],
            [
             0.7777777777777778,
             "#fb9f3a"
            ],
            [
             0.8888888888888888,
             "#fdca26"
            ],
            [
             1,
             "#f0f921"
            ]
           ],
           "sequentialminus": [
            [
             0,
             "#0d0887"
            ],
            [
             0.1111111111111111,
             "#46039f"
            ],
            [
             0.2222222222222222,
             "#7201a8"
            ],
            [
             0.3333333333333333,
             "#9c179e"
            ],
            [
             0.4444444444444444,
             "#bd3786"
            ],
            [
             0.5555555555555556,
             "#d8576b"
            ],
            [
             0.6666666666666666,
             "#ed7953"
            ],
            [
             0.7777777777777778,
             "#fb9f3a"
            ],
            [
             0.8888888888888888,
             "#fdca26"
            ],
            [
             1,
             "#f0f921"
            ]
           ]
          },
          "colorway": [
           "#636efa",
           "#EF553B",
           "#00cc96",
           "#ab63fa",
           "#FFA15A",
           "#19d3f3",
           "#FF6692",
           "#B6E880",
           "#FF97FF",
           "#FECB52"
          ],
          "font": {
           "color": "#2a3f5f"
          },
          "geo": {
           "bgcolor": "white",
           "lakecolor": "white",
           "landcolor": "#E5ECF6",
           "showlakes": true,
           "showland": true,
           "subunitcolor": "white"
          },
          "hoverlabel": {
           "align": "left"
          },
          "hovermode": "closest",
          "mapbox": {
           "style": "light"
          },
          "paper_bgcolor": "white",
          "plot_bgcolor": "#E5ECF6",
          "polar": {
           "angularaxis": {
            "gridcolor": "white",
            "linecolor": "white",
            "ticks": ""
           },
           "bgcolor": "#E5ECF6",
           "radialaxis": {
            "gridcolor": "white",
            "linecolor": "white",
            "ticks": ""
           }
          },
          "scene": {
           "xaxis": {
            "backgroundcolor": "#E5ECF6",
            "gridcolor": "white",
            "gridwidth": 2,
            "linecolor": "white",
            "showbackground": true,
            "ticks": "",
            "zerolinecolor": "white"
           },
           "yaxis": {
            "backgroundcolor": "#E5ECF6",
            "gridcolor": "white",
            "gridwidth": 2,
            "linecolor": "white",
            "showbackground": true,
            "ticks": "",
            "zerolinecolor": "white"
           },
           "zaxis": {
            "backgroundcolor": "#E5ECF6",
            "gridcolor": "white",
            "gridwidth": 2,
            "linecolor": "white",
            "showbackground": true,
            "ticks": "",
            "zerolinecolor": "white"
           }
          },
          "shapedefaults": {
           "line": {
            "color": "#2a3f5f"
           }
          },
          "ternary": {
           "aaxis": {
            "gridcolor": "white",
            "linecolor": "white",
            "ticks": ""
           },
           "baxis": {
            "gridcolor": "white",
            "linecolor": "white",
            "ticks": ""
           },
           "bgcolor": "#E5ECF6",
           "caxis": {
            "gridcolor": "white",
            "linecolor": "white",
            "ticks": ""
           }
          },
          "title": {
           "x": 0.05
          },
          "xaxis": {
           "automargin": true,
           "gridcolor": "white",
           "linecolor": "white",
           "ticks": "",
           "title": {
            "standoff": 15
           },
           "zerolinecolor": "white",
           "zerolinewidth": 2
          },
          "yaxis": {
           "automargin": true,
           "gridcolor": "white",
           "linecolor": "white",
           "ticks": "",
           "title": {
            "standoff": 15
           },
           "zerolinecolor": "white",
           "zerolinewidth": 2
          }
         }
        },
        "width": 650,
        "xaxis": {
         "anchor": "y",
         "domain": [
          0,
          1
         ],
         "title": {
          "text": "BusinessTravel"
         }
        },
        "yaxis": {
         "anchor": "x",
         "domain": [
          0,
          1
         ],
         "title": {
          "text": "count"
         }
        }
       }
      },
      "text/html": [
       "<div>                            <div id=\"98060a3c-1fb2-4b4d-8641-b4502c615236\" class=\"plotly-graph-div\" style=\"height:390px; width:650px;\"></div>            <script type=\"text/javascript\">                require([\"plotly\"], function(Plotly) {                    window.PLOTLYENV=window.PLOTLYENV || {};                                    if (document.getElementById(\"98060a3c-1fb2-4b4d-8641-b4502c615236\")) {                    Plotly.newPlot(                        \"98060a3c-1fb2-4b4d-8641-b4502c615236\",                        [{\"alignmentgroup\":\"True\",\"bingroup\":\"x\",\"hovertemplate\":\"Attrition=No<br>BusinessTravel=%{x}<br>count=%{y}<extra></extra>\",\"legendgroup\":\"No\",\"marker\":{\"color\":\"#636efa\",\"pattern\":{\"shape\":\"\"}},\"name\":\"No\",\"offsetgroup\":\"No\",\"orientation\":\"v\",\"showlegend\":true,\"x\":[\"Travel_Rarely\",\"Travel_Rarely\",\"Travel_Frequently\",\"Travel_Rarely\",\"Travel_Rarely\",\"Travel_Rarely\",\"Non-Travel\",\"Travel_Rarely\",\"Travel_Frequently\",\"Travel_Rarely\",\"Travel_Frequently\",\"Travel_Rarely\",\"Travel_Rarely\",\"Travel_Rarely\",\"Travel_Rarely\",\"Travel_Rarely\",\"Travel_Rarely\",\"Non-Travel\",\"Travel_Rarely\",\"Travel_Rarely\",\"Travel_Rarely\",\"Travel_Rarely\",\"Travel_Rarely\",\"Travel_Rarely\",\"Travel_Rarely\",\"Travel_Rarely\",\"Travel_Rarely\",\"Travel_Rarely\",\"Travel_Rarely\",\"Travel_Rarely\",\"Travel_Rarely\",\"Travel_Rarely\",\"Travel_Rarely\",\"Travel_Frequently\",\"Travel_Rarely\",\"Travel_Rarely\",\"Travel_Rarely\",\"Travel_Frequently\",\"Travel_Rarely\",\"Travel_Rarely\",\"Non-Travel\",\"Travel_Rarely\",\"Travel_Rarely\",\"Travel_Rarely\",\"Travel_Rarely\",\"Travel_Frequently\",\"Travel_Rarely\",\"Travel_Rarely\",\"Travel_Rarely\",\"Non-Travel\",\"Travel_Rarely\",\"Travel_Frequently\",\"Travel_Rarely\",\"Travel_Rarely\",\"Travel_Rarely\",\"Travel_Rarely\",\"Travel_Frequently\",\"Travel_Rarely\",\"Travel_Frequently\",\"Travel_Rarely\",\"Travel_Rarely\",\"Travel_Rarely\",\"Travel_Rarely\",\"Travel_Rarely\",\"Travel_Rarely\",\"Travel_Rarely\",\"Travel_Frequently\",\"Travel_Rarely\",\"Travel_Rarely\",\"Travel_Rarely\",\"Travel_Rarely\",\"Travel_Rarely\",\"Travel_Frequently\",\"Non-Travel\",\"Travel_Rarely\",\"Travel_Rarely\",\"Travel_Rarely\",\"Travel_Rarely\",\"Travel_Frequently\",\"Travel_Frequently\",\"Travel_Frequently\",\"Travel_Rarely\",\"Travel_Frequently\",\"Travel_Rarely\",\"Travel_Rarely\",\"Travel_Frequently\",\"Non-Travel\",\"Travel_Rarely\",\"Travel_Rarely\",\"Travel_Rarely\",\"Travel_Rarely\",\"Non-Travel\",\"Travel_Rarely\",\"Travel_Rarely\",\"Non-Travel\",\"Travel_Rarely\",\"Travel_Frequently\",\"Travel_Frequently\",\"Travel_Rarely\",\"Travel_Frequently\",\"Non-Travel\",\"Travel_Rarely\",\"Travel_Rarely\",\"Travel_Rarely\",\"Travel_Rarely\",\"Travel_Rarely\",\"Travel_Rarely\",\"Travel_Frequently\",\"Non-Travel\",\"Non-Travel\",\"Travel_Rarely\",\"Travel_Frequently\",\"Travel_Rarely\",\"Travel_Rarely\",\"Travel_Frequently\",\"Travel_Rarely\",\"Travel_Rarely\",\"Travel_Frequently\",\"Travel_Rarely\",\"Travel_Rarely\",\"Travel_Rarely\",\"Travel_Rarely\",\"Travel_Rarely\",\"Travel_Rarely\",\"Travel_Frequently\",\"Travel_Rarely\",\"Travel_Rarely\",\"Non-Travel\",\"Travel_Rarely\",\"Travel_Frequently\",\"Travel_Rarely\",\"Travel_Rarely\",\"Travel_Rarely\",\"Travel_Rarely\",\"Travel_Frequently\",\"Travel_Rarely\",\"Travel_Frequently\",\"Travel_Rarely\",\"Travel_Rarely\",\"Travel_Rarely\",\"Travel_Frequently\",\"Travel_Rarely\",\"Travel_Rarely\",\"Non-Travel\",\"Travel_Frequently\",\"Travel_Rarely\",\"Travel_Rarely\",null,\"Travel_Rarely\",\"Travel_Rarely\",\"Travel_Rarely\",\"Travel_Rarely\",\"Travel_Rarely\",\"Non-Travel\",\"Travel_Rarely\",\"Travel_Rarely\",\"Travel_Rarely\",\"Travel_Frequently\",\"Non-Travel\",\"Travel_Rarely\",\"Travel_Rarely\",\"Travel_Frequently\",\"Travel_Frequently\",\"Travel_Rarely\",\"Travel_Rarely\",\"Travel_Rarely\",\"Travel_Rarely\",\"Non-Travel\",\"Travel_Frequently\",\"Travel_Rarely\",\"Travel_Frequently\",\"Travel_Rarely\",\"Travel_Rarely\",\"Travel_Frequently\",\"Travel_Rarely\",\"Travel_Rarely\",\"Travel_Rarely\",\"Travel_Rarely\",\"Travel_Frequently\",\"Non-Travel\",\"Travel_Frequently\",\"Non-Travel\",\"Travel_Rarely\",\"Travel_Frequently\",\"Travel_Rarely\",\"Travel_Frequently\",\"Travel_Rarely\",\"Travel_Rarely\",\"Travel_Rarely\",\"Travel_Rarely\",\"Travel_Rarely\",\"Travel_Rarely\",\"Travel_Rarely\",\"Travel_Rarely\",\"Travel_Frequently\",\"Travel_Rarely\",\"Travel_Frequently\",\"Travel_Rarely\",\"Travel_Frequently\",\"Travel_Rarely\",\"Travel_Rarely\",\"Non-Travel\",\"Travel_Rarely\",\"Travel_Rarely\",\"Non-Travel\",\"Travel_Rarely\",\"Travel_Frequently\",\"Travel_Frequently\",\"Travel_Rarely\",\"Travel_Rarely\",\"Travel_Frequently\",\"Travel_Frequently\",\"Travel_Rarely\",\"Travel_Frequently\",\"Travel_Rarely\",\"Travel_Rarely\",\"Travel_Rarely\",null,\"Travel_Rarely\",\"Travel_Rarely\",\"Non-Travel\",\"Travel_Rarely\",null,\"Non-Travel\",\"Non-Travel\",\"Travel_Rarely\",\"Travel_Rarely\",\"Travel_Rarely\",\"Non-Travel\",\"Travel_Rarely\",\"Travel_Rarely\",\"Non-Travel\",\"Travel_Rarely\",\"Travel_Rarely\",\"Travel_Rarely\",\"Travel_Rarely\",\"Non-Travel\",\"Travel_Rarely\",\"Travel_Rarely\",\"Travel_Rarely\",\"Travel_Rarely\",\"Travel_Rarely\",\"Travel_Rarely\",\"Travel_Rarely\",\"Non-Travel\",\"Non-Travel\",\"Travel_Frequently\",\"Travel_Frequently\",\"Travel_Rarely\",\"Travel_Frequently\",\"Travel_Rarely\",\"Travel_Rarely\",\"Travel_Rarely\",\"Travel_Rarely\",\"Travel_Rarely\",\"Travel_Rarely\",\"Travel_Rarely\",\"Travel_Frequently\",\"Travel_Rarely\",\"Travel_Rarely\",\"Travel_Rarely\",\"Travel_Rarely\",\"Travel_Frequently\",\"Travel_Rarely\",\"Travel_Rarely\",\"Travel_Rarely\",\"Non-Travel\",\"Travel_Rarely\",\"Travel_Rarely\",\"Travel_Rarely\",\"Travel_Frequently\",\"Travel_Frequently\",\"Travel_Rarely\",\"Travel_Rarely\",\"Travel_Rarely\",\"Travel_Rarely\",\"Non-Travel\",\"Travel_Rarely\",\"Travel_Rarely\",\"Travel_Rarely\",\"Travel_Rarely\",\"Travel_Rarely\",\"Travel_Rarely\",\"Travel_Rarely\",null,\"Travel_Rarely\",\"Travel_Rarely\",\"Travel_Rarely\",\"Travel_Rarely\",\"Travel_Rarely\",null,\"Non-Travel\",\"Travel_Rarely\",\"Travel_Frequently\",\"Non-Travel\",\"Travel_Rarely\",\"Travel_Rarely\",\"Travel_Rarely\",\"Travel_Frequently\",\"Travel_Rarely\",\"Non-Travel\",\"Travel_Frequently\",\"Travel_Rarely\",\"Travel_Rarely\",\"Travel_Frequently\",\"Travel_Frequently\",\"Travel_Rarely\",\"Travel_Rarely\",\"Travel_Rarely\",\"Travel_Rarely\",\"Travel_Frequently\",\"Travel_Rarely\",\"Travel_Rarely\",\"Travel_Rarely\",\"Travel_Rarely\",\"Travel_Rarely\",\"Travel_Rarely\",\"Non-Travel\",\"Travel_Rarely\",\"Travel_Rarely\",\"Travel_Rarely\",\"Travel_Rarely\",\"Travel_Frequently\",\"Travel_Rarely\",\"Travel_Rarely\",\"Travel_Frequently\",\"Travel_Rarely\",\"Travel_Frequently\",\"Travel_Rarely\",\"Travel_Rarely\",\"Travel_Rarely\",\"Travel_Rarely\",\"Travel_Rarely\",\"Travel_Rarely\",\"Travel_Rarely\",\"Travel_Frequently\",\"Travel_Frequently\",\"Travel_Frequently\",\"Travel_Rarely\",\"Travel_Frequently\",\"Travel_Rarely\",\"Travel_Rarely\",\"Travel_Rarely\",\"Travel_Rarely\",\"Travel_Rarely\",\"Travel_Rarely\",\"Travel_Rarely\",\"Travel_Rarely\",\"Travel_Rarely\",\"Travel_Rarely\",\"Non-Travel\",\"Travel_Frequently\",\"Travel_Rarely\",\"Travel_Rarely\",\"Travel_Rarely\",\"Travel_Rarely\",\"Travel_Rarely\",\"Travel_Frequently\",\"Travel_Rarely\",\"Travel_Rarely\",\"Non-Travel\",\"Travel_Rarely\",\"Travel_Rarely\",\"Non-Travel\",\"Travel_Frequently\",\"Travel_Rarely\",\"Travel_Rarely\",\"Travel_Rarely\",\"Travel_Rarely\",\"Travel_Frequently\",\"Non-Travel\",\"Travel_Rarely\",\"Travel_Rarely\",\"Travel_Frequently\",\"Non-Travel\",\"Travel_Frequently\",\"Non-Travel\",\"Travel_Frequently\",\"Travel_Rarely\",\"Travel_Frequently\",\"Travel_Rarely\",\"Travel_Rarely\",\"Travel_Rarely\",\"Travel_Rarely\",\"Travel_Rarely\",\"Travel_Rarely\",\"Travel_Rarely\",\"Travel_Rarely\",\"Non-Travel\",\"Travel_Rarely\",\"Travel_Rarely\",\"Non-Travel\",\"Travel_Frequently\",\"Travel_Rarely\",\"Travel_Rarely\",\"Non-Travel\",\"Non-Travel\",\"Travel_Rarely\",\"Travel_Rarely\",\"Non-Travel\",\"Travel_Rarely\",\"Travel_Frequently\",\"Travel_Rarely\",\"Travel_Rarely\",\"Travel_Rarely\",\"Travel_Rarely\",\"Travel_Rarely\",\"Travel_Rarely\",\"Travel_Rarely\",\"Travel_Frequently\",\"Travel_Rarely\",\"Travel_Rarely\",\"Travel_Rarely\",\"Travel_Rarely\",\"Travel_Rarely\",\"Travel_Rarely\",\"Travel_Rarely\",\"Non-Travel\",\"Travel_Rarely\",\"Travel_Rarely\",\"Travel_Rarely\",\"Travel_Frequently\",\"Travel_Rarely\",\"Travel_Rarely\",\"Travel_Frequently\",\"Travel_Rarely\",\"Travel_Frequently\",\"Travel_Rarely\",\"Non-Travel\",\"Non-Travel\",\"Travel_Rarely\",\"Travel_Rarely\",\"Travel_Rarely\",\"Travel_Rarely\",\"Travel_Rarely\",\"Travel_Rarely\",\"Non-Travel\",\"Travel_Rarely\",\"Travel_Rarely\",\"Travel_Frequently\",\"Travel_Rarely\",\"Travel_Rarely\",\"Travel_Rarely\",\"Non-Travel\",\"Travel_Rarely\",\"Travel_Rarely\",\"Travel_Rarely\",\"Travel_Rarely\",\"Travel_Frequently\",\"Travel_Rarely\",\"Travel_Rarely\",\"Travel_Frequently\",\"Non-Travel\",\"Travel_Frequently\",\"Non-Travel\",\"Travel_Rarely\",\"Travel_Rarely\",\"Travel_Rarely\",\"Non-Travel\",\"Travel_Rarely\",\"Non-Travel\",\"Travel_Rarely\",\"Travel_Rarely\",\"Travel_Rarely\",\"Travel_Rarely\",\"Travel_Rarely\",\"Travel_Rarely\",\"Non-Travel\",\"Travel_Rarely\",\"Travel_Frequently\",\"Travel_Rarely\",\"Travel_Rarely\",\"Non-Travel\",\"Travel_Rarely\",\"Travel_Rarely\",\"Travel_Rarely\",\"Travel_Rarely\",\"Travel_Rarely\",\"Travel_Rarely\",\"Travel_Rarely\",\"Travel_Rarely\",\"Travel_Rarely\",\"Travel_Rarely\",\"Travel_Rarely\",\"Travel_Frequently\",\"Travel_Rarely\",\"Travel_Rarely\",\"Non-Travel\",\"Travel_Frequently\",\"Non-Travel\",\"Travel_Frequently\",\"Travel_Rarely\",\"Travel_Rarely\",\"Travel_Rarely\",\"Travel_Frequently\",\"Travel_Rarely\",\"Travel_Rarely\",\"Travel_Rarely\",\"Travel_Frequently\",\"Travel_Rarely\",\"Travel_Frequently\",\"Travel_Rarely\",\"Travel_Rarely\",\"Travel_Rarely\",\"Non-Travel\",\"Travel_Frequently\",\"Travel_Rarely\",\"Travel_Rarely\",\"Travel_Frequently\",\"Travel_Rarely\",\"Travel_Rarely\",\"Travel_Rarely\",\"Travel_Rarely\",\"Travel_Rarely\",\"Travel_Frequently\",\"Travel_Rarely\",\"Travel_Rarely\",\"Travel_Frequently\",\"Travel_Rarely\",\"Non-Travel\",\"Travel_Rarely\",\"Travel_Rarely\",\"Travel_Rarely\",\"Travel_Rarely\",\"Travel_Rarely\",\"Non-Travel\",\"Travel_Rarely\",\"Travel_Rarely\",\"Travel_Rarely\",\"Travel_Rarely\",\"Travel_Rarely\",\"Travel_Rarely\",\"Travel_Frequently\",\"Travel_Rarely\",\"Travel_Rarely\",\"Travel_Rarely\",\"Travel_Rarely\",\"Travel_Rarely\",\"Travel_Frequently\",\"Travel_Rarely\",\"Travel_Rarely\",\"Travel_Rarely\",\"Travel_Rarely\",\"Travel_Rarely\",\"Travel_Frequently\",\"Travel_Frequently\",\"Non-Travel\",\"Non-Travel\",\"Travel_Rarely\",\"Travel_Rarely\",\"Travel_Rarely\",\"Travel_Rarely\",\"Travel_Rarely\",\"Travel_Rarely\",\"Travel_Rarely\",\"Travel_Rarely\",\"Travel_Rarely\",\"Travel_Frequently\",\"Travel_Frequently\",\"Travel_Rarely\",\"Travel_Rarely\",\"Travel_Frequently\",\"Travel_Rarely\",\"Travel_Rarely\",\"Travel_Rarely\",\"Travel_Frequently\",\"Travel_Rarely\",\"Travel_Rarely\",\"Travel_Frequently\",\"Travel_Rarely\",\"Non-Travel\",\"Travel_Rarely\",\"Travel_Rarely\",\"Travel_Rarely\",\"Travel_Rarely\",\"Travel_Rarely\",\"Travel_Rarely\",\"Travel_Rarely\",\"Travel_Frequently\",\"Travel_Frequently\",\"Travel_Rarely\",\"Travel_Frequently\",\"Travel_Frequently\",\"Travel_Rarely\",\"Travel_Frequently\",\"Travel_Frequently\",\"Travel_Rarely\",\"Travel_Rarely\",\"Travel_Rarely\",\"Travel_Frequently\",\"Travel_Frequently\",\"Travel_Rarely\",\"Travel_Rarely\",\"Travel_Frequently\",\"Non-Travel\",\"Travel_Rarely\",\"Non-Travel\",\"Travel_Rarely\",\"Travel_Frequently\",\"Travel_Rarely\",\"Travel_Rarely\",\"Non-Travel\",\"Non-Travel\",\"Travel_Frequently\",\"Travel_Frequently\",\"Travel_Rarely\",\"Travel_Rarely\",\"Travel_Rarely\",\"Travel_Rarely\",\"Travel_Rarely\",\"Travel_Rarely\",\"Travel_Rarely\",\"Travel_Rarely\",\"Travel_Rarely\",\"Travel_Rarely\",\"Travel_Rarely\",\"Travel_Frequently\",\"Travel_Rarely\",\"Travel_Rarely\",\"Travel_Rarely\",\"Travel_Rarely\",\"Travel_Rarely\",\"Non-Travel\",\"Travel_Rarely\",\"Travel_Rarely\",\"Travel_Rarely\",\"Travel_Rarely\",\"Travel_Rarely\",\"Travel_Rarely\",\"Non-Travel\",\"Travel_Rarely\",\"Travel_Rarely\",\"Travel_Frequently\",\"Travel_Rarely\",\"Travel_Rarely\",\"Travel_Rarely\",\"Travel_Rarely\",\"Travel_Rarely\",\"Travel_Rarely\",\"Travel_Rarely\",\"Travel_Rarely\",\"Travel_Frequently\",\"Travel_Rarely\",\"Travel_Rarely\",\"Travel_Rarely\",\"Travel_Frequently\",\"Travel_Rarely\",\"Travel_Rarely\",\"Travel_Rarely\",\"Non-Travel\",\"Travel_Rarely\",\"Non-Travel\",\"Non-Travel\",\"Travel_Rarely\",\"Travel_Rarely\",\"Travel_Rarely\",\"Travel_Frequently\",\"Travel_Rarely\",\"Travel_Rarely\",\"Travel_Frequently\",\"Travel_Rarely\",\"Travel_Frequently\",\"Travel_Rarely\",\"Travel_Rarely\",\"Travel_Rarely\",\"Travel_Rarely\",\"Travel_Frequently\",\"Travel_Rarely\",\"Travel_Frequently\",\"Travel_Rarely\",\"Travel_Rarely\",\"Travel_Rarely\",\"Travel_Frequently\",\"Travel_Rarely\",\"Non-Travel\",\"Travel_Rarely\",\"Non-Travel\",\"Travel_Rarely\",\"Travel_Rarely\",\"Travel_Rarely\",\"Travel_Rarely\",\"Travel_Rarely\",\"Non-Travel\",\"Travel_Rarely\",\"Travel_Rarely\",\"Travel_Rarely\",\"Travel_Rarely\",\"Travel_Rarely\",\"Travel_Rarely\",\"Non-Travel\",\"Non-Travel\",\"Travel_Rarely\",\"Travel_Rarely\",\"Travel_Frequently\",\"Travel_Rarely\",\"Travel_Frequently\",\"Travel_Rarely\",\"Travel_Rarely\",\"Non-Travel\",\"Travel_Rarely\",\"Travel_Rarely\",\"Travel_Rarely\",\"Travel_Rarely\",\"Travel_Frequently\",\"Travel_Frequently\",\"Non-Travel\",\"Travel_Rarely\",\"Travel_Rarely\",\"Non-Travel\",\"Travel_Frequently\",\"Travel_Frequently\",\"Travel_Rarely\",\"Travel_Rarely\",\"Travel_Frequently\",\"Travel_Rarely\",\"Non-Travel\",\"Travel_Frequently\",\"Travel_Frequently\",\"Travel_Rarely\",\"Travel_Rarely\",\"Travel_Rarely\",\"Travel_Rarely\",\"Travel_Rarely\",\"Travel_Rarely\",\"Travel_Rarely\",\"Travel_Rarely\",\"Travel_Rarely\",\"Travel_Rarely\",\"Travel_Rarely\",\"Travel_Rarely\",\"Travel_Rarely\",\"Travel_Rarely\",\"Travel_Rarely\",\"Travel_Rarely\",\"Travel_Rarely\",\"Travel_Rarely\",\"Travel_Rarely\",\"Travel_Rarely\",\"Travel_Rarely\",\"Travel_Rarely\",\"Travel_Rarely\",\"Travel_Rarely\",\"Travel_Rarely\",\"Travel_Rarely\",\"Travel_Frequently\",\"Travel_Rarely\",\"Travel_Rarely\",\"Travel_Rarely\",\"Travel_Rarely\",\"Travel_Rarely\",\"Travel_Rarely\",\"Travel_Rarely\",\"Travel_Rarely\",\"Travel_Frequently\",\"Travel_Rarely\",\"Non-Travel\",\"Travel_Rarely\",\"Travel_Rarely\",\"Travel_Rarely\",\"Travel_Frequently\",\"Travel_Frequently\",\"Travel_Rarely\",\"Travel_Frequently\",\"Travel_Rarely\",\"Travel_Rarely\",\"Travel_Rarely\",\"Travel_Rarely\",\"Travel_Rarely\",\"Travel_Rarely\",\"Travel_Frequently\",\"Travel_Rarely\",\"Travel_Rarely\",\"Travel_Rarely\",\"Travel_Rarely\",\"Travel_Rarely\",\"Travel_Rarely\",\"Travel_Rarely\",\"Travel_Rarely\",\"Travel_Rarely\",\"Travel_Rarely\",\"Travel_Rarely\",\"Travel_Frequently\",\"Non-Travel\",\"Travel_Rarely\",\"Travel_Rarely\",\"Travel_Frequently\",\"Travel_Rarely\",\"Travel_Rarely\",\"Travel_Rarely\",\"Travel_Rarely\",\"Travel_Rarely\",\"Travel_Rarely\",\"Non-Travel\",\"Non-Travel\",\"Travel_Rarely\",\"Travel_Frequently\",\"Travel_Rarely\",\"Travel_Rarely\",\"Travel_Rarely\",\"Travel_Rarely\",\"Travel_Rarely\",\"Travel_Rarely\",\"Travel_Rarely\",\"Travel_Rarely\",\"Travel_Rarely\",\"Travel_Rarely\",\"Travel_Rarely\",\"Travel_Rarely\",\"Non-Travel\",\"Travel_Rarely\",\"Travel_Frequently\",\"Travel_Rarely\",\"Travel_Rarely\",\"Travel_Rarely\",\"Travel_Rarely\",\"Non-Travel\",\"Travel_Rarely\",\"Travel_Rarely\",\"Non-Travel\",\"Travel_Rarely\",\"Travel_Rarely\",\"Non-Travel\",\"Travel_Rarely\",\"Travel_Rarely\",\"Travel_Rarely\",\"Travel_Rarely\",\"Travel_Rarely\",\"Travel_Rarely\",\"Travel_Rarely\",\"Travel_Rarely\",\"Travel_Rarely\",\"Non-Travel\",\"Travel_Rarely\",\"Travel_Rarely\",\"Travel_Rarely\",\"Travel_Frequently\",\"Non-Travel\",\"Non-Travel\",\"Travel_Rarely\",\"Travel_Frequently\",\"Travel_Frequently\",\"Travel_Rarely\",\"Travel_Rarely\",\"Travel_Frequently\",\"Travel_Rarely\",\"Travel_Rarely\",\"Non-Travel\",\"Travel_Rarely\",\"Travel_Rarely\",\"Travel_Rarely\",\"Travel_Rarely\",\"Travel_Rarely\",\"Travel_Rarely\"],\"xaxis\":\"x\",\"yaxis\":\"y\",\"type\":\"histogram\"},{\"alignmentgroup\":\"True\",\"bingroup\":\"x\",\"hovertemplate\":\"Attrition=Yes<br>BusinessTravel=%{x}<br>count=%{y}<extra></extra>\",\"legendgroup\":\"Yes\",\"marker\":{\"color\":\"#EF553B\",\"pattern\":{\"shape\":\"\"}},\"name\":\"Yes\",\"offsetgroup\":\"Yes\",\"orientation\":\"v\",\"showlegend\":true,\"x\":[\"Travel_Rarely\",\"Travel_Rarely\",\"Travel_Rarely\",\"Travel_Rarely\",\"Travel_Rarely\",\"Travel_Frequently\",\"Travel_Frequently\",\"Travel_Rarely\",\"Travel_Rarely\",\"Travel_Frequently\",\"Travel_Rarely\",\"Travel_Rarely\",\"Travel_Rarely\",\"Travel_Frequently\",\"Travel_Frequently\",\"Travel_Rarely\",\"Travel_Rarely\",\"Travel_Rarely\",\"Travel_Frequently\",\"Travel_Rarely\",\"Travel_Frequently\",\"Travel_Rarely\",\"Travel_Frequently\",\"Travel_Frequently\",\"Travel_Rarely\",\"Travel_Rarely\",\"Travel_Frequently\",\"Travel_Rarely\",\"Travel_Rarely\",\"Travel_Rarely\",\"Travel_Frequently\",\"Non-Travel\",\"Travel_Rarely\",\"Travel_Rarely\",\"Travel_Rarely\",\"Travel_Rarely\",\"Travel_Frequently\",\"Travel_Rarely\",\"Travel_Rarely\",\"Travel_Frequently\",\"Travel_Frequently\",\"Travel_Rarely\",\"Travel_Rarely\",\"Travel_Rarely\",\"Travel_Rarely\",\"Travel_Rarely\",\"Travel_Rarely\",\"Travel_Frequently\",\"Travel_Rarely\",\"Travel_Frequently\",\"Travel_Frequently\",\"Travel_Rarely\",\"Travel_Rarely\",\"Travel_Rarely\",\"Travel_Rarely\",\"Travel_Frequently\",\"Travel_Rarely\",\"Travel_Frequently\",\"Travel_Rarely\",\"Travel_Rarely\",\"Travel_Frequently\",\"Travel_Frequently\",\"Travel_Frequently\",\"Travel_Rarely\",\"Non-Travel\",\"Travel_Rarely\",\"Travel_Rarely\",\"Non-Travel\",\"Travel_Rarely\",\"Travel_Rarely\",\"Travel_Rarely\",\"Travel_Rarely\",\"Travel_Rarely\",\"Travel_Rarely\",\"Travel_Rarely\",\"Travel_Rarely\",\"Travel_Rarely\",\"Travel_Rarely\",\"Travel_Rarely\",\"Travel_Rarely\",\"Travel_Frequently\",\"Travel_Rarely\",\"Travel_Rarely\",\"Travel_Rarely\",\"Travel_Rarely\",\"Travel_Rarely\",\"Travel_Rarely\",\"Travel_Frequently\",\"Travel_Rarely\",\"Travel_Rarely\",\"Travel_Rarely\",\"Travel_Frequently\",\"Travel_Rarely\",\"Non-Travel\",\"Travel_Rarely\",\"Travel_Rarely\",\"Travel_Frequently\",\"Travel_Rarely\",\"Travel_Frequently\",\"Travel_Rarely\",\"Travel_Frequently\",\"Travel_Rarely\",\"Travel_Rarely\",\"Travel_Rarely\",\"Travel_Frequently\",\"Travel_Rarely\",\"Travel_Frequently\",\"Travel_Rarely\",\"Travel_Frequently\",\"Travel_Rarely\",\"Travel_Frequently\",\"Travel_Rarely\",\"Travel_Frequently\",\"Travel_Rarely\",\"Travel_Rarely\",\"Travel_Rarely\",\"Travel_Rarely\",\"Travel_Frequently\",\"Travel_Rarely\",\"Travel_Rarely\",\"Travel_Frequently\",\"Travel_Rarely\",\"Travel_Rarely\",\"Non-Travel\",\"Travel_Frequently\",\"Travel_Frequently\",\"Travel_Rarely\",\"Travel_Frequently\",\"Travel_Rarely\",\"Travel_Rarely\",\"Travel_Rarely\",\"Travel_Rarely\",\"Travel_Frequently\",\"Travel_Rarely\",\"Travel_Rarely\",\"Travel_Rarely\",\"Travel_Frequently\",\"Travel_Frequently\",\"Travel_Rarely\",\"Travel_Rarely\",\"Travel_Rarely\",\"Travel_Rarely\",\"Travel_Rarely\",\"Travel_Rarely\",\"Non-Travel\",\"Travel_Rarely\",\"Travel_Frequently\",\"Travel_Rarely\",\"Non-Travel\",\"Travel_Rarely\",\"Travel_Rarely\",\"Travel_Frequently\",\"Travel_Rarely\",\"Non-Travel\",\"Travel_Rarely\",\"Travel_Rarely\",\"Travel_Rarely\",\"Travel_Frequently\",\"Travel_Rarely\",\"Travel_Rarely\",\"Travel_Rarely\",\"Travel_Rarely\",\"Travel_Rarely\",\"Travel_Rarely\",\"Travel_Rarely\",\"Travel_Frequently\",\"Travel_Rarely\",\"Travel_Frequently\",\"Travel_Rarely\",\"Travel_Rarely\",\"Travel_Rarely\",\"Travel_Frequently\",\"Travel_Frequently\",\"Travel_Rarely\",\"Travel_Rarely\",\"Travel_Frequently\"],\"xaxis\":\"x\",\"yaxis\":\"y\",\"type\":\"histogram\"}],                        {\"template\":{\"data\":{\"bar\":[{\"error_x\":{\"color\":\"#2a3f5f\"},\"error_y\":{\"color\":\"#2a3f5f\"},\"marker\":{\"line\":{\"color\":\"#E5ECF6\",\"width\":0.5},\"pattern\":{\"fillmode\":\"overlay\",\"size\":10,\"solidity\":0.2}},\"type\":\"bar\"}],\"barpolar\":[{\"marker\":{\"line\":{\"color\":\"#E5ECF6\",\"width\":0.5},\"pattern\":{\"fillmode\":\"overlay\",\"size\":10,\"solidity\":0.2}},\"type\":\"barpolar\"}],\"carpet\":[{\"aaxis\":{\"endlinecolor\":\"#2a3f5f\",\"gridcolor\":\"white\",\"linecolor\":\"white\",\"minorgridcolor\":\"white\",\"startlinecolor\":\"#2a3f5f\"},\"baxis\":{\"endlinecolor\":\"#2a3f5f\",\"gridcolor\":\"white\",\"linecolor\":\"white\",\"minorgridcolor\":\"white\",\"startlinecolor\":\"#2a3f5f\"},\"type\":\"carpet\"}],\"choropleth\":[{\"colorbar\":{\"outlinewidth\":0,\"ticks\":\"\"},\"type\":\"choropleth\"}],\"contour\":[{\"colorbar\":{\"outlinewidth\":0,\"ticks\":\"\"},\"colorscale\":[[0.0,\"#0d0887\"],[0.1111111111111111,\"#46039f\"],[0.2222222222222222,\"#7201a8\"],[0.3333333333333333,\"#9c179e\"],[0.4444444444444444,\"#bd3786\"],[0.5555555555555556,\"#d8576b\"],[0.6666666666666666,\"#ed7953\"],[0.7777777777777778,\"#fb9f3a\"],[0.8888888888888888,\"#fdca26\"],[1.0,\"#f0f921\"]],\"type\":\"contour\"}],\"contourcarpet\":[{\"colorbar\":{\"outlinewidth\":0,\"ticks\":\"\"},\"type\":\"contourcarpet\"}],\"heatmap\":[{\"colorbar\":{\"outlinewidth\":0,\"ticks\":\"\"},\"colorscale\":[[0.0,\"#0d0887\"],[0.1111111111111111,\"#46039f\"],[0.2222222222222222,\"#7201a8\"],[0.3333333333333333,\"#9c179e\"],[0.4444444444444444,\"#bd3786\"],[0.5555555555555556,\"#d8576b\"],[0.6666666666666666,\"#ed7953\"],[0.7777777777777778,\"#fb9f3a\"],[0.8888888888888888,\"#fdca26\"],[1.0,\"#f0f921\"]],\"type\":\"heatmap\"}],\"heatmapgl\":[{\"colorbar\":{\"outlinewidth\":0,\"ticks\":\"\"},\"colorscale\":[[0.0,\"#0d0887\"],[0.1111111111111111,\"#46039f\"],[0.2222222222222222,\"#7201a8\"],[0.3333333333333333,\"#9c179e\"],[0.4444444444444444,\"#bd3786\"],[0.5555555555555556,\"#d8576b\"],[0.6666666666666666,\"#ed7953\"],[0.7777777777777778,\"#fb9f3a\"],[0.8888888888888888,\"#fdca26\"],[1.0,\"#f0f921\"]],\"type\":\"heatmapgl\"}],\"histogram\":[{\"marker\":{\"pattern\":{\"fillmode\":\"overlay\",\"size\":10,\"solidity\":0.2}},\"type\":\"histogram\"}],\"histogram2d\":[{\"colorbar\":{\"outlinewidth\":0,\"ticks\":\"\"},\"colorscale\":[[0.0,\"#0d0887\"],[0.1111111111111111,\"#46039f\"],[0.2222222222222222,\"#7201a8\"],[0.3333333333333333,\"#9c179e\"],[0.4444444444444444,\"#bd3786\"],[0.5555555555555556,\"#d8576b\"],[0.6666666666666666,\"#ed7953\"],[0.7777777777777778,\"#fb9f3a\"],[0.8888888888888888,\"#fdca26\"],[1.0,\"#f0f921\"]],\"type\":\"histogram2d\"}],\"histogram2dcontour\":[{\"colorbar\":{\"outlinewidth\":0,\"ticks\":\"\"},\"colorscale\":[[0.0,\"#0d0887\"],[0.1111111111111111,\"#46039f\"],[0.2222222222222222,\"#7201a8\"],[0.3333333333333333,\"#9c179e\"],[0.4444444444444444,\"#bd3786\"],[0.5555555555555556,\"#d8576b\"],[0.6666666666666666,\"#ed7953\"],[0.7777777777777778,\"#fb9f3a\"],[0.8888888888888888,\"#fdca26\"],[1.0,\"#f0f921\"]],\"type\":\"histogram2dcontour\"}],\"mesh3d\":[{\"colorbar\":{\"outlinewidth\":0,\"ticks\":\"\"},\"type\":\"mesh3d\"}],\"parcoords\":[{\"line\":{\"colorbar\":{\"outlinewidth\":0,\"ticks\":\"\"}},\"type\":\"parcoords\"}],\"pie\":[{\"automargin\":true,\"type\":\"pie\"}],\"scatter\":[{\"marker\":{\"colorbar\":{\"outlinewidth\":0,\"ticks\":\"\"}},\"type\":\"scatter\"}],\"scatter3d\":[{\"line\":{\"colorbar\":{\"outlinewidth\":0,\"ticks\":\"\"}},\"marker\":{\"colorbar\":{\"outlinewidth\":0,\"ticks\":\"\"}},\"type\":\"scatter3d\"}],\"scattercarpet\":[{\"marker\":{\"colorbar\":{\"outlinewidth\":0,\"ticks\":\"\"}},\"type\":\"scattercarpet\"}],\"scattergeo\":[{\"marker\":{\"colorbar\":{\"outlinewidth\":0,\"ticks\":\"\"}},\"type\":\"scattergeo\"}],\"scattergl\":[{\"marker\":{\"colorbar\":{\"outlinewidth\":0,\"ticks\":\"\"}},\"type\":\"scattergl\"}],\"scattermapbox\":[{\"marker\":{\"colorbar\":{\"outlinewidth\":0,\"ticks\":\"\"}},\"type\":\"scattermapbox\"}],\"scatterpolar\":[{\"marker\":{\"colorbar\":{\"outlinewidth\":0,\"ticks\":\"\"}},\"type\":\"scatterpolar\"}],\"scatterpolargl\":[{\"marker\":{\"colorbar\":{\"outlinewidth\":0,\"ticks\":\"\"}},\"type\":\"scatterpolargl\"}],\"scatterternary\":[{\"marker\":{\"colorbar\":{\"outlinewidth\":0,\"ticks\":\"\"}},\"type\":\"scatterternary\"}],\"surface\":[{\"colorbar\":{\"outlinewidth\":0,\"ticks\":\"\"},\"colorscale\":[[0.0,\"#0d0887\"],[0.1111111111111111,\"#46039f\"],[0.2222222222222222,\"#7201a8\"],[0.3333333333333333,\"#9c179e\"],[0.4444444444444444,\"#bd3786\"],[0.5555555555555556,\"#d8576b\"],[0.6666666666666666,\"#ed7953\"],[0.7777777777777778,\"#fb9f3a\"],[0.8888888888888888,\"#fdca26\"],[1.0,\"#f0f921\"]],\"type\":\"surface\"}],\"table\":[{\"cells\":{\"fill\":{\"color\":\"#EBF0F8\"},\"line\":{\"color\":\"white\"}},\"header\":{\"fill\":{\"color\":\"#C8D4E3\"},\"line\":{\"color\":\"white\"}},\"type\":\"table\"}]},\"layout\":{\"annotationdefaults\":{\"arrowcolor\":\"#2a3f5f\",\"arrowhead\":0,\"arrowwidth\":1},\"autotypenumbers\":\"strict\",\"coloraxis\":{\"colorbar\":{\"outlinewidth\":0,\"ticks\":\"\"}},\"colorscale\":{\"diverging\":[[0,\"#8e0152\"],[0.1,\"#c51b7d\"],[0.2,\"#de77ae\"],[0.3,\"#f1b6da\"],[0.4,\"#fde0ef\"],[0.5,\"#f7f7f7\"],[0.6,\"#e6f5d0\"],[0.7,\"#b8e186\"],[0.8,\"#7fbc41\"],[0.9,\"#4d9221\"],[1,\"#276419\"]],\"sequential\":[[0.0,\"#0d0887\"],[0.1111111111111111,\"#46039f\"],[0.2222222222222222,\"#7201a8\"],[0.3333333333333333,\"#9c179e\"],[0.4444444444444444,\"#bd3786\"],[0.5555555555555556,\"#d8576b\"],[0.6666666666666666,\"#ed7953\"],[0.7777777777777778,\"#fb9f3a\"],[0.8888888888888888,\"#fdca26\"],[1.0,\"#f0f921\"]],\"sequentialminus\":[[0.0,\"#0d0887\"],[0.1111111111111111,\"#46039f\"],[0.2222222222222222,\"#7201a8\"],[0.3333333333333333,\"#9c179e\"],[0.4444444444444444,\"#bd3786\"],[0.5555555555555556,\"#d8576b\"],[0.6666666666666666,\"#ed7953\"],[0.7777777777777778,\"#fb9f3a\"],[0.8888888888888888,\"#fdca26\"],[1.0,\"#f0f921\"]]},\"colorway\":[\"#636efa\",\"#EF553B\",\"#00cc96\",\"#ab63fa\",\"#FFA15A\",\"#19d3f3\",\"#FF6692\",\"#B6E880\",\"#FF97FF\",\"#FECB52\"],\"font\":{\"color\":\"#2a3f5f\"},\"geo\":{\"bgcolor\":\"white\",\"lakecolor\":\"white\",\"landcolor\":\"#E5ECF6\",\"showlakes\":true,\"showland\":true,\"subunitcolor\":\"white\"},\"hoverlabel\":{\"align\":\"left\"},\"hovermode\":\"closest\",\"mapbox\":{\"style\":\"light\"},\"paper_bgcolor\":\"white\",\"plot_bgcolor\":\"#E5ECF6\",\"polar\":{\"angularaxis\":{\"gridcolor\":\"white\",\"linecolor\":\"white\",\"ticks\":\"\"},\"bgcolor\":\"#E5ECF6\",\"radialaxis\":{\"gridcolor\":\"white\",\"linecolor\":\"white\",\"ticks\":\"\"}},\"scene\":{\"xaxis\":{\"backgroundcolor\":\"#E5ECF6\",\"gridcolor\":\"white\",\"gridwidth\":2,\"linecolor\":\"white\",\"showbackground\":true,\"ticks\":\"\",\"zerolinecolor\":\"white\"},\"yaxis\":{\"backgroundcolor\":\"#E5ECF6\",\"gridcolor\":\"white\",\"gridwidth\":2,\"linecolor\":\"white\",\"showbackground\":true,\"ticks\":\"\",\"zerolinecolor\":\"white\"},\"zaxis\":{\"backgroundcolor\":\"#E5ECF6\",\"gridcolor\":\"white\",\"gridwidth\":2,\"linecolor\":\"white\",\"showbackground\":true,\"ticks\":\"\",\"zerolinecolor\":\"white\"}},\"shapedefaults\":{\"line\":{\"color\":\"#2a3f5f\"}},\"ternary\":{\"aaxis\":{\"gridcolor\":\"white\",\"linecolor\":\"white\",\"ticks\":\"\"},\"baxis\":{\"gridcolor\":\"white\",\"linecolor\":\"white\",\"ticks\":\"\"},\"bgcolor\":\"#E5ECF6\",\"caxis\":{\"gridcolor\":\"white\",\"linecolor\":\"white\",\"ticks\":\"\"}},\"title\":{\"x\":0.05},\"xaxis\":{\"automargin\":true,\"gridcolor\":\"white\",\"linecolor\":\"white\",\"ticks\":\"\",\"title\":{\"standoff\":15},\"zerolinecolor\":\"white\",\"zerolinewidth\":2},\"yaxis\":{\"automargin\":true,\"gridcolor\":\"white\",\"linecolor\":\"white\",\"ticks\":\"\",\"title\":{\"standoff\":15},\"zerolinecolor\":\"white\",\"zerolinewidth\":2}}},\"xaxis\":{\"anchor\":\"y\",\"domain\":[0.0,1.0],\"title\":{\"text\":\"BusinessTravel\"}},\"yaxis\":{\"anchor\":\"x\",\"domain\":[0.0,1.0],\"title\":{\"text\":\"count\"}},\"legend\":{\"title\":{\"text\":\"Attrition\"},\"tracegroupgap\":0},\"margin\":{\"t\":60},\"barmode\":\"group\",\"height\":390,\"width\":650},                        {\"responsive\": true}                    ).then(function(){\n",
       "                            \n",
       "var gd = document.getElementById('98060a3c-1fb2-4b4d-8641-b4502c615236');\n",
       "var x = new MutationObserver(function (mutations, observer) {{\n",
       "        var display = window.getComputedStyle(gd).display;\n",
       "        if (!display || display === 'none') {{\n",
       "            console.log([gd, 'removed!']);\n",
       "            Plotly.purge(gd);\n",
       "            observer.disconnect();\n",
       "        }}\n",
       "}});\n",
       "\n",
       "// Listen for the removal of the full notebook cells\n",
       "var notebookContainer = gd.closest('#notebook-container');\n",
       "if (notebookContainer) {{\n",
       "    x.observe(notebookContainer, {childList: true});\n",
       "}}\n",
       "\n",
       "// Listen for the clearing of the current output cell\n",
       "var outputEl = gd.closest('.output');\n",
       "if (outputEl) {{\n",
       "    x.observe(outputEl, {childList: true});\n",
       "}}\n",
       "\n",
       "                        })                };                });            </script>        </div>"
      ]
     },
     "metadata": {},
     "output_type": "display_data"
    }
   ],
   "source": [
    "# using plotly express.\n",
    "fig = px.histogram(empdf, x='BusinessTravel', color='Attrition', barmode=\"group\",\n",
    "            width=650,height=390)\n",
    "fig.show()"
   ]
  },
  {
   "cell_type": "code",
   "execution_count": 18,
   "metadata": {
    "ExecuteTime": {
     "end_time": "2022-12-16T02:07:41.975803Z",
     "start_time": "2022-12-16T02:07:41.955159Z"
    },
    "execution": {
     "iopub.execute_input": "2022-10-16T07:47:34.803750Z",
     "iopub.status.busy": "2022-10-16T07:47:34.803200Z",
     "iopub.status.idle": "2022-10-16T07:47:34.810547Z",
     "shell.execute_reply": "2022-10-16T07:47:34.811166Z"
    },
    "papermill": {
     "duration": 0.083313,
     "end_time": "2022-10-16T07:47:34.811313",
     "exception": false,
     "start_time": "2022-10-16T07:47:34.728000",
     "status": "completed"
    },
    "tags": []
   },
   "outputs": [
    {
     "data": {
      "text/plain": [
       "Research & Development    676\n",
       "Sales                     311\n",
       "Human Resources            42\n",
       "Name: Department, dtype: int64"
      ]
     },
     "execution_count": 18,
     "metadata": {},
     "output_type": "execute_result"
    }
   ],
   "source": [
    "#Department\n",
    "empdf['Department'].value_counts()"
   ]
  },
  {
   "cell_type": "code",
   "execution_count": 19,
   "metadata": {
    "ExecuteTime": {
     "end_time": "2022-12-16T02:07:43.831619Z",
     "start_time": "2022-12-16T02:07:43.609672Z"
    },
    "execution": {
     "iopub.execute_input": "2022-10-16T07:47:34.963415Z",
     "iopub.status.busy": "2022-10-16T07:47:34.962869Z",
     "iopub.status.idle": "2022-10-16T07:47:35.107797Z",
     "shell.execute_reply": "2022-10-16T07:47:35.108258Z"
    },
    "papermill": {
     "duration": 0.223159,
     "end_time": "2022-10-16T07:47:35.108389",
     "exception": false,
     "start_time": "2022-10-16T07:47:34.885230",
     "status": "completed"
    },
    "tags": []
   },
   "outputs": [
    {
     "data": {
      "image/png": "[encoded data removed]",
      "text/plain": [
       "<Figure size 576x360 with 1 Axes>"
      ]
     },
     "metadata": {
      "needs_background": "light"
     },
     "output_type": "display_data"
    }
   ],
   "source": [
    "# Department wrt Attrition\n",
    "plt.figure(figsize=(8,5))\n",
    "sns.countplot(x='Department',hue='Attrition', data=empdf, palette='rocket')\n",
    "plt.title(\"Attrition w.r.t Department\")\n",
    "plt.show()"
   ]
  },
  {
   "cell_type": "code",
   "execution_count": 20,
   "metadata": {
    "ExecuteTime": {
     "end_time": "2022-12-16T02:07:45.111962Z",
     "start_time": "2022-12-16T02:07:45.081846Z"
    },
    "execution": {
     "iopub.execute_input": "2022-10-16T07:47:35.265994Z",
     "iopub.status.busy": "2022-10-16T07:47:35.265365Z",
     "iopub.status.idle": "2022-10-16T07:47:35.273260Z",
     "shell.execute_reply": "2022-10-16T07:47:35.273680Z"
    },
    "papermill": {
     "duration": 0.091248,
     "end_time": "2022-10-16T07:47:35.273821",
     "exception": false,
     "start_time": "2022-10-16T07:47:35.182573",
     "status": "completed"
    },
    "tags": []
   },
   "outputs": [
    {
     "data": {
      "text/plain": [
       "Life Sciences       426\n",
       "Medical             328\n",
       "Marketing           110\n",
       "Technical Degree     82\n",
       "Other                66\n",
       "Human Resources      17\n",
       "Name: EducationField, dtype: int64"
      ]
     },
     "execution_count": 20,
     "metadata": {},
     "output_type": "execute_result"
    }
   ],
   "source": [
    "#EducationField\n",
    "empdf['EducationField'].value_counts()"
   ]
  },
  {
   "cell_type": "code",
   "execution_count": 21,
   "metadata": {
    "ExecuteTime": {
     "end_time": "2022-12-16T02:07:46.737354Z",
     "start_time": "2022-12-16T02:07:46.496076Z"
    },
    "execution": {
     "iopub.execute_input": "2022-10-16T07:47:35.430992Z",
     "iopub.status.busy": "2022-10-16T07:47:35.430190Z",
     "iopub.status.idle": "2022-10-16T07:47:35.587779Z",
     "shell.execute_reply": "2022-10-16T07:47:35.587259Z"
    },
    "papermill": {
     "duration": 0.237199,
     "end_time": "2022-10-16T07:47:35.587876",
     "exception": false,
     "start_time": "2022-10-16T07:47:35.350677",
     "status": "completed"
    },
    "tags": []
   },
   "outputs": [
    {
     "data": {
      "image/png": "[encoded data removed]",
      "text/plain": [
       "<Figure size 576x360 with 1 Axes>"
      ]
     },
     "metadata": {
      "needs_background": "light"
     },
     "output_type": "display_data"
    }
   ],
   "source": [
    "# Department wrt Attrition\n",
    "plt.figure(figsize=(8,5))\n",
    "sns.countplot(x='EducationField',hue='Attrition', data=empdf, palette='seismic')\n",
    "plt.title(\"Attrition w.r.t EducationField\")\n",
    "plt.xticks(rotation=45)\n",
    "plt.show()"
   ]
  },
  {
   "cell_type": "code",
   "execution_count": 22,
   "metadata": {
    "ExecuteTime": {
     "end_time": "2022-12-16T02:07:48.998218Z",
     "start_time": "2022-12-16T02:07:48.940761Z"
    },
    "execution": {
     "iopub.execute_input": "2022-10-16T07:47:35.752116Z",
     "iopub.status.busy": "2022-10-16T07:47:35.751182Z",
     "iopub.status.idle": "2022-10-16T07:47:35.757324Z",
     "shell.execute_reply": "2022-10-16T07:47:35.756806Z"
    },
    "papermill": {
     "duration": 0.091885,
     "end_time": "2022-10-16T07:47:35.757428",
     "exception": false,
     "start_time": "2022-10-16T07:47:35.665543",
     "status": "completed"
    },
    "tags": []
   },
   "outputs": [
    {
     "data": {
      "text/plain": [
       "Male      617\n",
       "Female    412\n",
       "Name: Gender, dtype: int64"
      ]
     },
     "execution_count": 22,
     "metadata": {},
     "output_type": "execute_result"
    }
   ],
   "source": [
    "#Gender\n",
    "empdf['Gender'].value_counts()"
   ]
  },
  {
   "cell_type": "code",
   "execution_count": 23,
   "metadata": {
    "ExecuteTime": {
     "end_time": "2022-12-16T02:07:50.832653Z",
     "start_time": "2022-12-16T02:07:50.390175Z"
    },
    "execution": {
     "iopub.execute_input": "2022-10-16T07:47:35.925781Z",
     "iopub.status.busy": "2022-10-16T07:47:35.921029Z",
     "iopub.status.idle": "2022-10-16T07:47:36.040800Z",
     "shell.execute_reply": "2022-10-16T07:47:36.040216Z"
    },
    "papermill": {
     "duration": 0.205501,
     "end_time": "2022-10-16T07:47:36.040921",
     "exception": false,
     "start_time": "2022-10-16T07:47:35.835420",
     "status": "completed"
    },
    "tags": []
   },
   "outputs": [
    {
     "data": {
      "image/png": "[encoded data removed]",
      "text/plain": [
       "<Figure size 504x360 with 1 Axes>"
      ]
     },
     "metadata": {
      "needs_background": "light"
     },
     "output_type": "display_data"
    }
   ],
   "source": [
    "# most male of female employes Attriate\n",
    "# Department wrt Attrition\n",
    "plt.figure(figsize=(7,5))\n",
    "sns.countplot(x='Gender',hue='Attrition', data=empdf, palette='plasma')\n",
    "plt.title(\"Gender w.r.t Attrition\")\n",
    "plt.legend(loc='best')\n",
    "plt.show()"
   ]
  },
  {
   "cell_type": "code",
   "execution_count": 24,
   "metadata": {
    "ExecuteTime": {
     "end_time": "2022-12-16T02:07:52.032059Z",
     "start_time": "2022-12-16T02:07:51.965376Z"
    },
    "execution": {
     "iopub.execute_input": "2022-10-16T07:47:36.202783Z",
     "iopub.status.busy": "2022-10-16T07:47:36.202027Z",
     "iopub.status.idle": "2022-10-16T07:47:36.243085Z",
     "shell.execute_reply": "2022-10-16T07:47:36.243497Z"
    },
    "papermill": {
     "duration": 0.125576,
     "end_time": "2022-10-16T07:47:36.243636",
     "exception": false,
     "start_time": "2022-10-16T07:47:36.118060",
     "status": "completed"
    },
    "tags": []
   },
   "outputs": [
    {
     "data": {
      "text/html": [
       "<div>\n",
       "<style scoped>\n",
       "    .dataframe tbody tr th:only-of-type {\n",
       "        vertical-align: middle;\n",
       "    }\n",
       "\n",
       "    .dataframe tbody tr th {\n",
       "        vertical-align: top;\n",
       "    }\n",
       "\n",
       "    .dataframe thead th {\n",
       "        text-align: right;\n",
       "    }\n",
       "</style>\n",
       "<table border=\"1\" class=\"dataframe\">\n",
       "  <thead>\n",
       "    <tr style=\"text-align: right;\">\n",
       "      <th>Gender</th>\n",
       "      <th>Female</th>\n",
       "      <th>Male</th>\n",
       "    </tr>\n",
       "    <tr>\n",
       "      <th>MaritalStatus</th>\n",
       "      <th></th>\n",
       "      <th></th>\n",
       "    </tr>\n",
       "  </thead>\n",
       "  <tbody>\n",
       "    <tr>\n",
       "      <th>Divorced</th>\n",
       "      <td>79</td>\n",
       "      <td>151</td>\n",
       "    </tr>\n",
       "    <tr>\n",
       "      <th>Married</th>\n",
       "      <td>196</td>\n",
       "      <td>278</td>\n",
       "    </tr>\n",
       "    <tr>\n",
       "      <th>Single</th>\n",
       "      <td>134</td>\n",
       "      <td>186</td>\n",
       "    </tr>\n",
       "  </tbody>\n",
       "</table>\n",
       "</div>"
      ],
      "text/plain": [
       "Gender         Female  Male\n",
       "MaritalStatus              \n",
       "Divorced           79   151\n",
       "Married           196   278\n",
       "Single            134   186"
      ]
     },
     "execution_count": 24,
     "metadata": {},
     "output_type": "execute_result"
    }
   ],
   "source": [
    "# let's also see, how any male and female are Married\n",
    "pd.crosstab(empdf['MaritalStatus'],empdf['Gender'])"
   ]
  },
  {
   "cell_type": "code",
   "execution_count": 25,
   "metadata": {
    "ExecuteTime": {
     "end_time": "2022-12-16T02:07:53.329098Z",
     "start_time": "2022-12-16T02:07:53.312570Z"
    },
    "execution": {
     "iopub.execute_input": "2022-10-16T07:47:36.397227Z",
     "iopub.status.busy": "2022-10-16T07:47:36.395821Z",
     "iopub.status.idle": "2022-10-16T07:47:36.402095Z",
     "shell.execute_reply": "2022-10-16T07:47:36.402497Z"
    },
    "papermill": {
     "duration": 0.083764,
     "end_time": "2022-10-16T07:47:36.402657",
     "exception": false,
     "start_time": "2022-10-16T07:47:36.318893",
     "status": "completed"
    },
    "tags": []
   },
   "outputs": [
    {
     "data": {
      "text/plain": [
       "9"
      ]
     },
     "execution_count": 25,
     "metadata": {},
     "output_type": "execute_result"
    }
   ],
   "source": [
    "#JobRole\n",
    "empdf['JobRole'].nunique()"
   ]
  },
  {
   "cell_type": "code",
   "execution_count": 26,
   "metadata": {
    "ExecuteTime": {
     "end_time": "2022-12-16T02:07:55.005860Z",
     "start_time": "2022-12-16T02:07:54.660014Z"
    },
    "execution": {
     "iopub.execute_input": "2022-10-16T07:47:36.558312Z",
     "iopub.status.busy": "2022-10-16T07:47:36.557371Z",
     "iopub.status.idle": "2022-10-16T07:47:36.744406Z",
     "shell.execute_reply": "2022-10-16T07:47:36.744814Z"
    },
    "papermill": {
     "duration": 0.266723,
     "end_time": "2022-10-16T07:47:36.744973",
     "exception": false,
     "start_time": "2022-10-16T07:47:36.478250",
     "status": "completed"
    },
    "tags": []
   },
   "outputs": [
    {
     "data": {
      "image/png": "[encoded data removed]",
      "text/plain": [
       "<Figure size 576x360 with 1 Axes>"
      ]
     },
     "metadata": {
      "needs_background": "light"
     },
     "output_type": "display_data"
    }
   ],
   "source": [
    "# let's see at which post most people are leaving the jobs\n",
    "# JobRole\n",
    "plt.figure(figsize=(8,5))\n",
    "sns.countplot(x='JobRole',hue='Attrition', data=empdf, palette='plasma')\n",
    "plt.title(\"JobRole w.r.t Attrition\")\n",
    "plt.legend(loc='best')\n",
    "plt.xticks(rotation=45)\n",
    "plt.show()"
   ]
  },
  {
   "cell_type": "code",
   "execution_count": 27,
   "metadata": {
    "ExecuteTime": {
     "end_time": "2022-12-16T02:07:56.530030Z",
     "start_time": "2022-12-16T02:07:56.498251Z"
    },
    "execution": {
     "iopub.execute_input": "2022-10-16T07:47:36.905107Z",
     "iopub.status.busy": "2022-10-16T07:47:36.904386Z",
     "iopub.status.idle": "2022-10-16T07:47:36.910657Z",
     "shell.execute_reply": "2022-10-16T07:47:36.911121Z"
    },
    "papermill": {
     "duration": 0.087947,
     "end_time": "2022-10-16T07:47:36.911241",
     "exception": false,
     "start_time": "2022-10-16T07:47:36.823294",
     "status": "completed"
    },
    "tags": []
   },
   "outputs": [
    {
     "data": {
      "text/plain": [
       "No     731\n",
       "Yes    298\n",
       "Name: OverTime, dtype: int64"
      ]
     },
     "execution_count": 27,
     "metadata": {},
     "output_type": "execute_result"
    }
   ],
   "source": [
    "#OverTime\n",
    "empdf['OverTime'].value_counts()"
   ]
  },
  {
   "cell_type": "code",
   "execution_count": 28,
   "metadata": {
    "ExecuteTime": {
     "end_time": "2022-12-16T02:07:58.058139Z",
     "start_time": "2022-12-16T02:07:57.888223Z"
    },
    "execution": {
     "iopub.execute_input": "2022-10-16T07:47:37.065308Z",
     "iopub.status.busy": "2022-10-16T07:47:37.064596Z",
     "iopub.status.idle": "2022-10-16T07:47:37.172932Z",
     "shell.execute_reply": "2022-10-16T07:47:37.173314Z"
    },
    "papermill": {
     "duration": 0.187164,
     "end_time": "2022-10-16T07:47:37.173438",
     "exception": false,
     "start_time": "2022-10-16T07:47:36.986274",
     "status": "completed"
    },
    "tags": []
   },
   "outputs": [
    {
     "data": {
      "image/png": "[encoded data removed]",
      "text/plain": [
       "<Figure size 504x360 with 1 Axes>"
      ]
     },
     "metadata": {
      "needs_background": "light"
     },
     "output_type": "display_data"
    }
   ],
   "source": [
    "plt.figure(figsize=(7,5))\n",
    "sns.countplot(x='OverTime',hue='Attrition', data=empdf, palette='plasma')\n",
    "plt.title(\"OverTime w.r.t Attrition\")\n",
    "plt.legend(loc='best')\n",
    "plt.show()"
   ]
  },
  {
   "cell_type": "code",
   "execution_count": 29,
   "metadata": {
    "ExecuteTime": {
     "end_time": "2022-12-16T02:07:59.415436Z",
     "start_time": "2022-12-16T02:07:59.349087Z"
    },
    "execution": {
     "iopub.execute_input": "2022-10-16T07:47:37.337839Z",
     "iopub.status.busy": "2022-10-16T07:47:37.337132Z",
     "iopub.status.idle": "2022-10-16T07:47:37.354324Z",
     "shell.execute_reply": "2022-10-16T07:47:37.354801Z"
    },
    "papermill": {
     "duration": 0.103852,
     "end_time": "2022-10-16T07:47:37.354951",
     "exception": false,
     "start_time": "2022-10-16T07:47:37.251099",
     "status": "completed"
    },
    "tags": []
   },
   "outputs": [
    {
     "data": {
      "text/html": [
       "<div>\n",
       "<style scoped>\n",
       "    .dataframe tbody tr th:only-of-type {\n",
       "        vertical-align: middle;\n",
       "    }\n",
       "\n",
       "    .dataframe tbody tr th {\n",
       "        vertical-align: top;\n",
       "    }\n",
       "\n",
       "    .dataframe thead th {\n",
       "        text-align: right;\n",
       "    }\n",
       "</style>\n",
       "<table border=\"1\" class=\"dataframe\">\n",
       "  <thead>\n",
       "    <tr style=\"text-align: right;\">\n",
       "      <th>Gender</th>\n",
       "      <th>Female</th>\n",
       "      <th>Male</th>\n",
       "    </tr>\n",
       "    <tr>\n",
       "      <th>OverTime</th>\n",
       "      <th></th>\n",
       "      <th></th>\n",
       "    </tr>\n",
       "  </thead>\n",
       "  <tbody>\n",
       "    <tr>\n",
       "      <th>No</th>\n",
       "      <td>286</td>\n",
       "      <td>445</td>\n",
       "    </tr>\n",
       "    <tr>\n",
       "      <th>Yes</th>\n",
       "      <td>126</td>\n",
       "      <td>172</td>\n",
       "    </tr>\n",
       "  </tbody>\n",
       "</table>\n",
       "</div>"
      ],
      "text/plain": [
       "Gender    Female  Male\n",
       "OverTime              \n",
       "No           286   445\n",
       "Yes          126   172"
      ]
     },
     "execution_count": 29,
     "metadata": {},
     "output_type": "execute_result"
    }
   ],
   "source": [
    "# how many male and female do overTime\n",
    "pd.crosstab(empdf['OverTime'], empdf['Gender'])"
   ]
  },
  {
   "cell_type": "markdown",
   "metadata": {
    "papermill": {
     "duration": 0.076736,
     "end_time": "2022-10-16T07:47:37.549109",
     "exception": false,
     "start_time": "2022-10-16T07:47:37.472373",
     "status": "completed"
    },
    "tags": []
   },
   "source": [
    "**OBSERVATIONS**\n",
    "- The employees are more who travel very rare, and the number of Attition of such employees are more. It is also one reason which creates one hypothesis in mind, that should emp got less chance to outing and thus they are not comfortable with job.\n",
    "- Employees working in R&D department are more, but employees from sales department or at position like sales executive,sale Representative leaves the job early.\n",
    "- Males are more under Attrition then Females\n",
    "- Male workers are more who do overtime."
   ]
  },
  {
   "cell_type": "markdown",
   "metadata": {
    "papermill": {
     "duration": 0.078315,
     "end_time": "2022-10-16T07:47:37.706714",
     "exception": false,
     "start_time": "2022-10-16T07:47:37.628399",
     "status": "completed"
    },
    "tags": []
   },
   "source": [
    "**Numerical Features**"
   ]
  },
  {
   "cell_type": "code",
   "execution_count": 30,
   "metadata": {
    "ExecuteTime": {
     "end_time": "2022-12-16T02:08:03.615371Z",
     "start_time": "2022-12-16T02:08:03.608011Z"
    },
    "execution": {
     "iopub.execute_input": "2022-10-16T07:47:37.869640Z",
     "iopub.status.busy": "2022-10-16T07:47:37.869114Z",
     "iopub.status.idle": "2022-10-16T07:47:37.872611Z",
     "shell.execute_reply": "2022-10-16T07:47:37.873136Z"
    },
    "papermill": {
     "duration": 0.085788,
     "end_time": "2022-10-16T07:47:37.873305",
     "exception": false,
     "start_time": "2022-10-16T07:47:37.787517",
     "status": "completed"
    },
    "tags": []
   },
   "outputs": [
    {
     "name": "stdout",
     "output_type": "stream",
     "text": [
      "Total numerical_features 26\n"
     ]
    }
   ],
   "source": [
    "numerical_features = [feature for feature in empdf.columns if empdf[feature].dtype != 'O']\n",
    "print(\"Total numerical_features\", len(numerical_features))"
   ]
  },
  {
   "cell_type": "code",
   "execution_count": 31,
   "metadata": {
    "ExecuteTime": {
     "end_time": "2022-12-16T02:08:04.931176Z",
     "start_time": "2022-12-16T02:08:04.905233Z"
    },
    "execution": {
     "iopub.execute_input": "2022-10-16T07:47:38.032001Z",
     "iopub.status.busy": "2022-10-16T07:47:38.031265Z",
     "iopub.status.idle": "2022-10-16T07:47:38.048010Z",
     "shell.execute_reply": "2022-10-16T07:47:38.048455Z"
    },
    "papermill": {
     "duration": 0.096854,
     "end_time": "2022-10-16T07:47:38.048580",
     "exception": false,
     "start_time": "2022-10-16T07:47:37.951726",
     "status": "completed"
    },
    "tags": []
   },
   "outputs": [
    {
     "data": {
      "text/html": [
       "<div>\n",
       "<style scoped>\n",
       "    .dataframe tbody tr th:only-of-type {\n",
       "        vertical-align: middle;\n",
       "    }\n",
       "\n",
       "    .dataframe tbody tr th {\n",
       "        vertical-align: top;\n",
       "    }\n",
       "\n",
       "    .dataframe thead th {\n",
       "        text-align: right;\n",
       "    }\n",
       "</style>\n",
       "<table border=\"1\" class=\"dataframe\">\n",
       "  <thead>\n",
       "    <tr style=\"text-align: right;\">\n",
       "      <th></th>\n",
       "      <th>Age</th>\n",
       "      <th>DailyRate</th>\n",
       "      <th>DistanceFromHome</th>\n",
       "      <th>Education</th>\n",
       "      <th>EmployeeCount</th>\n",
       "      <th>EmployeeNumber</th>\n",
       "      <th>EnvironmentSatisfaction</th>\n",
       "      <th>HourlyRate</th>\n",
       "      <th>JobInvolvement</th>\n",
       "      <th>JobLevel</th>\n",
       "      <th>JobSatisfaction</th>\n",
       "      <th>MonthlyIncome</th>\n",
       "      <th>MonthlyRate</th>\n",
       "      <th>NumCompaniesWorked</th>\n",
       "      <th>PercentSalaryHike</th>\n",
       "      <th>PerformanceRating</th>\n",
       "      <th>RelationshipSatisfaction</th>\n",
       "      <th>StandardHours</th>\n",
       "      <th>StockOptionLevel</th>\n",
       "      <th>TotalWorkingYears</th>\n",
       "      <th>TrainingTimesLastYear</th>\n",
       "      <th>WorkLifeBalance</th>\n",
       "      <th>YearsAtCompany</th>\n",
       "      <th>YearsInCurrentRole</th>\n",
       "      <th>YearsSinceLastPromotion</th>\n",
       "      <th>YearsWithCurrManager</th>\n",
       "    </tr>\n",
       "  </thead>\n",
       "  <tbody>\n",
       "    <tr>\n",
       "      <th>0</th>\n",
       "      <td>50.0</td>\n",
       "      <td>1126.0</td>\n",
       "      <td>1.0</td>\n",
       "      <td>2</td>\n",
       "      <td>1</td>\n",
       "      <td>997</td>\n",
       "      <td>4</td>\n",
       "      <td>66</td>\n",
       "      <td>3</td>\n",
       "      <td>4</td>\n",
       "      <td>4</td>\n",
       "      <td>17399</td>\n",
       "      <td>6615</td>\n",
       "      <td>9</td>\n",
       "      <td>22</td>\n",
       "      <td>4</td>\n",
       "      <td>3</td>\n",
       "      <td>80</td>\n",
       "      <td>1</td>\n",
       "      <td>32</td>\n",
       "      <td>1</td>\n",
       "      <td>2</td>\n",
       "      <td>5</td>\n",
       "      <td>4</td>\n",
       "      <td>1</td>\n",
       "      <td>3</td>\n",
       "    </tr>\n",
       "    <tr>\n",
       "      <th>1</th>\n",
       "      <td>36.0</td>\n",
       "      <td>216.0</td>\n",
       "      <td>6.0</td>\n",
       "      <td>2</td>\n",
       "      <td>1</td>\n",
       "      <td>178</td>\n",
       "      <td>2</td>\n",
       "      <td>84</td>\n",
       "      <td>3</td>\n",
       "      <td>2</td>\n",
       "      <td>2</td>\n",
       "      <td>4941</td>\n",
       "      <td>2819</td>\n",
       "      <td>6</td>\n",
       "      <td>20</td>\n",
       "      <td>4</td>\n",
       "      <td>4</td>\n",
       "      <td>80</td>\n",
       "      <td>2</td>\n",
       "      <td>7</td>\n",
       "      <td>0</td>\n",
       "      <td>3</td>\n",
       "      <td>3</td>\n",
       "      <td>2</td>\n",
       "      <td>0</td>\n",
       "      <td>1</td>\n",
       "    </tr>\n",
       "    <tr>\n",
       "      <th>2</th>\n",
       "      <td>21.0</td>\n",
       "      <td>337.0</td>\n",
       "      <td>7.0</td>\n",
       "      <td>1</td>\n",
       "      <td>1</td>\n",
       "      <td>1780</td>\n",
       "      <td>2</td>\n",
       "      <td>31</td>\n",
       "      <td>3</td>\n",
       "      <td>1</td>\n",
       "      <td>2</td>\n",
       "      <td>2679</td>\n",
       "      <td>4567</td>\n",
       "      <td>1</td>\n",
       "      <td>13</td>\n",
       "      <td>3</td>\n",
       "      <td>2</td>\n",
       "      <td>80</td>\n",
       "      <td>0</td>\n",
       "      <td>1</td>\n",
       "      <td>3</td>\n",
       "      <td>3</td>\n",
       "      <td>1</td>\n",
       "      <td>0</td>\n",
       "      <td>1</td>\n",
       "      <td>0</td>\n",
       "    </tr>\n",
       "    <tr>\n",
       "      <th>3</th>\n",
       "      <td>50.0</td>\n",
       "      <td>1246.0</td>\n",
       "      <td>NaN</td>\n",
       "      <td>3</td>\n",
       "      <td>1</td>\n",
       "      <td>644</td>\n",
       "      <td>1</td>\n",
       "      <td>99</td>\n",
       "      <td>3</td>\n",
       "      <td>5</td>\n",
       "      <td>2</td>\n",
       "      <td>18200</td>\n",
       "      <td>7999</td>\n",
       "      <td>1</td>\n",
       "      <td>11</td>\n",
       "      <td>3</td>\n",
       "      <td>3</td>\n",
       "      <td>80</td>\n",
       "      <td>1</td>\n",
       "      <td>32</td>\n",
       "      <td>2</td>\n",
       "      <td>3</td>\n",
       "      <td>32</td>\n",
       "      <td>5</td>\n",
       "      <td>10</td>\n",
       "      <td>7</td>\n",
       "    </tr>\n",
       "    <tr>\n",
       "      <th>4</th>\n",
       "      <td>52.0</td>\n",
       "      <td>994.0</td>\n",
       "      <td>7.0</td>\n",
       "      <td>4</td>\n",
       "      <td>1</td>\n",
       "      <td>1118</td>\n",
       "      <td>2</td>\n",
       "      <td>87</td>\n",
       "      <td>3</td>\n",
       "      <td>3</td>\n",
       "      <td>2</td>\n",
       "      <td>10445</td>\n",
       "      <td>15322</td>\n",
       "      <td>7</td>\n",
       "      <td>19</td>\n",
       "      <td>3</td>\n",
       "      <td>4</td>\n",
       "      <td>80</td>\n",
       "      <td>0</td>\n",
       "      <td>18</td>\n",
       "      <td>4</td>\n",
       "      <td>3</td>\n",
       "      <td>8</td>\n",
       "      <td>6</td>\n",
       "      <td>4</td>\n",
       "      <td>0</td>\n",
       "    </tr>\n",
       "  </tbody>\n",
       "</table>\n",
       "</div>"
      ],
      "text/plain": [
       "    Age  DailyRate  DistanceFromHome  Education  EmployeeCount  \\\n",
       "0  50.0     1126.0               1.0          2              1   \n",
       "1  36.0      216.0               6.0          2              1   \n",
       "2  21.0      337.0               7.0          1              1   \n",
       "3  50.0     1246.0               NaN          3              1   \n",
       "4  52.0      994.0               7.0          4              1   \n",
       "\n",
       "   EmployeeNumber  EnvironmentSatisfaction  HourlyRate  JobInvolvement  \\\n",
       "0             997                        4          66               3   \n",
       "1             178                        2          84               3   \n",
       "2            1780                        2          31               3   \n",
       "3             644                        1          99               3   \n",
       "4            1118                        2          87               3   \n",
       "\n",
       "   JobLevel  JobSatisfaction  MonthlyIncome  MonthlyRate  NumCompaniesWorked  \\\n",
       "0         4                4          17399         6615                   9   \n",
       "1         2                2           4941         2819                   6   \n",
       "2         1                2           2679         4567                   1   \n",
       "3         5                2          18200         7999                   1   \n",
       "4         3                2          10445        15322                   7   \n",
       "\n",
       "   PercentSalaryHike  PerformanceRating  RelationshipSatisfaction  \\\n",
       "0                 22                  4                         3   \n",
       "1                 20                  4                         4   \n",
       "2                 13                  3                         2   \n",
       "3                 11                  3                         3   \n",
       "4                 19                  3                         4   \n",
       "\n",
       "   StandardHours  StockOptionLevel  TotalWorkingYears  TrainingTimesLastYear  \\\n",
       "0             80                 1                 32                      1   \n",
       "1             80                 2                  7                      0   \n",
       "2             80                 0                  1                      3   \n",
       "3             80                 1                 32                      2   \n",
       "4             80                 0                 18                      4   \n",
       "\n",
       "   WorkLifeBalance  YearsAtCompany  YearsInCurrentRole  \\\n",
       "0                2               5                   4   \n",
       "1                3               3                   2   \n",
       "2                3               1                   0   \n",
       "3                3              32                   5   \n",
       "4                3               8                   6   \n",
       "\n",
       "   YearsSinceLastPromotion  YearsWithCurrManager  \n",
       "0                        1                     3  \n",
       "1                        0                     1  \n",
       "2                        1                     0  \n",
       "3                       10                     7  \n",
       "4                        4                     0  "
      ]
     },
     "execution_count": 31,
     "metadata": {},
     "output_type": "execute_result"
    }
   ],
   "source": [
    "empdf[numerical_features].head()"
   ]
  },
  {
   "cell_type": "code",
   "execution_count": 32,
   "metadata": {
    "ExecuteTime": {
     "end_time": "2022-12-16T02:08:07.464929Z",
     "start_time": "2022-12-16T02:08:06.625775Z"
    },
    "execution": {
     "iopub.execute_input": "2022-10-16T07:47:38.206302Z",
     "iopub.status.busy": "2022-10-16T07:47:38.205606Z",
     "iopub.status.idle": "2022-10-16T07:47:38.324190Z",
     "shell.execute_reply": "2022-10-16T07:47:38.324615Z"
    },
    "papermill": {
     "duration": 0.198917,
     "end_time": "2022-10-16T07:47:38.324761",
     "exception": false,
     "start_time": "2022-10-16T07:47:38.125844",
     "status": "completed"
    },
    "tags": []
   },
   "outputs": [
    {
     "data": {
      "image/png": "[encoded data removed]",
      "text/plain": [
       "<Figure size 432x288 with 1 Axes>"
      ]
     },
     "metadata": {
      "needs_background": "light"
     },
     "output_type": "display_data"
    }
   ],
   "source": [
    "# distribution of age\n",
    "sns.distplot(empdf['Age'],hist=False)\n",
    "plt.show()"
   ]
  },
  {
   "cell_type": "code",
   "execution_count": 33,
   "metadata": {
    "ExecuteTime": {
     "end_time": "2022-12-16T02:08:09.059603Z",
     "start_time": "2022-12-16T02:08:09.047950Z"
    },
    "execution": {
     "iopub.execute_input": "2022-10-16T07:47:38.487352Z",
     "iopub.status.busy": "2022-10-16T07:47:38.486632Z",
     "iopub.status.idle": "2022-10-16T07:47:38.491579Z",
     "shell.execute_reply": "2022-10-16T07:47:38.492074Z"
    },
    "papermill": {
     "duration": 0.088159,
     "end_time": "2022-10-16T07:47:38.492190",
     "exception": false,
     "start_time": "2022-10-16T07:47:38.404031",
     "status": "completed"
    },
    "tags": []
   },
   "outputs": [
    {
     "data": {
      "text/plain": [
       "39"
      ]
     },
     "execution_count": 33,
     "metadata": {},
     "output_type": "execute_result"
    }
   ],
   "source": [
    "empdf['Age'].nunique()"
   ]
  },
  {
   "cell_type": "markdown",
   "metadata": {
    "papermill": {
     "duration": 0.081149,
     "end_time": "2022-10-16T07:47:38.652014",
     "exception": false,
     "start_time": "2022-10-16T07:47:38.570865",
     "status": "completed"
    },
    "tags": []
   },
   "source": [
    "* Age column is very well normalized, most of employees are age between 25 to 40.\n",
    "- we are having some of the numerical columns which are lebel encoded for us, they are ordinal labels, so let's have a look at them first"
   ]
  },
  {
   "cell_type": "code",
   "execution_count": 34,
   "metadata": {
    "ExecuteTime": {
     "end_time": "2022-12-16T02:08:10.770751Z",
     "start_time": "2022-12-16T02:08:10.757605Z"
    },
    "execution": {
     "iopub.execute_input": "2022-10-16T07:47:38.818448Z",
     "iopub.status.busy": "2022-10-16T07:47:38.817714Z",
     "iopub.status.idle": "2022-10-16T07:47:38.827571Z",
     "shell.execute_reply": "2022-10-16T07:47:38.827097Z"
    },
    "papermill": {
     "duration": 0.09265,
     "end_time": "2022-10-16T07:47:38.827690",
     "exception": false,
     "start_time": "2022-10-16T07:47:38.735040",
     "status": "completed"
    },
    "tags": []
   },
   "outputs": [
    {
     "data": {
      "text/html": [
       "<div>\n",
       "<style scoped>\n",
       "    .dataframe tbody tr th:only-of-type {\n",
       "        vertical-align: middle;\n",
       "    }\n",
       "\n",
       "    .dataframe tbody tr th {\n",
       "        vertical-align: top;\n",
       "    }\n",
       "\n",
       "    .dataframe thead th {\n",
       "        text-align: right;\n",
       "    }\n",
       "</style>\n",
       "<table border=\"1\" class=\"dataframe\">\n",
       "  <thead>\n",
       "    <tr style=\"text-align: right;\">\n",
       "      <th></th>\n",
       "      <th>Education</th>\n",
       "      <th>EnvironmentSatisfaction</th>\n",
       "      <th>JobInvolvement</th>\n",
       "      <th>JobSatisfaction</th>\n",
       "      <th>PerformanceRating</th>\n",
       "      <th>RelationshipSatisfaction</th>\n",
       "      <th>WorkLifeBalance</th>\n",
       "    </tr>\n",
       "  </thead>\n",
       "  <tbody>\n",
       "    <tr>\n",
       "      <th>0</th>\n",
       "      <td>2</td>\n",
       "      <td>4</td>\n",
       "      <td>3</td>\n",
       "      <td>4</td>\n",
       "      <td>4</td>\n",
       "      <td>3</td>\n",
       "      <td>2</td>\n",
       "    </tr>\n",
       "    <tr>\n",
       "      <th>1</th>\n",
       "      <td>2</td>\n",
       "      <td>2</td>\n",
       "      <td>3</td>\n",
       "      <td>2</td>\n",
       "      <td>4</td>\n",
       "      <td>4</td>\n",
       "      <td>3</td>\n",
       "    </tr>\n",
       "    <tr>\n",
       "      <th>2</th>\n",
       "      <td>1</td>\n",
       "      <td>2</td>\n",
       "      <td>3</td>\n",
       "      <td>2</td>\n",
       "      <td>3</td>\n",
       "      <td>2</td>\n",
       "      <td>3</td>\n",
       "    </tr>\n",
       "    <tr>\n",
       "      <th>3</th>\n",
       "      <td>3</td>\n",
       "      <td>1</td>\n",
       "      <td>3</td>\n",
       "      <td>2</td>\n",
       "      <td>3</td>\n",
       "      <td>3</td>\n",
       "      <td>3</td>\n",
       "    </tr>\n",
       "    <tr>\n",
       "      <th>4</th>\n",
       "      <td>4</td>\n",
       "      <td>2</td>\n",
       "      <td>3</td>\n",
       "      <td>2</td>\n",
       "      <td>3</td>\n",
       "      <td>4</td>\n",
       "      <td>3</td>\n",
       "    </tr>\n",
       "  </tbody>\n",
       "</table>\n",
       "</div>"
      ],
      "text/plain": [
       "   Education  EnvironmentSatisfaction  JobInvolvement  JobSatisfaction  \\\n",
       "0          2                        4               3                4   \n",
       "1          2                        2               3                2   \n",
       "2          1                        2               3                2   \n",
       "3          3                        1               3                2   \n",
       "4          4                        2               3                2   \n",
       "\n",
       "   PerformanceRating  RelationshipSatisfaction  WorkLifeBalance  \n",
       "0                  4                         3                2  \n",
       "1                  4                         4                3  \n",
       "2                  3                         2                3  \n",
       "3                  3                         3                3  \n",
       "4                  3                         4                3  "
      ]
     },
     "execution_count": 34,
     "metadata": {},
     "output_type": "execute_result"
    }
   ],
   "source": [
    "ordinal_features = ['Education','EnvironmentSatisfaction','JobInvolvement','JobSatisfaction',\n",
    "                    'PerformanceRating','RelationshipSatisfaction','WorkLifeBalance']\n",
    "empdf[ordinal_features].head()"
   ]
  },
  {
   "cell_type": "code",
   "execution_count": 35,
   "metadata": {
    "ExecuteTime": {
     "end_time": "2022-12-16T02:08:13.693590Z",
     "start_time": "2022-12-16T02:08:13.680367Z"
    },
    "execution": {
     "iopub.execute_input": "2022-10-16T07:47:38.998452Z",
     "iopub.status.busy": "2022-10-16T07:47:38.997857Z",
     "iopub.status.idle": "2022-10-16T07:47:39.001856Z",
     "shell.execute_reply": "2022-10-16T07:47:39.002307Z"
    },
    "papermill": {
     "duration": 0.090461,
     "end_time": "2022-10-16T07:47:39.002466",
     "exception": false,
     "start_time": "2022-10-16T07:47:38.912005",
     "status": "completed"
    },
    "tags": []
   },
   "outputs": [
    {
     "data": {
      "text/plain": [
       "3    386\n",
       "4    279\n",
       "2    194\n",
       "1    134\n",
       "5     36\n",
       "Name: Education, dtype: int64"
      ]
     },
     "execution_count": 35,
     "metadata": {},
     "output_type": "execute_result"
    }
   ],
   "source": [
    "# Education\n",
    "empdf['Education'].value_counts()"
   ]
  },
  {
   "cell_type": "code",
   "execution_count": 36,
   "metadata": {
    "ExecuteTime": {
     "end_time": "2022-12-16T02:08:14.857192Z",
     "start_time": "2022-12-16T02:08:14.630124Z"
    },
    "execution": {
     "iopub.execute_input": "2022-10-16T07:47:39.170928Z",
     "iopub.status.busy": "2022-10-16T07:47:39.170354Z",
     "iopub.status.idle": "2022-10-16T07:47:39.314213Z",
     "shell.execute_reply": "2022-10-16T07:47:39.314672Z"
    },
    "papermill": {
     "duration": 0.230531,
     "end_time": "2022-10-16T07:47:39.314811",
     "exception": false,
     "start_time": "2022-10-16T07:47:39.084280",
     "status": "completed"
    },
    "tags": []
   },
   "outputs": [
    {
     "data": {
      "image/png": "[encoded data removed]",
      "text/plain": [
       "<Figure size 504x360 with 1 Axes>"
      ]
     },
     "metadata": {
      "needs_background": "light"
     },
     "output_type": "display_data"
    }
   ],
   "source": [
    "edu_map = {1 :'Below College', 2: 'College', 3 :'Bachelor', 4 :'Master', 5: 'Doctor'}\n",
    "plt.figure(figsize=(7,5))\n",
    "sns.countplot(x=empdf['Education'].map(edu_map), hue='Attrition', data=empdf, palette='prism')\n",
    "plt.title(\"Education W.R.T Attrition\")\n",
    "plt.show()"
   ]
  },
  {
   "cell_type": "code",
   "execution_count": 37,
   "metadata": {
    "ExecuteTime": {
     "end_time": "2022-12-16T02:08:15.708130Z",
     "start_time": "2022-12-16T02:08:15.699238Z"
    },
    "execution": {
     "iopub.execute_input": "2022-10-16T07:47:39.488030Z",
     "iopub.status.busy": "2022-10-16T07:47:39.487462Z",
     "iopub.status.idle": "2022-10-16T07:47:39.493037Z",
     "shell.execute_reply": "2022-10-16T07:47:39.493491Z"
    },
    "papermill": {
     "duration": 0.091767,
     "end_time": "2022-10-16T07:47:39.493633",
     "exception": false,
     "start_time": "2022-10-16T07:47:39.401866",
     "status": "completed"
    },
    "tags": []
   },
   "outputs": [
    {
     "data": {
      "text/plain": [
       "3    310\n",
       "4    300\n",
       "2    212\n",
       "1    207\n",
       "Name: EnvironmentSatisfaction, dtype: int64"
      ]
     },
     "execution_count": 37,
     "metadata": {},
     "output_type": "execute_result"
    }
   ],
   "source": [
    "#EnvironmentSatisfaction\n",
    "empdf['EnvironmentSatisfaction'].value_counts()   # it is very nice response from employees"
   ]
  },
  {
   "cell_type": "code",
   "execution_count": 38,
   "metadata": {
    "ExecuteTime": {
     "end_time": "2022-12-16T02:08:16.794449Z",
     "start_time": "2022-12-16T02:08:16.779240Z"
    },
    "execution": {
     "iopub.execute_input": "2022-10-16T07:47:39.674011Z",
     "iopub.status.busy": "2022-10-16T07:47:39.673304Z",
     "iopub.status.idle": "2022-10-16T07:47:39.679208Z",
     "shell.execute_reply": "2022-10-16T07:47:39.679655Z"
    },
    "papermill": {
     "duration": 0.096746,
     "end_time": "2022-10-16T07:47:39.679793",
     "exception": false,
     "start_time": "2022-10-16T07:47:39.583047",
     "status": "completed"
    },
    "tags": []
   },
   "outputs": [
    {
     "data": {
      "text/plain": [
       "3    606\n",
       "2    269\n",
       "4     94\n",
       "1     60\n",
       "Name: JobInvolvement, dtype: int64"
      ]
     },
     "execution_count": 38,
     "metadata": {},
     "output_type": "execute_result"
    }
   ],
   "source": [
    "#JobInvolvement\n",
    "empdf['JobInvolvement'].value_counts()"
   ]
  },
  {
   "cell_type": "markdown",
   "metadata": {
    "papermill": {
     "duration": 0.080847,
     "end_time": "2022-10-16T07:47:39.844098",
     "exception": false,
     "start_time": "2022-10-16T07:47:39.763251",
     "status": "completed"
    },
    "tags": []
   },
   "source": [
    "**OBSERVATIONS**\n",
    "- Employees from Bachelor are more, then from Masters background. Attrition wrt to bachelor can be seem more because they have more and more expectation from companies and it will be interesting to see the reason behind this in this dataset.\n",
    "- EnvironmentSatisfaction can be rank as high or medium. means very less employees do not like the work environment which cannot be seem as great cause for changing a job.\n",
    "- JobInvolvement of employees is very much high."
   ]
  },
  {
   "cell_type": "markdown",
   "metadata": {
    "papermill": {
     "duration": 0.080724,
     "end_time": "2022-10-16T07:47:40.005860",
     "exception": false,
     "start_time": "2022-10-16T07:47:39.925136",
     "status": "completed"
    },
    "tags": []
   },
   "source": [
    "**Analysis of exact numerical features except ordinal labels which are pre-encoded**"
   ]
  },
  {
   "cell_type": "code",
   "execution_count": 39,
   "metadata": {
    "ExecuteTime": {
     "end_time": "2022-12-16T02:08:20.445591Z",
     "start_time": "2022-12-16T02:08:20.438369Z"
    },
    "execution": {
     "iopub.execute_input": "2022-10-16T07:47:40.177265Z",
     "iopub.status.busy": "2022-10-16T07:47:40.176712Z",
     "iopub.status.idle": "2022-10-16T07:47:40.180806Z",
     "shell.execute_reply": "2022-10-16T07:47:40.180354Z"
    },
    "papermill": {
     "duration": 0.091202,
     "end_time": "2022-10-16T07:47:40.180934",
     "exception": false,
     "start_time": "2022-10-16T07:47:40.089732",
     "status": "completed"
    },
    "tags": []
   },
   "outputs": [
    {
     "name": "stdout",
     "output_type": "stream",
     "text": [
      "total numerical_features 19\n"
     ]
    }
   ],
   "source": [
    "numerical_features = [feature for feature in empdf.columns if empdf[feature].dtype != 'O' and feature not in ordinal_features]\n",
    "print(\"total numerical_features\",len(numerical_features))"
   ]
  },
  {
   "cell_type": "code",
   "execution_count": 40,
   "metadata": {
    "ExecuteTime": {
     "end_time": "2022-12-16T02:08:22.697420Z",
     "start_time": "2022-12-16T02:08:22.676338Z"
    },
    "execution": {
     "iopub.execute_input": "2022-10-16T07:47:40.358183Z",
     "iopub.status.busy": "2022-10-16T07:47:40.357619Z",
     "iopub.status.idle": "2022-10-16T07:47:40.374244Z",
     "shell.execute_reply": "2022-10-16T07:47:40.373775Z"
    },
    "papermill": {
     "duration": 0.106527,
     "end_time": "2022-10-16T07:47:40.374339",
     "exception": false,
     "start_time": "2022-10-16T07:47:40.267812",
     "status": "completed"
    },
    "tags": []
   },
   "outputs": [
    {
     "data": {
      "text/html": [
       "<div>\n",
       "<style scoped>\n",
       "    .dataframe tbody tr th:only-of-type {\n",
       "        vertical-align: middle;\n",
       "    }\n",
       "\n",
       "    .dataframe tbody tr th {\n",
       "        vertical-align: top;\n",
       "    }\n",
       "\n",
       "    .dataframe thead th {\n",
       "        text-align: right;\n",
       "    }\n",
       "</style>\n",
       "<table border=\"1\" class=\"dataframe\">\n",
       "  <thead>\n",
       "    <tr style=\"text-align: right;\">\n",
       "      <th></th>\n",
       "      <th>Age</th>\n",
       "      <th>DailyRate</th>\n",
       "      <th>DistanceFromHome</th>\n",
       "      <th>EmployeeCount</th>\n",
       "      <th>EmployeeNumber</th>\n",
       "      <th>HourlyRate</th>\n",
       "      <th>JobLevel</th>\n",
       "      <th>MonthlyIncome</th>\n",
       "      <th>MonthlyRate</th>\n",
       "      <th>NumCompaniesWorked</th>\n",
       "      <th>PercentSalaryHike</th>\n",
       "      <th>StandardHours</th>\n",
       "      <th>StockOptionLevel</th>\n",
       "      <th>TotalWorkingYears</th>\n",
       "      <th>TrainingTimesLastYear</th>\n",
       "      <th>YearsAtCompany</th>\n",
       "      <th>YearsInCurrentRole</th>\n",
       "      <th>YearsSinceLastPromotion</th>\n",
       "      <th>YearsWithCurrManager</th>\n",
       "    </tr>\n",
       "  </thead>\n",
       "  <tbody>\n",
       "    <tr>\n",
       "      <th>0</th>\n",
       "      <td>50.0</td>\n",
       "      <td>1126.0</td>\n",
       "      <td>1.0</td>\n",
       "      <td>1</td>\n",
       "      <td>997</td>\n",
       "      <td>66</td>\n",
       "      <td>4</td>\n",
       "      <td>17399</td>\n",
       "      <td>6615</td>\n",
       "      <td>9</td>\n",
       "      <td>22</td>\n",
       "      <td>80</td>\n",
       "      <td>1</td>\n",
       "      <td>32</td>\n",
       "      <td>1</td>\n",
       "      <td>5</td>\n",
       "      <td>4</td>\n",
       "      <td>1</td>\n",
       "      <td>3</td>\n",
       "    </tr>\n",
       "    <tr>\n",
       "      <th>1</th>\n",
       "      <td>36.0</td>\n",
       "      <td>216.0</td>\n",
       "      <td>6.0</td>\n",
       "      <td>1</td>\n",
       "      <td>178</td>\n",
       "      <td>84</td>\n",
       "      <td>2</td>\n",
       "      <td>4941</td>\n",
       "      <td>2819</td>\n",
       "      <td>6</td>\n",
       "      <td>20</td>\n",
       "      <td>80</td>\n",
       "      <td>2</td>\n",
       "      <td>7</td>\n",
       "      <td>0</td>\n",
       "      <td>3</td>\n",
       "      <td>2</td>\n",
       "      <td>0</td>\n",
       "      <td>1</td>\n",
       "    </tr>\n",
       "    <tr>\n",
       "      <th>2</th>\n",
       "      <td>21.0</td>\n",
       "      <td>337.0</td>\n",
       "      <td>7.0</td>\n",
       "      <td>1</td>\n",
       "      <td>1780</td>\n",
       "      <td>31</td>\n",
       "      <td>1</td>\n",
       "      <td>2679</td>\n",
       "      <td>4567</td>\n",
       "      <td>1</td>\n",
       "      <td>13</td>\n",
       "      <td>80</td>\n",
       "      <td>0</td>\n",
       "      <td>1</td>\n",
       "      <td>3</td>\n",
       "      <td>1</td>\n",
       "      <td>0</td>\n",
       "      <td>1</td>\n",
       "      <td>0</td>\n",
       "    </tr>\n",
       "    <tr>\n",
       "      <th>3</th>\n",
       "      <td>50.0</td>\n",
       "      <td>1246.0</td>\n",
       "      <td>NaN</td>\n",
       "      <td>1</td>\n",
       "      <td>644</td>\n",
       "      <td>99</td>\n",
       "      <td>5</td>\n",
       "      <td>18200</td>\n",
       "      <td>7999</td>\n",
       "      <td>1</td>\n",
       "      <td>11</td>\n",
       "      <td>80</td>\n",
       "      <td>1</td>\n",
       "      <td>32</td>\n",
       "      <td>2</td>\n",
       "      <td>32</td>\n",
       "      <td>5</td>\n",
       "      <td>10</td>\n",
       "      <td>7</td>\n",
       "    </tr>\n",
       "    <tr>\n",
       "      <th>4</th>\n",
       "      <td>52.0</td>\n",
       "      <td>994.0</td>\n",
       "      <td>7.0</td>\n",
       "      <td>1</td>\n",
       "      <td>1118</td>\n",
       "      <td>87</td>\n",
       "      <td>3</td>\n",
       "      <td>10445</td>\n",
       "      <td>15322</td>\n",
       "      <td>7</td>\n",
       "      <td>19</td>\n",
       "      <td>80</td>\n",
       "      <td>0</td>\n",
       "      <td>18</td>\n",
       "      <td>4</td>\n",
       "      <td>8</td>\n",
       "      <td>6</td>\n",
       "      <td>4</td>\n",
       "      <td>0</td>\n",
       "    </tr>\n",
       "  </tbody>\n",
       "</table>\n",
       "</div>"
      ],
      "text/plain": [
       "    Age  DailyRate  DistanceFromHome  EmployeeCount  EmployeeNumber  \\\n",
       "0  50.0     1126.0               1.0              1             997   \n",
       "1  36.0      216.0               6.0              1             178   \n",
       "2  21.0      337.0               7.0              1            1780   \n",
       "3  50.0     1246.0               NaN              1             644   \n",
       "4  52.0      994.0               7.0              1            1118   \n",
       "\n",
       "   HourlyRate  JobLevel  MonthlyIncome  MonthlyRate  NumCompaniesWorked  \\\n",
       "0          66         4          17399         6615                   9   \n",
       "1          84         2           4941         2819                   6   \n",
       "2          31         1           2679         4567                   1   \n",
       "3          99         5          18200         7999                   1   \n",
       "4          87         3          10445        15322                   7   \n",
       "\n",
       "   PercentSalaryHike  StandardHours  StockOptionLevel  TotalWorkingYears  \\\n",
       "0                 22             80                 1                 32   \n",
       "1                 20             80                 2                  7   \n",
       "2                 13             80                 0                  1   \n",
       "3                 11             80                 1                 32   \n",
       "4                 19             80                 0                 18   \n",
       "\n",
       "   TrainingTimesLastYear  YearsAtCompany  YearsInCurrentRole  \\\n",
       "0                      1               5                   4   \n",
       "1                      0               3                   2   \n",
       "2                      3               1                   0   \n",
       "3                      2              32                   5   \n",
       "4                      4               8                   6   \n",
       "\n",
       "   YearsSinceLastPromotion  YearsWithCurrManager  \n",
       "0                        1                     3  \n",
       "1                        0                     1  \n",
       "2                        1                     0  \n",
       "3                       10                     7  \n",
       "4                        4                     0  "
      ]
     },
     "execution_count": 40,
     "metadata": {},
     "output_type": "execute_result"
    }
   ],
   "source": [
    "empdf[numerical_features].head()"
   ]
  },
  {
   "cell_type": "code",
   "execution_count": 41,
   "metadata": {
    "ExecuteTime": {
     "end_time": "2022-12-16T02:08:23.681962Z",
     "start_time": "2022-12-16T02:08:23.426751Z"
    },
    "execution": {
     "iopub.execute_input": "2022-10-16T07:47:40.559395Z",
     "iopub.status.busy": "2022-10-16T07:47:40.553749Z",
     "iopub.status.idle": "2022-10-16T07:47:40.675958Z",
     "shell.execute_reply": "2022-10-16T07:47:40.675370Z"
    },
    "papermill": {
     "duration": 0.210187,
     "end_time": "2022-10-16T07:47:40.676059",
     "exception": false,
     "start_time": "2022-10-16T07:47:40.465872",
     "status": "completed"
    },
    "tags": []
   },
   "outputs": [
    {
     "data": {
      "image/png": "[encoded data removed]",
      "text/plain": [
       "<Figure size 432x288 with 1 Axes>"
      ]
     },
     "metadata": {
      "needs_background": "light"
     },
     "output_type": "display_data"
    }
   ],
   "source": [
    "#MonthlyIncome\n",
    "sns.distplot(empdf['MonthlyIncome'],hist=False)\n",
    "plt.show()"
   ]
  },
  {
   "cell_type": "code",
   "execution_count": 42,
   "metadata": {
    "ExecuteTime": {
     "end_time": "2022-12-16T02:08:24.392552Z",
     "start_time": "2022-12-16T02:08:24.267192Z"
    },
    "execution": {
     "iopub.execute_input": "2022-10-16T07:47:40.851469Z",
     "iopub.status.busy": "2022-10-16T07:47:40.850804Z",
     "iopub.status.idle": "2022-10-16T07:47:40.954841Z",
     "shell.execute_reply": "2022-10-16T07:47:40.955292Z"
    },
    "papermill": {
     "duration": 0.192141,
     "end_time": "2022-10-16T07:47:40.955437",
     "exception": false,
     "start_time": "2022-10-16T07:47:40.763296",
     "status": "completed"
    },
    "tags": []
   },
   "outputs": [
    {
     "data": {
      "image/png": "[encoded data removed]",
      "text/plain": [
       "<Figure size 432x360 with 1 Axes>"
      ]
     },
     "metadata": {
      "needs_background": "light"
     },
     "output_type": "display_data"
    }
   ],
   "source": [
    "plt.figure(figsize=(6,5))\n",
    "sns.boxplot(empdf['MonthlyIncome'])\n",
    "plt.show()"
   ]
  },
  {
   "cell_type": "code",
   "execution_count": 43,
   "metadata": {
    "ExecuteTime": {
     "end_time": "2022-12-16T02:08:25.239346Z",
     "start_time": "2022-12-16T02:08:25.166754Z"
    },
    "execution": {
     "iopub.execute_input": "2022-10-16T07:47:41.132020Z",
     "iopub.status.busy": "2022-10-16T07:47:41.131270Z",
     "iopub.status.idle": "2022-10-16T07:47:41.189783Z",
     "shell.execute_reply": "2022-10-16T07:47:41.190216Z"
    },
    "papermill": {
     "duration": 0.14862,
     "end_time": "2022-10-16T07:47:41.190353",
     "exception": false,
     "start_time": "2022-10-16T07:47:41.041733",
     "status": "completed"
    },
    "tags": []
   },
   "outputs": [
    {
     "data": {
      "application/vnd.plotly.v1+json": {
       "config": {
        "linkText": "Export to plot.ly",
        "plotlyServerURL": "https://plot.ly",
        "showLink": false
       },
       "data": [
        {
         "line": {
          "shape": "spline"
         },
         "marker": {
          "size": 12
         },
         "mode": "markers+lines",
         "type": "scatter",
         "x": [
          50,
          36,
          21,
          50,
          52,
          33,
          47,
          22,
          null,
          33,
          40,
          27,
          40,
          55,
          33,
          37,
          34,
          46,
          38,
          30,
          34,
          34,
          36,
          null,
          null,
          40,
          24,
          53,
          32,
          null,
          55,
          30,
          null,
          23,
          51,
          42,
          null,
          null,
          20,
          null,
          29,
          43,
          40,
          29,
          46,
          44,
          47,
          32,
          38,
          51,
          58,
          null,
          45,
          56,
          37,
          37,
          39,
          null,
          54,
          32,
          48,
          33,
          31,
          46,
          38,
          38,
          43,
          37,
          39,
          null,
          null,
          30,
          39,
          43,
          27,
          42,
          31,
          39,
          29,
          49,
          38,
          null,
          42,
          31,
          34,
          36,
          27,
          40,
          34,
          43,
          31,
          41,
          31,
          45,
          33,
          27,
          36,
          33,
          31,
          19,
          32,
          36,
          37,
          null,
          null,
          29,
          29,
          41,
          30,
          39,
          22,
          31,
          45,
          42,
          31,
          51,
          34,
          33,
          null,
          40,
          33,
          34,
          34,
          30,
          33,
          45,
          37,
          31,
          32,
          null,
          null,
          30,
          33,
          38,
          41,
          51,
          38,
          27,
          53,
          30,
          30,
          30,
          58,
          34,
          null,
          51,
          39,
          36,
          32,
          56,
          57,
          57,
          40,
          23,
          53,
          38,
          36,
          29,
          38,
          47,
          32,
          null,
          36,
          49,
          34,
          39,
          30,
          51,
          null,
          60,
          50,
          45,
          56,
          46,
          42,
          60,
          null,
          null,
          53,
          39,
          48,
          37,
          41,
          21,
          32,
          37,
          59,
          45,
          null,
          36,
          41,
          41,
          42,
          42,
          24,
          33,
          43,
          null,
          38,
          33,
          53,
          43,
          42,
          53,
          29,
          29,
          37,
          50,
          29,
          33,
          55,
          51,
          30,
          49,
          47,
          31,
          47,
          58,
          41,
          29,
          50,
          32,
          44,
          38,
          null,
          40,
          45,
          46,
          null,
          34,
          55,
          19,
          32,
          40,
          30,
          22,
          48,
          45,
          53,
          36,
          29,
          46,
          41,
          41,
          52,
          51,
          null,
          36,
          38,
          31,
          44,
          30,
          31,
          27,
          null,
          24,
          50,
          39,
          30,
          30,
          29,
          59,
          36,
          29,
          30,
          50,
          37,
          38,
          41,
          29,
          45,
          null,
          29,
          42,
          48,
          20,
          31,
          41,
          29,
          42,
          36,
          null,
          32,
          36,
          42,
          43,
          36,
          null,
          36,
          36,
          38,
          33,
          45,
          27,
          34,
          29,
          32,
          46,
          39,
          44,
          40,
          55,
          41,
          43,
          38,
          29,
          null,
          45,
          34,
          38,
          55,
          18,
          40,
          null,
          null,
          20,
          33,
          31,
          40,
          50,
          27,
          null,
          36,
          53,
          42,
          37,
          43,
          23,
          52,
          29,
          50,
          42,
          34,
          32,
          38,
          30,
          56,
          27,
          36,
          40,
          37,
          33,
          36,
          39,
          36,
          null,
          36,
          37,
          51,
          49,
          null,
          43,
          33,
          null,
          46,
          56,
          32,
          30,
          30,
          27,
          42,
          20,
          50,
          19,
          31,
          29,
          42,
          36,
          42,
          46,
          39,
          30,
          36,
          41,
          22,
          21,
          41,
          null,
          47,
          45,
          29,
          null,
          51,
          34,
          null,
          40,
          42,
          38,
          24,
          39,
          40,
          45,
          40,
          34,
          32,
          50,
          37,
          29,
          null,
          31,
          38,
          27,
          46,
          41,
          40,
          30,
          30,
          34,
          40,
          29,
          46,
          41,
          39,
          29,
          52,
          37,
          29,
          44,
          45,
          null,
          47,
          37,
          41,
          57,
          18,
          32,
          null,
          33,
          null,
          32,
          null,
          39,
          58,
          36,
          31,
          null,
          39,
          27,
          44,
          45,
          40,
          47,
          34,
          44,
          36,
          27,
          24,
          39,
          36,
          34,
          50,
          41,
          31,
          39,
          44,
          33,
          33,
          null,
          37,
          37,
          27,
          null,
          30,
          29,
          27,
          44,
          23,
          43,
          29,
          27,
          46,
          32,
          30,
          37,
          30,
          38,
          33,
          null,
          null,
          43,
          32,
          31,
          52,
          44,
          29,
          null,
          33,
          30,
          30,
          null,
          31,
          21,
          37,
          38,
          null,
          33,
          27,
          32,
          null,
          36,
          55,
          42,
          22,
          30,
          null,
          52,
          54,
          52,
          34,
          55,
          42,
          null,
          40,
          31,
          41,
          null,
          32,
          38,
          22,
          22,
          27,
          38,
          29,
          null,
          31,
          55,
          59,
          48,
          43,
          null,
          33,
          53,
          46,
          31,
          38,
          55,
          60,
          58,
          38,
          46,
          null,
          56,
          33,
          40,
          27,
          null,
          null,
          33,
          40,
          34,
          50,
          48,
          54,
          20,
          43,
          29,
          34,
          42,
          27,
          19,
          39,
          27,
          59,
          31,
          null,
          34,
          31,
          53,
          41,
          54,
          30,
          49,
          46,
          36,
          32,
          27,
          32,
          29,
          37,
          null,
          51,
          34,
          40,
          38,
          48,
          42,
          31,
          46,
          null,
          29,
          42,
          39,
          22,
          29,
          43,
          null,
          31,
          32,
          38,
          20,
          56,
          34,
          31,
          48,
          40,
          40,
          null,
          34,
          null,
          34,
          40,
          34,
          36,
          46,
          27,
          34,
          42,
          30,
          37,
          54,
          49,
          29,
          null,
          38,
          36,
          39,
          46,
          54,
          45,
          27,
          45,
          31,
          27,
          44,
          null,
          38,
          30,
          20,
          38,
          50,
          27,
          36,
          42,
          58,
          33,
          34,
          null,
          null,
          41,
          43,
          32,
          null,
          31,
          45,
          33,
          32,
          34,
          40,
          34,
          33,
          32,
          20,
          36,
          27,
          null,
          37,
          46,
          45,
          34,
          22,
          null,
          29,
          40,
          31,
          39,
          null,
          33,
          19,
          34,
          48,
          39,
          31,
          27,
          34,
          24,
          51,
          50,
          31,
          36,
          27,
          38,
          40,
          43,
          27,
          null,
          27,
          45,
          34,
          27,
          59,
          44,
          31,
          23,
          38,
          43,
          32,
          null,
          19,
          45,
          null,
          36,
          43,
          22,
          19,
          36,
          31,
          36,
          52,
          32,
          39,
          52,
          32,
          34,
          31,
          18,
          21,
          36,
          24,
          34,
          null,
          null,
          24,
          58,
          32,
          29,
          29,
          44,
          23,
          36,
          46,
          40,
          31,
          55,
          null,
          59,
          32,
          30,
          32,
          29,
          null,
          52,
          40,
          32,
          33,
          42,
          36,
          48,
          49,
          43,
          37,
          45,
          55,
          null,
          22,
          56,
          null,
          49,
          24,
          46,
          45,
          53,
          45,
          33,
          46,
          null,
          34,
          24,
          null,
          45,
          null,
          null,
          41,
          33,
          36,
          23,
          29,
          38,
          31,
          43,
          24,
          45,
          42,
          31,
          null,
          32,
          null,
          30,
          23,
          38,
          32,
          40,
          37,
          24,
          40,
          36,
          23,
          44,
          42,
          29,
          40,
          30,
          30,
          42,
          42,
          null,
          null,
          40,
          49,
          null,
          55,
          30,
          50,
          null,
          42,
          33,
          50,
          null,
          29,
          39,
          56,
          55,
          34,
          null,
          33,
          31,
          null,
          18,
          36,
          30,
          45,
          54,
          32,
          49,
          54,
          null,
          31,
          41,
          37,
          32,
          42,
          null,
          38,
          21,
          null,
          31,
          40,
          52,
          37,
          31,
          33,
          18,
          52,
          42,
          27,
          37,
          49,
          41,
          37,
          29,
          31,
          53,
          38,
          37,
          30,
          41,
          36,
          34,
          null,
          null,
          47,
          null,
          34,
          31,
          54,
          47,
          null,
          55,
          50,
          33,
          44,
          48,
          22,
          54,
          34,
          null,
          null,
          50,
          null,
          32,
          41,
          38,
          null,
          41,
          null,
          null,
          58,
          48,
          52,
          53,
          49,
          null,
          null,
          51,
          27,
          null,
          44,
          null,
          27,
          52,
          34,
          null,
          null,
          40,
          47,
          null,
          50,
          null,
          21,
          27,
          48,
          36,
          null,
          36,
          30,
          48,
          55,
          55,
          34,
          30,
          null,
          54,
          42,
          29,
          47,
          42,
          31,
          51,
          33,
          39,
          21,
          36,
          43,
          49,
          27,
          null,
          56,
          30,
          42,
          23,
          null,
          24,
          29,
          29,
          24,
          43,
          null,
          34,
          null,
          51,
          33,
          59,
          45,
          null,
          20,
          32,
          34,
          43,
          32,
          40,
          null,
          41,
          null,
          24,
          53,
          47,
          31,
          34,
          33,
          32,
          41,
          40,
          51,
          55,
          52,
          54,
          23,
          24,
          20,
          38,
          29,
          36,
          null,
          41,
          54,
          null,
          55,
          null,
          30,
          45,
          39,
          29,
          null,
          29,
          43,
          24,
          null,
          53,
          51,
          43,
          23,
          41,
          33,
          49,
          33,
          null,
          41,
          22,
          29,
          50
         ],
         "y": [
          17399,
          4941,
          2679,
          18200,
          10445,
          13610,
          10333,
          4775,
          4382,
          5368,
          10855,
          5071,
          2406,
          10976,
          2313,
          10609,
          6029,
          18789,
          9924,
          4627,
          3737,
          5433,
          5406,
          8837,
          7632,
          19833,
          4999,
          14852,
          5470,
          2561,
          4035,
          6091,
          2366,
          1601,
          6132,
          6062,
          2559,
          4717,
          1009,
          4724,
          2168,
          14336,
          4422,
          3131,
          13225,
          2342,
          17169,
          5309,
          2619,
          14026,
          5660,
          4859,
          9380,
          11103,
          4107,
          9525,
          7880,
          10274,
          10686,
          4025,
          12504,
          5488,
          6172,
          10453,
          5745,
          4440,
          7847,
          2326,
          5238,
          4936,
          5689,
          4152,
          17123,
          19392,
          6811,
          6244,
          3978,
          2404,
          16124,
          18665,
          2858,
          5098,
          15992,
          4084,
          8628,
          6586,
          4342,
          10932,
          7083,
          9985,
          10793,
          2782,
          5003,
          5399,
          4682,
          2478,
          2571,
          2028,
          2911,
          2325,
          2794,
          7779,
          4071,
          1052,
          8639,
          2319,
          2514,
          19973,
          6347,
          13464,
          2398,
          4345,
          17650,
          4556,
          8943,
          5482,
          5343,
          17444,
          5204,
          5677,
          8380,
          5714,
          2691,
          11416,
          2909,
          3633,
          8834,
          7547,
          3068,
          2080,
          3904,
          2132,
          5376,
          7861,
          3072,
          10650,
          6288,
          3540,
          14275,
          5301,
          1081,
          3833,
          19701,
          9725,
          2544,
          4936,
          17068,
          9980,
          5228,
          2942,
          4900,
          14118,
          2342,
          1790,
          7005,
          2440,
          2143,
          7918,
          13206,
          8633,
          4883,
          5208,
          6499,
          4284,
          4381,
          4534,
          8474,
          10596,
          3506,
          5405,
          6728,
          2132,
          7260,
          8578,
          2766,
          10883,
          4194,
          2706,
          10169,
          5151,
          19665,
          6502,
          5467,
          2610,
          4403,
          2090,
          2670,
          5210,
          2022,
          3692,
          8938,
          13591,
          2372,
          6825,
          2033,
          8224,
          5562,
          4256,
          2684,
          6388,
          10934,
          10820,
          2593,
          19094,
          2119,
          4335,
          3022,
          18172,
          4649,
          13458,
          16756,
          12490,
          2613,
          18711,
          5067,
          2501,
          2105,
          2372,
          19545,
          3785,
          3221,
          2837,
          19049,
          2844,
          2042,
          10475,
          2274,
          10527,
          8722,
          2932,
          6385,
          2994,
          6162,
          3975,
          5209,
          4171,
          2259,
          16792,
          17584,
          9699,
          2720,
          4615,
          5003,
          3140,
          13247,
          7484,
          2293,
          2644,
          6673,
          5332,
          5454,
          5304,
          2302,
          2394,
          3201,
          4377,
          3690,
          5902,
          4695,
          5126,
          4187,
          18844,
          11713,
          2404,
          2033,
          19926,
          3920,
          12061,
          6230,
          2109,
          3697,
          4221,
          5373,
          17665,
          18265,
          2926,
          10648,
          6430,
          2335,
          5155,
          6652,
          5661,
          6735,
          5347,
          2576,
          16064,
          4502,
          4000,
          5674,
          9738,
          4735,
          2799,
          6434,
          6500,
          4599,
          2703,
          5010,
          17465,
          2086,
          16328,
          13237,
          16835,
          19419,
          5346,
          4198,
          2760,
          3578,
          13245,
          4325,
          2610,
          10239,
          1878,
          10435,
          4014,
          6674,
          2728,
          3408,
          2356,
          10322,
          17856,
          2580,
          4558,
          8321,
          16598,
          5538,
          5163,
          17159,
          1223,
          2950,
          3760,
          18740,
          4907,
          4404,
          3931,
          10609,
          3204,
          5380,
          3816,
          2835,
          3377,
          10048,
          2008,
          5237,
          3755,
          5079,
          4898,
          5228,
          4197,
          19847,
          16413,
          5093,
          2437,
          4302,
          4306,
          10845,
          2587,
          4668,
          2083,
          9714,
          4227,
          13348,
          2600,
          3875,
          1102,
          3067,
          2157,
          3968,
          5673,
          13758,
          17048,
          12031,
          2693,
          5810,
          2778,
          2814,
          2174,
          3376,
          2450,
          18300,
          10851,
          8853,
          2966,
          2723,
          5747,
          6540,
          2018,
          13191,
          4317,
          4577,
          8237,
          2387,
          7441,
          2001,
          9950,
          11159,
          13269,
          2793,
          7553,
          8789,
          9637,
          3702,
          9981,
          5021,
          2238,
          19626,
          4115,
          3491,
          2008,
          4639,
          2297,
          19081,
          8189,
          5736,
          3291,
          16555,
          2996,
          5561,
          3195,
          4286,
          6232,
          2976,
          3034,
          5993,
          6755,
          1904,
          6667,
          6272,
          8564,
          4014,
          2314,
          5813,
          3646,
          10008,
          2088,
          6582,
          2368,
          3904,
          7412,
          2936,
          2270,
          13503,
          11957,
          2311,
          4541,
          4639,
          4621,
          3202,
          10938,
          3388,
          2979,
          9208,
          16015,
          6179,
          19272,
          2436,
          4320,
          7104,
          4907,
          5731,
          3452,
          3041,
          3977,
          6118,
          2546,
          2566,
          10248,
          2819,
          2089,
          3339,
          4774,
          7314,
          3038,
          9419,
          7642,
          3072,
          4028,
          5505,
          4148,
          2875,
          5679,
          6220,
          3477,
          3149,
          13320,
          2532,
          2515,
          2436,
          2422,
          2657,
          2713,
          4559,
          2380,
          12185,
          3306,
          2096,
          2756,
          2341,
          6725,
          2889,
          3419,
          19859,
          2936,
          2472,
          3748,
          3681,
          5577,
          10502,
          8446,
          2960,
          19636,
          16799,
          2194,
          6852,
          5238,
          9355,
          2659,
          2827,
          2592,
          2244,
          2451,
          2811,
          5405,
          4262,
          3485,
          4424,
          13577,
          2267,
          4051,
          2258,
          10221,
          2500,
          15427,
          7991,
          2109,
          11510,
          14732,
          5220,
          19246,
          2406,
          10368,
          2070,
          2339,
          4539,
          4069,
          2863,
          6397,
          5762,
          6949,
          6380,
          2307,
          2683,
          4240,
          6854,
          2044,
          2438,
          6384,
          2029,
          2759,
          3517,
          2121,
          12742,
          2279,
          10512,
          11557,
          3196,
          6538,
          2329,
          7525,
          13570,
          10739,
          2097,
          10965,
          4810,
          3038,
          2432,
          4066,
          6322,
          5056,
          3564,
          2690,
          16307,
          4505,
          18041,
          2991,
          7898,
          4434,
          11031,
          9619,
          2376,
          1091,
          4332,
          10880,
          2773,
          4193,
          4522,
          4741,
          5855,
          1393,
          4771,
          2973,
          19943,
          2231,
          6833,
          15202,
          19436,
          7457,
          5561,
          2742,
          1281,
          2996,
          8396,
          5346,
          4834,
          16606,
          4647,
          11994,
          6781,
          2180,
          6347,
          3780,
          19502,
          2058,
          1118,
          2133,
          9278,
          4108,
          10673,
          17328,
          4447,
          5769,
          2348,
          5468,
          6142,
          10482,
          2572,
          5666,
          2862,
          2836,
          3057,
          4728,
          2045,
          2342,
          4841,
          15787,
          7119,
          11631,
          3917,
          8606,
          4766,
          16959,
          2795,
          10685,
          2657,
          13496,
          2277,
          6209,
          4033,
          4327,
          4568,
          3055,
          4078,
          2678,
          8858,
          3468,
          3229,
          4189,
          16872,
          5770,
          9713,
          3894,
          9362,
          2362,
          13499,
          2956,
          9613,
          4877,
          11878,
          1483,
          3280,
          5381,
          5377,
          4148,
          2539,
          2972,
          2400,
          13142,
          17924,
          2218,
          8847,
          4478,
          3944,
          9705,
          2645,
          2517,
          2703,
          2379,
          2654,
          4444,
          8793,
          11904,
          10209,
          13675,
          2073,
          8823,
          16627,
          8998,
          4249,
          2552,
          10761,
          4294,
          7587,
          7510,
          2935,
          1675,
          5410,
          2785,
          5131,
          19999,
          3312,
          10920,
          3482,
          3433,
          2553,
          3929,
          1200,
          3447,
          6962,
          3907,
          2929,
          4851,
          1563,
          2127,
          3346,
          3298,
          3180,
          2642,
          2559,
          3989,
          5647,
          5562,
          4661,
          3065,
          5415,
          2377,
          2177,
          3919,
          2983,
          2269,
          2389,
          2014,
          19845,
          2345,
          4707,
          5147,
          18880,
          2519,
          17174,
          3580,
          3539,
          5768,
          16704,
          2662,
          2596,
          2323,
          19717,
          4581,
          13120,
          2145,
          7379,
          18824,
          2306,
          5906,
          7725,
          17567,
          6883,
          4809,
          2694,
          2705,
          4385,
          9884,
          7295,
          8392,
          4878,
          2153,
          2647,
          4723,
          9526,
          16422,
          5675,
          3172,
          4805,
          6545,
          6812,
          2044,
          2743,
          2867,
          3761,
          2904,
          5811,
          2176,
          5605,
          6447,
          3162,
          2809,
          2810,
          2500,
          7978,
          4089,
          2804,
          2166,
          2720,
          6577,
          17861,
          5087,
          4908,
          2340,
          19033,
          3211,
          2305,
          5160,
          2632,
          6347,
          4614,
          5265,
          2781,
          19144,
          5828,
          4787,
          19197,
          4963,
          3537,
          3815,
          4323,
          2911,
          5617,
          2144,
          1569,
          7596,
          9667,
          4477,
          5940,
          6524,
          5130,
          17328,
          4601,
          1129,
          6151,
          4213,
          9907,
          2093,
          2408,
          2468,
          2693,
          4788,
          8161,
          4448,
          4941,
          2973,
          2321,
          3143,
          1611,
          13826,
          2515,
          3445,
          13744,
          4507,
          4393,
          6694,
          2800,
          1359,
          2450,
          13582,
          2782,
          9250,
          2289,
          6842,
          8621,
          2404,
          2216,
          15972,
          4969,
          8103,
          5460,
          13549,
          3420,
          6180,
          19038,
          2380,
          3600,
          2011,
          5486,
          2328,
          19406,
          7756,
          8966,
          4487,
          19237,
          2933,
          9610,
          2127,
          2899,
          4779,
          4103,
          3743,
          2413,
          13872,
          16885,
          7969,
          8381,
          4789,
          2909,
          3867,
          2461,
          4298,
          2942,
          4768,
          1951,
          2099,
          3212,
          5304,
          2373,
          2886,
          3448,
          16752,
          10306,
          14411,
          10903,
          3117,
          2226,
          8120,
          10096,
          2028,
          2013,
          2064,
          15402,
          16659,
          18722,
          2220,
          6696,
          9582,
          16032,
          6272,
          3983,
          4163,
          13525,
          1261,
          13116,
          16184,
          9991,
          2070,
          3210,
          4081,
          6804,
          2024,
          10388,
          13212,
          7264,
          19613,
          3505,
          4400,
          4162,
          2451,
          7639,
          2293,
          10798,
          6646,
          6712,
          2367,
          5441,
          5487,
          5171,
          6632,
          9854,
          2323,
          4465,
          2661,
          2455,
          6162,
          5715,
          2148,
          2451,
          2258,
          4011,
          11836,
          19658,
          2610,
          4001,
          2686,
          10422,
          4721,
          3544,
          13734,
          13695,
          17099,
          10725,
          2272,
          2725,
          3033,
          6861,
          2340,
          3407,
          2856,
          6811,
          17426,
          11996,
          19187,
          4930,
          2285,
          5593,
          19431,
          8268,
          2007,
          2439,
          4739,
          2210,
          6142,
          10448,
          2075,
          5257,
          3295,
          16595,
          6146,
          6651,
          5207,
          3407,
          6870,
          2853,
          4025,
          19331
         ]
        }
       ],
       "layout": {
        "template": {
         "data": {
          "bar": [
           {
            "error_x": {
             "color": "#2a3f5f"
            },
            "error_y": {
             "color": "#2a3f5f"
            },
            "marker": {
             "line": {
              "color": "#E5ECF6",
              "width": 0.5
             },
             "pattern": {
              "fillmode": "overlay",
              "size": 10,
              "solidity": 0.2
             }
            },
            "type": "bar"
           }
          ],
          "barpolar": [
           {
            "marker": {
             "line": {
              "color": "#E5ECF6",
              "width": 0.5
             },
             "pattern": {
              "fillmode": "overlay",
              "size": 10,
              "solidity": 0.2
             }
            },
            "type": "barpolar"
           }
          ],
          "carpet": [
           {
            "aaxis": {
             "endlinecolor": "#2a3f5f",
             "gridcolor": "white",
             "linecolor": "white",
             "minorgridcolor": "white",
             "startlinecolor": "#2a3f5f"
            },
            "baxis": {
             "endlinecolor": "#2a3f5f",
             "gridcolor": "white",
             "linecolor": "white",
             "minorgridcolor": "white",
             "startlinecolor": "#2a3f5f"
            },
            "type": "carpet"
           }
          ],
          "choropleth": [
           {
            "colorbar": {
             "outlinewidth": 0,
             "ticks": ""
            },
            "type": "choropleth"
           }
          ],
          "contour": [
           {
            "colorbar": {
             "outlinewidth": 0,
             "ticks": ""
            },
            "colorscale": [
             [
              0,
              "#0d0887"
             ],
             [
              0.1111111111111111,
              "#46039f"
             ],
             [
              0.2222222222222222,
              "#7201a8"
             ],
             [
              0.3333333333333333,
              "#9c179e"
             ],
             [
              0.4444444444444444,
              "#bd3786"
             ],
             [
              0.5555555555555556,
              "#d8576b"
             ],
             [
              0.6666666666666666,
              "#ed7953"
             ],
             [
              0.7777777777777778,
              "#fb9f3a"
             ],
             [
              0.8888888888888888,
              "#fdca26"
             ],
             [
              1,
              "#f0f921"
             ]
            ],
            "type": "contour"
           }
          ],
          "contourcarpet": [
           {
            "colorbar": {
             "outlinewidth": 0,
             "ticks": ""
            },
            "type": "contourcarpet"
           }
          ],
          "heatmap": [
           {
            "colorbar": {
             "outlinewidth": 0,
             "ticks": ""
            },
            "colorscale": [
             [
              0,
              "#0d0887"
             ],
             [
              0.1111111111111111,
              "#46039f"
             ],
             [
              0.2222222222222222,
              "#7201a8"
             ],
             [
              0.3333333333333333,
              "#9c179e"
             ],
             [
              0.4444444444444444,
              "#bd3786"
             ],
             [
              0.5555555555555556,
              "#d8576b"
             ],
             [
              0.6666666666666666,
              "#ed7953"
             ],
             [
              0.7777777777777778,
              "#fb9f3a"
             ],
             [
              0.8888888888888888,
              "#fdca26"
             ],
             [
              1,
              "#f0f921"
             ]
            ],
            "type": "heatmap"
           }
          ],
          "heatmapgl": [
           {
            "colorbar": {
             "outlinewidth": 0,
             "ticks": ""
            },
            "colorscale": [
             [
              0,
              "#0d0887"
             ],
             [
              0.1111111111111111,
              "#46039f"
             ],
             [
              0.2222222222222222,
              "#7201a8"
             ],
             [
              0.3333333333333333,
              "#9c179e"
             ],
             [
              0.4444444444444444,
              "#bd3786"
             ],
             [
              0.5555555555555556,
              "#d8576b"
             ],
             [
              0.6666666666666666,
              "#ed7953"
             ],
             [
              0.7777777777777778,
              "#fb9f3a"
             ],
             [
              0.8888888888888888,
              "#fdca26"
             ],
             [
              1,
              "#f0f921"
             ]
            ],
            "type": "heatmapgl"
           }
          ],
          "histogram": [
           {
            "marker": {
             "pattern": {
              "fillmode": "overlay",
              "size": 10,
              "solidity": 0.2
             }
            },
            "type": "histogram"
           }
          ],
          "histogram2d": [
           {
            "colorbar": {
             "outlinewidth": 0,
             "ticks": ""
            },
            "colorscale": [
             [
              0,
              "#0d0887"
             ],
             [
              0.1111111111111111,
              "#46039f"
             ],
             [
              0.2222222222222222,
              "#7201a8"
             ],
             [
              0.3333333333333333,
              "#9c179e"
             ],
             [
              0.4444444444444444,
              "#bd3786"
             ],
             [
              0.5555555555555556,
              "#d8576b"
             ],
             [
              0.6666666666666666,
              "#ed7953"
             ],
             [
              0.7777777777777778,
              "#fb9f3a"
             ],
             [
              0.8888888888888888,
              "#fdca26"
             ],
             [
              1,
              "#f0f921"
             ]
            ],
            "type": "histogram2d"
           }
          ],
          "histogram2dcontour": [
           {
            "colorbar": {
             "outlinewidth": 0,
             "ticks": ""
            },
            "colorscale": [
             [
              0,
              "#0d0887"
             ],
             [
              0.1111111111111111,
              "#46039f"
             ],
             [
              0.2222222222222222,
              "#7201a8"
             ],
             [
              0.3333333333333333,
              "#9c179e"
             ],
             [
              0.4444444444444444,
              "#bd3786"
             ],
             [
              0.5555555555555556,
              "#d8576b"
             ],
             [
              0.6666666666666666,
              "#ed7953"
             ],
             [
              0.7777777777777778,
              "#fb9f3a"
             ],
             [
              0.8888888888888888,
              "#fdca26"
             ],
             [
              1,
              "#f0f921"
             ]
            ],
            "type": "histogram2dcontour"
           }
          ],
          "mesh3d": [
           {
            "colorbar": {
             "outlinewidth": 0,
             "ticks": ""
            },
            "type": "mesh3d"
           }
          ],
          "parcoords": [
           {
            "line": {
             "colorbar": {
              "outlinewidth": 0,
              "ticks": ""
             }
            },
            "type": "parcoords"
           }
          ],
          "pie": [
           {
            "automargin": true,
            "type": "pie"
           }
          ],
          "scatter": [
           {
            "marker": {
             "colorbar": {
              "outlinewidth": 0,
              "ticks": ""
             }
            },
            "type": "scatter"
           }
          ],
          "scatter3d": [
           {
            "line": {
             "colorbar": {
              "outlinewidth": 0,
              "ticks": ""
             }
            },
            "marker": {
             "colorbar": {
              "outlinewidth": 0,
              "ticks": ""
             }
            },
            "type": "scatter3d"
           }
          ],
          "scattercarpet": [
           {
            "marker": {
             "colorbar": {
              "outlinewidth": 0,
              "ticks": ""
             }
            },
            "type": "scattercarpet"
           }
          ],
          "scattergeo": [
           {
            "marker": {
             "colorbar": {
              "outlinewidth": 0,
              "ticks": ""
             }
            },
            "type": "scattergeo"
           }
          ],
          "scattergl": [
           {
            "marker": {
             "colorbar": {
              "outlinewidth": 0,
              "ticks": ""
             }
            },
            "type": "scattergl"
           }
          ],
          "scattermapbox": [
           {
            "marker": {
             "colorbar": {
              "outlinewidth": 0,
              "ticks": ""
             }
            },
            "type": "scattermapbox"
           }
          ],
          "scatterpolar": [
           {
            "marker": {
             "colorbar": {
              "outlinewidth": 0,
              "ticks": ""
             }
            },
            "type": "scatterpolar"
           }
          ],
          "scatterpolargl": [
           {
            "marker": {
             "colorbar": {
              "outlinewidth": 0,
              "ticks": ""
             }
            },
            "type": "scatterpolargl"
           }
          ],
          "scatterternary": [
           {
            "marker": {
             "colorbar": {
              "outlinewidth": 0,
              "ticks": ""
             }
            },
            "type": "scatterternary"
           }
          ],
          "surface": [
           {
            "colorbar": {
             "outlinewidth": 0,
             "ticks": ""
            },
            "colorscale": [
             [
              0,
              "#0d0887"
             ],
             [
              0.1111111111111111,
              "#46039f"
             ],
             [
              0.2222222222222222,
              "#7201a8"
             ],
             [
              0.3333333333333333,
              "#9c179e"
             ],
             [
              0.4444444444444444,
              "#bd3786"
             ],
             [
              0.5555555555555556,
              "#d8576b"
             ],
             [
              0.6666666666666666,
              "#ed7953"
             ],
             [
              0.7777777777777778,
              "#fb9f3a"
             ],
             [
              0.8888888888888888,
              "#fdca26"
             ],
             [
              1,
              "#f0f921"
             ]
            ],
            "type": "surface"
           }
          ],
          "table": [
           {
            "cells": {
             "fill": {
              "color": "#EBF0F8"
             },
             "line": {
              "color": "white"
             }
            },
            "header": {
             "fill": {
              "color": "#C8D4E3"
             },
             "line": {
              "color": "white"
             }
            },
            "type": "table"
           }
          ]
         },
         "layout": {
          "annotationdefaults": {
           "arrowcolor": "#2a3f5f",
           "arrowhead": 0,
           "arrowwidth": 1
          },
          "autotypenumbers": "strict",
          "coloraxis": {
           "colorbar": {
            "outlinewidth": 0,
            "ticks": ""
           }
          },
          "colorscale": {
           "diverging": [
            [
             0,
             "#8e0152"
            ],
            [
             0.1,
             "#c51b7d"
            ],
            [
             0.2,
             "#de77ae"
            ],
            [
             0.3,
             "#f1b6da"
            ],
            [
             0.4,
             "#fde0ef"
            ],
            [
             0.5,
             "#f7f7f7"
            ],
            [
             0.6,
             "#e6f5d0"
            ],
            [
             0.7,
             "#b8e186"
            ],
            [
             0.8,
             "#7fbc41"
            ],
            [
             0.9,
             "#4d9221"
            ],
            [
             1,
             "#276419"
            ]
           ],
           "sequential": [
            [
             0,
             "#0d0887"
            ],
            [
             0.1111111111111111,
             "#46039f"
            ],
            [
             0.2222222222222222,
             "#7201a8"
            ],
            [
             0.3333333333333333,
             "#9c179e"
            ],
            [
             0.4444444444444444,
             "#bd3786"
            ],
            [
             0.5555555555555556,
             "#d8576b"
            ],
            [
             0.6666666666666666,
             "#ed7953"
            ],
            [
             0.7777777777777778,
             "#fb9f3a"
            ],
            [
             0.8888888888888888,
             "#fdca26"
            ],
            [
             1,
             "#f0f921"
            ]
           ],
           "sequentialminus": [
            [
             0,
             "#0d0887"
            ],
            [
             0.1111111111111111,
             "#46039f"
            ],
            [
             0.2222222222222222,
             "#7201a8"
            ],
            [
             0.3333333333333333,
             "#9c179e"
            ],
            [
             0.4444444444444444,
             "#bd3786"
            ],
            [
             0.5555555555555556,
             "#d8576b"
            ],
            [
             0.6666666666666666,
             "#ed7953"
            ],
            [
             0.7777777777777778,
             "#fb9f3a"
            ],
            [
             0.8888888888888888,
             "#fdca26"
            ],
            [
             1,
             "#f0f921"
            ]
           ]
          },
          "colorway": [
           "#636efa",
           "#EF553B",
           "#00cc96",
           "#ab63fa",
           "#FFA15A",
           "#19d3f3",
           "#FF6692",
           "#B6E880",
           "#FF97FF",
           "#FECB52"
          ],
          "font": {
           "color": "#2a3f5f"
          },
          "geo": {
           "bgcolor": "white",
           "lakecolor": "white",
           "landcolor": "#E5ECF6",
           "showlakes": true,
           "showland": true,
           "subunitcolor": "white"
          },
          "hoverlabel": {
           "align": "left"
          },
          "hovermode": "closest",
          "mapbox": {
           "style": "light"
          },
          "paper_bgcolor": "white",
          "plot_bgcolor": "#E5ECF6",
          "polar": {
           "angularaxis": {
            "gridcolor": "white",
            "linecolor": "white",
            "ticks": ""
           },
           "bgcolor": "#E5ECF6",
           "radialaxis": {
            "gridcolor": "white",
            "linecolor": "white",
            "ticks": ""
           }
          },
          "scene": {
           "xaxis": {
            "backgroundcolor": "#E5ECF6",
            "gridcolor": "white",
            "gridwidth": 2,
            "linecolor": "white",
            "showbackground": true,
            "ticks": "",
            "zerolinecolor": "white"
           },
           "yaxis": {
            "backgroundcolor": "#E5ECF6",
            "gridcolor": "white",
            "gridwidth": 2,
            "linecolor": "white",
            "showbackground": true,
            "ticks": "",
            "zerolinecolor": "white"
           },
           "zaxis": {
            "backgroundcolor": "#E5ECF6",
            "gridcolor": "white",
            "gridwidth": 2,
            "linecolor": "white",
            "showbackground": true,
            "ticks": "",
            "zerolinecolor": "white"
           }
          },
          "shapedefaults": {
           "line": {
            "color": "#2a3f5f"
           }
          },
          "ternary": {
           "aaxis": {
            "gridcolor": "white",
            "linecolor": "white",
            "ticks": ""
           },
           "baxis": {
            "gridcolor": "white",
            "linecolor": "white",
            "ticks": ""
           },
           "bgcolor": "#E5ECF6",
           "caxis": {
            "gridcolor": "white",
            "linecolor": "white",
            "ticks": ""
           }
          },
          "title": {
           "x": 0.05
          },
          "xaxis": {
           "automargin": true,
           "gridcolor": "white",
           "linecolor": "white",
           "ticks": "",
           "title": {
            "standoff": 15
           },
           "zerolinecolor": "white",
           "zerolinewidth": 2
          },
          "yaxis": {
           "automargin": true,
           "gridcolor": "white",
           "linecolor": "white",
           "ticks": "",
           "title": {
            "standoff": 15
           },
           "zerolinecolor": "white",
           "zerolinewidth": 2
          }
         }
        },
        "title": {
         "text": "Monthly Income Variation wrt Age"
        },
        "xaxis": {
         "title": {
          "text": "Age"
         }
        },
        "yaxis": {
         "title": {
          "text": "MonthlyIncome"
         }
        }
       }
      },
      "text/html": [
       "<div>                            <div id=\"e79756ae-e1b5-43f2-8ad4-4aab31d0182c\" class=\"plotly-graph-div\" style=\"height:525px; width:100%;\"></div>            <script type=\"text/javascript\">                require([\"plotly\"], function(Plotly) {                    window.PLOTLYENV=window.PLOTLYENV || {};                                    if (document.getElementById(\"e79756ae-e1b5-43f2-8ad4-4aab31d0182c\")) {                    Plotly.newPlot(                        \"e79756ae-e1b5-43f2-8ad4-4aab31d0182c\",                        [{\"line\":{\"shape\":\"spline\"},\"marker\":{\"size\":12},\"mode\":\"markers+lines\",\"x\":[50.0,36.0,21.0,50.0,52.0,33.0,47.0,22.0,null,33.0,40.0,27.0,40.0,55.0,33.0,37.0,34.0,46.0,38.0,30.0,34.0,34.0,36.0,null,null,40.0,24.0,53.0,32.0,null,55.0,30.0,null,23.0,51.0,42.0,null,null,20.0,null,29.0,43.0,40.0,29.0,46.0,44.0,47.0,32.0,38.0,51.0,58.0,null,45.0,56.0,37.0,37.0,39.0,null,54.0,32.0,48.0,33.0,31.0,46.0,38.0,38.0,43.0,37.0,39.0,null,null,30.0,39.0,43.0,27.0,42.0,31.0,39.0,29.0,49.0,38.0,null,42.0,31.0,34.0,36.0,27.0,40.0,34.0,43.0,31.0,41.0,31.0,45.0,33.0,27.0,36.0,33.0,31.0,19.0,32.0,36.0,37.0,null,null,29.0,29.0,41.0,30.0,39.0,22.0,31.0,45.0,42.0,31.0,51.0,34.0,33.0,null,40.0,33.0,34.0,34.0,30.0,33.0,45.0,37.0,31.0,32.0,null,null,30.0,33.0,38.0,41.0,51.0,38.0,27.0,53.0,30.0,30.0,30.0,58.0,34.0,null,51.0,39.0,36.0,32.0,56.0,57.0,57.0,40.0,23.0,53.0,38.0,36.0,29.0,38.0,47.0,32.0,null,36.0,49.0,34.0,39.0,30.0,51.0,null,60.0,50.0,45.0,56.0,46.0,42.0,60.0,null,null,53.0,39.0,48.0,37.0,41.0,21.0,32.0,37.0,59.0,45.0,null,36.0,41.0,41.0,42.0,42.0,24.0,33.0,43.0,null,38.0,33.0,53.0,43.0,42.0,53.0,29.0,29.0,37.0,50.0,29.0,33.0,55.0,51.0,30.0,49.0,47.0,31.0,47.0,58.0,41.0,29.0,50.0,32.0,44.0,38.0,null,40.0,45.0,46.0,null,34.0,55.0,19.0,32.0,40.0,30.0,22.0,48.0,45.0,53.0,36.0,29.0,46.0,41.0,41.0,52.0,51.0,null,36.0,38.0,31.0,44.0,30.0,31.0,27.0,null,24.0,50.0,39.0,30.0,30.0,29.0,59.0,36.0,29.0,30.0,50.0,37.0,38.0,41.0,29.0,45.0,null,29.0,42.0,48.0,20.0,31.0,41.0,29.0,42.0,36.0,null,32.0,36.0,42.0,43.0,36.0,null,36.0,36.0,38.0,33.0,45.0,27.0,34.0,29.0,32.0,46.0,39.0,44.0,40.0,55.0,41.0,43.0,38.0,29.0,null,45.0,34.0,38.0,55.0,18.0,40.0,null,null,20.0,33.0,31.0,40.0,50.0,27.0,null,36.0,53.0,42.0,37.0,43.0,23.0,52.0,29.0,50.0,42.0,34.0,32.0,38.0,30.0,56.0,27.0,36.0,40.0,37.0,33.0,36.0,39.0,36.0,null,36.0,37.0,51.0,49.0,null,43.0,33.0,null,46.0,56.0,32.0,30.0,30.0,27.0,42.0,20.0,50.0,19.0,31.0,29.0,42.0,36.0,42.0,46.0,39.0,30.0,36.0,41.0,22.0,21.0,41.0,null,47.0,45.0,29.0,null,51.0,34.0,null,40.0,42.0,38.0,24.0,39.0,40.0,45.0,40.0,34.0,32.0,50.0,37.0,29.0,null,31.0,38.0,27.0,46.0,41.0,40.0,30.0,30.0,34.0,40.0,29.0,46.0,41.0,39.0,29.0,52.0,37.0,29.0,44.0,45.0,null,47.0,37.0,41.0,57.0,18.0,32.0,null,33.0,null,32.0,null,39.0,58.0,36.0,31.0,null,39.0,27.0,44.0,45.0,40.0,47.0,34.0,44.0,36.0,27.0,24.0,39.0,36.0,34.0,50.0,41.0,31.0,39.0,44.0,33.0,33.0,null,37.0,37.0,27.0,null,30.0,29.0,27.0,44.0,23.0,43.0,29.0,27.0,46.0,32.0,30.0,37.0,30.0,38.0,33.0,null,null,43.0,32.0,31.0,52.0,44.0,29.0,null,33.0,30.0,30.0,null,31.0,21.0,37.0,38.0,null,33.0,27.0,32.0,null,36.0,55.0,42.0,22.0,30.0,null,52.0,54.0,52.0,34.0,55.0,42.0,null,40.0,31.0,41.0,null,32.0,38.0,22.0,22.0,27.0,38.0,29.0,null,31.0,55.0,59.0,48.0,43.0,null,33.0,53.0,46.0,31.0,38.0,55.0,60.0,58.0,38.0,46.0,null,56.0,33.0,40.0,27.0,null,null,33.0,40.0,34.0,50.0,48.0,54.0,20.0,43.0,29.0,34.0,42.0,27.0,19.0,39.0,27.0,59.0,31.0,null,34.0,31.0,53.0,41.0,54.0,30.0,49.0,46.0,36.0,32.0,27.0,32.0,29.0,37.0,null,51.0,34.0,40.0,38.0,48.0,42.0,31.0,46.0,null,29.0,42.0,39.0,22.0,29.0,43.0,null,31.0,32.0,38.0,20.0,56.0,34.0,31.0,48.0,40.0,40.0,null,34.0,null,34.0,40.0,34.0,36.0,46.0,27.0,34.0,42.0,30.0,37.0,54.0,49.0,29.0,null,38.0,36.0,39.0,46.0,54.0,45.0,27.0,45.0,31.0,27.0,44.0,null,38.0,30.0,20.0,38.0,50.0,27.0,36.0,42.0,58.0,33.0,34.0,null,null,41.0,43.0,32.0,null,31.0,45.0,33.0,32.0,34.0,40.0,34.0,33.0,32.0,20.0,36.0,27.0,null,37.0,46.0,45.0,34.0,22.0,null,29.0,40.0,31.0,39.0,null,33.0,19.0,34.0,48.0,39.0,31.0,27.0,34.0,24.0,51.0,50.0,31.0,36.0,27.0,38.0,40.0,43.0,27.0,null,27.0,45.0,34.0,27.0,59.0,44.0,31.0,23.0,38.0,43.0,32.0,null,19.0,45.0,null,36.0,43.0,22.0,19.0,36.0,31.0,36.0,52.0,32.0,39.0,52.0,32.0,34.0,31.0,18.0,21.0,36.0,24.0,34.0,null,null,24.0,58.0,32.0,29.0,29.0,44.0,23.0,36.0,46.0,40.0,31.0,55.0,null,59.0,32.0,30.0,32.0,29.0,null,52.0,40.0,32.0,33.0,42.0,36.0,48.0,49.0,43.0,37.0,45.0,55.0,null,22.0,56.0,null,49.0,24.0,46.0,45.0,53.0,45.0,33.0,46.0,null,34.0,24.0,null,45.0,null,null,41.0,33.0,36.0,23.0,29.0,38.0,31.0,43.0,24.0,45.0,42.0,31.0,null,32.0,null,30.0,23.0,38.0,32.0,40.0,37.0,24.0,40.0,36.0,23.0,44.0,42.0,29.0,40.0,30.0,30.0,42.0,42.0,null,null,40.0,49.0,null,55.0,30.0,50.0,null,42.0,33.0,50.0,null,29.0,39.0,56.0,55.0,34.0,null,33.0,31.0,null,18.0,36.0,30.0,45.0,54.0,32.0,49.0,54.0,null,31.0,41.0,37.0,32.0,42.0,null,38.0,21.0,null,31.0,40.0,52.0,37.0,31.0,33.0,18.0,52.0,42.0,27.0,37.0,49.0,41.0,37.0,29.0,31.0,53.0,38.0,37.0,30.0,41.0,36.0,34.0,null,null,47.0,null,34.0,31.0,54.0,47.0,null,55.0,50.0,33.0,44.0,48.0,22.0,54.0,34.0,null,null,50.0,null,32.0,41.0,38.0,null,41.0,null,null,58.0,48.0,52.0,53.0,49.0,null,null,51.0,27.0,null,44.0,null,27.0,52.0,34.0,null,null,40.0,47.0,null,50.0,null,21.0,27.0,48.0,36.0,null,36.0,30.0,48.0,55.0,55.0,34.0,30.0,null,54.0,42.0,29.0,47.0,42.0,31.0,51.0,33.0,39.0,21.0,36.0,43.0,49.0,27.0,null,56.0,30.0,42.0,23.0,null,24.0,29.0,29.0,24.0,43.0,null,34.0,null,51.0,33.0,59.0,45.0,null,20.0,32.0,34.0,43.0,32.0,40.0,null,41.0,null,24.0,53.0,47.0,31.0,34.0,33.0,32.0,41.0,40.0,51.0,55.0,52.0,54.0,23.0,24.0,20.0,38.0,29.0,36.0,null,41.0,54.0,null,55.0,null,30.0,45.0,39.0,29.0,null,29.0,43.0,24.0,null,53.0,51.0,43.0,23.0,41.0,33.0,49.0,33.0,null,41.0,22.0,29.0,50.0],\"y\":[17399,4941,2679,18200,10445,13610,10333,4775,4382,5368,10855,5071,2406,10976,2313,10609,6029,18789,9924,4627,3737,5433,5406,8837,7632,19833,4999,14852,5470,2561,4035,6091,2366,1601,6132,6062,2559,4717,1009,4724,2168,14336,4422,3131,13225,2342,17169,5309,2619,14026,5660,4859,9380,11103,4107,9525,7880,10274,10686,4025,12504,5488,6172,10453,5745,4440,7847,2326,5238,4936,5689,4152,17123,19392,6811,6244,3978,2404,16124,18665,2858,5098,15992,4084,8628,6586,4342,10932,7083,9985,10793,2782,5003,5399,4682,2478,2571,2028,2911,2325,2794,7779,4071,1052,8639,2319,2514,19973,6347,13464,2398,4345,17650,4556,8943,5482,5343,17444,5204,5677,8380,5714,2691,11416,2909,3633,8834,7547,3068,2080,3904,2132,5376,7861,3072,10650,6288,3540,14275,5301,1081,3833,19701,9725,2544,4936,17068,9980,5228,2942,4900,14118,2342,1790,7005,2440,2143,7918,13206,8633,4883,5208,6499,4284,4381,4534,8474,10596,3506,5405,6728,2132,7260,8578,2766,10883,4194,2706,10169,5151,19665,6502,5467,2610,4403,2090,2670,5210,2022,3692,8938,13591,2372,6825,2033,8224,5562,4256,2684,6388,10934,10820,2593,19094,2119,4335,3022,18172,4649,13458,16756,12490,2613,18711,5067,2501,2105,2372,19545,3785,3221,2837,19049,2844,2042,10475,2274,10527,8722,2932,6385,2994,6162,3975,5209,4171,2259,16792,17584,9699,2720,4615,5003,3140,13247,7484,2293,2644,6673,5332,5454,5304,2302,2394,3201,4377,3690,5902,4695,5126,4187,18844,11713,2404,2033,19926,3920,12061,6230,2109,3697,4221,5373,17665,18265,2926,10648,6430,2335,5155,6652,5661,6735,5347,2576,16064,4502,4000,5674,9738,4735,2799,6434,6500,4599,2703,5010,17465,2086,16328,13237,16835,19419,5346,4198,2760,3578,13245,4325,2610,10239,1878,10435,4014,6674,2728,3408,2356,10322,17856,2580,4558,8321,16598,5538,5163,17159,1223,2950,3760,18740,4907,4404,3931,10609,3204,5380,3816,2835,3377,10048,2008,5237,3755,5079,4898,5228,4197,19847,16413,5093,2437,4302,4306,10845,2587,4668,2083,9714,4227,13348,2600,3875,1102,3067,2157,3968,5673,13758,17048,12031,2693,5810,2778,2814,2174,3376,2450,18300,10851,8853,2966,2723,5747,6540,2018,13191,4317,4577,8237,2387,7441,2001,9950,11159,13269,2793,7553,8789,9637,3702,9981,5021,2238,19626,4115,3491,2008,4639,2297,19081,8189,5736,3291,16555,2996,5561,3195,4286,6232,2976,3034,5993,6755,1904,6667,6272,8564,4014,2314,5813,3646,10008,2088,6582,2368,3904,7412,2936,2270,13503,11957,2311,4541,4639,4621,3202,10938,3388,2979,9208,16015,6179,19272,2436,4320,7104,4907,5731,3452,3041,3977,6118,2546,2566,10248,2819,2089,3339,4774,7314,3038,9419,7642,3072,4028,5505,4148,2875,5679,6220,3477,3149,13320,2532,2515,2436,2422,2657,2713,4559,2380,12185,3306,2096,2756,2341,6725,2889,3419,19859,2936,2472,3748,3681,5577,10502,8446,2960,19636,16799,2194,6852,5238,9355,2659,2827,2592,2244,2451,2811,5405,4262,3485,4424,13577,2267,4051,2258,10221,2500,15427,7991,2109,11510,14732,5220,19246,2406,10368,2070,2339,4539,4069,2863,6397,5762,6949,6380,2307,2683,4240,6854,2044,2438,6384,2029,2759,3517,2121,12742,2279,10512,11557,3196,6538,2329,7525,13570,10739,2097,10965,4810,3038,2432,4066,6322,5056,3564,2690,16307,4505,18041,2991,7898,4434,11031,9619,2376,1091,4332,10880,2773,4193,4522,4741,5855,1393,4771,2973,19943,2231,6833,15202,19436,7457,5561,2742,1281,2996,8396,5346,4834,16606,4647,11994,6781,2180,6347,3780,19502,2058,1118,2133,9278,4108,10673,17328,4447,5769,2348,5468,6142,10482,2572,5666,2862,2836,3057,4728,2045,2342,4841,15787,7119,11631,3917,8606,4766,16959,2795,10685,2657,13496,2277,6209,4033,4327,4568,3055,4078,2678,8858,3468,3229,4189,16872,5770,9713,3894,9362,2362,13499,2956,9613,4877,11878,1483,3280,5381,5377,4148,2539,2972,2400,13142,17924,2218,8847,4478,3944,9705,2645,2517,2703,2379,2654,4444,8793,11904,10209,13675,2073,8823,16627,8998,4249,2552,10761,4294,7587,7510,2935,1675,5410,2785,5131,19999,3312,10920,3482,3433,2553,3929,1200,3447,6962,3907,2929,4851,1563,2127,3346,3298,3180,2642,2559,3989,5647,5562,4661,3065,5415,2377,2177,3919,2983,2269,2389,2014,19845,2345,4707,5147,18880,2519,17174,3580,3539,5768,16704,2662,2596,2323,19717,4581,13120,2145,7379,18824,2306,5906,7725,17567,6883,4809,2694,2705,4385,9884,7295,8392,4878,2153,2647,4723,9526,16422,5675,3172,4805,6545,6812,2044,2743,2867,3761,2904,5811,2176,5605,6447,3162,2809,2810,2500,7978,4089,2804,2166,2720,6577,17861,5087,4908,2340,19033,3211,2305,5160,2632,6347,4614,5265,2781,19144,5828,4787,19197,4963,3537,3815,4323,2911,5617,2144,1569,7596,9667,4477,5940,6524,5130,17328,4601,1129,6151,4213,9907,2093,2408,2468,2693,4788,8161,4448,4941,2973,2321,3143,1611,13826,2515,3445,13744,4507,4393,6694,2800,1359,2450,13582,2782,9250,2289,6842,8621,2404,2216,15972,4969,8103,5460,13549,3420,6180,19038,2380,3600,2011,5486,2328,19406,7756,8966,4487,19237,2933,9610,2127,2899,4779,4103,3743,2413,13872,16885,7969,8381,4789,2909,3867,2461,4298,2942,4768,1951,2099,3212,5304,2373,2886,3448,16752,10306,14411,10903,3117,2226,8120,10096,2028,2013,2064,15402,16659,18722,2220,6696,9582,16032,6272,3983,4163,13525,1261,13116,16184,9991,2070,3210,4081,6804,2024,10388,13212,7264,19613,3505,4400,4162,2451,7639,2293,10798,6646,6712,2367,5441,5487,5171,6632,9854,2323,4465,2661,2455,6162,5715,2148,2451,2258,4011,11836,19658,2610,4001,2686,10422,4721,3544,13734,13695,17099,10725,2272,2725,3033,6861,2340,3407,2856,6811,17426,11996,19187,4930,2285,5593,19431,8268,2007,2439,4739,2210,6142,10448,2075,5257,3295,16595,6146,6651,5207,3407,6870,2853,4025,19331],\"type\":\"scatter\"}],                        {\"template\":{\"data\":{\"barpolar\":[{\"marker\":{\"line\":{\"color\":\"#E5ECF6\",\"width\":0.5},\"pattern\":{\"fillmode\":\"overlay\",\"size\":10,\"solidity\":0.2}},\"type\":\"barpolar\"}],\"bar\":[{\"error_x\":{\"color\":\"#2a3f5f\"},\"error_y\":{\"color\":\"#2a3f5f\"},\"marker\":{\"line\":{\"color\":\"#E5ECF6\",\"width\":0.5},\"pattern\":{\"fillmode\":\"overlay\",\"size\":10,\"solidity\":0.2}},\"type\":\"bar\"}],\"carpet\":[{\"aaxis\":{\"endlinecolor\":\"#2a3f5f\",\"gridcolor\":\"white\",\"linecolor\":\"white\",\"minorgridcolor\":\"white\",\"startlinecolor\":\"#2a3f5f\"},\"baxis\":{\"endlinecolor\":\"#2a3f5f\",\"gridcolor\":\"white\",\"linecolor\":\"white\",\"minorgridcolor\":\"white\",\"startlinecolor\":\"#2a3f5f\"},\"type\":\"carpet\"}],\"choropleth\":[{\"colorbar\":{\"outlinewidth\":0,\"ticks\":\"\"},\"type\":\"choropleth\"}],\"contourcarpet\":[{\"colorbar\":{\"outlinewidth\":0,\"ticks\":\"\"},\"type\":\"contourcarpet\"}],\"contour\":[{\"colorbar\":{\"outlinewidth\":0,\"ticks\":\"\"},\"colorscale\":[[0.0,\"#0d0887\"],[0.1111111111111111,\"#46039f\"],[0.2222222222222222,\"#7201a8\"],[0.3333333333333333,\"#9c179e\"],[0.4444444444444444,\"#bd3786\"],[0.5555555555555556,\"#d8576b\"],[0.6666666666666666,\"#ed7953\"],[0.7777777777777778,\"#fb9f3a\"],[0.8888888888888888,\"#fdca26\"],[1.0,\"#f0f921\"]],\"type\":\"contour\"}],\"heatmapgl\":[{\"colorbar\":{\"outlinewidth\":0,\"ticks\":\"\"},\"colorscale\":[[0.0,\"#0d0887\"],[0.1111111111111111,\"#46039f\"],[0.2222222222222222,\"#7201a8\"],[0.3333333333333333,\"#9c179e\"],[0.4444444444444444,\"#bd3786\"],[0.5555555555555556,\"#d8576b\"],[0.6666666666666666,\"#ed7953\"],[0.7777777777777778,\"#fb9f3a\"],[0.8888888888888888,\"#fdca26\"],[1.0,\"#f0f921\"]],\"type\":\"heatmapgl\"}],\"heatmap\":[{\"colorbar\":{\"outlinewidth\":0,\"ticks\":\"\"},\"colorscale\":[[0.0,\"#0d0887\"],[0.1111111111111111,\"#46039f\"],[0.2222222222222222,\"#7201a8\"],[0.3333333333333333,\"#9c179e\"],[0.4444444444444444,\"#bd3786\"],[0.5555555555555556,\"#d8576b\"],[0.6666666666666666,\"#ed7953\"],[0.7777777777777778,\"#fb9f3a\"],[0.8888888888888888,\"#fdca26\"],[1.0,\"#f0f921\"]],\"type\":\"heatmap\"}],\"histogram2dcontour\":[{\"colorbar\":{\"outlinewidth\":0,\"ticks\":\"\"},\"colorscale\":[[0.0,\"#0d0887\"],[0.1111111111111111,\"#46039f\"],[0.2222222222222222,\"#7201a8\"],[0.3333333333333333,\"#9c179e\"],[0.4444444444444444,\"#bd3786\"],[0.5555555555555556,\"#d8576b\"],[0.6666666666666666,\"#ed7953\"],[0.7777777777777778,\"#fb9f3a\"],[0.8888888888888888,\"#fdca26\"],[1.0,\"#f0f921\"]],\"type\":\"histogram2dcontour\"}],\"histogram2d\":[{\"colorbar\":{\"outlinewidth\":0,\"ticks\":\"\"},\"colorscale\":[[0.0,\"#0d0887\"],[0.1111111111111111,\"#46039f\"],[0.2222222222222222,\"#7201a8\"],[0.3333333333333333,\"#9c179e\"],[0.4444444444444444,\"#bd3786\"],[0.5555555555555556,\"#d8576b\"],[0.6666666666666666,\"#ed7953\"],[0.7777777777777778,\"#fb9f3a\"],[0.8888888888888888,\"#fdca26\"],[1.0,\"#f0f921\"]],\"type\":\"histogram2d\"}],\"histogram\":[{\"marker\":{\"pattern\":{\"fillmode\":\"overlay\",\"size\":10,\"solidity\":0.2}},\"type\":\"histogram\"}],\"mesh3d\":[{\"colorbar\":{\"outlinewidth\":0,\"ticks\":\"\"},\"type\":\"mesh3d\"}],\"parcoords\":[{\"line\":{\"colorbar\":{\"outlinewidth\":0,\"ticks\":\"\"}},\"type\":\"parcoords\"}],\"pie\":[{\"automargin\":true,\"type\":\"pie\"}],\"scatter3d\":[{\"line\":{\"colorbar\":{\"outlinewidth\":0,\"ticks\":\"\"}},\"marker\":{\"colorbar\":{\"outlinewidth\":0,\"ticks\":\"\"}},\"type\":\"scatter3d\"}],\"scattercarpet\":[{\"marker\":{\"colorbar\":{\"outlinewidth\":0,\"ticks\":\"\"}},\"type\":\"scattercarpet\"}],\"scattergeo\":[{\"marker\":{\"colorbar\":{\"outlinewidth\":0,\"ticks\":\"\"}},\"type\":\"scattergeo\"}],\"scattergl\":[{\"marker\":{\"colorbar\":{\"outlinewidth\":0,\"ticks\":\"\"}},\"type\":\"scattergl\"}],\"scattermapbox\":[{\"marker\":{\"colorbar\":{\"outlinewidth\":0,\"ticks\":\"\"}},\"type\":\"scattermapbox\"}],\"scatterpolargl\":[{\"marker\":{\"colorbar\":{\"outlinewidth\":0,\"ticks\":\"\"}},\"type\":\"scatterpolargl\"}],\"scatterpolar\":[{\"marker\":{\"colorbar\":{\"outlinewidth\":0,\"ticks\":\"\"}},\"type\":\"scatterpolar\"}],\"scatter\":[{\"marker\":{\"colorbar\":{\"outlinewidth\":0,\"ticks\":\"\"}},\"type\":\"scatter\"}],\"scatterternary\":[{\"marker\":{\"colorbar\":{\"outlinewidth\":0,\"ticks\":\"\"}},\"type\":\"scatterternary\"}],\"surface\":[{\"colorbar\":{\"outlinewidth\":0,\"ticks\":\"\"},\"colorscale\":[[0.0,\"#0d0887\"],[0.1111111111111111,\"#46039f\"],[0.2222222222222222,\"#7201a8\"],[0.3333333333333333,\"#9c179e\"],[0.4444444444444444,\"#bd3786\"],[0.5555555555555556,\"#d8576b\"],[0.6666666666666666,\"#ed7953\"],[0.7777777777777778,\"#fb9f3a\"],[0.8888888888888888,\"#fdca26\"],[1.0,\"#f0f921\"]],\"type\":\"surface\"}],\"table\":[{\"cells\":{\"fill\":{\"color\":\"#EBF0F8\"},\"line\":{\"color\":\"white\"}},\"header\":{\"fill\":{\"color\":\"#C8D4E3\"},\"line\":{\"color\":\"white\"}},\"type\":\"table\"}]},\"layout\":{\"annotationdefaults\":{\"arrowcolor\":\"#2a3f5f\",\"arrowhead\":0,\"arrowwidth\":1},\"autotypenumbers\":\"strict\",\"coloraxis\":{\"colorbar\":{\"outlinewidth\":0,\"ticks\":\"\"}},\"colorscale\":{\"diverging\":[[0,\"#8e0152\"],[0.1,\"#c51b7d\"],[0.2,\"#de77ae\"],[0.3,\"#f1b6da\"],[0.4,\"#fde0ef\"],[0.5,\"#f7f7f7\"],[0.6,\"#e6f5d0\"],[0.7,\"#b8e186\"],[0.8,\"#7fbc41\"],[0.9,\"#4d9221\"],[1,\"#276419\"]],\"sequential\":[[0.0,\"#0d0887\"],[0.1111111111111111,\"#46039f\"],[0.2222222222222222,\"#7201a8\"],[0.3333333333333333,\"#9c179e\"],[0.4444444444444444,\"#bd3786\"],[0.5555555555555556,\"#d8576b\"],[0.6666666666666666,\"#ed7953\"],[0.7777777777777778,\"#fb9f3a\"],[0.8888888888888888,\"#fdca26\"],[1.0,\"#f0f921\"]],\"sequentialminus\":[[0.0,\"#0d0887\"],[0.1111111111111111,\"#46039f\"],[0.2222222222222222,\"#7201a8\"],[0.3333333333333333,\"#9c179e\"],[0.4444444444444444,\"#bd3786\"],[0.5555555555555556,\"#d8576b\"],[0.6666666666666666,\"#ed7953\"],[0.7777777777777778,\"#fb9f3a\"],[0.8888888888888888,\"#fdca26\"],[1.0,\"#f0f921\"]]},\"colorway\":[\"#636efa\",\"#EF553B\",\"#00cc96\",\"#ab63fa\",\"#FFA15A\",\"#19d3f3\",\"#FF6692\",\"#B6E880\",\"#FF97FF\",\"#FECB52\"],\"font\":{\"color\":\"#2a3f5f\"},\"geo\":{\"bgcolor\":\"white\",\"lakecolor\":\"white\",\"landcolor\":\"#E5ECF6\",\"showlakes\":true,\"showland\":true,\"subunitcolor\":\"white\"},\"hoverlabel\":{\"align\":\"left\"},\"hovermode\":\"closest\",\"mapbox\":{\"style\":\"light\"},\"paper_bgcolor\":\"white\",\"plot_bgcolor\":\"#E5ECF6\",\"polar\":{\"angularaxis\":{\"gridcolor\":\"white\",\"linecolor\":\"white\",\"ticks\":\"\"},\"bgcolor\":\"#E5ECF6\",\"radialaxis\":{\"gridcolor\":\"white\",\"linecolor\":\"white\",\"ticks\":\"\"}},\"scene\":{\"xaxis\":{\"backgroundcolor\":\"#E5ECF6\",\"gridcolor\":\"white\",\"gridwidth\":2,\"linecolor\":\"white\",\"showbackground\":true,\"ticks\":\"\",\"zerolinecolor\":\"white\"},\"yaxis\":{\"backgroundcolor\":\"#E5ECF6\",\"gridcolor\":\"white\",\"gridwidth\":2,\"linecolor\":\"white\",\"showbackground\":true,\"ticks\":\"\",\"zerolinecolor\":\"white\"},\"zaxis\":{\"backgroundcolor\":\"#E5ECF6\",\"gridcolor\":\"white\",\"gridwidth\":2,\"linecolor\":\"white\",\"showbackground\":true,\"ticks\":\"\",\"zerolinecolor\":\"white\"}},\"shapedefaults\":{\"line\":{\"color\":\"#2a3f5f\"}},\"ternary\":{\"aaxis\":{\"gridcolor\":\"white\",\"linecolor\":\"white\",\"ticks\":\"\"},\"baxis\":{\"gridcolor\":\"white\",\"linecolor\":\"white\",\"ticks\":\"\"},\"bgcolor\":\"#E5ECF6\",\"caxis\":{\"gridcolor\":\"white\",\"linecolor\":\"white\",\"ticks\":\"\"}},\"title\":{\"x\":0.05},\"xaxis\":{\"automargin\":true,\"gridcolor\":\"white\",\"linecolor\":\"white\",\"ticks\":\"\",\"title\":{\"standoff\":15},\"zerolinecolor\":\"white\",\"zerolinewidth\":2},\"yaxis\":{\"automargin\":true,\"gridcolor\":\"white\",\"linecolor\":\"white\",\"ticks\":\"\",\"title\":{\"standoff\":15},\"zerolinecolor\":\"white\",\"zerolinewidth\":2}}},\"title\":{\"text\":\"Monthly Income Variation wrt Age\"},\"xaxis\":{\"title\":{\"text\":\"Age\"}},\"yaxis\":{\"title\":{\"text\":\"MonthlyIncome\"}}},                        {\"responsive\": true}                    ).then(function(){\n",
       "                            \n",
       "var gd = document.getElementById('e79756ae-e1b5-43f2-8ad4-4aab31d0182c');\n",
       "var x = new MutationObserver(function (mutations, observer) {{\n",
       "        var display = window.getComputedStyle(gd).display;\n",
       "        if (!display || display === 'none') {{\n",
       "            console.log([gd, 'removed!']);\n",
       "            Plotly.purge(gd);\n",
       "            observer.disconnect();\n",
       "        }}\n",
       "}});\n",
       "\n",
       "// Listen for the removal of the full notebook cells\n",
       "var notebookContainer = gd.closest('#notebook-container');\n",
       "if (notebookContainer) {{\n",
       "    x.observe(notebookContainer, {childList: true});\n",
       "}}\n",
       "\n",
       "// Listen for the clearing of the current output cell\n",
       "var outputEl = gd.closest('.output');\n",
       "if (outputEl) {{\n",
       "    x.observe(outputEl, {childList: true});\n",
       "}}\n",
       "\n",
       "                        })                };                });            </script>        </div>"
      ]
     },
     "metadata": {},
     "output_type": "display_data"
    }
   ],
   "source": [
    "# MonthlyIncome with respect to Age of Employee\n",
    "\n",
    "#sns.lineplot(x='Age',y='MonthlyIncome', data=empdf)\n",
    "trace = go.Scatter(x=empdf['Age'],y=empdf['MonthlyIncome'], mode=\"markers+lines\",\n",
    "                   marker=dict(size=12), line=dict(shape='spline'))\n",
    "data=[trace]\n",
    "\n",
    "layout = {\"title\":\"Monthly Income Variation wrt Age\",\n",
    "           \"xaxis\":{\"title\":\"Age\"},\n",
    "           \"yaxis\":{\"title\":\"MonthlyIncome\"}\n",
    "         }\n",
    "\n",
    "iplot({\"data\":data, \"layout\":layout})"
   ]
  },
  {
   "cell_type": "markdown",
   "metadata": {
    "papermill": {
     "duration": 0.099866,
     "end_time": "2022-10-16T07:47:41.393007",
     "exception": false,
     "start_time": "2022-10-16T07:47:41.293141",
     "status": "completed"
    },
    "tags": []
   },
   "source": [
    "**The graph is to much overlapper but it increases quadratic and It is clear that Income Increases with respect to Age and Experience**"
   ]
  },
  {
   "cell_type": "code",
   "execution_count": 44,
   "metadata": {
    "ExecuteTime": {
     "end_time": "2022-12-16T02:08:34.509942Z",
     "start_time": "2022-12-16T02:08:34.481456Z"
    },
    "execution": {
     "iopub.execute_input": "2022-10-16T07:47:41.590853Z",
     "iopub.status.busy": "2022-10-16T07:47:41.590342Z",
     "iopub.status.idle": "2022-10-16T07:47:41.599289Z",
     "shell.execute_reply": "2022-10-16T07:47:41.599769Z"
    },
    "papermill": {
     "duration": 0.110088,
     "end_time": "2022-10-16T07:47:41.599894",
     "exception": false,
     "start_time": "2022-10-16T07:47:41.489806",
     "status": "completed"
    },
    "tags": []
   },
   "outputs": [
    {
     "data": {
      "text/plain": [
       "Age\n",
       "29.0    49\n",
       "36.0    48\n",
       "34.0    48\n",
       "31.0    47\n",
       "32.0    42\n",
       "Name: EmployeeCount, dtype: int64"
      ]
     },
     "execution_count": 44,
     "metadata": {},
     "output_type": "execute_result"
    }
   ],
   "source": [
    "# employee count in age group and whicg age employees are more\n",
    "empdf.groupby('Age')['EmployeeCount'].sum().sort_values(ascending=False).head()"
   ]
  },
  {
   "cell_type": "code",
   "execution_count": 45,
   "metadata": {
    "ExecuteTime": {
     "end_time": "2022-12-16T02:08:35.751094Z",
     "start_time": "2022-12-16T02:08:35.733747Z"
    },
    "execution": {
     "iopub.execute_input": "2022-10-16T07:47:41.795235Z",
     "iopub.status.busy": "2022-10-16T07:47:41.794596Z",
     "iopub.status.idle": "2022-10-16T07:47:41.802358Z",
     "shell.execute_reply": "2022-10-16T07:47:41.802818Z"
    },
    "papermill": {
     "duration": 0.107933,
     "end_time": "2022-10-16T07:47:41.802987",
     "exception": false,
     "start_time": "2022-10-16T07:47:41.695054",
     "status": "completed"
    },
    "tags": []
   },
   "outputs": [
    {
     "data": {
      "text/plain": [
       "1    403\n",
       "2    350\n",
       "3    151\n",
       "4     78\n",
       "5     47\n",
       "Name: JobLevel, dtype: int64"
      ]
     },
     "execution_count": 45,
     "metadata": {},
     "output_type": "execute_result"
    }
   ],
   "source": [
    "#JobLevel\n",
    "empdf['JobLevel'].value_counts()"
   ]
  },
  {
   "cell_type": "code",
   "execution_count": 46,
   "metadata": {
    "ExecuteTime": {
     "end_time": "2022-12-16T02:08:37.859697Z",
     "start_time": "2022-12-16T02:08:37.651636Z"
    },
    "execution": {
     "iopub.execute_input": "2022-10-16T07:47:42.022503Z",
     "iopub.status.busy": "2022-10-16T07:47:42.021962Z",
     "iopub.status.idle": "2022-10-16T07:47:42.152803Z",
     "shell.execute_reply": "2022-10-16T07:47:42.153228Z"
    },
    "papermill": {
     "duration": 0.233969,
     "end_time": "2022-10-16T07:47:42.153366",
     "exception": false,
     "start_time": "2022-10-16T07:47:41.919397",
     "status": "completed"
    },
    "tags": []
   },
   "outputs": [
    {
     "data": {
      "image/png": "[encoded data removed]",
      "text/plain": [
       "<Figure size 432x288 with 1 Axes>"
      ]
     },
     "metadata": {
      "needs_background": "light"
     },
     "output_type": "display_data"
    }
   ],
   "source": [
    "# JobLevel can have some effect on Attrition of Employees\n",
    "sns.countplot(x='JobLevel',hue='Attrition',data=empdf)\n",
    "plt.show()"
   ]
  },
  {
   "cell_type": "code",
   "execution_count": 47,
   "metadata": {
    "ExecuteTime": {
     "end_time": "2022-12-16T02:08:39.280837Z",
     "start_time": "2022-12-16T02:08:39.069170Z"
    },
    "execution": {
     "iopub.execute_input": "2022-10-16T07:47:42.353009Z",
     "iopub.status.busy": "2022-10-16T07:47:42.352468Z",
     "iopub.status.idle": "2022-10-16T07:47:42.482806Z",
     "shell.execute_reply": "2022-10-16T07:47:42.482355Z"
    },
    "papermill": {
     "duration": 0.23312,
     "end_time": "2022-10-16T07:47:42.482940",
     "exception": false,
     "start_time": "2022-10-16T07:47:42.249820",
     "status": "completed"
    },
    "tags": []
   },
   "outputs": [
    {
     "data": {
      "image/png": "[encoded data removed]",
      "text/plain": [
       "<Figure size 432x288 with 1 Axes>"
      ]
     },
     "metadata": {
      "needs_background": "light"
     },
     "output_type": "display_data"
    }
   ],
   "source": [
    "#NumCompaniesWorked\n",
    "sns.countplot(x='JobLevel',hue='Attrition',data=empdf)\n",
    "plt.show()"
   ]
  },
  {
   "cell_type": "code",
   "execution_count": 48,
   "metadata": {
    "ExecuteTime": {
     "end_time": "2022-12-16T02:08:40.569533Z",
     "start_time": "2022-12-16T02:08:40.535803Z"
    },
    "execution": {
     "iopub.execute_input": "2022-10-16T07:47:42.681236Z",
     "iopub.status.busy": "2022-10-16T07:47:42.680710Z",
     "iopub.status.idle": "2022-10-16T07:47:42.683170Z",
     "shell.execute_reply": "2022-10-16T07:47:42.683580Z"
    },
    "papermill": {
     "duration": 0.105698,
     "end_time": "2022-10-16T07:47:42.683703",
     "exception": false,
     "start_time": "2022-10-16T07:47:42.578005",
     "status": "completed"
    },
    "tags": []
   },
   "outputs": [
    {
     "data": {
      "text/plain": [
       "0    432\n",
       "1    417\n",
       "2    111\n",
       "3     69\n",
       "Name: StockOptionLevel, dtype: int64"
      ]
     },
     "execution_count": 48,
     "metadata": {},
     "output_type": "execute_result"
    }
   ],
   "source": [
    "empdf['StockOptionLevel'].value_counts()"
   ]
  },
  {
   "cell_type": "code",
   "execution_count": 49,
   "metadata": {
    "ExecuteTime": {
     "end_time": "2022-12-16T02:08:42.453586Z",
     "start_time": "2022-12-16T02:08:42.419339Z"
    },
    "execution": {
     "iopub.execute_input": "2022-10-16T07:47:42.884645Z",
     "iopub.status.busy": "2022-10-16T07:47:42.882612Z",
     "iopub.status.idle": "2022-10-16T07:47:42.889268Z",
     "shell.execute_reply": "2022-10-16T07:47:42.888724Z"
    },
    "papermill": {
     "duration": 0.108008,
     "end_time": "2022-10-16T07:47:42.889365",
     "exception": false,
     "start_time": "2022-10-16T07:47:42.781357",
     "status": "completed"
    },
    "tags": []
   },
   "outputs": [],
   "source": [
    "#drop the columns which have save val in whole dataset or which are unrelevant for Attrition prediction. \n",
    "empdf.drop(['EmployeeCount','EmployeeNumber','StandardHours'],axis=1, inplace=True)"
   ]
  },
  {
   "cell_type": "markdown",
   "metadata": {
    "papermill": {
     "duration": 0.094536,
     "end_time": "2022-10-16T07:47:43.081877",
     "exception": false,
     "start_time": "2022-10-16T07:47:42.987341",
     "status": "completed"
    },
    "tags": []
   },
   "source": [
    "## Categorical Encoding"
   ]
  },
  {
   "cell_type": "code",
   "execution_count": 50,
   "metadata": {
    "ExecuteTime": {
     "end_time": "2022-12-16T02:08:44.587197Z",
     "start_time": "2022-12-16T02:08:44.567517Z"
    },
    "execution": {
     "iopub.execute_input": "2022-10-16T07:47:43.285701Z",
     "iopub.status.busy": "2022-10-16T07:47:43.285133Z",
     "iopub.status.idle": "2022-10-16T07:47:43.298714Z",
     "shell.execute_reply": "2022-10-16T07:47:43.299224Z"
    },
    "papermill": {
     "duration": 0.11903,
     "end_time": "2022-10-16T07:47:43.299366",
     "exception": false,
     "start_time": "2022-10-16T07:47:43.180336",
     "status": "completed"
    },
    "tags": []
   },
   "outputs": [
    {
     "data": {
      "text/html": [
       "<div>\n",
       "<style scoped>\n",
       "    .dataframe tbody tr th:only-of-type {\n",
       "        vertical-align: middle;\n",
       "    }\n",
       "\n",
       "    .dataframe tbody tr th {\n",
       "        vertical-align: top;\n",
       "    }\n",
       "\n",
       "    .dataframe thead th {\n",
       "        text-align: right;\n",
       "    }\n",
       "</style>\n",
       "<table border=\"1\" class=\"dataframe\">\n",
       "  <thead>\n",
       "    <tr style=\"text-align: right;\">\n",
       "      <th></th>\n",
       "      <th>Attrition</th>\n",
       "      <th>BusinessTravel</th>\n",
       "      <th>Department</th>\n",
       "      <th>EducationField</th>\n",
       "      <th>Gender</th>\n",
       "      <th>JobRole</th>\n",
       "      <th>MaritalStatus</th>\n",
       "      <th>Over18</th>\n",
       "      <th>OverTime</th>\n",
       "    </tr>\n",
       "  </thead>\n",
       "  <tbody>\n",
       "    <tr>\n",
       "      <th>0</th>\n",
       "      <td>No</td>\n",
       "      <td>Travel_Rarely</td>\n",
       "      <td>Research &amp; Development</td>\n",
       "      <td>Medical</td>\n",
       "      <td>Male</td>\n",
       "      <td>Research Director</td>\n",
       "      <td>Divorced</td>\n",
       "      <td>Y</td>\n",
       "      <td>No</td>\n",
       "    </tr>\n",
       "    <tr>\n",
       "      <th>1</th>\n",
       "      <td>No</td>\n",
       "      <td>Travel_Rarely</td>\n",
       "      <td>Research &amp; Development</td>\n",
       "      <td>Medical</td>\n",
       "      <td>Male</td>\n",
       "      <td>Manufacturing Director</td>\n",
       "      <td>Divorced</td>\n",
       "      <td>Y</td>\n",
       "      <td>No</td>\n",
       "    </tr>\n",
       "    <tr>\n",
       "      <th>2</th>\n",
       "      <td>Yes</td>\n",
       "      <td>Travel_Rarely</td>\n",
       "      <td>Sales</td>\n",
       "      <td>Marketing</td>\n",
       "      <td>Male</td>\n",
       "      <td>Sales Representative</td>\n",
       "      <td>Single</td>\n",
       "      <td>Y</td>\n",
       "      <td>No</td>\n",
       "    </tr>\n",
       "    <tr>\n",
       "      <th>3</th>\n",
       "      <td>No</td>\n",
       "      <td>Travel_Frequently</td>\n",
       "      <td>Human Resources</td>\n",
       "      <td>Medical</td>\n",
       "      <td>Male</td>\n",
       "      <td>Manager</td>\n",
       "      <td>Married</td>\n",
       "      <td>Y</td>\n",
       "      <td>No</td>\n",
       "    </tr>\n",
       "    <tr>\n",
       "      <th>4</th>\n",
       "      <td>No</td>\n",
       "      <td>Travel_Rarely</td>\n",
       "      <td>Research &amp; Development</td>\n",
       "      <td>Life Sciences</td>\n",
       "      <td>Male</td>\n",
       "      <td>Healthcare Representative</td>\n",
       "      <td>Single</td>\n",
       "      <td>Y</td>\n",
       "      <td>No</td>\n",
       "    </tr>\n",
       "  </tbody>\n",
       "</table>\n",
       "</div>"
      ],
      "text/plain": [
       "  Attrition     BusinessTravel              Department EducationField Gender  \\\n",
       "0        No      Travel_Rarely  Research & Development        Medical   Male   \n",
       "1        No      Travel_Rarely  Research & Development        Medical   Male   \n",
       "2       Yes      Travel_Rarely                   Sales      Marketing   Male   \n",
       "3        No  Travel_Frequently         Human Resources        Medical   Male   \n",
       "4        No      Travel_Rarely  Research & Development  Life Sciences   Male   \n",
       "\n",
       "                     JobRole MaritalStatus Over18 OverTime  \n",
       "0          Research Director      Divorced      Y       No  \n",
       "1     Manufacturing Director      Divorced      Y       No  \n",
       "2       Sales Representative        Single      Y       No  \n",
       "3                    Manager       Married      Y       No  \n",
       "4  Healthcare Representative        Single      Y       No  "
      ]
     },
     "execution_count": 50,
     "metadata": {},
     "output_type": "execute_result"
    }
   ],
   "source": [
    "empdf[categorical_features].head()"
   ]
  },
  {
   "cell_type": "code",
   "execution_count": 51,
   "metadata": {
    "ExecuteTime": {
     "end_time": "2022-12-16T02:08:46.209545Z",
     "start_time": "2022-12-16T02:08:46.197789Z"
    },
    "execution": {
     "iopub.execute_input": "2022-10-16T07:47:43.508530Z",
     "iopub.status.busy": "2022-10-16T07:47:43.507990Z",
     "iopub.status.idle": "2022-10-16T07:47:43.510487Z",
     "shell.execute_reply": "2022-10-16T07:47:43.511003Z"
    },
    "papermill": {
     "duration": 0.110844,
     "end_time": "2022-10-16T07:47:43.511153",
     "exception": false,
     "start_time": "2022-10-16T07:47:43.400309",
     "status": "completed"
    },
    "tags": []
   },
   "outputs": [],
   "source": [
    "# Target Variable(Attrition)\n",
    "empdf['Attrition'] = empdf['Attrition'].replace({'No':0,'Yes':1})"
   ]
  },
  {
   "cell_type": "code",
   "execution_count": 52,
   "metadata": {
    "ExecuteTime": {
     "end_time": "2022-12-16T02:08:47.164304Z",
     "start_time": "2022-12-16T02:08:47.153383Z"
    },
    "execution": {
     "iopub.execute_input": "2022-10-16T07:47:43.715186Z",
     "iopub.status.busy": "2022-10-16T07:47:43.714567Z",
     "iopub.status.idle": "2022-10-16T07:47:43.723941Z",
     "shell.execute_reply": "2022-10-16T07:47:43.723448Z"
    },
    "papermill": {
     "duration": 0.111018,
     "end_time": "2022-10-16T07:47:43.724058",
     "exception": false,
     "start_time": "2022-10-16T07:47:43.613040",
     "status": "completed"
    },
    "tags": []
   },
   "outputs": [],
   "source": [
    "#encode binary variables\n",
    "empdf['OverTime'] = empdf['OverTime'].map({'No':0,'Yes':1})\n",
    "empdf['Gender'] = empdf['Gender'].map({'Male':0,'Female':1})"
   ]
  },
  {
   "cell_type": "code",
   "execution_count": 53,
   "metadata": {
    "ExecuteTime": {
     "end_time": "2022-12-16T02:08:48.102579Z",
     "start_time": "2022-12-16T02:08:48.053859Z"
    },
    "execution": {
     "iopub.execute_input": "2022-10-16T07:47:43.931501Z",
     "iopub.status.busy": "2022-10-16T07:47:43.931002Z",
     "iopub.status.idle": "2022-10-16T07:47:43.938139Z",
     "shell.execute_reply": "2022-10-16T07:47:43.937663Z"
    },
    "papermill": {
     "duration": 0.115752,
     "end_time": "2022-10-16T07:47:43.938239",
     "exception": false,
     "start_time": "2022-10-16T07:47:43.822487",
     "status": "completed"
    },
    "tags": []
   },
   "outputs": [],
   "source": [
    "#encode categorical columns which are ordinal, use labelEncoding\n",
    "cat_cols = ['BusinessTravel','Department','EducationField','JobRole','MaritalStatus']\n",
    "for col in cat_cols:\n",
    "    map_dict = {k:i for i, k in enumerate(empdf[col].value_counts().index,0)}\n",
    "    empdf[col] = empdf[col].map(map_dict)"
   ]
  },
  {
   "cell_type": "code",
   "execution_count": 54,
   "metadata": {
    "ExecuteTime": {
     "end_time": "2022-12-16T02:08:49.081716Z",
     "start_time": "2022-12-16T02:08:49.069041Z"
    },
    "execution": {
     "iopub.execute_input": "2022-10-16T07:47:44.138007Z",
     "iopub.status.busy": "2022-10-16T07:47:44.137407Z",
     "iopub.status.idle": "2022-10-16T07:47:44.142626Z",
     "shell.execute_reply": "2022-10-16T07:47:44.143121Z"
    },
    "papermill": {
     "duration": 0.105166,
     "end_time": "2022-10-16T07:47:44.143255",
     "exception": false,
     "start_time": "2022-10-16T07:47:44.038089",
     "status": "completed"
    },
    "tags": []
   },
   "outputs": [],
   "source": [
    "# drop the Over18 column\n",
    "empdf.drop('Over18',axis=1,inplace=True)"
   ]
  },
  {
   "cell_type": "markdown",
   "metadata": {
    "papermill": {
     "duration": 0.102045,
     "end_time": "2022-10-16T07:47:44.346585",
     "exception": false,
     "start_time": "2022-10-16T07:47:44.244540",
     "status": "completed"
    },
    "tags": []
   },
   "source": [
    "### Making a Corelation"
   ]
  },
  {
   "cell_type": "code",
   "execution_count": 55,
   "metadata": {
    "ExecuteTime": {
     "end_time": "2022-12-16T02:08:52.886935Z",
     "start_time": "2022-12-16T02:08:52.867150Z"
    },
    "execution": {
     "iopub.execute_input": "2022-10-16T07:47:44.547960Z",
     "iopub.status.busy": "2022-10-16T07:47:44.547409Z",
     "iopub.status.idle": "2022-10-16T07:47:44.558286Z",
     "shell.execute_reply": "2022-10-16T07:47:44.557812Z"
    },
    "papermill": {
     "duration": 0.11257,
     "end_time": "2022-10-16T07:47:44.558388",
     "exception": false,
     "start_time": "2022-10-16T07:47:44.445818",
     "status": "completed"
    },
    "tags": []
   },
   "outputs": [
    {
     "data": {
      "text/plain": [
       "Attrition                   1.000000\n",
       "OverTime                    0.273295\n",
       "EducationField              0.092899\n",
       "Department                  0.079797\n",
       "DistanceFromHome            0.065264\n",
       "NumCompaniesWorked          0.061832\n",
       "MonthlyRate                 0.002960\n",
       "MaritalStatus              -0.000983\n",
       "HourlyRate                 -0.007533\n",
       "PercentSalaryHike          -0.011157\n",
       "BusinessTravel             -0.016686\n",
       "PerformanceRating          -0.021510\n",
       "Education                  -0.022094\n",
       "JobRole                    -0.030180\n",
       "DailyRate                  -0.034119\n",
       "RelationshipSatisfaction   -0.036987\n",
       "Gender                     -0.039339\n",
       "YearsSinceLastPromotion    -0.050700\n",
       "TrainingTimesLastYear      -0.051681\n",
       "WorkLifeBalance            -0.054439\n",
       "EnvironmentSatisfaction    -0.082964\n",
       "JobSatisfaction            -0.102101\n",
       "JobInvolvement             -0.129238\n",
       "YearsAtCompany             -0.154422\n",
       "StockOptionLevel           -0.158530\n",
       "MonthlyIncome              -0.171551\n",
       "Age                        -0.175555\n",
       "JobLevel                   -0.181610\n",
       "YearsInCurrentRole         -0.188421\n",
       "TotalWorkingYears          -0.199323\n",
       "Name: Attrition, dtype: float64"
      ]
     },
     "execution_count": 55,
     "metadata": {},
     "output_type": "execute_result"
    }
   ],
   "source": [
    "empdf.corr()['Attrition'][:-1].sort_values(ascending=False)"
   ]
  },
  {
   "cell_type": "code",
   "execution_count": 56,
   "metadata": {
    "ExecuteTime": {
     "end_time": "2022-12-16T02:08:55.138392Z",
     "start_time": "2022-12-16T02:08:54.345827Z"
    },
    "execution": {
     "iopub.execute_input": "2022-10-16T07:47:44.761624Z",
     "iopub.status.busy": "2022-10-16T07:47:44.761116Z",
     "iopub.status.idle": "2022-10-16T07:47:45.415225Z",
     "shell.execute_reply": "2022-10-16T07:47:45.415611Z"
    },
    "papermill": {
     "duration": 0.758014,
     "end_time": "2022-10-16T07:47:45.415755",
     "exception": false,
     "start_time": "2022-10-16T07:47:44.657741",
     "status": "completed"
    },
    "tags": []
   },
   "outputs": [
    {
     "data": {
      "image/png": "[encoded data removed]",
      "text/plain": [
       "<Figure size 936x648 with 2 Axes>"
      ]
     },
     "metadata": {
      "needs_background": "light"
     },
     "output_type": "display_data"
    }
   ],
   "source": [
    "plt.figure(figsize=(13,9))\n",
    "sns.heatmap(empdf.corr(),vmax=0.8,linewidth=0.1,cmap='coolwarm')\n",
    "plt.show()"
   ]
  },
  {
   "cell_type": "code",
   "execution_count": 57,
   "metadata": {
    "ExecuteTime": {
     "end_time": "2022-12-16T02:08:57.323413Z",
     "start_time": "2022-12-16T02:08:57.294291Z"
    },
    "execution": {
     "iopub.execute_input": "2022-10-16T07:47:45.626385Z",
     "iopub.status.busy": "2022-10-16T07:47:45.625820Z",
     "iopub.status.idle": "2022-10-16T07:47:45.644579Z",
     "shell.execute_reply": "2022-10-16T07:47:45.645167Z"
    },
    "papermill": {
     "duration": 0.124929,
     "end_time": "2022-10-16T07:47:45.645304",
     "exception": false,
     "start_time": "2022-10-16T07:47:45.520375",
     "status": "completed"
    },
    "tags": []
   },
   "outputs": [
    {
     "data": {
      "text/html": [
       "<div>\n",
       "<style scoped>\n",
       "    .dataframe tbody tr th:only-of-type {\n",
       "        vertical-align: middle;\n",
       "    }\n",
       "\n",
       "    .dataframe tbody tr th {\n",
       "        vertical-align: top;\n",
       "    }\n",
       "\n",
       "    .dataframe thead th {\n",
       "        text-align: right;\n",
       "    }\n",
       "</style>\n",
       "<table border=\"1\" class=\"dataframe\">\n",
       "  <thead>\n",
       "    <tr style=\"text-align: right;\">\n",
       "      <th></th>\n",
       "      <th>Age</th>\n",
       "      <th>Attrition</th>\n",
       "      <th>BusinessTravel</th>\n",
       "      <th>DailyRate</th>\n",
       "      <th>Department</th>\n",
       "      <th>DistanceFromHome</th>\n",
       "      <th>Education</th>\n",
       "      <th>EducationField</th>\n",
       "      <th>EnvironmentSatisfaction</th>\n",
       "      <th>Gender</th>\n",
       "      <th>HourlyRate</th>\n",
       "      <th>JobInvolvement</th>\n",
       "      <th>JobLevel</th>\n",
       "      <th>JobRole</th>\n",
       "      <th>JobSatisfaction</th>\n",
       "      <th>MaritalStatus</th>\n",
       "      <th>MonthlyIncome</th>\n",
       "      <th>MonthlyRate</th>\n",
       "      <th>NumCompaniesWorked</th>\n",
       "      <th>OverTime</th>\n",
       "      <th>PercentSalaryHike</th>\n",
       "      <th>PerformanceRating</th>\n",
       "      <th>RelationshipSatisfaction</th>\n",
       "      <th>StockOptionLevel</th>\n",
       "      <th>TotalWorkingYears</th>\n",
       "      <th>TrainingTimesLastYear</th>\n",
       "      <th>WorkLifeBalance</th>\n",
       "      <th>YearsAtCompany</th>\n",
       "      <th>YearsInCurrentRole</th>\n",
       "      <th>YearsSinceLastPromotion</th>\n",
       "      <th>YearsWithCurrManager</th>\n",
       "    </tr>\n",
       "  </thead>\n",
       "  <tbody>\n",
       "    <tr>\n",
       "      <th>0</th>\n",
       "      <td>50.0</td>\n",
       "      <td>0</td>\n",
       "      <td>0.0</td>\n",
       "      <td>1126.0</td>\n",
       "      <td>0</td>\n",
       "      <td>1.0</td>\n",
       "      <td>2</td>\n",
       "      <td>1</td>\n",
       "      <td>4</td>\n",
       "      <td>0</td>\n",
       "      <td>66</td>\n",
       "      <td>3</td>\n",
       "      <td>4</td>\n",
       "      <td>7</td>\n",
       "      <td>4</td>\n",
       "      <td>2.0</td>\n",
       "      <td>17399</td>\n",
       "      <td>6615</td>\n",
       "      <td>9</td>\n",
       "      <td>0</td>\n",
       "      <td>22</td>\n",
       "      <td>4</td>\n",
       "      <td>3</td>\n",
       "      <td>1</td>\n",
       "      <td>32</td>\n",
       "      <td>1</td>\n",
       "      <td>2</td>\n",
       "      <td>5</td>\n",
       "      <td>4</td>\n",
       "      <td>1</td>\n",
       "      <td>3</td>\n",
       "    </tr>\n",
       "    <tr>\n",
       "      <th>1</th>\n",
       "      <td>36.0</td>\n",
       "      <td>0</td>\n",
       "      <td>0.0</td>\n",
       "      <td>216.0</td>\n",
       "      <td>0</td>\n",
       "      <td>6.0</td>\n",
       "      <td>2</td>\n",
       "      <td>1</td>\n",
       "      <td>2</td>\n",
       "      <td>0</td>\n",
       "      <td>84</td>\n",
       "      <td>3</td>\n",
       "      <td>2</td>\n",
       "      <td>3</td>\n",
       "      <td>2</td>\n",
       "      <td>2.0</td>\n",
       "      <td>4941</td>\n",
       "      <td>2819</td>\n",
       "      <td>6</td>\n",
       "      <td>0</td>\n",
       "      <td>20</td>\n",
       "      <td>4</td>\n",
       "      <td>4</td>\n",
       "      <td>2</td>\n",
       "      <td>7</td>\n",
       "      <td>0</td>\n",
       "      <td>3</td>\n",
       "      <td>3</td>\n",
       "      <td>2</td>\n",
       "      <td>0</td>\n",
       "      <td>1</td>\n",
       "    </tr>\n",
       "    <tr>\n",
       "      <th>2</th>\n",
       "      <td>21.0</td>\n",
       "      <td>1</td>\n",
       "      <td>0.0</td>\n",
       "      <td>337.0</td>\n",
       "      <td>1</td>\n",
       "      <td>7.0</td>\n",
       "      <td>1</td>\n",
       "      <td>2</td>\n",
       "      <td>2</td>\n",
       "      <td>0</td>\n",
       "      <td>31</td>\n",
       "      <td>3</td>\n",
       "      <td>1</td>\n",
       "      <td>6</td>\n",
       "      <td>2</td>\n",
       "      <td>1.0</td>\n",
       "      <td>2679</td>\n",
       "      <td>4567</td>\n",
       "      <td>1</td>\n",
       "      <td>0</td>\n",
       "      <td>13</td>\n",
       "      <td>3</td>\n",
       "      <td>2</td>\n",
       "      <td>0</td>\n",
       "      <td>1</td>\n",
       "      <td>3</td>\n",
       "      <td>3</td>\n",
       "      <td>1</td>\n",
       "      <td>0</td>\n",
       "      <td>1</td>\n",
       "      <td>0</td>\n",
       "    </tr>\n",
       "    <tr>\n",
       "      <th>3</th>\n",
       "      <td>50.0</td>\n",
       "      <td>0</td>\n",
       "      <td>1.0</td>\n",
       "      <td>1246.0</td>\n",
       "      <td>2</td>\n",
       "      <td>NaN</td>\n",
       "      <td>3</td>\n",
       "      <td>1</td>\n",
       "      <td>1</td>\n",
       "      <td>0</td>\n",
       "      <td>99</td>\n",
       "      <td>3</td>\n",
       "      <td>5</td>\n",
       "      <td>5</td>\n",
       "      <td>2</td>\n",
       "      <td>0.0</td>\n",
       "      <td>18200</td>\n",
       "      <td>7999</td>\n",
       "      <td>1</td>\n",
       "      <td>0</td>\n",
       "      <td>11</td>\n",
       "      <td>3</td>\n",
       "      <td>3</td>\n",
       "      <td>1</td>\n",
       "      <td>32</td>\n",
       "      <td>2</td>\n",
       "      <td>3</td>\n",
       "      <td>32</td>\n",
       "      <td>5</td>\n",
       "      <td>10</td>\n",
       "      <td>7</td>\n",
       "    </tr>\n",
       "    <tr>\n",
       "      <th>4</th>\n",
       "      <td>52.0</td>\n",
       "      <td>0</td>\n",
       "      <td>0.0</td>\n",
       "      <td>994.0</td>\n",
       "      <td>0</td>\n",
       "      <td>7.0</td>\n",
       "      <td>4</td>\n",
       "      <td>0</td>\n",
       "      <td>2</td>\n",
       "      <td>0</td>\n",
       "      <td>87</td>\n",
       "      <td>3</td>\n",
       "      <td>3</td>\n",
       "      <td>4</td>\n",
       "      <td>2</td>\n",
       "      <td>1.0</td>\n",
       "      <td>10445</td>\n",
       "      <td>15322</td>\n",
       "      <td>7</td>\n",
       "      <td>0</td>\n",
       "      <td>19</td>\n",
       "      <td>3</td>\n",
       "      <td>4</td>\n",
       "      <td>0</td>\n",
       "      <td>18</td>\n",
       "      <td>4</td>\n",
       "      <td>3</td>\n",
       "      <td>8</td>\n",
       "      <td>6</td>\n",
       "      <td>4</td>\n",
       "      <td>0</td>\n",
       "    </tr>\n",
       "  </tbody>\n",
       "</table>\n",
       "</div>"
      ],
      "text/plain": [
       "    Age  Attrition  BusinessTravel  DailyRate  Department  DistanceFromHome  \\\n",
       "0  50.0          0             0.0     1126.0           0               1.0   \n",
       "1  36.0          0             0.0      216.0           0               6.0   \n",
       "2  21.0          1             0.0      337.0           1               7.0   \n",
       "3  50.0          0             1.0     1246.0           2               NaN   \n",
       "4  52.0          0             0.0      994.0           0               7.0   \n",
       "\n",
       "   Education  EducationField  EnvironmentSatisfaction  Gender  HourlyRate  \\\n",
       "0          2               1                        4       0          66   \n",
       "1          2               1                        2       0          84   \n",
       "2          1               2                        2       0          31   \n",
       "3          3               1                        1       0          99   \n",
       "4          4               0                        2       0          87   \n",
       "\n",
       "   JobInvolvement  JobLevel  JobRole  JobSatisfaction  MaritalStatus  \\\n",
       "0               3         4        7                4            2.0   \n",
       "1               3         2        3                2            2.0   \n",
       "2               3         1        6                2            1.0   \n",
       "3               3         5        5                2            0.0   \n",
       "4               3         3        4                2            1.0   \n",
       "\n",
       "   MonthlyIncome  MonthlyRate  NumCompaniesWorked  OverTime  \\\n",
       "0          17399         6615                   9         0   \n",
       "1           4941         2819                   6         0   \n",
       "2           2679         4567                   1         0   \n",
       "3          18200         7999                   1         0   \n",
       "4          10445        15322                   7         0   \n",
       "\n",
       "   PercentSalaryHike  PerformanceRating  RelationshipSatisfaction  \\\n",
       "0                 22                  4                         3   \n",
       "1                 20                  4                         4   \n",
       "2                 13                  3                         2   \n",
       "3                 11                  3                         3   \n",
       "4                 19                  3                         4   \n",
       "\n",
       "   StockOptionLevel  TotalWorkingYears  TrainingTimesLastYear  \\\n",
       "0                 1                 32                      1   \n",
       "1                 2                  7                      0   \n",
       "2                 0                  1                      3   \n",
       "3                 1                 32                      2   \n",
       "4                 0                 18                      4   \n",
       "\n",
       "   WorkLifeBalance  YearsAtCompany  YearsInCurrentRole  \\\n",
       "0                2               5                   4   \n",
       "1                3               3                   2   \n",
       "2                3               1                   0   \n",
       "3                3              32                   5   \n",
       "4                3               8                   6   \n",
       "\n",
       "   YearsSinceLastPromotion  YearsWithCurrManager  \n",
       "0                        1                     3  \n",
       "1                        0                     1  \n",
       "2                        1                     0  \n",
       "3                       10                     7  \n",
       "4                        4                     0  "
      ]
     },
     "execution_count": 57,
     "metadata": {},
     "output_type": "execute_result"
    }
   ],
   "source": [
    "empdf.head()"
   ]
  },
  {
   "cell_type": "markdown",
   "metadata": {
    "papermill": {
     "duration": 0.105665,
     "end_time": "2022-10-16T07:47:45.853924",
     "exception": false,
     "start_time": "2022-10-16T07:47:45.748259",
     "status": "completed"
    },
    "tags": []
   },
   "source": [
    "## FeatureSelection"
   ]
  },
  {
   "cell_type": "code",
   "execution_count": 62,
   "metadata": {
    "ExecuteTime": {
     "end_time": "2022-12-16T02:12:18.593970Z",
     "start_time": "2022-12-16T02:12:18.579320Z"
    }
   },
   "outputs": [],
   "source": [
    "df1 = empdf.dropna()"
   ]
  },
  {
   "cell_type": "code",
   "execution_count": null,
   "metadata": {},
   "outputs": [],
   "source": []
  },
  {
   "cell_type": "code",
   "execution_count": 60,
   "metadata": {
    "ExecuteTime": {
     "end_time": "2022-12-16T02:09:15.730057Z",
     "start_time": "2022-12-16T02:09:15.493235Z"
    },
    "execution": {
     "iopub.execute_input": "2022-10-16T07:47:46.292545Z",
     "iopub.status.busy": "2022-10-16T07:47:46.291941Z",
     "iopub.status.idle": "2022-10-16T07:47:46.931429Z",
     "shell.execute_reply": "2022-10-16T07:47:46.930940Z"
    },
    "papermill": {
     "duration": 0.747915,
     "end_time": "2022-10-16T07:47:46.931532",
     "exception": false,
     "start_time": "2022-10-16T07:47:46.183617",
     "status": "completed"
    },
    "tags": []
   },
   "outputs": [
    {
     "ename": "ValueError",
     "evalue": "Input contains NaN, infinity or a value too large for dtype('float32').",
     "output_type": "error",
     "traceback": [
      "\u001b[0;31m---------------------------------------------------------------------------\u001b[0m",
      "\u001b[0;31mValueError\u001b[0m                                Traceback (most recent call last)",
      "Input \u001b[0;32mIn [60]\u001b[0m, in \u001b[0;36m<cell line: 5>\u001b[0;34m()\u001b[0m\n\u001b[1;32m      1\u001b[0m \u001b[38;5;28;01mfrom\u001b[39;00m \u001b[38;5;21;01msklearn\u001b[39;00m\u001b[38;5;21;01m.\u001b[39;00m\u001b[38;5;21;01mensemble\u001b[39;00m \u001b[38;5;28;01mimport\u001b[39;00m ExtraTreesClassifier\n\u001b[1;32m      3\u001b[0m extra_tree \u001b[38;5;241m=\u001b[39m ExtraTreesClassifier()\n\u001b[0;32m----> 5\u001b[0m \u001b[43mextra_tree\u001b[49m\u001b[38;5;241;43m.\u001b[39;49m\u001b[43mfit\u001b[49m\u001b[43m(\u001b[49m\u001b[43mx\u001b[49m\u001b[43m,\u001b[49m\u001b[43my\u001b[49m\u001b[43m)\u001b[49m\n\u001b[1;32m      7\u001b[0m feat_importance \u001b[38;5;241m=\u001b[39m extra_tree\u001b[38;5;241m.\u001b[39mfeature_importances_\n",
      "File \u001b[0;32m~/opt/anaconda3/lib/python3.9/site-packages/sklearn/ensemble/_forest.py:327\u001b[0m, in \u001b[0;36mBaseForest.fit\u001b[0;34m(self, X, y, sample_weight)\u001b[0m\n\u001b[1;32m    325\u001b[0m \u001b[38;5;28;01mif\u001b[39;00m issparse(y):\n\u001b[1;32m    326\u001b[0m     \u001b[38;5;28;01mraise\u001b[39;00m \u001b[38;5;167;01mValueError\u001b[39;00m(\u001b[38;5;124m\"\u001b[39m\u001b[38;5;124msparse multilabel-indicator for y is not supported.\u001b[39m\u001b[38;5;124m\"\u001b[39m)\n\u001b[0;32m--> 327\u001b[0m X, y \u001b[38;5;241m=\u001b[39m \u001b[38;5;28;43mself\u001b[39;49m\u001b[38;5;241;43m.\u001b[39;49m\u001b[43m_validate_data\u001b[49m\u001b[43m(\u001b[49m\n\u001b[1;32m    328\u001b[0m \u001b[43m    \u001b[49m\u001b[43mX\u001b[49m\u001b[43m,\u001b[49m\u001b[43m \u001b[49m\u001b[43my\u001b[49m\u001b[43m,\u001b[49m\u001b[43m \u001b[49m\u001b[43mmulti_output\u001b[49m\u001b[38;5;241;43m=\u001b[39;49m\u001b[38;5;28;43;01mTrue\u001b[39;49;00m\u001b[43m,\u001b[49m\u001b[43m \u001b[49m\u001b[43maccept_sparse\u001b[49m\u001b[38;5;241;43m=\u001b[39;49m\u001b[38;5;124;43m\"\u001b[39;49m\u001b[38;5;124;43mcsc\u001b[39;49m\u001b[38;5;124;43m\"\u001b[39;49m\u001b[43m,\u001b[49m\u001b[43m \u001b[49m\u001b[43mdtype\u001b[49m\u001b[38;5;241;43m=\u001b[39;49m\u001b[43mDTYPE\u001b[49m\n\u001b[1;32m    329\u001b[0m \u001b[43m\u001b[49m\u001b[43m)\u001b[49m\n\u001b[1;32m    330\u001b[0m \u001b[38;5;28;01mif\u001b[39;00m sample_weight \u001b[38;5;129;01mis\u001b[39;00m \u001b[38;5;129;01mnot\u001b[39;00m \u001b[38;5;28;01mNone\u001b[39;00m:\n\u001b[1;32m    331\u001b[0m     sample_weight \u001b[38;5;241m=\u001b[39m _check_sample_weight(sample_weight, X)\n",
      "File \u001b[0;32m~/opt/anaconda3/lib/python3.9/site-packages/sklearn/base.py:581\u001b[0m, in \u001b[0;36mBaseEstimator._validate_data\u001b[0;34m(self, X, y, reset, validate_separately, **check_params)\u001b[0m\n\u001b[1;32m    579\u001b[0m         y \u001b[38;5;241m=\u001b[39m check_array(y, \u001b[38;5;241m*\u001b[39m\u001b[38;5;241m*\u001b[39mcheck_y_params)\n\u001b[1;32m    580\u001b[0m     \u001b[38;5;28;01melse\u001b[39;00m:\n\u001b[0;32m--> 581\u001b[0m         X, y \u001b[38;5;241m=\u001b[39m \u001b[43mcheck_X_y\u001b[49m\u001b[43m(\u001b[49m\u001b[43mX\u001b[49m\u001b[43m,\u001b[49m\u001b[43m \u001b[49m\u001b[43my\u001b[49m\u001b[43m,\u001b[49m\u001b[43m \u001b[49m\u001b[38;5;241;43m*\u001b[39;49m\u001b[38;5;241;43m*\u001b[39;49m\u001b[43mcheck_params\u001b[49m\u001b[43m)\u001b[49m\n\u001b[1;32m    582\u001b[0m     out \u001b[38;5;241m=\u001b[39m X, y\n\u001b[1;32m    584\u001b[0m \u001b[38;5;28;01mif\u001b[39;00m \u001b[38;5;129;01mnot\u001b[39;00m no_val_X \u001b[38;5;129;01mand\u001b[39;00m check_params\u001b[38;5;241m.\u001b[39mget(\u001b[38;5;124m\"\u001b[39m\u001b[38;5;124mensure_2d\u001b[39m\u001b[38;5;124m\"\u001b[39m, \u001b[38;5;28;01mTrue\u001b[39;00m):\n",
      "File \u001b[0;32m~/opt/anaconda3/lib/python3.9/site-packages/sklearn/utils/validation.py:964\u001b[0m, in \u001b[0;36mcheck_X_y\u001b[0;34m(X, y, accept_sparse, accept_large_sparse, dtype, order, copy, force_all_finite, ensure_2d, allow_nd, multi_output, ensure_min_samples, ensure_min_features, y_numeric, estimator)\u001b[0m\n\u001b[1;32m    961\u001b[0m \u001b[38;5;28;01mif\u001b[39;00m y \u001b[38;5;129;01mis\u001b[39;00m \u001b[38;5;28;01mNone\u001b[39;00m:\n\u001b[1;32m    962\u001b[0m     \u001b[38;5;28;01mraise\u001b[39;00m \u001b[38;5;167;01mValueError\u001b[39;00m(\u001b[38;5;124m\"\u001b[39m\u001b[38;5;124my cannot be None\u001b[39m\u001b[38;5;124m\"\u001b[39m)\n\u001b[0;32m--> 964\u001b[0m X \u001b[38;5;241m=\u001b[39m \u001b[43mcheck_array\u001b[49m\u001b[43m(\u001b[49m\n\u001b[1;32m    965\u001b[0m \u001b[43m    \u001b[49m\u001b[43mX\u001b[49m\u001b[43m,\u001b[49m\n\u001b[1;32m    966\u001b[0m \u001b[43m    \u001b[49m\u001b[43maccept_sparse\u001b[49m\u001b[38;5;241;43m=\u001b[39;49m\u001b[43maccept_sparse\u001b[49m\u001b[43m,\u001b[49m\n\u001b[1;32m    967\u001b[0m \u001b[43m    \u001b[49m\u001b[43maccept_large_sparse\u001b[49m\u001b[38;5;241;43m=\u001b[39;49m\u001b[43maccept_large_sparse\u001b[49m\u001b[43m,\u001b[49m\n\u001b[1;32m    968\u001b[0m \u001b[43m    \u001b[49m\u001b[43mdtype\u001b[49m\u001b[38;5;241;43m=\u001b[39;49m\u001b[43mdtype\u001b[49m\u001b[43m,\u001b[49m\n\u001b[1;32m    969\u001b[0m \u001b[43m    \u001b[49m\u001b[43morder\u001b[49m\u001b[38;5;241;43m=\u001b[39;49m\u001b[43morder\u001b[49m\u001b[43m,\u001b[49m\n\u001b[1;32m    970\u001b[0m \u001b[43m    \u001b[49m\u001b[43mcopy\u001b[49m\u001b[38;5;241;43m=\u001b[39;49m\u001b[43mcopy\u001b[49m\u001b[43m,\u001b[49m\n\u001b[1;32m    971\u001b[0m \u001b[43m    \u001b[49m\u001b[43mforce_all_finite\u001b[49m\u001b[38;5;241;43m=\u001b[39;49m\u001b[43mforce_all_finite\u001b[49m\u001b[43m,\u001b[49m\n\u001b[1;32m    972\u001b[0m \u001b[43m    \u001b[49m\u001b[43mensure_2d\u001b[49m\u001b[38;5;241;43m=\u001b[39;49m\u001b[43mensure_2d\u001b[49m\u001b[43m,\u001b[49m\n\u001b[1;32m    973\u001b[0m \u001b[43m    \u001b[49m\u001b[43mallow_nd\u001b[49m\u001b[38;5;241;43m=\u001b[39;49m\u001b[43mallow_nd\u001b[49m\u001b[43m,\u001b[49m\n\u001b[1;32m    974\u001b[0m \u001b[43m    \u001b[49m\u001b[43mensure_min_samples\u001b[49m\u001b[38;5;241;43m=\u001b[39;49m\u001b[43mensure_min_samples\u001b[49m\u001b[43m,\u001b[49m\n\u001b[1;32m    975\u001b[0m \u001b[43m    \u001b[49m\u001b[43mensure_min_features\u001b[49m\u001b[38;5;241;43m=\u001b[39;49m\u001b[43mensure_min_features\u001b[49m\u001b[43m,\u001b[49m\n\u001b[1;32m    976\u001b[0m \u001b[43m    \u001b[49m\u001b[43mestimator\u001b[49m\u001b[38;5;241;43m=\u001b[39;49m\u001b[43mestimator\u001b[49m\u001b[43m,\u001b[49m\n\u001b[1;32m    977\u001b[0m \u001b[43m\u001b[49m\u001b[43m)\u001b[49m\n\u001b[1;32m    979\u001b[0m y \u001b[38;5;241m=\u001b[39m _check_y(y, multi_output\u001b[38;5;241m=\u001b[39mmulti_output, y_numeric\u001b[38;5;241m=\u001b[39my_numeric)\n\u001b[1;32m    981\u001b[0m check_consistent_length(X, y)\n",
      "File \u001b[0;32m~/opt/anaconda3/lib/python3.9/site-packages/sklearn/utils/validation.py:800\u001b[0m, in \u001b[0;36mcheck_array\u001b[0;34m(array, accept_sparse, accept_large_sparse, dtype, order, copy, force_all_finite, ensure_2d, allow_nd, ensure_min_samples, ensure_min_features, estimator)\u001b[0m\n\u001b[1;32m    794\u001b[0m         \u001b[38;5;28;01mraise\u001b[39;00m \u001b[38;5;167;01mValueError\u001b[39;00m(\n\u001b[1;32m    795\u001b[0m             \u001b[38;5;124m\"\u001b[39m\u001b[38;5;124mFound array with dim \u001b[39m\u001b[38;5;132;01m%d\u001b[39;00m\u001b[38;5;124m. \u001b[39m\u001b[38;5;132;01m%s\u001b[39;00m\u001b[38;5;124m expected <= 2.\u001b[39m\u001b[38;5;124m\"\u001b[39m\n\u001b[1;32m    796\u001b[0m             \u001b[38;5;241m%\u001b[39m (array\u001b[38;5;241m.\u001b[39mndim, estimator_name)\n\u001b[1;32m    797\u001b[0m         )\n\u001b[1;32m    799\u001b[0m     \u001b[38;5;28;01mif\u001b[39;00m force_all_finite:\n\u001b[0;32m--> 800\u001b[0m         \u001b[43m_assert_all_finite\u001b[49m\u001b[43m(\u001b[49m\u001b[43marray\u001b[49m\u001b[43m,\u001b[49m\u001b[43m \u001b[49m\u001b[43mallow_nan\u001b[49m\u001b[38;5;241;43m=\u001b[39;49m\u001b[43mforce_all_finite\u001b[49m\u001b[43m \u001b[49m\u001b[38;5;241;43m==\u001b[39;49m\u001b[43m \u001b[49m\u001b[38;5;124;43m\"\u001b[39;49m\u001b[38;5;124;43mallow-nan\u001b[39;49m\u001b[38;5;124;43m\"\u001b[39;49m\u001b[43m)\u001b[49m\n\u001b[1;32m    802\u001b[0m \u001b[38;5;28;01mif\u001b[39;00m ensure_min_samples \u001b[38;5;241m>\u001b[39m \u001b[38;5;241m0\u001b[39m:\n\u001b[1;32m    803\u001b[0m     n_samples \u001b[38;5;241m=\u001b[39m _num_samples(array)\n",
      "File \u001b[0;32m~/opt/anaconda3/lib/python3.9/site-packages/sklearn/utils/validation.py:114\u001b[0m, in \u001b[0;36m_assert_all_finite\u001b[0;34m(X, allow_nan, msg_dtype)\u001b[0m\n\u001b[1;32m    107\u001b[0m     \u001b[38;5;28;01mif\u001b[39;00m (\n\u001b[1;32m    108\u001b[0m         allow_nan\n\u001b[1;32m    109\u001b[0m         \u001b[38;5;129;01mand\u001b[39;00m np\u001b[38;5;241m.\u001b[39misinf(X)\u001b[38;5;241m.\u001b[39many()\n\u001b[1;32m    110\u001b[0m         \u001b[38;5;129;01mor\u001b[39;00m \u001b[38;5;129;01mnot\u001b[39;00m allow_nan\n\u001b[1;32m    111\u001b[0m         \u001b[38;5;129;01mand\u001b[39;00m \u001b[38;5;129;01mnot\u001b[39;00m np\u001b[38;5;241m.\u001b[39misfinite(X)\u001b[38;5;241m.\u001b[39mall()\n\u001b[1;32m    112\u001b[0m     ):\n\u001b[1;32m    113\u001b[0m         type_err \u001b[38;5;241m=\u001b[39m \u001b[38;5;124m\"\u001b[39m\u001b[38;5;124minfinity\u001b[39m\u001b[38;5;124m\"\u001b[39m \u001b[38;5;28;01mif\u001b[39;00m allow_nan \u001b[38;5;28;01melse\u001b[39;00m \u001b[38;5;124m\"\u001b[39m\u001b[38;5;124mNaN, infinity\u001b[39m\u001b[38;5;124m\"\u001b[39m\n\u001b[0;32m--> 114\u001b[0m         \u001b[38;5;28;01mraise\u001b[39;00m \u001b[38;5;167;01mValueError\u001b[39;00m(\n\u001b[1;32m    115\u001b[0m             msg_err\u001b[38;5;241m.\u001b[39mformat(\n\u001b[1;32m    116\u001b[0m                 type_err, msg_dtype \u001b[38;5;28;01mif\u001b[39;00m msg_dtype \u001b[38;5;129;01mis\u001b[39;00m \u001b[38;5;129;01mnot\u001b[39;00m \u001b[38;5;28;01mNone\u001b[39;00m \u001b[38;5;28;01melse\u001b[39;00m X\u001b[38;5;241m.\u001b[39mdtype\n\u001b[1;32m    117\u001b[0m             )\n\u001b[1;32m    118\u001b[0m         )\n\u001b[1;32m    119\u001b[0m \u001b[38;5;66;03m# for object dtype data, we only check for NaNs (GH-13254)\u001b[39;00m\n\u001b[1;32m    120\u001b[0m \u001b[38;5;28;01melif\u001b[39;00m X\u001b[38;5;241m.\u001b[39mdtype \u001b[38;5;241m==\u001b[39m np\u001b[38;5;241m.\u001b[39mdtype(\u001b[38;5;124m\"\u001b[39m\u001b[38;5;124mobject\u001b[39m\u001b[38;5;124m\"\u001b[39m) \u001b[38;5;129;01mand\u001b[39;00m \u001b[38;5;129;01mnot\u001b[39;00m allow_nan:\n",
      "\u001b[0;31mValueError\u001b[0m: Input contains NaN, infinity or a value too large for dtype('float32')."
     ]
    }
   ],
   "source": [
    "from sklearn.ensemble import ExtraTreesClassifier\n",
    "\n",
    "extra_tree = ExtraTreesClassifier()\n",
    "\n",
    "extra_tree.fit(x,y)\n",
    "\n",
    "feat_importance = extra_tree.feature_importances_"
   ]
  },
  {
   "cell_type": "code",
   "execution_count": null,
   "metadata": {
    "ExecuteTime": {
     "end_time": "2022-12-16T02:09:05.524366Z",
     "start_time": "2022-12-16T02:09:05.524330Z"
    },
    "execution": {
     "iopub.execute_input": "2022-10-16T07:47:47.158323Z",
     "iopub.status.busy": "2022-10-16T07:47:47.157378Z",
     "iopub.status.idle": "2022-10-16T07:47:47.403569Z",
     "shell.execute_reply": "2022-10-16T07:47:47.402993Z"
    },
    "papermill": {
     "duration": 0.360005,
     "end_time": "2022-10-16T07:47:47.403668",
     "exception": false,
     "start_time": "2022-10-16T07:47:47.043663",
     "status": "completed"
    },
    "tags": []
   },
   "outputs": [],
   "source": [
    "#plotting a feature importance\n",
    "plt.figure(figsize=(11,9))\n",
    "feat_imp = pd.Series(extra_tree.feature_importances_, index=x.columns)\n",
    "\n",
    "feat_imp.nlargest(20).plot(kind='barh')\n",
    "plt.show()"
   ]
  },
  {
   "cell_type": "markdown",
   "metadata": {
    "papermill": {
     "duration": 0.104234,
     "end_time": "2022-10-16T07:47:47.615028",
     "exception": false,
     "start_time": "2022-10-16T07:47:47.510794",
     "status": "completed"
    },
    "tags": []
   },
   "source": [
    "**OBSERVATIONS:** ****Factors Responsible for Employee Attrition****\n",
    "\n",
    "- OverTime has highest relationship with Attrition, Employee who do OverTime, changes or leaves the Job early. we have seen this above also during categorical variable analysis.\n",
    "- Age is 2nd factor responsible, it can be that who are senior, are retiring or the employees who are bachelor has more expectations more organization.\n",
    "- MonthlyIncome is also a greatest factor for employee to Attritate\n",
    "- StockOptionLevel, we have seen can be determing factor, because employees are in chance that they should be given priority and power and consider to have involvement to buy Company stocks.\n",
    "- EnvironmentSatisfaction, JobSatisfaction, DistanceFromHome, WorkLifeBalance, JobLevel is at same level affects equally to the organization employees base."
   ]
  },
  {
   "cell_type": "markdown",
   "metadata": {
    "papermill": {
     "duration": 0.104373,
     "end_time": "2022-10-16T07:47:47.823654",
     "exception": false,
     "start_time": "2022-10-16T07:47:47.719281",
     "status": "completed"
    },
    "tags": []
   },
   "source": [
    "### Feature Selection with Feature Scaling"
   ]
  },
  {
   "cell_type": "code",
   "execution_count": 62,
   "metadata": {
    "execution": {
     "iopub.execute_input": "2022-10-16T07:47:48.046646Z",
     "iopub.status.busy": "2022-10-16T07:47:48.045331Z",
     "iopub.status.idle": "2022-10-16T07:47:48.051668Z",
     "shell.execute_reply": "2022-10-16T07:47:48.051123Z"
    },
    "papermill": {
     "duration": 0.121242,
     "end_time": "2022-10-16T07:47:48.051766",
     "exception": false,
     "start_time": "2022-10-16T07:47:47.930524",
     "status": "completed"
    },
    "tags": []
   },
   "outputs": [],
   "source": [
    "from sklearn.preprocessing import MinMaxScaler\n",
    "\n",
    "min_max = MinMaxScaler()\n",
    "\n",
    "x_scaled = min_max.fit(x).transform(x)"
   ]
  },
  {
   "cell_type": "code",
   "execution_count": 63,
   "metadata": {
    "execution": {
     "iopub.execute_input": "2022-10-16T07:47:48.276064Z",
     "iopub.status.busy": "2022-10-16T07:47:48.275447Z",
     "iopub.status.idle": "2022-10-16T07:47:48.523504Z",
     "shell.execute_reply": "2022-10-16T07:47:48.522937Z"
    },
    "papermill": {
     "duration": 0.365549,
     "end_time": "2022-10-16T07:47:48.523615",
     "exception": false,
     "start_time": "2022-10-16T07:47:48.158066",
     "status": "completed"
    },
    "tags": []
   },
   "outputs": [
    {
     "data": {
      "text/plain": [
       "Age                         0.045035\n",
       "BusinessTravel              0.024545\n",
       "DailyRate                   0.031447\n",
       "Department                  0.022705\n",
       "DistanceFromHome            0.037340\n",
       "Education                   0.029658\n",
       "EducationField              0.032038\n",
       "EnvironmentSatisfaction     0.039297\n",
       "Gender                      0.019164\n",
       "HourlyRate                  0.031421\n",
       "JobInvolvement              0.032804\n",
       "JobLevel                    0.035260\n",
       "JobRole                     0.033627\n",
       "JobSatisfaction             0.035273\n",
       "MaritalStatus               0.028395\n",
       "MonthlyIncome               0.041826\n",
       "MonthlyRate                 0.030495\n",
       "NumCompaniesWorked          0.034467\n",
       "OverTime                    0.067992\n",
       "PercentSalaryHike           0.030453\n",
       "PerformanceRating           0.013190\n",
       "RelationshipSatisfaction    0.030291\n",
       "StockOptionLevel            0.037217\n",
       "TotalWorkingYears           0.038297\n",
       "TrainingTimesLastYear       0.030171\n",
       "WorkLifeBalance             0.035088\n",
       "YearsAtCompany              0.035136\n",
       "YearsInCurrentRole          0.032630\n",
       "YearsSinceLastPromotion     0.030352\n",
       "YearsWithCurrManager        0.034384\n",
       "dtype: float64"
      ]
     },
     "execution_count": 63,
     "metadata": {},
     "output_type": "execute_result"
    }
   ],
   "source": [
    "ExtraTree = ExtraTreesClassifier()\n",
    "\n",
    "ExtraTree.fit(x_scaled, y)\n",
    "\n",
    "feature_importance = pd.Series(ExtraTree.feature_importances_, index=x.columns)\n",
    "feature_importance"
   ]
  },
  {
   "cell_type": "code",
   "execution_count": 64,
   "metadata": {
    "execution": {
     "iopub.execute_input": "2022-10-16T07:47:48.763472Z",
     "iopub.status.busy": "2022-10-16T07:47:48.762763Z",
     "iopub.status.idle": "2022-10-16T07:47:48.972051Z",
     "shell.execute_reply": "2022-10-16T07:47:48.971567Z"
    },
    "papermill": {
     "duration": 0.339437,
     "end_time": "2022-10-16T07:47:48.972150",
     "exception": false,
     "start_time": "2022-10-16T07:47:48.632713",
     "status": "completed"
    },
    "tags": []
   },
   "outputs": [
    {
     "data": {
      "image/png": "[encoded data removed]",
      "text/plain": [
       "<Figure size 720x648 with 1 Axes>"
      ]
     },
     "metadata": {
      "needs_background": "light"
     },
     "output_type": "display_data"
    }
   ],
   "source": [
    "plt.figure(figsize=(10,9))\n",
    "feature_importance.nlargest(20).plot(kind='barh')\n",
    "plt.show()"
   ]
  },
  {
   "cell_type": "markdown",
   "metadata": {
    "papermill": {
     "duration": 0.108405,
     "end_time": "2022-10-16T07:47:49.189852",
     "exception": false,
     "start_time": "2022-10-16T07:47:49.081447",
     "status": "completed"
    },
    "tags": []
   },
   "source": [
    "- Only a little bit of changed occured due to scaling the features that, can be proved strong from modelling part."
   ]
  },
  {
   "cell_type": "markdown",
   "metadata": {
    "papermill": {
     "duration": 0.120457,
     "end_time": "2022-10-16T07:47:49.418388",
     "exception": false,
     "start_time": "2022-10-16T07:47:49.297931",
     "status": "completed"
    },
    "tags": []
   },
   "source": [
    "## Modelling"
   ]
  },
  {
   "cell_type": "code",
   "execution_count": 63,
   "metadata": {
    "ExecuteTime": {
     "end_time": "2022-12-16T02:26:25.278237Z",
     "start_time": "2022-12-16T02:26:25.273102Z"
    },
    "execution": {
     "iopub.execute_input": "2022-10-16T07:47:49.641735Z",
     "iopub.status.busy": "2022-10-16T07:47:49.641000Z",
     "iopub.status.idle": "2022-10-16T07:47:49.643095Z",
     "shell.execute_reply": "2022-10-16T07:47:49.643548Z"
    },
    "papermill": {
     "duration": 0.117556,
     "end_time": "2022-10-16T07:47:49.643678",
     "exception": false,
     "start_time": "2022-10-16T07:47:49.526122",
     "status": "completed"
    },
    "tags": []
   },
   "outputs": [],
   "source": [
    "from sklearn.model_selection import train_test_split\n",
    "\n",
    "from sklearn.linear_model import LogisticRegression\n",
    "from sklearn.svm import SVC\n",
    "from sklearn.neighbors import KNeighborsClassifier\n",
    "from sklearn.tree import DecisionTreeClassifier\n",
    "from sklearn.ensemble import RandomForestClassifier\n",
    "\n",
    "#metrics\n",
    "from sklearn.metrics import accuracy_score, classification_report"
   ]
  },
  {
   "cell_type": "code",
   "execution_count": 64,
   "metadata": {
    "ExecuteTime": {
     "end_time": "2022-12-16T02:26:26.462596Z",
     "start_time": "2022-12-16T02:26:26.451936Z"
    },
    "execution": {
     "iopub.execute_input": "2022-10-16T07:47:49.866118Z",
     "iopub.status.busy": "2022-10-16T07:47:49.865350Z",
     "iopub.status.idle": "2022-10-16T07:47:49.875105Z",
     "shell.execute_reply": "2022-10-16T07:47:49.875519Z"
    },
    "papermill": {
     "duration": 0.121002,
     "end_time": "2022-10-16T07:47:49.875653",
     "exception": false,
     "start_time": "2022-10-16T07:47:49.754651",
     "status": "completed"
    },
    "tags": []
   },
   "outputs": [
    {
     "name": "stdout",
     "output_type": "stream",
     "text": [
      "training shape:  (771, 30)\n",
      "testing shape:  (258, 30)\n"
     ]
    }
   ],
   "source": [
    "#split data into train and test set.\n",
    "x_train,x_test,y_train,y_test = train_test_split(x,y,test_size=0.25,random_state=42)\n",
    "print(\"training shape: \",x_train.shape)\n",
    "print(\"testing shape: \",x_test.shape)"
   ]
  },
  {
   "cell_type": "code",
   "execution_count": 65,
   "metadata": {
    "ExecuteTime": {
     "end_time": "2022-12-16T02:26:29.363380Z",
     "start_time": "2022-12-16T02:26:29.356822Z"
    },
    "execution": {
     "iopub.execute_input": "2022-10-16T07:47:50.095620Z",
     "iopub.status.busy": "2022-10-16T07:47:50.095108Z",
     "iopub.status.idle": "2022-10-16T07:47:50.099385Z",
     "shell.execute_reply": "2022-10-16T07:47:50.099820Z"
    },
    "papermill": {
     "duration": 0.11534,
     "end_time": "2022-10-16T07:47:50.099977",
     "exception": false,
     "start_time": "2022-10-16T07:47:49.984637",
     "status": "completed"
    },
    "tags": []
   },
   "outputs": [],
   "source": [
    "#models\n",
    "log_clf = LogisticRegression()\n",
    "svc_clf = SVC()\n",
    "knn_clf = KNeighborsClassifier()\n",
    "dt_clf = DecisionTreeClassifier()\n",
    "rf_clf = RandomForestClassifier()"
   ]
  },
  {
   "cell_type": "code",
   "execution_count": 67,
   "metadata": {
    "ExecuteTime": {
     "end_time": "2022-12-16T02:28:04.516070Z",
     "start_time": "2022-12-16T02:28:04.355815Z"
    },
    "execution": {
     "iopub.execute_input": "2022-10-16T07:47:50.332051Z",
     "iopub.status.busy": "2022-10-16T07:47:50.331477Z",
     "iopub.status.idle": "2022-10-16T07:47:50.741822Z",
     "shell.execute_reply": "2022-10-16T07:47:50.742316Z"
    },
    "papermill": {
     "duration": 0.528745,
     "end_time": "2022-10-16T07:47:50.742434",
     "exception": false,
     "start_time": "2022-10-16T07:47:50.213689",
     "status": "completed"
    },
    "tags": []
   },
   "outputs": [
    {
     "ename": "ValueError",
     "evalue": "Input contains NaN, infinity or a value too large for dtype('float64').",
     "output_type": "error",
     "traceback": [
      "\u001b[0;31m---------------------------------------------------------------------------\u001b[0m",
      "\u001b[0;31mValueError\u001b[0m                                Traceback (most recent call last)",
      "Input \u001b[0;32mIn [67]\u001b[0m, in \u001b[0;36m<cell line: 2>\u001b[0;34m()\u001b[0m\n\u001b[1;32m      1\u001b[0m \u001b[38;5;66;03m# first check the accuracy score on without scalled features\u001b[39;00m\n\u001b[1;32m      2\u001b[0m \u001b[38;5;28;01mfor\u001b[39;00m clf \u001b[38;5;129;01min\u001b[39;00m [log_clf, svc_clf, knn_clf, dt_clf, rf_clf]:\n\u001b[0;32m----> 3\u001b[0m     \u001b[43mclf\u001b[49m\u001b[38;5;241;43m.\u001b[39;49m\u001b[43mfit\u001b[49m\u001b[43m(\u001b[49m\u001b[43mx_train\u001b[49m\u001b[43m,\u001b[49m\u001b[43m \u001b[49m\u001b[43my_train\u001b[49m\u001b[43m)\u001b[49m\n\u001b[1;32m      5\u001b[0m     pred \u001b[38;5;241m=\u001b[39m clf\u001b[38;5;241m.\u001b[39mpredict(x_test)\n\u001b[1;32m      7\u001b[0m     \u001b[38;5;28mprint\u001b[39m(clf\u001b[38;5;241m.\u001b[39m\u001b[38;5;18m__class__\u001b[39m\u001b[38;5;241m.\u001b[39m\u001b[38;5;18m__name__\u001b[39m, \u001b[38;5;124m\"\u001b[39m\u001b[38;5;124m \u001b[39m\u001b[38;5;124m\"\u001b[39m, accuracy_score(y_test,pred))\n",
      "File \u001b[0;32m~/opt/anaconda3/lib/python3.9/site-packages/sklearn/linear_model/_logistic.py:1508\u001b[0m, in \u001b[0;36mLogisticRegression.fit\u001b[0;34m(self, X, y, sample_weight)\u001b[0m\n\u001b[1;32m   1505\u001b[0m \u001b[38;5;28;01melse\u001b[39;00m:\n\u001b[1;32m   1506\u001b[0m     _dtype \u001b[38;5;241m=\u001b[39m [np\u001b[38;5;241m.\u001b[39mfloat64, np\u001b[38;5;241m.\u001b[39mfloat32]\n\u001b[0;32m-> 1508\u001b[0m X, y \u001b[38;5;241m=\u001b[39m \u001b[38;5;28;43mself\u001b[39;49m\u001b[38;5;241;43m.\u001b[39;49m\u001b[43m_validate_data\u001b[49m\u001b[43m(\u001b[49m\n\u001b[1;32m   1509\u001b[0m \u001b[43m    \u001b[49m\u001b[43mX\u001b[49m\u001b[43m,\u001b[49m\n\u001b[1;32m   1510\u001b[0m \u001b[43m    \u001b[49m\u001b[43my\u001b[49m\u001b[43m,\u001b[49m\n\u001b[1;32m   1511\u001b[0m \u001b[43m    \u001b[49m\u001b[43maccept_sparse\u001b[49m\u001b[38;5;241;43m=\u001b[39;49m\u001b[38;5;124;43m\"\u001b[39;49m\u001b[38;5;124;43mcsr\u001b[39;49m\u001b[38;5;124;43m\"\u001b[39;49m\u001b[43m,\u001b[49m\n\u001b[1;32m   1512\u001b[0m \u001b[43m    \u001b[49m\u001b[43mdtype\u001b[49m\u001b[38;5;241;43m=\u001b[39;49m\u001b[43m_dtype\u001b[49m\u001b[43m,\u001b[49m\n\u001b[1;32m   1513\u001b[0m \u001b[43m    \u001b[49m\u001b[43morder\u001b[49m\u001b[38;5;241;43m=\u001b[39;49m\u001b[38;5;124;43m\"\u001b[39;49m\u001b[38;5;124;43mC\u001b[39;49m\u001b[38;5;124;43m\"\u001b[39;49m\u001b[43m,\u001b[49m\n\u001b[1;32m   1514\u001b[0m \u001b[43m    \u001b[49m\u001b[43maccept_large_sparse\u001b[49m\u001b[38;5;241;43m=\u001b[39;49m\u001b[43msolver\u001b[49m\u001b[43m \u001b[49m\u001b[38;5;129;43;01mnot\u001b[39;49;00m\u001b[43m \u001b[49m\u001b[38;5;129;43;01min\u001b[39;49;00m\u001b[43m \u001b[49m\u001b[43m[\u001b[49m\u001b[38;5;124;43m\"\u001b[39;49m\u001b[38;5;124;43mliblinear\u001b[39;49m\u001b[38;5;124;43m\"\u001b[39;49m\u001b[43m,\u001b[49m\u001b[43m \u001b[49m\u001b[38;5;124;43m\"\u001b[39;49m\u001b[38;5;124;43msag\u001b[39;49m\u001b[38;5;124;43m\"\u001b[39;49m\u001b[43m,\u001b[49m\u001b[43m \u001b[49m\u001b[38;5;124;43m\"\u001b[39;49m\u001b[38;5;124;43msaga\u001b[39;49m\u001b[38;5;124;43m\"\u001b[39;49m\u001b[43m]\u001b[49m\u001b[43m,\u001b[49m\n\u001b[1;32m   1515\u001b[0m \u001b[43m\u001b[49m\u001b[43m)\u001b[49m\n\u001b[1;32m   1516\u001b[0m check_classification_targets(y)\n\u001b[1;32m   1517\u001b[0m \u001b[38;5;28mself\u001b[39m\u001b[38;5;241m.\u001b[39mclasses_ \u001b[38;5;241m=\u001b[39m np\u001b[38;5;241m.\u001b[39munique(y)\n",
      "File \u001b[0;32m~/opt/anaconda3/lib/python3.9/site-packages/sklearn/base.py:581\u001b[0m, in \u001b[0;36mBaseEstimator._validate_data\u001b[0;34m(self, X, y, reset, validate_separately, **check_params)\u001b[0m\n\u001b[1;32m    579\u001b[0m         y \u001b[38;5;241m=\u001b[39m check_array(y, \u001b[38;5;241m*\u001b[39m\u001b[38;5;241m*\u001b[39mcheck_y_params)\n\u001b[1;32m    580\u001b[0m     \u001b[38;5;28;01melse\u001b[39;00m:\n\u001b[0;32m--> 581\u001b[0m         X, y \u001b[38;5;241m=\u001b[39m \u001b[43mcheck_X_y\u001b[49m\u001b[43m(\u001b[49m\u001b[43mX\u001b[49m\u001b[43m,\u001b[49m\u001b[43m \u001b[49m\u001b[43my\u001b[49m\u001b[43m,\u001b[49m\u001b[43m \u001b[49m\u001b[38;5;241;43m*\u001b[39;49m\u001b[38;5;241;43m*\u001b[39;49m\u001b[43mcheck_params\u001b[49m\u001b[43m)\u001b[49m\n\u001b[1;32m    582\u001b[0m     out \u001b[38;5;241m=\u001b[39m X, y\n\u001b[1;32m    584\u001b[0m \u001b[38;5;28;01mif\u001b[39;00m \u001b[38;5;129;01mnot\u001b[39;00m no_val_X \u001b[38;5;129;01mand\u001b[39;00m check_params\u001b[38;5;241m.\u001b[39mget(\u001b[38;5;124m\"\u001b[39m\u001b[38;5;124mensure_2d\u001b[39m\u001b[38;5;124m\"\u001b[39m, \u001b[38;5;28;01mTrue\u001b[39;00m):\n",
      "File \u001b[0;32m~/opt/anaconda3/lib/python3.9/site-packages/sklearn/utils/validation.py:964\u001b[0m, in \u001b[0;36mcheck_X_y\u001b[0;34m(X, y, accept_sparse, accept_large_sparse, dtype, order, copy, force_all_finite, ensure_2d, allow_nd, multi_output, ensure_min_samples, ensure_min_features, y_numeric, estimator)\u001b[0m\n\u001b[1;32m    961\u001b[0m \u001b[38;5;28;01mif\u001b[39;00m y \u001b[38;5;129;01mis\u001b[39;00m \u001b[38;5;28;01mNone\u001b[39;00m:\n\u001b[1;32m    962\u001b[0m     \u001b[38;5;28;01mraise\u001b[39;00m \u001b[38;5;167;01mValueError\u001b[39;00m(\u001b[38;5;124m\"\u001b[39m\u001b[38;5;124my cannot be None\u001b[39m\u001b[38;5;124m\"\u001b[39m)\n\u001b[0;32m--> 964\u001b[0m X \u001b[38;5;241m=\u001b[39m \u001b[43mcheck_array\u001b[49m\u001b[43m(\u001b[49m\n\u001b[1;32m    965\u001b[0m \u001b[43m    \u001b[49m\u001b[43mX\u001b[49m\u001b[43m,\u001b[49m\n\u001b[1;32m    966\u001b[0m \u001b[43m    \u001b[49m\u001b[43maccept_sparse\u001b[49m\u001b[38;5;241;43m=\u001b[39;49m\u001b[43maccept_sparse\u001b[49m\u001b[43m,\u001b[49m\n\u001b[1;32m    967\u001b[0m \u001b[43m    \u001b[49m\u001b[43maccept_large_sparse\u001b[49m\u001b[38;5;241;43m=\u001b[39;49m\u001b[43maccept_large_sparse\u001b[49m\u001b[43m,\u001b[49m\n\u001b[1;32m    968\u001b[0m \u001b[43m    \u001b[49m\u001b[43mdtype\u001b[49m\u001b[38;5;241;43m=\u001b[39;49m\u001b[43mdtype\u001b[49m\u001b[43m,\u001b[49m\n\u001b[1;32m    969\u001b[0m \u001b[43m    \u001b[49m\u001b[43morder\u001b[49m\u001b[38;5;241;43m=\u001b[39;49m\u001b[43morder\u001b[49m\u001b[43m,\u001b[49m\n\u001b[1;32m    970\u001b[0m \u001b[43m    \u001b[49m\u001b[43mcopy\u001b[49m\u001b[38;5;241;43m=\u001b[39;49m\u001b[43mcopy\u001b[49m\u001b[43m,\u001b[49m\n\u001b[1;32m    971\u001b[0m \u001b[43m    \u001b[49m\u001b[43mforce_all_finite\u001b[49m\u001b[38;5;241;43m=\u001b[39;49m\u001b[43mforce_all_finite\u001b[49m\u001b[43m,\u001b[49m\n\u001b[1;32m    972\u001b[0m \u001b[43m    \u001b[49m\u001b[43mensure_2d\u001b[49m\u001b[38;5;241;43m=\u001b[39;49m\u001b[43mensure_2d\u001b[49m\u001b[43m,\u001b[49m\n\u001b[1;32m    973\u001b[0m \u001b[43m    \u001b[49m\u001b[43mallow_nd\u001b[49m\u001b[38;5;241;43m=\u001b[39;49m\u001b[43mallow_nd\u001b[49m\u001b[43m,\u001b[49m\n\u001b[1;32m    974\u001b[0m \u001b[43m    \u001b[49m\u001b[43mensure_min_samples\u001b[49m\u001b[38;5;241;43m=\u001b[39;49m\u001b[43mensure_min_samples\u001b[49m\u001b[43m,\u001b[49m\n\u001b[1;32m    975\u001b[0m \u001b[43m    \u001b[49m\u001b[43mensure_min_features\u001b[49m\u001b[38;5;241;43m=\u001b[39;49m\u001b[43mensure_min_features\u001b[49m\u001b[43m,\u001b[49m\n\u001b[1;32m    976\u001b[0m \u001b[43m    \u001b[49m\u001b[43mestimator\u001b[49m\u001b[38;5;241;43m=\u001b[39;49m\u001b[43mestimator\u001b[49m\u001b[43m,\u001b[49m\n\u001b[1;32m    977\u001b[0m \u001b[43m\u001b[49m\u001b[43m)\u001b[49m\n\u001b[1;32m    979\u001b[0m y \u001b[38;5;241m=\u001b[39m _check_y(y, multi_output\u001b[38;5;241m=\u001b[39mmulti_output, y_numeric\u001b[38;5;241m=\u001b[39my_numeric)\n\u001b[1;32m    981\u001b[0m check_consistent_length(X, y)\n",
      "File \u001b[0;32m~/opt/anaconda3/lib/python3.9/site-packages/sklearn/utils/validation.py:800\u001b[0m, in \u001b[0;36mcheck_array\u001b[0;34m(array, accept_sparse, accept_large_sparse, dtype, order, copy, force_all_finite, ensure_2d, allow_nd, ensure_min_samples, ensure_min_features, estimator)\u001b[0m\n\u001b[1;32m    794\u001b[0m         \u001b[38;5;28;01mraise\u001b[39;00m \u001b[38;5;167;01mValueError\u001b[39;00m(\n\u001b[1;32m    795\u001b[0m             \u001b[38;5;124m\"\u001b[39m\u001b[38;5;124mFound array with dim \u001b[39m\u001b[38;5;132;01m%d\u001b[39;00m\u001b[38;5;124m. \u001b[39m\u001b[38;5;132;01m%s\u001b[39;00m\u001b[38;5;124m expected <= 2.\u001b[39m\u001b[38;5;124m\"\u001b[39m\n\u001b[1;32m    796\u001b[0m             \u001b[38;5;241m%\u001b[39m (array\u001b[38;5;241m.\u001b[39mndim, estimator_name)\n\u001b[1;32m    797\u001b[0m         )\n\u001b[1;32m    799\u001b[0m     \u001b[38;5;28;01mif\u001b[39;00m force_all_finite:\n\u001b[0;32m--> 800\u001b[0m         \u001b[43m_assert_all_finite\u001b[49m\u001b[43m(\u001b[49m\u001b[43marray\u001b[49m\u001b[43m,\u001b[49m\u001b[43m \u001b[49m\u001b[43mallow_nan\u001b[49m\u001b[38;5;241;43m=\u001b[39;49m\u001b[43mforce_all_finite\u001b[49m\u001b[43m \u001b[49m\u001b[38;5;241;43m==\u001b[39;49m\u001b[43m \u001b[49m\u001b[38;5;124;43m\"\u001b[39;49m\u001b[38;5;124;43mallow-nan\u001b[39;49m\u001b[38;5;124;43m\"\u001b[39;49m\u001b[43m)\u001b[49m\n\u001b[1;32m    802\u001b[0m \u001b[38;5;28;01mif\u001b[39;00m ensure_min_samples \u001b[38;5;241m>\u001b[39m \u001b[38;5;241m0\u001b[39m:\n\u001b[1;32m    803\u001b[0m     n_samples \u001b[38;5;241m=\u001b[39m _num_samples(array)\n",
      "File \u001b[0;32m~/opt/anaconda3/lib/python3.9/site-packages/sklearn/utils/validation.py:114\u001b[0m, in \u001b[0;36m_assert_all_finite\u001b[0;34m(X, allow_nan, msg_dtype)\u001b[0m\n\u001b[1;32m    107\u001b[0m     \u001b[38;5;28;01mif\u001b[39;00m (\n\u001b[1;32m    108\u001b[0m         allow_nan\n\u001b[1;32m    109\u001b[0m         \u001b[38;5;129;01mand\u001b[39;00m np\u001b[38;5;241m.\u001b[39misinf(X)\u001b[38;5;241m.\u001b[39many()\n\u001b[1;32m    110\u001b[0m         \u001b[38;5;129;01mor\u001b[39;00m \u001b[38;5;129;01mnot\u001b[39;00m allow_nan\n\u001b[1;32m    111\u001b[0m         \u001b[38;5;129;01mand\u001b[39;00m \u001b[38;5;129;01mnot\u001b[39;00m np\u001b[38;5;241m.\u001b[39misfinite(X)\u001b[38;5;241m.\u001b[39mall()\n\u001b[1;32m    112\u001b[0m     ):\n\u001b[1;32m    113\u001b[0m         type_err \u001b[38;5;241m=\u001b[39m \u001b[38;5;124m\"\u001b[39m\u001b[38;5;124minfinity\u001b[39m\u001b[38;5;124m\"\u001b[39m \u001b[38;5;28;01mif\u001b[39;00m allow_nan \u001b[38;5;28;01melse\u001b[39;00m \u001b[38;5;124m\"\u001b[39m\u001b[38;5;124mNaN, infinity\u001b[39m\u001b[38;5;124m\"\u001b[39m\n\u001b[0;32m--> 114\u001b[0m         \u001b[38;5;28;01mraise\u001b[39;00m \u001b[38;5;167;01mValueError\u001b[39;00m(\n\u001b[1;32m    115\u001b[0m             msg_err\u001b[38;5;241m.\u001b[39mformat(\n\u001b[1;32m    116\u001b[0m                 type_err, msg_dtype \u001b[38;5;28;01mif\u001b[39;00m msg_dtype \u001b[38;5;129;01mis\u001b[39;00m \u001b[38;5;129;01mnot\u001b[39;00m \u001b[38;5;28;01mNone\u001b[39;00m \u001b[38;5;28;01melse\u001b[39;00m X\u001b[38;5;241m.\u001b[39mdtype\n\u001b[1;32m    117\u001b[0m             )\n\u001b[1;32m    118\u001b[0m         )\n\u001b[1;32m    119\u001b[0m \u001b[38;5;66;03m# for object dtype data, we only check for NaNs (GH-13254)\u001b[39;00m\n\u001b[1;32m    120\u001b[0m \u001b[38;5;28;01melif\u001b[39;00m X\u001b[38;5;241m.\u001b[39mdtype \u001b[38;5;241m==\u001b[39m np\u001b[38;5;241m.\u001b[39mdtype(\u001b[38;5;124m\"\u001b[39m\u001b[38;5;124mobject\u001b[39m\u001b[38;5;124m\"\u001b[39m) \u001b[38;5;129;01mand\u001b[39;00m \u001b[38;5;129;01mnot\u001b[39;00m allow_nan:\n",
      "\u001b[0;31mValueError\u001b[0m: Input contains NaN, infinity or a value too large for dtype('float64')."
     ]
    }
   ],
   "source": [
    "# first check the accuracy score on without scalled features\n",
    "for clf in [log_clf, svc_clf, knn_clf, dt_clf, rf_clf]:\n",
    "    clf.fit(x_train, y_train)\n",
    "    \n",
    "    pred = clf.predict(x_test)\n",
    "    \n",
    "    print(clf.__class__.__name__, \" \", accuracy_score(y_test,pred))"
   ]
  },
  {
   "cell_type": "code",
   "execution_count": 69,
   "metadata": {
    "execution": {
     "iopub.execute_input": "2022-10-16T07:47:50.960526Z",
     "iopub.status.busy": "2022-10-16T07:47:50.960014Z",
     "iopub.status.idle": "2022-10-16T07:47:51.374099Z",
     "shell.execute_reply": "2022-10-16T07:47:51.373521Z"
    },
    "papermill": {
     "duration": 0.526019,
     "end_time": "2022-10-16T07:47:51.374202",
     "exception": false,
     "start_time": "2022-10-16T07:47:50.848183",
     "status": "completed"
    },
    "tags": []
   },
   "outputs": [
    {
     "name": "stdout",
     "output_type": "stream",
     "text": [
      "acuracy:  0.8695652173913043\n"
     ]
    }
   ],
   "source": [
    "# let's try out VotingClassifier\n",
    "from sklearn.ensemble import VotingClassifier\n",
    "\n",
    "voting_clf =VotingClassifier([('lgclf',log_clf),('svc',svc_clf),('knn',knn_clf),('dt',dt_clf),('rf',rf_clf)])\n",
    "\n",
    "voting_clf.fit(x_train,y_train)\n",
    "\n",
    "y_pred = voting_clf.predict(x_test)\n",
    "print(\"acuracy: \",accuracy_score(y_test,y_pred))"
   ]
  },
  {
   "cell_type": "code",
   "execution_count": 70,
   "metadata": {
    "execution": {
     "iopub.execute_input": "2022-10-16T07:47:51.597343Z",
     "iopub.status.busy": "2022-10-16T07:47:51.596566Z",
     "iopub.status.idle": "2022-10-16T07:47:51.603553Z",
     "shell.execute_reply": "2022-10-16T07:47:51.603097Z"
    },
    "papermill": {
     "duration": 0.121555,
     "end_time": "2022-10-16T07:47:51.603659",
     "exception": false,
     "start_time": "2022-10-16T07:47:51.482104",
     "status": "completed"
    },
    "tags": []
   },
   "outputs": [
    {
     "name": "stdout",
     "output_type": "stream",
     "text": [
      "training shape:  (1102, 30)\n",
      "testing shape:  (368, 30)\n"
     ]
    }
   ],
   "source": [
    "# if we do same thing on scaled features\n",
    "#split data into train and test set using scaled data.\n",
    "x_train_scaled,x_test_scaled,y_train_scaled,y_test_scaled = train_test_split(x_scaled,y,test_size=0.25,random_state=42)\n",
    "print(\"training shape: \",x_train_scaled.shape)\n",
    "print(\"testing shape: \",x_test_scaled.shape)"
   ]
  },
  {
   "cell_type": "code",
   "execution_count": 71,
   "metadata": {
    "execution": {
     "iopub.execute_input": "2022-10-16T07:47:51.830851Z",
     "iopub.status.busy": "2022-10-16T07:47:51.830138Z",
     "iopub.status.idle": "2022-10-16T07:47:52.230036Z",
     "shell.execute_reply": "2022-10-16T07:47:52.229493Z"
    },
    "papermill": {
     "duration": 0.516907,
     "end_time": "2022-10-16T07:47:52.230140",
     "exception": false,
     "start_time": "2022-10-16T07:47:51.713233",
     "status": "completed"
    },
    "tags": []
   },
   "outputs": [
    {
     "name": "stdout",
     "output_type": "stream",
     "text": [
      "LogisticRegression   0.904891304347826\n",
      "SVC   0.8831521739130435\n",
      "KNeighborsClassifier   0.875\n",
      "DecisionTreeClassifier   0.8097826086956522\n",
      "RandomForestClassifier   0.875\n"
     ]
    }
   ],
   "source": [
    "# Now check the accuracy score on scalled features\n",
    "for clf in [log_clf, svc_clf, knn_clf, dt_clf, rf_clf]:\n",
    "    clf.fit(x_train_scaled, y_train_scaled)\n",
    "    \n",
    "    pred = clf.predict(x_test_scaled)\n",
    "    \n",
    "    print(clf.__class__.__name__, \" \", accuracy_score(y_test,pred))"
   ]
  },
  {
   "cell_type": "code",
   "execution_count": 72,
   "metadata": {
    "execution": {
     "iopub.execute_input": "2022-10-16T07:47:52.459492Z",
     "iopub.status.busy": "2022-10-16T07:47:52.458275Z",
     "iopub.status.idle": "2022-10-16T07:47:52.868990Z",
     "shell.execute_reply": "2022-10-16T07:47:52.868317Z"
    },
    "papermill": {
     "duration": 0.53178,
     "end_time": "2022-10-16T07:47:52.869122",
     "exception": false,
     "start_time": "2022-10-16T07:47:52.337342",
     "status": "completed"
    },
    "tags": []
   },
   "outputs": [
    {
     "name": "stdout",
     "output_type": "stream",
     "text": [
      "acuracy:  0.8940217391304348\n"
     ]
    }
   ],
   "source": [
    "# try votingClf with scaled data\n",
    "\n",
    "voting_clf =VotingClassifier([('lgclf',log_clf),('svc',svc_clf),('knn',knn_clf),('dt',dt_clf),('rf',rf_clf)])\n",
    "\n",
    "voting_clf.fit(x_train_scaled,y_train_scaled)\n",
    "\n",
    "y_pred = voting_clf.predict(x_test_scaled)\n",
    "print(\"acuracy: \",accuracy_score(y_test_scaled,y_pred))"
   ]
  },
  {
   "cell_type": "markdown",
   "metadata": {
    "papermill": {
     "duration": 0.105977,
     "end_time": "2022-10-16T07:47:53.094069",
     "exception": false,
     "start_time": "2022-10-16T07:47:52.988092",
     "status": "completed"
    },
    "tags": []
   },
   "source": [
    "**This is reason why Feature Scaling is used. by scaling down the features we are able to achieve better accuracy**"
   ]
  },
  {
   "cell_type": "markdown",
   "metadata": {
    "papermill": {
     "duration": 0.108574,
     "end_time": "2022-10-16T07:47:53.309497",
     "exception": false,
     "start_time": "2022-10-16T07:47:53.200923",
     "status": "completed"
    },
    "tags": []
   },
   "source": [
    "**ADABOOST:** Adaboost is a boosting algoritm, which works on concept of errror correction using the concept of SAMME(Stagwise Adaptive Multimodelling using Multiclass exponential loss function) algorithm. It works sequentially by building a sequential model that works on a error generated by previous model. Repeatedly it do this process untill iterations are over of error becomes 0. Thus, it exploits the dependency between the models and different from Bagging(RandomForest).\n",
    "\n",
    "**XGBoost:** Xgboost is an extension to GBM, for better speed and performance. It is trained in additive manner. It prevents the overfitting, and outliers. for xgboost we also no need to impute missing values, it takes care of that too.  "
   ]
  },
  {
   "cell_type": "code",
   "execution_count": 73,
   "metadata": {
    "execution": {
     "iopub.execute_input": "2022-10-16T07:47:53.526506Z",
     "iopub.status.busy": "2022-10-16T07:47:53.525946Z",
     "iopub.status.idle": "2022-10-16T07:47:53.810892Z",
     "shell.execute_reply": "2022-10-16T07:47:53.810439Z"
    },
    "papermill": {
     "duration": 0.395026,
     "end_time": "2022-10-16T07:47:53.811018",
     "exception": false,
     "start_time": "2022-10-16T07:47:53.415992",
     "status": "completed"
    },
    "tags": []
   },
   "outputs": [],
   "source": [
    "from sklearn.ensemble import AdaBoostClassifier\n",
    "from xgboost import XGBClassifier"
   ]
  },
  {
   "cell_type": "code",
   "execution_count": 74,
   "metadata": {
    "execution": {
     "iopub.execute_input": "2022-10-16T07:47:54.038422Z",
     "iopub.status.busy": "2022-10-16T07:47:54.037817Z",
     "iopub.status.idle": "2022-10-16T07:47:55.370323Z",
     "shell.execute_reply": "2022-10-16T07:47:55.370842Z"
    },
    "papermill": {
     "duration": 1.450973,
     "end_time": "2022-10-16T07:47:55.371303",
     "exception": false,
     "start_time": "2022-10-16T07:47:53.920330",
     "status": "completed"
    },
    "tags": []
   },
   "outputs": [
    {
     "name": "stdout",
     "output_type": "stream",
     "text": [
      "accuracy: 0.8722826086956522\n"
     ]
    }
   ],
   "source": [
    "boost = AdaBoostClassifier(base_estimator = DecisionTreeClassifier(max_depth=1), n_estimators=500, algorithm='SAMME',learning_rate=0.01)\n",
    "\n",
    "boost.fit(x_train_scaled,y_train_scaled)\n",
    "\n",
    "predictions = boost.predict(x_test_scaled)\n",
    "\n",
    "print(\"accuracy:\",accuracy_score(y_test,predictions))"
   ]
  },
  {
   "cell_type": "code",
   "execution_count": 75,
   "metadata": {
    "execution": {
     "iopub.execute_input": "2022-10-16T07:47:55.587990Z",
     "iopub.status.busy": "2022-10-16T07:47:55.587397Z",
     "iopub.status.idle": "2022-10-16T07:47:55.709866Z",
     "shell.execute_reply": "2022-10-16T07:47:55.710460Z"
    },
    "papermill": {
     "duration": 0.232629,
     "end_time": "2022-10-16T07:47:55.710616",
     "exception": false,
     "start_time": "2022-10-16T07:47:55.477987",
     "status": "completed"
    },
    "tags": []
   },
   "outputs": [
    {
     "name": "stdout",
     "output_type": "stream",
     "text": [
      "training accuracy: 0.837568058076225\n",
      "testing accuracy: 0.8722826086956522\n"
     ]
    }
   ],
   "source": [
    "#training accuracy\n",
    "print(\"training accuracy:\",boost.score(x_train_scaled,y_train_scaled))\n",
    "print(\"testing accuracy:\",boost.score(x_test_scaled,y_test_scaled))"
   ]
  },
  {
   "cell_type": "code",
   "execution_count": 76,
   "metadata": {
    "execution": {
     "iopub.execute_input": "2022-10-16T07:47:55.936493Z",
     "iopub.status.busy": "2022-10-16T07:47:55.935938Z",
     "iopub.status.idle": "2022-10-16T07:47:56.063449Z",
     "shell.execute_reply": "2022-10-16T07:47:56.064204Z"
    },
    "papermill": {
     "duration": 0.24081,
     "end_time": "2022-10-16T07:47:56.064341",
     "exception": false,
     "start_time": "2022-10-16T07:47:55.823531",
     "status": "completed"
    },
    "tags": []
   },
   "outputs": [
    {
     "name": "stdout",
     "output_type": "stream",
     "text": [
      "accuracy:  0.8804347826086957\n"
     ]
    }
   ],
   "source": [
    "# XGBOOST\n",
    "xgb = XGBClassifier()\n",
    "\n",
    "xgb.fit(x_train_scaled, y_train_scaled)\n",
    "\n",
    "prediction = xgb.predict(x_test_scaled)\n",
    "\n",
    "print(\"accuracy: \",accuracy_score(y_test,prediction))"
   ]
  },
  {
   "cell_type": "markdown",
   "metadata": {
    "papermill": {
     "duration": 0.122653,
     "end_time": "2022-10-16T07:47:56.323896",
     "exception": false,
     "start_time": "2022-10-16T07:47:56.201243",
     "status": "completed"
    },
    "tags": []
   },
   "source": [
    "## Hyperparameter(Performance) Tuning"
   ]
  },
  {
   "cell_type": "code",
   "execution_count": 77,
   "metadata": {
    "execution": {
     "iopub.execute_input": "2022-10-16T07:47:56.549157Z",
     "iopub.status.busy": "2022-10-16T07:47:56.548599Z",
     "iopub.status.idle": "2022-10-16T07:47:56.552721Z",
     "shell.execute_reply": "2022-10-16T07:47:56.552203Z"
    },
    "papermill": {
     "duration": 0.116567,
     "end_time": "2022-10-16T07:47:56.552821",
     "exception": false,
     "start_time": "2022-10-16T07:47:56.436254",
     "status": "completed"
    },
    "tags": []
   },
   "outputs": [],
   "source": [
    "from sklearn.model_selection import RandomizedSearchCV\n",
    "from sklearn.model_selection import cross_val_score"
   ]
  },
  {
   "cell_type": "code",
   "execution_count": 78,
   "metadata": {
    "execution": {
     "iopub.execute_input": "2022-10-16T07:47:56.772534Z",
     "iopub.status.busy": "2022-10-16T07:47:56.771969Z",
     "iopub.status.idle": "2022-10-16T07:47:56.782214Z",
     "shell.execute_reply": "2022-10-16T07:47:56.781722Z"
    },
    "papermill": {
     "duration": 0.119967,
     "end_time": "2022-10-16T07:47:56.782320",
     "exception": false,
     "start_time": "2022-10-16T07:47:56.662353",
     "status": "completed"
    },
    "tags": []
   },
   "outputs": [
    {
     "name": "stdout",
     "output_type": "stream",
     "text": [
      "{'n_estimators': [100, 200, 300, 400, 500, 600, 700, 800, 900, 1000, 1100, 1200], 'max_depth': [5, 10, 15, 20, 25, 30], 'criterion': ['gini', 'entropy'], 'min_samples_split': [2, 5, 7, 10], 'min_samples_leaf': [2, 5, 8], 'max_features': ['auto', 'sqrt']}\n"
     ]
    }
   ],
   "source": [
    "# let's first try hyperparameter tuning with RandomForest\n",
    "\n",
    "#number of trees in forest\n",
    "n_estimators = [int(x) for x in np.linspace(100,1200,12)]\n",
    "#max depth of tree\n",
    "max_depth = [int(x) for x in np.linspace(5,30,6)]\n",
    "#quality of split\n",
    "criterion = ['gini','entropy']\n",
    "#min no. of samples to consider for splitting a internal node\n",
    "min_samples_split = [2,5,7,10]\n",
    "#min number of node can be as leaf node\n",
    "min_samples_leaf = [2,5,8]\n",
    "# The number of features to consider when looking for the best split:\n",
    "max_features = [\"auto\",\"sqrt\"]\n",
    "\n",
    "random_grid = dict(n_estimators=n_estimators, max_depth=max_depth, criterion=criterion,\n",
    "                  min_samples_split=min_samples_split,min_samples_leaf=min_samples_leaf,\n",
    "                   max_features=max_features)\n",
    "print(random_grid)"
   ]
  },
  {
   "cell_type": "code",
   "execution_count": 79,
   "metadata": {
    "execution": {
     "iopub.execute_input": "2022-10-16T07:47:57.004267Z",
     "iopub.status.busy": "2022-10-16T07:47:57.003650Z",
     "iopub.status.idle": "2022-10-16T07:48:33.557007Z",
     "shell.execute_reply": "2022-10-16T07:48:33.557438Z"
    },
    "papermill": {
     "duration": 36.664788,
     "end_time": "2022-10-16T07:48:33.557562",
     "exception": false,
     "start_time": "2022-10-16T07:47:56.892774",
     "status": "completed"
    },
    "tags": []
   },
   "outputs": [
    {
     "name": "stdout",
     "output_type": "stream",
     "text": [
      "Fitting 5 folds for each of 10 candidates, totalling 50 fits\n"
     ]
    },
    {
     "name": "stderr",
     "output_type": "stream",
     "text": [
      "[Parallel(n_jobs=-1)]: Using backend LokyBackend with 4 concurrent workers.\n",
      "[Parallel(n_jobs=-1)]: Done  42 tasks      | elapsed:   30.9s\n",
      "[Parallel(n_jobs=-1)]: Done  50 out of  50 | elapsed:   33.5s finished\n"
     ]
    },
    {
     "data": {
      "text/plain": [
       "RandomizedSearchCV(cv=5, estimator=RandomForestClassifier(), n_jobs=-1,\n",
       "                   param_distributions={'criterion': ['gini', 'entropy'],\n",
       "                                        'max_depth': [5, 10, 15, 20, 25, 30],\n",
       "                                        'max_features': ['auto', 'sqrt'],\n",
       "                                        'min_samples_leaf': [2, 5, 8],\n",
       "                                        'min_samples_split': [2, 5, 7, 10],\n",
       "                                        'n_estimators': [100, 200, 300, 400,\n",
       "                                                         500, 600, 700, 800,\n",
       "                                                         900, 1000, 1100,\n",
       "                                                         1200]},\n",
       "                   random_state=42, verbose=1)"
      ]
     },
     "execution_count": 79,
     "metadata": {},
     "output_type": "execute_result"
    }
   ],
   "source": [
    "rf_clf = RandomForestClassifier()\n",
    "rf_random = RandomizedSearchCV(rf_clf, param_distributions=random_grid, cv=5, n_iter=10,\n",
    "                               random_state=42, n_jobs=-1,verbose=1,)\n",
    "\n",
    "rf_random.fit(x_train_scaled, y_train_scaled)"
   ]
  },
  {
   "cell_type": "code",
   "execution_count": 80,
   "metadata": {
    "execution": {
     "iopub.execute_input": "2022-10-16T07:48:33.784675Z",
     "iopub.status.busy": "2022-10-16T07:48:33.783972Z",
     "iopub.status.idle": "2022-10-16T07:48:33.790991Z",
     "shell.execute_reply": "2022-10-16T07:48:33.790363Z"
    },
    "papermill": {
     "duration": 0.121507,
     "end_time": "2022-10-16T07:48:33.791121",
     "exception": false,
     "start_time": "2022-10-16T07:48:33.669614",
     "status": "completed"
    },
    "tags": []
   },
   "outputs": [
    {
     "name": "stdout",
     "output_type": "stream",
     "text": [
      "0.855697243932538\n",
      "{'n_estimators': 1000, 'min_samples_split': 2, 'min_samples_leaf': 2, 'max_features': 'sqrt', 'max_depth': 10, 'criterion': 'entropy'}\n"
     ]
    }
   ],
   "source": [
    "print(rf_random.best_score_)\n",
    "print(rf_random.best_params_)"
   ]
  },
  {
   "cell_type": "code",
   "execution_count": 81,
   "metadata": {
    "execution": {
     "iopub.execute_input": "2022-10-16T07:48:34.021884Z",
     "iopub.status.busy": "2022-10-16T07:48:34.021278Z",
     "iopub.status.idle": "2022-10-16T07:48:34.023953Z",
     "shell.execute_reply": "2022-10-16T07:48:34.024953Z"
    },
    "papermill": {
     "duration": 0.120983,
     "end_time": "2022-10-16T07:48:34.025199",
     "exception": false,
     "start_time": "2022-10-16T07:48:33.904216",
     "status": "completed"
    },
    "tags": []
   },
   "outputs": [
    {
     "name": "stdout",
     "output_type": "stream",
     "text": [
      "{'n_estimators': [100, 200, 300, 400, 500, 600, 700, 800, 900, 1000], 'max_depth': [6, 12, 18, 24, 30], 'learning_rate': [0.001, 0.002, 0.003, 0.004, 0.005, 0.006, 0.007, 0.008, 0.009, 0.01], 'min_child_weight': [1, 2, 3, 4, 5, 6, 7, 8, 9]}\n"
     ]
    }
   ],
   "source": [
    "# hyperparameter tuning for XgBoost\n",
    "\n",
    "n_estimators = [int(x) for x in np.linspace(100,1000,10)]\n",
    "\n",
    "max_depth = [int(x) for x in np.linspace(6,30,5)]\n",
    "learning_rate = [0.001,0.002,0.003,0.004,0.005,0.006,0.007,0.008,0.009,0.01]\n",
    "min_child_weight = list(range(1,10))\n",
    "\n",
    "xg_grid = dict(n_estimators=n_estimators, max_depth=max_depth, learning_rate=learning_rate, \n",
    "               min_child_weight=min_child_weight)\n",
    "print(xg_grid)"
   ]
  },
  {
   "cell_type": "code",
   "execution_count": 82,
   "metadata": {
    "execution": {
     "iopub.execute_input": "2022-10-16T07:48:34.295715Z",
     "iopub.status.busy": "2022-10-16T07:48:34.295206Z",
     "iopub.status.idle": "2022-10-16T07:48:52.337765Z",
     "shell.execute_reply": "2022-10-16T07:48:52.338364Z"
    },
    "papermill": {
     "duration": 18.160337,
     "end_time": "2022-10-16T07:48:52.338507",
     "exception": false,
     "start_time": "2022-10-16T07:48:34.178170",
     "status": "completed"
    },
    "tags": []
   },
   "outputs": [
    {
     "name": "stdout",
     "output_type": "stream",
     "text": [
      "Fitting 5 folds for each of 10 candidates, totalling 50 fits\n"
     ]
    },
    {
     "name": "stderr",
     "output_type": "stream",
     "text": [
      "[Parallel(n_jobs=-1)]: Using backend LokyBackend with 4 concurrent workers.\n",
      "[Parallel(n_jobs=-1)]: Done  42 tasks      | elapsed:   14.1s\n",
      "[Parallel(n_jobs=-1)]: Done  50 out of  50 | elapsed:   16.9s finished\n"
     ]
    },
    {
     "data": {
      "text/plain": [
       "RandomizedSearchCV(cv=5,\n",
       "                   estimator=XGBClassifier(base_score=None, booster=None,\n",
       "                                           colsample_bylevel=None,\n",
       "                                           colsample_bynode=None,\n",
       "                                           colsample_bytree=None, gamma=None,\n",
       "                                           gpu_id=None, importance_type='gain',\n",
       "                                           interaction_constraints=None,\n",
       "                                           learning_rate=None,\n",
       "                                           max_delta_step=None, max_depth=None,\n",
       "                                           min_child_weight=None, missing=nan,\n",
       "                                           monotone_constraints=None,\n",
       "                                           n_estimators=100,...\n",
       "                                           subsample=None, tree_method=None,\n",
       "                                           validate_parameters=None,\n",
       "                                           verbosity=None),\n",
       "                   n_jobs=-1,\n",
       "                   param_distributions={'learning_rate': [0.001, 0.002, 0.003,\n",
       "                                                          0.004, 0.005, 0.006,\n",
       "                                                          0.007, 0.008, 0.009,\n",
       "                                                          0.01],\n",
       "                                        'max_depth': [6, 12, 18, 24, 30],\n",
       "                                        'min_child_weight': [1, 2, 3, 4, 5, 6,\n",
       "                                                             7, 8, 9],\n",
       "                                        'n_estimators': [100, 200, 300, 400,\n",
       "                                                         500, 600, 700, 800,\n",
       "                                                         900, 1000]},\n",
       "                   random_state=42, scoring='accuracy', verbose=1)"
      ]
     },
     "execution_count": 82,
     "metadata": {},
     "output_type": "execute_result"
    }
   ],
   "source": [
    "xgb = XGBClassifier()\n",
    "xgb_random = RandomizedSearchCV(xgb, param_distributions=xg_grid, cv=5, random_state=42,\n",
    "                               n_iter=10,scoring=\"accuracy\",n_jobs=-1,verbose=1)\n",
    "\n",
    "xgb_random.fit(x_train_scaled,y_train_scaled)"
   ]
  },
  {
   "cell_type": "code",
   "execution_count": 83,
   "metadata": {
    "execution": {
     "iopub.execute_input": "2022-10-16T07:48:52.670961Z",
     "iopub.status.busy": "2022-10-16T07:48:52.670421Z",
     "iopub.status.idle": "2022-10-16T07:48:52.676002Z",
     "shell.execute_reply": "2022-10-16T07:48:52.676412Z"
    },
    "papermill": {
     "duration": 0.128364,
     "end_time": "2022-10-16T07:48:52.676567",
     "exception": false,
     "start_time": "2022-10-16T07:48:52.548203",
     "status": "completed"
    },
    "tags": []
   },
   "outputs": [
    {
     "name": "stdout",
     "output_type": "stream",
     "text": [
      "score:  0.8629452900041136\n",
      "best_params: \n",
      " {'n_estimators': 600, 'min_child_weight': 7, 'max_depth': 24, 'learning_rate': 0.004}\n"
     ]
    }
   ],
   "source": [
    "print(\"score: \",xgb_random.best_score_)\n",
    "print(\"best_params: \\n\",xgb_random.best_params_)"
   ]
  },
  {
   "cell_type": "markdown",
   "metadata": {
    "papermill": {
     "duration": 0.123017,
     "end_time": "2022-10-16T07:48:52.918477",
     "exception": false,
     "start_time": "2022-10-16T07:48:52.795460",
     "status": "completed"
    },
    "tags": []
   },
   "source": [
    "### **If you like this Notebook, Please Upvote. It gives motivation for making a new notebooks and positively move ahead with a Data science journey**\n",
    "\n",
    "**Thank You!..** "
   ]
  }
 ],
 "metadata": {
  "kernelspec": {
   "display_name": "Python 3 (ipykernel)",
   "language": "python",
   "name": "python3"
  },
  "language_info": {
   "codemirror_mode": {
    "name": "ipython",
    "version": 3
   },
   "file_extension": ".py",
   "mimetype": "text/x-python",
   "name": "python",
   "nbconvert_exporter": "python",
   "pygments_lexer": "ipython3",
   "version": "3.9.12"
  },
  "papermill": {
   "duration": 91.594865,
   "end_time": "2022-10-16T07:48:53.156142",
   "environment_variables": {},
   "exception": null,
   "input_path": "__notebook__.ipynb",
   "output_path": "__notebook__.ipynb",
   "parameters": {},
   "start_time": "2022-10-16T07:47:21.561277",
   "version": "2.1.0"
  },
  "toc": {
   "base_numbering": 1,
   "nav_menu": {},
   "number_sections": true,
   "sideBar": true,
   "skip_h1_title": false,
   "title_cell": "Table of Contents",
   "title_sidebar": "Contents",
   "toc_cell": false,
   "toc_position": {},
   "toc_section_display": true,
   "toc_window_display": false
  },
  "varInspector": {
   "cols": {
    "lenName": 16,
    "lenType": 16,
    "lenVar": 40
   },
   "kernels_config": {
    "python": {
     "delete_cmd_postfix": "",
     "delete_cmd_prefix": "del ",
     "library": "var_list.py",
     "varRefreshCmd": "print(var_dic_list())"
    },
    "r": {
     "delete_cmd_postfix": ") ",
     "delete_cmd_prefix": "rm(",
     "library": "var_list.r",
     "varRefreshCmd": "cat(var_dic_list()) "
    }
   },
   "types_to_exclude": [
    "module",
    "function",
    "builtin_function_or_method",
    "instance",
    "_Feature"
   ],
   "window_display": false
  }
 },
 "nbformat": 4,
 "nbformat_minor": 4
}
