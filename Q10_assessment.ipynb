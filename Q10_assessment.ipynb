{
 "cells": [
  {
   "cell_type": "code",
   "execution_count": 7,
   "id": "67d5a1ee",
   "metadata": {
    "ExecuteTime": {
     "end_time": "2024-06-08T12:00:17.787379Z",
     "start_time": "2024-06-08T12:00:17.751403Z"
    }
   },
   "outputs": [],
   "source": [
    "#A"
   ]
  },
  {
   "cell_type": "code",
   "execution_count": 1,
   "id": "f3aabab8",
   "metadata": {
    "ExecuteTime": {
     "end_time": "2024-06-08T11:55:10.361122Z",
     "start_time": "2024-06-08T11:55:05.372830Z"
    }
   },
   "outputs": [],
   "source": [
    "import pandas as pd\n",
    "import matplotlib.pyplot as plt\n",
    "from sklearn.mixture import GaussianMixture\n",
    "import numpy as np"
   ]
  },
  {
   "cell_type": "code",
   "execution_count": 2,
   "id": "fe5b8abf",
   "metadata": {
    "ExecuteTime": {
     "end_time": "2024-06-08T11:56:46.621867Z",
     "start_time": "2024-06-08T11:56:43.343020Z"
    }
   },
   "outputs": [],
   "source": [
    "# Load the vales.xlsx file\n",
    "values_df = pd.read_excel('/Users/sarthakchawla/Downloads/values.xlsx')"
   ]
  },
  {
   "cell_type": "code",
   "execution_count": 3,
   "id": "6719a5f1",
   "metadata": {
    "ExecuteTime": {
     "end_time": "2024-06-08T11:56:58.320077Z",
     "start_time": "2024-06-08T11:56:58.296023Z"
    }
   },
   "outputs": [
    {
     "data": {
      "text/html": [
       "<div>\n",
       "<style scoped>\n",
       "    .dataframe tbody tr th:only-of-type {\n",
       "        vertical-align: middle;\n",
       "    }\n",
       "\n",
       "    .dataframe tbody tr th {\n",
       "        vertical-align: top;\n",
       "    }\n",
       "\n",
       "    .dataframe thead th {\n",
       "        text-align: right;\n",
       "    }\n",
       "</style>\n",
       "<table border=\"1\" class=\"dataframe\">\n",
       "  <thead>\n",
       "    <tr style=\"text-align: right;\">\n",
       "      <th></th>\n",
       "      <th>x</th>\n",
       "    </tr>\n",
       "  </thead>\n",
       "  <tbody>\n",
       "    <tr>\n",
       "      <th>0</th>\n",
       "      <td>6.863039</td>\n",
       "    </tr>\n",
       "    <tr>\n",
       "      <th>1</th>\n",
       "      <td>4.693387</td>\n",
       "    </tr>\n",
       "    <tr>\n",
       "      <th>2</th>\n",
       "      <td>6.054145</td>\n",
       "    </tr>\n",
       "    <tr>\n",
       "      <th>3</th>\n",
       "      <td>5.647715</td>\n",
       "    </tr>\n",
       "    <tr>\n",
       "      <th>4</th>\n",
       "      <td>0.942183</td>\n",
       "    </tr>\n",
       "    <tr>\n",
       "      <th>...</th>\n",
       "      <td>...</td>\n",
       "    </tr>\n",
       "    <tr>\n",
       "      <th>99995</th>\n",
       "      <td>5.213624</td>\n",
       "    </tr>\n",
       "    <tr>\n",
       "      <th>99996</th>\n",
       "      <td>6.330882</td>\n",
       "    </tr>\n",
       "    <tr>\n",
       "      <th>99997</th>\n",
       "      <td>5.827476</td>\n",
       "    </tr>\n",
       "    <tr>\n",
       "      <th>99998</th>\n",
       "      <td>-0.158447</td>\n",
       "    </tr>\n",
       "    <tr>\n",
       "      <th>99999</th>\n",
       "      <td>5.929227</td>\n",
       "    </tr>\n",
       "  </tbody>\n",
       "</table>\n",
       "<p>100000 rows × 1 columns</p>\n",
       "</div>"
      ],
      "text/plain": [
       "              x\n",
       "0      6.863039\n",
       "1      4.693387\n",
       "2      6.054145\n",
       "3      5.647715\n",
       "4      0.942183\n",
       "...         ...\n",
       "99995  5.213624\n",
       "99996  6.330882\n",
       "99997  5.827476\n",
       "99998 -0.158447\n",
       "99999  5.929227\n",
       "\n",
       "[100000 rows x 1 columns]"
      ]
     },
     "execution_count": 3,
     "metadata": {},
     "output_type": "execute_result"
    }
   ],
   "source": [
    "values_df"
   ]
  },
  {
   "cell_type": "code",
   "execution_count": 4,
   "id": "1be56586",
   "metadata": {
    "ExecuteTime": {
     "end_time": "2024-06-08T11:57:23.728034Z",
     "start_time": "2024-06-08T11:57:23.420927Z"
    }
   },
   "outputs": [
    {
     "data": {
      "text/html": [
       "<style>#sk-container-id-1 {color: black;background-color: white;}#sk-container-id-1 pre{padding: 0;}#sk-container-id-1 div.sk-toggleable {background-color: white;}#sk-container-id-1 label.sk-toggleable__label {cursor: pointer;display: block;width: 100%;margin-bottom: 0;padding: 0.3em;box-sizing: border-box;text-align: center;}#sk-container-id-1 label.sk-toggleable__label-arrow:before {content: \"▸\";float: left;margin-right: 0.25em;color: #696969;}#sk-container-id-1 label.sk-toggleable__label-arrow:hover:before {color: black;}#sk-container-id-1 div.sk-estimator:hover label.sk-toggleable__label-arrow:before {color: black;}#sk-container-id-1 div.sk-toggleable__content {max-height: 0;max-width: 0;overflow: hidden;text-align: left;background-color: #f0f8ff;}#sk-container-id-1 div.sk-toggleable__content pre {margin: 0.2em;color: black;border-radius: 0.25em;background-color: #f0f8ff;}#sk-container-id-1 input.sk-toggleable__control:checked~div.sk-toggleable__content {max-height: 200px;max-width: 100%;overflow: auto;}#sk-container-id-1 input.sk-toggleable__control:checked~label.sk-toggleable__label-arrow:before {content: \"▾\";}#sk-container-id-1 div.sk-estimator input.sk-toggleable__control:checked~label.sk-toggleable__label {background-color: #d4ebff;}#sk-container-id-1 div.sk-label input.sk-toggleable__control:checked~label.sk-toggleable__label {background-color: #d4ebff;}#sk-container-id-1 input.sk-hidden--visually {border: 0;clip: rect(1px 1px 1px 1px);clip: rect(1px, 1px, 1px, 1px);height: 1px;margin: -1px;overflow: hidden;padding: 0;position: absolute;width: 1px;}#sk-container-id-1 div.sk-estimator {font-family: monospace;background-color: #f0f8ff;border: 1px dotted black;border-radius: 0.25em;box-sizing: border-box;margin-bottom: 0.5em;}#sk-container-id-1 div.sk-estimator:hover {background-color: #d4ebff;}#sk-container-id-1 div.sk-parallel-item::after {content: \"\";width: 100%;border-bottom: 1px solid gray;flex-grow: 1;}#sk-container-id-1 div.sk-label:hover label.sk-toggleable__label {background-color: #d4ebff;}#sk-container-id-1 div.sk-serial::before {content: \"\";position: absolute;border-left: 1px solid gray;box-sizing: border-box;top: 0;bottom: 0;left: 50%;z-index: 0;}#sk-container-id-1 div.sk-serial {display: flex;flex-direction: column;align-items: center;background-color: white;padding-right: 0.2em;padding-left: 0.2em;position: relative;}#sk-container-id-1 div.sk-item {position: relative;z-index: 1;}#sk-container-id-1 div.sk-parallel {display: flex;align-items: stretch;justify-content: center;background-color: white;position: relative;}#sk-container-id-1 div.sk-item::before, #sk-container-id-1 div.sk-parallel-item::before {content: \"\";position: absolute;border-left: 1px solid gray;box-sizing: border-box;top: 0;bottom: 0;left: 50%;z-index: -1;}#sk-container-id-1 div.sk-parallel-item {display: flex;flex-direction: column;z-index: 1;position: relative;background-color: white;}#sk-container-id-1 div.sk-parallel-item:first-child::after {align-self: flex-end;width: 50%;}#sk-container-id-1 div.sk-parallel-item:last-child::after {align-self: flex-start;width: 50%;}#sk-container-id-1 div.sk-parallel-item:only-child::after {width: 0;}#sk-container-id-1 div.sk-dashed-wrapped {border: 1px dashed gray;margin: 0 0.4em 0.5em 0.4em;box-sizing: border-box;padding-bottom: 0.4em;background-color: white;}#sk-container-id-1 div.sk-label label {font-family: monospace;font-weight: bold;display: inline-block;line-height: 1.2em;}#sk-container-id-1 div.sk-label-container {text-align: center;}#sk-container-id-1 div.sk-container {/* jupyter's `normalize.less` sets `[hidden] { display: none; }` but bootstrap.min.css set `[hidden] { display: none !important; }` so we also need the `!important` here to be able to override the default hidden behavior on the sphinx rendered scikit-learn.org. See: https://github.com/scikit-learn/scikit-learn/issues/21755 */display: inline-block !important;position: relative;}#sk-container-id-1 div.sk-text-repr-fallback {display: none;}</style><div id=\"sk-container-id-1\" class=\"sk-top-container\"><div class=\"sk-text-repr-fallback\"><pre>GaussianMixture(n_components=2, random_state=0)</pre><b>In a Jupyter environment, please rerun this cell to show the HTML representation or trust the notebook. <br />On GitHub, the HTML representation is unable to render, please try loading this page with nbviewer.org.</b></div><div class=\"sk-container\" hidden><div class=\"sk-item\"><div class=\"sk-estimator sk-toggleable\"><input class=\"sk-toggleable__control sk-hidden--visually\" id=\"sk-estimator-id-1\" type=\"checkbox\" checked><label for=\"sk-estimator-id-1\" class=\"sk-toggleable__label sk-toggleable__label-arrow\">GaussianMixture</label><div class=\"sk-toggleable__content\"><pre>GaussianMixture(n_components=2, random_state=0)</pre></div></div></div></div></div>"
      ],
      "text/plain": [
       "GaussianMixture(n_components=2, random_state=0)"
      ]
     },
     "execution_count": 4,
     "metadata": {},
     "output_type": "execute_result"
    }
   ],
   "source": [
    "# Fit a Gaussian Mixture Model to the data to find the means of the two Gaussians\n",
    "gmm = GaussianMixture(n_components=2, random_state=0)\n",
    "gmm.fit(values_df)\n"
   ]
  },
  {
   "cell_type": "code",
   "execution_count": 5,
   "id": "7e75b7ad",
   "metadata": {
    "ExecuteTime": {
     "end_time": "2024-06-08T11:57:38.145919Z",
     "start_time": "2024-06-08T11:57:38.135006Z"
    }
   },
   "outputs": [],
   "source": [
    "# Extract the means of the two Gaussian distributions\n",
    "means = gmm.means_.flatten("
   ]
  },
  {
   "cell_type": "code",
   "execution_count": 6,
   "id": "8b85da7b",
   "metadata": {
    "ExecuteTime": {
     "end_time": "2024-06-08T11:58:11.606140Z",
     "start_time": "2024-06-08T11:58:11.598028Z"
    }
   },
   "outputs": [
    {
     "name": "stdout",
     "output_type": "stream",
     "text": [
      "Means of the two Gaussian distributions: [1.04620289 6.04852658]\n"
     ]
    }
   ],
   "source": [
    "# Print the means\n",
    "print(\"Means of the two Gaussian distributions:\", means)"
   ]
  },
  {
   "cell_type": "code",
   "execution_count": 8,
   "id": "dd3ee5c5",
   "metadata": {
    "ExecuteTime": {
     "end_time": "2024-06-08T12:00:27.001048Z",
     "start_time": "2024-06-08T12:00:26.991845Z"
    }
   },
   "outputs": [],
   "source": [
    "#B"
   ]
  },
  {
   "cell_type": "code",
   "execution_count": 9,
   "id": "a02679f3",
   "metadata": {
    "ExecuteTime": {
     "end_time": "2024-06-08T12:01:42.648939Z",
     "start_time": "2024-06-08T12:01:42.641466Z"
    }
   },
   "outputs": [],
   "source": [
    "# Extract the standard deviations of the two Gaussian distributions\n",
    "std_devs = np.sqrt(gmm.covariances_).flatten()"
   ]
  },
  {
   "cell_type": "code",
   "execution_count": 10,
   "id": "1c55be83",
   "metadata": {
    "ExecuteTime": {
     "end_time": "2024-06-08T12:02:33.092207Z",
     "start_time": "2024-06-08T12:02:33.083579Z"
    }
   },
   "outputs": [
    {
     "name": "stdout",
     "output_type": "stream",
     "text": [
      "Standard deviations of the two Gaussian distributions are: [1.04273934 1.46207654]\n"
     ]
    }
   ],
   "source": [
    "# Print the standard deviations\n",
    "print(\"Standard deviations of the two Gaussian distributions are:\", std_devs)"
   ]
  },
  {
   "cell_type": "code",
   "execution_count": 11,
   "id": "66ccefc4",
   "metadata": {
    "ExecuteTime": {
     "end_time": "2024-06-08T12:04:53.648243Z",
     "start_time": "2024-06-08T12:04:53.643154Z"
    }
   },
   "outputs": [],
   "source": [
    "#C"
   ]
  },
  {
   "cell_type": "code",
   "execution_count": 12,
   "id": "6784fe4b",
   "metadata": {
    "ExecuteTime": {
     "end_time": "2024-06-08T12:06:37.659309Z",
     "start_time": "2024-06-08T12:06:37.654611Z"
    }
   },
   "outputs": [],
   "source": [
    "# Extract the weights of the two Gaussian distributions\n",
    "weights = gmm.weights_"
   ]
  },
  {
   "cell_type": "code",
   "execution_count": 13,
   "id": "de7c9566",
   "metadata": {
    "ExecuteTime": {
     "end_time": "2024-06-08T12:07:55.512432Z",
     "start_time": "2024-06-08T12:07:55.506023Z"
    }
   },
   "outputs": [
    {
     "name": "stdout",
     "output_type": "stream",
     "text": [
      "Relative proportions of the two Gaussian distributions are: [0.41010077 0.58989923]\n"
     ]
    }
   ],
   "source": [
    "# Print the weights\n",
    "print(\"Relative proportions of the two Gaussian distributions are:\", weights)"
   ]
  },
  {
   "cell_type": "code",
   "execution_count": null,
   "id": "feabfc6d",
   "metadata": {},
   "outputs": [],
   "source": []
  }
 ],
 "metadata": {
  "kernelspec": {
   "display_name": "Python 3 (ipykernel)",
   "language": "python",
   "name": "python3"
  },
  "language_info": {
   "codemirror_mode": {
    "name": "ipython",
    "version": 3
   },
   "file_extension": ".py",
   "mimetype": "text/x-python",
   "name": "python",
   "nbconvert_exporter": "python",
   "pygments_lexer": "ipython3",
   "version": "3.9.12"
  },
  "toc": {
   "base_numbering": 1,
   "nav_menu": {},
   "number_sections": true,
   "sideBar": true,
   "skip_h1_title": false,
   "title_cell": "Table of Contents",
   "title_sidebar": "Contents",
   "toc_cell": false,
   "toc_position": {},
   "toc_section_display": true,
   "toc_window_display": false
  },
  "varInspector": {
   "cols": {
    "lenName": 16,
    "lenType": 16,
    "lenVar": 40
   },
   "kernels_config": {
    "python": {
     "delete_cmd_postfix": "",
     "delete_cmd_prefix": "del ",
     "library": "var_list.py",
     "varRefreshCmd": "print(var_dic_list())"
    },
    "r": {
     "delete_cmd_postfix": ") ",
     "delete_cmd_prefix": "rm(",
     "library": "var_list.r",
     "varRefreshCmd": "cat(var_dic_list()) "
    }
   },
   "types_to_exclude": [
    "module",
    "function",
    "builtin_function_or_method",
    "instance",
    "_Feature"
   ],
   "window_display": false
  }
 },
 "nbformat": 4,
 "nbformat_minor": 5
}
