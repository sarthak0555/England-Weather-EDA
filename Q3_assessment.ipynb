{
 "cells": [
  {
   "cell_type": "code",
   "execution_count": 3,
   "id": "57ea547b",
   "metadata": {
    "ExecuteTime": {
     "end_time": "2024-06-08T06:37:55.345737Z",
     "start_time": "2024-06-08T06:37:55.337128Z"
    }
   },
   "outputs": [],
   "source": [
    "#A"
   ]
  },
  {
   "cell_type": "code",
   "execution_count": 4,
   "id": "01026394",
   "metadata": {
    "ExecuteTime": {
     "end_time": "2024-06-08T06:38:11.497525Z",
     "start_time": "2024-06-08T06:38:03.751250Z"
    }
   },
   "outputs": [
    {
     "name": "stdout",
     "output_type": "stream",
     "text": [
      "Collecting geopy\n",
      "  Downloading geopy-2.4.1-py3-none-any.whl (125 kB)\n",
      "\u001b[K     |████████████████████████████████| 125 kB 7.0 MB/s eta 0:00:01\n",
      "\u001b[?25hCollecting geographiclib<3,>=1.52\n",
      "  Downloading geographiclib-2.0-py3-none-any.whl (40 kB)\n",
      "\u001b[K     |████████████████████████████████| 40 kB 6.9 MB/s  eta 0:00:01\n",
      "\u001b[?25hInstalling collected packages: geographiclib, geopy\n",
      "Successfully installed geographiclib-2.0 geopy-2.4.1\n"
     ]
    }
   ],
   "source": [
    "!pip install geopy"
   ]
  },
  {
   "cell_type": "code",
   "execution_count": 5,
   "id": "6a50c670",
   "metadata": {
    "ExecuteTime": {
     "end_time": "2024-06-08T06:38:33.221327Z",
     "start_time": "2024-06-08T06:38:29.763572Z"
    }
   },
   "outputs": [],
   "source": [
    "import pandas as pd\n",
    "import numpy as np\n",
    "from geopy.distance import geodesic"
   ]
  },
  {
   "cell_type": "code",
   "execution_count": 6,
   "id": "954484ea",
   "metadata": {
    "ExecuteTime": {
     "end_time": "2024-06-08T06:40:11.821994Z",
     "start_time": "2024-06-08T06:40:11.063226Z"
    }
   },
   "outputs": [],
   "source": [
    "# Load the store locations data\n",
    "store_locations = pd.read_excel('/Users/sarthakchawla/Downloads/store_locations.xlsx')"
   ]
  },
  {
   "cell_type": "code",
   "execution_count": 7,
   "id": "0c2b0006",
   "metadata": {
    "ExecuteTime": {
     "end_time": "2024-06-08T06:40:21.857110Z",
     "start_time": "2024-06-08T06:40:21.827580Z"
    }
   },
   "outputs": [
    {
     "data": {
      "text/html": [
       "<div>\n",
       "<style scoped>\n",
       "    .dataframe tbody tr th:only-of-type {\n",
       "        vertical-align: middle;\n",
       "    }\n",
       "\n",
       "    .dataframe tbody tr th {\n",
       "        vertical-align: top;\n",
       "    }\n",
       "\n",
       "    .dataframe thead th {\n",
       "        text-align: right;\n",
       "    }\n",
       "</style>\n",
       "<table border=\"1\" class=\"dataframe\">\n",
       "  <thead>\n",
       "    <tr style=\"text-align: right;\">\n",
       "      <th></th>\n",
       "      <th>Store</th>\n",
       "      <th>lon</th>\n",
       "      <th>lat</th>\n",
       "    </tr>\n",
       "  </thead>\n",
       "  <tbody>\n",
       "    <tr>\n",
       "      <th>0</th>\n",
       "      <td>1063</td>\n",
       "      <td>-0.836673</td>\n",
       "      <td>51.2797</td>\n",
       "    </tr>\n",
       "    <tr>\n",
       "      <th>1</th>\n",
       "      <td>989</td>\n",
       "      <td>-4.087440</td>\n",
       "      <td>55.8214</td>\n",
       "    </tr>\n",
       "    <tr>\n",
       "      <th>2</th>\n",
       "      <td>1061</td>\n",
       "      <td>-0.799592</td>\n",
       "      <td>51.3476</td>\n",
       "    </tr>\n",
       "    <tr>\n",
       "      <th>3</th>\n",
       "      <td>302</td>\n",
       "      <td>-2.602180</td>\n",
       "      <td>51.4664</td>\n",
       "    </tr>\n",
       "    <tr>\n",
       "      <th>4</th>\n",
       "      <td>212</td>\n",
       "      <td>-2.422750</td>\n",
       "      <td>53.5689</td>\n",
       "    </tr>\n",
       "    <tr>\n",
       "      <th>...</th>\n",
       "      <td>...</td>\n",
       "      <td>...</td>\n",
       "      <td>...</td>\n",
       "    </tr>\n",
       "    <tr>\n",
       "      <th>295</th>\n",
       "      <td>1089</td>\n",
       "      <td>-0.287350</td>\n",
       "      <td>51.5607</td>\n",
       "    </tr>\n",
       "    <tr>\n",
       "      <th>296</th>\n",
       "      <td>538</td>\n",
       "      <td>0.861843</td>\n",
       "      <td>51.8544</td>\n",
       "    </tr>\n",
       "    <tr>\n",
       "      <th>297</th>\n",
       "      <td>973</td>\n",
       "      <td>-4.254070</td>\n",
       "      <td>55.8459</td>\n",
       "    </tr>\n",
       "    <tr>\n",
       "      <th>298</th>\n",
       "      <td>1066</td>\n",
       "      <td>-0.617720</td>\n",
       "      <td>51.1864</td>\n",
       "    </tr>\n",
       "    <tr>\n",
       "      <th>299</th>\n",
       "      <td>2203</td>\n",
       "      <td>-0.133300</td>\n",
       "      <td>51.1167</td>\n",
       "    </tr>\n",
       "  </tbody>\n",
       "</table>\n",
       "<p>300 rows × 3 columns</p>\n",
       "</div>"
      ],
      "text/plain": [
       "     Store       lon      lat\n",
       "0     1063 -0.836673  51.2797\n",
       "1      989 -4.087440  55.8214\n",
       "2     1061 -0.799592  51.3476\n",
       "3      302 -2.602180  51.4664\n",
       "4      212 -2.422750  53.5689\n",
       "..     ...       ...      ...\n",
       "295   1089 -0.287350  51.5607\n",
       "296    538  0.861843  51.8544\n",
       "297    973 -4.254070  55.8459\n",
       "298   1066 -0.617720  51.1864\n",
       "299   2203 -0.133300  51.1167\n",
       "\n",
       "[300 rows x 3 columns]"
      ]
     },
     "execution_count": 7,
     "metadata": {},
     "output_type": "execute_result"
    }
   ],
   "source": [
    "store_locations"
   ]
  },
  {
   "cell_type": "code",
   "execution_count": 8,
   "id": "e033e7b5",
   "metadata": {
    "ExecuteTime": {
     "end_time": "2024-06-08T06:41:49.515847Z",
     "start_time": "2024-06-08T06:41:49.509673Z"
    }
   },
   "outputs": [],
   "source": [
    "# Function to calculate the distance between two points using their coordinates\n",
    "def calculate_distance(coord1, coord2):\n",
    "    return geodesic(coord1, coord2).kilometers"
   ]
  },
  {
   "cell_type": "code",
   "execution_count": 9,
   "id": "14ee484a",
   "metadata": {
    "ExecuteTime": {
     "end_time": "2024-06-08T06:42:15.174834Z",
     "start_time": "2024-06-08T06:42:15.158964Z"
    }
   },
   "outputs": [],
   "source": [
    "# Create a DataFrame to store distances\n",
    "distances = pd.DataFrame(index=store_locations['Store'], columns=store_locations['Store'])"
   ]
  },
  {
   "cell_type": "code",
   "execution_count": 10,
   "id": "3b66177a",
   "metadata": {
    "ExecuteTime": {
     "end_time": "2024-06-08T06:43:32.071611Z",
     "start_time": "2024-06-08T06:42:56.803272Z"
    }
   },
   "outputs": [],
   "source": [
    "# Calculate distances between each pair of stores\n",
    "for i, store1 in store_locations.iterrows():\n",
    "    for j, store2 in store_locations.iterrows():\n",
    "        if i != j:\n",
    "            coord1 = (store1['lat'], store1['lon'])\n",
    "            coord2 = (store2['lat'], store2['lon'])\n",
    "            distances.at[store1['Store'], store2['Store']] = calculate_distance(coord1, coord2)"
   ]
  },
  {
   "cell_type": "code",
   "execution_count": 11,
   "id": "f7d7f2e3",
   "metadata": {
    "ExecuteTime": {
     "end_time": "2024-06-08T06:43:49.325889Z",
     "start_time": "2024-06-08T06:43:49.297308Z"
    }
   },
   "outputs": [],
   "source": [
    "# Find the nearest neighbouring store for each store\n",
    "nearest_distances = distances.min(axis=1)"
   ]
  },
  {
   "cell_type": "code",
   "execution_count": 12,
   "id": "9d2f209f",
   "metadata": {
    "ExecuteTime": {
     "end_time": "2024-06-08T06:44:20.144085Z",
     "start_time": "2024-06-08T06:44:20.134886Z"
    }
   },
   "outputs": [],
   "source": [
    "# Determine the store with the farthest distance to its nearest neighbour\n",
    "farthest_store = nearest_distances.idxmax()\n",
    "farthest_distance = nearest_distances.max()\n",
    "\n",
    "result = pd.DataFrame({\n",
    "    \"Store\": [farthest_store],\n",
    "    \"Farthest Distance to Nearest Neighbor (km)\": [farthest_distance]\n",
    "})"
   ]
  },
  {
   "cell_type": "code",
   "execution_count": 13,
   "id": "4713ec71",
   "metadata": {
    "ExecuteTime": {
     "end_time": "2024-06-08T06:44:54.275206Z",
     "start_time": "2024-06-08T06:44:54.261851Z"
    }
   },
   "outputs": [
    {
     "data": {
      "text/html": [
       "<div>\n",
       "<style scoped>\n",
       "    .dataframe tbody tr th:only-of-type {\n",
       "        vertical-align: middle;\n",
       "    }\n",
       "\n",
       "    .dataframe tbody tr th {\n",
       "        vertical-align: top;\n",
       "    }\n",
       "\n",
       "    .dataframe thead th {\n",
       "        text-align: right;\n",
       "    }\n",
       "</style>\n",
       "<table border=\"1\" class=\"dataframe\">\n",
       "  <thead>\n",
       "    <tr style=\"text-align: right;\">\n",
       "      <th></th>\n",
       "      <th>Store</th>\n",
       "      <th>Farthest Distance to Nearest Neighbor (km)</th>\n",
       "    </tr>\n",
       "  </thead>\n",
       "  <tbody>\n",
       "    <tr>\n",
       "      <th>0</th>\n",
       "      <td>1142</td>\n",
       "      <td>88.67035</td>\n",
       "    </tr>\n",
       "  </tbody>\n",
       "</table>\n",
       "</div>"
      ],
      "text/plain": [
       "   Store  Farthest Distance to Nearest Neighbor (km)\n",
       "0   1142                                    88.67035"
      ]
     },
     "execution_count": 13,
     "metadata": {},
     "output_type": "execute_result"
    }
   ],
   "source": [
    "result"
   ]
  },
  {
   "cell_type": "code",
   "execution_count": 14,
   "id": "c5b23637",
   "metadata": {
    "ExecuteTime": {
     "end_time": "2024-06-08T06:52:25.784075Z",
     "start_time": "2024-06-08T06:52:25.773863Z"
    }
   },
   "outputs": [],
   "source": [
    "#B"
   ]
  },
  {
   "cell_type": "code",
   "execution_count": 15,
   "id": "581b1514",
   "metadata": {
    "ExecuteTime": {
     "end_time": "2024-06-08T06:54:49.214094Z",
     "start_time": "2024-06-08T06:54:49.192491Z"
    }
   },
   "outputs": [],
   "source": [
    "# Determine which stores have at least one other store within 1 km\n",
    "within_1km = (distances <= 1).any(axis=1)"
   ]
  },
  {
   "cell_type": "code",
   "execution_count": 16,
   "id": "796ae21d",
   "metadata": {
    "ExecuteTime": {
     "end_time": "2024-06-08T06:55:03.820344Z",
     "start_time": "2024-06-08T06:55:03.811714Z"
    }
   },
   "outputs": [],
   "source": [
    "# Calculate the percentage of such stores\n",
    "percent_within_1km = (within_1km.sum() / within_1km.count()) * 100"
   ]
  },
  {
   "cell_type": "code",
   "execution_count": 17,
   "id": "295a8526",
   "metadata": {
    "ExecuteTime": {
     "end_time": "2024-06-08T06:55:26.902676Z",
     "start_time": "2024-06-08T06:55:26.870504Z"
    }
   },
   "outputs": [],
   "source": [
    "result = pd.DataFrame({\n",
    "    \"Stores within 1 km\": [within_1km.sum()],\n",
    "    \"Total Stores\": [within_1km.count()],\n",
    "    \"Percentage\": [percent_within_1km]\n",
    "})\n"
   ]
  },
  {
   "cell_type": "code",
   "execution_count": 18,
   "id": "5656cddd",
   "metadata": {
    "ExecuteTime": {
     "end_time": "2024-06-08T06:55:40.170669Z",
     "start_time": "2024-06-08T06:55:40.157554Z"
    }
   },
   "outputs": [
    {
     "data": {
      "text/html": [
       "<div>\n",
       "<style scoped>\n",
       "    .dataframe tbody tr th:only-of-type {\n",
       "        vertical-align: middle;\n",
       "    }\n",
       "\n",
       "    .dataframe tbody tr th {\n",
       "        vertical-align: top;\n",
       "    }\n",
       "\n",
       "    .dataframe thead th {\n",
       "        text-align: right;\n",
       "    }\n",
       "</style>\n",
       "<table border=\"1\" class=\"dataframe\">\n",
       "  <thead>\n",
       "    <tr style=\"text-align: right;\">\n",
       "      <th></th>\n",
       "      <th>Stores within 1 km</th>\n",
       "      <th>Total Stores</th>\n",
       "      <th>Percentage</th>\n",
       "    </tr>\n",
       "  </thead>\n",
       "  <tbody>\n",
       "    <tr>\n",
       "      <th>0</th>\n",
       "      <td>10</td>\n",
       "      <td>300</td>\n",
       "      <td>3.333333</td>\n",
       "    </tr>\n",
       "  </tbody>\n",
       "</table>\n",
       "</div>"
      ],
      "text/plain": [
       "   Stores within 1 km  Total Stores  Percentage\n",
       "0                  10           300    3.333333"
      ]
     },
     "execution_count": 18,
     "metadata": {},
     "output_type": "execute_result"
    }
   ],
   "source": [
    "result"
   ]
  },
  {
   "cell_type": "code",
   "execution_count": 19,
   "id": "f782e9fa",
   "metadata": {
    "ExecuteTime": {
     "end_time": "2024-06-08T06:57:34.644250Z",
     "start_time": "2024-06-08T06:57:34.630607Z"
    }
   },
   "outputs": [],
   "source": [
    "#c"
   ]
  },
  {
   "cell_type": "code",
   "execution_count": 20,
   "id": "7727e9b0",
   "metadata": {
    "ExecuteTime": {
     "end_time": "2024-06-08T06:59:48.755269Z",
     "start_time": "2024-06-08T06:59:48.735669Z"
    }
   },
   "outputs": [],
   "source": [
    "# Determine which stores have at least one other store within 3 km\n",
    "within_3km = (distances <= 3).any(axis=1)"
   ]
  },
  {
   "cell_type": "code",
   "execution_count": 21,
   "id": "1de06a95",
   "metadata": {
    "ExecuteTime": {
     "end_time": "2024-06-08T07:00:13.292649Z",
     "start_time": "2024-06-08T07:00:13.286671Z"
    }
   },
   "outputs": [],
   "source": [
    "# Calculate the percentage of such stores\n",
    "percent_within_3km = (within_3km.sum() / within_3km.count()) * 100"
   ]
  },
  {
   "cell_type": "code",
   "execution_count": 22,
   "id": "29d47ad4",
   "metadata": {
    "ExecuteTime": {
     "end_time": "2024-06-08T07:00:43.627653Z",
     "start_time": "2024-06-08T07:00:43.618816Z"
    }
   },
   "outputs": [],
   "source": [
    "result = pd.DataFrame({\n",
    "    \"Stores within 3 km\": [within_3km.sum()],\n",
    "    \"Total Stores\": [within_3km.count()],\n",
    "    \"Percentage\": [percent_within_3km]\n",
    "})"
   ]
  },
  {
   "cell_type": "code",
   "execution_count": 23,
   "id": "c2f616da",
   "metadata": {
    "ExecuteTime": {
     "end_time": "2024-06-08T07:00:46.448272Z",
     "start_time": "2024-06-08T07:00:46.435105Z"
    }
   },
   "outputs": [
    {
     "data": {
      "text/html": [
       "<div>\n",
       "<style scoped>\n",
       "    .dataframe tbody tr th:only-of-type {\n",
       "        vertical-align: middle;\n",
       "    }\n",
       "\n",
       "    .dataframe tbody tr th {\n",
       "        vertical-align: top;\n",
       "    }\n",
       "\n",
       "    .dataframe thead th {\n",
       "        text-align: right;\n",
       "    }\n",
       "</style>\n",
       "<table border=\"1\" class=\"dataframe\">\n",
       "  <thead>\n",
       "    <tr style=\"text-align: right;\">\n",
       "      <th></th>\n",
       "      <th>Stores within 3 km</th>\n",
       "      <th>Total Stores</th>\n",
       "      <th>Percentage</th>\n",
       "    </tr>\n",
       "  </thead>\n",
       "  <tbody>\n",
       "    <tr>\n",
       "      <th>0</th>\n",
       "      <td>36</td>\n",
       "      <td>300</td>\n",
       "      <td>12.0</td>\n",
       "    </tr>\n",
       "  </tbody>\n",
       "</table>\n",
       "</div>"
      ],
      "text/plain": [
       "   Stores within 3 km  Total Stores  Percentage\n",
       "0                  36           300        12.0"
      ]
     },
     "execution_count": 23,
     "metadata": {},
     "output_type": "execute_result"
    }
   ],
   "source": [
    "result"
   ]
  },
  {
   "cell_type": "code",
   "execution_count": 29,
   "id": "66e48f8e",
   "metadata": {
    "ExecuteTime": {
     "end_time": "2024-06-08T07:05:01.075051Z",
     "start_time": "2024-06-08T07:05:01.070629Z"
    }
   },
   "outputs": [],
   "source": [
    "#D"
   ]
  },
  {
   "cell_type": "code",
   "execution_count": 25,
   "id": "1a1355ce",
   "metadata": {
    "ExecuteTime": {
     "end_time": "2024-06-08T07:02:28.572834Z",
     "start_time": "2024-06-08T07:02:28.553397Z"
    }
   },
   "outputs": [],
   "source": [
    "# Determine which stores have at least one other store within 5 km\n",
    "within_5km = (distances <= 5).any(axis=1)"
   ]
  },
  {
   "cell_type": "code",
   "execution_count": 26,
   "id": "4900b12b",
   "metadata": {
    "ExecuteTime": {
     "end_time": "2024-06-08T07:02:49.530455Z",
     "start_time": "2024-06-08T07:02:49.524482Z"
    }
   },
   "outputs": [],
   "source": [
    "# Calculate the percentage of such stores\n",
    "percent_within_5km = (within_5km.sum() / within_5km.count()) * 100"
   ]
  },
  {
   "cell_type": "code",
   "execution_count": 27,
   "id": "7f2474fe",
   "metadata": {
    "ExecuteTime": {
     "end_time": "2024-06-08T07:03:11.882435Z",
     "start_time": "2024-06-08T07:03:11.874451Z"
    }
   },
   "outputs": [],
   "source": [
    "result = pd.DataFrame({\n",
    "    \"Stores within 5 km\": [within_5km.sum()],\n",
    "    \"Total Stores\": [within_5km.count()],\n",
    "    \"Percentage\": [percent_within_5km]\n",
    "})"
   ]
  },
  {
   "cell_type": "code",
   "execution_count": 28,
   "id": "066c2b1f",
   "metadata": {
    "ExecuteTime": {
     "end_time": "2024-06-08T07:03:15.185901Z",
     "start_time": "2024-06-08T07:03:15.160849Z"
    }
   },
   "outputs": [
    {
     "data": {
      "text/html": [
       "<div>\n",
       "<style scoped>\n",
       "    .dataframe tbody tr th:only-of-type {\n",
       "        vertical-align: middle;\n",
       "    }\n",
       "\n",
       "    .dataframe tbody tr th {\n",
       "        vertical-align: top;\n",
       "    }\n",
       "\n",
       "    .dataframe thead th {\n",
       "        text-align: right;\n",
       "    }\n",
       "</style>\n",
       "<table border=\"1\" class=\"dataframe\">\n",
       "  <thead>\n",
       "    <tr style=\"text-align: right;\">\n",
       "      <th></th>\n",
       "      <th>Stores within 5 km</th>\n",
       "      <th>Total Stores</th>\n",
       "      <th>Percentage</th>\n",
       "    </tr>\n",
       "  </thead>\n",
       "  <tbody>\n",
       "    <tr>\n",
       "      <th>0</th>\n",
       "      <td>97</td>\n",
       "      <td>300</td>\n",
       "      <td>32.333333</td>\n",
       "    </tr>\n",
       "  </tbody>\n",
       "</table>\n",
       "</div>"
      ],
      "text/plain": [
       "   Stores within 5 km  Total Stores  Percentage\n",
       "0                  97           300   32.333333"
      ]
     },
     "execution_count": 28,
     "metadata": {},
     "output_type": "execute_result"
    }
   ],
   "source": [
    "result"
   ]
  },
  {
   "cell_type": "code",
   "execution_count": 30,
   "id": "934a8a89",
   "metadata": {
    "ExecuteTime": {
     "end_time": "2024-06-08T07:05:10.422780Z",
     "start_time": "2024-06-08T07:05:10.415971Z"
    }
   },
   "outputs": [],
   "source": [
    "#E"
   ]
  },
  {
   "cell_type": "code",
   "execution_count": 31,
   "id": "f1cead10",
   "metadata": {
    "ExecuteTime": {
     "end_time": "2024-06-08T07:05:28.391095Z",
     "start_time": "2024-06-08T07:05:28.370086Z"
    }
   },
   "outputs": [],
   "source": [
    "# Count the number of other stores within 10 km for each store\n",
    "within_10km_counts = (distances <= 10).sum(axis=1)"
   ]
  },
  {
   "cell_type": "code",
   "execution_count": 32,
   "id": "f94791b5",
   "metadata": {
    "ExecuteTime": {
     "end_time": "2024-06-08T07:05:47.972308Z",
     "start_time": "2024-06-08T07:05:47.964900Z"
    }
   },
   "outputs": [],
   "source": [
    "# Identify the store with the maximum count of neighboring stores within 10 km\n",
    "store_with_most_neighbors = within_10km_counts.idxmax()\n",
    "max_neighbors_count = within_10km_counts.max()"
   ]
  },
  {
   "cell_type": "code",
   "execution_count": 33,
   "id": "b75a3d66",
   "metadata": {
    "ExecuteTime": {
     "end_time": "2024-06-08T07:06:04.144455Z",
     "start_time": "2024-06-08T07:06:04.131587Z"
    }
   },
   "outputs": [],
   "source": [
    "result_10km = pd.DataFrame({\n",
    "    \"Store\": [store_with_most_neighbors],\n",
    "    \"Number of Stores within 10 km\": [max_neighbors_count]\n",
    "})"
   ]
  },
  {
   "cell_type": "code",
   "execution_count": 34,
   "id": "d24338d9",
   "metadata": {
    "ExecuteTime": {
     "end_time": "2024-06-08T07:06:20.060703Z",
     "start_time": "2024-06-08T07:06:20.038779Z"
    }
   },
   "outputs": [
    {
     "data": {
      "text/html": [
       "<div>\n",
       "<style scoped>\n",
       "    .dataframe tbody tr th:only-of-type {\n",
       "        vertical-align: middle;\n",
       "    }\n",
       "\n",
       "    .dataframe tbody tr th {\n",
       "        vertical-align: top;\n",
       "    }\n",
       "\n",
       "    .dataframe thead th {\n",
       "        text-align: right;\n",
       "    }\n",
       "</style>\n",
       "<table border=\"1\" class=\"dataframe\">\n",
       "  <thead>\n",
       "    <tr style=\"text-align: right;\">\n",
       "      <th></th>\n",
       "      <th>Store</th>\n",
       "      <th>Number of Stores within 10 km</th>\n",
       "    </tr>\n",
       "  </thead>\n",
       "  <tbody>\n",
       "    <tr>\n",
       "      <th>0</th>\n",
       "      <td>2800</td>\n",
       "      <td>21</td>\n",
       "    </tr>\n",
       "  </tbody>\n",
       "</table>\n",
       "</div>"
      ],
      "text/plain": [
       "   Store  Number of Stores within 10 km\n",
       "0   2800                             21"
      ]
     },
     "execution_count": 34,
     "metadata": {},
     "output_type": "execute_result"
    }
   ],
   "source": [
    "result_10km"
   ]
  },
  {
   "cell_type": "code",
   "execution_count": null,
   "id": "de634855",
   "metadata": {},
   "outputs": [],
   "source": []
  }
 ],
 "metadata": {
  "kernelspec": {
   "display_name": "Python 3 (ipykernel)",
   "language": "python",
   "name": "python3"
  },
  "language_info": {
   "codemirror_mode": {
    "name": "ipython",
    "version": 3
   },
   "file_extension": ".py",
   "mimetype": "text/x-python",
   "name": "python",
   "nbconvert_exporter": "python",
   "pygments_lexer": "ipython3",
   "version": "3.9.12"
  },
  "toc": {
   "base_numbering": 1,
   "nav_menu": {},
   "number_sections": true,
   "sideBar": true,
   "skip_h1_title": false,
   "title_cell": "Table of Contents",
   "title_sidebar": "Contents",
   "toc_cell": false,
   "toc_position": {},
   "toc_section_display": true,
   "toc_window_display": false
  },
  "varInspector": {
   "cols": {
    "lenName": 16,
    "lenType": 16,
    "lenVar": 40
   },
   "kernels_config": {
    "python": {
     "delete_cmd_postfix": "",
     "delete_cmd_prefix": "del ",
     "library": "var_list.py",
     "varRefreshCmd": "print(var_dic_list())"
    },
    "r": {
     "delete_cmd_postfix": ") ",
     "delete_cmd_prefix": "rm(",
     "library": "var_list.r",
     "varRefreshCmd": "cat(var_dic_list()) "
    }
   },
   "types_to_exclude": [
    "module",
    "function",
    "builtin_function_or_method",
    "instance",
    "_Feature"
   ],
   "window_display": false
  }
 },
 "nbformat": 4,
 "nbformat_minor": 5
}
