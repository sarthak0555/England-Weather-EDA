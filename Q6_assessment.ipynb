{
 "cells": [
  {
   "cell_type": "code",
   "execution_count": 6,
   "id": "6c387da3",
   "metadata": {
    "ExecuteTime": {
     "end_time": "2024-06-08T08:16:09.199709Z",
     "start_time": "2024-06-08T08:16:09.189862Z"
    }
   },
   "outputs": [],
   "source": [
    "#A"
   ]
  },
  {
   "cell_type": "code",
   "execution_count": 7,
   "id": "b0b196e8",
   "metadata": {
    "ExecuteTime": {
     "end_time": "2024-06-08T08:16:09.567158Z",
     "start_time": "2024-06-08T08:16:09.558004Z"
    }
   },
   "outputs": [],
   "source": [
    "import pandas as pd"
   ]
  },
  {
   "cell_type": "code",
   "execution_count": 8,
   "id": "81fcc555",
   "metadata": {
    "ExecuteTime": {
     "end_time": "2024-06-08T08:16:10.509649Z",
     "start_time": "2024-06-08T08:16:09.935663Z"
    }
   },
   "outputs": [],
   "source": [
    "# Load the variables data\n",
    "df = pd.read_excel('/Users/sarthakchawla/Downloads/variables.xlsx')"
   ]
  },
  {
   "cell_type": "code",
   "execution_count": 9,
   "id": "573e2347",
   "metadata": {
    "ExecuteTime": {
     "end_time": "2024-06-08T08:16:11.431390Z",
     "start_time": "2024-06-08T08:16:11.345510Z"
    }
   },
   "outputs": [],
   "source": [
    "# Calculating the Pearson correlation coefficient matrix\n",
    "correlation_matrix = df.corr()"
   ]
  },
  {
   "cell_type": "code",
   "execution_count": 10,
   "id": "5923e554",
   "metadata": {
    "ExecuteTime": {
     "end_time": "2024-06-08T08:16:19.125443Z",
     "start_time": "2024-06-08T08:16:19.116841Z"
    }
   },
   "outputs": [],
   "source": [
    "# Exclude the diagonal by replacing it with NaN\n",
    "np.fill_diagonal(correlation_matrix.values, np.nan)"
   ]
  },
  {
   "cell_type": "code",
   "execution_count": 11,
   "id": "6813db4c",
   "metadata": {
    "ExecuteTime": {
     "end_time": "2024-06-08T08:16:19.837498Z",
     "start_time": "2024-06-08T08:16:19.787564Z"
    }
   },
   "outputs": [
    {
     "data": {
      "text/plain": [
       "(('x770', 'x973'), -0.7400955657607386)"
      ]
     },
     "execution_count": 11,
     "metadata": {},
     "output_type": "execute_result"
    }
   ],
   "source": [
    "# Finding the two variables with the greatest negative Pearson correlation coefficient\n",
    "min_corr_pair = correlation_matrix.stack().idxmin()\n",
    "min_corr_value = correlation_matrix.loc[min_corr_pair]\n",
    "\n",
    "min_corr_pair, min_corr_value"
   ]
  },
  {
   "cell_type": "code",
   "execution_count": 12,
   "id": "d78ebb4b",
   "metadata": {
    "ExecuteTime": {
     "end_time": "2024-06-08T08:17:23.717946Z",
     "start_time": "2024-06-08T08:17:23.710363Z"
    }
   },
   "outputs": [],
   "source": [
    "#B"
   ]
  },
  {
   "cell_type": "code",
   "execution_count": 13,
   "id": "e1c0215f",
   "metadata": {
    "ExecuteTime": {
     "end_time": "2024-06-08T08:17:29.602466Z",
     "start_time": "2024-06-08T08:17:29.570054Z"
    }
   },
   "outputs": [],
   "source": [
    "# Finding the two variables with the greatest positive Pearson correlation coefficient (excluding the diagonal)\n",
    "max_corr_pair = correlation_matrix.stack().idxmax()\n",
    "max_corr_value = correlation_matrix.loc[max_corr_pair]"
   ]
  },
  {
   "cell_type": "code",
   "execution_count": 14,
   "id": "b23eeee7",
   "metadata": {
    "ExecuteTime": {
     "end_time": "2024-06-08T08:18:02.883205Z",
     "start_time": "2024-06-08T08:18:02.873926Z"
    }
   },
   "outputs": [
    {
     "data": {
      "text/plain": [
       "(('x495', 'x862'), 0.74342798852782)"
      ]
     },
     "execution_count": 14,
     "metadata": {},
     "output_type": "execute_result"
    }
   ],
   "source": [
    "max_corr_pair, max_corr_value"
   ]
  },
  {
   "cell_type": "code",
   "execution_count": 15,
   "id": "c5d3830e",
   "metadata": {
    "ExecuteTime": {
     "end_time": "2024-06-08T08:21:04.990680Z",
     "start_time": "2024-06-08T08:21:04.986271Z"
    }
   },
   "outputs": [],
   "source": [
    "#C"
   ]
  },
  {
   "cell_type": "code",
   "execution_count": 16,
   "id": "969c2200",
   "metadata": {
    "ExecuteTime": {
     "end_time": "2024-06-08T08:21:15.560701Z",
     "start_time": "2024-06-08T08:21:15.528780Z"
    }
   },
   "outputs": [],
   "source": [
    "# Finding the two variables with the smallest (closest to zero) Pearson correlation coefficient\n",
    "closest_to_zero_corr_pair = correlation_matrix.stack().abs().idxmin()\n",
    "closest_to_zero_corr_value = correlation_matrix.loc[closest_to_zero_corr_pair]"
   ]
  },
  {
   "cell_type": "code",
   "execution_count": 17,
   "id": "d9ce0bd9",
   "metadata": {
    "ExecuteTime": {
     "end_time": "2024-06-08T08:21:37.038202Z",
     "start_time": "2024-06-08T08:21:37.027689Z"
    }
   },
   "outputs": [
    {
     "data": {
      "text/plain": [
       "(('x2', 'x277'), -1.5951311498894445e-07)"
      ]
     },
     "execution_count": 17,
     "metadata": {},
     "output_type": "execute_result"
    }
   ],
   "source": [
    "closest_to_zero_corr_pair, closest_to_zero_corr_value"
   ]
  },
  {
   "cell_type": "code",
   "execution_count": null,
   "id": "3f8560e5",
   "metadata": {},
   "outputs": [],
   "source": []
  }
 ],
 "metadata": {
  "kernelspec": {
   "display_name": "Python 3 (ipykernel)",
   "language": "python",
   "name": "python3"
  },
  "language_info": {
   "codemirror_mode": {
    "name": "ipython",
    "version": 3
   },
   "file_extension": ".py",
   "mimetype": "text/x-python",
   "name": "python",
   "nbconvert_exporter": "python",
   "pygments_lexer": "ipython3",
   "version": "3.9.12"
  },
  "toc": {
   "base_numbering": 1,
   "nav_menu": {},
   "number_sections": true,
   "sideBar": true,
   "skip_h1_title": false,
   "title_cell": "Table of Contents",
   "title_sidebar": "Contents",
   "toc_cell": false,
   "toc_position": {},
   "toc_section_display": true,
   "toc_window_display": false
  },
  "varInspector": {
   "cols": {
    "lenName": 16,
    "lenType": 16,
    "lenVar": 40
   },
   "kernels_config": {
    "python": {
     "delete_cmd_postfix": "",
     "delete_cmd_prefix": "del ",
     "library": "var_list.py",
     "varRefreshCmd": "print(var_dic_list())"
    },
    "r": {
     "delete_cmd_postfix": ") ",
     "delete_cmd_prefix": "rm(",
     "library": "var_list.r",
     "varRefreshCmd": "cat(var_dic_list()) "
    }
   },
   "types_to_exclude": [
    "module",
    "function",
    "builtin_function_or_method",
    "instance",
    "_Feature"
   ],
   "window_display": false
  }
 },
 "nbformat": 4,
 "nbformat_minor": 5
}
