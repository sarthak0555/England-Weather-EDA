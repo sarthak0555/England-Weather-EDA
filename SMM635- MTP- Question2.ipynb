{
 "cells": [
  {
   "cell_type": "markdown",
   "id": "a9f3e554",
   "metadata": {},
   "source": [
    "# Question 2 - Heatmap - Group 11"
   ]
  },
  {
   "cell_type": "code",
   "execution_count": 1,
   "id": "d8e023db",
   "metadata": {},
   "outputs": [],
   "source": [
    "import numpy as np \n",
    "import pandas as pd\n",
    "import matplotlib as mlt \n",
    "import matplotlib.pyplot as plt\n",
    "\n",
    "from matplotlib.cm import get_cmap\n",
    "from matplotlib.patches import Patch"
   ]
  },
  {
   "cell_type": "code",
   "execution_count": 2,
   "id": "c9995c4e",
   "metadata": {},
   "outputs": [
    {
     "data": {
      "text/plain": [
       "array(['Production       ', 'IT/IS', 'Software Engineering',\n",
       "       'Admin Offices', 'Sales', 'Executive Office'], dtype=object)"
      ]
     },
     "execution_count": 2,
     "metadata": {},
     "output_type": "execute_result"
    }
   ],
   "source": [
    "df = pd.read_csv('HRDataset_v14.csv')\n",
    "df['Dummy'] = np.ones(311)\n",
    "df=df[['RaceDesc','Department','Sex','Dummy']]\n",
    "df['Department'].unique()"
   ]
  },
  {
   "cell_type": "code",
   "execution_count": 3,
   "id": "3a5290b0",
   "metadata": {},
   "outputs": [],
   "source": [
    "dfa=df[df['RaceDesc']=='Asian'].reset_index()\n",
    "dfa['Department'].unique()\n",
    "new_row = {'RaceDesc':'Asian', 'Department':'Admin Offices', 'F':0, 'M':0}"
   ]
  },
  {
   "cell_type": "code",
   "execution_count": 4,
   "id": "7a3b5c2e",
   "metadata": {},
   "outputs": [],
   "source": [
    "grouped = df.groupby(by=['RaceDesc','Department'])['Sex'].count().unstack()\n",
    "grouped.to_csv('ques2.csv')\n",
    "grouped = pd.read_csv('ques2.csv')\n",
    "data = grouped.drop('RaceDesc',axis=1)\n",
    "data=data.to_numpy(copy=True)"
   ]
  },
  {
   "cell_type": "code",
   "execution_count": 5,
   "id": "ab8853c4",
   "metadata": {},
   "outputs": [
    {
     "data": {
      "text/html": [
       "<div>\n",
       "<style scoped>\n",
       "    .dataframe tbody tr th:only-of-type {\n",
       "        vertical-align: middle;\n",
       "    }\n",
       "\n",
       "    .dataframe tbody tr th {\n",
       "        vertical-align: top;\n",
       "    }\n",
       "\n",
       "    .dataframe thead th {\n",
       "        text-align: right;\n",
       "    }\n",
       "</style>\n",
       "<table border=\"1\" class=\"dataframe\">\n",
       "  <thead>\n",
       "    <tr style=\"text-align: right;\">\n",
       "      <th></th>\n",
       "      <th>RaceDesc</th>\n",
       "      <th>Admin Offices</th>\n",
       "      <th>Executive Office</th>\n",
       "      <th>IT/IS</th>\n",
       "      <th>Production</th>\n",
       "      <th>Sales</th>\n",
       "      <th>Software Engineering</th>\n",
       "    </tr>\n",
       "  </thead>\n",
       "  <tbody>\n",
       "    <tr>\n",
       "      <th>0</th>\n",
       "      <td>American Indian or Alaska Native</td>\n",
       "      <td>NaN</td>\n",
       "      <td>NaN</td>\n",
       "      <td>NaN</td>\n",
       "      <td>2.0</td>\n",
       "      <td>1.0</td>\n",
       "      <td>NaN</td>\n",
       "    </tr>\n",
       "    <tr>\n",
       "      <th>1</th>\n",
       "      <td>Asian</td>\n",
       "      <td>NaN</td>\n",
       "      <td>NaN</td>\n",
       "      <td>6.0</td>\n",
       "      <td>21.0</td>\n",
       "      <td>1.0</td>\n",
       "      <td>1.0</td>\n",
       "    </tr>\n",
       "    <tr>\n",
       "      <th>2</th>\n",
       "      <td>Black or African American</td>\n",
       "      <td>5.0</td>\n",
       "      <td>NaN</td>\n",
       "      <td>15.0</td>\n",
       "      <td>45.0</td>\n",
       "      <td>10.0</td>\n",
       "      <td>5.0</td>\n",
       "    </tr>\n",
       "    <tr>\n",
       "      <th>3</th>\n",
       "      <td>Hispanic</td>\n",
       "      <td>NaN</td>\n",
       "      <td>NaN</td>\n",
       "      <td>NaN</td>\n",
       "      <td>1.0</td>\n",
       "      <td>NaN</td>\n",
       "      <td>NaN</td>\n",
       "    </tr>\n",
       "    <tr>\n",
       "      <th>4</th>\n",
       "      <td>Two or more races</td>\n",
       "      <td>NaN</td>\n",
       "      <td>NaN</td>\n",
       "      <td>NaN</td>\n",
       "      <td>6.0</td>\n",
       "      <td>5.0</td>\n",
       "      <td>NaN</td>\n",
       "    </tr>\n",
       "    <tr>\n",
       "      <th>5</th>\n",
       "      <td>White</td>\n",
       "      <td>4.0</td>\n",
       "      <td>1.0</td>\n",
       "      <td>29.0</td>\n",
       "      <td>134.0</td>\n",
       "      <td>14.0</td>\n",
       "      <td>5.0</td>\n",
       "    </tr>\n",
       "  </tbody>\n",
       "</table>\n",
       "</div>"
      ],
      "text/plain": [
       "                           RaceDesc  Admin Offices  Executive Office  IT/IS  \\\n",
       "0  American Indian or Alaska Native            NaN               NaN    NaN   \n",
       "1                             Asian            NaN               NaN    6.0   \n",
       "2         Black or African American            5.0               NaN   15.0   \n",
       "3                          Hispanic            NaN               NaN    NaN   \n",
       "4                 Two or more races            NaN               NaN    NaN   \n",
       "5                             White            4.0               1.0   29.0   \n",
       "\n",
       "   Production         Sales  Software Engineering  \n",
       "0                2.0    1.0                   NaN  \n",
       "1               21.0    1.0                   1.0  \n",
       "2               45.0   10.0                   5.0  \n",
       "3                1.0    NaN                   NaN  \n",
       "4                6.0    5.0                   NaN  \n",
       "5              134.0   14.0                   5.0  "
      ]
     },
     "execution_count": 5,
     "metadata": {},
     "output_type": "execute_result"
    }
   ],
   "source": [
    "grouped"
   ]
  },
  {
   "cell_type": "code",
   "execution_count": 6,
   "id": "07c126d1",
   "metadata": {},
   "outputs": [
    {
     "data": {
      "text/plain": [
       "['Admin Offices',\n",
       " 'Executive Office',\n",
       " 'IT/IS',\n",
       " 'Production       ',\n",
       " 'Sales',\n",
       " 'Software Engineering']"
      ]
     },
     "execution_count": 6,
     "metadata": {},
     "output_type": "execute_result"
    }
   ],
   "source": [
    "dept = list(grouped)\n",
    "dept[1:]"
   ]
  },
  {
   "cell_type": "code",
   "execution_count": 7,
   "id": "8dd64f37",
   "metadata": {},
   "outputs": [],
   "source": [
    "race = list(grouped['RaceDesc'].values)"
   ]
  },
  {
   "cell_type": "code",
   "execution_count": 9,
   "id": "c03ac278",
   "metadata": {},
   "outputs": [
    {
     "data": {
      "image/png": "[encoded data removed]",
      "text/plain": [
       "<Figure size 1080x720 with 2 Axes>"
      ]
     },
     "metadata": {
      "needs_background": "light"
     },
     "output_type": "display_data"
    }
   ],
   "source": [
    "def heatmap(data, row_labels, col_labels, ax=None,\n",
    "            cbar_kw=None, cbarlabel=\"\", **kwargs):\n",
    "\n",
    "    if ax is None:\n",
    "        ax = plt.gca()\n",
    "\n",
    "    if cbar_kw is None:\n",
    "        cbar_kw = {}\n",
    "\n",
    "    # Plot the heatmap\n",
    "    im = ax.imshow(data, **kwargs)\n",
    "\n",
    "    # Create colorbar\n",
    "    cbar = ax.figure.colorbar(im, ax=ax, **cbar_kw)\n",
    "    cbar.ax.set_ylabel(cbarlabel, rotation=-90, va=\"bottom\")\n",
    "\n",
    "    # Show all ticks and label them with the respective list entries.\n",
    "    ax.set_xticks(np.arange(data.shape[1]), labels=col_labels)\n",
    "    ax.set_yticks(np.arange(data.shape[0]), labels=row_labels)\n",
    "\n",
    "    # Let the horizontal axes labeling appear on top.\n",
    "    ax.tick_params(top=True, bottom=False,\n",
    "                   labeltop=True, labelbottom=False)\n",
    "\n",
    "    # Rotate the tick labels and set their alignment.\n",
    "    plt.setp(ax.get_xticklabels(), rotation=-30, ha=\"right\",\n",
    "             rotation_mode=\"anchor\")\n",
    "\n",
    "    # Turn spines off and create white grid.\n",
    "    ax.spines[:].set_visible(False)\n",
    "\n",
    "    ax.set_xticks(np.arange(data.shape[1]+1)-.5, minor=True)\n",
    "    ax.set_yticks(np.arange(data.shape[0]+1)-.5, minor=True)\n",
    "    ax.grid(which=\"minor\", color=\"w\", linestyle='-', linewidth=3)\n",
    "    ax.tick_params(which=\"minor\", bottom=False, left=False)\n",
    "\n",
    "    return im, cbar\n",
    "\n",
    "\n",
    "def annotate_heatmap(im, data=None, valfmt=\"{x:.2f}\",\n",
    "                     textcolors=( \"black\",  \"white\"),\n",
    "                     threshold=None, **textkw):\n",
    "   \n",
    "    if not isinstance(data, (list, np.ndarray)):\n",
    "        data = im.get_array()\n",
    "\n",
    "    # Normalize the threshold to the images color range.\n",
    "    if threshold is not None:\n",
    "        threshold = im.norm(threshold)\n",
    "    else:\n",
    "        threshold = im.norm(data.max())/2.\n",
    "\n",
    "    # Set default alignment to center, but allow it to be\n",
    "    # overwritten by textkw.\n",
    "    kw = dict(horizontalalignment=\"center\",\n",
    "              verticalalignment=\"center\")\n",
    "    kw.update(textkw)\n",
    "\n",
    "    # Get the formatter in case a string is supplied\n",
    "    if isinstance(valfmt, str):\n",
    "        valfmt = mlt.ticker.StrMethodFormatter(valfmt)\n",
    "\n",
    "    # Loop over the data and create a `Text` for each \"pixel\".\n",
    "    # Change the text's color depending on the data.\n",
    "    texts = []\n",
    "    for i in range(data.shape[0]):\n",
    "        for j in range(data.shape[1]):\n",
    "            kw.update(color=textcolors[int(im.norm(data[i, j]) > threshold)])\n",
    "            text = im.axes.text(j, i, valfmt(data[i, j], None), **kw)\n",
    "            texts.append(text)\n",
    "\n",
    "    return texts\n",
    "fig = plt.figure(figsize=(15,10))\n",
    "ax=fig.add_subplot(111)\n",
    "ax.grid(False)\n",
    "im, cbar = heatmap(data, race, dept[1:], ax=ax,\n",
    "                   cmap=\"Spectral\", cbarlabel=\"\")\n",
    "texts = annotate_heatmap(im, valfmt=\"{x:.1f}\")\n",
    "plt.title(\"Diversity profile of the organisation\" ,fontsize=20,\n",
    "          color=\"black\", loc=\"center\")\n",
    "fig.tight_layout()\n",
    "plt.savefig('Second.png')\n",
    "plt.show()"
   ]
  },
  {
   "cell_type": "code",
   "execution_count": null,
   "id": "ea88fd2d",
   "metadata": {},
   "outputs": [],
   "source": []
  },
  {
   "cell_type": "code",
   "execution_count": null,
   "id": "dee4ec22",
   "metadata": {},
   "outputs": [],
   "source": []
  },
  {
   "cell_type": "code",
   "execution_count": null,
   "id": "b6ab7061",
   "metadata": {},
   "outputs": [],
   "source": [
    "\n",
    "\n",
    "\n"
   ]
  },
  {
   "cell_type": "code",
   "execution_count": null,
   "id": "979aeadb",
   "metadata": {},
   "outputs": [],
   "source": []
  },
  {
   "cell_type": "code",
   "execution_count": null,
   "id": "f0431161",
   "metadata": {},
   "outputs": [],
   "source": []
  },
  {
   "cell_type": "code",
   "execution_count": null,
   "id": "41700958",
   "metadata": {},
   "outputs": [],
   "source": []
  }
 ],
 "metadata": {
  "kernelspec": {
   "display_name": "Python 3 (ipykernel)",
   "language": "python",
   "name": "python3"
  },
  "language_info": {
   "codemirror_mode": {
    "name": "ipython",
    "version": 3
   },
   "file_extension": ".py",
   "mimetype": "text/x-python",
   "name": "python",
   "nbconvert_exporter": "python",
   "pygments_lexer": "ipython3",
   "version": "3.9.12"
  }
 },
 "nbformat": 4,
 "nbformat_minor": 5
}
